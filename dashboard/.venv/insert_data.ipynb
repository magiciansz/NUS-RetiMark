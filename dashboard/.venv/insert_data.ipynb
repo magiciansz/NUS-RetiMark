{
 "cells": [
  {
   "cell_type": "code",
   "execution_count": 2,
   "metadata": {},
   "outputs": [],
   "source": [
    "import base64\n",
    "import csv\n",
    "import datetime\n",
    "# import magic\n",
    "import numpy as np\n",
    "import pandas as pd\n",
    "from PIL import Image\n",
    "import os\n",
    "import random\n",
    "import requests\n",
    "import time\n",
    "# from home import get_region_from_UTC_offset\n"
   ]
  },
  {
   "cell_type": "code",
   "execution_count": 3,
   "metadata": {},
   "outputs": [],
   "source": [
    "def get_region_from_UTC_offset(val):\n",
    "    regions = {\"+08\": \"Asia/Singapore\", \"+09\": \"Asia/Tokyo\"}\n",
    "    return regions[val]"
   ]
  },
  {
   "cell_type": "code",
   "execution_count": 8,
   "metadata": {},
   "outputs": [],
   "source": [
    "#GLOBALS\n",
    "tz_string = get_region_from_UTC_offset(datetime.datetime.now().astimezone().tzname())\n",
    "token = \"\""
   ]
  },
  {
   "cell_type": "code",
   "execution_count": 5,
   "metadata": {},
   "outputs": [],
   "source": [
    "def createPatient(dob, sex, name, left_img_path, right_img_path, lds, ldp, rds, rdp, lop, rop, lgp, rgp, doctors_notes, pdf_path):\n",
    "        ##BEGIN API CALL\n",
    "        # tz_string = datetime.datetime.now().astimezone().tzinfo\n",
    "        # tz_string = 'Asia/Singapore'\n",
    "        API_ENDPOINT = \"http://staging-alb-840547905.ap-southeast-1.elb.amazonaws.com/api/v1/patient\"\n",
    "        # PARAMS = {'timezone':tz_string}\n",
    "        # HEADERS={\"Content-Type\": \"application/json\"}\n",
    "        HEADERS = {\n",
    "            \"Authorization\": \"Bearer \" + token\n",
    "        }\n",
    "        data = {\n",
    "            \"date_of_birth\": dob,\n",
    "            \"sex\":sex,\n",
    "            \"name\":name,\n",
    "            \"left_diabetic_retinopathy_stage\":lds,\n",
    "            \"left_diabetic_retinopathy_prob\": ldp,\n",
    "            \"right_diabetic_retinopathy_stage\": rds,\n",
    "            \"right_diabetic_retinopathy_prob\": rdp,\n",
    "            \"left_ocular_prob\": lop,\n",
    "            \"right_ocular_prob\": rop,\n",
    "            \"left_glaucoma_prob\":lgp,\n",
    "            \"right_glaucoma_prob\":rgp,\n",
    "            \"doctor_notes\": doctors_notes,\n",
    "            # 'report_pdf':open(pdf_path, 'rb'),\n",
    "            # 'left_eye_image':open(left_img_path, 'rb').read(),\n",
    "            # 'right_eye_image':open(right_img_path, 'rb').read()\n",
    "        }\n",
    "        # files ={\n",
    "        #     'report_pdf':open(pdf_path, 'rb'),\n",
    "        #     'left_eye_image':open(left_img_path, 'rb'),\n",
    "        #     'right_eye_image':open(right_img_path, 'rb')\n",
    "        # }\n",
    "        files ={\n",
    "            'report_pdf': ('report.pdf', open(pdf_path, 'rb'), 'application/pdf'),\n",
    "            'left_eye_image': ('test_l.png', open(left_img_path, 'rb'), 'image/png'),\n",
    "            'right_eye_image':('test_r.png', open(right_img_path, 'rb'), 'image/png')\n",
    "        }\n",
    "        try:\n",
    "            # r = requests.post(url=API_ENDPOINT, params=PARAMS, json=data)\n",
    "            r = requests.post(url=API_ENDPOINT, headers=HEADERS, data=data, files=files)\n",
    "            r.raise_for_status()\n",
    "\n",
    "        except requests.exceptions.HTTPError as err:\n",
    "            print(r.json())\n",
    "            print(\"Oops, something went wrong, please contact your administrator: \" + str(err))\n",
    "        else:\n",
    "            print(\"Success\")\n",
    "            # st.experimental_rerun()\n",
    "            return True\n",
    "\n",
    "    ##END API CALL"
   ]
  },
  {
   "cell_type": "code",
   "execution_count": 6,
   "metadata": {},
   "outputs": [],
   "source": [
    "def patchPatient(id, left_img_path, right_img_path, lds, ldp, rds, rdp, lop, rop, lgp, rgp, doctors_notes, pdf_path):\n",
    "        ##BEGIN API CALL\n",
    "        # tz_string = datetime.datetime.now().astimezone().tzinfo\n",
    "        # tz_string = 'Asia/Singapore'\n",
    "        API_ENDPOINT = \"http://staging-alb-840547905.ap-southeast-1.elb.amazonaws.com/api/v1/patient/\" + str(id)\n",
    "        # PARAMS = {'timezone':tz_string}\n",
    "        # HEADERS={\"Content-Type\": \"application/json\"}\n",
    "        HEADERS = {\n",
    "            \"Authorization\": \"Bearer \" + token\n",
    "        }\n",
    "        data = {\n",
    "            \"left_diabetic_retinopathy_stage\":lds,\n",
    "            \"left_diabetic_retinopathy_prob\": ldp,\n",
    "            \"right_diabetic_retinopathy_stage\": rds,\n",
    "            \"right_diabetic_retinopathy_prob\": rdp,\n",
    "            \"left_ocular_prob\": lop,\n",
    "            \"right_ocular_prob\": rop,\n",
    "            \"left_glaucoma_prob\":lgp,\n",
    "            \"right_glaucoma_prob\":rgp,\n",
    "            \"doctor_notes\": doctors_notes,\n",
    "            # 'report_pdf':open(pdf_path, 'rb'),\n",
    "            # 'left_eye_image':open(left_img_path, 'rb').read(),\n",
    "            # 'right_eye_image':open(right_img_path, 'rb').read()\n",
    "        }\n",
    "        # files ={\n",
    "        #     'report_pdf':open(pdf_path, 'rb'),\n",
    "        #     'left_eye_image':open(left_img_path, 'rb'),\n",
    "        #     'right_eye_image':open(right_img_path, 'rb')\n",
    "        # }\n",
    "        files ={\n",
    "            'report_pdf': ('report.pdf', open(pdf_path, 'rb'), 'application/pdf'),\n",
    "            'left_eye_image': ('test_l.png', open(left_img_path, 'rb'), 'image/png'),\n",
    "            'right_eye_image':('test_r.png', open(right_img_path, 'rb'), 'image/png')\n",
    "        }\n",
    "        try:\n",
    "            # r = requests.post(url=API_ENDPOINT, params=PARAMS, json=data)\n",
    "            r = requests.patch(url=API_ENDPOINT, headers=HEADERS, data=data, files=files)\n",
    "            r.raise_for_status()\n",
    "\n",
    "        except requests.exceptions.HTTPError as err:\n",
    "            print(r.json())\n",
    "            print(\"Oops, something went wrong, please contact your administrator: \" + str(err))\n",
    "        else:\n",
    "            print(\"Success\")\n",
    "            # st.experimental_rerun()\n",
    "            return True\n",
    "\n",
    "    ##END API CALL"
   ]
  },
  {
   "cell_type": "code",
   "execution_count": 7,
   "metadata": {},
   "outputs": [
    {
     "name": "stdout",
     "output_type": "stream",
     "text": [
      "{'status': 401, 'message': 'Please authenticate', 'stack': ['Error: Please authenticate', '    at /usr/src/app/app/middlewares/auth.js:7:19', '    at allFailed (/usr/src/app/node_modules/passport/lib/middleware/authenticate.js:110:18)', '    at attempt (/usr/src/app/node_modules/passport/lib/middleware/authenticate.js:183:28)', '    at JwtStrategy.strategy.fail (/usr/src/app/node_modules/passport/lib/middleware/authenticate.js:305:9)', '    at /usr/src/app/node_modules/passport-jwt/lib/strategy.js:106:33', '    at /usr/src/app/node_modules/jsonwebtoken/verify.js:190:16', '    at getSecret (/usr/src/app/node_modules/jsonwebtoken/verify.js:97:14)', '    at Object.module.exports [as verify] (/usr/src/app/node_modules/jsonwebtoken/verify.js:101:10)', '    at Function.module.exports [as JwtVerifier] (/usr/src/app/node_modules/passport-jwt/lib/verify_jwt.js:4:16)', '    at /usr/src/app/node_modules/passport-jwt/lib/strategy.js:104:25']}\n",
      "Oops, something went wrong, please contact your administrator: 401 Client Error: Unauthorized for url: http://staging-alb-840547905.ap-southeast-1.elb.amazonaws.com/api/v1/patient\n"
     ]
    }
   ],
   "source": [
    "createPatient(\"1989-12-07\", \"M\", \"Gojo Satoru\", \"../fundus-images/test_l.png\", \"../fundus-images/test_r.png\", 1, 0.5, 1, 0.5, 0.3, 0.3, 0.3, 0.2, \"limitless eye\", \"../report.pdf\")"
   ]
  },
  {
   "cell_type": "code",
   "execution_count": 9,
   "metadata": {},
   "outputs": [
    {
     "name": "stdout",
     "output_type": "stream",
     "text": [
      "Success\n"
     ]
    },
    {
     "data": {
      "text/plain": [
       "True"
      ]
     },
     "execution_count": 9,
     "metadata": {},
     "output_type": "execute_result"
    }
   ],
   "source": [
    "patchPatient(1, \"../fundus-images/test_l.png\", \"../fundus-images/test_r.png\", 1, 0.5, 1, 0.5, 0.3, 0.3, 0.3, 0.2, \"limitless eye\", \"../report.pdf\")"
   ]
  },
  {
   "cell_type": "code",
   "execution_count": 76,
   "metadata": {},
   "outputs": [
    {
     "name": "stdout",
     "output_type": "stream",
     "text": [
      "['\\ufeffid', 'name', 'age', 'sex', 'birthday', 'last_upload_date', 'version', 'last_diagnosed_date', 'left_eye_image', 'right_eye_image', 'l_d_s', 'r_d_s', 'left_diabetic_retinopathy_stage_0', 'left_diabetic_retinopathy_stage_1', 'left_diabetic_retinopathy_stage_2', 'left_diabetic_retinopathy_stage_3', 'left_diabetic_retinopathy_stage_4', 'right_diabetic_retinopathy_stage_0', 'right_diabetic_retinopathy_stage_1', 'right_diabetic_retinopathy_stage_2', 'right_diabetic_retinopathy_stage_3', 'right_diabetic_retinopathy_stage_4', 'left_ocular', 'right_ocular', 'left_glaucoma', 'right_glaucoma', 'notes\\n']\n",
      "{'status': 400, 'message': '[{\"type\":\"field\",\"msg\":\"left_diabetic_retinopathy_stage cannot be empty\",\"path\":\"left_diabetic_retinopathy_stage\",\"location\":\"body\"},{\"type\":\"field\",\"msg\":\"left_diabetic_retinopathy_prob cannot be empty\",\"path\":\"left_diabetic_retinopathy_prob\",\"location\":\"body\"},{\"type\":\"field\",\"msg\":\"right_diabetic_retinopathy_stage cannot be empty\",\"path\":\"right_diabetic_retinopathy_stage\",\"location\":\"body\"},{\"type\":\"field\",\"msg\":\"right_diabetic_retinopathy_prob cannot be empty\",\"path\":\"right_diabetic_retinopathy_prob\",\"location\":\"body\"}]', 'stack': ['Error: [{\"type\":\"field\",\"msg\":\"left_diabetic_retinopathy_stage cannot be empty\",\"path\":\"left_diabetic_retinopathy_stage\",\"location\":\"body\"},{\"type\":\"field\",\"msg\":\"left_diabetic_retinopathy_prob cannot be empty\",\"path\":\"left_diabetic_retinopathy_prob\",\"location\":\"body\"},{\"type\":\"field\",\"msg\":\"right_diabetic_retinopathy_stage cannot be empty\",\"path\":\"right_diabetic_retinopathy_stage\",\"location\":\"body\"},{\"type\":\"field\",\"msg\":\"right_diabetic_retinopathy_prob cannot be empty\",\"path\":\"right_diabetic_retinopathy_prob\",\"location\":\"body\"}]', '    at BadRequestError (/usr/src/app/app/middlewares/responseCodes.js:26:19)', '    at validateCreatePatient (/usr/src/app/app/middlewares/validators/PatientValidator.js:109:12)', '    at Layer.handle [as handle_request] (/usr/src/app/node_modules/express/lib/router/layer.js:95:5)', '    at next (/usr/src/app/node_modules/express/lib/router/route.js:137:13)', '    at middleware (/usr/src/app/node_modules/express-validator/src/middlewares/check.js:16:13)', '    at runMicrotasks (<anonymous>)', '    at processTicksAndRejections (internal/process/task_queues.js:95:5)']}\n",
      "Oops, something went wrong, please contact your administrator: 400 Client Error: Bad Request for url: http://staging-alb-840547905.ap-southeast-1.elb.amazonaws.com/api/v1/patient\n"
     ]
    },
    {
     "ename": "KeyboardInterrupt",
     "evalue": "",
     "output_type": "error",
     "traceback": [
      "\u001b[0;31m---------------------------------------------------------------------------\u001b[0m",
      "\u001b[0;31mKeyboardInterrupt\u001b[0m                         Traceback (most recent call last)",
      "\u001b[1;32m/Users/jiajunseah/NUS-RetiMark/dashboard/.venv/insert_data.ipynb Cell 8\u001b[0m line \u001b[0;36m8\n\u001b[1;32m      <a href='vscode-notebook-cell:/Users/jiajunseah/NUS-RetiMark/dashboard/.venv/insert_data.ipynb#X13sZmlsZQ%3D%3D?line=5'>6</a>\u001b[0m i\u001b[39m=\u001b[39m\u001b[39m0\u001b[39m\n\u001b[1;32m      <a href='vscode-notebook-cell:/Users/jiajunseah/NUS-RetiMark/dashboard/.venv/insert_data.ipynb#X13sZmlsZQ%3D%3D?line=6'>7</a>\u001b[0m \u001b[39mfor\u001b[39;00m row \u001b[39min\u001b[39;00m reader_obj:\n\u001b[0;32m----> <a href='vscode-notebook-cell:/Users/jiajunseah/NUS-RetiMark/dashboard/.venv/insert_data.ipynb#X13sZmlsZQ%3D%3D?line=7'>8</a>\u001b[0m   createPatient(row[heading\u001b[39m.\u001b[39;49mindex(\u001b[39m'\u001b[39;49m\u001b[39mbirthday\u001b[39;49m\u001b[39m'\u001b[39;49m)],\n\u001b[1;32m      <a href='vscode-notebook-cell:/Users/jiajunseah/NUS-RetiMark/dashboard/.venv/insert_data.ipynb#X13sZmlsZQ%3D%3D?line=8'>9</a>\u001b[0m                    row[heading\u001b[39m.\u001b[39;49mindex(\u001b[39m'\u001b[39;49m\u001b[39msex\u001b[39;49m\u001b[39m'\u001b[39;49m)],\n\u001b[1;32m     <a href='vscode-notebook-cell:/Users/jiajunseah/NUS-RetiMark/dashboard/.venv/insert_data.ipynb#X13sZmlsZQ%3D%3D?line=9'>10</a>\u001b[0m                    row[heading\u001b[39m.\u001b[39;49mindex(\u001b[39m'\u001b[39;49m\u001b[39mname\u001b[39;49m\u001b[39m'\u001b[39;49m)],\n\u001b[1;32m     <a href='vscode-notebook-cell:/Users/jiajunseah/NUS-RetiMark/dashboard/.venv/insert_data.ipynb#X13sZmlsZQ%3D%3D?line=10'>11</a>\u001b[0m                    \u001b[39m\"\u001b[39;49m\u001b[39m../fundus-images/\u001b[39;49m\u001b[39m\"\u001b[39;49m \u001b[39m+\u001b[39;49m \u001b[39mstr\u001b[39;49m(i) \u001b[39m+\u001b[39;49m\u001b[39m\"\u001b[39;49m\u001b[39m_left.jpg\u001b[39;49m\u001b[39m\"\u001b[39;49m,\n\u001b[1;32m     <a href='vscode-notebook-cell:/Users/jiajunseah/NUS-RetiMark/dashboard/.venv/insert_data.ipynb#X13sZmlsZQ%3D%3D?line=11'>12</a>\u001b[0m                    \u001b[39m\"\u001b[39;49m\u001b[39m../fundus-images/\u001b[39;49m\u001b[39m\"\u001b[39;49m \u001b[39m+\u001b[39;49m \u001b[39mstr\u001b[39;49m(i) \u001b[39m+\u001b[39;49m\u001b[39m\"\u001b[39;49m\u001b[39m_right.jpg\u001b[39;49m\u001b[39m\"\u001b[39;49m,\n\u001b[1;32m     <a href='vscode-notebook-cell:/Users/jiajunseah/NUS-RetiMark/dashboard/.venv/insert_data.ipynb#X13sZmlsZQ%3D%3D?line=12'>13</a>\u001b[0m                    row[heading\u001b[39m.\u001b[39;49mindex(\u001b[39m'\u001b[39;49m\u001b[39ml_d_s\u001b[39;49m\u001b[39m'\u001b[39;49m)],\n\u001b[1;32m     <a href='vscode-notebook-cell:/Users/jiajunseah/NUS-RetiMark/dashboard/.venv/insert_data.ipynb#X13sZmlsZQ%3D%3D?line=13'>14</a>\u001b[0m                    row[heading\u001b[39m.\u001b[39;49mindex(\u001b[39m'\u001b[39;49m\u001b[39mleft_diabetic_retinopathy_stage_0\u001b[39;49m\u001b[39m'\u001b[39;49m)],\n\u001b[1;32m     <a href='vscode-notebook-cell:/Users/jiajunseah/NUS-RetiMark/dashboard/.venv/insert_data.ipynb#X13sZmlsZQ%3D%3D?line=14'>15</a>\u001b[0m                     row[heading\u001b[39m.\u001b[39;49mindex(\u001b[39m'\u001b[39;49m\u001b[39mr_d_s\u001b[39;49m\u001b[39m'\u001b[39;49m)\u001b[39m-\u001b[39;49m\u001b[39m1\u001b[39;49m],\n\u001b[1;32m     <a href='vscode-notebook-cell:/Users/jiajunseah/NUS-RetiMark/dashboard/.venv/insert_data.ipynb#X13sZmlsZQ%3D%3D?line=15'>16</a>\u001b[0m                     row[heading\u001b[39m.\u001b[39;49mindex(\u001b[39m'\u001b[39;49m\u001b[39mright_diabetic_retinopathy_stage_0\u001b[39;49m\u001b[39m'\u001b[39;49m)],\n\u001b[1;32m     <a href='vscode-notebook-cell:/Users/jiajunseah/NUS-RetiMark/dashboard/.venv/insert_data.ipynb#X13sZmlsZQ%3D%3D?line=16'>17</a>\u001b[0m                    row[heading\u001b[39m.\u001b[39;49mindex(\u001b[39m'\u001b[39;49m\u001b[39mleft_ocular\u001b[39;49m\u001b[39m'\u001b[39;49m)],\n\u001b[1;32m     <a href='vscode-notebook-cell:/Users/jiajunseah/NUS-RetiMark/dashboard/.venv/insert_data.ipynb#X13sZmlsZQ%3D%3D?line=17'>18</a>\u001b[0m                    row[heading\u001b[39m.\u001b[39;49mindex(\u001b[39m'\u001b[39;49m\u001b[39mright_ocular\u001b[39;49m\u001b[39m'\u001b[39;49m)],\n\u001b[1;32m     <a href='vscode-notebook-cell:/Users/jiajunseah/NUS-RetiMark/dashboard/.venv/insert_data.ipynb#X13sZmlsZQ%3D%3D?line=18'>19</a>\u001b[0m                    row[heading\u001b[39m.\u001b[39;49mindex(\u001b[39m'\u001b[39;49m\u001b[39mleft_glaucoma\u001b[39;49m\u001b[39m'\u001b[39;49m)],\n\u001b[1;32m     <a href='vscode-notebook-cell:/Users/jiajunseah/NUS-RetiMark/dashboard/.venv/insert_data.ipynb#X13sZmlsZQ%3D%3D?line=19'>20</a>\u001b[0m                    row[heading\u001b[39m.\u001b[39;49mindex(\u001b[39m'\u001b[39;49m\u001b[39mright_glaucoma\u001b[39;49m\u001b[39m'\u001b[39;49m)],\n\u001b[1;32m     <a href='vscode-notebook-cell:/Users/jiajunseah/NUS-RetiMark/dashboard/.venv/insert_data.ipynb#X13sZmlsZQ%3D%3D?line=20'>21</a>\u001b[0m                    row[heading\u001b[39m.\u001b[39;49mindex(\u001b[39m'\u001b[39;49m\u001b[39mnotes\u001b[39;49m\u001b[39m\\n\u001b[39;49;00m\u001b[39m'\u001b[39;49m)],\n\u001b[1;32m     <a href='vscode-notebook-cell:/Users/jiajunseah/NUS-RetiMark/dashboard/.venv/insert_data.ipynb#X13sZmlsZQ%3D%3D?line=21'>22</a>\u001b[0m                      \u001b[39m\"\u001b[39;49m\u001b[39m../report.pdf\u001b[39;49m\u001b[39m\"\u001b[39;49m)\n\u001b[1;32m     <a href='vscode-notebook-cell:/Users/jiajunseah/NUS-RetiMark/dashboard/.venv/insert_data.ipynb#X13sZmlsZQ%3D%3D?line=22'>23</a>\u001b[0m   i\u001b[39m=\u001b[39mi\u001b[39m+\u001b[39m\u001b[39m1\u001b[39m\n",
      "\u001b[1;32m/Users/jiajunseah/NUS-RetiMark/dashboard/.venv/insert_data.ipynb Cell 8\u001b[0m line \u001b[0;36m4\n\u001b[1;32m     <a href='vscode-notebook-cell:/Users/jiajunseah/NUS-RetiMark/dashboard/.venv/insert_data.ipynb#X13sZmlsZQ%3D%3D?line=32'>33</a>\u001b[0m files \u001b[39m=\u001b[39m{\n\u001b[1;32m     <a href='vscode-notebook-cell:/Users/jiajunseah/NUS-RetiMark/dashboard/.venv/insert_data.ipynb#X13sZmlsZQ%3D%3D?line=33'>34</a>\u001b[0m     \u001b[39m'\u001b[39m\u001b[39mreport_pdf\u001b[39m\u001b[39m'\u001b[39m: (\u001b[39m'\u001b[39m\u001b[39mreport.pdf\u001b[39m\u001b[39m'\u001b[39m, \u001b[39mopen\u001b[39m(pdf_path, \u001b[39m'\u001b[39m\u001b[39mrb\u001b[39m\u001b[39m'\u001b[39m), \u001b[39m'\u001b[39m\u001b[39mapplication/pdf\u001b[39m\u001b[39m'\u001b[39m),\n\u001b[1;32m     <a href='vscode-notebook-cell:/Users/jiajunseah/NUS-RetiMark/dashboard/.venv/insert_data.ipynb#X13sZmlsZQ%3D%3D?line=34'>35</a>\u001b[0m     \u001b[39m'\u001b[39m\u001b[39mleft_eye_image\u001b[39m\u001b[39m'\u001b[39m: (\u001b[39m'\u001b[39m\u001b[39mtest_l.png\u001b[39m\u001b[39m'\u001b[39m, \u001b[39mopen\u001b[39m(left_img_path, \u001b[39m'\u001b[39m\u001b[39mrb\u001b[39m\u001b[39m'\u001b[39m), \u001b[39m'\u001b[39m\u001b[39mimage/png\u001b[39m\u001b[39m'\u001b[39m),\n\u001b[1;32m     <a href='vscode-notebook-cell:/Users/jiajunseah/NUS-RetiMark/dashboard/.venv/insert_data.ipynb#X13sZmlsZQ%3D%3D?line=35'>36</a>\u001b[0m     \u001b[39m'\u001b[39m\u001b[39mright_eye_image\u001b[39m\u001b[39m'\u001b[39m:(\u001b[39m'\u001b[39m\u001b[39mtest_r.png\u001b[39m\u001b[39m'\u001b[39m, \u001b[39mopen\u001b[39m(right_img_path, \u001b[39m'\u001b[39m\u001b[39mrb\u001b[39m\u001b[39m'\u001b[39m), \u001b[39m'\u001b[39m\u001b[39mimage/png\u001b[39m\u001b[39m'\u001b[39m)\n\u001b[1;32m     <a href='vscode-notebook-cell:/Users/jiajunseah/NUS-RetiMark/dashboard/.venv/insert_data.ipynb#X13sZmlsZQ%3D%3D?line=36'>37</a>\u001b[0m }\n\u001b[1;32m     <a href='vscode-notebook-cell:/Users/jiajunseah/NUS-RetiMark/dashboard/.venv/insert_data.ipynb#X13sZmlsZQ%3D%3D?line=37'>38</a>\u001b[0m \u001b[39mtry\u001b[39;00m:\n\u001b[1;32m     <a href='vscode-notebook-cell:/Users/jiajunseah/NUS-RetiMark/dashboard/.venv/insert_data.ipynb#X13sZmlsZQ%3D%3D?line=38'>39</a>\u001b[0m     \u001b[39m# r = requests.post(url=API_ENDPOINT, params=PARAMS, json=data)\u001b[39;00m\n\u001b[0;32m---> <a href='vscode-notebook-cell:/Users/jiajunseah/NUS-RetiMark/dashboard/.venv/insert_data.ipynb#X13sZmlsZQ%3D%3D?line=39'>40</a>\u001b[0m     r \u001b[39m=\u001b[39m requests\u001b[39m.\u001b[39;49mpost(url\u001b[39m=\u001b[39;49mAPI_ENDPOINT, headers\u001b[39m=\u001b[39;49mHEADERS, data\u001b[39m=\u001b[39;49mdata, files\u001b[39m=\u001b[39;49mfiles)\n\u001b[1;32m     <a href='vscode-notebook-cell:/Users/jiajunseah/NUS-RetiMark/dashboard/.venv/insert_data.ipynb#X13sZmlsZQ%3D%3D?line=40'>41</a>\u001b[0m     r\u001b[39m.\u001b[39mraise_for_status()\n\u001b[1;32m     <a href='vscode-notebook-cell:/Users/jiajunseah/NUS-RetiMark/dashboard/.venv/insert_data.ipynb#X13sZmlsZQ%3D%3D?line=42'>43</a>\u001b[0m \u001b[39mexcept\u001b[39;00m requests\u001b[39m.\u001b[39mexceptions\u001b[39m.\u001b[39mHTTPError \u001b[39mas\u001b[39;00m err:\n",
      "File \u001b[0;32m/Library/Frameworks/Python.framework/Versions/3.11/lib/python3.11/site-packages/requests/api.py:115\u001b[0m, in \u001b[0;36mpost\u001b[0;34m(url, data, json, **kwargs)\u001b[0m\n\u001b[1;32m    103\u001b[0m \u001b[39mdef\u001b[39;00m \u001b[39mpost\u001b[39m(url, data\u001b[39m=\u001b[39m\u001b[39mNone\u001b[39;00m, json\u001b[39m=\u001b[39m\u001b[39mNone\u001b[39;00m, \u001b[39m*\u001b[39m\u001b[39m*\u001b[39mkwargs):\n\u001b[1;32m    104\u001b[0m \u001b[39m    \u001b[39m\u001b[39mr\u001b[39m\u001b[39m\"\"\"Sends a POST request.\u001b[39;00m\n\u001b[1;32m    105\u001b[0m \n\u001b[1;32m    106\u001b[0m \u001b[39m    :param url: URL for the new :class:`Request` object.\u001b[39;00m\n\u001b[0;32m   (...)\u001b[0m\n\u001b[1;32m    112\u001b[0m \u001b[39m    :rtype: requests.Response\u001b[39;00m\n\u001b[1;32m    113\u001b[0m \u001b[39m    \"\"\"\u001b[39;00m\n\u001b[0;32m--> 115\u001b[0m     \u001b[39mreturn\u001b[39;00m request(\u001b[39m\"\u001b[39;49m\u001b[39mpost\u001b[39;49m\u001b[39m\"\u001b[39;49m, url, data\u001b[39m=\u001b[39;49mdata, json\u001b[39m=\u001b[39;49mjson, \u001b[39m*\u001b[39;49m\u001b[39m*\u001b[39;49mkwargs)\n",
      "File \u001b[0;32m/Library/Frameworks/Python.framework/Versions/3.11/lib/python3.11/site-packages/requests/api.py:59\u001b[0m, in \u001b[0;36mrequest\u001b[0;34m(method, url, **kwargs)\u001b[0m\n\u001b[1;32m     55\u001b[0m \u001b[39m# By using the 'with' statement we are sure the session is closed, thus we\u001b[39;00m\n\u001b[1;32m     56\u001b[0m \u001b[39m# avoid leaving sockets open which can trigger a ResourceWarning in some\u001b[39;00m\n\u001b[1;32m     57\u001b[0m \u001b[39m# cases, and look like a memory leak in others.\u001b[39;00m\n\u001b[1;32m     58\u001b[0m \u001b[39mwith\u001b[39;00m sessions\u001b[39m.\u001b[39mSession() \u001b[39mas\u001b[39;00m session:\n\u001b[0;32m---> 59\u001b[0m     \u001b[39mreturn\u001b[39;00m session\u001b[39m.\u001b[39;49mrequest(method\u001b[39m=\u001b[39;49mmethod, url\u001b[39m=\u001b[39;49murl, \u001b[39m*\u001b[39;49m\u001b[39m*\u001b[39;49mkwargs)\n",
      "File \u001b[0;32m/Library/Frameworks/Python.framework/Versions/3.11/lib/python3.11/site-packages/requests/sessions.py:589\u001b[0m, in \u001b[0;36mSession.request\u001b[0;34m(self, method, url, params, data, headers, cookies, files, auth, timeout, allow_redirects, proxies, hooks, stream, verify, cert, json)\u001b[0m\n\u001b[1;32m    584\u001b[0m send_kwargs \u001b[39m=\u001b[39m {\n\u001b[1;32m    585\u001b[0m     \u001b[39m\"\u001b[39m\u001b[39mtimeout\u001b[39m\u001b[39m\"\u001b[39m: timeout,\n\u001b[1;32m    586\u001b[0m     \u001b[39m\"\u001b[39m\u001b[39mallow_redirects\u001b[39m\u001b[39m\"\u001b[39m: allow_redirects,\n\u001b[1;32m    587\u001b[0m }\n\u001b[1;32m    588\u001b[0m send_kwargs\u001b[39m.\u001b[39mupdate(settings)\n\u001b[0;32m--> 589\u001b[0m resp \u001b[39m=\u001b[39m \u001b[39mself\u001b[39;49m\u001b[39m.\u001b[39;49msend(prep, \u001b[39m*\u001b[39;49m\u001b[39m*\u001b[39;49msend_kwargs)\n\u001b[1;32m    591\u001b[0m \u001b[39mreturn\u001b[39;00m resp\n",
      "File \u001b[0;32m/Library/Frameworks/Python.framework/Versions/3.11/lib/python3.11/site-packages/requests/sessions.py:703\u001b[0m, in \u001b[0;36mSession.send\u001b[0;34m(self, request, **kwargs)\u001b[0m\n\u001b[1;32m    700\u001b[0m start \u001b[39m=\u001b[39m preferred_clock()\n\u001b[1;32m    702\u001b[0m \u001b[39m# Send the request\u001b[39;00m\n\u001b[0;32m--> 703\u001b[0m r \u001b[39m=\u001b[39m adapter\u001b[39m.\u001b[39;49msend(request, \u001b[39m*\u001b[39;49m\u001b[39m*\u001b[39;49mkwargs)\n\u001b[1;32m    705\u001b[0m \u001b[39m# Total elapsed time of the request (approximately)\u001b[39;00m\n\u001b[1;32m    706\u001b[0m elapsed \u001b[39m=\u001b[39m preferred_clock() \u001b[39m-\u001b[39m start\n",
      "File \u001b[0;32m/Library/Frameworks/Python.framework/Versions/3.11/lib/python3.11/site-packages/requests/adapters.py:486\u001b[0m, in \u001b[0;36mHTTPAdapter.send\u001b[0;34m(self, request, stream, timeout, verify, cert, proxies)\u001b[0m\n\u001b[1;32m    483\u001b[0m     timeout \u001b[39m=\u001b[39m TimeoutSauce(connect\u001b[39m=\u001b[39mtimeout, read\u001b[39m=\u001b[39mtimeout)\n\u001b[1;32m    485\u001b[0m \u001b[39mtry\u001b[39;00m:\n\u001b[0;32m--> 486\u001b[0m     resp \u001b[39m=\u001b[39m conn\u001b[39m.\u001b[39;49murlopen(\n\u001b[1;32m    487\u001b[0m         method\u001b[39m=\u001b[39;49mrequest\u001b[39m.\u001b[39;49mmethod,\n\u001b[1;32m    488\u001b[0m         url\u001b[39m=\u001b[39;49murl,\n\u001b[1;32m    489\u001b[0m         body\u001b[39m=\u001b[39;49mrequest\u001b[39m.\u001b[39;49mbody,\n\u001b[1;32m    490\u001b[0m         headers\u001b[39m=\u001b[39;49mrequest\u001b[39m.\u001b[39;49mheaders,\n\u001b[1;32m    491\u001b[0m         redirect\u001b[39m=\u001b[39;49m\u001b[39mFalse\u001b[39;49;00m,\n\u001b[1;32m    492\u001b[0m         assert_same_host\u001b[39m=\u001b[39;49m\u001b[39mFalse\u001b[39;49;00m,\n\u001b[1;32m    493\u001b[0m         preload_content\u001b[39m=\u001b[39;49m\u001b[39mFalse\u001b[39;49;00m,\n\u001b[1;32m    494\u001b[0m         decode_content\u001b[39m=\u001b[39;49m\u001b[39mFalse\u001b[39;49;00m,\n\u001b[1;32m    495\u001b[0m         retries\u001b[39m=\u001b[39;49m\u001b[39mself\u001b[39;49m\u001b[39m.\u001b[39;49mmax_retries,\n\u001b[1;32m    496\u001b[0m         timeout\u001b[39m=\u001b[39;49mtimeout,\n\u001b[1;32m    497\u001b[0m         chunked\u001b[39m=\u001b[39;49mchunked,\n\u001b[1;32m    498\u001b[0m     )\n\u001b[1;32m    500\u001b[0m \u001b[39mexcept\u001b[39;00m (ProtocolError, \u001b[39mOSError\u001b[39;00m) \u001b[39mas\u001b[39;00m err:\n\u001b[1;32m    501\u001b[0m     \u001b[39mraise\u001b[39;00m \u001b[39mConnectionError\u001b[39;00m(err, request\u001b[39m=\u001b[39mrequest)\n",
      "File \u001b[0;32m/Library/Frameworks/Python.framework/Versions/3.11/lib/python3.11/site-packages/urllib3/connectionpool.py:790\u001b[0m, in \u001b[0;36mHTTPConnectionPool.urlopen\u001b[0;34m(self, method, url, body, headers, retries, redirect, assert_same_host, timeout, pool_timeout, release_conn, chunked, body_pos, preload_content, decode_content, **response_kw)\u001b[0m\n\u001b[1;32m    787\u001b[0m response_conn \u001b[39m=\u001b[39m conn \u001b[39mif\u001b[39;00m \u001b[39mnot\u001b[39;00m release_conn \u001b[39melse\u001b[39;00m \u001b[39mNone\u001b[39;00m\n\u001b[1;32m    789\u001b[0m \u001b[39m# Make the request on the HTTPConnection object\u001b[39;00m\n\u001b[0;32m--> 790\u001b[0m response \u001b[39m=\u001b[39m \u001b[39mself\u001b[39;49m\u001b[39m.\u001b[39;49m_make_request(\n\u001b[1;32m    791\u001b[0m     conn,\n\u001b[1;32m    792\u001b[0m     method,\n\u001b[1;32m    793\u001b[0m     url,\n\u001b[1;32m    794\u001b[0m     timeout\u001b[39m=\u001b[39;49mtimeout_obj,\n\u001b[1;32m    795\u001b[0m     body\u001b[39m=\u001b[39;49mbody,\n\u001b[1;32m    796\u001b[0m     headers\u001b[39m=\u001b[39;49mheaders,\n\u001b[1;32m    797\u001b[0m     chunked\u001b[39m=\u001b[39;49mchunked,\n\u001b[1;32m    798\u001b[0m     retries\u001b[39m=\u001b[39;49mretries,\n\u001b[1;32m    799\u001b[0m     response_conn\u001b[39m=\u001b[39;49mresponse_conn,\n\u001b[1;32m    800\u001b[0m     preload_content\u001b[39m=\u001b[39;49mpreload_content,\n\u001b[1;32m    801\u001b[0m     decode_content\u001b[39m=\u001b[39;49mdecode_content,\n\u001b[1;32m    802\u001b[0m     \u001b[39m*\u001b[39;49m\u001b[39m*\u001b[39;49mresponse_kw,\n\u001b[1;32m    803\u001b[0m )\n\u001b[1;32m    805\u001b[0m \u001b[39m# Everything went great!\u001b[39;00m\n\u001b[1;32m    806\u001b[0m clean_exit \u001b[39m=\u001b[39m \u001b[39mTrue\u001b[39;00m\n",
      "File \u001b[0;32m/Library/Frameworks/Python.framework/Versions/3.11/lib/python3.11/site-packages/urllib3/connectionpool.py:496\u001b[0m, in \u001b[0;36mHTTPConnectionPool._make_request\u001b[0;34m(self, conn, method, url, body, headers, retries, timeout, chunked, response_conn, preload_content, decode_content, enforce_content_length)\u001b[0m\n\u001b[1;32m    493\u001b[0m \u001b[39m# conn.request() calls http.client.*.request, not the method in\u001b[39;00m\n\u001b[1;32m    494\u001b[0m \u001b[39m# urllib3.request. It also calls makefile (recv) on the socket.\u001b[39;00m\n\u001b[1;32m    495\u001b[0m \u001b[39mtry\u001b[39;00m:\n\u001b[0;32m--> 496\u001b[0m     conn\u001b[39m.\u001b[39;49mrequest(\n\u001b[1;32m    497\u001b[0m         method,\n\u001b[1;32m    498\u001b[0m         url,\n\u001b[1;32m    499\u001b[0m         body\u001b[39m=\u001b[39;49mbody,\n\u001b[1;32m    500\u001b[0m         headers\u001b[39m=\u001b[39;49mheaders,\n\u001b[1;32m    501\u001b[0m         chunked\u001b[39m=\u001b[39;49mchunked,\n\u001b[1;32m    502\u001b[0m         preload_content\u001b[39m=\u001b[39;49mpreload_content,\n\u001b[1;32m    503\u001b[0m         decode_content\u001b[39m=\u001b[39;49mdecode_content,\n\u001b[1;32m    504\u001b[0m         enforce_content_length\u001b[39m=\u001b[39;49menforce_content_length,\n\u001b[1;32m    505\u001b[0m     )\n\u001b[1;32m    507\u001b[0m \u001b[39m# We are swallowing BrokenPipeError (errno.EPIPE) since the server is\u001b[39;00m\n\u001b[1;32m    508\u001b[0m \u001b[39m# legitimately able to close the connection after sending a valid response.\u001b[39;00m\n\u001b[1;32m    509\u001b[0m \u001b[39m# With this behaviour, the received response is still readable.\u001b[39;00m\n\u001b[1;32m    510\u001b[0m \u001b[39mexcept\u001b[39;00m \u001b[39mBrokenPipeError\u001b[39;00m:\n",
      "File \u001b[0;32m/Library/Frameworks/Python.framework/Versions/3.11/lib/python3.11/site-packages/urllib3/connection.py:409\u001b[0m, in \u001b[0;36mHTTPConnection.request\u001b[0;34m(self, method, url, body, headers, chunked, preload_content, decode_content, enforce_content_length)\u001b[0m\n\u001b[1;32m    407\u001b[0m             \u001b[39mself\u001b[39m\u001b[39m.\u001b[39msend(\u001b[39mb\u001b[39m\u001b[39m\"\u001b[39m\u001b[39m%x\u001b[39;00m\u001b[39m\\r\u001b[39;00m\u001b[39m\\n\u001b[39;00m\u001b[39m%\u001b[39m\u001b[39mb\u001b[39m\u001b[39m\\r\u001b[39;00m\u001b[39m\\n\u001b[39;00m\u001b[39m\"\u001b[39m \u001b[39m%\u001b[39m (\u001b[39mlen\u001b[39m(chunk), chunk))\n\u001b[1;32m    408\u001b[0m         \u001b[39melse\u001b[39;00m:\n\u001b[0;32m--> 409\u001b[0m             \u001b[39mself\u001b[39;49m\u001b[39m.\u001b[39;49msend(chunk)\n\u001b[1;32m    411\u001b[0m \u001b[39m# Regardless of whether we have a body or not, if we're in\u001b[39;00m\n\u001b[1;32m    412\u001b[0m \u001b[39m# chunked mode we want to send an explicit empty chunk.\u001b[39;00m\n\u001b[1;32m    413\u001b[0m \u001b[39mif\u001b[39;00m chunked:\n",
      "File \u001b[0;32m/Library/Frameworks/Python.framework/Versions/3.11/lib/python3.11/http/client.py:1002\u001b[0m, in \u001b[0;36mHTTPConnection.send\u001b[0;34m(self, data)\u001b[0m\n\u001b[1;32m   1000\u001b[0m sys\u001b[39m.\u001b[39maudit(\u001b[39m\"\u001b[39m\u001b[39mhttp.client.send\u001b[39m\u001b[39m\"\u001b[39m, \u001b[39mself\u001b[39m, data)\n\u001b[1;32m   1001\u001b[0m \u001b[39mtry\u001b[39;00m:\n\u001b[0;32m-> 1002\u001b[0m     \u001b[39mself\u001b[39;49m\u001b[39m.\u001b[39;49msock\u001b[39m.\u001b[39;49msendall(data)\n\u001b[1;32m   1003\u001b[0m \u001b[39mexcept\u001b[39;00m \u001b[39mTypeError\u001b[39;00m:\n\u001b[1;32m   1004\u001b[0m     \u001b[39mif\u001b[39;00m \u001b[39misinstance\u001b[39m(data, collections\u001b[39m.\u001b[39mabc\u001b[39m.\u001b[39mIterable):\n",
      "\u001b[0;31mKeyboardInterrupt\u001b[0m: "
     ]
    }
   ],
   "source": [
    "with open('./test-data/patient.csv') as file_obj:\n",
    "    heading=next(file_obj)\n",
    "    reader_obj=csv.reader(file_obj)\n",
    "    heading=list(heading.split(','))\n",
    "    print(heading)\n",
    "    i=0\n",
    "    for row in reader_obj:\n",
    "      createPatient(row[heading.index('birthday')],\n",
    "                       row[heading.index('sex')],\n",
    "                       row[heading.index('name')],\n",
    "                       \"../fundus-images/\" + str(i) +\"_left.jpg\",\n",
    "                       \"../fundus-images/\" + str(i) +\"_right.jpg\",\n",
    "                       row[heading.index('l_d_s')],\n",
    "                       row[heading.index('left_diabetic_retinopathy_stage_0')],\n",
    "                        row[heading.index('r_d_s')-1],\n",
    "                        row[heading.index('right_diabetic_retinopathy_stage_0')],\n",
    "                       row[heading.index('left_ocular')],\n",
    "                       row[heading.index('right_ocular')],\n",
    "                       row[heading.index('left_glaucoma')],\n",
    "                       row[heading.index('right_glaucoma')],\n",
    "                       row[heading.index('notes\\n')],\n",
    "                         \"../report.pdf\")\n",
    "      i=i+1"
   ]
  },
  {
   "cell_type": "code",
   "execution_count": null,
   "metadata": {},
   "outputs": [
    {
     "name": "stdout",
     "output_type": "stream",
     "text": [
      "0\n",
      "['\\ufeffid', 'name', 'age', 'sex', 'date_of_birth', 'visit_date', 'version', 'left_eye_image', 'right_eye_image', 'left_diabetic_retinopathy_stage', 'left_diabetic_retinopathy_prob', 'right_diabetic_retinopathy_stage', 'right_diabetic_retinopathy_prob', 'left_ocular_prob', 'left_diabetic_retinopathy_stage', 'right_ocular_prob', 'left_glaucoma_prob', 'right_glaucoma_prob', 'doctor_notes', 'pdf_link\\n']\n",
      "0\n",
      "Success\n",
      "0\n",
      "Success\n",
      "0\n",
      "Success\n",
      "0\n",
      "Success\n",
      "0\n",
      "Success\n",
      "0\n",
      "Success\n",
      "0\n",
      "Success\n",
      "0\n",
      "Success\n",
      "0\n",
      "Success\n",
      "0\n",
      "Success\n",
      "1\n",
      "Success\n",
      "2\n",
      "Success\n",
      "3\n",
      "Success\n",
      "4\n",
      "Success\n",
      "5\n",
      "Success\n",
      "6\n",
      "Success\n",
      "7\n",
      "Success\n",
      "8\n",
      "Success\n",
      "9\n",
      "Success\n",
      "10\n",
      "Success\n",
      "11\n",
      "Success\n",
      "12\n",
      "Success\n",
      "13\n",
      "Success\n",
      "14\n",
      "Success\n",
      "15\n",
      "Success\n",
      "16\n",
      "Success\n",
      "17\n",
      "Success\n",
      "18\n",
      "Success\n",
      "19\n",
      "Success\n",
      "20\n",
      "Success\n",
      "21\n",
      "Success\n",
      "22\n",
      "Success\n",
      "23\n",
      "Success\n",
      "24\n",
      "Success\n",
      "25\n",
      "Success\n",
      "26\n",
      "Success\n",
      "27\n",
      "Success\n",
      "28\n",
      "Success\n",
      "29\n",
      "Success\n",
      "30\n",
      "Success\n",
      "31\n",
      "Success\n",
      "32\n"
     ]
    },
    {
     "ename": "KeyboardInterrupt",
     "evalue": "",
     "output_type": "error",
     "traceback": [
      "\u001b[0;31m---------------------------------------------------------------------------\u001b[0m",
      "\u001b[0;31mKeyboardInterrupt\u001b[0m                         Traceback (most recent call last)",
      "\u001b[1;32m/Users/jiajunseah/NUS-RetiMark/dashboard/.venv/insert_data.ipynb Cell 10\u001b[0m line \u001b[0;36m1\n\u001b[1;32m     <a href='vscode-notebook-cell:/Users/jiajunseah/NUS-RetiMark/dashboard/.venv/insert_data.ipynb#X14sZmlsZQ%3D%3D?line=9'>10</a>\u001b[0m \u001b[39mfor\u001b[39;00m row \u001b[39min\u001b[39;00m reader_obj:\n\u001b[1;32m     <a href='vscode-notebook-cell:/Users/jiajunseah/NUS-RetiMark/dashboard/.venv/insert_data.ipynb#X14sZmlsZQ%3D%3D?line=10'>11</a>\u001b[0m   \u001b[39mprint\u001b[39m(row[heading\u001b[39m.\u001b[39mindex(\u001b[39m'\u001b[39m\u001b[39m\\ufeff\u001b[39;00m\u001b[39mid\u001b[39m\u001b[39m'\u001b[39m)])\n\u001b[0;32m---> <a href='vscode-notebook-cell:/Users/jiajunseah/NUS-RetiMark/dashboard/.venv/insert_data.ipynb#X14sZmlsZQ%3D%3D?line=11'>12</a>\u001b[0m   patchPatient(\u001b[39mint\u001b[39;49m(row[heading\u001b[39m.\u001b[39;49mindex(\u001b[39m'\u001b[39;49m\u001b[39m\\ufeff\u001b[39;49;00m\u001b[39mid\u001b[39;49m\u001b[39m'\u001b[39;49m)])\u001b[39m+\u001b[39;49m\u001b[39m2\u001b[39;49m,\n\u001b[1;32m     <a href='vscode-notebook-cell:/Users/jiajunseah/NUS-RetiMark/dashboard/.venv/insert_data.ipynb#X14sZmlsZQ%3D%3D?line=12'>13</a>\u001b[0m                    \u001b[39m\"\u001b[39;49m\u001b[39m../fundus-images/\u001b[39;49m\u001b[39m\"\u001b[39;49m \u001b[39m+\u001b[39;49m \u001b[39mstr\u001b[39;49m(i) \u001b[39m+\u001b[39;49m\u001b[39m\"\u001b[39;49m\u001b[39m_left.jpg\u001b[39;49m\u001b[39m\"\u001b[39;49m,\n\u001b[1;32m     <a href='vscode-notebook-cell:/Users/jiajunseah/NUS-RetiMark/dashboard/.venv/insert_data.ipynb#X14sZmlsZQ%3D%3D?line=13'>14</a>\u001b[0m                    \u001b[39m\"\u001b[39;49m\u001b[39m../fundus-images/\u001b[39;49m\u001b[39m\"\u001b[39;49m \u001b[39m+\u001b[39;49m \u001b[39mstr\u001b[39;49m(i) \u001b[39m+\u001b[39;49m\u001b[39m\"\u001b[39;49m\u001b[39m_right.jpg\u001b[39;49m\u001b[39m\"\u001b[39;49m,\n\u001b[1;32m     <a href='vscode-notebook-cell:/Users/jiajunseah/NUS-RetiMark/dashboard/.venv/insert_data.ipynb#X14sZmlsZQ%3D%3D?line=14'>15</a>\u001b[0m                    row[heading\u001b[39m.\u001b[39;49mindex(\u001b[39m'\u001b[39;49m\u001b[39mleft_diabetic_retinopathy_stage\u001b[39;49m\u001b[39m'\u001b[39;49m)],\n\u001b[1;32m     <a href='vscode-notebook-cell:/Users/jiajunseah/NUS-RetiMark/dashboard/.venv/insert_data.ipynb#X14sZmlsZQ%3D%3D?line=15'>16</a>\u001b[0m                    row[heading\u001b[39m.\u001b[39;49mindex(\u001b[39m'\u001b[39;49m\u001b[39mleft_diabetic_retinopathy_prob\u001b[39;49m\u001b[39m'\u001b[39;49m)],\n\u001b[1;32m     <a href='vscode-notebook-cell:/Users/jiajunseah/NUS-RetiMark/dashboard/.venv/insert_data.ipynb#X14sZmlsZQ%3D%3D?line=16'>17</a>\u001b[0m                     row[heading\u001b[39m.\u001b[39;49mindex(\u001b[39m'\u001b[39;49m\u001b[39mright_diabetic_retinopathy_stage\u001b[39;49m\u001b[39m'\u001b[39;49m)],\n\u001b[1;32m     <a href='vscode-notebook-cell:/Users/jiajunseah/NUS-RetiMark/dashboard/.venv/insert_data.ipynb#X14sZmlsZQ%3D%3D?line=17'>18</a>\u001b[0m                     row[heading\u001b[39m.\u001b[39;49mindex(\u001b[39m'\u001b[39;49m\u001b[39mright_diabetic_retinopathy_prob\u001b[39;49m\u001b[39m'\u001b[39;49m)],\n\u001b[1;32m     <a href='vscode-notebook-cell:/Users/jiajunseah/NUS-RetiMark/dashboard/.venv/insert_data.ipynb#X14sZmlsZQ%3D%3D?line=18'>19</a>\u001b[0m                    row[heading\u001b[39m.\u001b[39;49mindex(\u001b[39m'\u001b[39;49m\u001b[39mleft_ocular_prob\u001b[39;49m\u001b[39m'\u001b[39;49m)],\n\u001b[1;32m     <a href='vscode-notebook-cell:/Users/jiajunseah/NUS-RetiMark/dashboard/.venv/insert_data.ipynb#X14sZmlsZQ%3D%3D?line=19'>20</a>\u001b[0m                    row[heading\u001b[39m.\u001b[39;49mindex(\u001b[39m'\u001b[39;49m\u001b[39mright_ocular_prob\u001b[39;49m\u001b[39m'\u001b[39;49m)],\n\u001b[1;32m     <a href='vscode-notebook-cell:/Users/jiajunseah/NUS-RetiMark/dashboard/.venv/insert_data.ipynb#X14sZmlsZQ%3D%3D?line=20'>21</a>\u001b[0m                    row[heading\u001b[39m.\u001b[39;49mindex(\u001b[39m'\u001b[39;49m\u001b[39mleft_glaucoma_prob\u001b[39;49m\u001b[39m'\u001b[39;49m)],\n\u001b[1;32m     <a href='vscode-notebook-cell:/Users/jiajunseah/NUS-RetiMark/dashboard/.venv/insert_data.ipynb#X14sZmlsZQ%3D%3D?line=21'>22</a>\u001b[0m                    row[heading\u001b[39m.\u001b[39;49mindex(\u001b[39m'\u001b[39;49m\u001b[39mright_glaucoma_prob\u001b[39;49m\u001b[39m'\u001b[39;49m)],\n\u001b[1;32m     <a href='vscode-notebook-cell:/Users/jiajunseah/NUS-RetiMark/dashboard/.venv/insert_data.ipynb#X14sZmlsZQ%3D%3D?line=22'>23</a>\u001b[0m                    row[heading\u001b[39m.\u001b[39;49mindex(\u001b[39m'\u001b[39;49m\u001b[39mdoctor_notes\u001b[39;49m\u001b[39m'\u001b[39;49m)],\n\u001b[1;32m     <a href='vscode-notebook-cell:/Users/jiajunseah/NUS-RetiMark/dashboard/.venv/insert_data.ipynb#X14sZmlsZQ%3D%3D?line=23'>24</a>\u001b[0m                      \u001b[39m\"\u001b[39;49m\u001b[39m../report.pdf\u001b[39;49m\u001b[39m\"\u001b[39;49m)\n\u001b[1;32m     <a href='vscode-notebook-cell:/Users/jiajunseah/NUS-RetiMark/dashboard/.venv/insert_data.ipynb#X14sZmlsZQ%3D%3D?line=24'>25</a>\u001b[0m   i\u001b[39m=\u001b[39mi\u001b[39m+\u001b[39m\u001b[39m1\u001b[39m\n",
      "\u001b[1;32m/Users/jiajunseah/NUS-RetiMark/dashboard/.venv/insert_data.ipynb Cell 10\u001b[0m line \u001b[0;36m3\n\u001b[1;32m     <a href='vscode-notebook-cell:/Users/jiajunseah/NUS-RetiMark/dashboard/.venv/insert_data.ipynb#X14sZmlsZQ%3D%3D?line=29'>30</a>\u001b[0m files \u001b[39m=\u001b[39m{\n\u001b[1;32m     <a href='vscode-notebook-cell:/Users/jiajunseah/NUS-RetiMark/dashboard/.venv/insert_data.ipynb#X14sZmlsZQ%3D%3D?line=30'>31</a>\u001b[0m     \u001b[39m'\u001b[39m\u001b[39mreport_pdf\u001b[39m\u001b[39m'\u001b[39m: (\u001b[39m'\u001b[39m\u001b[39mreport.pdf\u001b[39m\u001b[39m'\u001b[39m, \u001b[39mopen\u001b[39m(pdf_path, \u001b[39m'\u001b[39m\u001b[39mrb\u001b[39m\u001b[39m'\u001b[39m), \u001b[39m'\u001b[39m\u001b[39mapplication/pdf\u001b[39m\u001b[39m'\u001b[39m),\n\u001b[1;32m     <a href='vscode-notebook-cell:/Users/jiajunseah/NUS-RetiMark/dashboard/.venv/insert_data.ipynb#X14sZmlsZQ%3D%3D?line=31'>32</a>\u001b[0m     \u001b[39m'\u001b[39m\u001b[39mleft_eye_image\u001b[39m\u001b[39m'\u001b[39m: (\u001b[39m'\u001b[39m\u001b[39mtest_l.png\u001b[39m\u001b[39m'\u001b[39m, \u001b[39mopen\u001b[39m(left_img_path, \u001b[39m'\u001b[39m\u001b[39mrb\u001b[39m\u001b[39m'\u001b[39m), \u001b[39m'\u001b[39m\u001b[39mimage/png\u001b[39m\u001b[39m'\u001b[39m),\n\u001b[1;32m     <a href='vscode-notebook-cell:/Users/jiajunseah/NUS-RetiMark/dashboard/.venv/insert_data.ipynb#X14sZmlsZQ%3D%3D?line=32'>33</a>\u001b[0m     \u001b[39m'\u001b[39m\u001b[39mright_eye_image\u001b[39m\u001b[39m'\u001b[39m:(\u001b[39m'\u001b[39m\u001b[39mtest_r.png\u001b[39m\u001b[39m'\u001b[39m, \u001b[39mopen\u001b[39m(right_img_path, \u001b[39m'\u001b[39m\u001b[39mrb\u001b[39m\u001b[39m'\u001b[39m), \u001b[39m'\u001b[39m\u001b[39mimage/png\u001b[39m\u001b[39m'\u001b[39m)\n\u001b[1;32m     <a href='vscode-notebook-cell:/Users/jiajunseah/NUS-RetiMark/dashboard/.venv/insert_data.ipynb#X14sZmlsZQ%3D%3D?line=33'>34</a>\u001b[0m }\n\u001b[1;32m     <a href='vscode-notebook-cell:/Users/jiajunseah/NUS-RetiMark/dashboard/.venv/insert_data.ipynb#X14sZmlsZQ%3D%3D?line=34'>35</a>\u001b[0m \u001b[39mtry\u001b[39;00m:\n\u001b[1;32m     <a href='vscode-notebook-cell:/Users/jiajunseah/NUS-RetiMark/dashboard/.venv/insert_data.ipynb#X14sZmlsZQ%3D%3D?line=35'>36</a>\u001b[0m     \u001b[39m# r = requests.post(url=API_ENDPOINT, params=PARAMS, json=data)\u001b[39;00m\n\u001b[0;32m---> <a href='vscode-notebook-cell:/Users/jiajunseah/NUS-RetiMark/dashboard/.venv/insert_data.ipynb#X14sZmlsZQ%3D%3D?line=36'>37</a>\u001b[0m     r \u001b[39m=\u001b[39m requests\u001b[39m.\u001b[39;49mpatch(url\u001b[39m=\u001b[39;49mAPI_ENDPOINT, headers\u001b[39m=\u001b[39;49mHEADERS, data\u001b[39m=\u001b[39;49mdata, files\u001b[39m=\u001b[39;49mfiles)\n\u001b[1;32m     <a href='vscode-notebook-cell:/Users/jiajunseah/NUS-RetiMark/dashboard/.venv/insert_data.ipynb#X14sZmlsZQ%3D%3D?line=37'>38</a>\u001b[0m     r\u001b[39m.\u001b[39mraise_for_status()\n\u001b[1;32m     <a href='vscode-notebook-cell:/Users/jiajunseah/NUS-RetiMark/dashboard/.venv/insert_data.ipynb#X14sZmlsZQ%3D%3D?line=39'>40</a>\u001b[0m \u001b[39mexcept\u001b[39;00m requests\u001b[39m.\u001b[39mexceptions\u001b[39m.\u001b[39mHTTPError \u001b[39mas\u001b[39;00m err:\n",
      "File \u001b[0;32m/Library/Frameworks/Python.framework/Versions/3.11/lib/python3.11/site-packages/requests/api.py:145\u001b[0m, in \u001b[0;36mpatch\u001b[0;34m(url, data, **kwargs)\u001b[0m\n\u001b[1;32m    133\u001b[0m \u001b[39mdef\u001b[39;00m \u001b[39mpatch\u001b[39m(url, data\u001b[39m=\u001b[39m\u001b[39mNone\u001b[39;00m, \u001b[39m*\u001b[39m\u001b[39m*\u001b[39mkwargs):\n\u001b[1;32m    134\u001b[0m \u001b[39m    \u001b[39m\u001b[39mr\u001b[39m\u001b[39m\"\"\"Sends a PATCH request.\u001b[39;00m\n\u001b[1;32m    135\u001b[0m \n\u001b[1;32m    136\u001b[0m \u001b[39m    :param url: URL for the new :class:`Request` object.\u001b[39;00m\n\u001b[0;32m   (...)\u001b[0m\n\u001b[1;32m    142\u001b[0m \u001b[39m    :rtype: requests.Response\u001b[39;00m\n\u001b[1;32m    143\u001b[0m \u001b[39m    \"\"\"\u001b[39;00m\n\u001b[0;32m--> 145\u001b[0m     \u001b[39mreturn\u001b[39;00m request(\u001b[39m\"\u001b[39;49m\u001b[39mpatch\u001b[39;49m\u001b[39m\"\u001b[39;49m, url, data\u001b[39m=\u001b[39;49mdata, \u001b[39m*\u001b[39;49m\u001b[39m*\u001b[39;49mkwargs)\n",
      "File \u001b[0;32m/Library/Frameworks/Python.framework/Versions/3.11/lib/python3.11/site-packages/requests/api.py:59\u001b[0m, in \u001b[0;36mrequest\u001b[0;34m(method, url, **kwargs)\u001b[0m\n\u001b[1;32m     55\u001b[0m \u001b[39m# By using the 'with' statement we are sure the session is closed, thus we\u001b[39;00m\n\u001b[1;32m     56\u001b[0m \u001b[39m# avoid leaving sockets open which can trigger a ResourceWarning in some\u001b[39;00m\n\u001b[1;32m     57\u001b[0m \u001b[39m# cases, and look like a memory leak in others.\u001b[39;00m\n\u001b[1;32m     58\u001b[0m \u001b[39mwith\u001b[39;00m sessions\u001b[39m.\u001b[39mSession() \u001b[39mas\u001b[39;00m session:\n\u001b[0;32m---> 59\u001b[0m     \u001b[39mreturn\u001b[39;00m session\u001b[39m.\u001b[39;49mrequest(method\u001b[39m=\u001b[39;49mmethod, url\u001b[39m=\u001b[39;49murl, \u001b[39m*\u001b[39;49m\u001b[39m*\u001b[39;49mkwargs)\n",
      "File \u001b[0;32m/Library/Frameworks/Python.framework/Versions/3.11/lib/python3.11/site-packages/requests/sessions.py:589\u001b[0m, in \u001b[0;36mSession.request\u001b[0;34m(self, method, url, params, data, headers, cookies, files, auth, timeout, allow_redirects, proxies, hooks, stream, verify, cert, json)\u001b[0m\n\u001b[1;32m    584\u001b[0m send_kwargs \u001b[39m=\u001b[39m {\n\u001b[1;32m    585\u001b[0m     \u001b[39m\"\u001b[39m\u001b[39mtimeout\u001b[39m\u001b[39m\"\u001b[39m: timeout,\n\u001b[1;32m    586\u001b[0m     \u001b[39m\"\u001b[39m\u001b[39mallow_redirects\u001b[39m\u001b[39m\"\u001b[39m: allow_redirects,\n\u001b[1;32m    587\u001b[0m }\n\u001b[1;32m    588\u001b[0m send_kwargs\u001b[39m.\u001b[39mupdate(settings)\n\u001b[0;32m--> 589\u001b[0m resp \u001b[39m=\u001b[39m \u001b[39mself\u001b[39;49m\u001b[39m.\u001b[39;49msend(prep, \u001b[39m*\u001b[39;49m\u001b[39m*\u001b[39;49msend_kwargs)\n\u001b[1;32m    591\u001b[0m \u001b[39mreturn\u001b[39;00m resp\n",
      "File \u001b[0;32m/Library/Frameworks/Python.framework/Versions/3.11/lib/python3.11/site-packages/requests/sessions.py:703\u001b[0m, in \u001b[0;36mSession.send\u001b[0;34m(self, request, **kwargs)\u001b[0m\n\u001b[1;32m    700\u001b[0m start \u001b[39m=\u001b[39m preferred_clock()\n\u001b[1;32m    702\u001b[0m \u001b[39m# Send the request\u001b[39;00m\n\u001b[0;32m--> 703\u001b[0m r \u001b[39m=\u001b[39m adapter\u001b[39m.\u001b[39;49msend(request, \u001b[39m*\u001b[39;49m\u001b[39m*\u001b[39;49mkwargs)\n\u001b[1;32m    705\u001b[0m \u001b[39m# Total elapsed time of the request (approximately)\u001b[39;00m\n\u001b[1;32m    706\u001b[0m elapsed \u001b[39m=\u001b[39m preferred_clock() \u001b[39m-\u001b[39m start\n",
      "File \u001b[0;32m/Library/Frameworks/Python.framework/Versions/3.11/lib/python3.11/site-packages/requests/adapters.py:486\u001b[0m, in \u001b[0;36mHTTPAdapter.send\u001b[0;34m(self, request, stream, timeout, verify, cert, proxies)\u001b[0m\n\u001b[1;32m    483\u001b[0m     timeout \u001b[39m=\u001b[39m TimeoutSauce(connect\u001b[39m=\u001b[39mtimeout, read\u001b[39m=\u001b[39mtimeout)\n\u001b[1;32m    485\u001b[0m \u001b[39mtry\u001b[39;00m:\n\u001b[0;32m--> 486\u001b[0m     resp \u001b[39m=\u001b[39m conn\u001b[39m.\u001b[39;49murlopen(\n\u001b[1;32m    487\u001b[0m         method\u001b[39m=\u001b[39;49mrequest\u001b[39m.\u001b[39;49mmethod,\n\u001b[1;32m    488\u001b[0m         url\u001b[39m=\u001b[39;49murl,\n\u001b[1;32m    489\u001b[0m         body\u001b[39m=\u001b[39;49mrequest\u001b[39m.\u001b[39;49mbody,\n\u001b[1;32m    490\u001b[0m         headers\u001b[39m=\u001b[39;49mrequest\u001b[39m.\u001b[39;49mheaders,\n\u001b[1;32m    491\u001b[0m         redirect\u001b[39m=\u001b[39;49m\u001b[39mFalse\u001b[39;49;00m,\n\u001b[1;32m    492\u001b[0m         assert_same_host\u001b[39m=\u001b[39;49m\u001b[39mFalse\u001b[39;49;00m,\n\u001b[1;32m    493\u001b[0m         preload_content\u001b[39m=\u001b[39;49m\u001b[39mFalse\u001b[39;49;00m,\n\u001b[1;32m    494\u001b[0m         decode_content\u001b[39m=\u001b[39;49m\u001b[39mFalse\u001b[39;49;00m,\n\u001b[1;32m    495\u001b[0m         retries\u001b[39m=\u001b[39;49m\u001b[39mself\u001b[39;49m\u001b[39m.\u001b[39;49mmax_retries,\n\u001b[1;32m    496\u001b[0m         timeout\u001b[39m=\u001b[39;49mtimeout,\n\u001b[1;32m    497\u001b[0m         chunked\u001b[39m=\u001b[39;49mchunked,\n\u001b[1;32m    498\u001b[0m     )\n\u001b[1;32m    500\u001b[0m \u001b[39mexcept\u001b[39;00m (ProtocolError, \u001b[39mOSError\u001b[39;00m) \u001b[39mas\u001b[39;00m err:\n\u001b[1;32m    501\u001b[0m     \u001b[39mraise\u001b[39;00m \u001b[39mConnectionError\u001b[39;00m(err, request\u001b[39m=\u001b[39mrequest)\n",
      "File \u001b[0;32m/Library/Frameworks/Python.framework/Versions/3.11/lib/python3.11/site-packages/urllib3/connectionpool.py:790\u001b[0m, in \u001b[0;36mHTTPConnectionPool.urlopen\u001b[0;34m(self, method, url, body, headers, retries, redirect, assert_same_host, timeout, pool_timeout, release_conn, chunked, body_pos, preload_content, decode_content, **response_kw)\u001b[0m\n\u001b[1;32m    787\u001b[0m response_conn \u001b[39m=\u001b[39m conn \u001b[39mif\u001b[39;00m \u001b[39mnot\u001b[39;00m release_conn \u001b[39melse\u001b[39;00m \u001b[39mNone\u001b[39;00m\n\u001b[1;32m    789\u001b[0m \u001b[39m# Make the request on the HTTPConnection object\u001b[39;00m\n\u001b[0;32m--> 790\u001b[0m response \u001b[39m=\u001b[39m \u001b[39mself\u001b[39;49m\u001b[39m.\u001b[39;49m_make_request(\n\u001b[1;32m    791\u001b[0m     conn,\n\u001b[1;32m    792\u001b[0m     method,\n\u001b[1;32m    793\u001b[0m     url,\n\u001b[1;32m    794\u001b[0m     timeout\u001b[39m=\u001b[39;49mtimeout_obj,\n\u001b[1;32m    795\u001b[0m     body\u001b[39m=\u001b[39;49mbody,\n\u001b[1;32m    796\u001b[0m     headers\u001b[39m=\u001b[39;49mheaders,\n\u001b[1;32m    797\u001b[0m     chunked\u001b[39m=\u001b[39;49mchunked,\n\u001b[1;32m    798\u001b[0m     retries\u001b[39m=\u001b[39;49mretries,\n\u001b[1;32m    799\u001b[0m     response_conn\u001b[39m=\u001b[39;49mresponse_conn,\n\u001b[1;32m    800\u001b[0m     preload_content\u001b[39m=\u001b[39;49mpreload_content,\n\u001b[1;32m    801\u001b[0m     decode_content\u001b[39m=\u001b[39;49mdecode_content,\n\u001b[1;32m    802\u001b[0m     \u001b[39m*\u001b[39;49m\u001b[39m*\u001b[39;49mresponse_kw,\n\u001b[1;32m    803\u001b[0m )\n\u001b[1;32m    805\u001b[0m \u001b[39m# Everything went great!\u001b[39;00m\n\u001b[1;32m    806\u001b[0m clean_exit \u001b[39m=\u001b[39m \u001b[39mTrue\u001b[39;00m\n",
      "File \u001b[0;32m/Library/Frameworks/Python.framework/Versions/3.11/lib/python3.11/site-packages/urllib3/connectionpool.py:496\u001b[0m, in \u001b[0;36mHTTPConnectionPool._make_request\u001b[0;34m(self, conn, method, url, body, headers, retries, timeout, chunked, response_conn, preload_content, decode_content, enforce_content_length)\u001b[0m\n\u001b[1;32m    493\u001b[0m \u001b[39m# conn.request() calls http.client.*.request, not the method in\u001b[39;00m\n\u001b[1;32m    494\u001b[0m \u001b[39m# urllib3.request. It also calls makefile (recv) on the socket.\u001b[39;00m\n\u001b[1;32m    495\u001b[0m \u001b[39mtry\u001b[39;00m:\n\u001b[0;32m--> 496\u001b[0m     conn\u001b[39m.\u001b[39;49mrequest(\n\u001b[1;32m    497\u001b[0m         method,\n\u001b[1;32m    498\u001b[0m         url,\n\u001b[1;32m    499\u001b[0m         body\u001b[39m=\u001b[39;49mbody,\n\u001b[1;32m    500\u001b[0m         headers\u001b[39m=\u001b[39;49mheaders,\n\u001b[1;32m    501\u001b[0m         chunked\u001b[39m=\u001b[39;49mchunked,\n\u001b[1;32m    502\u001b[0m         preload_content\u001b[39m=\u001b[39;49mpreload_content,\n\u001b[1;32m    503\u001b[0m         decode_content\u001b[39m=\u001b[39;49mdecode_content,\n\u001b[1;32m    504\u001b[0m         enforce_content_length\u001b[39m=\u001b[39;49menforce_content_length,\n\u001b[1;32m    505\u001b[0m     )\n\u001b[1;32m    507\u001b[0m \u001b[39m# We are swallowing BrokenPipeError (errno.EPIPE) since the server is\u001b[39;00m\n\u001b[1;32m    508\u001b[0m \u001b[39m# legitimately able to close the connection after sending a valid response.\u001b[39;00m\n\u001b[1;32m    509\u001b[0m \u001b[39m# With this behaviour, the received response is still readable.\u001b[39;00m\n\u001b[1;32m    510\u001b[0m \u001b[39mexcept\u001b[39;00m \u001b[39mBrokenPipeError\u001b[39;00m:\n",
      "File \u001b[0;32m/Library/Frameworks/Python.framework/Versions/3.11/lib/python3.11/site-packages/urllib3/connection.py:409\u001b[0m, in \u001b[0;36mHTTPConnection.request\u001b[0;34m(self, method, url, body, headers, chunked, preload_content, decode_content, enforce_content_length)\u001b[0m\n\u001b[1;32m    407\u001b[0m             \u001b[39mself\u001b[39m\u001b[39m.\u001b[39msend(\u001b[39mb\u001b[39m\u001b[39m\"\u001b[39m\u001b[39m%x\u001b[39;00m\u001b[39m\\r\u001b[39;00m\u001b[39m\\n\u001b[39;00m\u001b[39m%\u001b[39m\u001b[39mb\u001b[39m\u001b[39m\\r\u001b[39;00m\u001b[39m\\n\u001b[39;00m\u001b[39m\"\u001b[39m \u001b[39m%\u001b[39m (\u001b[39mlen\u001b[39m(chunk), chunk))\n\u001b[1;32m    408\u001b[0m         \u001b[39melse\u001b[39;00m:\n\u001b[0;32m--> 409\u001b[0m             \u001b[39mself\u001b[39;49m\u001b[39m.\u001b[39;49msend(chunk)\n\u001b[1;32m    411\u001b[0m \u001b[39m# Regardless of whether we have a body or not, if we're in\u001b[39;00m\n\u001b[1;32m    412\u001b[0m \u001b[39m# chunked mode we want to send an explicit empty chunk.\u001b[39;00m\n\u001b[1;32m    413\u001b[0m \u001b[39mif\u001b[39;00m chunked:\n",
      "File \u001b[0;32m/Library/Frameworks/Python.framework/Versions/3.11/lib/python3.11/http/client.py:1002\u001b[0m, in \u001b[0;36mHTTPConnection.send\u001b[0;34m(self, data)\u001b[0m\n\u001b[1;32m   1000\u001b[0m sys\u001b[39m.\u001b[39maudit(\u001b[39m\"\u001b[39m\u001b[39mhttp.client.send\u001b[39m\u001b[39m\"\u001b[39m, \u001b[39mself\u001b[39m, data)\n\u001b[1;32m   1001\u001b[0m \u001b[39mtry\u001b[39;00m:\n\u001b[0;32m-> 1002\u001b[0m     \u001b[39mself\u001b[39;49m\u001b[39m.\u001b[39;49msock\u001b[39m.\u001b[39;49msendall(data)\n\u001b[1;32m   1003\u001b[0m \u001b[39mexcept\u001b[39;00m \u001b[39mTypeError\u001b[39;00m:\n\u001b[1;32m   1004\u001b[0m     \u001b[39mif\u001b[39;00m \u001b[39misinstance\u001b[39m(data, collections\u001b[39m.\u001b[39mabc\u001b[39m.\u001b[39mIterable):\n",
      "\u001b[0;31mKeyboardInterrupt\u001b[0m: "
     ]
    }
   ],
   "source": [
    "with open('./test-data/patient_history_table.csv') as file_obj:\n",
    "    heading=next(file_obj)\n",
    "    reader_obj=csv.reader(file_obj)\n",
    "    heading=list(heading.split(','))\n",
    "    print(heading)\n",
    "    i=0\n",
    "    for row in reader_obj:\n",
    "      patchPatient(int(row[heading.index('\\ufeffid')])+2,\n",
    "                       \"../fundus-images/\" + str(i) +\"_left.jpg\",\n",
    "                       \"../fundus-images/\" + str(i) +\"_right.jpg\",\n",
    "                       row[heading.index('left_diabetic_retinopathy_stage')],\n",
    "                       row[heading.index('left_diabetic_retinopathy_prob')],\n",
    "                        row[heading.index('right_diabetic_retinopathy_stage')],\n",
    "                        row[heading.index('right_diabetic_retinopathy_prob')],\n",
    "                       row[heading.index('left_ocular_prob')],\n",
    "                       row[heading.index('right_ocular_prob')],\n",
    "                       row[heading.index('left_glaucoma_prob')],\n",
    "                       row[heading.index('right_glaucoma_prob')],\n",
    "                       row[heading.index('doctor_notes')],\n",
    "                         \"../report.pdf\")\n",
    "      i=i+1"
   ]
  }
 ],
 "metadata": {
  "kernelspec": {
   "display_name": "Python 3",
   "language": "python",
   "name": "python3"
  },
  "language_info": {
   "codemirror_mode": {
    "name": "ipython",
    "version": 3
   },
   "file_extension": ".py",
   "mimetype": "text/x-python",
   "name": "python",
   "nbconvert_exporter": "python",
   "pygments_lexer": "ipython3",
   "version": "3.11.5"
  },
  "orig_nbformat": 4
 },
 "nbformat": 4,
 "nbformat_minor": 2
}
