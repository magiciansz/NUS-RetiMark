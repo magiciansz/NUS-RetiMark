{
 "cells": [
  {
   "cell_type": "markdown",
   "id": "dc3aa2a7",
   "metadata": {
    "papermill": {
     "duration": 0.01152,
     "end_time": "2023-11-05T06:52:16.860616",
     "exception": false,
     "start_time": "2023-11-05T06:52:16.849096",
     "status": "completed"
    },
    "tags": []
   },
   "source": [
    "# Install Dependencies"
   ]
  },
  {
   "cell_type": "code",
   "execution_count": 1,
   "id": "a57b7093",
   "metadata": {
    "_cell_guid": "b1076dfc-b9ad-4769-8c92-a6c4dae69d19",
    "_uuid": "8f2839f25d086af736a60e9eeb907d3b93b6e0e5",
    "execution": {
     "iopub.execute_input": "2023-11-05T06:52:16.884898Z",
     "iopub.status.busy": "2023-11-05T06:52:16.884272Z",
     "iopub.status.idle": "2023-11-05T06:52:32.723900Z",
     "shell.execute_reply": "2023-11-05T06:52:32.722711Z"
    },
    "papermill": {
     "duration": 15.854759,
     "end_time": "2023-11-05T06:52:32.726776",
     "exception": false,
     "start_time": "2023-11-05T06:52:16.872017",
     "status": "completed"
    },
    "tags": []
   },
   "outputs": [
    {
     "name": "stdout",
     "output_type": "stream",
     "text": [
      "Collecting torch_summary\r\n",
      "  Downloading torch_summary-1.4.5-py3-none-any.whl (16 kB)\r\n",
      "Installing collected packages: torch_summary\r\n",
      "Successfully installed torch_summary-1.4.5\r\n"
     ]
    }
   ],
   "source": [
    "!pip install torch_summary"
   ]
  },
  {
   "cell_type": "markdown",
   "id": "64cd0a92",
   "metadata": {
    "papermill": {
     "duration": 0.011091,
     "end_time": "2023-11-05T06:52:32.749507",
     "exception": false,
     "start_time": "2023-11-05T06:52:32.738416",
     "status": "completed"
    },
    "tags": []
   },
   "source": [
    "# Import Libraries"
   ]
  },
  {
   "cell_type": "code",
   "execution_count": 2,
   "id": "be7c8971",
   "metadata": {
    "execution": {
     "iopub.execute_input": "2023-11-05T06:52:32.776148Z",
     "iopub.status.busy": "2023-11-05T06:52:32.775145Z",
     "iopub.status.idle": "2023-11-05T06:52:39.552824Z",
     "shell.execute_reply": "2023-11-05T06:52:39.551595Z"
    },
    "papermill": {
     "duration": 6.793837,
     "end_time": "2023-11-05T06:52:39.555611",
     "exception": false,
     "start_time": "2023-11-05T06:52:32.761774",
     "status": "completed"
    },
    "tags": []
   },
   "outputs": [],
   "source": [
    "import torch\n",
    "import torch.nn.functional as F\n",
    "from torch import nn, optim\n",
    "from torchvision import transforms as T, models\n",
    "from torch.utils.data import DataLoader, Dataset\n",
    "from torchsummary import summary\n",
    "from tqdm.notebook import tqdm \n",
    "\n",
    "from sklearn.metrics import classification_report, recall_score, accuracy_score, f1_score, precision_score, roc_curve, auc\n",
    "from sklearn.model_selection import train_test_split\n",
    "import seaborn as sns\n",
    "from PIL import Image\n",
    "import matplotlib.pyplot as plt\n",
    "from random import shuffle, randint, choice\n",
    "import numpy as np\n",
    "import cv2 as cv\n",
    "from glob import glob\n",
    "import pandas as pd"
   ]
  },
  {
   "cell_type": "code",
   "execution_count": 3,
   "id": "a2dc5e05",
   "metadata": {
    "execution": {
     "iopub.execute_input": "2023-11-05T06:52:39.581594Z",
     "iopub.status.busy": "2023-11-05T06:52:39.580978Z",
     "iopub.status.idle": "2023-11-05T06:52:40.728056Z",
     "shell.execute_reply": "2023-11-05T06:52:40.726087Z"
    },
    "papermill": {
     "duration": 1.16417,
     "end_time": "2023-11-05T06:52:40.731382",
     "exception": false,
     "start_time": "2023-11-05T06:52:39.567212",
     "status": "completed"
    },
    "tags": []
   },
   "outputs": [],
   "source": [
    "!mkdir saved_model\n",
    "sns.set_theme()\n",
    "device = 'cuda' if torch.cuda.is_available() else 'cpu'"
   ]
  },
  {
   "cell_type": "markdown",
   "id": "b6191efe",
   "metadata": {
    "papermill": {
     "duration": 0.011119,
     "end_time": "2023-11-05T06:52:40.756236",
     "exception": false,
     "start_time": "2023-11-05T06:52:40.745117",
     "status": "completed"
    },
    "tags": []
   },
   "source": [
    "# Dataset"
   ]
  },
  {
   "cell_type": "code",
   "execution_count": 4,
   "id": "15cb4056",
   "metadata": {
    "execution": {
     "iopub.execute_input": "2023-11-05T06:52:40.781068Z",
     "iopub.status.busy": "2023-11-05T06:52:40.780603Z",
     "iopub.status.idle": "2023-11-05T06:52:40.899918Z",
     "shell.execute_reply": "2023-11-05T06:52:40.898563Z"
    },
    "papermill": {
     "duration": 0.134813,
     "end_time": "2023-11-05T06:52:40.902488",
     "exception": false,
     "start_time": "2023-11-05T06:52:40.767675",
     "status": "completed"
    },
    "tags": []
   },
   "outputs": [
    {
     "data": {
      "text/html": [
       "<div>\n",
       "<style scoped>\n",
       "    .dataframe tbody tr th:only-of-type {\n",
       "        vertical-align: middle;\n",
       "    }\n",
       "\n",
       "    .dataframe tbody tr th {\n",
       "        vertical-align: top;\n",
       "    }\n",
       "\n",
       "    .dataframe thead th {\n",
       "        text-align: right;\n",
       "    }\n",
       "</style>\n",
       "<table border=\"1\" class=\"dataframe\">\n",
       "  <thead>\n",
       "    <tr style=\"text-align: right;\">\n",
       "      <th></th>\n",
       "      <th>Patient Age</th>\n",
       "      <th>Patient Sex</th>\n",
       "      <th>Left-Fundus</th>\n",
       "      <th>Right-Fundus</th>\n",
       "      <th>Left-Diagnostic Keywords</th>\n",
       "      <th>Right-Diagnostic Keywords</th>\n",
       "      <th>N</th>\n",
       "      <th>D</th>\n",
       "      <th>G</th>\n",
       "      <th>C</th>\n",
       "      <th>A</th>\n",
       "      <th>H</th>\n",
       "      <th>M</th>\n",
       "      <th>O</th>\n",
       "      <th>filepath</th>\n",
       "      <th>labels</th>\n",
       "      <th>target</th>\n",
       "      <th>filename</th>\n",
       "    </tr>\n",
       "    <tr>\n",
       "      <th>ID</th>\n",
       "      <th></th>\n",
       "      <th></th>\n",
       "      <th></th>\n",
       "      <th></th>\n",
       "      <th></th>\n",
       "      <th></th>\n",
       "      <th></th>\n",
       "      <th></th>\n",
       "      <th></th>\n",
       "      <th></th>\n",
       "      <th></th>\n",
       "      <th></th>\n",
       "      <th></th>\n",
       "      <th></th>\n",
       "      <th></th>\n",
       "      <th></th>\n",
       "      <th></th>\n",
       "      <th></th>\n",
       "    </tr>\n",
       "  </thead>\n",
       "  <tbody>\n",
       "    <tr>\n",
       "      <th>0</th>\n",
       "      <td>69</td>\n",
       "      <td>Female</td>\n",
       "      <td>0_left.jpg</td>\n",
       "      <td>0_right.jpg</td>\n",
       "      <td>cataract</td>\n",
       "      <td>normal fundus</td>\n",
       "      <td>0</td>\n",
       "      <td>0</td>\n",
       "      <td>0</td>\n",
       "      <td>1</td>\n",
       "      <td>0</td>\n",
       "      <td>0</td>\n",
       "      <td>0</td>\n",
       "      <td>0</td>\n",
       "      <td>../input/ocular-disease-recognition-odir5k/ODI...</td>\n",
       "      <td>['N']</td>\n",
       "      <td>[1, 0, 0, 0, 0, 0, 0, 0]</td>\n",
       "      <td>0_right.jpg</td>\n",
       "    </tr>\n",
       "    <tr>\n",
       "      <th>1</th>\n",
       "      <td>57</td>\n",
       "      <td>Male</td>\n",
       "      <td>1_left.jpg</td>\n",
       "      <td>1_right.jpg</td>\n",
       "      <td>normal fundus</td>\n",
       "      <td>normal fundus</td>\n",
       "      <td>1</td>\n",
       "      <td>0</td>\n",
       "      <td>0</td>\n",
       "      <td>0</td>\n",
       "      <td>0</td>\n",
       "      <td>0</td>\n",
       "      <td>0</td>\n",
       "      <td>0</td>\n",
       "      <td>../input/ocular-disease-recognition-odir5k/ODI...</td>\n",
       "      <td>['N']</td>\n",
       "      <td>[1, 0, 0, 0, 0, 0, 0, 0]</td>\n",
       "      <td>1_right.jpg</td>\n",
       "    </tr>\n",
       "    <tr>\n",
       "      <th>2</th>\n",
       "      <td>42</td>\n",
       "      <td>Male</td>\n",
       "      <td>2_left.jpg</td>\n",
       "      <td>2_right.jpg</td>\n",
       "      <td>laser spot，moderate non proliferative retinopathy</td>\n",
       "      <td>moderate non proliferative retinopathy</td>\n",
       "      <td>0</td>\n",
       "      <td>1</td>\n",
       "      <td>0</td>\n",
       "      <td>0</td>\n",
       "      <td>0</td>\n",
       "      <td>0</td>\n",
       "      <td>0</td>\n",
       "      <td>1</td>\n",
       "      <td>../input/ocular-disease-recognition-odir5k/ODI...</td>\n",
       "      <td>['D']</td>\n",
       "      <td>[0, 1, 0, 0, 0, 0, 0, 0]</td>\n",
       "      <td>2_right.jpg</td>\n",
       "    </tr>\n",
       "    <tr>\n",
       "      <th>4</th>\n",
       "      <td>53</td>\n",
       "      <td>Male</td>\n",
       "      <td>4_left.jpg</td>\n",
       "      <td>4_right.jpg</td>\n",
       "      <td>macular epiretinal membrane</td>\n",
       "      <td>mild nonproliferative retinopathy</td>\n",
       "      <td>0</td>\n",
       "      <td>1</td>\n",
       "      <td>0</td>\n",
       "      <td>0</td>\n",
       "      <td>0</td>\n",
       "      <td>0</td>\n",
       "      <td>0</td>\n",
       "      <td>1</td>\n",
       "      <td>../input/ocular-disease-recognition-odir5k/ODI...</td>\n",
       "      <td>['D']</td>\n",
       "      <td>[0, 1, 0, 0, 0, 0, 0, 0]</td>\n",
       "      <td>4_right.jpg</td>\n",
       "    </tr>\n",
       "    <tr>\n",
       "      <th>5</th>\n",
       "      <td>50</td>\n",
       "      <td>Female</td>\n",
       "      <td>5_left.jpg</td>\n",
       "      <td>5_right.jpg</td>\n",
       "      <td>moderate non proliferative retinopathy</td>\n",
       "      <td>moderate non proliferative retinopathy</td>\n",
       "      <td>0</td>\n",
       "      <td>1</td>\n",
       "      <td>0</td>\n",
       "      <td>0</td>\n",
       "      <td>0</td>\n",
       "      <td>0</td>\n",
       "      <td>0</td>\n",
       "      <td>0</td>\n",
       "      <td>../input/ocular-disease-recognition-odir5k/ODI...</td>\n",
       "      <td>['D']</td>\n",
       "      <td>[0, 1, 0, 0, 0, 0, 0, 0]</td>\n",
       "      <td>5_right.jpg</td>\n",
       "    </tr>\n",
       "  </tbody>\n",
       "</table>\n",
       "</div>"
      ],
      "text/plain": [
       "    Patient Age Patient Sex Left-Fundus Right-Fundus  \\\n",
       "ID                                                     \n",
       "0            69      Female  0_left.jpg  0_right.jpg   \n",
       "1            57        Male  1_left.jpg  1_right.jpg   \n",
       "2            42        Male  2_left.jpg  2_right.jpg   \n",
       "4            53        Male  4_left.jpg  4_right.jpg   \n",
       "5            50      Female  5_left.jpg  5_right.jpg   \n",
       "\n",
       "                             Left-Diagnostic Keywords  \\\n",
       "ID                                                      \n",
       "0                                            cataract   \n",
       "1                                       normal fundus   \n",
       "2   laser spot，moderate non proliferative retinopathy   \n",
       "4                         macular epiretinal membrane   \n",
       "5              moderate non proliferative retinopathy   \n",
       "\n",
       "                 Right-Diagnostic Keywords  N  D  G  C  A  H  M  O  \\\n",
       "ID                                                                   \n",
       "0                            normal fundus  0  0  0  1  0  0  0  0   \n",
       "1                            normal fundus  1  0  0  0  0  0  0  0   \n",
       "2   moderate non proliferative retinopathy  0  1  0  0  0  0  0  1   \n",
       "4        mild nonproliferative retinopathy  0  1  0  0  0  0  0  1   \n",
       "5   moderate non proliferative retinopathy  0  1  0  0  0  0  0  0   \n",
       "\n",
       "                                             filepath labels  \\\n",
       "ID                                                             \n",
       "0   ../input/ocular-disease-recognition-odir5k/ODI...  ['N']   \n",
       "1   ../input/ocular-disease-recognition-odir5k/ODI...  ['N']   \n",
       "2   ../input/ocular-disease-recognition-odir5k/ODI...  ['D']   \n",
       "4   ../input/ocular-disease-recognition-odir5k/ODI...  ['D']   \n",
       "5   ../input/ocular-disease-recognition-odir5k/ODI...  ['D']   \n",
       "\n",
       "                      target     filename  \n",
       "ID                                         \n",
       "0   [1, 0, 0, 0, 0, 0, 0, 0]  0_right.jpg  \n",
       "1   [1, 0, 0, 0, 0, 0, 0, 0]  1_right.jpg  \n",
       "2   [0, 1, 0, 0, 0, 0, 0, 0]  2_right.jpg  \n",
       "4   [0, 1, 0, 0, 0, 0, 0, 0]  4_right.jpg  \n",
       "5   [0, 1, 0, 0, 0, 0, 0, 0]  5_right.jpg  "
      ]
     },
     "execution_count": 4,
     "metadata": {},
     "output_type": "execute_result"
    }
   ],
   "source": [
    "DIR = '../input/ocular-disease-recognition-odir5k'\n",
    "\n",
    "full_df = pd.read_csv(f'{DIR}/full_df.csv', index_col=0)\n",
    "\n",
    "full_df.head()"
   ]
  },
  {
   "cell_type": "markdown",
   "id": "6c717109",
   "metadata": {
    "papermill": {
     "duration": 0.011598,
     "end_time": "2023-11-05T06:52:40.926514",
     "exception": false,
     "start_time": "2023-11-05T06:52:40.914916",
     "status": "completed"
    },
    "tags": []
   },
   "source": [
    "# Data Preprocessing"
   ]
  },
  {
   "cell_type": "code",
   "execution_count": 5,
   "id": "ff8d3192",
   "metadata": {
    "execution": {
     "iopub.execute_input": "2023-11-05T06:52:40.952930Z",
     "iopub.status.busy": "2023-11-05T06:52:40.951815Z",
     "iopub.status.idle": "2023-11-05T06:52:40.973547Z",
     "shell.execute_reply": "2023-11-05T06:52:40.972649Z"
    },
    "papermill": {
     "duration": 0.037691,
     "end_time": "2023-11-05T06:52:40.976074",
     "exception": false,
     "start_time": "2023-11-05T06:52:40.938383",
     "status": "completed"
    },
    "tags": []
   },
   "outputs": [],
   "source": [
    "full_df['side'] = full_df['filename'].str[:-4].str.replace(r'\\d+_', '', regex=True)"
   ]
  },
  {
   "cell_type": "code",
   "execution_count": 6,
   "id": "54dcbb4f",
   "metadata": {
    "execution": {
     "iopub.execute_input": "2023-11-05T06:52:41.002403Z",
     "iopub.status.busy": "2023-11-05T06:52:41.001680Z",
     "iopub.status.idle": "2023-11-05T06:52:41.016402Z",
     "shell.execute_reply": "2023-11-05T06:52:41.015171Z"
    },
    "papermill": {
     "duration": 0.031169,
     "end_time": "2023-11-05T06:52:41.019448",
     "exception": false,
     "start_time": "2023-11-05T06:52:40.988279",
     "status": "completed"
    },
    "tags": []
   },
   "outputs": [],
   "source": [
    "image_dir = '../input/ocular-disease-recognition-odir5k/ODIR-5K/'\n",
    "full_df['filepath'] = full_df['filepath'].str.replace(image_dir, image_dir + 'ODIR-5K/')"
   ]
  },
  {
   "cell_type": "code",
   "execution_count": 7,
   "id": "0ed20a84",
   "metadata": {
    "execution": {
     "iopub.execute_input": "2023-11-05T06:52:41.045367Z",
     "iopub.status.busy": "2023-11-05T06:52:41.044937Z",
     "iopub.status.idle": "2023-11-05T06:52:41.058102Z",
     "shell.execute_reply": "2023-11-05T06:52:41.056851Z"
    },
    "papermill": {
     "duration": 0.029226,
     "end_time": "2023-11-05T06:52:41.060865",
     "exception": false,
     "start_time": "2023-11-05T06:52:41.031639",
     "status": "completed"
    },
    "tags": []
   },
   "outputs": [],
   "source": [
    "age_intervals = [0, 20, 40, 60, 80, 100]\n",
    "age_labels = ['0-20', '21-40', '41-60', '61-80', '81+']\n",
    "full_df['Age Group'] = pd.cut(full_df['Patient Age'], bins=age_intervals, labels=age_labels, right=False)"
   ]
  },
  {
   "cell_type": "code",
   "execution_count": 8,
   "id": "c79cad8b",
   "metadata": {
    "execution": {
     "iopub.execute_input": "2023-11-05T06:52:41.087258Z",
     "iopub.status.busy": "2023-11-05T06:52:41.086823Z",
     "iopub.status.idle": "2023-11-05T06:52:41.098168Z",
     "shell.execute_reply": "2023-11-05T06:52:41.096720Z"
    },
    "papermill": {
     "duration": 0.027639,
     "end_time": "2023-11-05T06:52:41.100773",
     "exception": false,
     "start_time": "2023-11-05T06:52:41.073134",
     "status": "completed"
    },
    "tags": []
   },
   "outputs": [],
   "source": [
    "full_df['labels_text'] = full_df['labels'].apply(lambda x: x[2])\n",
    "full_df['target'] = np.where(full_df['labels_text'] == \"A\", 1, 0)"
   ]
  },
  {
   "cell_type": "code",
   "execution_count": 9,
   "id": "e3127878",
   "metadata": {
    "execution": {
     "iopub.execute_input": "2023-11-05T06:52:41.128555Z",
     "iopub.status.busy": "2023-11-05T06:52:41.127874Z",
     "iopub.status.idle": "2023-11-05T06:52:41.140750Z",
     "shell.execute_reply": "2023-11-05T06:52:41.139262Z"
    },
    "papermill": {
     "duration": 0.028893,
     "end_time": "2023-11-05T06:52:41.143180",
     "exception": false,
     "start_time": "2023-11-05T06:52:41.114287",
     "status": "completed"
    },
    "tags": []
   },
   "outputs": [
    {
     "name": "stdout",
     "output_type": "stream",
     "text": [
      "AMD positive: 266\n",
      "AMD negative: 6126\n"
     ]
    }
   ],
   "source": [
    "print(\"AMD positive:\", len(full_df[full_df['target']==1]))\n",
    "print(\"AMD negative:\", len(full_df[full_df['target']==0]))"
   ]
  },
  {
   "cell_type": "markdown",
   "id": "b6c886ec",
   "metadata": {
    "papermill": {
     "duration": 0.011695,
     "end_time": "2023-11-05T06:52:41.167611",
     "exception": false,
     "start_time": "2023-11-05T06:52:41.155916",
     "status": "completed"
    },
    "tags": []
   },
   "source": [
    "# Split Dataset"
   ]
  },
  {
   "cell_type": "code",
   "execution_count": 10,
   "id": "de0151bc",
   "metadata": {
    "execution": {
     "iopub.execute_input": "2023-11-05T06:52:41.193352Z",
     "iopub.status.busy": "2023-11-05T06:52:41.192913Z",
     "iopub.status.idle": "2023-11-05T06:52:41.236880Z",
     "shell.execute_reply": "2023-11-05T06:52:41.235685Z"
    },
    "papermill": {
     "duration": 0.060395,
     "end_time": "2023-11-05T06:52:41.239872",
     "exception": false,
     "start_time": "2023-11-05T06:52:41.179477",
     "status": "completed"
    },
    "tags": []
   },
   "outputs": [],
   "source": [
    "right_df = full_df[full_df['side'] == 'right']\n",
    "left_df = full_df[full_df['side'] == 'left']\n",
    "\n",
    "# Fix data imbalance\n",
    "\n",
    "right_df_0 = right_df[right_df['target'] == 0]\n",
    "right_df_0 = right_df_0.sample(frac=0.25, random_state=42)\n",
    "right_df_1 = right_df[right_df['target'] == 1]\n",
    "\n",
    "left_df_0 = left_df[left_df['target'] == 0]\n",
    "left_df_0 = left_df_0.sample(frac=0.25, random_state=42)\n",
    "left_df_1 = left_df[left_df['target'] == 1]\n",
    "\n",
    "right_df = pd.concat([right_df_0, right_df_1])\n",
    "left_df = pd.concat([left_df_0, left_df_1])\n",
    "\n",
    "right_df = right_df.sample(frac=1, random_state=42)\n",
    "left_df = left_df.sample(frac=1, random_state=42)\n",
    "\n",
    "right_train, right_test = train_test_split(right_df, test_size=0.2, random_state=42)\n",
    "left_train, left_test = train_test_split(left_df, test_size=0.2, random_state=42)\n",
    "\n",
    "train_df = pd.concat([right_train, left_train])\n",
    "valid_df = pd.concat([right_test, left_test])"
   ]
  },
  {
   "cell_type": "markdown",
   "id": "d0b12ab1",
   "metadata": {
    "papermill": {
     "duration": 0.011579,
     "end_time": "2023-11-05T06:52:41.263767",
     "exception": false,
     "start_time": "2023-11-05T06:52:41.252188",
     "status": "completed"
    },
    "tags": []
   },
   "source": [
    "# Prepare Dataset and Dataloader"
   ]
  },
  {
   "cell_type": "code",
   "execution_count": 11,
   "id": "84879ac8",
   "metadata": {
    "execution": {
     "iopub.execute_input": "2023-11-05T06:52:41.291563Z",
     "iopub.status.busy": "2023-11-05T06:52:41.291067Z",
     "iopub.status.idle": "2023-11-05T06:52:41.304268Z",
     "shell.execute_reply": "2023-11-05T06:52:41.302982Z"
    },
    "papermill": {
     "duration": 0.031085,
     "end_time": "2023-11-05T06:52:41.307315",
     "exception": false,
     "start_time": "2023-11-05T06:52:41.276230",
     "status": "completed"
    },
    "tags": []
   },
   "outputs": [],
   "source": [
    "class EyeDataset(Dataset):\n",
    "    def __init__(self, df, data_transform = None):\n",
    "        self.df = df\n",
    "        self.data_transform = data_transform\n",
    "        self.transform = T.Compose([\n",
    "            T.Resize([224, 224]),\n",
    "            T.ToTensor(),\n",
    "            T.Normalize((0.485, 0.456, 0.406),\n",
    "                       (0.229, 0.224, 0.225))\n",
    "        ])\n",
    "    \n",
    "    def __len__(self):\n",
    "        return len(self.df)\n",
    "    \n",
    "    def __getitem__(self, idx):\n",
    "        filepath = self.df.iloc[idx]['filepath']\n",
    "        image = cv.imread(filepath)\n",
    "        image = cv.cvtColor(image, cv.COLOR_BGR2GRAY)\n",
    "        _, thresholded = cv.threshold(image, 0, 255, cv.THRESH_OTSU)\n",
    "        x, y, w, h = cv.boundingRect(thresholded)\n",
    "        cropped_image = cv.cvtColor(image[y:y+h, x:x+w], cv.COLOR_GRAY2RGB)\n",
    "        cropped_image = Image.fromarray(cropped_image)\n",
    "        target = self.df.iloc[idx]['target']\n",
    "        \n",
    "        return cropped_image, target\n",
    "    \n",
    "    def transform_img(self, img):\n",
    "        return self.transform(img)\n",
    "    \n",
    "    def collate_fn(self, data):\n",
    "        imgs, targets = zip(*data)\n",
    "        targets = torch.tensor(targets)\n",
    "        targets = targets.view(-1, 1).float()\n",
    "        targets = targets.to(device)\n",
    "        imgs = torch.stack(\n",
    "            [self.transform_img(img) for img in imgs], 0\n",
    "        ).to(device)\n",
    "        return imgs, targets"
   ]
  },
  {
   "cell_type": "code",
   "execution_count": 12,
   "id": "66c38acf",
   "metadata": {
    "execution": {
     "iopub.execute_input": "2023-11-05T06:52:41.334547Z",
     "iopub.status.busy": "2023-11-05T06:52:41.334122Z",
     "iopub.status.idle": "2023-11-05T06:52:41.341599Z",
     "shell.execute_reply": "2023-11-05T06:52:41.340050Z"
    },
    "papermill": {
     "duration": 0.025307,
     "end_time": "2023-11-05T06:52:41.345032",
     "exception": false,
     "start_time": "2023-11-05T06:52:41.319725",
     "status": "completed"
    },
    "tags": []
   },
   "outputs": [],
   "source": [
    "data_transforms = T.Compose([\n",
    "    T.RandomHorizontalFlip(),\n",
    "    T.RandomRotation(15),\n",
    "    T.ColorJitter(brightness=0.2, contrast=0.2, saturation=0.2, hue=0.1),\n",
    "    T.RandomResizedCrop(224, scale=(0.8, 1.0))\n",
    "])"
   ]
  },
  {
   "cell_type": "code",
   "execution_count": 13,
   "id": "f9631ea7",
   "metadata": {
    "execution": {
     "iopub.execute_input": "2023-11-05T06:52:41.371226Z",
     "iopub.status.busy": "2023-11-05T06:52:41.370796Z",
     "iopub.status.idle": "2023-11-05T06:52:41.378163Z",
     "shell.execute_reply": "2023-11-05T06:52:41.376979Z"
    },
    "papermill": {
     "duration": 0.023534,
     "end_time": "2023-11-05T06:52:41.380922",
     "exception": false,
     "start_time": "2023-11-05T06:52:41.357388",
     "status": "completed"
    },
    "tags": []
   },
   "outputs": [],
   "source": [
    "train_ds = EyeDataset(train_df)\n",
    "train_dl = DataLoader(train_ds, batch_size=32, shuffle=True,\n",
    "                      collate_fn=train_ds.collate_fn, \n",
    "                      drop_last=True)\n",
    "\n",
    "valid_ds = EyeDataset(valid_df)\n",
    "valid_dl = DataLoader(valid_ds, batch_size=32,\n",
    "                      collate_fn=valid_ds.collate_fn)"
   ]
  },
  {
   "cell_type": "code",
   "execution_count": 14,
   "id": "7d0f8c46",
   "metadata": {
    "execution": {
     "iopub.execute_input": "2023-11-05T06:52:41.407005Z",
     "iopub.status.busy": "2023-11-05T06:52:41.406562Z",
     "iopub.status.idle": "2023-11-05T06:52:41.412515Z",
     "shell.execute_reply": "2023-11-05T06:52:41.411277Z"
    },
    "papermill": {
     "duration": 0.021828,
     "end_time": "2023-11-05T06:52:41.415271",
     "exception": false,
     "start_time": "2023-11-05T06:52:41.393443",
     "status": "completed"
    },
    "tags": []
   },
   "outputs": [
    {
     "name": "stdout",
     "output_type": "stream",
     "text": [
      "Size of Train: 1436\n",
      "Size of Validation: 361\n"
     ]
    }
   ],
   "source": [
    "print('Size of Train:', len(train_ds))\n",
    "print('Size of Validation:', len(valid_ds))"
   ]
  },
  {
   "cell_type": "markdown",
   "id": "a31a7710",
   "metadata": {
    "papermill": {
     "duration": 0.01212,
     "end_time": "2023-11-05T06:52:41.439335",
     "exception": false,
     "start_time": "2023-11-05T06:52:41.427215",
     "status": "completed"
    },
    "tags": []
   },
   "source": [
    "# Model"
   ]
  },
  {
   "cell_type": "code",
   "execution_count": 15,
   "id": "7c152364",
   "metadata": {
    "execution": {
     "iopub.execute_input": "2023-11-05T06:52:41.465297Z",
     "iopub.status.busy": "2023-11-05T06:52:41.464890Z",
     "iopub.status.idle": "2023-11-05T06:52:41.474582Z",
     "shell.execute_reply": "2023-11-05T06:52:41.473279Z"
    },
    "papermill": {
     "duration": 0.026414,
     "end_time": "2023-11-05T06:52:41.477738",
     "exception": false,
     "start_time": "2023-11-05T06:52:41.451324",
     "status": "completed"
    },
    "tags": []
   },
   "outputs": [],
   "source": [
    "class EyeClassifier(nn.Module):\n",
    "    def __init__(self, pretrained=True):\n",
    "        super().__init__()\n",
    "        self.model = models.resnet34(pretrained=pretrained, progress=pretrained)\n",
    "        for param in self.model.parameters():\n",
    "            param.requires_grad = True\n",
    "            \n",
    "        num_features = self.model.fc.in_features\n",
    "        self.model.fc = nn.Sequential(\n",
    "            nn.Flatten(),\n",
    "            nn.BatchNorm1d(num_features),\n",
    "            nn.Dropout(0.5),\n",
    "            nn.Linear(num_features, 128),\n",
    "            nn.ReLU(),\n",
    "            nn.Dropout(0.5),\n",
    "            nn.Linear(128, 1),\n",
    "            nn.Sigmoid()\n",
    "        )\n",
    "        \n",
    "#         num_features = self.model.fc.in_features\n",
    "#         self.model.fc = nn.Sequential(\n",
    "#             nn.Flatten(),\n",
    "#             nn.BatchNorm1d(num_features),\n",
    "#             nn.Dropout(0.5),\n",
    "#             nn.Linear(num_features, 1),\n",
    "#             nn.Sigmoid()\n",
    "#         )\n",
    "        \n",
    "    def forward(self, x):\n",
    "        x = self.model(x)\n",
    "        return x"
   ]
  },
  {
   "cell_type": "code",
   "execution_count": 16,
   "id": "e09dfc31",
   "metadata": {
    "execution": {
     "iopub.execute_input": "2023-11-05T06:52:41.504893Z",
     "iopub.status.busy": "2023-11-05T06:52:41.504333Z",
     "iopub.status.idle": "2023-11-05T06:53:01.589385Z",
     "shell.execute_reply": "2023-11-05T06:53:01.588498Z"
    },
    "papermill": {
     "duration": 20.102052,
     "end_time": "2023-11-05T06:53:01.592555",
     "exception": false,
     "start_time": "2023-11-05T06:52:41.490503",
     "status": "completed"
    },
    "tags": []
   },
   "outputs": [
    {
     "name": "stderr",
     "output_type": "stream",
     "text": [
      "/opt/conda/lib/python3.10/site-packages/torchvision/models/_utils.py:208: UserWarning: The parameter 'pretrained' is deprecated since 0.13 and may be removed in the future, please use 'weights' instead.\n",
      "  warnings.warn(\n",
      "/opt/conda/lib/python3.10/site-packages/torchvision/models/_utils.py:223: UserWarning: Arguments other than a weight enum or `None` for 'weights' are deprecated since 0.13 and may be removed in the future. The current behavior is equivalent to passing `weights=ResNet34_Weights.IMAGENET1K_V1`. You can also use `weights=ResNet34_Weights.DEFAULT` to get the most up-to-date weights.\n",
      "  warnings.warn(msg)\n",
      "Downloading: \"https://download.pytorch.org/models/resnet34-b627a593.pth\" to /root/.cache/torch/hub/checkpoints/resnet34-b627a593.pth\n",
      "100%|██████████| 83.3M/83.3M [00:18<00:00, 4.80MB/s]\n"
     ]
    },
    {
     "name": "stdout",
     "output_type": "stream",
     "text": [
      "==========================================================================================\n",
      "Layer (type:depth-idx)                   Output Shape              Param #\n",
      "==========================================================================================\n",
      "├─ResNet: 1-1                            [-1, 1]                   --\n",
      "|    └─Conv2d: 2-1                       [-1, 64, 112, 112]        9,408\n",
      "|    └─BatchNorm2d: 2-2                  [-1, 64, 112, 112]        128\n",
      "|    └─ReLU: 2-3                         [-1, 64, 112, 112]        --\n",
      "|    └─MaxPool2d: 2-4                    [-1, 64, 56, 56]          --\n",
      "|    └─Sequential: 2-5                   [-1, 64, 56, 56]          --\n",
      "|    |    └─BasicBlock: 3-1              [-1, 64, 56, 56]          73,984\n",
      "|    |    └─BasicBlock: 3-2              [-1, 64, 56, 56]          73,984\n",
      "|    |    └─BasicBlock: 3-3              [-1, 64, 56, 56]          73,984\n",
      "|    └─Sequential: 2-6                   [-1, 128, 28, 28]         --\n",
      "|    |    └─BasicBlock: 3-4              [-1, 128, 28, 28]         230,144\n",
      "|    |    └─BasicBlock: 3-5              [-1, 128, 28, 28]         295,424\n",
      "|    |    └─BasicBlock: 3-6              [-1, 128, 28, 28]         295,424\n",
      "|    |    └─BasicBlock: 3-7              [-1, 128, 28, 28]         295,424\n",
      "|    └─Sequential: 2-7                   [-1, 256, 14, 14]         --\n",
      "|    |    └─BasicBlock: 3-8              [-1, 256, 14, 14]         919,040\n",
      "|    |    └─BasicBlock: 3-9              [-1, 256, 14, 14]         1,180,672\n",
      "|    |    └─BasicBlock: 3-10             [-1, 256, 14, 14]         1,180,672\n",
      "|    |    └─BasicBlock: 3-11             [-1, 256, 14, 14]         1,180,672\n",
      "|    |    └─BasicBlock: 3-12             [-1, 256, 14, 14]         1,180,672\n",
      "|    |    └─BasicBlock: 3-13             [-1, 256, 14, 14]         1,180,672\n",
      "|    └─Sequential: 2-8                   [-1, 512, 7, 7]           --\n",
      "|    |    └─BasicBlock: 3-14             [-1, 512, 7, 7]           3,673,088\n",
      "|    |    └─BasicBlock: 3-15             [-1, 512, 7, 7]           4,720,640\n",
      "|    |    └─BasicBlock: 3-16             [-1, 512, 7, 7]           4,720,640\n",
      "|    └─AdaptiveAvgPool2d: 2-9            [-1, 512, 1, 1]           --\n",
      "|    └─Sequential: 2-10                  [-1, 1]                   --\n",
      "|    |    └─Flatten: 3-17                [-1, 512]                 --\n",
      "|    |    └─BatchNorm1d: 3-18            [-1, 512]                 1,024\n",
      "|    |    └─Dropout: 3-19                [-1, 512]                 --\n",
      "|    |    └─Linear: 3-20                 [-1, 128]                 65,664\n",
      "|    |    └─ReLU: 3-21                   [-1, 128]                 --\n",
      "|    |    └─Dropout: 3-22                [-1, 128]                 --\n",
      "|    |    └─Linear: 3-23                 [-1, 1]                   129\n",
      "|    |    └─Sigmoid: 3-24                [-1, 1]                   --\n",
      "==========================================================================================\n",
      "Total params: 21,351,489\n",
      "Trainable params: 21,351,489\n",
      "Non-trainable params: 0\n",
      "Total mult-adds (G): 3.71\n",
      "==========================================================================================\n",
      "Input size (MB): 0.57\n",
      "Forward/backward pass size (MB): 54.36\n",
      "Params size (MB): 81.45\n",
      "Estimated Total Size (MB): 136.39\n",
      "==========================================================================================\n"
     ]
    }
   ],
   "source": [
    "classifier = EyeClassifier(pretrained=True)\n",
    "_ = summary(classifier, torch.ones(1,3,224,224))"
   ]
  },
  {
   "cell_type": "markdown",
   "id": "e9160182",
   "metadata": {
    "papermill": {
     "duration": 0.02251,
     "end_time": "2023-11-05T06:53:01.637986",
     "exception": false,
     "start_time": "2023-11-05T06:53:01.615476",
     "status": "completed"
    },
    "tags": []
   },
   "source": [
    "# Define Train and Validate Functions"
   ]
  },
  {
   "cell_type": "code",
   "execution_count": 17,
   "id": "2aff6dca",
   "metadata": {
    "execution": {
     "iopub.execute_input": "2023-11-05T06:53:01.684254Z",
     "iopub.status.busy": "2023-11-05T06:53:01.683847Z",
     "iopub.status.idle": "2023-11-05T06:53:01.690532Z",
     "shell.execute_reply": "2023-11-05T06:53:01.689244Z"
    },
    "papermill": {
     "duration": 0.032849,
     "end_time": "2023-11-05T06:53:01.693007",
     "exception": false,
     "start_time": "2023-11-05T06:53:01.660158",
     "status": "completed"
    },
    "tags": []
   },
   "outputs": [],
   "source": [
    "def crop_image(image):\n",
    "    _, thresholded = cv.threshold(image, 0, 255, cv.THRESH_OTSU)\n",
    "    x, y, w, h = cv.boundingRect(thresholded)\n",
    "    return image[y:y+h, x:x+w]"
   ]
  },
  {
   "cell_type": "code",
   "execution_count": 18,
   "id": "b60d01b3",
   "metadata": {
    "execution": {
     "iopub.execute_input": "2023-11-05T06:53:01.741087Z",
     "iopub.status.busy": "2023-11-05T06:53:01.740705Z",
     "iopub.status.idle": "2023-11-05T06:53:01.751075Z",
     "shell.execute_reply": "2023-11-05T06:53:01.749858Z"
    },
    "papermill": {
     "duration": 0.038589,
     "end_time": "2023-11-05T06:53:01.753859",
     "exception": false,
     "start_time": "2023-11-05T06:53:01.715270",
     "status": "completed"
    },
    "tags": []
   },
   "outputs": [],
   "source": [
    "def train(data, classifier, optimizer, loss_fn):\n",
    "    classifier.train()\n",
    "    imgs, targets = data\n",
    "    outputs = classifier(imgs.to(device))\n",
    "    loss = loss_fn(outputs.to(device), targets.to(device))\n",
    "    optimizer.zero_grad()\n",
    "    loss.backward()\n",
    "    optimizer.step()\n",
    "    \n",
    "    outputs = outputs.cpu().detach().tolist()\n",
    "    targets = targets.cpu().detach().tolist()\n",
    "    preds = list(map(lambda x: int(x[0] > 0.5), outputs))\n",
    "    \n",
    "    fake_recall_score = recall_score(targets, preds, pos_label=0,zero_division=0)\n",
    "    fake_accuracy_score = accuracy_score(targets, preds)\n",
    "    fake_precision_score = precision_score(targets, preds, pos_label=0,zero_division=0)\n",
    "    fake_f1_score = f1_score(targets, preds, pos_label=0,zero_division=0)\n",
    "    fpr, tpr, thresholds = roc_curve(targets, outputs)\n",
    "    roc_auc = auc(fpr, tpr)\n",
    "    \n",
    "    return loss.cpu().detach().item(), fake_recall_score, fake_accuracy_score, fake_precision_score, fake_f1_score, fpr, tpr, roc_auc"
   ]
  },
  {
   "cell_type": "code",
   "execution_count": 19,
   "id": "c8b74e03",
   "metadata": {
    "execution": {
     "iopub.execute_input": "2023-11-05T06:53:01.871594Z",
     "iopub.status.busy": "2023-11-05T06:53:01.871181Z",
     "iopub.status.idle": "2023-11-05T06:53:01.881295Z",
     "shell.execute_reply": "2023-11-05T06:53:01.879928Z"
    },
    "papermill": {
     "duration": 0.037404,
     "end_time": "2023-11-05T06:53:01.883866",
     "exception": false,
     "start_time": "2023-11-05T06:53:01.846462",
     "status": "completed"
    },
    "tags": []
   },
   "outputs": [],
   "source": [
    "@torch.no_grad()\n",
    "def validate(data, classifier, loss_fn):\n",
    "    classifier.eval()\n",
    "    imgs, targets = data\n",
    "    outputs = classifier(imgs.to(device))\n",
    "    loss = loss_fn(outputs.to(device), targets.to(device))\n",
    "    \n",
    "    outputs = outputs.cpu().detach().tolist()\n",
    "    targets = targets.cpu().detach().tolist()\n",
    "    preds = list(map(lambda x: int(x[0] > 0.5), outputs))\n",
    "    fake_recall_score = recall_score(targets, preds, pos_label=0, zero_division=0)\n",
    "    fake_accuracy_score = accuracy_score(targets, preds)\n",
    "    fake_precision_score = precision_score(targets, preds, pos_label=0,zero_division=0)\n",
    "    fake_f1_score = f1_score(targets, preds, pos_label=0,zero_division=0)\n",
    "    fpr, tpr, thresholds = roc_curve(targets, outputs)\n",
    "    roc_auc = auc(fpr, tpr)\n",
    "    \n",
    "    return loss.cpu().detach().item(), fake_recall_score, fake_accuracy_score, fake_precision_score, fake_f1_score, fpr, tpr, roc_auc"
   ]
  },
  {
   "cell_type": "markdown",
   "id": "291b2642",
   "metadata": {
    "papermill": {
     "duration": 0.023356,
     "end_time": "2023-11-05T06:53:01.931397",
     "exception": false,
     "start_time": "2023-11-05T06:53:01.908041",
     "status": "completed"
    },
    "tags": []
   },
   "source": [
    "# Training Model"
   ]
  },
  {
   "cell_type": "code",
   "execution_count": 20,
   "id": "70e4b814",
   "metadata": {
    "execution": {
     "iopub.execute_input": "2023-11-05T06:53:01.979595Z",
     "iopub.status.busy": "2023-11-05T06:53:01.979176Z",
     "iopub.status.idle": "2023-11-05T06:53:02.516942Z",
     "shell.execute_reply": "2023-11-05T06:53:02.515806Z"
    },
    "papermill": {
     "duration": 0.565759,
     "end_time": "2023-11-05T06:53:02.519758",
     "exception": false,
     "start_time": "2023-11-05T06:53:01.953999",
     "status": "completed"
    },
    "tags": []
   },
   "outputs": [],
   "source": [
    "classifier = EyeClassifier(pretrained=True).to(device)\n",
    "loss_fn = nn.BCELoss().to(device)\n",
    "optimizer = optim.Adam(classifier.parameters(), lr=5e-5, weight_decay=5e-4)\n",
    "scheduler = optim.lr_scheduler.StepLR(optimizer, step_size=3,\n",
    "                                      gamma=0.25)\n",
    "best_auc_score = 0\n",
    "n_epochs = 10\n",
    "xticks = list(i+1 for i in range(n_epochs))"
   ]
  },
  {
   "cell_type": "code",
   "execution_count": 21,
   "id": "583f4efc",
   "metadata": {
    "execution": {
     "iopub.execute_input": "2023-11-05T06:53:02.572415Z",
     "iopub.status.busy": "2023-11-05T06:53:02.571993Z",
     "iopub.status.idle": "2023-11-05T08:17:12.347095Z",
     "shell.execute_reply": "2023-11-05T08:17:12.345727Z"
    },
    "papermill": {
     "duration": 5049.806131,
     "end_time": "2023-11-05T08:17:12.350625",
     "exception": false,
     "start_time": "2023-11-05T06:53:02.544494",
     "status": "completed"
    },
    "tags": []
   },
   "outputs": [
    {
     "data": {
      "application/vnd.jupyter.widget-view+json": {
       "model_id": "d4d19d5111d74b819d15621abbf678a4",
       "version_major": 2,
       "version_minor": 0
      },
      "text/plain": [
       "Training:   0%|          | 0/10 [00:00<?, ?it/s]"
      ]
     },
     "metadata": {},
     "output_type": "display_data"
    },
    {
     "name": "stdout",
     "output_type": "stream",
     "text": [
      "epoch: 1 \ttrain loss: 0.680 \ttrain recall score: 0.570 \ttrain accuracy score: 0.573 \ttrain precision score: 0.883 \ttrain f1 score: 0.683 \ttrain auc: 0.605 \tvalid loss: 0.548 \tvalid recall score: 0.939 \tvalid accuracy score: 0.840 \tvalid precision score: 0.881 \tvalid f1 score: 0.908 \tvalid auc: 0.696\n",
      "epoch: 2 \ttrain loss: 0.493 \ttrain recall score: 0.848 \ttrain accuracy score: 0.810 \ttrain precision score: 0.925 \ttrain f1 score: 0.882 \ttrain auc: 0.825 \tvalid loss: 0.393 \tvalid recall score: 0.937 \tvalid accuracy score: 0.856 \tvalid precision score: 0.900 \tvalid f1 score: 0.917 \tvalid auc: 0.827\n",
      "epoch: 3 \ttrain loss: 0.353 \ttrain recall score: 0.946 \ttrain accuracy score: 0.899 \ttrain precision score: 0.936 \ttrain f1 score: 0.940 \ttrain auc: 0.904 \tvalid loss: 0.331 \tvalid recall score: 0.970 \tvalid accuracy score: 0.887 \tvalid precision score: 0.905 \tvalid f1 score: 0.935 \tvalid auc: 0.833\n",
      "epoch: 3.682 \ttrain loss: 0.213 \ttrain recall score: 1.000 \ttrain accuracy score: 1.000 \ttrain precision score: 1.000 \ttrain f1 score: 1.000 \ttrain auc: 1.000\r"
     ]
    },
    {
     "name": "stderr",
     "output_type": "stream",
     "text": [
      "/opt/conda/lib/python3.10/site-packages/sklearn/metrics/_ranking.py:1029: UndefinedMetricWarning: No positive samples in y_true, true positive value should be meaningless\n",
      "  warnings.warn(\n"
     ]
    },
    {
     "name": "stdout",
     "output_type": "stream",
     "text": [
      "epoch: 4 \ttrain loss: 0.238 \ttrain recall score: 0.981 \ttrain accuracy score: 0.956 \ttrain precision score: 0.967 \ttrain f1 score: 0.974 \ttrain auc: nan \tvalid loss: 0.323 \tvalid recall score: 0.967 \tvalid accuracy score: 0.884 \tvalid precision score: 0.905 \tvalid f1 score: 0.934 \tvalid auc: 0.834\n",
      "epoch: 4.818 \ttrain loss: 0.132 \ttrain recall score: 1.000 \ttrain accuracy score: 1.000 \ttrain precision score: 1.000 \ttrain f1 score: 1.000 \ttrain auc: 1.000\r"
     ]
    },
    {
     "name": "stderr",
     "output_type": "stream",
     "text": [
      "/opt/conda/lib/python3.10/site-packages/sklearn/metrics/_ranking.py:1029: UndefinedMetricWarning: No positive samples in y_true, true positive value should be meaningless\n",
      "  warnings.warn(\n"
     ]
    },
    {
     "name": "stdout",
     "output_type": "stream",
     "text": [
      "epoch: 5 \ttrain loss: 0.205 \ttrain recall score: 0.987 \ttrain accuracy score: 0.972 \ttrain precision score: 0.980 \ttrain f1 score: 0.983 \ttrain auc: nan \tvalid loss: 0.321 \tvalid recall score: 0.952 \tvalid accuracy score: 0.880 \tvalid precision score: 0.911 \tvalid f1 score: 0.930 \tvalid auc: 0.845\n",
      "epoch: 6 \ttrain loss: 0.175 \ttrain recall score: 0.993 \ttrain accuracy score: 0.982 \ttrain precision score: 0.986 \ttrain f1 score: 0.989 \ttrain auc: 0.994 \tvalid loss: 0.332 \tvalid recall score: 0.937 \tvalid accuracy score: 0.875 \tvalid precision score: 0.918 \tvalid f1 score: 0.926 \tvalid auc: 0.842\n",
      "epoch: 7 \ttrain loss: 0.148 \ttrain recall score: 0.997 \ttrain accuracy score: 0.988 \ttrain precision score: 0.988 \ttrain f1 score: 0.992 \ttrain auc: 0.999 \tvalid loss: 0.320 \tvalid recall score: 0.943 \tvalid accuracy score: 0.880 \tvalid precision score: 0.919 \tvalid f1 score: 0.930 \tvalid auc: 0.841\n",
      "epoch: 8 \ttrain loss: 0.144 \ttrain recall score: 0.997 \ttrain accuracy score: 0.989 \ttrain precision score: 0.991 \ttrain f1 score: 0.994 \ttrain auc: 0.995 \tvalid loss: 0.317 \tvalid recall score: 0.946 \tvalid accuracy score: 0.877 \tvalid precision score: 0.913 \tvalid f1 score: 0.928 \tvalid auc: 0.842\n",
      "epoch: 9 \ttrain loss: 0.143 \ttrain recall score: 0.995 \ttrain accuracy score: 0.992 \ttrain precision score: 0.996 \ttrain f1 score: 0.996 \ttrain auc: 0.998 \tvalid loss: 0.311 \tvalid recall score: 0.949 \tvalid accuracy score: 0.875 \tvalid precision score: 0.909 \tvalid f1 score: 0.927 \tvalid auc: 0.840\n",
      "epoch: 10 \ttrain loss: 0.131 \ttrain recall score: 0.998 \ttrain accuracy score: 0.994 \ttrain precision score: 0.995 \ttrain f1 score: 0.997 \ttrain auc: 0.998 \tvalid loss: 0.321 \tvalid recall score: 0.943 \tvalid accuracy score: 0.877 \tvalid precision score: 0.916 \tvalid f1 score: 0.928 \tvalid auc: 0.840\n"
     ]
    }
   ],
   "source": [
    "mem = {\n",
    "    'train_loss': [],\n",
    "    'train_recall_score': [],\n",
    "    'train_accuracy_score': [],\n",
    "    'train_precision_score': [],\n",
    "    'train_f1_score': [],\n",
    "    'train_tpr': [],\n",
    "    'train_fpr': [],\n",
    "    'train_auc': [],\n",
    "    'valid_loss': [],\n",
    "    'valid_recall_score': [],\n",
    "    'valid_accuracy_score': [],\n",
    "    'valid_precision_score': [],\n",
    "    'valid_f1_score': [],\n",
    "    'valid_tpr': [],\n",
    "    'valid_fpr': [],\n",
    "    'valid_auc': [],\n",
    "}\n",
    "\n",
    "for epoch in tqdm(range(n_epochs), desc='Training'):\n",
    "    n_batch = len(train_dl)\n",
    "    train_losses, train_recall_scores, train_accuracy_scores, train_precision_scores, train_f1_scores, train_tprs, train_fprs, train_aucs = [], [], [], [], [], [], [], []\n",
    "    for i, data in enumerate(train_dl):\n",
    "        train_loss, train_recall_score, train_accuracy_score, train_precision_score, train_f1_score, train_tpr, train_fpr, train_auc = train(data, classifier, optimizer, loss_fn)\n",
    "        train_losses.append(train_loss)\n",
    "        train_recall_scores.append(train_recall_score)\n",
    "        train_accuracy_scores.append(train_accuracy_score)\n",
    "        train_precision_scores.append(train_precision_score)\n",
    "        train_f1_scores.append(train_f1_score)\n",
    "        train_tprs.append(train_tpr)\n",
    "        train_fprs.append(train_fpr)\n",
    "        train_aucs.append(train_auc)\n",
    "        pos = epoch + ((i+1)/n_batch)\n",
    "        print(\n",
    "            'epoch:', \"%.3f\" % pos,\n",
    "            '\\ttrain loss:', \"%.3f\" % train_loss,\n",
    "            '\\ttrain recall score:', \"%.3f\" % train_recall_score, \n",
    "            '\\ttrain accuracy score:', \"%.3f\" % train_accuracy_score, \n",
    "            '\\ttrain precision score:', \"%.3f\" % train_precision_score, \n",
    "            '\\ttrain f1 score:', \"%.3f\" % train_f1_score, \n",
    "            '\\ttrain auc:', \"%.3f\" % train_auc, \n",
    "            end='\\r'\n",
    "        )\n",
    "        \n",
    "    mem['train_loss'].append(np.mean(train_losses))\n",
    "    mem['train_recall_score'].append(np.mean(train_recall_scores))\n",
    "    mem['train_accuracy_score'].append(np.mean(train_accuracy_scores))\n",
    "    mem['train_precision_score'].append(np.mean(train_precision_scores))\n",
    "    mem['train_f1_score'].append(np.mean(train_f1_scores))\n",
    "    mem['train_tpr'].append(np.concatenate(train_fprs))\n",
    "    mem['train_fpr'].append(np.concatenate(train_tprs))\n",
    "    mem['train_auc'].append(np.mean(train_aucs))\n",
    "    \n",
    "    n_batch = len(valid_dl)\n",
    "    valid_losses, valid_recall_scores, valid_f1_scores, valid_accuracy_scores, valid_precision_scores, valid_tprs, valid_fprs, valid_aucs =  [], [], [], [], [], [], [], []\n",
    "    for i, data in enumerate(valid_dl):\n",
    "        valid_loss, valid_recall_score, valid_accuracy_score, valid_precision_score, valid_f1_score, valid_tpr, valid_fpr, valid_auc = validate(data, classifier, loss_fn)\n",
    "        valid_losses.append(valid_loss)\n",
    "        valid_recall_scores.append(valid_recall_score)\n",
    "        valid_accuracy_scores.append(valid_accuracy_score)\n",
    "        valid_precision_scores.append(valid_precision_score)\n",
    "        valid_f1_scores.append(valid_f1_score)\n",
    "        valid_tprs.append(valid_tpr)\n",
    "        valid_fprs.append(valid_fpr)\n",
    "        valid_aucs.append(valid_auc)\n",
    "        pos = epoch + ((i+1)/n_batch)\n",
    "        print(\n",
    "            'epoch:', \"%.3f\" % pos,\n",
    "            '\\tvalid loss:', \"%.3f\" % valid_loss,\n",
    "            '\\tvalid recall score:', \"%.3f\" % valid_recall_score, \n",
    "            '\\tvalid accuracy score:', \"%.3f\" % valid_accuracy_score, \n",
    "            '\\tvalid precision score:', \"%.3f\" % valid_precision_score, \n",
    "            '\\tvalid f1 score:', \"%.3f\" % valid_f1_score, \n",
    "            '\\tvalid auc:', \"%.3f\" % valid_auc, \n",
    "            end='\\r'\n",
    "        )\n",
    "    \n",
    "    cur_auc_score = np.mean(valid_aucs)\n",
    "    mem['valid_loss'].append(np.mean(valid_losses))\n",
    "    mem['valid_recall_score'].append(np.mean(valid_recall_scores))\n",
    "    mem['valid_accuracy_score'].append(np.mean(valid_accuracy_scores))\n",
    "    mem['valid_precision_score'].append(np.mean(valid_precision_scores))\n",
    "    mem['valid_f1_score'].append(np.mean(valid_f1_scores))\n",
    "    mem['valid_tpr'].append(np.concatenate(valid_fprs))\n",
    "    mem['valid_fpr'].append(np.concatenate(valid_tprs))\n",
    "    mem['valid_auc'].append(np.mean(valid_aucs))\n",
    "    \n",
    "    print(\n",
    "        'epoch:', epoch+1,\n",
    "        '\\ttrain loss:', \"%.3f\" % mem['train_loss'][-1],\n",
    "        '\\ttrain recall score:', \"%.3f\" % mem['train_recall_score'][-1],\n",
    "        '\\ttrain accuracy score:', \"%.3f\" % mem['train_accuracy_score'][-1],\n",
    "        '\\ttrain precision score:', \"%.3f\" % mem['train_precision_score'][-1],\n",
    "        '\\ttrain f1 score:', \"%.3f\" % mem['train_f1_score'][-1],\n",
    "        '\\ttrain auc:', \"%.3f\" % mem['train_auc'][-1],\n",
    "        '\\tvalid loss:', \"%.3f\" % mem['valid_loss'][-1],\n",
    "        '\\tvalid recall score:', \"%.3f\" % mem['valid_recall_score'][-1],\n",
    "        '\\tvalid accuracy score:', \"%.3f\" % mem['valid_accuracy_score'][-1],\n",
    "        '\\tvalid precision score:', \"%.3f\" % mem['valid_precision_score'][-1],\n",
    "        '\\tvalid f1 score:', \"%.3f\" % mem['valid_f1_score'][-1],\n",
    "        '\\tvalid auc:', \"%.3f\" % mem['valid_auc'][-1],\n",
    "    )\n",
    "    \n",
    "    if best_auc_score < cur_auc_score:\n",
    "        best_auc_score = cur_auc_score\n",
    "        torch.save(classifier.state_dict(), './saved_model/diabetic_state_dict.pth')\n",
    "        torch.save(classifier, './saved_model/diabetic_model.pth')\n",
    "        \n",
    "    scheduler.step()"
   ]
  },
  {
   "cell_type": "code",
   "execution_count": 22,
   "id": "f708bcf2",
   "metadata": {
    "execution": {
     "iopub.execute_input": "2023-11-05T08:17:12.501166Z",
     "iopub.status.busy": "2023-11-05T08:17:12.500698Z",
     "iopub.status.idle": "2023-11-05T08:17:12.945101Z",
     "shell.execute_reply": "2023-11-05T08:17:12.943891Z"
    },
    "papermill": {
     "duration": 0.522948,
     "end_time": "2023-11-05T08:17:12.947739",
     "exception": false,
     "start_time": "2023-11-05T08:17:12.424791",
     "status": "completed"
    },
    "tags": []
   },
   "outputs": [
    {
     "data": {
      "image/png": "[encoded data removed]",
      "text/plain": [
       "<Figure size 640x480 with 1 Axes>"
      ]
     },
     "metadata": {},
     "output_type": "display_data"
    }
   ],
   "source": [
    "plt.plot(xticks, mem['train_loss'])\n",
    "plt.plot(xticks, mem['valid_loss'])\n",
    "plt.legend(['train', 'valid'])\n",
    "plt.xlabel('epoch')\n",
    "plt.title('loss')\n",
    "plt.show()"
   ]
  },
  {
   "cell_type": "code",
   "execution_count": 23,
   "id": "35b28caf",
   "metadata": {
    "execution": {
     "iopub.execute_input": "2023-11-05T08:17:13.102190Z",
     "iopub.status.busy": "2023-11-05T08:17:13.100965Z",
     "iopub.status.idle": "2023-11-05T08:17:13.489135Z",
     "shell.execute_reply": "2023-11-05T08:17:13.487910Z"
    },
    "papermill": {
     "duration": 0.467223,
     "end_time": "2023-11-05T08:17:13.492181",
     "exception": false,
     "start_time": "2023-11-05T08:17:13.024958",
     "status": "completed"
    },
    "tags": []
   },
   "outputs": [
    {
     "data": {
      "image/png": "[encoded data removed]",
      "text/plain": [
       "<Figure size 640x480 with 1 Axes>"
      ]
     },
     "metadata": {},
     "output_type": "display_data"
    }
   ],
   "source": [
    "plt.plot(xticks, mem['train_recall_score'])\n",
    "plt.plot(xticks, mem['valid_recall_score'])\n",
    "plt.legend(['train', 'valid'])\n",
    "plt.xlabel('epoch')\n",
    "plt.title('recall score')\n",
    "plt.show()"
   ]
  },
  {
   "cell_type": "code",
   "execution_count": 24,
   "id": "25f46193",
   "metadata": {
    "execution": {
     "iopub.execute_input": "2023-11-05T08:17:13.643515Z",
     "iopub.status.busy": "2023-11-05T08:17:13.642792Z",
     "iopub.status.idle": "2023-11-05T08:17:14.050858Z",
     "shell.execute_reply": "2023-11-05T08:17:14.049637Z"
    },
    "papermill": {
     "duration": 0.48675,
     "end_time": "2023-11-05T08:17:14.053151",
     "exception": false,
     "start_time": "2023-11-05T08:17:13.566401",
     "status": "completed"
    },
    "tags": []
   },
   "outputs": [
    {
     "data": {
      "image/png": "[encoded data removed]",
      "text/plain": [
       "<Figure size 640x480 with 1 Axes>"
      ]
     },
     "metadata": {},
     "output_type": "display_data"
    }
   ],
   "source": [
    "plt.plot(xticks, mem['train_accuracy_score'])\n",
    "plt.plot(xticks, mem['valid_accuracy_score'])\n",
    "plt.legend(['train', 'valid'])\n",
    "plt.xlabel('epoch')\n",
    "plt.title('accuracy score')\n",
    "plt.show()"
   ]
  },
  {
   "cell_type": "code",
   "execution_count": 25,
   "id": "1c0da39c",
   "metadata": {
    "execution": {
     "iopub.execute_input": "2023-11-05T08:17:14.205465Z",
     "iopub.status.busy": "2023-11-05T08:17:14.204994Z",
     "iopub.status.idle": "2023-11-05T08:17:14.614798Z",
     "shell.execute_reply": "2023-11-05T08:17:14.613602Z"
    },
    "papermill": {
     "duration": 0.489232,
     "end_time": "2023-11-05T08:17:14.617229",
     "exception": false,
     "start_time": "2023-11-05T08:17:14.127997",
     "status": "completed"
    },
    "tags": []
   },
   "outputs": [
    {
     "data": {
      "image/png": "[encoded data removed]",
      "text/plain": [
       "<Figure size 640x480 with 1 Axes>"
      ]
     },
     "metadata": {},
     "output_type": "display_data"
    }
   ],
   "source": [
    "plt.plot(xticks, mem['train_precision_score'])\n",
    "plt.plot(xticks, mem['valid_precision_score'])\n",
    "plt.legend(['train', 'valid'])\n",
    "plt.xlabel('epoch')\n",
    "plt.title('precision score')\n",
    "plt.show()"
   ]
  },
  {
   "cell_type": "code",
   "execution_count": 26,
   "id": "9c936560",
   "metadata": {
    "execution": {
     "iopub.execute_input": "2023-11-05T08:17:14.772791Z",
     "iopub.status.busy": "2023-11-05T08:17:14.772340Z",
     "iopub.status.idle": "2023-11-05T08:17:15.178123Z",
     "shell.execute_reply": "2023-11-05T08:17:15.176670Z"
    },
    "papermill": {
     "duration": 0.487583,
     "end_time": "2023-11-05T08:17:15.181138",
     "exception": false,
     "start_time": "2023-11-05T08:17:14.693555",
     "status": "completed"
    },
    "tags": []
   },
   "outputs": [
    {
     "data": {
      "image/png": "[encoded data removed]",
      "text/plain": [
       "<Figure size 640x480 with 1 Axes>"
      ]
     },
     "metadata": {},
     "output_type": "display_data"
    }
   ],
   "source": [
    "plt.plot(xticks, mem['train_f1_score'])\n",
    "plt.plot(xticks, mem['valid_f1_score'])\n",
    "plt.legend(['train', 'valid'])\n",
    "plt.xlabel('epoch')\n",
    "plt.title('f1 score')\n",
    "plt.show()"
   ]
  },
  {
   "cell_type": "code",
   "execution_count": 27,
   "id": "b0b987ec",
   "metadata": {
    "execution": {
     "iopub.execute_input": "2023-11-05T08:17:15.335291Z",
     "iopub.status.busy": "2023-11-05T08:17:15.334866Z",
     "iopub.status.idle": "2023-11-05T08:17:15.770148Z",
     "shell.execute_reply": "2023-11-05T08:17:15.768771Z"
    },
    "papermill": {
     "duration": 0.515063,
     "end_time": "2023-11-05T08:17:15.772990",
     "exception": false,
     "start_time": "2023-11-05T08:17:15.257927",
     "status": "completed"
    },
    "tags": []
   },
   "outputs": [
    {
     "data": {
      "image/png": "[encoded data removed]",
      "text/plain": [
       "<Figure size 640x480 with 1 Axes>"
      ]
     },
     "metadata": {},
     "output_type": "display_data"
    }
   ],
   "source": [
    "plt.plot(xticks, mem['train_auc'])\n",
    "plt.plot(xticks, mem['valid_auc'])\n",
    "plt.legend(['train', 'valid'])\n",
    "plt.xlabel('epoch')\n",
    "plt.title('auc score')\n",
    "plt.show()"
   ]
  }
 ],
 "metadata": {
  "kernelspec": {
   "display_name": "Python 3",
   "language": "python",
   "name": "python3"
  },
  "language_info": {
   "codemirror_mode": {
    "name": "ipython",
    "version": 3
   },
   "file_extension": ".py",
   "mimetype": "text/x-python",
   "name": "python",
   "nbconvert_exporter": "python",
   "pygments_lexer": "ipython3",
   "version": "3.10.12"
  },
  "papermill": {
   "default_parameters": {},
   "duration": 5105.89614,
   "end_time": "2023-11-05T08:17:18.227583",
   "environment_variables": {},
   "exception": null,
   "input_path": "__notebook__.ipynb",
   "output_path": "__notebook__.ipynb",
   "parameters": {},
   "start_time": "2023-11-05T06:52:12.331443",
   "version": "2.4.0"
  },
  "widgets": {
   "application/vnd.jupyter.widget-state+json": {
    "state": {
     "203b4fd139ed40c58bbd43c9c3d1fcd5": {
      "model_module": "@jupyter-widgets/base",
      "model_module_version": "1.2.0",
      "model_name": "LayoutModel",
      "state": {
       "_model_module": "@jupyter-widgets/base",
       "_model_module_version": "1.2.0",
       "_model_name": "LayoutModel",
       "_view_count": null,
       "_view_module": "@jupyter-widgets/base",
       "_view_module_version": "1.2.0",
       "_view_name": "LayoutView",
       "align_content": null,
       "align_items": null,
       "align_self": null,
       "border": null,
       "bottom": null,
       "display": null,
       "flex": null,
       "flex_flow": null,
       "grid_area": null,
       "grid_auto_columns": null,
       "grid_auto_flow": null,
       "grid_auto_rows": null,
       "grid_column": null,
       "grid_gap": null,
       "grid_row": null,
       "grid_template_areas": null,
       "grid_template_columns": null,
       "grid_template_rows": null,
       "height": null,
       "justify_content": null,
       "justify_items": null,
       "left": null,
       "margin": null,
       "max_height": null,
       "max_width": null,
       "min_height": null,
       "min_width": null,
       "object_fit": null,
       "object_position": null,
       "order": null,
       "overflow": null,
       "overflow_x": null,
       "overflow_y": null,
       "padding": null,
       "right": null,
       "top": null,
       "visibility": null,
       "width": null
      }
     },
     "2b5a3d323d0a40628cc333643ba37e75": {
      "model_module": "@jupyter-widgets/base",
      "model_module_version": "1.2.0",
      "model_name": "LayoutModel",
      "state": {
       "_model_module": "@jupyter-widgets/base",
       "_model_module_version": "1.2.0",
       "_model_name": "LayoutModel",
       "_view_count": null,
       "_view_module": "@jupyter-widgets/base",
       "_view_module_version": "1.2.0",
       "_view_name": "LayoutView",
       "align_content": null,
       "align_items": null,
       "align_self": null,
       "border": null,
       "bottom": null,
       "display": null,
       "flex": null,
       "flex_flow": null,
       "grid_area": null,
       "grid_auto_columns": null,
       "grid_auto_flow": null,
       "grid_auto_rows": null,
       "grid_column": null,
       "grid_gap": null,
       "grid_row": null,
       "grid_template_areas": null,
       "grid_template_columns": null,
       "grid_template_rows": null,
       "height": null,
       "justify_content": null,
       "justify_items": null,
       "left": null,
       "margin": null,
       "max_height": null,
       "max_width": null,
       "min_height": null,
       "min_width": null,
       "object_fit": null,
       "object_position": null,
       "order": null,
       "overflow": null,
       "overflow_x": null,
       "overflow_y": null,
       "padding": null,
       "right": null,
       "top": null,
       "visibility": null,
       "width": null
      }
     },
     "34e1b2ffb6d641248b4cb3daaf8a688e": {
      "model_module": "@jupyter-widgets/controls",
      "model_module_version": "1.5.0",
      "model_name": "FloatProgressModel",
      "state": {
       "_dom_classes": [],
       "_model_module": "@jupyter-widgets/controls",
       "_model_module_version": "1.5.0",
       "_model_name": "FloatProgressModel",
       "_view_count": null,
       "_view_module": "@jupyter-widgets/controls",
       "_view_module_version": "1.5.0",
       "_view_name": "ProgressView",
       "bar_style": "success",
       "description": "",
       "description_tooltip": null,
       "layout": "IPY_MODEL_b3490eada2d7470fa39a4c731850aa1f",
       "max": 10.0,
       "min": 0.0,
       "orientation": "horizontal",
       "style": "IPY_MODEL_4de7b14f51b146e38603a58eb92f1be3",
       "value": 10.0
      }
     },
     "4de7b14f51b146e38603a58eb92f1be3": {
      "model_module": "@jupyter-widgets/controls",
      "model_module_version": "1.5.0",
      "model_name": "ProgressStyleModel",
      "state": {
       "_model_module": "@jupyter-widgets/controls",
       "_model_module_version": "1.5.0",
       "_model_name": "ProgressStyleModel",
       "_view_count": null,
       "_view_module": "@jupyter-widgets/base",
       "_view_module_version": "1.2.0",
       "_view_name": "StyleView",
       "bar_color": null,
       "description_width": ""
      }
     },
     "56dd812c3eba4d41b113c6aaaabbd4a7": {
      "model_module": "@jupyter-widgets/controls",
      "model_module_version": "1.5.0",
      "model_name": "HTMLModel",
      "state": {
       "_dom_classes": [],
       "_model_module": "@jupyter-widgets/controls",
       "_model_module_version": "1.5.0",
       "_model_name": "HTMLModel",
       "_view_count": null,
       "_view_module": "@jupyter-widgets/controls",
       "_view_module_version": "1.5.0",
       "_view_name": "HTMLView",
       "description": "",
       "description_tooltip": null,
       "layout": "IPY_MODEL_ae8dc5fd311e4e7192f41787c89d7b00",
       "placeholder": "​",
       "style": "IPY_MODEL_ea15ca4a053a49ab9635feef30894cdc",
       "value": " 10/10 [1:24:09&lt;00:00, 502.98s/it]"
      }
     },
     "8aab75a4a24c4475b239229c701a294e": {
      "model_module": "@jupyter-widgets/controls",
      "model_module_version": "1.5.0",
      "model_name": "DescriptionStyleModel",
      "state": {
       "_model_module": "@jupyter-widgets/controls",
       "_model_module_version": "1.5.0",
       "_model_name": "DescriptionStyleModel",
       "_view_count": null,
       "_view_module": "@jupyter-widgets/base",
       "_view_module_version": "1.2.0",
       "_view_name": "StyleView",
       "description_width": ""
      }
     },
     "ae8dc5fd311e4e7192f41787c89d7b00": {
      "model_module": "@jupyter-widgets/base",
      "model_module_version": "1.2.0",
      "model_name": "LayoutModel",
      "state": {
       "_model_module": "@jupyter-widgets/base",
       "_model_module_version": "1.2.0",
       "_model_name": "LayoutModel",
       "_view_count": null,
       "_view_module": "@jupyter-widgets/base",
       "_view_module_version": "1.2.0",
       "_view_name": "LayoutView",
       "align_content": null,
       "align_items": null,
       "align_self": null,
       "border": null,
       "bottom": null,
       "display": null,
       "flex": null,
       "flex_flow": null,
       "grid_area": null,
       "grid_auto_columns": null,
       "grid_auto_flow": null,
       "grid_auto_rows": null,
       "grid_column": null,
       "grid_gap": null,
       "grid_row": null,
       "grid_template_areas": null,
       "grid_template_columns": null,
       "grid_template_rows": null,
       "height": null,
       "justify_content": null,
       "justify_items": null,
       "left": null,
       "margin": null,
       "max_height": null,
       "max_width": null,
       "min_height": null,
       "min_width": null,
       "object_fit": null,
       "object_position": null,
       "order": null,
       "overflow": null,
       "overflow_x": null,
       "overflow_y": null,
       "padding": null,
       "right": null,
       "top": null,
       "visibility": null,
       "width": null
      }
     },
     "b3490eada2d7470fa39a4c731850aa1f": {
      "model_module": "@jupyter-widgets/base",
      "model_module_version": "1.2.0",
      "model_name": "LayoutModel",
      "state": {
       "_model_module": "@jupyter-widgets/base",
       "_model_module_version": "1.2.0",
       "_model_name": "LayoutModel",
       "_view_count": null,
       "_view_module": "@jupyter-widgets/base",
       "_view_module_version": "1.2.0",
       "_view_name": "LayoutView",
       "align_content": null,
       "align_items": null,
       "align_self": null,
       "border": null,
       "bottom": null,
       "display": null,
       "flex": null,
       "flex_flow": null,
       "grid_area": null,
       "grid_auto_columns": null,
       "grid_auto_flow": null,
       "grid_auto_rows": null,
       "grid_column": null,
       "grid_gap": null,
       "grid_row": null,
       "grid_template_areas": null,
       "grid_template_columns": null,
       "grid_template_rows": null,
       "height": null,
       "justify_content": null,
       "justify_items": null,
       "left": null,
       "margin": null,
       "max_height": null,
       "max_width": null,
       "min_height": null,
       "min_width": null,
       "object_fit": null,
       "object_position": null,
       "order": null,
       "overflow": null,
       "overflow_x": null,
       "overflow_y": null,
       "padding": null,
       "right": null,
       "top": null,
       "visibility": null,
       "width": null
      }
     },
     "d4d19d5111d74b819d15621abbf678a4": {
      "model_module": "@jupyter-widgets/controls",
      "model_module_version": "1.5.0",
      "model_name": "HBoxModel",
      "state": {
       "_dom_classes": [],
       "_model_module": "@jupyter-widgets/controls",
       "_model_module_version": "1.5.0",
       "_model_name": "HBoxModel",
       "_view_count": null,
       "_view_module": "@jupyter-widgets/controls",
       "_view_module_version": "1.5.0",
       "_view_name": "HBoxView",
       "box_style": "",
       "children": [
        "IPY_MODEL_e4c1aaf515ab44e08b8800b78fc9976f",
        "IPY_MODEL_34e1b2ffb6d641248b4cb3daaf8a688e",
        "IPY_MODEL_56dd812c3eba4d41b113c6aaaabbd4a7"
       ],
       "layout": "IPY_MODEL_2b5a3d323d0a40628cc333643ba37e75"
      }
     },
     "e4c1aaf515ab44e08b8800b78fc9976f": {
      "model_module": "@jupyter-widgets/controls",
      "model_module_version": "1.5.0",
      "model_name": "HTMLModel",
      "state": {
       "_dom_classes": [],
       "_model_module": "@jupyter-widgets/controls",
       "_model_module_version": "1.5.0",
       "_model_name": "HTMLModel",
       "_view_count": null,
       "_view_module": "@jupyter-widgets/controls",
       "_view_module_version": "1.5.0",
       "_view_name": "HTMLView",
       "description": "",
       "description_tooltip": null,
       "layout": "IPY_MODEL_203b4fd139ed40c58bbd43c9c3d1fcd5",
       "placeholder": "​",
       "style": "IPY_MODEL_8aab75a4a24c4475b239229c701a294e",
       "value": "Training: 100%"
      }
     },
     "ea15ca4a053a49ab9635feef30894cdc": {
      "model_module": "@jupyter-widgets/controls",
      "model_module_version": "1.5.0",
      "model_name": "DescriptionStyleModel",
      "state": {
       "_model_module": "@jupyter-widgets/controls",
       "_model_module_version": "1.5.0",
       "_model_name": "DescriptionStyleModel",
       "_view_count": null,
       "_view_module": "@jupyter-widgets/base",
       "_view_module_version": "1.2.0",
       "_view_name": "StyleView",
       "description_width": ""
      }
     }
    },
    "version_major": 2,
    "version_minor": 0
   }
  }
 },
 "nbformat": 4,
 "nbformat_minor": 5
}
