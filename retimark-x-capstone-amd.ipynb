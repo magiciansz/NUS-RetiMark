{
 "cells": [
  {
   "cell_type": "markdown",
   "id": "bf06fe74",
   "metadata": {
    "papermill": {
     "duration": 0.009582,
     "end_time": "2023-11-10T12:36:00.977494",
     "exception": false,
     "start_time": "2023-11-10T12:36:00.967912",
     "status": "completed"
    },
    "tags": []
   },
   "source": [
    "# Install Dependencies"
   ]
  },
  {
   "cell_type": "code",
   "execution_count": 1,
   "id": "5785f119",
   "metadata": {
    "_cell_guid": "b1076dfc-b9ad-4769-8c92-a6c4dae69d19",
    "_uuid": "8f2839f25d086af736a60e9eeb907d3b93b6e0e5",
    "execution": {
     "iopub.execute_input": "2023-11-10T12:36:00.997134Z",
     "iopub.status.busy": "2023-11-10T12:36:00.996752Z",
     "iopub.status.idle": "2023-11-10T12:36:14.039494Z",
     "shell.execute_reply": "2023-11-10T12:36:14.038412Z"
    },
    "papermill": {
     "duration": 13.055421,
     "end_time": "2023-11-10T12:36:14.041927",
     "exception": false,
     "start_time": "2023-11-10T12:36:00.986506",
     "status": "completed"
    },
    "tags": []
   },
   "outputs": [
    {
     "name": "stdout",
     "output_type": "stream",
     "text": [
      "Collecting torch_summary\r\n",
      "  Downloading torch_summary-1.4.5-py3-none-any.whl (16 kB)\r\n",
      "Installing collected packages: torch_summary\r\n",
      "Successfully installed torch_summary-1.4.5\r\n"
     ]
    }
   ],
   "source": [
    "!pip install torch_summary"
   ]
  },
  {
   "cell_type": "markdown",
   "id": "43881301",
   "metadata": {
    "papermill": {
     "duration": 0.009094,
     "end_time": "2023-11-10T12:36:14.060615",
     "exception": false,
     "start_time": "2023-11-10T12:36:14.051521",
     "status": "completed"
    },
    "tags": []
   },
   "source": [
    "# Import Libraries"
   ]
  },
  {
   "cell_type": "code",
   "execution_count": 2,
   "id": "4dcde571",
   "metadata": {
    "execution": {
     "iopub.execute_input": "2023-11-10T12:36:14.081047Z",
     "iopub.status.busy": "2023-11-10T12:36:14.080668Z",
     "iopub.status.idle": "2023-11-10T12:36:20.064221Z",
     "shell.execute_reply": "2023-11-10T12:36:20.063414Z"
    },
    "papermill": {
     "duration": 5.996581,
     "end_time": "2023-11-10T12:36:20.066622",
     "exception": false,
     "start_time": "2023-11-10T12:36:14.070041",
     "status": "completed"
    },
    "tags": []
   },
   "outputs": [
    {
     "name": "stderr",
     "output_type": "stream",
     "text": [
      "/opt/conda/lib/python3.10/site-packages/scipy/__init__.py:146: UserWarning: A NumPy version >=1.16.5 and <1.23.0 is required for this version of SciPy (detected version 1.23.5\n",
      "  warnings.warn(f\"A NumPy version >={np_minversion} and <{np_maxversion}\"\n"
     ]
    }
   ],
   "source": [
    "import torch\n",
    "import torch.nn.functional as F\n",
    "from torch import nn, optim\n",
    "from torchvision import transforms as T, models\n",
    "from torch.utils.data import DataLoader, Dataset\n",
    "from torchsummary import summary\n",
    "from tqdm.notebook import tqdm \n",
    "\n",
    "from sklearn.metrics import classification_report, recall_score, accuracy_score, f1_score, precision_score, roc_curve, auc\n",
    "from sklearn.model_selection import train_test_split\n",
    "import seaborn as sns\n",
    "from PIL import Image\n",
    "import matplotlib.pyplot as plt\n",
    "from random import shuffle, randint, choice\n",
    "import numpy as np\n",
    "import cv2 as cv\n",
    "from glob import glob\n",
    "import pandas as pd"
   ]
  },
  {
   "cell_type": "code",
   "execution_count": 3,
   "id": "228e2cb9",
   "metadata": {
    "execution": {
     "iopub.execute_input": "2023-11-10T12:36:20.088168Z",
     "iopub.status.busy": "2023-11-10T12:36:20.087377Z",
     "iopub.status.idle": "2023-11-10T12:36:21.088422Z",
     "shell.execute_reply": "2023-11-10T12:36:21.087252Z"
    },
    "papermill": {
     "duration": 1.014561,
     "end_time": "2023-11-10T12:36:21.090897",
     "exception": false,
     "start_time": "2023-11-10T12:36:20.076336",
     "status": "completed"
    },
    "tags": []
   },
   "outputs": [],
   "source": [
    "!mkdir saved_model\n",
    "sns.set_theme()\n",
    "device = 'cuda' if torch.cuda.is_available() else 'cpu'"
   ]
  },
  {
   "cell_type": "markdown",
   "id": "216e8d64",
   "metadata": {
    "papermill": {
     "duration": 0.009267,
     "end_time": "2023-11-10T12:36:21.109766",
     "exception": false,
     "start_time": "2023-11-10T12:36:21.100499",
     "status": "completed"
    },
    "tags": []
   },
   "source": [
    "# Dataset"
   ]
  },
  {
   "cell_type": "code",
   "execution_count": 4,
   "id": "ebb18c1b",
   "metadata": {
    "execution": {
     "iopub.execute_input": "2023-11-10T12:36:21.130926Z",
     "iopub.status.busy": "2023-11-10T12:36:21.130089Z",
     "iopub.status.idle": "2023-11-10T12:36:21.229181Z",
     "shell.execute_reply": "2023-11-10T12:36:21.228239Z"
    },
    "papermill": {
     "duration": 0.11203,
     "end_time": "2023-11-10T12:36:21.231256",
     "exception": false,
     "start_time": "2023-11-10T12:36:21.119226",
     "status": "completed"
    },
    "tags": []
   },
   "outputs": [
    {
     "data": {
      "text/html": [
       "<div>\n",
       "<style scoped>\n",
       "    .dataframe tbody tr th:only-of-type {\n",
       "        vertical-align: middle;\n",
       "    }\n",
       "\n",
       "    .dataframe tbody tr th {\n",
       "        vertical-align: top;\n",
       "    }\n",
       "\n",
       "    .dataframe thead th {\n",
       "        text-align: right;\n",
       "    }\n",
       "</style>\n",
       "<table border=\"1\" class=\"dataframe\">\n",
       "  <thead>\n",
       "    <tr style=\"text-align: right;\">\n",
       "      <th></th>\n",
       "      <th>Patient Age</th>\n",
       "      <th>Patient Sex</th>\n",
       "      <th>Left-Fundus</th>\n",
       "      <th>Right-Fundus</th>\n",
       "      <th>Left-Diagnostic Keywords</th>\n",
       "      <th>Right-Diagnostic Keywords</th>\n",
       "      <th>N</th>\n",
       "      <th>D</th>\n",
       "      <th>G</th>\n",
       "      <th>C</th>\n",
       "      <th>A</th>\n",
       "      <th>H</th>\n",
       "      <th>M</th>\n",
       "      <th>O</th>\n",
       "      <th>filepath</th>\n",
       "      <th>labels</th>\n",
       "      <th>target</th>\n",
       "      <th>filename</th>\n",
       "    </tr>\n",
       "    <tr>\n",
       "      <th>ID</th>\n",
       "      <th></th>\n",
       "      <th></th>\n",
       "      <th></th>\n",
       "      <th></th>\n",
       "      <th></th>\n",
       "      <th></th>\n",
       "      <th></th>\n",
       "      <th></th>\n",
       "      <th></th>\n",
       "      <th></th>\n",
       "      <th></th>\n",
       "      <th></th>\n",
       "      <th></th>\n",
       "      <th></th>\n",
       "      <th></th>\n",
       "      <th></th>\n",
       "      <th></th>\n",
       "      <th></th>\n",
       "    </tr>\n",
       "  </thead>\n",
       "  <tbody>\n",
       "    <tr>\n",
       "      <th>0</th>\n",
       "      <td>69</td>\n",
       "      <td>Female</td>\n",
       "      <td>0_left.jpg</td>\n",
       "      <td>0_right.jpg</td>\n",
       "      <td>cataract</td>\n",
       "      <td>normal fundus</td>\n",
       "      <td>0</td>\n",
       "      <td>0</td>\n",
       "      <td>0</td>\n",
       "      <td>1</td>\n",
       "      <td>0</td>\n",
       "      <td>0</td>\n",
       "      <td>0</td>\n",
       "      <td>0</td>\n",
       "      <td>../input/ocular-disease-recognition-odir5k/ODI...</td>\n",
       "      <td>['N']</td>\n",
       "      <td>[1, 0, 0, 0, 0, 0, 0, 0]</td>\n",
       "      <td>0_right.jpg</td>\n",
       "    </tr>\n",
       "    <tr>\n",
       "      <th>1</th>\n",
       "      <td>57</td>\n",
       "      <td>Male</td>\n",
       "      <td>1_left.jpg</td>\n",
       "      <td>1_right.jpg</td>\n",
       "      <td>normal fundus</td>\n",
       "      <td>normal fundus</td>\n",
       "      <td>1</td>\n",
       "      <td>0</td>\n",
       "      <td>0</td>\n",
       "      <td>0</td>\n",
       "      <td>0</td>\n",
       "      <td>0</td>\n",
       "      <td>0</td>\n",
       "      <td>0</td>\n",
       "      <td>../input/ocular-disease-recognition-odir5k/ODI...</td>\n",
       "      <td>['N']</td>\n",
       "      <td>[1, 0, 0, 0, 0, 0, 0, 0]</td>\n",
       "      <td>1_right.jpg</td>\n",
       "    </tr>\n",
       "    <tr>\n",
       "      <th>2</th>\n",
       "      <td>42</td>\n",
       "      <td>Male</td>\n",
       "      <td>2_left.jpg</td>\n",
       "      <td>2_right.jpg</td>\n",
       "      <td>laser spot，moderate non proliferative retinopathy</td>\n",
       "      <td>moderate non proliferative retinopathy</td>\n",
       "      <td>0</td>\n",
       "      <td>1</td>\n",
       "      <td>0</td>\n",
       "      <td>0</td>\n",
       "      <td>0</td>\n",
       "      <td>0</td>\n",
       "      <td>0</td>\n",
       "      <td>1</td>\n",
       "      <td>../input/ocular-disease-recognition-odir5k/ODI...</td>\n",
       "      <td>['D']</td>\n",
       "      <td>[0, 1, 0, 0, 0, 0, 0, 0]</td>\n",
       "      <td>2_right.jpg</td>\n",
       "    </tr>\n",
       "    <tr>\n",
       "      <th>4</th>\n",
       "      <td>53</td>\n",
       "      <td>Male</td>\n",
       "      <td>4_left.jpg</td>\n",
       "      <td>4_right.jpg</td>\n",
       "      <td>macular epiretinal membrane</td>\n",
       "      <td>mild nonproliferative retinopathy</td>\n",
       "      <td>0</td>\n",
       "      <td>1</td>\n",
       "      <td>0</td>\n",
       "      <td>0</td>\n",
       "      <td>0</td>\n",
       "      <td>0</td>\n",
       "      <td>0</td>\n",
       "      <td>1</td>\n",
       "      <td>../input/ocular-disease-recognition-odir5k/ODI...</td>\n",
       "      <td>['D']</td>\n",
       "      <td>[0, 1, 0, 0, 0, 0, 0, 0]</td>\n",
       "      <td>4_right.jpg</td>\n",
       "    </tr>\n",
       "    <tr>\n",
       "      <th>5</th>\n",
       "      <td>50</td>\n",
       "      <td>Female</td>\n",
       "      <td>5_left.jpg</td>\n",
       "      <td>5_right.jpg</td>\n",
       "      <td>moderate non proliferative retinopathy</td>\n",
       "      <td>moderate non proliferative retinopathy</td>\n",
       "      <td>0</td>\n",
       "      <td>1</td>\n",
       "      <td>0</td>\n",
       "      <td>0</td>\n",
       "      <td>0</td>\n",
       "      <td>0</td>\n",
       "      <td>0</td>\n",
       "      <td>0</td>\n",
       "      <td>../input/ocular-disease-recognition-odir5k/ODI...</td>\n",
       "      <td>['D']</td>\n",
       "      <td>[0, 1, 0, 0, 0, 0, 0, 0]</td>\n",
       "      <td>5_right.jpg</td>\n",
       "    </tr>\n",
       "  </tbody>\n",
       "</table>\n",
       "</div>"
      ],
      "text/plain": [
       "    Patient Age Patient Sex Left-Fundus Right-Fundus  \\\n",
       "ID                                                     \n",
       "0            69      Female  0_left.jpg  0_right.jpg   \n",
       "1            57        Male  1_left.jpg  1_right.jpg   \n",
       "2            42        Male  2_left.jpg  2_right.jpg   \n",
       "4            53        Male  4_left.jpg  4_right.jpg   \n",
       "5            50      Female  5_left.jpg  5_right.jpg   \n",
       "\n",
       "                             Left-Diagnostic Keywords  \\\n",
       "ID                                                      \n",
       "0                                            cataract   \n",
       "1                                       normal fundus   \n",
       "2   laser spot，moderate non proliferative retinopathy   \n",
       "4                         macular epiretinal membrane   \n",
       "5              moderate non proliferative retinopathy   \n",
       "\n",
       "                 Right-Diagnostic Keywords  N  D  G  C  A  H  M  O  \\\n",
       "ID                                                                   \n",
       "0                            normal fundus  0  0  0  1  0  0  0  0   \n",
       "1                            normal fundus  1  0  0  0  0  0  0  0   \n",
       "2   moderate non proliferative retinopathy  0  1  0  0  0  0  0  1   \n",
       "4        mild nonproliferative retinopathy  0  1  0  0  0  0  0  1   \n",
       "5   moderate non proliferative retinopathy  0  1  0  0  0  0  0  0   \n",
       "\n",
       "                                             filepath labels  \\\n",
       "ID                                                             \n",
       "0   ../input/ocular-disease-recognition-odir5k/ODI...  ['N']   \n",
       "1   ../input/ocular-disease-recognition-odir5k/ODI...  ['N']   \n",
       "2   ../input/ocular-disease-recognition-odir5k/ODI...  ['D']   \n",
       "4   ../input/ocular-disease-recognition-odir5k/ODI...  ['D']   \n",
       "5   ../input/ocular-disease-recognition-odir5k/ODI...  ['D']   \n",
       "\n",
       "                      target     filename  \n",
       "ID                                         \n",
       "0   [1, 0, 0, 0, 0, 0, 0, 0]  0_right.jpg  \n",
       "1   [1, 0, 0, 0, 0, 0, 0, 0]  1_right.jpg  \n",
       "2   [0, 1, 0, 0, 0, 0, 0, 0]  2_right.jpg  \n",
       "4   [0, 1, 0, 0, 0, 0, 0, 0]  4_right.jpg  \n",
       "5   [0, 1, 0, 0, 0, 0, 0, 0]  5_right.jpg  "
      ]
     },
     "execution_count": 4,
     "metadata": {},
     "output_type": "execute_result"
    }
   ],
   "source": [
    "DIR = '../input/ocular-disease-recognition-odir5k'\n",
    "\n",
    "full_df = pd.read_csv(f'{DIR}/full_df.csv', index_col=0)\n",
    "\n",
    "full_df.head()"
   ]
  },
  {
   "cell_type": "markdown",
   "id": "a371b4dd",
   "metadata": {
    "papermill": {
     "duration": 0.009624,
     "end_time": "2023-11-10T12:36:21.251271",
     "exception": false,
     "start_time": "2023-11-10T12:36:21.241647",
     "status": "completed"
    },
    "tags": []
   },
   "source": [
    "# Data Preprocessing"
   ]
  },
  {
   "cell_type": "code",
   "execution_count": 5,
   "id": "983be7d8",
   "metadata": {
    "execution": {
     "iopub.execute_input": "2023-11-10T12:36:21.273244Z",
     "iopub.status.busy": "2023-11-10T12:36:21.272381Z",
     "iopub.status.idle": "2023-11-10T12:36:21.292085Z",
     "shell.execute_reply": "2023-11-10T12:36:21.291078Z"
    },
    "papermill": {
     "duration": 0.032917,
     "end_time": "2023-11-10T12:36:21.294137",
     "exception": false,
     "start_time": "2023-11-10T12:36:21.261220",
     "status": "completed"
    },
    "tags": []
   },
   "outputs": [],
   "source": [
    "full_df['side'] = full_df['filename'].str[:-4].str.replace(r'\\d+_', '', regex=True)"
   ]
  },
  {
   "cell_type": "code",
   "execution_count": 6,
   "id": "3f800f1b",
   "metadata": {
    "execution": {
     "iopub.execute_input": "2023-11-10T12:36:21.315329Z",
     "iopub.status.busy": "2023-11-10T12:36:21.314997Z",
     "iopub.status.idle": "2023-11-10T12:36:21.327217Z",
     "shell.execute_reply": "2023-11-10T12:36:21.326297Z"
    },
    "papermill": {
     "duration": 0.02487,
     "end_time": "2023-11-10T12:36:21.329089",
     "exception": false,
     "start_time": "2023-11-10T12:36:21.304219",
     "status": "completed"
    },
    "tags": []
   },
   "outputs": [],
   "source": [
    "image_dir = '../input/ocular-disease-recognition-odir5k/ODIR-5K/'\n",
    "full_df['filepath'] = full_df['filepath'].str.replace(image_dir, image_dir + 'ODIR-5K/')"
   ]
  },
  {
   "cell_type": "code",
   "execution_count": 7,
   "id": "31b3e13d",
   "metadata": {
    "execution": {
     "iopub.execute_input": "2023-11-10T12:36:21.350647Z",
     "iopub.status.busy": "2023-11-10T12:36:21.350323Z",
     "iopub.status.idle": "2023-11-10T12:36:21.366531Z",
     "shell.execute_reply": "2023-11-10T12:36:21.365766Z"
    },
    "papermill": {
     "duration": 0.02884,
     "end_time": "2023-11-10T12:36:21.368657",
     "exception": false,
     "start_time": "2023-11-10T12:36:21.339817",
     "status": "completed"
    },
    "tags": []
   },
   "outputs": [],
   "source": [
    "age_intervals = [0, 20, 40, 60, 80, 100]\n",
    "age_labels = ['0-20', '21-40', '41-60', '61-80', '81+']\n",
    "full_df['Age Group'] = pd.cut(full_df['Patient Age'], bins=age_intervals, labels=age_labels, right=False)"
   ]
  },
  {
   "cell_type": "code",
   "execution_count": 8,
   "id": "f8ce6076",
   "metadata": {
    "execution": {
     "iopub.execute_input": "2023-11-10T12:36:21.390513Z",
     "iopub.status.busy": "2023-11-10T12:36:21.390141Z",
     "iopub.status.idle": "2023-11-10T12:36:21.400231Z",
     "shell.execute_reply": "2023-11-10T12:36:21.399347Z"
    },
    "papermill": {
     "duration": 0.023544,
     "end_time": "2023-11-10T12:36:21.402185",
     "exception": false,
     "start_time": "2023-11-10T12:36:21.378641",
     "status": "completed"
    },
    "tags": []
   },
   "outputs": [],
   "source": [
    "full_df['labels_text'] = full_df['labels'].apply(lambda x: x[2])\n",
    "full_df['target'] = np.where(full_df['labels_text'] == \"A\", 1, 0)"
   ]
  },
  {
   "cell_type": "code",
   "execution_count": 9,
   "id": "69e2e1de",
   "metadata": {
    "execution": {
     "iopub.execute_input": "2023-11-10T12:36:21.424321Z",
     "iopub.status.busy": "2023-11-10T12:36:21.423952Z",
     "iopub.status.idle": "2023-11-10T12:36:21.434361Z",
     "shell.execute_reply": "2023-11-10T12:36:21.433249Z"
    },
    "papermill": {
     "duration": 0.024128,
     "end_time": "2023-11-10T12:36:21.436404",
     "exception": false,
     "start_time": "2023-11-10T12:36:21.412276",
     "status": "completed"
    },
    "tags": []
   },
   "outputs": [
    {
     "name": "stdout",
     "output_type": "stream",
     "text": [
      "AMD positive: 266\n",
      "AMD negative: 6126\n"
     ]
    }
   ],
   "source": [
    "print(\"AMD positive:\", len(full_df[full_df['target']==1]))\n",
    "print(\"AMD negative:\", len(full_df[full_df['target']==0]))"
   ]
  },
  {
   "cell_type": "markdown",
   "id": "a5e5f73d",
   "metadata": {
    "papermill": {
     "duration": 0.009783,
     "end_time": "2023-11-10T12:36:21.456498",
     "exception": false,
     "start_time": "2023-11-10T12:36:21.446715",
     "status": "completed"
    },
    "tags": []
   },
   "source": [
    "# Split Dataset"
   ]
  },
  {
   "cell_type": "code",
   "execution_count": 10,
   "id": "b2f3bc8b",
   "metadata": {
    "execution": {
     "iopub.execute_input": "2023-11-10T12:36:21.478593Z",
     "iopub.status.busy": "2023-11-10T12:36:21.477627Z",
     "iopub.status.idle": "2023-11-10T12:36:21.511402Z",
     "shell.execute_reply": "2023-11-10T12:36:21.510394Z"
    },
    "papermill": {
     "duration": 0.047475,
     "end_time": "2023-11-10T12:36:21.513997",
     "exception": false,
     "start_time": "2023-11-10T12:36:21.466522",
     "status": "completed"
    },
    "tags": []
   },
   "outputs": [],
   "source": [
    "right_df = full_df[full_df['side'] == 'right']\n",
    "left_df = full_df[full_df['side'] == 'left']\n",
    "\n",
    "# Fix data imbalance\n",
    "\n",
    "right_df_0 = right_df[right_df['target'] == 0]\n",
    "right_df_0 = right_df_0.sample(frac=0.25, random_state=42)\n",
    "right_df_1 = right_df[right_df['target'] == 1]\n",
    "\n",
    "left_df_0 = left_df[left_df['target'] == 0]\n",
    "left_df_0 = left_df_0.sample(frac=0.25, random_state=42)\n",
    "left_df_1 = left_df[left_df['target'] == 1]\n",
    "\n",
    "right_df = pd.concat([right_df_0, right_df_1])\n",
    "left_df = pd.concat([left_df_0, left_df_1])\n",
    "\n",
    "right_df = right_df.sample(frac=1, random_state=42)\n",
    "left_df = left_df.sample(frac=1, random_state=42)\n",
    "\n",
    "right_train, right_test = train_test_split(right_df, test_size=0.2, random_state=42)\n",
    "left_train, left_test = train_test_split(left_df, test_size=0.2, random_state=42)\n",
    "\n",
    "train_df = pd.concat([right_train, left_train])\n",
    "valid_df = pd.concat([right_test, left_test])"
   ]
  },
  {
   "cell_type": "markdown",
   "id": "33133afc",
   "metadata": {
    "papermill": {
     "duration": 0.009738,
     "end_time": "2023-11-10T12:36:21.533831",
     "exception": false,
     "start_time": "2023-11-10T12:36:21.524093",
     "status": "completed"
    },
    "tags": []
   },
   "source": [
    "# Prepare Dataset and Dataloader"
   ]
  },
  {
   "cell_type": "code",
   "execution_count": 11,
   "id": "3205bb95",
   "metadata": {
    "execution": {
     "iopub.execute_input": "2023-11-10T12:36:21.555750Z",
     "iopub.status.busy": "2023-11-10T12:36:21.554929Z",
     "iopub.status.idle": "2023-11-10T12:36:21.565773Z",
     "shell.execute_reply": "2023-11-10T12:36:21.564843Z"
    },
    "papermill": {
     "duration": 0.023988,
     "end_time": "2023-11-10T12:36:21.567766",
     "exception": false,
     "start_time": "2023-11-10T12:36:21.543778",
     "status": "completed"
    },
    "tags": []
   },
   "outputs": [],
   "source": [
    "class EyeDataset(Dataset):\n",
    "    def __init__(self, df, data_transform = None):\n",
    "        self.df = df\n",
    "        self.data_transform = data_transform\n",
    "        self.transform = T.Compose([\n",
    "            T.Resize([224, 224]),\n",
    "            T.ToTensor(),\n",
    "            T.Normalize((0.485, 0.456, 0.406),\n",
    "                       (0.229, 0.224, 0.225))\n",
    "        ])\n",
    "    \n",
    "    def __len__(self):\n",
    "        return len(self.df)\n",
    "    \n",
    "    def __getitem__(self, idx):\n",
    "        filepath = self.df.iloc[idx]['filepath']\n",
    "        image = cv.imread(filepath)\n",
    "        image = cv.cvtColor(image, cv.COLOR_BGR2GRAY)\n",
    "        _, thresholded = cv.threshold(image, 0, 255, cv.THRESH_OTSU)\n",
    "        x, y, w, h = cv.boundingRect(thresholded)\n",
    "        cropped_image = cv.cvtColor(image[y:y+h, x:x+w], cv.COLOR_GRAY2RGB)\n",
    "        cropped_image = Image.fromarray(cropped_image)\n",
    "        target = self.df.iloc[idx]['target']\n",
    "        \n",
    "        return cropped_image, target\n",
    "    \n",
    "    def transform_img(self, img):\n",
    "        return self.transform(img)\n",
    "    \n",
    "    def collate_fn(self, data):\n",
    "        imgs, targets = zip(*data)\n",
    "        targets = torch.tensor(targets)\n",
    "        targets = targets.view(-1, 1).float()\n",
    "        targets = targets.to(device)\n",
    "        imgs = torch.stack(\n",
    "            [self.transform_img(img) for img in imgs], 0\n",
    "        ).to(device)\n",
    "        return imgs, targets"
   ]
  },
  {
   "cell_type": "code",
   "execution_count": 12,
   "id": "4c362fe8",
   "metadata": {
    "execution": {
     "iopub.execute_input": "2023-11-10T12:36:21.589374Z",
     "iopub.status.busy": "2023-11-10T12:36:21.589030Z",
     "iopub.status.idle": "2023-11-10T12:36:21.594817Z",
     "shell.execute_reply": "2023-11-10T12:36:21.593912Z"
    },
    "papermill": {
     "duration": 0.018982,
     "end_time": "2023-11-10T12:36:21.596860",
     "exception": false,
     "start_time": "2023-11-10T12:36:21.577878",
     "status": "completed"
    },
    "tags": []
   },
   "outputs": [],
   "source": [
    "data_transforms = T.Compose([\n",
    "    T.RandomHorizontalFlip(),\n",
    "    T.RandomRotation(15),\n",
    "    T.ColorJitter(brightness=0.2, contrast=0.2, saturation=0.2, hue=0.1),\n",
    "    T.RandomResizedCrop(224, scale=(0.8, 1.0))\n",
    "])"
   ]
  },
  {
   "cell_type": "code",
   "execution_count": 13,
   "id": "899ef072",
   "metadata": {
    "execution": {
     "iopub.execute_input": "2023-11-10T12:36:21.618268Z",
     "iopub.status.busy": "2023-11-10T12:36:21.617918Z",
     "iopub.status.idle": "2023-11-10T12:36:21.623886Z",
     "shell.execute_reply": "2023-11-10T12:36:21.622986Z"
    },
    "papermill": {
     "duration": 0.018976,
     "end_time": "2023-11-10T12:36:21.625841",
     "exception": false,
     "start_time": "2023-11-10T12:36:21.606865",
     "status": "completed"
    },
    "tags": []
   },
   "outputs": [],
   "source": [
    "train_ds = EyeDataset(train_df)\n",
    "train_dl = DataLoader(train_ds, batch_size=32, shuffle=True,\n",
    "                      collate_fn=train_ds.collate_fn, \n",
    "                      drop_last=True)\n",
    "\n",
    "valid_ds = EyeDataset(valid_df)\n",
    "valid_dl = DataLoader(valid_ds, batch_size=32,\n",
    "                      collate_fn=valid_ds.collate_fn)"
   ]
  },
  {
   "cell_type": "code",
   "execution_count": 14,
   "id": "7f602663",
   "metadata": {
    "execution": {
     "iopub.execute_input": "2023-11-10T12:36:21.647585Z",
     "iopub.status.busy": "2023-11-10T12:36:21.646841Z",
     "iopub.status.idle": "2023-11-10T12:36:21.651775Z",
     "shell.execute_reply": "2023-11-10T12:36:21.650814Z"
    },
    "papermill": {
     "duration": 0.018116,
     "end_time": "2023-11-10T12:36:21.653997",
     "exception": false,
     "start_time": "2023-11-10T12:36:21.635881",
     "status": "completed"
    },
    "tags": []
   },
   "outputs": [
    {
     "name": "stdout",
     "output_type": "stream",
     "text": [
      "Size of Train: 1436\n",
      "Size of Validation: 361\n"
     ]
    }
   ],
   "source": [
    "print('Size of Train:', len(train_ds))\n",
    "print('Size of Validation:', len(valid_ds))"
   ]
  },
  {
   "cell_type": "markdown",
   "id": "4830381a",
   "metadata": {
    "papermill": {
     "duration": 0.009595,
     "end_time": "2023-11-10T12:36:21.673384",
     "exception": false,
     "start_time": "2023-11-10T12:36:21.663789",
     "status": "completed"
    },
    "tags": []
   },
   "source": [
    "# Model"
   ]
  },
  {
   "cell_type": "code",
   "execution_count": 15,
   "id": "a671dbff",
   "metadata": {
    "execution": {
     "iopub.execute_input": "2023-11-10T12:36:21.694699Z",
     "iopub.status.busy": "2023-11-10T12:36:21.693839Z",
     "iopub.status.idle": "2023-11-10T12:36:21.700973Z",
     "shell.execute_reply": "2023-11-10T12:36:21.700097Z"
    },
    "papermill": {
     "duration": 0.019845,
     "end_time": "2023-11-10T12:36:21.702853",
     "exception": false,
     "start_time": "2023-11-10T12:36:21.683008",
     "status": "completed"
    },
    "tags": []
   },
   "outputs": [],
   "source": [
    "class EyeClassifier(nn.Module):\n",
    "    def __init__(self, pretrained=True):\n",
    "        super().__init__()\n",
    "        self.model = models.resnet34(pretrained=pretrained, progress=pretrained)\n",
    "        for param in self.model.parameters():\n",
    "            param.requires_grad = True\n",
    "            \n",
    "        num_features = self.model.fc.in_features\n",
    "        self.model.fc = nn.Sequential(\n",
    "            nn.Flatten(),\n",
    "            nn.BatchNorm1d(num_features),\n",
    "            nn.Dropout(0.5),\n",
    "            nn.Linear(num_features, 1),\n",
    "            nn.Sigmoid()\n",
    "        )\n",
    "        \n",
    "    def forward(self, x):\n",
    "        x = self.model(x)\n",
    "        return x"
   ]
  },
  {
   "cell_type": "code",
   "execution_count": 16,
   "id": "6a0df29e",
   "metadata": {
    "execution": {
     "iopub.execute_input": "2023-11-10T12:36:21.724368Z",
     "iopub.status.busy": "2023-11-10T12:36:21.724028Z",
     "iopub.status.idle": "2023-11-10T12:36:30.100445Z",
     "shell.execute_reply": "2023-11-10T12:36:30.099455Z"
    },
    "papermill": {
     "duration": 8.390049,
     "end_time": "2023-11-10T12:36:30.102929",
     "exception": false,
     "start_time": "2023-11-10T12:36:21.712880",
     "status": "completed"
    },
    "tags": []
   },
   "outputs": [
    {
     "name": "stderr",
     "output_type": "stream",
     "text": [
      "/opt/conda/lib/python3.10/site-packages/torchvision/models/_utils.py:208: UserWarning: The parameter 'pretrained' is deprecated since 0.13 and may be removed in the future, please use 'weights' instead.\n",
      "  warnings.warn(\n",
      "/opt/conda/lib/python3.10/site-packages/torchvision/models/_utils.py:223: UserWarning: Arguments other than a weight enum or `None` for 'weights' are deprecated since 0.13 and may be removed in the future. The current behavior is equivalent to passing `weights=ResNet34_Weights.IMAGENET1K_V1`. You can also use `weights=ResNet34_Weights.DEFAULT` to get the most up-to-date weights.\n",
      "  warnings.warn(msg)\n",
      "Downloading: \"https://download.pytorch.org/models/resnet34-b627a593.pth\" to /root/.cache/torch/hub/checkpoints/resnet34-b627a593.pth\n",
      "100%|██████████| 83.3M/83.3M [00:00<00:00, 227MB/s]\n"
     ]
    },
    {
     "name": "stdout",
     "output_type": "stream",
     "text": [
      "==========================================================================================\n",
      "Layer (type:depth-idx)                   Output Shape              Param #\n",
      "==========================================================================================\n",
      "├─ResNet: 1-1                            [-1, 1]                   --\n",
      "|    └─Conv2d: 2-1                       [-1, 64, 112, 112]        9,408\n",
      "|    └─BatchNorm2d: 2-2                  [-1, 64, 112, 112]        128\n",
      "|    └─ReLU: 2-3                         [-1, 64, 112, 112]        --\n",
      "|    └─MaxPool2d: 2-4                    [-1, 64, 56, 56]          --\n",
      "|    └─Sequential: 2-5                   [-1, 64, 56, 56]          --\n",
      "|    |    └─BasicBlock: 3-1              [-1, 64, 56, 56]          73,984\n",
      "|    |    └─BasicBlock: 3-2              [-1, 64, 56, 56]          73,984\n",
      "|    |    └─BasicBlock: 3-3              [-1, 64, 56, 56]          73,984\n",
      "|    └─Sequential: 2-6                   [-1, 128, 28, 28]         --\n",
      "|    |    └─BasicBlock: 3-4              [-1, 128, 28, 28]         230,144\n",
      "|    |    └─BasicBlock: 3-5              [-1, 128, 28, 28]         295,424\n",
      "|    |    └─BasicBlock: 3-6              [-1, 128, 28, 28]         295,424\n",
      "|    |    └─BasicBlock: 3-7              [-1, 128, 28, 28]         295,424\n",
      "|    └─Sequential: 2-7                   [-1, 256, 14, 14]         --\n",
      "|    |    └─BasicBlock: 3-8              [-1, 256, 14, 14]         919,040\n",
      "|    |    └─BasicBlock: 3-9              [-1, 256, 14, 14]         1,180,672\n",
      "|    |    └─BasicBlock: 3-10             [-1, 256, 14, 14]         1,180,672\n",
      "|    |    └─BasicBlock: 3-11             [-1, 256, 14, 14]         1,180,672\n",
      "|    |    └─BasicBlock: 3-12             [-1, 256, 14, 14]         1,180,672\n",
      "|    |    └─BasicBlock: 3-13             [-1, 256, 14, 14]         1,180,672\n",
      "|    └─Sequential: 2-8                   [-1, 512, 7, 7]           --\n",
      "|    |    └─BasicBlock: 3-14             [-1, 512, 7, 7]           3,673,088\n",
      "|    |    └─BasicBlock: 3-15             [-1, 512, 7, 7]           4,720,640\n",
      "|    |    └─BasicBlock: 3-16             [-1, 512, 7, 7]           4,720,640\n",
      "|    └─AdaptiveAvgPool2d: 2-9            [-1, 512, 1, 1]           --\n",
      "|    └─Sequential: 2-10                  [-1, 1]                   --\n",
      "|    |    └─Flatten: 3-17                [-1, 512]                 --\n",
      "|    |    └─BatchNorm1d: 3-18            [-1, 512]                 1,024\n",
      "|    |    └─Dropout: 3-19                [-1, 512]                 --\n",
      "|    |    └─Linear: 3-20                 [-1, 1]                   513\n",
      "|    |    └─Sigmoid: 3-21                [-1, 1]                   --\n",
      "==========================================================================================\n",
      "Total params: 21,286,209\n",
      "Trainable params: 21,286,209\n",
      "Non-trainable params: 0\n",
      "Total mult-adds (G): 3.71\n",
      "==========================================================================================\n",
      "Input size (MB): 0.57\n",
      "Forward/backward pass size (MB): 54.36\n",
      "Params size (MB): 81.20\n",
      "Estimated Total Size (MB): 136.14\n",
      "==========================================================================================\n"
     ]
    }
   ],
   "source": [
    "classifier = EyeClassifier(pretrained=True)\n",
    "_ = summary(classifier, torch.ones(1,3,224,224))"
   ]
  },
  {
   "cell_type": "markdown",
   "id": "0bf23ddb",
   "metadata": {
    "papermill": {
     "duration": 0.010556,
     "end_time": "2023-11-10T12:36:30.124501",
     "exception": false,
     "start_time": "2023-11-10T12:36:30.113945",
     "status": "completed"
    },
    "tags": []
   },
   "source": [
    "# Define Train and Validate Functions"
   ]
  },
  {
   "cell_type": "code",
   "execution_count": 17,
   "id": "6652eb29",
   "metadata": {
    "execution": {
     "iopub.execute_input": "2023-11-10T12:36:30.148353Z",
     "iopub.status.busy": "2023-11-10T12:36:30.147490Z",
     "iopub.status.idle": "2023-11-10T12:36:30.152846Z",
     "shell.execute_reply": "2023-11-10T12:36:30.151966Z"
    },
    "papermill": {
     "duration": 0.019351,
     "end_time": "2023-11-10T12:36:30.154788",
     "exception": false,
     "start_time": "2023-11-10T12:36:30.135437",
     "status": "completed"
    },
    "tags": []
   },
   "outputs": [],
   "source": [
    "def crop_image(image):\n",
    "    _, thresholded = cv.threshold(image, 0, 255, cv.THRESH_OTSU)\n",
    "    x, y, w, h = cv.boundingRect(thresholded)\n",
    "    return image[y:y+h, x:x+w]"
   ]
  },
  {
   "cell_type": "code",
   "execution_count": 18,
   "id": "43b369cd",
   "metadata": {
    "execution": {
     "iopub.execute_input": "2023-11-10T12:36:30.178249Z",
     "iopub.status.busy": "2023-11-10T12:36:30.177419Z",
     "iopub.status.idle": "2023-11-10T12:36:30.185990Z",
     "shell.execute_reply": "2023-11-10T12:36:30.185127Z"
    },
    "papermill": {
     "duration": 0.02231,
     "end_time": "2023-11-10T12:36:30.187941",
     "exception": false,
     "start_time": "2023-11-10T12:36:30.165631",
     "status": "completed"
    },
    "tags": []
   },
   "outputs": [],
   "source": [
    "def train(data, classifier, optimizer, loss_fn):\n",
    "    classifier.train()\n",
    "    imgs, targets = data\n",
    "    outputs = classifier(imgs.to(device))\n",
    "    loss = loss_fn(outputs.to(device), targets.to(device))\n",
    "    optimizer.zero_grad()\n",
    "    loss.backward()\n",
    "    optimizer.step()\n",
    "    \n",
    "    outputs = outputs.cpu().detach().tolist()\n",
    "    targets = targets.cpu().detach().tolist()\n",
    "    preds = list(map(lambda x: int(x[0] > 0.5), outputs))\n",
    "    \n",
    "    fake_recall_score = recall_score(targets, preds, pos_label=0,zero_division=0)\n",
    "    fake_accuracy_score = accuracy_score(targets, preds)\n",
    "    fake_precision_score = precision_score(targets, preds, pos_label=0,zero_division=0)\n",
    "    fake_f1_score = f1_score(targets, preds, pos_label=0,zero_division=0)\n",
    "    fpr, tpr, thresholds = roc_curve(targets, outputs)\n",
    "    roc_auc = auc(fpr, tpr)\n",
    "    \n",
    "    return loss.cpu().detach().item(), fake_recall_score, fake_accuracy_score, fake_precision_score, fake_f1_score, fpr, tpr, roc_auc"
   ]
  },
  {
   "cell_type": "code",
   "execution_count": 19,
   "id": "55df9dde",
   "metadata": {
    "execution": {
     "iopub.execute_input": "2023-11-10T12:36:30.210938Z",
     "iopub.status.busy": "2023-11-10T12:36:30.210593Z",
     "iopub.status.idle": "2023-11-10T12:36:30.218898Z",
     "shell.execute_reply": "2023-11-10T12:36:30.218113Z"
    },
    "papermill": {
     "duration": 0.022073,
     "end_time": "2023-11-10T12:36:30.220859",
     "exception": false,
     "start_time": "2023-11-10T12:36:30.198786",
     "status": "completed"
    },
    "tags": []
   },
   "outputs": [],
   "source": [
    "@torch.no_grad()\n",
    "def validate(data, classifier, loss_fn):\n",
    "    classifier.eval()\n",
    "    imgs, targets = data\n",
    "    outputs = classifier(imgs.to(device))\n",
    "    loss = loss_fn(outputs.to(device), targets.to(device))\n",
    "    \n",
    "    outputs = outputs.cpu().detach().tolist()\n",
    "    targets = targets.cpu().detach().tolist()\n",
    "    preds = list(map(lambda x: int(x[0] > 0.5), outputs))\n",
    "    fake_recall_score = recall_score(targets, preds, pos_label=0, zero_division=0)\n",
    "    fake_accuracy_score = accuracy_score(targets, preds)\n",
    "    fake_precision_score = precision_score(targets, preds, pos_label=0,zero_division=0)\n",
    "    fake_f1_score = f1_score(targets, preds, pos_label=0,zero_division=0)\n",
    "    fpr, tpr, thresholds = roc_curve(targets, outputs)\n",
    "    roc_auc = auc(fpr, tpr)\n",
    "    \n",
    "    return loss.cpu().detach().item(), fake_recall_score, fake_accuracy_score, fake_precision_score, fake_f1_score, fpr, tpr, roc_auc"
   ]
  },
  {
   "cell_type": "markdown",
   "id": "1b201b98",
   "metadata": {
    "papermill": {
     "duration": 0.010502,
     "end_time": "2023-11-10T12:36:30.242035",
     "exception": false,
     "start_time": "2023-11-10T12:36:30.231533",
     "status": "completed"
    },
    "tags": []
   },
   "source": [
    "# Training Model"
   ]
  },
  {
   "cell_type": "code",
   "execution_count": 20,
   "id": "3456402f",
   "metadata": {
    "execution": {
     "iopub.execute_input": "2023-11-10T12:36:30.321998Z",
     "iopub.status.busy": "2023-11-10T12:36:30.321624Z",
     "iopub.status.idle": "2023-11-10T12:36:30.774705Z",
     "shell.execute_reply": "2023-11-10T12:36:30.773892Z"
    },
    "papermill": {
     "duration": 0.468003,
     "end_time": "2023-11-10T12:36:30.777236",
     "exception": false,
     "start_time": "2023-11-10T12:36:30.309233",
     "status": "completed"
    },
    "tags": []
   },
   "outputs": [],
   "source": [
    "classifier = EyeClassifier(pretrained=True).to(device)\n",
    "loss_fn = nn.BCELoss().to(device)\n",
    "optimizer = optim.Adam(classifier.parameters(), lr=1e-4, weight_decay=1e-4)\n",
    "scheduler = optim.lr_scheduler.StepLR(optimizer, step_size=3,\n",
    "                                      gamma=0.25)\n",
    "best_auc_score = 0\n",
    "n_epochs = 10\n",
    "xticks = list(i+1 for i in range(n_epochs))"
   ]
  },
  {
   "cell_type": "code",
   "execution_count": 21,
   "id": "7aa78bf4",
   "metadata": {
    "execution": {
     "iopub.execute_input": "2023-11-10T12:36:30.801265Z",
     "iopub.status.busy": "2023-11-10T12:36:30.800855Z",
     "iopub.status.idle": "2023-11-10T13:00:48.257235Z",
     "shell.execute_reply": "2023-11-10T13:00:48.256330Z"
    },
    "papermill": {
     "duration": 1457.47186,
     "end_time": "2023-11-10T13:00:48.260215",
     "exception": false,
     "start_time": "2023-11-10T12:36:30.788355",
     "status": "completed"
    },
    "tags": []
   },
   "outputs": [
    {
     "data": {
      "application/vnd.jupyter.widget-view+json": {
       "model_id": "065d329d34644ae8a086fdd65b20a9e7",
       "version_major": 2,
       "version_minor": 0
      },
      "text/plain": [
       "Training:   0%|          | 0/10 [00:00<?, ?it/s]"
      ]
     },
     "metadata": {},
     "output_type": "display_data"
    },
    {
     "name": "stdout",
     "output_type": "stream",
     "text": [
      "epoch: 1 \ttrain loss: 0.719 \ttrain recall score: 0.570 \ttrain accuracy score: 0.585 \ttrain precision score: 0.910 \ttrain f1 score: 0.697 \ttrain auc: 0.697 \tvalid loss: 0.647 \tvalid recall score: 0.671 \tvalid accuracy score: 0.698 \tvalid precision score: 0.967 \tvalid f1 score: 0.789 \tvalid auc: 0.786\n",
      "epoch: 1.023 \ttrain loss: 0.772 \ttrain recall score: 0.516 \ttrain accuracy score: 0.531 \ttrain precision score: 1.000 \ttrain f1 score: 0.681 \ttrain auc: 1.000\r"
     ]
    },
    {
     "name": "stderr",
     "output_type": "stream",
     "text": [
      "/opt/conda/lib/python3.10/site-packages/sklearn/metrics/_ranking.py:1029: UndefinedMetricWarning: No positive samples in y_true, true positive value should be meaningless\n",
      "  warnings.warn(\n"
     ]
    },
    {
     "name": "stdout",
     "output_type": "stream",
     "text": [
      "epoch: 2 \ttrain loss: 0.505 \ttrain recall score: 0.802 \ttrain accuracy score: 0.795 \ttrain precision score: 0.958 \ttrain f1 score: 0.866 \ttrain auc: nan \tvalid loss: 0.477 \tvalid recall score: 0.903 \tvalid accuracy score: 0.863 \tvalid precision score: 0.935 \tvalid f1 score: 0.918 \tvalid auc: 0.790\n",
      "epoch: 3 \ttrain loss: 0.376 \ttrain recall score: 0.914 \ttrain accuracy score: 0.884 \ttrain precision score: 0.951 \ttrain f1 score: 0.929 \ttrain auc: 0.912 \tvalid loss: 4.432 \tvalid recall score: 0.760 \tvalid accuracy score: 0.759 \tvalid precision score: 0.946 \tvalid f1 score: 0.841 \tvalid auc: 0.812\n",
      "epoch: 4 \ttrain loss: 0.314 \ttrain recall score: 0.970 \ttrain accuracy score: 0.933 \ttrain precision score: 0.953 \ttrain f1 score: 0.960 \ttrain auc: 0.961 \tvalid loss: 0.478 \tvalid recall score: 0.948 \tvalid accuracy score: 0.886 \tvalid precision score: 0.920 \tvalid f1 score: 0.934 \tvalid auc: 0.839\n",
      "epoch: 4.159 \ttrain loss: 0.079 \ttrain recall score: 1.000 \ttrain accuracy score: 1.000 \ttrain precision score: 1.000 \ttrain f1 score: 1.000 \ttrain auc: 1.000\r"
     ]
    },
    {
     "name": "stderr",
     "output_type": "stream",
     "text": [
      "/opt/conda/lib/python3.10/site-packages/sklearn/metrics/_ranking.py:1029: UndefinedMetricWarning: No positive samples in y_true, true positive value should be meaningless\n",
      "  warnings.warn(\n"
     ]
    },
    {
     "name": "stdout",
     "output_type": "stream",
     "text": [
      "epoch: 5 \ttrain loss: 0.259 \ttrain recall score: 0.987 \ttrain accuracy score: 0.961 \ttrain precision score: 0.969 \ttrain f1 score: 0.977 \ttrain auc: nan \tvalid loss: 0.383 \tvalid recall score: 0.966 \tvalid accuracy score: 0.891 \tvalid precision score: 0.911 \tvalid f1 score: 0.937 \tvalid auc: 0.846\n",
      "epoch: 6 \ttrain loss: 0.143 \ttrain recall score: 0.990 \ttrain accuracy score: 0.977 \ttrain precision score: 0.983 \ttrain f1 score: 0.986 \ttrain auc: 0.998 \tvalid loss: 0.334 \tvalid recall score: 0.976 \tvalid accuracy score: 0.912 \tvalid precision score: 0.925 \tvalid f1 score: 0.949 \tvalid auc: 0.866\n",
      "epoch: 7 \ttrain loss: 0.109 \ttrain recall score: 0.995 \ttrain accuracy score: 0.982 \ttrain precision score: 0.985 \ttrain f1 score: 0.989 \ttrain auc: 1.000 \tvalid loss: 0.380 \tvalid recall score: 0.961 \tvalid accuracy score: 0.902 \tvalid precision score: 0.927 \tvalid f1 score: 0.943 \tvalid auc: 0.868\n",
      "epoch: 7.477 \ttrain loss: 0.048 \ttrain recall score: 1.000 \ttrain accuracy score: 1.000 \ttrain precision score: 1.000 \ttrain f1 score: 1.000 \ttrain auc: 1.000\r"
     ]
    },
    {
     "name": "stderr",
     "output_type": "stream",
     "text": [
      "/opt/conda/lib/python3.10/site-packages/sklearn/metrics/_ranking.py:1029: UndefinedMetricWarning: No positive samples in y_true, true positive value should be meaningless\n",
      "  warnings.warn(\n"
     ]
    },
    {
     "name": "stdout",
     "output_type": "stream",
     "text": [
      "epoch: 8 \ttrain loss: 0.125 \ttrain recall score: 0.990 \ttrain accuracy score: 0.984 \ttrain precision score: 0.991 \ttrain f1 score: 0.990 \ttrain auc: nan \tvalid loss: 0.361 \tvalid recall score: 0.967 \tvalid accuracy score: 0.907 \tvalid precision score: 0.927 \tvalid f1 score: 0.946 \tvalid auc: 0.865\n",
      "epoch: 9 \ttrain loss: 0.100 \ttrain recall score: 0.992 \ttrain accuracy score: 0.984 \ttrain precision score: 0.990 \ttrain f1 score: 0.991 \ttrain auc: 1.000 \tvalid loss: 0.435 \tvalid recall score: 0.942 \tvalid accuracy score: 0.891 \tvalid precision score: 0.931 \tvalid f1 score: 0.936 \tvalid auc: 0.862\n",
      "epoch: 10 \ttrain loss: 0.093 \ttrain recall score: 0.997 \ttrain accuracy score: 0.987 \ttrain precision score: 0.988 \ttrain f1 score: 0.992 \ttrain auc: 1.000 \tvalid loss: 0.390 \tvalid recall score: 0.967 \tvalid accuracy score: 0.907 \tvalid precision score: 0.927 \tvalid f1 score: 0.946 \tvalid auc: 0.862\n"
     ]
    }
   ],
   "source": [
    "mem = {\n",
    "    'train_loss': [],\n",
    "    'train_recall_score': [],\n",
    "    'train_accuracy_score': [],\n",
    "    'train_precision_score': [],\n",
    "    'train_f1_score': [],\n",
    "    'train_tpr': [],\n",
    "    'train_fpr': [],\n",
    "    'train_auc': [],\n",
    "    'valid_loss': [],\n",
    "    'valid_recall_score': [],\n",
    "    'valid_accuracy_score': [],\n",
    "    'valid_precision_score': [],\n",
    "    'valid_f1_score': [],\n",
    "    'valid_tpr': [],\n",
    "    'valid_fpr': [],\n",
    "    'valid_auc': [],\n",
    "}\n",
    "\n",
    "for epoch in tqdm(range(n_epochs), desc='Training'):\n",
    "    n_batch = len(train_dl)\n",
    "    train_losses, train_recall_scores, train_accuracy_scores, train_precision_scores, train_f1_scores, train_tprs, train_fprs, train_aucs = [], [], [], [], [], [], [], []\n",
    "    for i, data in enumerate(train_dl):\n",
    "        train_loss, train_recall_score, train_accuracy_score, train_precision_score, train_f1_score, train_tpr, train_fpr, train_auc = train(data, classifier, optimizer, loss_fn)\n",
    "        train_losses.append(train_loss)\n",
    "        train_recall_scores.append(train_recall_score)\n",
    "        train_accuracy_scores.append(train_accuracy_score)\n",
    "        train_precision_scores.append(train_precision_score)\n",
    "        train_f1_scores.append(train_f1_score)\n",
    "        train_tprs.append(train_tpr)\n",
    "        train_fprs.append(train_fpr)\n",
    "        train_aucs.append(train_auc)\n",
    "        pos = epoch + ((i+1)/n_batch)\n",
    "        print(\n",
    "            'epoch:', \"%.3f\" % pos,\n",
    "            '\\ttrain loss:', \"%.3f\" % train_loss,\n",
    "            '\\ttrain recall score:', \"%.3f\" % train_recall_score, \n",
    "            '\\ttrain accuracy score:', \"%.3f\" % train_accuracy_score, \n",
    "            '\\ttrain precision score:', \"%.3f\" % train_precision_score, \n",
    "            '\\ttrain f1 score:', \"%.3f\" % train_f1_score, \n",
    "            '\\ttrain auc:', \"%.3f\" % train_auc, \n",
    "            end='\\r'\n",
    "        )\n",
    "        \n",
    "    mem['train_loss'].append(np.mean(train_losses))\n",
    "    mem['train_recall_score'].append(np.mean(train_recall_scores))\n",
    "    mem['train_accuracy_score'].append(np.mean(train_accuracy_scores))\n",
    "    mem['train_precision_score'].append(np.mean(train_precision_scores))\n",
    "    mem['train_f1_score'].append(np.mean(train_f1_scores))\n",
    "    mem['train_tpr'].append(np.concatenate(train_fprs))\n",
    "    mem['train_fpr'].append(np.concatenate(train_tprs))\n",
    "    mem['train_auc'].append(np.mean(train_aucs))\n",
    "    \n",
    "    n_batch = len(valid_dl)\n",
    "    valid_losses, valid_recall_scores, valid_f1_scores, valid_accuracy_scores, valid_precision_scores, valid_tprs, valid_fprs, valid_aucs =  [], [], [], [], [], [], [], []\n",
    "    for i, data in enumerate(valid_dl):\n",
    "        valid_loss, valid_recall_score, valid_accuracy_score, valid_precision_score, valid_f1_score, valid_tpr, valid_fpr, valid_auc = validate(data, classifier, loss_fn)\n",
    "        valid_losses.append(valid_loss)\n",
    "        valid_recall_scores.append(valid_recall_score)\n",
    "        valid_accuracy_scores.append(valid_accuracy_score)\n",
    "        valid_precision_scores.append(valid_precision_score)\n",
    "        valid_f1_scores.append(valid_f1_score)\n",
    "        valid_tprs.append(valid_tpr)\n",
    "        valid_fprs.append(valid_fpr)\n",
    "        valid_aucs.append(valid_auc)\n",
    "        pos = epoch + ((i+1)/n_batch)\n",
    "        print(\n",
    "            'epoch:', \"%.3f\" % pos,\n",
    "            '\\tvalid loss:', \"%.3f\" % valid_loss,\n",
    "            '\\tvalid recall score:', \"%.3f\" % valid_recall_score, \n",
    "            '\\tvalid accuracy score:', \"%.3f\" % valid_accuracy_score, \n",
    "            '\\tvalid precision score:', \"%.3f\" % valid_precision_score, \n",
    "            '\\tvalid f1 score:', \"%.3f\" % valid_f1_score, \n",
    "            '\\tvalid auc:', \"%.3f\" % valid_auc, \n",
    "            end='\\r'\n",
    "        )\n",
    "    \n",
    "    cur_auc_score = np.mean(valid_aucs)\n",
    "    mem['valid_loss'].append(np.mean(valid_losses))\n",
    "    mem['valid_recall_score'].append(np.mean(valid_recall_scores))\n",
    "    mem['valid_accuracy_score'].append(np.mean(valid_accuracy_scores))\n",
    "    mem['valid_precision_score'].append(np.mean(valid_precision_scores))\n",
    "    mem['valid_f1_score'].append(np.mean(valid_f1_scores))\n",
    "    mem['valid_tpr'].append(np.concatenate(valid_fprs))\n",
    "    mem['valid_fpr'].append(np.concatenate(valid_tprs))\n",
    "    mem['valid_auc'].append(np.mean(valid_aucs))\n",
    "    \n",
    "    print(\n",
    "        'epoch:', epoch+1,\n",
    "        '\\ttrain loss:', \"%.3f\" % mem['train_loss'][-1],\n",
    "        '\\ttrain recall score:', \"%.3f\" % mem['train_recall_score'][-1],\n",
    "        '\\ttrain accuracy score:', \"%.3f\" % mem['train_accuracy_score'][-1],\n",
    "        '\\ttrain precision score:', \"%.3f\" % mem['train_precision_score'][-1],\n",
    "        '\\ttrain f1 score:', \"%.3f\" % mem['train_f1_score'][-1],\n",
    "        '\\ttrain auc:', \"%.3f\" % mem['train_auc'][-1],\n",
    "        '\\tvalid loss:', \"%.3f\" % mem['valid_loss'][-1],\n",
    "        '\\tvalid recall score:', \"%.3f\" % mem['valid_recall_score'][-1],\n",
    "        '\\tvalid accuracy score:', \"%.3f\" % mem['valid_accuracy_score'][-1],\n",
    "        '\\tvalid precision score:', \"%.3f\" % mem['valid_precision_score'][-1],\n",
    "        '\\tvalid f1 score:', \"%.3f\" % mem['valid_f1_score'][-1],\n",
    "        '\\tvalid auc:', \"%.3f\" % mem['valid_auc'][-1],\n",
    "    )\n",
    "    \n",
    "    if best_auc_score < cur_auc_score:\n",
    "        best_auc_score = cur_auc_score\n",
    "        torch.save(classifier.state_dict(), './saved_model/diabetic_state_dict.pth')\n",
    "        torch.save(classifier, './saved_model/diabetic_model.pth')\n",
    "        \n",
    "    scheduler.step()"
   ]
  },
  {
   "cell_type": "code",
   "execution_count": 22,
   "id": "3ffb7384",
   "metadata": {
    "execution": {
     "iopub.execute_input": "2023-11-10T13:00:48.367829Z",
     "iopub.status.busy": "2023-11-10T13:00:48.366978Z",
     "iopub.status.idle": "2023-11-10T13:00:48.722508Z",
     "shell.execute_reply": "2023-11-10T13:00:48.721621Z"
    },
    "papermill": {
     "duration": 0.410744,
     "end_time": "2023-11-10T13:00:48.724630",
     "exception": false,
     "start_time": "2023-11-10T13:00:48.313886",
     "status": "completed"
    },
    "tags": []
   },
   "outputs": [
    {
     "data": {
      "image/png": "[encoded data removed]",
      "text/plain": [
       "<Figure size 640x480 with 1 Axes>"
      ]
     },
     "metadata": {},
     "output_type": "display_data"
    }
   ],
   "source": [
    "plt.plot(xticks, mem['train_loss'])\n",
    "plt.plot(xticks, mem['valid_loss'])\n",
    "plt.legend(['train', 'valid'])\n",
    "plt.xlabel('epoch')\n",
    "plt.title('loss')\n",
    "plt.show()"
   ]
  },
  {
   "cell_type": "code",
   "execution_count": 23,
   "id": "bb55c4d3",
   "metadata": {
    "execution": {
     "iopub.execute_input": "2023-11-10T13:00:48.832411Z",
     "iopub.status.busy": "2023-11-10T13:00:48.831819Z",
     "iopub.status.idle": "2023-11-10T13:00:49.174960Z",
     "shell.execute_reply": "2023-11-10T13:00:49.174005Z"
    },
    "papermill": {
     "duration": 0.398429,
     "end_time": "2023-11-10T13:00:49.177188",
     "exception": false,
     "start_time": "2023-11-10T13:00:48.778759",
     "status": "completed"
    },
    "tags": []
   },
   "outputs": [
    {
     "data": {
      "image/png": "[encoded data removed]",
      "text/plain": [
       "<Figure size 640x480 with 1 Axes>"
      ]
     },
     "metadata": {},
     "output_type": "display_data"
    }
   ],
   "source": [
    "plt.plot(xticks, mem['train_recall_score'])\n",
    "plt.plot(xticks, mem['valid_recall_score'])\n",
    "plt.legend(['train', 'valid'])\n",
    "plt.xlabel('epoch')\n",
    "plt.title('recall score')\n",
    "plt.show()"
   ]
  },
  {
   "cell_type": "code",
   "execution_count": 24,
   "id": "a162eac8",
   "metadata": {
    "execution": {
     "iopub.execute_input": "2023-11-10T13:00:49.287009Z",
     "iopub.status.busy": "2023-11-10T13:00:49.286254Z",
     "iopub.status.idle": "2023-11-10T13:00:49.645350Z",
     "shell.execute_reply": "2023-11-10T13:00:49.644302Z"
    },
    "papermill": {
     "duration": 0.416941,
     "end_time": "2023-11-10T13:00:49.647601",
     "exception": false,
     "start_time": "2023-11-10T13:00:49.230660",
     "status": "completed"
    },
    "tags": []
   },
   "outputs": [
    {
     "data": {
      "image/png": "[encoded data removed]",
      "text/plain": [
       "<Figure size 640x480 with 1 Axes>"
      ]
     },
     "metadata": {},
     "output_type": "display_data"
    }
   ],
   "source": [
    "plt.plot(xticks, mem['train_accuracy_score'])\n",
    "plt.plot(xticks, mem['valid_accuracy_score'])\n",
    "plt.legend(['train', 'valid'])\n",
    "plt.xlabel('epoch')\n",
    "plt.title('accuracy score')\n",
    "plt.show()"
   ]
  },
  {
   "cell_type": "code",
   "execution_count": 25,
   "id": "e5217010",
   "metadata": {
    "execution": {
     "iopub.execute_input": "2023-11-10T13:00:49.759409Z",
     "iopub.status.busy": "2023-11-10T13:00:49.758780Z",
     "iopub.status.idle": "2023-11-10T13:00:50.114969Z",
     "shell.execute_reply": "2023-11-10T13:00:50.114057Z"
    },
    "papermill": {
     "duration": 0.41541,
     "end_time": "2023-11-10T13:00:50.117252",
     "exception": false,
     "start_time": "2023-11-10T13:00:49.701842",
     "status": "completed"
    },
    "tags": []
   },
   "outputs": [
    {
     "data": {
      "image/png": "[encoded data removed]",
      "text/plain": [
       "<Figure size 640x480 with 1 Axes>"
      ]
     },
     "metadata": {},
     "output_type": "display_data"
    }
   ],
   "source": [
    "plt.plot(xticks, mem['train_precision_score'])\n",
    "plt.plot(xticks, mem['valid_precision_score'])\n",
    "plt.legend(['train', 'valid'])\n",
    "plt.xlabel('epoch')\n",
    "plt.title('precision score')\n",
    "plt.show()"
   ]
  },
  {
   "cell_type": "code",
   "execution_count": 26,
   "id": "b958eb52",
   "metadata": {
    "execution": {
     "iopub.execute_input": "2023-11-10T13:00:50.228595Z",
     "iopub.status.busy": "2023-11-10T13:00:50.227950Z",
     "iopub.status.idle": "2023-11-10T13:00:50.575801Z",
     "shell.execute_reply": "2023-11-10T13:00:50.574845Z"
    },
    "papermill": {
     "duration": 0.405305,
     "end_time": "2023-11-10T13:00:50.577802",
     "exception": false,
     "start_time": "2023-11-10T13:00:50.172497",
     "status": "completed"
    },
    "tags": []
   },
   "outputs": [
    {
     "data": {
      "image/png": "[encoded data removed]",
      "text/plain": [
       "<Figure size 640x480 with 1 Axes>"
      ]
     },
     "metadata": {},
     "output_type": "display_data"
    }
   ],
   "source": [
    "plt.plot(xticks, mem['train_f1_score'])\n",
    "plt.plot(xticks, mem['valid_f1_score'])\n",
    "plt.legend(['train', 'valid'])\n",
    "plt.xlabel('epoch')\n",
    "plt.title('f1 score')\n",
    "plt.show()"
   ]
  },
  {
   "cell_type": "code",
   "execution_count": 27,
   "id": "f97b09fd",
   "metadata": {
    "execution": {
     "iopub.execute_input": "2023-11-10T13:00:50.689372Z",
     "iopub.status.busy": "2023-11-10T13:00:50.689072Z",
     "iopub.status.idle": "2023-11-10T13:00:51.036408Z",
     "shell.execute_reply": "2023-11-10T13:00:51.035500Z"
    },
    "papermill": {
     "duration": 0.405816,
     "end_time": "2023-11-10T13:00:51.038433",
     "exception": false,
     "start_time": "2023-11-10T13:00:50.632617",
     "status": "completed"
    },
    "tags": []
   },
   "outputs": [
    {
     "data": {
      "image/png": "[encoded data removed]",
      "text/plain": [
       "<Figure size 640x480 with 1 Axes>"
      ]
     },
     "metadata": {},
     "output_type": "display_data"
    }
   ],
   "source": [
    "plt.plot(xticks, mem['train_auc'])\n",
    "plt.plot(xticks, mem['valid_auc'])\n",
    "plt.legend(['train', 'valid'])\n",
    "plt.xlabel('epoch')\n",
    "plt.title('auc score')\n",
    "plt.show()"
   ]
  }
 ],
 "metadata": {
  "kernelspec": {
   "display_name": "Python 3",
   "language": "python",
   "name": "python3"
  },
  "language_info": {
   "codemirror_mode": {
    "name": "ipython",
    "version": 3
   },
   "file_extension": ".py",
   "mimetype": "text/x-python",
   "name": "python",
   "nbconvert_exporter": "python",
   "pygments_lexer": "ipython3",
   "version": "3.10.12"
  },
  "papermill": {
   "default_parameters": {},
   "duration": 1496.257881,
   "end_time": "2023-11-10T13:00:53.759548",
   "environment_variables": {},
   "exception": null,
   "input_path": "__notebook__.ipynb",
   "output_path": "__notebook__.ipynb",
   "parameters": {},
   "start_time": "2023-11-10T12:35:57.501667",
   "version": "2.4.0"
  },
  "widgets": {
   "application/vnd.jupyter.widget-state+json": {
    "state": {
     "065d329d34644ae8a086fdd65b20a9e7": {
      "model_module": "@jupyter-widgets/controls",
      "model_module_version": "1.5.0",
      "model_name": "HBoxModel",
      "state": {
       "_dom_classes": [],
       "_model_module": "@jupyter-widgets/controls",
       "_model_module_version": "1.5.0",
       "_model_name": "HBoxModel",
       "_view_count": null,
       "_view_module": "@jupyter-widgets/controls",
       "_view_module_version": "1.5.0",
       "_view_name": "HBoxView",
       "box_style": "",
       "children": [
        "IPY_MODEL_9ef84df75dc849ed939f95bbca0aa06d",
        "IPY_MODEL_63829d7819b9496197d8f96797a0f4f2",
        "IPY_MODEL_cd612d2fb663457b9c125075cde8b8a7"
       ],
       "layout": "IPY_MODEL_554c0ffa515944fc97bb5aeefba1927e"
      }
     },
     "115de5e087394141aeb9fed23a04f971": {
      "model_module": "@jupyter-widgets/base",
      "model_module_version": "1.2.0",
      "model_name": "LayoutModel",
      "state": {
       "_model_module": "@jupyter-widgets/base",
       "_model_module_version": "1.2.0",
       "_model_name": "LayoutModel",
       "_view_count": null,
       "_view_module": "@jupyter-widgets/base",
       "_view_module_version": "1.2.0",
       "_view_name": "LayoutView",
       "align_content": null,
       "align_items": null,
       "align_self": null,
       "border": null,
       "bottom": null,
       "display": null,
       "flex": null,
       "flex_flow": null,
       "grid_area": null,
       "grid_auto_columns": null,
       "grid_auto_flow": null,
       "grid_auto_rows": null,
       "grid_column": null,
       "grid_gap": null,
       "grid_row": null,
       "grid_template_areas": null,
       "grid_template_columns": null,
       "grid_template_rows": null,
       "height": null,
       "justify_content": null,
       "justify_items": null,
       "left": null,
       "margin": null,
       "max_height": null,
       "max_width": null,
       "min_height": null,
       "min_width": null,
       "object_fit": null,
       "object_position": null,
       "order": null,
       "overflow": null,
       "overflow_x": null,
       "overflow_y": null,
       "padding": null,
       "right": null,
       "top": null,
       "visibility": null,
       "width": null
      }
     },
     "2120d6dcb192422a8692696bb9c31aa0": {
      "model_module": "@jupyter-widgets/controls",
      "model_module_version": "1.5.0",
      "model_name": "ProgressStyleModel",
      "state": {
       "_model_module": "@jupyter-widgets/controls",
       "_model_module_version": "1.5.0",
       "_model_name": "ProgressStyleModel",
       "_view_count": null,
       "_view_module": "@jupyter-widgets/base",
       "_view_module_version": "1.2.0",
       "_view_name": "StyleView",
       "bar_color": null,
       "description_width": ""
      }
     },
     "47baa13dc9ba4786979afcad6625d8be": {
      "model_module": "@jupyter-widgets/controls",
      "model_module_version": "1.5.0",
      "model_name": "DescriptionStyleModel",
      "state": {
       "_model_module": "@jupyter-widgets/controls",
       "_model_module_version": "1.5.0",
       "_model_name": "DescriptionStyleModel",
       "_view_count": null,
       "_view_module": "@jupyter-widgets/base",
       "_view_module_version": "1.2.0",
       "_view_name": "StyleView",
       "description_width": ""
      }
     },
     "554c0ffa515944fc97bb5aeefba1927e": {
      "model_module": "@jupyter-widgets/base",
      "model_module_version": "1.2.0",
      "model_name": "LayoutModel",
      "state": {
       "_model_module": "@jupyter-widgets/base",
       "_model_module_version": "1.2.0",
       "_model_name": "LayoutModel",
       "_view_count": null,
       "_view_module": "@jupyter-widgets/base",
       "_view_module_version": "1.2.0",
       "_view_name": "LayoutView",
       "align_content": null,
       "align_items": null,
       "align_self": null,
       "border": null,
       "bottom": null,
       "display": null,
       "flex": null,
       "flex_flow": null,
       "grid_area": null,
       "grid_auto_columns": null,
       "grid_auto_flow": null,
       "grid_auto_rows": null,
       "grid_column": null,
       "grid_gap": null,
       "grid_row": null,
       "grid_template_areas": null,
       "grid_template_columns": null,
       "grid_template_rows": null,
       "height": null,
       "justify_content": null,
       "justify_items": null,
       "left": null,
       "margin": null,
       "max_height": null,
       "max_width": null,
       "min_height": null,
       "min_width": null,
       "object_fit": null,
       "object_position": null,
       "order": null,
       "overflow": null,
       "overflow_x": null,
       "overflow_y": null,
       "padding": null,
       "right": null,
       "top": null,
       "visibility": null,
       "width": null
      }
     },
     "63829d7819b9496197d8f96797a0f4f2": {
      "model_module": "@jupyter-widgets/controls",
      "model_module_version": "1.5.0",
      "model_name": "FloatProgressModel",
      "state": {
       "_dom_classes": [],
       "_model_module": "@jupyter-widgets/controls",
       "_model_module_version": "1.5.0",
       "_model_name": "FloatProgressModel",
       "_view_count": null,
       "_view_module": "@jupyter-widgets/controls",
       "_view_module_version": "1.5.0",
       "_view_name": "ProgressView",
       "bar_style": "success",
       "description": "",
       "description_tooltip": null,
       "layout": "IPY_MODEL_b188c8ff396e4a56883e06879eae3e56",
       "max": 10.0,
       "min": 0.0,
       "orientation": "horizontal",
       "style": "IPY_MODEL_2120d6dcb192422a8692696bb9c31aa0",
       "value": 10.0
      }
     },
     "9ef84df75dc849ed939f95bbca0aa06d": {
      "model_module": "@jupyter-widgets/controls",
      "model_module_version": "1.5.0",
      "model_name": "HTMLModel",
      "state": {
       "_dom_classes": [],
       "_model_module": "@jupyter-widgets/controls",
       "_model_module_version": "1.5.0",
       "_model_name": "HTMLModel",
       "_view_count": null,
       "_view_module": "@jupyter-widgets/controls",
       "_view_module_version": "1.5.0",
       "_view_name": "HTMLView",
       "description": "",
       "description_tooltip": null,
       "layout": "IPY_MODEL_115de5e087394141aeb9fed23a04f971",
       "placeholder": "​",
       "style": "IPY_MODEL_c92dd45f45f6497db526ec910dfc23d0",
       "value": "Training: 100%"
      }
     },
     "b188c8ff396e4a56883e06879eae3e56": {
      "model_module": "@jupyter-widgets/base",
      "model_module_version": "1.2.0",
      "model_name": "LayoutModel",
      "state": {
       "_model_module": "@jupyter-widgets/base",
       "_model_module_version": "1.2.0",
       "_model_name": "LayoutModel",
       "_view_count": null,
       "_view_module": "@jupyter-widgets/base",
       "_view_module_version": "1.2.0",
       "_view_name": "LayoutView",
       "align_content": null,
       "align_items": null,
       "align_self": null,
       "border": null,
       "bottom": null,
       "display": null,
       "flex": null,
       "flex_flow": null,
       "grid_area": null,
       "grid_auto_columns": null,
       "grid_auto_flow": null,
       "grid_auto_rows": null,
       "grid_column": null,
       "grid_gap": null,
       "grid_row": null,
       "grid_template_areas": null,
       "grid_template_columns": null,
       "grid_template_rows": null,
       "height": null,
       "justify_content": null,
       "justify_items": null,
       "left": null,
       "margin": null,
       "max_height": null,
       "max_width": null,
       "min_height": null,
       "min_width": null,
       "object_fit": null,
       "object_position": null,
       "order": null,
       "overflow": null,
       "overflow_x": null,
       "overflow_y": null,
       "padding": null,
       "right": null,
       "top": null,
       "visibility": null,
       "width": null
      }
     },
     "c92dd45f45f6497db526ec910dfc23d0": {
      "model_module": "@jupyter-widgets/controls",
      "model_module_version": "1.5.0",
      "model_name": "DescriptionStyleModel",
      "state": {
       "_model_module": "@jupyter-widgets/controls",
       "_model_module_version": "1.5.0",
       "_model_name": "DescriptionStyleModel",
       "_view_count": null,
       "_view_module": "@jupyter-widgets/base",
       "_view_module_version": "1.2.0",
       "_view_name": "StyleView",
       "description_width": ""
      }
     },
     "cd612d2fb663457b9c125075cde8b8a7": {
      "model_module": "@jupyter-widgets/controls",
      "model_module_version": "1.5.0",
      "model_name": "HTMLModel",
      "state": {
       "_dom_classes": [],
       "_model_module": "@jupyter-widgets/controls",
       "_model_module_version": "1.5.0",
       "_model_name": "HTMLModel",
       "_view_count": null,
       "_view_module": "@jupyter-widgets/controls",
       "_view_module_version": "1.5.0",
       "_view_name": "HTMLView",
       "description": "",
       "description_tooltip": null,
       "layout": "IPY_MODEL_d259afb351d6479fb14b406f878ccb14",
       "placeholder": "​",
       "style": "IPY_MODEL_47baa13dc9ba4786979afcad6625d8be",
       "value": " 10/10 [24:17&lt;00:00, 143.42s/it]"
      }
     },
     "d259afb351d6479fb14b406f878ccb14": {
      "model_module": "@jupyter-widgets/base",
      "model_module_version": "1.2.0",
      "model_name": "LayoutModel",
      "state": {
       "_model_module": "@jupyter-widgets/base",
       "_model_module_version": "1.2.0",
       "_model_name": "LayoutModel",
       "_view_count": null,
       "_view_module": "@jupyter-widgets/base",
       "_view_module_version": "1.2.0",
       "_view_name": "LayoutView",
       "align_content": null,
       "align_items": null,
       "align_self": null,
       "border": null,
       "bottom": null,
       "display": null,
       "flex": null,
       "flex_flow": null,
       "grid_area": null,
       "grid_auto_columns": null,
       "grid_auto_flow": null,
       "grid_auto_rows": null,
       "grid_column": null,
       "grid_gap": null,
       "grid_row": null,
       "grid_template_areas": null,
       "grid_template_columns": null,
       "grid_template_rows": null,
       "height": null,
       "justify_content": null,
       "justify_items": null,
       "left": null,
       "margin": null,
       "max_height": null,
       "max_width": null,
       "min_height": null,
       "min_width": null,
       "object_fit": null,
       "object_position": null,
       "order": null,
       "overflow": null,
       "overflow_x": null,
       "overflow_y": null,
       "padding": null,
       "right": null,
       "top": null,
       "visibility": null,
       "width": null
      }
     }
    },
    "version_major": 2,
    "version_minor": 0
   }
  }
 },
 "nbformat": 4,
 "nbformat_minor": 5
}
