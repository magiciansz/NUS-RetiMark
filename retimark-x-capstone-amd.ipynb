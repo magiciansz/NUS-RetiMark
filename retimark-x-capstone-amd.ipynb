{
 "cells": [
  {
   "cell_type": "markdown",
   "id": "36a67148",
   "metadata": {
    "papermill": {
     "duration": 0.009917,
     "end_time": "2023-10-30T15:46:44.379489",
     "exception": false,
     "start_time": "2023-10-30T15:46:44.369572",
     "status": "completed"
    },
    "tags": []
   },
   "source": [
    "# Install Dependencies"
   ]
  },
  {
   "cell_type": "code",
   "execution_count": 1,
   "id": "f3312d33",
   "metadata": {
    "_cell_guid": "b1076dfc-b9ad-4769-8c92-a6c4dae69d19",
    "_uuid": "8f2839f25d086af736a60e9eeb907d3b93b6e0e5",
    "execution": {
     "iopub.execute_input": "2023-10-30T15:46:44.400412Z",
     "iopub.status.busy": "2023-10-30T15:46:44.400006Z",
     "iopub.status.idle": "2023-10-30T15:46:59.590739Z",
     "shell.execute_reply": "2023-10-30T15:46:59.589512Z"
    },
    "papermill": {
     "duration": 15.204382,
     "end_time": "2023-10-30T15:46:59.593413",
     "exception": false,
     "start_time": "2023-10-30T15:46:44.389031",
     "status": "completed"
    },
    "tags": []
   },
   "outputs": [
    {
     "name": "stdout",
     "output_type": "stream",
     "text": [
      "Collecting torch_summary\r\n",
      "  Downloading torch_summary-1.4.5-py3-none-any.whl (16 kB)\r\n",
      "Installing collected packages: torch_summary\r\n",
      "Successfully installed torch_summary-1.4.5\r\n"
     ]
    }
   ],
   "source": [
    "!pip install torch_summary"
   ]
  },
  {
   "cell_type": "markdown",
   "id": "a66dc765",
   "metadata": {
    "papermill": {
     "duration": 0.009406,
     "end_time": "2023-10-30T15:46:59.612764",
     "exception": false,
     "start_time": "2023-10-30T15:46:59.603358",
     "status": "completed"
    },
    "tags": []
   },
   "source": [
    "# Import Libraries"
   ]
  },
  {
   "cell_type": "code",
   "execution_count": 2,
   "id": "28fdac72",
   "metadata": {
    "execution": {
     "iopub.execute_input": "2023-10-30T15:46:59.634195Z",
     "iopub.status.busy": "2023-10-30T15:46:59.633760Z",
     "iopub.status.idle": "2023-10-30T15:47:06.716268Z",
     "shell.execute_reply": "2023-10-30T15:47:06.715084Z"
    },
    "papermill": {
     "duration": 7.096711,
     "end_time": "2023-10-30T15:47:06.719198",
     "exception": false,
     "start_time": "2023-10-30T15:46:59.622487",
     "status": "completed"
    },
    "tags": []
   },
   "outputs": [],
   "source": [
    "import torch\n",
    "import torch.nn.functional as F\n",
    "from torch import nn, optim\n",
    "from torchvision import transforms as T, models\n",
    "from torch.utils.data import DataLoader, Dataset\n",
    "from torchsummary import summary\n",
    "from tqdm.notebook import tqdm \n",
    "\n",
    "from sklearn.metrics import classification_report, recall_score\n",
    "from sklearn.model_selection import train_test_split\n",
    "import seaborn as sns\n",
    "from PIL import Image\n",
    "import matplotlib.pyplot as plt\n",
    "from random import shuffle, randint, choice\n",
    "import numpy as np\n",
    "import cv2 as cv\n",
    "from glob import glob\n",
    "import pandas as pd"
   ]
  },
  {
   "cell_type": "code",
   "execution_count": 3,
   "id": "1ffa6a58",
   "metadata": {
    "execution": {
     "iopub.execute_input": "2023-10-30T15:47:06.740972Z",
     "iopub.status.busy": "2023-10-30T15:47:06.740365Z",
     "iopub.status.idle": "2023-10-30T15:47:07.841472Z",
     "shell.execute_reply": "2023-10-30T15:47:07.840092Z"
    },
    "papermill": {
     "duration": 1.115157,
     "end_time": "2023-10-30T15:47:07.844298",
     "exception": false,
     "start_time": "2023-10-30T15:47:06.729141",
     "status": "completed"
    },
    "tags": []
   },
   "outputs": [],
   "source": [
    "!mkdir saved_model\n",
    "sns.set_theme()\n",
    "device = 'cuda' if torch.cuda.is_available() else 'cpu'"
   ]
  },
  {
   "cell_type": "markdown",
   "id": "4bd7c57a",
   "metadata": {
    "papermill": {
     "duration": 0.009608,
     "end_time": "2023-10-30T15:47:07.864374",
     "exception": false,
     "start_time": "2023-10-30T15:47:07.854766",
     "status": "completed"
    },
    "tags": []
   },
   "source": [
    "# Dataset"
   ]
  },
  {
   "cell_type": "code",
   "execution_count": 4,
   "id": "2c4c4903",
   "metadata": {
    "execution": {
     "iopub.execute_input": "2023-10-30T15:47:07.887378Z",
     "iopub.status.busy": "2023-10-30T15:47:07.886940Z",
     "iopub.status.idle": "2023-10-30T15:47:08.019869Z",
     "shell.execute_reply": "2023-10-30T15:47:08.018724Z"
    },
    "papermill": {
     "duration": 0.148205,
     "end_time": "2023-10-30T15:47:08.022707",
     "exception": false,
     "start_time": "2023-10-30T15:47:07.874502",
     "status": "completed"
    },
    "tags": []
   },
   "outputs": [
    {
     "data": {
      "text/html": [
       "<div>\n",
       "<style scoped>\n",
       "    .dataframe tbody tr th:only-of-type {\n",
       "        vertical-align: middle;\n",
       "    }\n",
       "\n",
       "    .dataframe tbody tr th {\n",
       "        vertical-align: top;\n",
       "    }\n",
       "\n",
       "    .dataframe thead th {\n",
       "        text-align: right;\n",
       "    }\n",
       "</style>\n",
       "<table border=\"1\" class=\"dataframe\">\n",
       "  <thead>\n",
       "    <tr style=\"text-align: right;\">\n",
       "      <th></th>\n",
       "      <th>Patient Age</th>\n",
       "      <th>Patient Sex</th>\n",
       "      <th>Left-Fundus</th>\n",
       "      <th>Right-Fundus</th>\n",
       "      <th>Left-Diagnostic Keywords</th>\n",
       "      <th>Right-Diagnostic Keywords</th>\n",
       "      <th>N</th>\n",
       "      <th>D</th>\n",
       "      <th>G</th>\n",
       "      <th>C</th>\n",
       "      <th>A</th>\n",
       "      <th>H</th>\n",
       "      <th>M</th>\n",
       "      <th>O</th>\n",
       "      <th>filepath</th>\n",
       "      <th>labels</th>\n",
       "      <th>target</th>\n",
       "      <th>filename</th>\n",
       "    </tr>\n",
       "    <tr>\n",
       "      <th>ID</th>\n",
       "      <th></th>\n",
       "      <th></th>\n",
       "      <th></th>\n",
       "      <th></th>\n",
       "      <th></th>\n",
       "      <th></th>\n",
       "      <th></th>\n",
       "      <th></th>\n",
       "      <th></th>\n",
       "      <th></th>\n",
       "      <th></th>\n",
       "      <th></th>\n",
       "      <th></th>\n",
       "      <th></th>\n",
       "      <th></th>\n",
       "      <th></th>\n",
       "      <th></th>\n",
       "      <th></th>\n",
       "    </tr>\n",
       "  </thead>\n",
       "  <tbody>\n",
       "    <tr>\n",
       "      <th>0</th>\n",
       "      <td>69</td>\n",
       "      <td>Female</td>\n",
       "      <td>0_left.jpg</td>\n",
       "      <td>0_right.jpg</td>\n",
       "      <td>cataract</td>\n",
       "      <td>normal fundus</td>\n",
       "      <td>0</td>\n",
       "      <td>0</td>\n",
       "      <td>0</td>\n",
       "      <td>1</td>\n",
       "      <td>0</td>\n",
       "      <td>0</td>\n",
       "      <td>0</td>\n",
       "      <td>0</td>\n",
       "      <td>../input/ocular-disease-recognition-odir5k/ODI...</td>\n",
       "      <td>['N']</td>\n",
       "      <td>[1, 0, 0, 0, 0, 0, 0, 0]</td>\n",
       "      <td>0_right.jpg</td>\n",
       "    </tr>\n",
       "    <tr>\n",
       "      <th>1</th>\n",
       "      <td>57</td>\n",
       "      <td>Male</td>\n",
       "      <td>1_left.jpg</td>\n",
       "      <td>1_right.jpg</td>\n",
       "      <td>normal fundus</td>\n",
       "      <td>normal fundus</td>\n",
       "      <td>1</td>\n",
       "      <td>0</td>\n",
       "      <td>0</td>\n",
       "      <td>0</td>\n",
       "      <td>0</td>\n",
       "      <td>0</td>\n",
       "      <td>0</td>\n",
       "      <td>0</td>\n",
       "      <td>../input/ocular-disease-recognition-odir5k/ODI...</td>\n",
       "      <td>['N']</td>\n",
       "      <td>[1, 0, 0, 0, 0, 0, 0, 0]</td>\n",
       "      <td>1_right.jpg</td>\n",
       "    </tr>\n",
       "    <tr>\n",
       "      <th>2</th>\n",
       "      <td>42</td>\n",
       "      <td>Male</td>\n",
       "      <td>2_left.jpg</td>\n",
       "      <td>2_right.jpg</td>\n",
       "      <td>laser spot，moderate non proliferative retinopathy</td>\n",
       "      <td>moderate non proliferative retinopathy</td>\n",
       "      <td>0</td>\n",
       "      <td>1</td>\n",
       "      <td>0</td>\n",
       "      <td>0</td>\n",
       "      <td>0</td>\n",
       "      <td>0</td>\n",
       "      <td>0</td>\n",
       "      <td>1</td>\n",
       "      <td>../input/ocular-disease-recognition-odir5k/ODI...</td>\n",
       "      <td>['D']</td>\n",
       "      <td>[0, 1, 0, 0, 0, 0, 0, 0]</td>\n",
       "      <td>2_right.jpg</td>\n",
       "    </tr>\n",
       "    <tr>\n",
       "      <th>4</th>\n",
       "      <td>53</td>\n",
       "      <td>Male</td>\n",
       "      <td>4_left.jpg</td>\n",
       "      <td>4_right.jpg</td>\n",
       "      <td>macular epiretinal membrane</td>\n",
       "      <td>mild nonproliferative retinopathy</td>\n",
       "      <td>0</td>\n",
       "      <td>1</td>\n",
       "      <td>0</td>\n",
       "      <td>0</td>\n",
       "      <td>0</td>\n",
       "      <td>0</td>\n",
       "      <td>0</td>\n",
       "      <td>1</td>\n",
       "      <td>../input/ocular-disease-recognition-odir5k/ODI...</td>\n",
       "      <td>['D']</td>\n",
       "      <td>[0, 1, 0, 0, 0, 0, 0, 0]</td>\n",
       "      <td>4_right.jpg</td>\n",
       "    </tr>\n",
       "    <tr>\n",
       "      <th>5</th>\n",
       "      <td>50</td>\n",
       "      <td>Female</td>\n",
       "      <td>5_left.jpg</td>\n",
       "      <td>5_right.jpg</td>\n",
       "      <td>moderate non proliferative retinopathy</td>\n",
       "      <td>moderate non proliferative retinopathy</td>\n",
       "      <td>0</td>\n",
       "      <td>1</td>\n",
       "      <td>0</td>\n",
       "      <td>0</td>\n",
       "      <td>0</td>\n",
       "      <td>0</td>\n",
       "      <td>0</td>\n",
       "      <td>0</td>\n",
       "      <td>../input/ocular-disease-recognition-odir5k/ODI...</td>\n",
       "      <td>['D']</td>\n",
       "      <td>[0, 1, 0, 0, 0, 0, 0, 0]</td>\n",
       "      <td>5_right.jpg</td>\n",
       "    </tr>\n",
       "  </tbody>\n",
       "</table>\n",
       "</div>"
      ],
      "text/plain": [
       "    Patient Age Patient Sex Left-Fundus Right-Fundus  \\\n",
       "ID                                                     \n",
       "0            69      Female  0_left.jpg  0_right.jpg   \n",
       "1            57        Male  1_left.jpg  1_right.jpg   \n",
       "2            42        Male  2_left.jpg  2_right.jpg   \n",
       "4            53        Male  4_left.jpg  4_right.jpg   \n",
       "5            50      Female  5_left.jpg  5_right.jpg   \n",
       "\n",
       "                             Left-Diagnostic Keywords  \\\n",
       "ID                                                      \n",
       "0                                            cataract   \n",
       "1                                       normal fundus   \n",
       "2   laser spot，moderate non proliferative retinopathy   \n",
       "4                         macular epiretinal membrane   \n",
       "5              moderate non proliferative retinopathy   \n",
       "\n",
       "                 Right-Diagnostic Keywords  N  D  G  C  A  H  M  O  \\\n",
       "ID                                                                   \n",
       "0                            normal fundus  0  0  0  1  0  0  0  0   \n",
       "1                            normal fundus  1  0  0  0  0  0  0  0   \n",
       "2   moderate non proliferative retinopathy  0  1  0  0  0  0  0  1   \n",
       "4        mild nonproliferative retinopathy  0  1  0  0  0  0  0  1   \n",
       "5   moderate non proliferative retinopathy  0  1  0  0  0  0  0  0   \n",
       "\n",
       "                                             filepath labels  \\\n",
       "ID                                                             \n",
       "0   ../input/ocular-disease-recognition-odir5k/ODI...  ['N']   \n",
       "1   ../input/ocular-disease-recognition-odir5k/ODI...  ['N']   \n",
       "2   ../input/ocular-disease-recognition-odir5k/ODI...  ['D']   \n",
       "4   ../input/ocular-disease-recognition-odir5k/ODI...  ['D']   \n",
       "5   ../input/ocular-disease-recognition-odir5k/ODI...  ['D']   \n",
       "\n",
       "                      target     filename  \n",
       "ID                                         \n",
       "0   [1, 0, 0, 0, 0, 0, 0, 0]  0_right.jpg  \n",
       "1   [1, 0, 0, 0, 0, 0, 0, 0]  1_right.jpg  \n",
       "2   [0, 1, 0, 0, 0, 0, 0, 0]  2_right.jpg  \n",
       "4   [0, 1, 0, 0, 0, 0, 0, 0]  4_right.jpg  \n",
       "5   [0, 1, 0, 0, 0, 0, 0, 0]  5_right.jpg  "
      ]
     },
     "execution_count": 4,
     "metadata": {},
     "output_type": "execute_result"
    }
   ],
   "source": [
    "DIR = '../input/ocular-disease-recognition-odir5k'\n",
    "\n",
    "full_df = pd.read_csv(f'{DIR}/full_df.csv', index_col=0)\n",
    "\n",
    "full_df.head()"
   ]
  },
  {
   "cell_type": "markdown",
   "id": "7d5e22c4",
   "metadata": {
    "papermill": {
     "duration": 0.009988,
     "end_time": "2023-10-30T15:47:08.043157",
     "exception": false,
     "start_time": "2023-10-30T15:47:08.033169",
     "status": "completed"
    },
    "tags": []
   },
   "source": [
    "# Data Preprocessing"
   ]
  },
  {
   "cell_type": "code",
   "execution_count": 5,
   "id": "1d421abc",
   "metadata": {
    "execution": {
     "iopub.execute_input": "2023-10-30T15:47:08.065584Z",
     "iopub.status.busy": "2023-10-30T15:47:08.064974Z",
     "iopub.status.idle": "2023-10-30T15:47:08.086885Z",
     "shell.execute_reply": "2023-10-30T15:47:08.085735Z"
    },
    "papermill": {
     "duration": 0.035993,
     "end_time": "2023-10-30T15:47:08.089420",
     "exception": false,
     "start_time": "2023-10-30T15:47:08.053427",
     "status": "completed"
    },
    "tags": []
   },
   "outputs": [],
   "source": [
    "full_df['side'] = full_df['filename'].str[:-4].str.replace(r'\\d+_', '', regex=True)"
   ]
  },
  {
   "cell_type": "code",
   "execution_count": 6,
   "id": "7a5d8736",
   "metadata": {
    "execution": {
     "iopub.execute_input": "2023-10-30T15:47:08.111962Z",
     "iopub.status.busy": "2023-10-30T15:47:08.111505Z",
     "iopub.status.idle": "2023-10-30T15:47:08.127163Z",
     "shell.execute_reply": "2023-10-30T15:47:08.125998Z"
    },
    "papermill": {
     "duration": 0.029832,
     "end_time": "2023-10-30T15:47:08.129632",
     "exception": false,
     "start_time": "2023-10-30T15:47:08.099800",
     "status": "completed"
    },
    "tags": []
   },
   "outputs": [],
   "source": [
    "image_dir = '../input/ocular-disease-recognition-odir5k/ODIR-5K/'\n",
    "full_df['filepath'] = full_df['filepath'].str.replace(image_dir, image_dir + 'ODIR-5K/')"
   ]
  },
  {
   "cell_type": "code",
   "execution_count": 7,
   "id": "b610c274",
   "metadata": {
    "execution": {
     "iopub.execute_input": "2023-10-30T15:47:08.152174Z",
     "iopub.status.busy": "2023-10-30T15:47:08.151781Z",
     "iopub.status.idle": "2023-10-30T15:47:08.164224Z",
     "shell.execute_reply": "2023-10-30T15:47:08.163267Z"
    },
    "papermill": {
     "duration": 0.026468,
     "end_time": "2023-10-30T15:47:08.166629",
     "exception": false,
     "start_time": "2023-10-30T15:47:08.140161",
     "status": "completed"
    },
    "tags": []
   },
   "outputs": [],
   "source": [
    "age_intervals = [0, 20, 40, 60, 80, 100]\n",
    "age_labels = ['0-20', '21-40', '41-60', '61-80', '81+']\n",
    "full_df['Age Group'] = pd.cut(full_df['Patient Age'], bins=age_intervals, labels=age_labels, right=False)"
   ]
  },
  {
   "cell_type": "code",
   "execution_count": 8,
   "id": "d5b41fa9",
   "metadata": {
    "execution": {
     "iopub.execute_input": "2023-10-30T15:47:08.189349Z",
     "iopub.status.busy": "2023-10-30T15:47:08.188964Z",
     "iopub.status.idle": "2023-10-30T15:47:08.200074Z",
     "shell.execute_reply": "2023-10-30T15:47:08.198888Z"
    },
    "papermill": {
     "duration": 0.025142,
     "end_time": "2023-10-30T15:47:08.202517",
     "exception": false,
     "start_time": "2023-10-30T15:47:08.177375",
     "status": "completed"
    },
    "tags": []
   },
   "outputs": [],
   "source": [
    "full_df['labels_text'] = full_df['labels'].apply(lambda x: x[2])\n",
    "full_df['target'] = np.where(full_df['labels_text'] == \"A\", 1, 0)"
   ]
  },
  {
   "cell_type": "markdown",
   "id": "42026adc",
   "metadata": {
    "papermill": {
     "duration": 0.00998,
     "end_time": "2023-10-30T15:47:08.224543",
     "exception": false,
     "start_time": "2023-10-30T15:47:08.214563",
     "status": "completed"
    },
    "tags": []
   },
   "source": [
    "# Split Dataset"
   ]
  },
  {
   "cell_type": "code",
   "execution_count": 9,
   "id": "79854e31",
   "metadata": {
    "execution": {
     "iopub.execute_input": "2023-10-30T15:47:08.246770Z",
     "iopub.status.busy": "2023-10-30T15:47:08.246367Z",
     "iopub.status.idle": "2023-10-30T15:47:08.284998Z",
     "shell.execute_reply": "2023-10-30T15:47:08.283357Z"
    },
    "papermill": {
     "duration": 0.053011,
     "end_time": "2023-10-30T15:47:08.287773",
     "exception": false,
     "start_time": "2023-10-30T15:47:08.234762",
     "status": "completed"
    },
    "tags": []
   },
   "outputs": [],
   "source": [
    "right_df = full_df[full_df['side'] == 'right']\n",
    "left_df = full_df[full_df['side'] == 'left']\n",
    "\n",
    "# Fix data imbalance\n",
    "\n",
    "right_df_0 = right_df[right_df['target'] == 0]\n",
    "right_df_0 = right_df_0.sample(frac=0.25, random_state=42)\n",
    "right_df_1 = right_df[right_df['target'] == 1]\n",
    "\n",
    "left_df_0 = left_df[left_df['target'] == 0]\n",
    "left_df_0 = left_df_0.sample(frac=0.25, random_state=42)\n",
    "left_df_1 = left_df[left_df['target'] == 1]\n",
    "\n",
    "right_df = pd.concat([right_df_0, right_df_1])\n",
    "left_df = pd.concat([left_df_0, left_df_1])\n",
    "\n",
    "right_df = right_df.sample(frac=1, random_state=42)\n",
    "left_df = left_df.sample(frac=1, random_state=42)\n",
    "\n",
    "right_train, right_test = train_test_split(right_df, test_size=0.2, random_state=42)\n",
    "left_train, left_test = train_test_split(left_df, test_size=0.2, random_state=42)\n",
    "\n",
    "train_df = pd.concat([right_train, left_train])\n",
    "valid_df = pd.concat([right_test, left_test])"
   ]
  },
  {
   "cell_type": "markdown",
   "id": "4d974dee",
   "metadata": {
    "papermill": {
     "duration": 0.009898,
     "end_time": "2023-10-30T15:47:08.308206",
     "exception": false,
     "start_time": "2023-10-30T15:47:08.298308",
     "status": "completed"
    },
    "tags": []
   },
   "source": [
    "# Prepare Dataset and Dataloader"
   ]
  },
  {
   "cell_type": "code",
   "execution_count": 10,
   "id": "a14ed18c",
   "metadata": {
    "execution": {
     "iopub.execute_input": "2023-10-30T15:47:08.331353Z",
     "iopub.status.busy": "2023-10-30T15:47:08.330226Z",
     "iopub.status.idle": "2023-10-30T15:47:08.342424Z",
     "shell.execute_reply": "2023-10-30T15:47:08.341446Z"
    },
    "papermill": {
     "duration": 0.026246,
     "end_time": "2023-10-30T15:47:08.344880",
     "exception": false,
     "start_time": "2023-10-30T15:47:08.318634",
     "status": "completed"
    },
    "tags": []
   },
   "outputs": [],
   "source": [
    "class EyeDataset(Dataset):\n",
    "    def __init__(self, df):\n",
    "        self.df = df\n",
    "        self.transform = T.Compose([\n",
    "            T.Resize([224, 224]),\n",
    "            T.ToTensor(),\n",
    "            T.Normalize((0.485, 0.456, 0.406),\n",
    "                       (0.229, 0.224, 0.225))\n",
    "        ])\n",
    "    \n",
    "    def __len__(self):\n",
    "        return len(self.df)\n",
    "    \n",
    "    def __getitem__(self, idx):\n",
    "        filepath = self.df.iloc[idx]['filepath']\n",
    "        image = cv.imread(filepath)\n",
    "        image = cv.cvtColor(image, cv.COLOR_BGR2GRAY)\n",
    "        _, thresholded = cv.threshold(image, 0, 255, cv.THRESH_OTSU)\n",
    "        x, y, w, h = cv.boundingRect(thresholded)\n",
    "        cropped_image = cv.cvtColor(image[y:y+h, x:x+w], cv.COLOR_GRAY2RGB)\n",
    "        cropped_image = Image.fromarray(cropped_image)\n",
    "        target = self.df.iloc[idx]['target']\n",
    "        \n",
    "        return cropped_image, target\n",
    "    \n",
    "    def transform_img(self, img):\n",
    "        return self.transform(img)\n",
    "    \n",
    "    def collate_fn(self, data):\n",
    "        imgs, targets = zip(*data)\n",
    "        targets = torch.tensor(targets)\n",
    "        targets = targets.view(-1, 1).float()\n",
    "        targets = targets.to(device)\n",
    "        imgs = torch.stack(\n",
    "            [self.transform_img(img) for img in imgs], 0\n",
    "        ).to(device)\n",
    "        return imgs, targets"
   ]
  },
  {
   "cell_type": "code",
   "execution_count": 11,
   "id": "899537d9",
   "metadata": {
    "execution": {
     "iopub.execute_input": "2023-10-30T15:47:08.367581Z",
     "iopub.status.busy": "2023-10-30T15:47:08.366458Z",
     "iopub.status.idle": "2023-10-30T15:47:08.374372Z",
     "shell.execute_reply": "2023-10-30T15:47:08.373183Z"
    },
    "papermill": {
     "duration": 0.021474,
     "end_time": "2023-10-30T15:47:08.376670",
     "exception": false,
     "start_time": "2023-10-30T15:47:08.355196",
     "status": "completed"
    },
    "tags": []
   },
   "outputs": [],
   "source": [
    "train_ds = EyeDataset(train_df)\n",
    "train_dl = DataLoader(train_ds, batch_size=64, shuffle=True,\n",
    "                      collate_fn=train_ds.collate_fn, \n",
    "                      drop_last=True)\n",
    "\n",
    "valid_ds = EyeDataset(valid_df)\n",
    "valid_dl = DataLoader(valid_ds, batch_size=64,\n",
    "                      collate_fn=valid_ds.collate_fn)"
   ]
  },
  {
   "cell_type": "code",
   "execution_count": 12,
   "id": "c0d0bec6",
   "metadata": {
    "execution": {
     "iopub.execute_input": "2023-10-30T15:47:08.399091Z",
     "iopub.status.busy": "2023-10-30T15:47:08.398417Z",
     "iopub.status.idle": "2023-10-30T15:47:08.404568Z",
     "shell.execute_reply": "2023-10-30T15:47:08.403090Z"
    },
    "papermill": {
     "duration": 0.020066,
     "end_time": "2023-10-30T15:47:08.406914",
     "exception": false,
     "start_time": "2023-10-30T15:47:08.386848",
     "status": "completed"
    },
    "tags": []
   },
   "outputs": [
    {
     "name": "stdout",
     "output_type": "stream",
     "text": [
      "Size of Train: 1436\n",
      "Size of Validation: 361\n"
     ]
    }
   ],
   "source": [
    "print('Size of Train:', len(train_ds))\n",
    "print('Size of Validation:', len(valid_ds))"
   ]
  },
  {
   "cell_type": "markdown",
   "id": "225256f2",
   "metadata": {
    "papermill": {
     "duration": 0.009979,
     "end_time": "2023-10-30T15:47:08.427636",
     "exception": false,
     "start_time": "2023-10-30T15:47:08.417657",
     "status": "completed"
    },
    "tags": []
   },
   "source": [
    "# Model"
   ]
  },
  {
   "cell_type": "code",
   "execution_count": 13,
   "id": "0297d9dd",
   "metadata": {
    "execution": {
     "iopub.execute_input": "2023-10-30T15:47:08.450710Z",
     "iopub.status.busy": "2023-10-30T15:47:08.449922Z",
     "iopub.status.idle": "2023-10-30T15:47:08.458045Z",
     "shell.execute_reply": "2023-10-30T15:47:08.457241Z"
    },
    "papermill": {
     "duration": 0.022397,
     "end_time": "2023-10-30T15:47:08.460422",
     "exception": false,
     "start_time": "2023-10-30T15:47:08.438025",
     "status": "completed"
    },
    "tags": []
   },
   "outputs": [],
   "source": [
    "class EyeClassifier(nn.Module):\n",
    "    def __init__(self, pretrained=True):\n",
    "        super().__init__()\n",
    "        self.model = models.resnet34(pretrained=pretrained, progress=pretrained)\n",
    "        for param in self.model.parameters():\n",
    "            param.requires_grad = True\n",
    "        \n",
    "        num_features = self.model.fc.in_features\n",
    "        self.model.fc = nn.Sequential(\n",
    "            nn.Flatten(),\n",
    "            nn.BatchNorm1d(num_features),\n",
    "            nn.Dropout(0.5),\n",
    "            nn.Linear(num_features, 1),\n",
    "            nn.Sigmoid()\n",
    "        )\n",
    "        \n",
    "    def forward(self, x):\n",
    "        x = self.model(x)\n",
    "        return x"
   ]
  },
  {
   "cell_type": "code",
   "execution_count": 14,
   "id": "ba2443c4",
   "metadata": {
    "execution": {
     "iopub.execute_input": "2023-10-30T15:47:08.483473Z",
     "iopub.status.busy": "2023-10-30T15:47:08.482664Z",
     "iopub.status.idle": "2023-10-30T15:47:09.907215Z",
     "shell.execute_reply": "2023-10-30T15:47:09.906195Z"
    },
    "papermill": {
     "duration": 1.438858,
     "end_time": "2023-10-30T15:47:09.909794",
     "exception": false,
     "start_time": "2023-10-30T15:47:08.470936",
     "status": "completed"
    },
    "tags": []
   },
   "outputs": [
    {
     "name": "stderr",
     "output_type": "stream",
     "text": [
      "/opt/conda/lib/python3.10/site-packages/torchvision/models/_utils.py:208: UserWarning: The parameter 'pretrained' is deprecated since 0.13 and may be removed in the future, please use 'weights' instead.\n",
      "  warnings.warn(\n",
      "/opt/conda/lib/python3.10/site-packages/torchvision/models/_utils.py:223: UserWarning: Arguments other than a weight enum or `None` for 'weights' are deprecated since 0.13 and may be removed in the future. The current behavior is equivalent to passing `weights=ResNet34_Weights.IMAGENET1K_V1`. You can also use `weights=ResNet34_Weights.DEFAULT` to get the most up-to-date weights.\n",
      "  warnings.warn(msg)\n",
      "Downloading: \"https://download.pytorch.org/models/resnet34-b627a593.pth\" to /root/.cache/torch/hub/checkpoints/resnet34-b627a593.pth\n",
      "100%|██████████| 83.3M/83.3M [00:00<00:00, 175MB/s]\n"
     ]
    },
    {
     "name": "stdout",
     "output_type": "stream",
     "text": [
      "==========================================================================================\n",
      "Layer (type:depth-idx)                   Output Shape              Param #\n",
      "==========================================================================================\n",
      "├─ResNet: 1-1                            [-1, 1]                   --\n",
      "|    └─Conv2d: 2-1                       [-1, 64, 112, 112]        9,408\n",
      "|    └─BatchNorm2d: 2-2                  [-1, 64, 112, 112]        128\n",
      "|    └─ReLU: 2-3                         [-1, 64, 112, 112]        --\n",
      "|    └─MaxPool2d: 2-4                    [-1, 64, 56, 56]          --\n",
      "|    └─Sequential: 2-5                   [-1, 64, 56, 56]          --\n",
      "|    |    └─BasicBlock: 3-1              [-1, 64, 56, 56]          73,984\n",
      "|    |    └─BasicBlock: 3-2              [-1, 64, 56, 56]          73,984\n",
      "|    |    └─BasicBlock: 3-3              [-1, 64, 56, 56]          73,984\n",
      "|    └─Sequential: 2-6                   [-1, 128, 28, 28]         --\n",
      "|    |    └─BasicBlock: 3-4              [-1, 128, 28, 28]         230,144\n",
      "|    |    └─BasicBlock: 3-5              [-1, 128, 28, 28]         295,424\n",
      "|    |    └─BasicBlock: 3-6              [-1, 128, 28, 28]         295,424\n",
      "|    |    └─BasicBlock: 3-7              [-1, 128, 28, 28]         295,424\n",
      "|    └─Sequential: 2-7                   [-1, 256, 14, 14]         --\n",
      "|    |    └─BasicBlock: 3-8              [-1, 256, 14, 14]         919,040\n",
      "|    |    └─BasicBlock: 3-9              [-1, 256, 14, 14]         1,180,672\n",
      "|    |    └─BasicBlock: 3-10             [-1, 256, 14, 14]         1,180,672\n",
      "|    |    └─BasicBlock: 3-11             [-1, 256, 14, 14]         1,180,672\n",
      "|    |    └─BasicBlock: 3-12             [-1, 256, 14, 14]         1,180,672\n",
      "|    |    └─BasicBlock: 3-13             [-1, 256, 14, 14]         1,180,672\n",
      "|    └─Sequential: 2-8                   [-1, 512, 7, 7]           --\n",
      "|    |    └─BasicBlock: 3-14             [-1, 512, 7, 7]           3,673,088\n",
      "|    |    └─BasicBlock: 3-15             [-1, 512, 7, 7]           4,720,640\n",
      "|    |    └─BasicBlock: 3-16             [-1, 512, 7, 7]           4,720,640\n",
      "|    └─AdaptiveAvgPool2d: 2-9            [-1, 512, 1, 1]           --\n",
      "|    └─Sequential: 2-10                  [-1, 1]                   --\n",
      "|    |    └─Flatten: 3-17                [-1, 512]                 --\n",
      "|    |    └─BatchNorm1d: 3-18            [-1, 512]                 1,024\n",
      "|    |    └─Dropout: 3-19                [-1, 512]                 --\n",
      "|    |    └─Linear: 3-20                 [-1, 1]                   513\n",
      "|    |    └─Sigmoid: 3-21                [-1, 1]                   --\n",
      "==========================================================================================\n",
      "Total params: 21,286,209\n",
      "Trainable params: 21,286,209\n",
      "Non-trainable params: 0\n",
      "Total mult-adds (G): 3.71\n",
      "==========================================================================================\n",
      "Input size (MB): 0.57\n",
      "Forward/backward pass size (MB): 54.36\n",
      "Params size (MB): 81.20\n",
      "Estimated Total Size (MB): 136.14\n",
      "==========================================================================================\n"
     ]
    }
   ],
   "source": [
    "classifier = EyeClassifier(pretrained=True)\n",
    "_ = summary(classifier, torch.ones(1,3,224,224))"
   ]
  },
  {
   "cell_type": "markdown",
   "id": "11d30f5c",
   "metadata": {
    "papermill": {
     "duration": 0.011086,
     "end_time": "2023-10-30T15:47:09.932257",
     "exception": false,
     "start_time": "2023-10-30T15:47:09.921171",
     "status": "completed"
    },
    "tags": []
   },
   "source": [
    "# Define Train and Validate Functions"
   ]
  },
  {
   "cell_type": "code",
   "execution_count": 15,
   "id": "245ba18e",
   "metadata": {
    "execution": {
     "iopub.execute_input": "2023-10-30T15:47:09.956784Z",
     "iopub.status.busy": "2023-10-30T15:47:09.956196Z",
     "iopub.status.idle": "2023-10-30T15:47:09.961302Z",
     "shell.execute_reply": "2023-10-30T15:47:09.960308Z"
    },
    "papermill": {
     "duration": 0.01986,
     "end_time": "2023-10-30T15:47:09.963458",
     "exception": false,
     "start_time": "2023-10-30T15:47:09.943598",
     "status": "completed"
    },
    "tags": []
   },
   "outputs": [],
   "source": [
    "def crop_image(image):\n",
    "    _, thresholded = cv.threshold(image, 0, 255, cv.THRESH_OTSU)\n",
    "    x, y, w, h = cv.boundingRect(thresholded)\n",
    "    return image[y:y+h, x:x+w]"
   ]
  },
  {
   "cell_type": "code",
   "execution_count": 16,
   "id": "0e9b27f7",
   "metadata": {
    "execution": {
     "iopub.execute_input": "2023-10-30T15:47:09.988789Z",
     "iopub.status.busy": "2023-10-30T15:47:09.988082Z",
     "iopub.status.idle": "2023-10-30T15:47:09.996395Z",
     "shell.execute_reply": "2023-10-30T15:47:09.995203Z"
    },
    "papermill": {
     "duration": 0.023914,
     "end_time": "2023-10-30T15:47:09.998993",
     "exception": false,
     "start_time": "2023-10-30T15:47:09.975079",
     "status": "completed"
    },
    "tags": []
   },
   "outputs": [],
   "source": [
    "def train(data, classifier, optimizer, loss_fn):\n",
    "    classifier.train()\n",
    "    imgs, targets = data\n",
    "    outputs = classifier(imgs.to(device))\n",
    "    loss = loss_fn(outputs.to(device), targets.to(device))\n",
    "    optimizer.zero_grad()\n",
    "    loss.backward()\n",
    "    optimizer.step()\n",
    "    \n",
    "    outputs = outputs.cpu().detach().tolist()\n",
    "    targets = targets.cpu().detach().tolist()\n",
    "    preds = list(map(lambda x: int(x[0] > 0.5), outputs))\n",
    "    fake_recall_score = recall_score(targets, preds, \n",
    "                               pos_label=0,\n",
    "                               zero_division=0)\n",
    "    \n",
    "    return loss.cpu().detach().item(), fake_recall_score"
   ]
  },
  {
   "cell_type": "code",
   "execution_count": 17,
   "id": "92f56912",
   "metadata": {
    "execution": {
     "iopub.execute_input": "2023-10-30T15:47:10.024366Z",
     "iopub.status.busy": "2023-10-30T15:47:10.023999Z",
     "iopub.status.idle": "2023-10-30T15:47:10.031727Z",
     "shell.execute_reply": "2023-10-30T15:47:10.030913Z"
    },
    "papermill": {
     "duration": 0.022627,
     "end_time": "2023-10-30T15:47:10.033983",
     "exception": false,
     "start_time": "2023-10-30T15:47:10.011356",
     "status": "completed"
    },
    "tags": []
   },
   "outputs": [],
   "source": [
    "@torch.no_grad()\n",
    "def validate(data, classifier, loss_fn):\n",
    "    classifier.eval()\n",
    "    imgs, targets = data\n",
    "    outputs = classifier(imgs.to(device))\n",
    "    loss = loss_fn(outputs.to(device), targets.to(device))\n",
    "    \n",
    "    outputs = outputs.cpu().detach().tolist()\n",
    "    targets = targets.cpu().detach().tolist()\n",
    "    preds = list(map(lambda x: int(x[0] > 0.5), outputs))\n",
    "    fake_recall_score = recall_score(targets, preds, \n",
    "                               pos_label=0,\n",
    "                               zero_division=0)\n",
    "    \n",
    "    return loss.cpu().detach().item(), fake_recall_score"
   ]
  },
  {
   "cell_type": "markdown",
   "id": "3276ba30",
   "metadata": {
    "papermill": {
     "duration": 0.011465,
     "end_time": "2023-10-30T15:47:10.057350",
     "exception": false,
     "start_time": "2023-10-30T15:47:10.045885",
     "status": "completed"
    },
    "tags": []
   },
   "source": [
    "# Training Model"
   ]
  },
  {
   "cell_type": "code",
   "execution_count": 18,
   "id": "65c4cb7b",
   "metadata": {
    "execution": {
     "iopub.execute_input": "2023-10-30T15:47:10.083021Z",
     "iopub.status.busy": "2023-10-30T15:47:10.082023Z",
     "iopub.status.idle": "2023-10-30T15:47:10.646942Z",
     "shell.execute_reply": "2023-10-30T15:47:10.645825Z"
    },
    "papermill": {
     "duration": 0.58048,
     "end_time": "2023-10-30T15:47:10.649761",
     "exception": false,
     "start_time": "2023-10-30T15:47:10.069281",
     "status": "completed"
    },
    "tags": []
   },
   "outputs": [],
   "source": [
    "classifier = EyeClassifier(pretrained=True).to(device)\n",
    "loss_fn = nn.BCELoss().to(device)\n",
    "optimizer = optim.Adam(classifier.parameters(), lr=1e-4, weight_decay=1e-4)\n",
    "scheduler = optim.lr_scheduler.StepLR(optimizer, step_size=3,\n",
    "                                      gamma=0.25)\n",
    "best_recall_score = 0\n",
    "n_epochs = 15\n",
    "xticks = list(i+1 for i in range(n_epochs))"
   ]
  },
  {
   "cell_type": "code",
   "execution_count": 19,
   "id": "52e3d544",
   "metadata": {
    "execution": {
     "iopub.execute_input": "2023-10-30T15:47:10.674832Z",
     "iopub.status.busy": "2023-10-30T15:47:10.674423Z",
     "iopub.status.idle": "2023-10-30T17:55:52.718212Z",
     "shell.execute_reply": "2023-10-30T17:55:52.717055Z"
    },
    "papermill": {
     "duration": 7722.059378,
     "end_time": "2023-10-30T17:55:52.720658",
     "exception": false,
     "start_time": "2023-10-30T15:47:10.661280",
     "status": "completed"
    },
    "tags": []
   },
   "outputs": [
    {
     "data": {
      "application/vnd.jupyter.widget-view+json": {
       "model_id": "41771aa2c306487e88eaab6563833da9",
       "version_major": 2,
       "version_minor": 0
      },
      "text/plain": [
       "Training:   0%|          | 0/15 [00:00<?, ?it/s]"
      ]
     },
     "metadata": {},
     "output_type": "display_data"
    },
    {
     "name": "stdout",
     "output_type": "stream",
     "text": [
      "epoch: 1 \ttrain loss: 0.674 \ttrain recall score: 0.617 \tvalid loss: 0.440 \tvalid recall score: 0.899\n",
      "epoch: 2 \ttrain loss: 0.417 \ttrain recall score: 0.834 \tvalid loss: 0.625 \tvalid recall score: 0.857\n",
      "epoch: 3 \ttrain loss: 0.215 \ttrain recall score: 0.972 \tvalid loss: 0.633 \tvalid recall score: 0.860\n",
      "epoch: 4 \ttrain loss: 0.135 \ttrain recall score: 0.984 \tvalid loss: 0.426 \tvalid recall score: 0.945\n",
      "epoch: 5 \ttrain loss: 0.097 \ttrain recall score: 0.994 \tvalid loss: 0.638 \tvalid recall score: 0.949\n",
      "epoch: 6 \ttrain loss: 0.075 \ttrain recall score: 0.998 \tvalid loss: 0.369 \tvalid recall score: 0.970\n",
      "epoch: 7 \ttrain loss: 0.066 \ttrain recall score: 0.997 \tvalid loss: 0.409 \tvalid recall score: 0.955\n",
      "epoch: 8 \ttrain loss: 0.050 \ttrain recall score: 0.998 \tvalid loss: 0.383 \tvalid recall score: 0.967\n",
      "epoch: 9 \ttrain loss: 0.056 \ttrain recall score: 0.999 \tvalid loss: 0.636 \tvalid recall score: 0.955\n",
      "epoch: 10 \ttrain loss: 0.051 \ttrain recall score: 0.998 \tvalid loss: 0.647 \tvalid recall score: 0.952\n",
      "epoch: 11 \ttrain loss: 0.053 \ttrain recall score: 0.998 \tvalid loss: 0.633 \tvalid recall score: 0.961\n",
      "epoch: 12 \ttrain loss: 0.051 \ttrain recall score: 0.998 \tvalid loss: 0.619 \tvalid recall score: 0.961\n",
      "epoch: 13 \ttrain loss: 0.049 \ttrain recall score: 0.999 \tvalid loss: 0.640 \tvalid recall score: 0.955\n",
      "epoch: 14 \ttrain loss: 0.052 \ttrain recall score: 0.999 \tvalid loss: 0.646 \tvalid recall score: 0.952\n",
      "epoch: 15 \ttrain loss: 0.052 \ttrain recall score: 1.000 \tvalid loss: 0.642 \tvalid recall score: 0.952\n"
     ]
    }
   ],
   "source": [
    "mem = {\n",
    "    'train_loss': [],\n",
    "    'train_recall_score': [],\n",
    "    'valid_loss': [],\n",
    "    'valid_recall_score': []\n",
    "}\n",
    "\n",
    "for epoch in tqdm(range(n_epochs), desc='Training'):\n",
    "    n_batch = len(train_dl)\n",
    "    train_losses, train_recall_scores = [], []\n",
    "    for i, data in enumerate(train_dl):\n",
    "        train_loss, train_recall_score = train(data, classifier,\n",
    "                                         optimizer, loss_fn)\n",
    "        train_losses.append(train_loss)\n",
    "        train_recall_scores.append(train_recall_score)\n",
    "        pos = epoch + ((i+1)/n_batch)\n",
    "        print(\n",
    "            'epoch:', \"%.3f\" % pos,\n",
    "            '\\ttrain loss:', \"%.3f\" % train_loss,\n",
    "            '\\ttrain recall score:', \"%.3f\" % train_recall_score, \n",
    "            end='\\r'\n",
    "        )\n",
    "        \n",
    "    mem['train_loss'].append(np.mean(train_losses))\n",
    "    mem['train_recall_score'].append(np.mean(train_recall_scores))\n",
    "    \n",
    "    n_batch = len(valid_dl)\n",
    "    valid_losses, valid_recall_scores = [], []\n",
    "    for i, data in enumerate(valid_dl):\n",
    "        valid_loss, valid_recall_score = validate(data, classifier, loss_fn)\n",
    "        valid_losses.append(valid_loss)\n",
    "        valid_recall_scores.append(valid_recall_score)\n",
    "        pos = epoch + ((i+1)/n_batch)\n",
    "        print(\n",
    "            'epoch:', \"%.3f\" % pos,\n",
    "            '\\tvalid loss:', \"%.3f\" % valid_loss,\n",
    "            '\\tvalid recall score:', \"%.3f\" % valid_recall_score, \n",
    "            end='\\r'\n",
    "        )\n",
    "    \n",
    "    cur_recall_score = np.mean(valid_recall_scores)\n",
    "    mem['valid_loss'].append(np.mean(valid_losses))\n",
    "    mem['valid_recall_score'].append(cur_recall_score)\n",
    "    \n",
    "    print(\n",
    "        'epoch:', epoch+1,\n",
    "        '\\ttrain loss:', \"%.3f\" % mem['train_loss'][-1],\n",
    "        '\\ttrain recall score:', \"%.3f\" % mem['train_recall_score'][-1],\n",
    "        '\\tvalid loss:', \"%.3f\" % mem['valid_loss'][-1],\n",
    "        '\\tvalid recall score:', \"%.3f\" % mem['valid_recall_score'][-1],\n",
    "    )\n",
    "    \n",
    "    if best_recall_score < cur_recall_score:\n",
    "        best_recall_score = cur_recall_score\n",
    "        torch.save(classifier.state_dict(), './saved_model/amd_state_dict.pth')\n",
    "        torch.save(classifier, './saved_model/amd_model.pth')\n",
    "        \n",
    "    scheduler.step()"
   ]
  },
  {
   "cell_type": "code",
   "execution_count": 20,
   "id": "c5305092",
   "metadata": {
    "execution": {
     "iopub.execute_input": "2023-10-30T17:55:52.821723Z",
     "iopub.status.busy": "2023-10-30T17:55:52.820871Z",
     "iopub.status.idle": "2023-10-30T17:55:53.287995Z",
     "shell.execute_reply": "2023-10-30T17:55:53.286706Z"
    },
    "papermill": {
     "duration": 0.520721,
     "end_time": "2023-10-30T17:55:53.290354",
     "exception": false,
     "start_time": "2023-10-30T17:55:52.769633",
     "status": "completed"
    },
    "tags": []
   },
   "outputs": [
    {
     "data": {
      "image/png": "[encoded data removed]",
      "text/plain": [
       "<Figure size 640x480 with 1 Axes>"
      ]
     },
     "metadata": {},
     "output_type": "display_data"
    }
   ],
   "source": [
    "plt.plot(xticks, mem['train_loss'])\n",
    "plt.plot(xticks, mem['valid_loss'])\n",
    "plt.legend(['train', 'valid'])\n",
    "plt.xlabel('epoch')\n",
    "plt.title('loss')\n",
    "plt.show()"
   ]
  },
  {
   "cell_type": "code",
   "execution_count": 21,
   "id": "71828fea",
   "metadata": {
    "execution": {
     "iopub.execute_input": "2023-10-30T17:55:53.390256Z",
     "iopub.status.busy": "2023-10-30T17:55:53.389779Z",
     "iopub.status.idle": "2023-10-30T17:55:53.836539Z",
     "shell.execute_reply": "2023-10-30T17:55:53.835425Z"
    },
    "papermill": {
     "duration": 0.499722,
     "end_time": "2023-10-30T17:55:53.839036",
     "exception": false,
     "start_time": "2023-10-30T17:55:53.339314",
     "status": "completed"
    },
    "tags": []
   },
   "outputs": [
    {
     "data": {
      "image/png": "[encoded data removed]",
      "text/plain": [
       "<Figure size 640x480 with 1 Axes>"
      ]
     },
     "metadata": {},
     "output_type": "display_data"
    }
   ],
   "source": [
    "plt.plot(xticks, mem['train_recall_score'])\n",
    "plt.plot(xticks, mem['valid_recall_score'])\n",
    "plt.legend(['train', 'valid'])\n",
    "plt.xlabel('epoch')\n",
    "plt.title('recall score')\n",
    "plt.show()"
   ]
  },
  {
   "cell_type": "code",
   "execution_count": null,
   "id": "4bda2d80",
   "metadata": {
    "papermill": {
     "duration": 0.049907,
     "end_time": "2023-10-30T17:55:53.938835",
     "exception": false,
     "start_time": "2023-10-30T17:55:53.888928",
     "status": "completed"
    },
    "tags": []
   },
   "outputs": [],
   "source": []
  }
 ],
 "metadata": {
  "kernelspec": {
   "display_name": "Python 3",
   "language": "python",
   "name": "python3"
  },
  "language_info": {
   "codemirror_mode": {
    "name": "ipython",
    "version": 3
   },
   "file_extension": ".py",
   "mimetype": "text/x-python",
   "name": "python",
   "nbconvert_exporter": "python",
   "pygments_lexer": "ipython3",
   "version": "3.10.12"
  },
  "papermill": {
   "default_parameters": {},
   "duration": 7754.733251,
   "end_time": "2023-10-30T17:55:55.433850",
   "environment_variables": {},
   "exception": null,
   "input_path": "__notebook__.ipynb",
   "output_path": "__notebook__.ipynb",
   "parameters": {},
   "start_time": "2023-10-30T15:46:40.700599",
   "version": "2.4.0"
  },
  "widgets": {
   "application/vnd.jupyter.widget-state+json": {
    "state": {
     "411fb09427094388b90758225fbe68f7": {
      "model_module": "@jupyter-widgets/controls",
      "model_module_version": "1.5.0",
      "model_name": "HTMLModel",
      "state": {
       "_dom_classes": [],
       "_model_module": "@jupyter-widgets/controls",
       "_model_module_version": "1.5.0",
       "_model_name": "HTMLModel",
       "_view_count": null,
       "_view_module": "@jupyter-widgets/controls",
       "_view_module_version": "1.5.0",
       "_view_name": "HTMLView",
       "description": "",
       "description_tooltip": null,
       "layout": "IPY_MODEL_4cd129b0160a4aec89de1dd81beeb68c",
       "placeholder": "​",
       "style": "IPY_MODEL_88aa0f4ecd3542cb9f2467dda37a4123",
       "value": " 15/15 [2:08:42&lt;00:00, 515.08s/it]"
      }
     },
     "41771aa2c306487e88eaab6563833da9": {
      "model_module": "@jupyter-widgets/controls",
      "model_module_version": "1.5.0",
      "model_name": "HBoxModel",
      "state": {
       "_dom_classes": [],
       "_model_module": "@jupyter-widgets/controls",
       "_model_module_version": "1.5.0",
       "_model_name": "HBoxModel",
       "_view_count": null,
       "_view_module": "@jupyter-widgets/controls",
       "_view_module_version": "1.5.0",
       "_view_name": "HBoxView",
       "box_style": "",
       "children": [
        "IPY_MODEL_fcd4b581578442d0b8a89a4d1cea816b",
        "IPY_MODEL_6609e4d51473491da8f9de4f3175e92f",
        "IPY_MODEL_411fb09427094388b90758225fbe68f7"
       ],
       "layout": "IPY_MODEL_7de1817e35e54e71ae110376b7f11f82"
      }
     },
     "4cd129b0160a4aec89de1dd81beeb68c": {
      "model_module": "@jupyter-widgets/base",
      "model_module_version": "1.2.0",
      "model_name": "LayoutModel",
      "state": {
       "_model_module": "@jupyter-widgets/base",
       "_model_module_version": "1.2.0",
       "_model_name": "LayoutModel",
       "_view_count": null,
       "_view_module": "@jupyter-widgets/base",
       "_view_module_version": "1.2.0",
       "_view_name": "LayoutView",
       "align_content": null,
       "align_items": null,
       "align_self": null,
       "border": null,
       "bottom": null,
       "display": null,
       "flex": null,
       "flex_flow": null,
       "grid_area": null,
       "grid_auto_columns": null,
       "grid_auto_flow": null,
       "grid_auto_rows": null,
       "grid_column": null,
       "grid_gap": null,
       "grid_row": null,
       "grid_template_areas": null,
       "grid_template_columns": null,
       "grid_template_rows": null,
       "height": null,
       "justify_content": null,
       "justify_items": null,
       "left": null,
       "margin": null,
       "max_height": null,
       "max_width": null,
       "min_height": null,
       "min_width": null,
       "object_fit": null,
       "object_position": null,
       "order": null,
       "overflow": null,
       "overflow_x": null,
       "overflow_y": null,
       "padding": null,
       "right": null,
       "top": null,
       "visibility": null,
       "width": null
      }
     },
     "5a339f37fae5402c8a111a6271af6400": {
      "model_module": "@jupyter-widgets/base",
      "model_module_version": "1.2.0",
      "model_name": "LayoutModel",
      "state": {
       "_model_module": "@jupyter-widgets/base",
       "_model_module_version": "1.2.0",
       "_model_name": "LayoutModel",
       "_view_count": null,
       "_view_module": "@jupyter-widgets/base",
       "_view_module_version": "1.2.0",
       "_view_name": "LayoutView",
       "align_content": null,
       "align_items": null,
       "align_self": null,
       "border": null,
       "bottom": null,
       "display": null,
       "flex": null,
       "flex_flow": null,
       "grid_area": null,
       "grid_auto_columns": null,
       "grid_auto_flow": null,
       "grid_auto_rows": null,
       "grid_column": null,
       "grid_gap": null,
       "grid_row": null,
       "grid_template_areas": null,
       "grid_template_columns": null,
       "grid_template_rows": null,
       "height": null,
       "justify_content": null,
       "justify_items": null,
       "left": null,
       "margin": null,
       "max_height": null,
       "max_width": null,
       "min_height": null,
       "min_width": null,
       "object_fit": null,
       "object_position": null,
       "order": null,
       "overflow": null,
       "overflow_x": null,
       "overflow_y": null,
       "padding": null,
       "right": null,
       "top": null,
       "visibility": null,
       "width": null
      }
     },
     "6609e4d51473491da8f9de4f3175e92f": {
      "model_module": "@jupyter-widgets/controls",
      "model_module_version": "1.5.0",
      "model_name": "FloatProgressModel",
      "state": {
       "_dom_classes": [],
       "_model_module": "@jupyter-widgets/controls",
       "_model_module_version": "1.5.0",
       "_model_name": "FloatProgressModel",
       "_view_count": null,
       "_view_module": "@jupyter-widgets/controls",
       "_view_module_version": "1.5.0",
       "_view_name": "ProgressView",
       "bar_style": "success",
       "description": "",
       "description_tooltip": null,
       "layout": "IPY_MODEL_7c83980d219548cb8a9b718478d7eb8a",
       "max": 15.0,
       "min": 0.0,
       "orientation": "horizontal",
       "style": "IPY_MODEL_b558029985464abe9f0add38106d87f5",
       "value": 15.0
      }
     },
     "7c83980d219548cb8a9b718478d7eb8a": {
      "model_module": "@jupyter-widgets/base",
      "model_module_version": "1.2.0",
      "model_name": "LayoutModel",
      "state": {
       "_model_module": "@jupyter-widgets/base",
       "_model_module_version": "1.2.0",
       "_model_name": "LayoutModel",
       "_view_count": null,
       "_view_module": "@jupyter-widgets/base",
       "_view_module_version": "1.2.0",
       "_view_name": "LayoutView",
       "align_content": null,
       "align_items": null,
       "align_self": null,
       "border": null,
       "bottom": null,
       "display": null,
       "flex": null,
       "flex_flow": null,
       "grid_area": null,
       "grid_auto_columns": null,
       "grid_auto_flow": null,
       "grid_auto_rows": null,
       "grid_column": null,
       "grid_gap": null,
       "grid_row": null,
       "grid_template_areas": null,
       "grid_template_columns": null,
       "grid_template_rows": null,
       "height": null,
       "justify_content": null,
       "justify_items": null,
       "left": null,
       "margin": null,
       "max_height": null,
       "max_width": null,
       "min_height": null,
       "min_width": null,
       "object_fit": null,
       "object_position": null,
       "order": null,
       "overflow": null,
       "overflow_x": null,
       "overflow_y": null,
       "padding": null,
       "right": null,
       "top": null,
       "visibility": null,
       "width": null
      }
     },
     "7de1817e35e54e71ae110376b7f11f82": {
      "model_module": "@jupyter-widgets/base",
      "model_module_version": "1.2.0",
      "model_name": "LayoutModel",
      "state": {
       "_model_module": "@jupyter-widgets/base",
       "_model_module_version": "1.2.0",
       "_model_name": "LayoutModel",
       "_view_count": null,
       "_view_module": "@jupyter-widgets/base",
       "_view_module_version": "1.2.0",
       "_view_name": "LayoutView",
       "align_content": null,
       "align_items": null,
       "align_self": null,
       "border": null,
       "bottom": null,
       "display": null,
       "flex": null,
       "flex_flow": null,
       "grid_area": null,
       "grid_auto_columns": null,
       "grid_auto_flow": null,
       "grid_auto_rows": null,
       "grid_column": null,
       "grid_gap": null,
       "grid_row": null,
       "grid_template_areas": null,
       "grid_template_columns": null,
       "grid_template_rows": null,
       "height": null,
       "justify_content": null,
       "justify_items": null,
       "left": null,
       "margin": null,
       "max_height": null,
       "max_width": null,
       "min_height": null,
       "min_width": null,
       "object_fit": null,
       "object_position": null,
       "order": null,
       "overflow": null,
       "overflow_x": null,
       "overflow_y": null,
       "padding": null,
       "right": null,
       "top": null,
       "visibility": null,
       "width": null
      }
     },
     "88aa0f4ecd3542cb9f2467dda37a4123": {
      "model_module": "@jupyter-widgets/controls",
      "model_module_version": "1.5.0",
      "model_name": "DescriptionStyleModel",
      "state": {
       "_model_module": "@jupyter-widgets/controls",
       "_model_module_version": "1.5.0",
       "_model_name": "DescriptionStyleModel",
       "_view_count": null,
       "_view_module": "@jupyter-widgets/base",
       "_view_module_version": "1.2.0",
       "_view_name": "StyleView",
       "description_width": ""
      }
     },
     "b558029985464abe9f0add38106d87f5": {
      "model_module": "@jupyter-widgets/controls",
      "model_module_version": "1.5.0",
      "model_name": "ProgressStyleModel",
      "state": {
       "_model_module": "@jupyter-widgets/controls",
       "_model_module_version": "1.5.0",
       "_model_name": "ProgressStyleModel",
       "_view_count": null,
       "_view_module": "@jupyter-widgets/base",
       "_view_module_version": "1.2.0",
       "_view_name": "StyleView",
       "bar_color": null,
       "description_width": ""
      }
     },
     "eeea3316a34947fe88312ffed6f08707": {
      "model_module": "@jupyter-widgets/controls",
      "model_module_version": "1.5.0",
      "model_name": "DescriptionStyleModel",
      "state": {
       "_model_module": "@jupyter-widgets/controls",
       "_model_module_version": "1.5.0",
       "_model_name": "DescriptionStyleModel",
       "_view_count": null,
       "_view_module": "@jupyter-widgets/base",
       "_view_module_version": "1.2.0",
       "_view_name": "StyleView",
       "description_width": ""
      }
     },
     "fcd4b581578442d0b8a89a4d1cea816b": {
      "model_module": "@jupyter-widgets/controls",
      "model_module_version": "1.5.0",
      "model_name": "HTMLModel",
      "state": {
       "_dom_classes": [],
       "_model_module": "@jupyter-widgets/controls",
       "_model_module_version": "1.5.0",
       "_model_name": "HTMLModel",
       "_view_count": null,
       "_view_module": "@jupyter-widgets/controls",
       "_view_module_version": "1.5.0",
       "_view_name": "HTMLView",
       "description": "",
       "description_tooltip": null,
       "layout": "IPY_MODEL_5a339f37fae5402c8a111a6271af6400",
       "placeholder": "​",
       "style": "IPY_MODEL_eeea3316a34947fe88312ffed6f08707",
       "value": "Training: 100%"
      }
     }
    },
    "version_major": 2,
    "version_minor": 0
   }
  }
 },
 "nbformat": 4,
 "nbformat_minor": 5
}
