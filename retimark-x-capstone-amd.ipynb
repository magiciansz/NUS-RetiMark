{
 "cells": [
  {
   "cell_type": "markdown",
   "id": "618fce07",
   "metadata": {
    "papermill": {
     "duration": 0.008115,
     "end_time": "2023-11-05T10:10:06.349343",
     "exception": false,
     "start_time": "2023-11-05T10:10:06.341228",
     "status": "completed"
    },
    "tags": []
   },
   "source": [
    "# Install Dependencies"
   ]
  },
  {
   "cell_type": "code",
   "execution_count": 1,
   "id": "7065ac3e",
   "metadata": {
    "_cell_guid": "b1076dfc-b9ad-4769-8c92-a6c4dae69d19",
    "_uuid": "8f2839f25d086af736a60e9eeb907d3b93b6e0e5",
    "execution": {
     "iopub.execute_input": "2023-11-05T10:10:06.366865Z",
     "iopub.status.busy": "2023-11-05T10:10:06.366451Z",
     "iopub.status.idle": "2023-11-05T10:10:19.633649Z",
     "shell.execute_reply": "2023-11-05T10:10:19.632147Z"
    },
    "papermill": {
     "duration": 13.280108,
     "end_time": "2023-11-05T10:10:19.637252",
     "exception": false,
     "start_time": "2023-11-05T10:10:06.357144",
     "status": "completed"
    },
    "tags": []
   },
   "outputs": [
    {
     "name": "stdout",
     "output_type": "stream",
     "text": [
      "Collecting torch_summary\r\n",
      "  Downloading torch_summary-1.4.5-py3-none-any.whl (16 kB)\r\n",
      "Installing collected packages: torch_summary\r\n",
      "Successfully installed torch_summary-1.4.5\r\n"
     ]
    }
   ],
   "source": [
    "!pip install torch_summary"
   ]
  },
  {
   "cell_type": "markdown",
   "id": "3cf6e727",
   "metadata": {
    "papermill": {
     "duration": 0.008617,
     "end_time": "2023-11-05T10:10:19.654729",
     "exception": false,
     "start_time": "2023-11-05T10:10:19.646112",
     "status": "completed"
    },
    "tags": []
   },
   "source": [
    "# Import Libraries"
   ]
  },
  {
   "cell_type": "code",
   "execution_count": 2,
   "id": "51f34192",
   "metadata": {
    "execution": {
     "iopub.execute_input": "2023-11-05T10:10:19.675394Z",
     "iopub.status.busy": "2023-11-05T10:10:19.674211Z",
     "iopub.status.idle": "2023-11-05T10:10:25.673134Z",
     "shell.execute_reply": "2023-11-05T10:10:25.671949Z"
    },
    "papermill": {
     "duration": 6.012755,
     "end_time": "2023-11-05T10:10:25.676197",
     "exception": false,
     "start_time": "2023-11-05T10:10:19.663442",
     "status": "completed"
    },
    "tags": []
   },
   "outputs": [],
   "source": [
    "import torch\n",
    "import torch.nn.functional as F\n",
    "from torch import nn, optim\n",
    "from torchvision import transforms as T, models\n",
    "from torch.utils.data import DataLoader, Dataset\n",
    "from torchsummary import summary\n",
    "from tqdm.notebook import tqdm \n",
    "\n",
    "from sklearn.metrics import classification_report, recall_score, accuracy_score, f1_score, precision_score, roc_curve, auc\n",
    "from sklearn.model_selection import train_test_split\n",
    "import seaborn as sns\n",
    "from PIL import Image\n",
    "import matplotlib.pyplot as plt\n",
    "from random import shuffle, randint, choice\n",
    "import numpy as np\n",
    "import cv2 as cv\n",
    "from glob import glob\n",
    "import pandas as pd"
   ]
  },
  {
   "cell_type": "code",
   "execution_count": 3,
   "id": "de4c5740",
   "metadata": {
    "execution": {
     "iopub.execute_input": "2023-11-05T10:10:25.696343Z",
     "iopub.status.busy": "2023-11-05T10:10:25.695779Z",
     "iopub.status.idle": "2023-11-05T10:10:26.726161Z",
     "shell.execute_reply": "2023-11-05T10:10:26.723932Z"
    },
    "papermill": {
     "duration": 1.043448,
     "end_time": "2023-11-05T10:10:26.729168",
     "exception": false,
     "start_time": "2023-11-05T10:10:25.685720",
     "status": "completed"
    },
    "tags": []
   },
   "outputs": [],
   "source": [
    "!mkdir saved_model\n",
    "sns.set_theme()\n",
    "device = 'cuda' if torch.cuda.is_available() else 'cpu'"
   ]
  },
  {
   "cell_type": "markdown",
   "id": "55680395",
   "metadata": {
    "papermill": {
     "duration": 0.007799,
     "end_time": "2023-11-05T10:10:26.745289",
     "exception": false,
     "start_time": "2023-11-05T10:10:26.737490",
     "status": "completed"
    },
    "tags": []
   },
   "source": [
    "# Dataset"
   ]
  },
  {
   "cell_type": "code",
   "execution_count": 4,
   "id": "28e9d8df",
   "metadata": {
    "execution": {
     "iopub.execute_input": "2023-11-05T10:10:26.765337Z",
     "iopub.status.busy": "2023-11-05T10:10:26.764029Z",
     "iopub.status.idle": "2023-11-05T10:10:26.890320Z",
     "shell.execute_reply": "2023-11-05T10:10:26.889030Z"
    },
    "papermill": {
     "duration": 0.138405,
     "end_time": "2023-11-05T10:10:26.892571",
     "exception": false,
     "start_time": "2023-11-05T10:10:26.754166",
     "status": "completed"
    },
    "tags": []
   },
   "outputs": [
    {
     "data": {
      "text/html": [
       "<div>\n",
       "<style scoped>\n",
       "    .dataframe tbody tr th:only-of-type {\n",
       "        vertical-align: middle;\n",
       "    }\n",
       "\n",
       "    .dataframe tbody tr th {\n",
       "        vertical-align: top;\n",
       "    }\n",
       "\n",
       "    .dataframe thead th {\n",
       "        text-align: right;\n",
       "    }\n",
       "</style>\n",
       "<table border=\"1\" class=\"dataframe\">\n",
       "  <thead>\n",
       "    <tr style=\"text-align: right;\">\n",
       "      <th></th>\n",
       "      <th>Patient Age</th>\n",
       "      <th>Patient Sex</th>\n",
       "      <th>Left-Fundus</th>\n",
       "      <th>Right-Fundus</th>\n",
       "      <th>Left-Diagnostic Keywords</th>\n",
       "      <th>Right-Diagnostic Keywords</th>\n",
       "      <th>N</th>\n",
       "      <th>D</th>\n",
       "      <th>G</th>\n",
       "      <th>C</th>\n",
       "      <th>A</th>\n",
       "      <th>H</th>\n",
       "      <th>M</th>\n",
       "      <th>O</th>\n",
       "      <th>filepath</th>\n",
       "      <th>labels</th>\n",
       "      <th>target</th>\n",
       "      <th>filename</th>\n",
       "    </tr>\n",
       "    <tr>\n",
       "      <th>ID</th>\n",
       "      <th></th>\n",
       "      <th></th>\n",
       "      <th></th>\n",
       "      <th></th>\n",
       "      <th></th>\n",
       "      <th></th>\n",
       "      <th></th>\n",
       "      <th></th>\n",
       "      <th></th>\n",
       "      <th></th>\n",
       "      <th></th>\n",
       "      <th></th>\n",
       "      <th></th>\n",
       "      <th></th>\n",
       "      <th></th>\n",
       "      <th></th>\n",
       "      <th></th>\n",
       "      <th></th>\n",
       "    </tr>\n",
       "  </thead>\n",
       "  <tbody>\n",
       "    <tr>\n",
       "      <th>0</th>\n",
       "      <td>69</td>\n",
       "      <td>Female</td>\n",
       "      <td>0_left.jpg</td>\n",
       "      <td>0_right.jpg</td>\n",
       "      <td>cataract</td>\n",
       "      <td>normal fundus</td>\n",
       "      <td>0</td>\n",
       "      <td>0</td>\n",
       "      <td>0</td>\n",
       "      <td>1</td>\n",
       "      <td>0</td>\n",
       "      <td>0</td>\n",
       "      <td>0</td>\n",
       "      <td>0</td>\n",
       "      <td>../input/ocular-disease-recognition-odir5k/ODI...</td>\n",
       "      <td>['N']</td>\n",
       "      <td>[1, 0, 0, 0, 0, 0, 0, 0]</td>\n",
       "      <td>0_right.jpg</td>\n",
       "    </tr>\n",
       "    <tr>\n",
       "      <th>1</th>\n",
       "      <td>57</td>\n",
       "      <td>Male</td>\n",
       "      <td>1_left.jpg</td>\n",
       "      <td>1_right.jpg</td>\n",
       "      <td>normal fundus</td>\n",
       "      <td>normal fundus</td>\n",
       "      <td>1</td>\n",
       "      <td>0</td>\n",
       "      <td>0</td>\n",
       "      <td>0</td>\n",
       "      <td>0</td>\n",
       "      <td>0</td>\n",
       "      <td>0</td>\n",
       "      <td>0</td>\n",
       "      <td>../input/ocular-disease-recognition-odir5k/ODI...</td>\n",
       "      <td>['N']</td>\n",
       "      <td>[1, 0, 0, 0, 0, 0, 0, 0]</td>\n",
       "      <td>1_right.jpg</td>\n",
       "    </tr>\n",
       "    <tr>\n",
       "      <th>2</th>\n",
       "      <td>42</td>\n",
       "      <td>Male</td>\n",
       "      <td>2_left.jpg</td>\n",
       "      <td>2_right.jpg</td>\n",
       "      <td>laser spot，moderate non proliferative retinopathy</td>\n",
       "      <td>moderate non proliferative retinopathy</td>\n",
       "      <td>0</td>\n",
       "      <td>1</td>\n",
       "      <td>0</td>\n",
       "      <td>0</td>\n",
       "      <td>0</td>\n",
       "      <td>0</td>\n",
       "      <td>0</td>\n",
       "      <td>1</td>\n",
       "      <td>../input/ocular-disease-recognition-odir5k/ODI...</td>\n",
       "      <td>['D']</td>\n",
       "      <td>[0, 1, 0, 0, 0, 0, 0, 0]</td>\n",
       "      <td>2_right.jpg</td>\n",
       "    </tr>\n",
       "    <tr>\n",
       "      <th>4</th>\n",
       "      <td>53</td>\n",
       "      <td>Male</td>\n",
       "      <td>4_left.jpg</td>\n",
       "      <td>4_right.jpg</td>\n",
       "      <td>macular epiretinal membrane</td>\n",
       "      <td>mild nonproliferative retinopathy</td>\n",
       "      <td>0</td>\n",
       "      <td>1</td>\n",
       "      <td>0</td>\n",
       "      <td>0</td>\n",
       "      <td>0</td>\n",
       "      <td>0</td>\n",
       "      <td>0</td>\n",
       "      <td>1</td>\n",
       "      <td>../input/ocular-disease-recognition-odir5k/ODI...</td>\n",
       "      <td>['D']</td>\n",
       "      <td>[0, 1, 0, 0, 0, 0, 0, 0]</td>\n",
       "      <td>4_right.jpg</td>\n",
       "    </tr>\n",
       "    <tr>\n",
       "      <th>5</th>\n",
       "      <td>50</td>\n",
       "      <td>Female</td>\n",
       "      <td>5_left.jpg</td>\n",
       "      <td>5_right.jpg</td>\n",
       "      <td>moderate non proliferative retinopathy</td>\n",
       "      <td>moderate non proliferative retinopathy</td>\n",
       "      <td>0</td>\n",
       "      <td>1</td>\n",
       "      <td>0</td>\n",
       "      <td>0</td>\n",
       "      <td>0</td>\n",
       "      <td>0</td>\n",
       "      <td>0</td>\n",
       "      <td>0</td>\n",
       "      <td>../input/ocular-disease-recognition-odir5k/ODI...</td>\n",
       "      <td>['D']</td>\n",
       "      <td>[0, 1, 0, 0, 0, 0, 0, 0]</td>\n",
       "      <td>5_right.jpg</td>\n",
       "    </tr>\n",
       "  </tbody>\n",
       "</table>\n",
       "</div>"
      ],
      "text/plain": [
       "    Patient Age Patient Sex Left-Fundus Right-Fundus  \\\n",
       "ID                                                     \n",
       "0            69      Female  0_left.jpg  0_right.jpg   \n",
       "1            57        Male  1_left.jpg  1_right.jpg   \n",
       "2            42        Male  2_left.jpg  2_right.jpg   \n",
       "4            53        Male  4_left.jpg  4_right.jpg   \n",
       "5            50      Female  5_left.jpg  5_right.jpg   \n",
       "\n",
       "                             Left-Diagnostic Keywords  \\\n",
       "ID                                                      \n",
       "0                                            cataract   \n",
       "1                                       normal fundus   \n",
       "2   laser spot，moderate non proliferative retinopathy   \n",
       "4                         macular epiretinal membrane   \n",
       "5              moderate non proliferative retinopathy   \n",
       "\n",
       "                 Right-Diagnostic Keywords  N  D  G  C  A  H  M  O  \\\n",
       "ID                                                                   \n",
       "0                            normal fundus  0  0  0  1  0  0  0  0   \n",
       "1                            normal fundus  1  0  0  0  0  0  0  0   \n",
       "2   moderate non proliferative retinopathy  0  1  0  0  0  0  0  1   \n",
       "4        mild nonproliferative retinopathy  0  1  0  0  0  0  0  1   \n",
       "5   moderate non proliferative retinopathy  0  1  0  0  0  0  0  0   \n",
       "\n",
       "                                             filepath labels  \\\n",
       "ID                                                             \n",
       "0   ../input/ocular-disease-recognition-odir5k/ODI...  ['N']   \n",
       "1   ../input/ocular-disease-recognition-odir5k/ODI...  ['N']   \n",
       "2   ../input/ocular-disease-recognition-odir5k/ODI...  ['D']   \n",
       "4   ../input/ocular-disease-recognition-odir5k/ODI...  ['D']   \n",
       "5   ../input/ocular-disease-recognition-odir5k/ODI...  ['D']   \n",
       "\n",
       "                      target     filename  \n",
       "ID                                         \n",
       "0   [1, 0, 0, 0, 0, 0, 0, 0]  0_right.jpg  \n",
       "1   [1, 0, 0, 0, 0, 0, 0, 0]  1_right.jpg  \n",
       "2   [0, 1, 0, 0, 0, 0, 0, 0]  2_right.jpg  \n",
       "4   [0, 1, 0, 0, 0, 0, 0, 0]  4_right.jpg  \n",
       "5   [0, 1, 0, 0, 0, 0, 0, 0]  5_right.jpg  "
      ]
     },
     "execution_count": 4,
     "metadata": {},
     "output_type": "execute_result"
    }
   ],
   "source": [
    "DIR = '../input/ocular-disease-recognition-odir5k'\n",
    "\n",
    "full_df = pd.read_csv(f'{DIR}/full_df.csv', index_col=0)\n",
    "\n",
    "full_df.head()"
   ]
  },
  {
   "cell_type": "markdown",
   "id": "43d2c020",
   "metadata": {
    "papermill": {
     "duration": 0.008018,
     "end_time": "2023-11-05T10:10:26.909034",
     "exception": false,
     "start_time": "2023-11-05T10:10:26.901016",
     "status": "completed"
    },
    "tags": []
   },
   "source": [
    "# Data Preprocessing"
   ]
  },
  {
   "cell_type": "code",
   "execution_count": 5,
   "id": "d57c3b56",
   "metadata": {
    "execution": {
     "iopub.execute_input": "2023-11-05T10:10:26.927907Z",
     "iopub.status.busy": "2023-11-05T10:10:26.927429Z",
     "iopub.status.idle": "2023-11-05T10:10:26.946369Z",
     "shell.execute_reply": "2023-11-05T10:10:26.945140Z"
    },
    "papermill": {
     "duration": 0.031743,
     "end_time": "2023-11-05T10:10:26.948949",
     "exception": false,
     "start_time": "2023-11-05T10:10:26.917206",
     "status": "completed"
    },
    "tags": []
   },
   "outputs": [],
   "source": [
    "full_df['side'] = full_df['filename'].str[:-4].str.replace(r'\\d+_', '', regex=True)"
   ]
  },
  {
   "cell_type": "code",
   "execution_count": 6,
   "id": "5ff81751",
   "metadata": {
    "execution": {
     "iopub.execute_input": "2023-11-05T10:10:26.968650Z",
     "iopub.status.busy": "2023-11-05T10:10:26.968163Z",
     "iopub.status.idle": "2023-11-05T10:10:26.981703Z",
     "shell.execute_reply": "2023-11-05T10:10:26.980345Z"
    },
    "papermill": {
     "duration": 0.026555,
     "end_time": "2023-11-05T10:10:26.984199",
     "exception": false,
     "start_time": "2023-11-05T10:10:26.957644",
     "status": "completed"
    },
    "tags": []
   },
   "outputs": [],
   "source": [
    "image_dir = '../input/ocular-disease-recognition-odir5k/ODIR-5K/'\n",
    "full_df['filepath'] = full_df['filepath'].str.replace(image_dir, image_dir + 'ODIR-5K/')"
   ]
  },
  {
   "cell_type": "code",
   "execution_count": 7,
   "id": "666f215f",
   "metadata": {
    "execution": {
     "iopub.execute_input": "2023-11-05T10:10:27.005565Z",
     "iopub.status.busy": "2023-11-05T10:10:27.004101Z",
     "iopub.status.idle": "2023-11-05T10:10:27.018691Z",
     "shell.execute_reply": "2023-11-05T10:10:27.017238Z"
    },
    "papermill": {
     "duration": 0.028549,
     "end_time": "2023-11-05T10:10:27.021907",
     "exception": false,
     "start_time": "2023-11-05T10:10:26.993358",
     "status": "completed"
    },
    "tags": []
   },
   "outputs": [],
   "source": [
    "age_intervals = [0, 20, 40, 60, 80, 100]\n",
    "age_labels = ['0-20', '21-40', '41-60', '61-80', '81+']\n",
    "full_df['Age Group'] = pd.cut(full_df['Patient Age'], bins=age_intervals, labels=age_labels, right=False)"
   ]
  },
  {
   "cell_type": "code",
   "execution_count": 8,
   "id": "79d1f8ae",
   "metadata": {
    "execution": {
     "iopub.execute_input": "2023-11-05T10:10:27.042322Z",
     "iopub.status.busy": "2023-11-05T10:10:27.041927Z",
     "iopub.status.idle": "2023-11-05T10:10:27.052261Z",
     "shell.execute_reply": "2023-11-05T10:10:27.050753Z"
    },
    "papermill": {
     "duration": 0.023711,
     "end_time": "2023-11-05T10:10:27.054920",
     "exception": false,
     "start_time": "2023-11-05T10:10:27.031209",
     "status": "completed"
    },
    "tags": []
   },
   "outputs": [],
   "source": [
    "full_df['labels_text'] = full_df['labels'].apply(lambda x: x[2])\n",
    "full_df['target'] = np.where(full_df['labels_text'] == \"A\", 1, 0)"
   ]
  },
  {
   "cell_type": "code",
   "execution_count": 9,
   "id": "63323061",
   "metadata": {
    "execution": {
     "iopub.execute_input": "2023-11-05T10:10:27.076887Z",
     "iopub.status.busy": "2023-11-05T10:10:27.076431Z",
     "iopub.status.idle": "2023-11-05T10:10:27.089966Z",
     "shell.execute_reply": "2023-11-05T10:10:27.088354Z"
    },
    "papermill": {
     "duration": 0.027875,
     "end_time": "2023-11-05T10:10:27.092391",
     "exception": false,
     "start_time": "2023-11-05T10:10:27.064516",
     "status": "completed"
    },
    "tags": []
   },
   "outputs": [
    {
     "name": "stdout",
     "output_type": "stream",
     "text": [
      "AMD positive: 266\n",
      "AMD negative: 6126\n"
     ]
    }
   ],
   "source": [
    "print(\"AMD positive:\", len(full_df[full_df['target']==1]))\n",
    "print(\"AMD negative:\", len(full_df[full_df['target']==0]))"
   ]
  },
  {
   "cell_type": "markdown",
   "id": "3fc18dd1",
   "metadata": {
    "papermill": {
     "duration": 0.009122,
     "end_time": "2023-11-05T10:10:27.110863",
     "exception": false,
     "start_time": "2023-11-05T10:10:27.101741",
     "status": "completed"
    },
    "tags": []
   },
   "source": [
    "# Split Dataset"
   ]
  },
  {
   "cell_type": "code",
   "execution_count": 10,
   "id": "99a736aa",
   "metadata": {
    "execution": {
     "iopub.execute_input": "2023-11-05T10:10:27.130836Z",
     "iopub.status.busy": "2023-11-05T10:10:27.130388Z",
     "iopub.status.idle": "2023-11-05T10:10:27.165083Z",
     "shell.execute_reply": "2023-11-05T10:10:27.163585Z"
    },
    "papermill": {
     "duration": 0.048486,
     "end_time": "2023-11-05T10:10:27.168479",
     "exception": false,
     "start_time": "2023-11-05T10:10:27.119993",
     "status": "completed"
    },
    "tags": []
   },
   "outputs": [],
   "source": [
    "right_df = full_df[full_df['side'] == 'right']\n",
    "left_df = full_df[full_df['side'] == 'left']\n",
    "\n",
    "# Fix data imbalance\n",
    "\n",
    "right_df_0 = right_df[right_df['target'] == 0]\n",
    "right_df_0 = right_df_0.sample(frac=0.25, random_state=42)\n",
    "right_df_1 = right_df[right_df['target'] == 1]\n",
    "\n",
    "left_df_0 = left_df[left_df['target'] == 0]\n",
    "left_df_0 = left_df_0.sample(frac=0.25, random_state=42)\n",
    "left_df_1 = left_df[left_df['target'] == 1]\n",
    "\n",
    "right_df = pd.concat([right_df_0, right_df_1])\n",
    "left_df = pd.concat([left_df_0, left_df_1])\n",
    "\n",
    "right_df = right_df.sample(frac=1, random_state=42)\n",
    "left_df = left_df.sample(frac=1, random_state=42)\n",
    "\n",
    "right_train, right_test = train_test_split(right_df, test_size=0.2, random_state=42)\n",
    "left_train, left_test = train_test_split(left_df, test_size=0.2, random_state=42)\n",
    "\n",
    "train_df = pd.concat([right_train, left_train])\n",
    "valid_df = pd.concat([right_test, left_test])"
   ]
  },
  {
   "cell_type": "markdown",
   "id": "bb630dd7",
   "metadata": {
    "papermill": {
     "duration": 0.00936,
     "end_time": "2023-11-05T10:10:27.187050",
     "exception": false,
     "start_time": "2023-11-05T10:10:27.177690",
     "status": "completed"
    },
    "tags": []
   },
   "source": [
    "# Prepare Dataset and Dataloader"
   ]
  },
  {
   "cell_type": "code",
   "execution_count": 11,
   "id": "b8a03f25",
   "metadata": {
    "execution": {
     "iopub.execute_input": "2023-11-05T10:10:27.207868Z",
     "iopub.status.busy": "2023-11-05T10:10:27.207499Z",
     "iopub.status.idle": "2023-11-05T10:10:27.218156Z",
     "shell.execute_reply": "2023-11-05T10:10:27.217096Z"
    },
    "papermill": {
     "duration": 0.023832,
     "end_time": "2023-11-05T10:10:27.220816",
     "exception": false,
     "start_time": "2023-11-05T10:10:27.196984",
     "status": "completed"
    },
    "tags": []
   },
   "outputs": [],
   "source": [
    "class EyeDataset(Dataset):\n",
    "    def __init__(self, df, data_transform = None):\n",
    "        self.df = df\n",
    "        self.data_transform = data_transform\n",
    "        self.transform = T.Compose([\n",
    "            T.Resize([224, 224]),\n",
    "            T.ToTensor(),\n",
    "            T.Normalize((0.485, 0.456, 0.406),\n",
    "                       (0.229, 0.224, 0.225))\n",
    "        ])\n",
    "    \n",
    "    def __len__(self):\n",
    "        return len(self.df)\n",
    "    \n",
    "    def __getitem__(self, idx):\n",
    "        filepath = self.df.iloc[idx]['filepath']\n",
    "        image = cv.imread(filepath)\n",
    "        image = cv.cvtColor(image, cv.COLOR_BGR2GRAY)\n",
    "        _, thresholded = cv.threshold(image, 0, 255, cv.THRESH_OTSU)\n",
    "        x, y, w, h = cv.boundingRect(thresholded)\n",
    "        cropped_image = cv.cvtColor(image[y:y+h, x:x+w], cv.COLOR_GRAY2RGB)\n",
    "        cropped_image = Image.fromarray(cropped_image)\n",
    "        target = self.df.iloc[idx]['target']\n",
    "        \n",
    "        return cropped_image, target\n",
    "    \n",
    "    def transform_img(self, img):\n",
    "        return self.transform(img)\n",
    "    \n",
    "    def collate_fn(self, data):\n",
    "        imgs, targets = zip(*data)\n",
    "        targets = torch.tensor(targets)\n",
    "        targets = targets.view(-1, 1).float()\n",
    "        targets = targets.to(device)\n",
    "        imgs = torch.stack(\n",
    "            [self.transform_img(img) for img in imgs], 0\n",
    "        ).to(device)\n",
    "        return imgs, targets"
   ]
  },
  {
   "cell_type": "code",
   "execution_count": 12,
   "id": "81c61afd",
   "metadata": {
    "execution": {
     "iopub.execute_input": "2023-11-05T10:10:27.242160Z",
     "iopub.status.busy": "2023-11-05T10:10:27.241719Z",
     "iopub.status.idle": "2023-11-05T10:10:27.248102Z",
     "shell.execute_reply": "2023-11-05T10:10:27.246943Z"
    },
    "papermill": {
     "duration": 0.019988,
     "end_time": "2023-11-05T10:10:27.250732",
     "exception": false,
     "start_time": "2023-11-05T10:10:27.230744",
     "status": "completed"
    },
    "tags": []
   },
   "outputs": [],
   "source": [
    "data_transforms = T.Compose([\n",
    "    T.RandomHorizontalFlip(),\n",
    "    T.RandomRotation(15),\n",
    "    T.ColorJitter(brightness=0.2, contrast=0.2, saturation=0.2, hue=0.1),\n",
    "    T.RandomResizedCrop(224, scale=(0.8, 1.0))\n",
    "])"
   ]
  },
  {
   "cell_type": "code",
   "execution_count": 13,
   "id": "83366d2b",
   "metadata": {
    "execution": {
     "iopub.execute_input": "2023-11-05T10:10:27.272523Z",
     "iopub.status.busy": "2023-11-05T10:10:27.272184Z",
     "iopub.status.idle": "2023-11-05T10:10:27.277685Z",
     "shell.execute_reply": "2023-11-05T10:10:27.276927Z"
    },
    "papermill": {
     "duration": 0.019748,
     "end_time": "2023-11-05T10:10:27.279794",
     "exception": false,
     "start_time": "2023-11-05T10:10:27.260046",
     "status": "completed"
    },
    "tags": []
   },
   "outputs": [],
   "source": [
    "train_ds = EyeDataset(train_df)\n",
    "train_dl = DataLoader(train_ds, batch_size=32, shuffle=True,\n",
    "                      collate_fn=train_ds.collate_fn, \n",
    "                      drop_last=True)\n",
    "\n",
    "valid_ds = EyeDataset(valid_df)\n",
    "valid_dl = DataLoader(valid_ds, batch_size=32,\n",
    "                      collate_fn=valid_ds.collate_fn)"
   ]
  },
  {
   "cell_type": "code",
   "execution_count": 14,
   "id": "a5c723d1",
   "metadata": {
    "execution": {
     "iopub.execute_input": "2023-11-05T10:10:27.300159Z",
     "iopub.status.busy": "2023-11-05T10:10:27.299780Z",
     "iopub.status.idle": "2023-11-05T10:10:27.305241Z",
     "shell.execute_reply": "2023-11-05T10:10:27.304051Z"
    },
    "papermill": {
     "duration": 0.018532,
     "end_time": "2023-11-05T10:10:27.308091",
     "exception": false,
     "start_time": "2023-11-05T10:10:27.289559",
     "status": "completed"
    },
    "tags": []
   },
   "outputs": [
    {
     "name": "stdout",
     "output_type": "stream",
     "text": [
      "Size of Train: 1436\n",
      "Size of Validation: 361\n"
     ]
    }
   ],
   "source": [
    "print('Size of Train:', len(train_ds))\n",
    "print('Size of Validation:', len(valid_ds))"
   ]
  },
  {
   "cell_type": "markdown",
   "id": "ede705a1",
   "metadata": {
    "papermill": {
     "duration": 0.008592,
     "end_time": "2023-11-05T10:10:27.325632",
     "exception": false,
     "start_time": "2023-11-05T10:10:27.317040",
     "status": "completed"
    },
    "tags": []
   },
   "source": [
    "# Model"
   ]
  },
  {
   "cell_type": "code",
   "execution_count": 15,
   "id": "a021d5ce",
   "metadata": {
    "execution": {
     "iopub.execute_input": "2023-11-05T10:10:27.345301Z",
     "iopub.status.busy": "2023-11-05T10:10:27.344808Z",
     "iopub.status.idle": "2023-11-05T10:10:27.354017Z",
     "shell.execute_reply": "2023-11-05T10:10:27.352445Z"
    },
    "papermill": {
     "duration": 0.022221,
     "end_time": "2023-11-05T10:10:27.356490",
     "exception": false,
     "start_time": "2023-11-05T10:10:27.334269",
     "status": "completed"
    },
    "tags": []
   },
   "outputs": [],
   "source": [
    "class EyeClassifier(nn.Module):\n",
    "    def __init__(self, pretrained=True):\n",
    "        super().__init__()\n",
    "        self.model = models.resnet34(pretrained=pretrained, progress=pretrained)\n",
    "        for param in self.model.parameters():\n",
    "            param.requires_grad = True\n",
    "            \n",
    "        num_features = self.model.fc.in_features\n",
    "        self.model.fc = nn.Sequential(\n",
    "            nn.Flatten(),\n",
    "            nn.BatchNorm1d(num_features),\n",
    "            nn.Dropout(0.5),\n",
    "            nn.Linear(num_features, 128),\n",
    "            nn.ReLU(),\n",
    "            nn.Dropout(0.5),\n",
    "            nn.Linear(128, 1),\n",
    "            nn.Sigmoid()\n",
    "        )\n",
    "        \n",
    "#         num_features = self.model.fc.in_features\n",
    "#         self.model.fc = nn.Sequential(\n",
    "#             nn.Flatten(),\n",
    "#             nn.BatchNorm1d(num_features),\n",
    "#             nn.Dropout(0.5),\n",
    "#             nn.Linear(num_features, 1),\n",
    "#             nn.Sigmoid()\n",
    "#         )\n",
    "        \n",
    "    def forward(self, x):\n",
    "        x = self.model(x)\n",
    "        return x"
   ]
  },
  {
   "cell_type": "code",
   "execution_count": 16,
   "id": "cfb50e23",
   "metadata": {
    "execution": {
     "iopub.execute_input": "2023-11-05T10:10:27.376173Z",
     "iopub.status.busy": "2023-11-05T10:10:27.375082Z",
     "iopub.status.idle": "2023-11-05T10:10:29.461514Z",
     "shell.execute_reply": "2023-11-05T10:10:29.460420Z"
    },
    "papermill": {
     "duration": 2.09898,
     "end_time": "2023-11-05T10:10:29.464271",
     "exception": false,
     "start_time": "2023-11-05T10:10:27.365291",
     "status": "completed"
    },
    "tags": []
   },
   "outputs": [
    {
     "name": "stderr",
     "output_type": "stream",
     "text": [
      "/opt/conda/lib/python3.10/site-packages/torchvision/models/_utils.py:208: UserWarning: The parameter 'pretrained' is deprecated since 0.13 and may be removed in the future, please use 'weights' instead.\n",
      "  warnings.warn(\n",
      "/opt/conda/lib/python3.10/site-packages/torchvision/models/_utils.py:223: UserWarning: Arguments other than a weight enum or `None` for 'weights' are deprecated since 0.13 and may be removed in the future. The current behavior is equivalent to passing `weights=ResNet34_Weights.IMAGENET1K_V1`. You can also use `weights=ResNet34_Weights.DEFAULT` to get the most up-to-date weights.\n",
      "  warnings.warn(msg)\n",
      "Downloading: \"https://download.pytorch.org/models/resnet34-b627a593.pth\" to /root/.cache/torch/hub/checkpoints/resnet34-b627a593.pth\n",
      "100%|██████████| 83.3M/83.3M [00:01<00:00, 81.0MB/s]\n"
     ]
    },
    {
     "name": "stdout",
     "output_type": "stream",
     "text": [
      "==========================================================================================\n",
      "Layer (type:depth-idx)                   Output Shape              Param #\n",
      "==========================================================================================\n",
      "├─ResNet: 1-1                            [-1, 1]                   --\n",
      "|    └─Conv2d: 2-1                       [-1, 64, 112, 112]        9,408\n",
      "|    └─BatchNorm2d: 2-2                  [-1, 64, 112, 112]        128\n",
      "|    └─ReLU: 2-3                         [-1, 64, 112, 112]        --\n",
      "|    └─MaxPool2d: 2-4                    [-1, 64, 56, 56]          --\n",
      "|    └─Sequential: 2-5                   [-1, 64, 56, 56]          --\n",
      "|    |    └─BasicBlock: 3-1              [-1, 64, 56, 56]          73,984\n",
      "|    |    └─BasicBlock: 3-2              [-1, 64, 56, 56]          73,984\n",
      "|    |    └─BasicBlock: 3-3              [-1, 64, 56, 56]          73,984\n",
      "|    └─Sequential: 2-6                   [-1, 128, 28, 28]         --\n",
      "|    |    └─BasicBlock: 3-4              [-1, 128, 28, 28]         230,144\n",
      "|    |    └─BasicBlock: 3-5              [-1, 128, 28, 28]         295,424\n",
      "|    |    └─BasicBlock: 3-6              [-1, 128, 28, 28]         295,424\n",
      "|    |    └─BasicBlock: 3-7              [-1, 128, 28, 28]         295,424\n",
      "|    └─Sequential: 2-7                   [-1, 256, 14, 14]         --\n",
      "|    |    └─BasicBlock: 3-8              [-1, 256, 14, 14]         919,040\n",
      "|    |    └─BasicBlock: 3-9              [-1, 256, 14, 14]         1,180,672\n",
      "|    |    └─BasicBlock: 3-10             [-1, 256, 14, 14]         1,180,672\n",
      "|    |    └─BasicBlock: 3-11             [-1, 256, 14, 14]         1,180,672\n",
      "|    |    └─BasicBlock: 3-12             [-1, 256, 14, 14]         1,180,672\n",
      "|    |    └─BasicBlock: 3-13             [-1, 256, 14, 14]         1,180,672\n",
      "|    └─Sequential: 2-8                   [-1, 512, 7, 7]           --\n",
      "|    |    └─BasicBlock: 3-14             [-1, 512, 7, 7]           3,673,088\n",
      "|    |    └─BasicBlock: 3-15             [-1, 512, 7, 7]           4,720,640\n",
      "|    |    └─BasicBlock: 3-16             [-1, 512, 7, 7]           4,720,640\n",
      "|    └─AdaptiveAvgPool2d: 2-9            [-1, 512, 1, 1]           --\n",
      "|    └─Sequential: 2-10                  [-1, 1]                   --\n",
      "|    |    └─Flatten: 3-17                [-1, 512]                 --\n",
      "|    |    └─BatchNorm1d: 3-18            [-1, 512]                 1,024\n",
      "|    |    └─Dropout: 3-19                [-1, 512]                 --\n",
      "|    |    └─Linear: 3-20                 [-1, 128]                 65,664\n",
      "|    |    └─ReLU: 3-21                   [-1, 128]                 --\n",
      "|    |    └─Dropout: 3-22                [-1, 128]                 --\n",
      "|    |    └─Linear: 3-23                 [-1, 1]                   129\n",
      "|    |    └─Sigmoid: 3-24                [-1, 1]                   --\n",
      "==========================================================================================\n",
      "Total params: 21,351,489\n",
      "Trainable params: 21,351,489\n",
      "Non-trainable params: 0\n",
      "Total mult-adds (G): 3.71\n",
      "==========================================================================================\n",
      "Input size (MB): 0.57\n",
      "Forward/backward pass size (MB): 54.36\n",
      "Params size (MB): 81.45\n",
      "Estimated Total Size (MB): 136.39\n",
      "==========================================================================================\n"
     ]
    }
   ],
   "source": [
    "classifier = EyeClassifier(pretrained=True)\n",
    "_ = summary(classifier, torch.ones(1,3,224,224))"
   ]
  },
  {
   "cell_type": "markdown",
   "id": "77ddad4c",
   "metadata": {
    "papermill": {
     "duration": 0.010425,
     "end_time": "2023-11-05T10:10:29.485300",
     "exception": false,
     "start_time": "2023-11-05T10:10:29.474875",
     "status": "completed"
    },
    "tags": []
   },
   "source": [
    "# Define Train and Validate Functions"
   ]
  },
  {
   "cell_type": "code",
   "execution_count": 17,
   "id": "69abf6e1",
   "metadata": {
    "execution": {
     "iopub.execute_input": "2023-11-05T10:10:29.509466Z",
     "iopub.status.busy": "2023-11-05T10:10:29.509105Z",
     "iopub.status.idle": "2023-11-05T10:10:29.514896Z",
     "shell.execute_reply": "2023-11-05T10:10:29.513579Z"
    },
    "papermill": {
     "duration": 0.020907,
     "end_time": "2023-11-05T10:10:29.517321",
     "exception": false,
     "start_time": "2023-11-05T10:10:29.496414",
     "status": "completed"
    },
    "tags": []
   },
   "outputs": [],
   "source": [
    "def crop_image(image):\n",
    "    _, thresholded = cv.threshold(image, 0, 255, cv.THRESH_OTSU)\n",
    "    x, y, w, h = cv.boundingRect(thresholded)\n",
    "    return image[y:y+h, x:x+w]"
   ]
  },
  {
   "cell_type": "code",
   "execution_count": 18,
   "id": "a10db467",
   "metadata": {
    "execution": {
     "iopub.execute_input": "2023-11-05T10:10:29.539639Z",
     "iopub.status.busy": "2023-11-05T10:10:29.539188Z",
     "iopub.status.idle": "2023-11-05T10:10:29.548816Z",
     "shell.execute_reply": "2023-11-05T10:10:29.547536Z"
    },
    "papermill": {
     "duration": 0.023805,
     "end_time": "2023-11-05T10:10:29.551321",
     "exception": false,
     "start_time": "2023-11-05T10:10:29.527516",
     "status": "completed"
    },
    "tags": []
   },
   "outputs": [],
   "source": [
    "def train(data, classifier, optimizer, loss_fn):\n",
    "    classifier.train()\n",
    "    imgs, targets = data\n",
    "    outputs = classifier(imgs.to(device))\n",
    "    loss = loss_fn(outputs.to(device), targets.to(device))\n",
    "    optimizer.zero_grad()\n",
    "    loss.backward()\n",
    "    optimizer.step()\n",
    "    \n",
    "    outputs = outputs.cpu().detach().tolist()\n",
    "    targets = targets.cpu().detach().tolist()\n",
    "    preds = list(map(lambda x: int(x[0] > 0.5), outputs))\n",
    "    \n",
    "    fake_recall_score = recall_score(targets, preds, pos_label=0,zero_division=0)\n",
    "    fake_accuracy_score = accuracy_score(targets, preds)\n",
    "    fake_precision_score = precision_score(targets, preds, pos_label=0,zero_division=0)\n",
    "    fake_f1_score = f1_score(targets, preds, pos_label=0,zero_division=0)\n",
    "    fpr, tpr, thresholds = roc_curve(targets, outputs)\n",
    "    roc_auc = auc(fpr, tpr)\n",
    "    \n",
    "    return loss.cpu().detach().item(), fake_recall_score, fake_accuracy_score, fake_precision_score, fake_f1_score, fpr, tpr, roc_auc"
   ]
  },
  {
   "cell_type": "code",
   "execution_count": 19,
   "id": "48bb1d3a",
   "metadata": {
    "execution": {
     "iopub.execute_input": "2023-11-05T10:10:29.574228Z",
     "iopub.status.busy": "2023-11-05T10:10:29.573737Z",
     "iopub.status.idle": "2023-11-05T10:10:29.582869Z",
     "shell.execute_reply": "2023-11-05T10:10:29.581637Z"
    },
    "papermill": {
     "duration": 0.023868,
     "end_time": "2023-11-05T10:10:29.585216",
     "exception": false,
     "start_time": "2023-11-05T10:10:29.561348",
     "status": "completed"
    },
    "tags": []
   },
   "outputs": [],
   "source": [
    "@torch.no_grad()\n",
    "def validate(data, classifier, loss_fn):\n",
    "    classifier.eval()\n",
    "    imgs, targets = data\n",
    "    outputs = classifier(imgs.to(device))\n",
    "    loss = loss_fn(outputs.to(device), targets.to(device))\n",
    "    \n",
    "    outputs = outputs.cpu().detach().tolist()\n",
    "    targets = targets.cpu().detach().tolist()\n",
    "    preds = list(map(lambda x: int(x[0] > 0.5), outputs))\n",
    "    fake_recall_score = recall_score(targets, preds, pos_label=0, zero_division=0)\n",
    "    fake_accuracy_score = accuracy_score(targets, preds)\n",
    "    fake_precision_score = precision_score(targets, preds, pos_label=0,zero_division=0)\n",
    "    fake_f1_score = f1_score(targets, preds, pos_label=0,zero_division=0)\n",
    "    fpr, tpr, thresholds = roc_curve(targets, outputs)\n",
    "    roc_auc = auc(fpr, tpr)\n",
    "    \n",
    "    return loss.cpu().detach().item(), fake_recall_score, fake_accuracy_score, fake_precision_score, fake_f1_score, fpr, tpr, roc_auc"
   ]
  },
  {
   "cell_type": "markdown",
   "id": "75e5ab9c",
   "metadata": {
    "papermill": {
     "duration": 0.009562,
     "end_time": "2023-11-05T10:10:29.604936",
     "exception": false,
     "start_time": "2023-11-05T10:10:29.595374",
     "status": "completed"
    },
    "tags": []
   },
   "source": [
    "# Training Model"
   ]
  },
  {
   "cell_type": "code",
   "execution_count": 20,
   "id": "101be20b",
   "metadata": {
    "execution": {
     "iopub.execute_input": "2023-11-05T10:10:29.626204Z",
     "iopub.status.busy": "2023-11-05T10:10:29.625719Z",
     "iopub.status.idle": "2023-11-05T10:10:30.196967Z",
     "shell.execute_reply": "2023-11-05T10:10:30.195809Z"
    },
    "papermill": {
     "duration": 0.585467,
     "end_time": "2023-11-05T10:10:30.200023",
     "exception": false,
     "start_time": "2023-11-05T10:10:29.614556",
     "status": "completed"
    },
    "tags": []
   },
   "outputs": [],
   "source": [
    "classifier = EyeClassifier(pretrained=True).to(device)\n",
    "loss_fn = nn.BCELoss().to(device)\n",
    "optimizer = optim.Adam(classifier.parameters(), lr=1e-4, weight_decay=1e-4)\n",
    "scheduler = optim.lr_scheduler.StepLR(optimizer, step_size=2,\n",
    "                                      gamma=0.25)\n",
    "best_auc_score = 0\n",
    "n_epochs = 10\n",
    "xticks = list(i+1 for i in range(n_epochs))"
   ]
  },
  {
   "cell_type": "code",
   "execution_count": 21,
   "id": "7101af4d",
   "metadata": {
    "execution": {
     "iopub.execute_input": "2023-11-05T10:10:30.316969Z",
     "iopub.status.busy": "2023-11-05T10:10:30.316575Z",
     "iopub.status.idle": "2023-11-05T11:33:05.456979Z",
     "shell.execute_reply": "2023-11-05T11:33:05.455442Z"
    },
    "papermill": {
     "duration": 4955.155645,
     "end_time": "2023-11-05T11:33:05.459801",
     "exception": false,
     "start_time": "2023-11-05T10:10:30.304156",
     "status": "completed"
    },
    "tags": []
   },
   "outputs": [
    {
     "data": {
      "application/vnd.jupyter.widget-view+json": {
       "model_id": "5c4270210ec34fd4bedf3aefdc6f0c1c",
       "version_major": 2,
       "version_minor": 0
      },
      "text/plain": [
       "Training:   0%|          | 0/10 [00:00<?, ?it/s]"
      ]
     },
     "metadata": {},
     "output_type": "display_data"
    },
    {
     "name": "stdout",
     "output_type": "stream",
     "text": [
      "epoch: 1 \ttrain loss: 0.521 \ttrain recall score: 0.844 \ttrain accuracy score: 0.776 \ttrain precision score: 0.885 \ttrain f1 score: 0.861 \ttrain auc: 0.700 \tvalid loss: 0.374 \tvalid recall score: 0.988 \tvalid accuracy score: 0.883 \tvalid precision score: 0.888 \tvalid f1 score: 0.934 \tvalid auc: 0.775\n",
      "epoch: 2 \ttrain loss: 0.314 \ttrain recall score: 0.968 \ttrain accuracy score: 0.899 \ttrain precision score: 0.918 \ttrain f1 score: 0.942 \ttrain auc: 0.876 \tvalid loss: 0.321 \tvalid recall score: 0.958 \tvalid accuracy score: 0.865 \tvalid precision score: 0.892 \tvalid f1 score: 0.922 \tvalid auc: 0.828\n",
      "epoch: 3 \ttrain loss: 0.192 \ttrain recall score: 0.978 \ttrain accuracy score: 0.944 \ttrain precision score: 0.957 \ttrain f1 score: 0.967 \ttrain auc: 0.968 \tvalid loss: 0.314 \tvalid recall score: 0.949 \tvalid accuracy score: 0.889 \tvalid precision score: 0.924 \tvalid f1 score: 0.935 \tvalid auc: 0.851\n",
      "epoch: 4 \ttrain loss: 0.140 \ttrain recall score: 0.991 \ttrain accuracy score: 0.969 \ttrain precision score: 0.974 \ttrain f1 score: 0.982 \ttrain auc: 0.983 \tvalid loss: 0.295 \tvalid recall score: 0.955 \tvalid accuracy score: 0.889 \tvalid precision score: 0.918 \tvalid f1 score: 0.935 \tvalid auc: 0.866\n",
      "epoch: 4.659 \ttrain loss: 0.118 \ttrain recall score: 1.000 \ttrain accuracy score: 0.969 \ttrain precision score: 0.963 \ttrain f1 score: 0.981 \ttrain auc: 1.000\r"
     ]
    },
    {
     "name": "stderr",
     "output_type": "stream",
     "text": [
      "/opt/conda/lib/python3.10/site-packages/sklearn/metrics/_ranking.py:1029: UndefinedMetricWarning: No positive samples in y_true, true positive value should be meaningless\n",
      "  warnings.warn(\n"
     ]
    },
    {
     "name": "stdout",
     "output_type": "stream",
     "text": [
      "epoch: 5 \ttrain loss: 0.109 \ttrain recall score: 0.997 \ttrain accuracy score: 0.982 \ttrain precision score: 0.981 \ttrain f1 score: 0.989 \ttrain auc: nan \tvalid loss: 0.287 \tvalid recall score: 0.958 \tvalid accuracy score: 0.891 \tvalid precision score: 0.919 \tvalid f1 score: 0.937 \tvalid auc: 0.872\n",
      "epoch: 6 \ttrain loss: 0.097 \ttrain recall score: 0.999 \ttrain accuracy score: 0.989 \ttrain precision score: 0.988 \ttrain f1 score: 0.994 \ttrain auc: 0.998 \tvalid loss: 0.293 \tvalid recall score: 0.955 \tvalid accuracy score: 0.891 \tvalid precision score: 0.922 \tvalid f1 score: 0.937 \tvalid auc: 0.872\n",
      "epoch: 6.432 \ttrain loss: 0.068 \ttrain recall score: 1.000 \ttrain accuracy score: 1.000 \ttrain precision score: 1.000 \ttrain f1 score: 1.000 \ttrain auc: 1.000\r"
     ]
    },
    {
     "name": "stderr",
     "output_type": "stream",
     "text": [
      "/opt/conda/lib/python3.10/site-packages/sklearn/metrics/_ranking.py:1029: UndefinedMetricWarning: No positive samples in y_true, true positive value should be meaningless\n",
      "  warnings.warn(\n"
     ]
    },
    {
     "name": "stdout",
     "output_type": "stream",
     "text": [
      "epoch: 7 \ttrain loss: 0.089 \ttrain recall score: 0.998 \ttrain accuracy score: 0.994 \ttrain precision score: 0.995 \ttrain f1 score: 0.996 \ttrain auc: nan \tvalid loss: 0.295 \tvalid recall score: 0.952 \tvalid accuracy score: 0.889 \tvalid precision score: 0.921 \tvalid f1 score: 0.935 \tvalid auc: 0.870\n",
      "epoch: 8 \ttrain loss: 0.090 \ttrain recall score: 0.998 \ttrain accuracy score: 0.990 \ttrain precision score: 0.990 \ttrain f1 score: 0.994 \ttrain auc: 0.996 \tvalid loss: 0.306 \tvalid recall score: 0.943 \tvalid accuracy score: 0.881 \tvalid precision score: 0.921 \tvalid f1 score: 0.930 \tvalid auc: 0.870\n",
      "epoch: 9 \ttrain loss: 0.085 \ttrain recall score: 0.999 \ttrain accuracy score: 0.994 \ttrain precision score: 0.994 \ttrain f1 score: 0.997 \ttrain auc: 0.997 \tvalid loss: 0.295 \tvalid recall score: 0.952 \tvalid accuracy score: 0.889 \tvalid precision score: 0.921 \tvalid f1 score: 0.935 \tvalid auc: 0.868\n",
      "epoch: 9.591 \ttrain loss: 0.081 \ttrain recall score: 1.000 \ttrain accuracy score: 1.000 \ttrain precision score: 1.000 \ttrain f1 score: 1.000 \ttrain auc: 1.000\r"
     ]
    },
    {
     "name": "stderr",
     "output_type": "stream",
     "text": [
      "/opt/conda/lib/python3.10/site-packages/sklearn/metrics/_ranking.py:1029: UndefinedMetricWarning: No positive samples in y_true, true positive value should be meaningless\n",
      "  warnings.warn(\n"
     ]
    },
    {
     "name": "stdout",
     "output_type": "stream",
     "text": [
      "epoch: 10 \ttrain loss: 0.089 \ttrain recall score: 0.998 \ttrain accuracy score: 0.991 \ttrain precision score: 0.992 \ttrain f1 score: 0.995 \ttrain auc: nan \tvalid loss: 0.308 \tvalid recall score: 0.952 \tvalid accuracy score: 0.889 \tvalid precision score: 0.921 \tvalid f1 score: 0.935 \tvalid auc: 0.871\n"
     ]
    }
   ],
   "source": [
    "mem = {\n",
    "    'train_loss': [],\n",
    "    'train_recall_score': [],\n",
    "    'train_accuracy_score': [],\n",
    "    'train_precision_score': [],\n",
    "    'train_f1_score': [],\n",
    "    'train_tpr': [],\n",
    "    'train_fpr': [],\n",
    "    'train_auc': [],\n",
    "    'valid_loss': [],\n",
    "    'valid_recall_score': [],\n",
    "    'valid_accuracy_score': [],\n",
    "    'valid_precision_score': [],\n",
    "    'valid_f1_score': [],\n",
    "    'valid_tpr': [],\n",
    "    'valid_fpr': [],\n",
    "    'valid_auc': [],\n",
    "}\n",
    "\n",
    "for epoch in tqdm(range(n_epochs), desc='Training'):\n",
    "    n_batch = len(train_dl)\n",
    "    train_losses, train_recall_scores, train_accuracy_scores, train_precision_scores, train_f1_scores, train_tprs, train_fprs, train_aucs = [], [], [], [], [], [], [], []\n",
    "    for i, data in enumerate(train_dl):\n",
    "        train_loss, train_recall_score, train_accuracy_score, train_precision_score, train_f1_score, train_tpr, train_fpr, train_auc = train(data, classifier, optimizer, loss_fn)\n",
    "        train_losses.append(train_loss)\n",
    "        train_recall_scores.append(train_recall_score)\n",
    "        train_accuracy_scores.append(train_accuracy_score)\n",
    "        train_precision_scores.append(train_precision_score)\n",
    "        train_f1_scores.append(train_f1_score)\n",
    "        train_tprs.append(train_tpr)\n",
    "        train_fprs.append(train_fpr)\n",
    "        train_aucs.append(train_auc)\n",
    "        pos = epoch + ((i+1)/n_batch)\n",
    "        print(\n",
    "            'epoch:', \"%.3f\" % pos,\n",
    "            '\\ttrain loss:', \"%.3f\" % train_loss,\n",
    "            '\\ttrain recall score:', \"%.3f\" % train_recall_score, \n",
    "            '\\ttrain accuracy score:', \"%.3f\" % train_accuracy_score, \n",
    "            '\\ttrain precision score:', \"%.3f\" % train_precision_score, \n",
    "            '\\ttrain f1 score:', \"%.3f\" % train_f1_score, \n",
    "            '\\ttrain auc:', \"%.3f\" % train_auc, \n",
    "            end='\\r'\n",
    "        )\n",
    "        \n",
    "    mem['train_loss'].append(np.mean(train_losses))\n",
    "    mem['train_recall_score'].append(np.mean(train_recall_scores))\n",
    "    mem['train_accuracy_score'].append(np.mean(train_accuracy_scores))\n",
    "    mem['train_precision_score'].append(np.mean(train_precision_scores))\n",
    "    mem['train_f1_score'].append(np.mean(train_f1_scores))\n",
    "    mem['train_tpr'].append(np.concatenate(train_fprs))\n",
    "    mem['train_fpr'].append(np.concatenate(train_tprs))\n",
    "    mem['train_auc'].append(np.mean(train_aucs))\n",
    "    \n",
    "    n_batch = len(valid_dl)\n",
    "    valid_losses, valid_recall_scores, valid_f1_scores, valid_accuracy_scores, valid_precision_scores, valid_tprs, valid_fprs, valid_aucs =  [], [], [], [], [], [], [], []\n",
    "    for i, data in enumerate(valid_dl):\n",
    "        valid_loss, valid_recall_score, valid_accuracy_score, valid_precision_score, valid_f1_score, valid_tpr, valid_fpr, valid_auc = validate(data, classifier, loss_fn)\n",
    "        valid_losses.append(valid_loss)\n",
    "        valid_recall_scores.append(valid_recall_score)\n",
    "        valid_accuracy_scores.append(valid_accuracy_score)\n",
    "        valid_precision_scores.append(valid_precision_score)\n",
    "        valid_f1_scores.append(valid_f1_score)\n",
    "        valid_tprs.append(valid_tpr)\n",
    "        valid_fprs.append(valid_fpr)\n",
    "        valid_aucs.append(valid_auc)\n",
    "        pos = epoch + ((i+1)/n_batch)\n",
    "        print(\n",
    "            'epoch:', \"%.3f\" % pos,\n",
    "            '\\tvalid loss:', \"%.3f\" % valid_loss,\n",
    "            '\\tvalid recall score:', \"%.3f\" % valid_recall_score, \n",
    "            '\\tvalid accuracy score:', \"%.3f\" % valid_accuracy_score, \n",
    "            '\\tvalid precision score:', \"%.3f\" % valid_precision_score, \n",
    "            '\\tvalid f1 score:', \"%.3f\" % valid_f1_score, \n",
    "            '\\tvalid auc:', \"%.3f\" % valid_auc, \n",
    "            end='\\r'\n",
    "        )\n",
    "    \n",
    "    cur_auc_score = np.mean(valid_aucs)\n",
    "    mem['valid_loss'].append(np.mean(valid_losses))\n",
    "    mem['valid_recall_score'].append(np.mean(valid_recall_scores))\n",
    "    mem['valid_accuracy_score'].append(np.mean(valid_accuracy_scores))\n",
    "    mem['valid_precision_score'].append(np.mean(valid_precision_scores))\n",
    "    mem['valid_f1_score'].append(np.mean(valid_f1_scores))\n",
    "    mem['valid_tpr'].append(np.concatenate(valid_fprs))\n",
    "    mem['valid_fpr'].append(np.concatenate(valid_tprs))\n",
    "    mem['valid_auc'].append(np.mean(valid_aucs))\n",
    "    \n",
    "    print(\n",
    "        'epoch:', epoch+1,\n",
    "        '\\ttrain loss:', \"%.3f\" % mem['train_loss'][-1],\n",
    "        '\\ttrain recall score:', \"%.3f\" % mem['train_recall_score'][-1],\n",
    "        '\\ttrain accuracy score:', \"%.3f\" % mem['train_accuracy_score'][-1],\n",
    "        '\\ttrain precision score:', \"%.3f\" % mem['train_precision_score'][-1],\n",
    "        '\\ttrain f1 score:', \"%.3f\" % mem['train_f1_score'][-1],\n",
    "        '\\ttrain auc:', \"%.3f\" % mem['train_auc'][-1],\n",
    "        '\\tvalid loss:', \"%.3f\" % mem['valid_loss'][-1],\n",
    "        '\\tvalid recall score:', \"%.3f\" % mem['valid_recall_score'][-1],\n",
    "        '\\tvalid accuracy score:', \"%.3f\" % mem['valid_accuracy_score'][-1],\n",
    "        '\\tvalid precision score:', \"%.3f\" % mem['valid_precision_score'][-1],\n",
    "        '\\tvalid f1 score:', \"%.3f\" % mem['valid_f1_score'][-1],\n",
    "        '\\tvalid auc:', \"%.3f\" % mem['valid_auc'][-1],\n",
    "    )\n",
    "    \n",
    "    if best_auc_score < cur_auc_score:\n",
    "        best_auc_score = cur_auc_score\n",
    "        torch.save(classifier.state_dict(), './saved_model/diabetic_state_dict.pth')\n",
    "        torch.save(classifier, './saved_model/diabetic_model.pth')\n",
    "        \n",
    "    scheduler.step()"
   ]
  },
  {
   "cell_type": "code",
   "execution_count": 22,
   "id": "c6c9e3a5",
   "metadata": {
    "execution": {
     "iopub.execute_input": "2023-11-05T11:33:05.551281Z",
     "iopub.status.busy": "2023-11-05T11:33:05.550792Z",
     "iopub.status.idle": "2023-11-05T11:33:05.915620Z",
     "shell.execute_reply": "2023-11-05T11:33:05.914288Z"
    },
    "papermill": {
     "duration": 0.41384,
     "end_time": "2023-11-05T11:33:05.918176",
     "exception": false,
     "start_time": "2023-11-05T11:33:05.504336",
     "status": "completed"
    },
    "tags": []
   },
   "outputs": [
    {
     "data": {
      "image/png": "[encoded data removed]",
      "text/plain": [
       "<Figure size 640x480 with 1 Axes>"
      ]
     },
     "metadata": {},
     "output_type": "display_data"
    }
   ],
   "source": [
    "plt.plot(xticks, mem['train_loss'])\n",
    "plt.plot(xticks, mem['valid_loss'])\n",
    "plt.legend(['train', 'valid'])\n",
    "plt.xlabel('epoch')\n",
    "plt.title('loss')\n",
    "plt.show()"
   ]
  },
  {
   "cell_type": "code",
   "execution_count": 23,
   "id": "0f76a17e",
   "metadata": {
    "execution": {
     "iopub.execute_input": "2023-11-05T11:33:06.020718Z",
     "iopub.status.busy": "2023-11-05T11:33:06.019490Z",
     "iopub.status.idle": "2023-11-05T11:33:06.374269Z",
     "shell.execute_reply": "2023-11-05T11:33:06.372936Z"
    },
    "papermill": {
     "duration": 0.409068,
     "end_time": "2023-11-05T11:33:06.377003",
     "exception": false,
     "start_time": "2023-11-05T11:33:05.967935",
     "status": "completed"
    },
    "tags": []
   },
   "outputs": [
    {
     "data": {
      "image/png": "[encoded data removed]",
      "text/plain": [
       "<Figure size 640x480 with 1 Axes>"
      ]
     },
     "metadata": {},
     "output_type": "display_data"
    }
   ],
   "source": [
    "plt.plot(xticks, mem['train_recall_score'])\n",
    "plt.plot(xticks, mem['valid_recall_score'])\n",
    "plt.legend(['train', 'valid'])\n",
    "plt.xlabel('epoch')\n",
    "plt.title('recall score')\n",
    "plt.show()"
   ]
  },
  {
   "cell_type": "code",
   "execution_count": 24,
   "id": "3d413787",
   "metadata": {
    "execution": {
     "iopub.execute_input": "2023-11-05T11:33:06.476694Z",
     "iopub.status.busy": "2023-11-05T11:33:06.476302Z",
     "iopub.status.idle": "2023-11-05T11:33:06.803626Z",
     "shell.execute_reply": "2023-11-05T11:33:06.802301Z"
    },
    "papermill": {
     "duration": 0.380944,
     "end_time": "2023-11-05T11:33:06.806099",
     "exception": false,
     "start_time": "2023-11-05T11:33:06.425155",
     "status": "completed"
    },
    "tags": []
   },
   "outputs": [
    {
     "data": {
      "image/png": "[encoded data removed]",
      "text/plain": [
       "<Figure size 640x480 with 1 Axes>"
      ]
     },
     "metadata": {},
     "output_type": "display_data"
    }
   ],
   "source": [
    "plt.plot(xticks, mem['train_accuracy_score'])\n",
    "plt.plot(xticks, mem['valid_accuracy_score'])\n",
    "plt.legend(['train', 'valid'])\n",
    "plt.xlabel('epoch')\n",
    "plt.title('accuracy score')\n",
    "plt.show()"
   ]
  },
  {
   "cell_type": "code",
   "execution_count": 25,
   "id": "a86aec19",
   "metadata": {
    "execution": {
     "iopub.execute_input": "2023-11-05T11:33:06.907649Z",
     "iopub.status.busy": "2023-11-05T11:33:06.907265Z",
     "iopub.status.idle": "2023-11-05T11:33:07.207339Z",
     "shell.execute_reply": "2023-11-05T11:33:07.206290Z"
    },
    "papermill": {
     "duration": 0.354578,
     "end_time": "2023-11-05T11:33:07.209652",
     "exception": false,
     "start_time": "2023-11-05T11:33:06.855074",
     "status": "completed"
    },
    "tags": []
   },
   "outputs": [
    {
     "data": {
      "image/png": "[encoded data removed]",
      "text/plain": [
       "<Figure size 640x480 with 1 Axes>"
      ]
     },
     "metadata": {},
     "output_type": "display_data"
    }
   ],
   "source": [
    "plt.plot(xticks, mem['train_precision_score'])\n",
    "plt.plot(xticks, mem['valid_precision_score'])\n",
    "plt.legend(['train', 'valid'])\n",
    "plt.xlabel('epoch')\n",
    "plt.title('precision score')\n",
    "plt.show()"
   ]
  },
  {
   "cell_type": "code",
   "execution_count": 26,
   "id": "6c526e21",
   "metadata": {
    "execution": {
     "iopub.execute_input": "2023-11-05T11:33:07.303727Z",
     "iopub.status.busy": "2023-11-05T11:33:07.303170Z",
     "iopub.status.idle": "2023-11-05T11:33:07.594612Z",
     "shell.execute_reply": "2023-11-05T11:33:07.593502Z"
    },
    "papermill": {
     "duration": 0.341108,
     "end_time": "2023-11-05T11:33:07.596916",
     "exception": false,
     "start_time": "2023-11-05T11:33:07.255808",
     "status": "completed"
    },
    "tags": []
   },
   "outputs": [
    {
     "data": {
      "image/png": "[encoded data removed]",
      "text/plain": [
       "<Figure size 640x480 with 1 Axes>"
      ]
     },
     "metadata": {},
     "output_type": "display_data"
    }
   ],
   "source": [
    "plt.plot(xticks, mem['train_f1_score'])\n",
    "plt.plot(xticks, mem['valid_f1_score'])\n",
    "plt.legend(['train', 'valid'])\n",
    "plt.xlabel('epoch')\n",
    "plt.title('f1 score')\n",
    "plt.show()"
   ]
  },
  {
   "cell_type": "code",
   "execution_count": 27,
   "id": "273b6fb4",
   "metadata": {
    "execution": {
     "iopub.execute_input": "2023-11-05T11:33:07.692264Z",
     "iopub.status.busy": "2023-11-05T11:33:07.691530Z",
     "iopub.status.idle": "2023-11-05T11:33:07.972737Z",
     "shell.execute_reply": "2023-11-05T11:33:07.971603Z"
    },
    "papermill": {
     "duration": 0.331417,
     "end_time": "2023-11-05T11:33:07.975034",
     "exception": false,
     "start_time": "2023-11-05T11:33:07.643617",
     "status": "completed"
    },
    "tags": []
   },
   "outputs": [
    {
     "data": {
      "image/png": "[encoded data removed]",
      "text/plain": [
       "<Figure size 640x480 with 1 Axes>"
      ]
     },
     "metadata": {},
     "output_type": "display_data"
    }
   ],
   "source": [
    "plt.plot(xticks, mem['train_auc'])\n",
    "plt.plot(xticks, mem['valid_auc'])\n",
    "plt.legend(['train', 'valid'])\n",
    "plt.xlabel('epoch')\n",
    "plt.title('auc score')\n",
    "plt.show()"
   ]
  }
 ],
 "metadata": {
  "kernelspec": {
   "display_name": "Python 3",
   "language": "python",
   "name": "python3"
  },
  "language_info": {
   "codemirror_mode": {
    "name": "ipython",
    "version": 3
   },
   "file_extension": ".py",
   "mimetype": "text/x-python",
   "name": "python",
   "nbconvert_exporter": "python",
   "pygments_lexer": "ipython3",
   "version": "3.10.12"
  },
  "papermill": {
   "default_parameters": {},
   "duration": 4986.473346,
   "end_time": "2023-11-05T11:33:09.660149",
   "environment_variables": {},
   "exception": null,
   "input_path": "__notebook__.ipynb",
   "output_path": "__notebook__.ipynb",
   "parameters": {},
   "start_time": "2023-11-05T10:10:03.186803",
   "version": "2.4.0"
  },
  "widgets": {
   "application/vnd.jupyter.widget-state+json": {
    "state": {
     "04453825b2dc41f193c165755c771aa7": {
      "model_module": "@jupyter-widgets/base",
      "model_module_version": "1.2.0",
      "model_name": "LayoutModel",
      "state": {
       "_model_module": "@jupyter-widgets/base",
       "_model_module_version": "1.2.0",
       "_model_name": "LayoutModel",
       "_view_count": null,
       "_view_module": "@jupyter-widgets/base",
       "_view_module_version": "1.2.0",
       "_view_name": "LayoutView",
       "align_content": null,
       "align_items": null,
       "align_self": null,
       "border": null,
       "bottom": null,
       "display": null,
       "flex": null,
       "flex_flow": null,
       "grid_area": null,
       "grid_auto_columns": null,
       "grid_auto_flow": null,
       "grid_auto_rows": null,
       "grid_column": null,
       "grid_gap": null,
       "grid_row": null,
       "grid_template_areas": null,
       "grid_template_columns": null,
       "grid_template_rows": null,
       "height": null,
       "justify_content": null,
       "justify_items": null,
       "left": null,
       "margin": null,
       "max_height": null,
       "max_width": null,
       "min_height": null,
       "min_width": null,
       "object_fit": null,
       "object_position": null,
       "order": null,
       "overflow": null,
       "overflow_x": null,
       "overflow_y": null,
       "padding": null,
       "right": null,
       "top": null,
       "visibility": null,
       "width": null
      }
     },
     "0d15e6dfd84b4141863fcc9b1f14a729": {
      "model_module": "@jupyter-widgets/controls",
      "model_module_version": "1.5.0",
      "model_name": "HTMLModel",
      "state": {
       "_dom_classes": [],
       "_model_module": "@jupyter-widgets/controls",
       "_model_module_version": "1.5.0",
       "_model_name": "HTMLModel",
       "_view_count": null,
       "_view_module": "@jupyter-widgets/controls",
       "_view_module_version": "1.5.0",
       "_view_name": "HTMLView",
       "description": "",
       "description_tooltip": null,
       "layout": "IPY_MODEL_e869ffe89b9545c5ad2e98b24dd577c8",
       "placeholder": "​",
       "style": "IPY_MODEL_26d13eb4a92c4cf69074eaf4cb5eb658",
       "value": " 10/10 [1:22:35&lt;00:00, 491.58s/it]"
      }
     },
     "26d13eb4a92c4cf69074eaf4cb5eb658": {
      "model_module": "@jupyter-widgets/controls",
      "model_module_version": "1.5.0",
      "model_name": "DescriptionStyleModel",
      "state": {
       "_model_module": "@jupyter-widgets/controls",
       "_model_module_version": "1.5.0",
       "_model_name": "DescriptionStyleModel",
       "_view_count": null,
       "_view_module": "@jupyter-widgets/base",
       "_view_module_version": "1.2.0",
       "_view_name": "StyleView",
       "description_width": ""
      }
     },
     "5c4270210ec34fd4bedf3aefdc6f0c1c": {
      "model_module": "@jupyter-widgets/controls",
      "model_module_version": "1.5.0",
      "model_name": "HBoxModel",
      "state": {
       "_dom_classes": [],
       "_model_module": "@jupyter-widgets/controls",
       "_model_module_version": "1.5.0",
       "_model_name": "HBoxModel",
       "_view_count": null,
       "_view_module": "@jupyter-widgets/controls",
       "_view_module_version": "1.5.0",
       "_view_name": "HBoxView",
       "box_style": "",
       "children": [
        "IPY_MODEL_fe9a2e36ab484ddabaf146e956753f5d",
        "IPY_MODEL_c63a01657b704a0cba93ac1257730fa1",
        "IPY_MODEL_0d15e6dfd84b4141863fcc9b1f14a729"
       ],
       "layout": "IPY_MODEL_7450b2dda840405187cd84a2f2f34b38"
      }
     },
     "6e38d7bb956b4e47adda39aa368c3ea2": {
      "model_module": "@jupyter-widgets/controls",
      "model_module_version": "1.5.0",
      "model_name": "ProgressStyleModel",
      "state": {
       "_model_module": "@jupyter-widgets/controls",
       "_model_module_version": "1.5.0",
       "_model_name": "ProgressStyleModel",
       "_view_count": null,
       "_view_module": "@jupyter-widgets/base",
       "_view_module_version": "1.2.0",
       "_view_name": "StyleView",
       "bar_color": null,
       "description_width": ""
      }
     },
     "7450b2dda840405187cd84a2f2f34b38": {
      "model_module": "@jupyter-widgets/base",
      "model_module_version": "1.2.0",
      "model_name": "LayoutModel",
      "state": {
       "_model_module": "@jupyter-widgets/base",
       "_model_module_version": "1.2.0",
       "_model_name": "LayoutModel",
       "_view_count": null,
       "_view_module": "@jupyter-widgets/base",
       "_view_module_version": "1.2.0",
       "_view_name": "LayoutView",
       "align_content": null,
       "align_items": null,
       "align_self": null,
       "border": null,
       "bottom": null,
       "display": null,
       "flex": null,
       "flex_flow": null,
       "grid_area": null,
       "grid_auto_columns": null,
       "grid_auto_flow": null,
       "grid_auto_rows": null,
       "grid_column": null,
       "grid_gap": null,
       "grid_row": null,
       "grid_template_areas": null,
       "grid_template_columns": null,
       "grid_template_rows": null,
       "height": null,
       "justify_content": null,
       "justify_items": null,
       "left": null,
       "margin": null,
       "max_height": null,
       "max_width": null,
       "min_height": null,
       "min_width": null,
       "object_fit": null,
       "object_position": null,
       "order": null,
       "overflow": null,
       "overflow_x": null,
       "overflow_y": null,
       "padding": null,
       "right": null,
       "top": null,
       "visibility": null,
       "width": null
      }
     },
     "c63a01657b704a0cba93ac1257730fa1": {
      "model_module": "@jupyter-widgets/controls",
      "model_module_version": "1.5.0",
      "model_name": "FloatProgressModel",
      "state": {
       "_dom_classes": [],
       "_model_module": "@jupyter-widgets/controls",
       "_model_module_version": "1.5.0",
       "_model_name": "FloatProgressModel",
       "_view_count": null,
       "_view_module": "@jupyter-widgets/controls",
       "_view_module_version": "1.5.0",
       "_view_name": "ProgressView",
       "bar_style": "success",
       "description": "",
       "description_tooltip": null,
       "layout": "IPY_MODEL_e18ec2cef46f4431a96f0318c08cebe9",
       "max": 10.0,
       "min": 0.0,
       "orientation": "horizontal",
       "style": "IPY_MODEL_6e38d7bb956b4e47adda39aa368c3ea2",
       "value": 10.0
      }
     },
     "e18ec2cef46f4431a96f0318c08cebe9": {
      "model_module": "@jupyter-widgets/base",
      "model_module_version": "1.2.0",
      "model_name": "LayoutModel",
      "state": {
       "_model_module": "@jupyter-widgets/base",
       "_model_module_version": "1.2.0",
       "_model_name": "LayoutModel",
       "_view_count": null,
       "_view_module": "@jupyter-widgets/base",
       "_view_module_version": "1.2.0",
       "_view_name": "LayoutView",
       "align_content": null,
       "align_items": null,
       "align_self": null,
       "border": null,
       "bottom": null,
       "display": null,
       "flex": null,
       "flex_flow": null,
       "grid_area": null,
       "grid_auto_columns": null,
       "grid_auto_flow": null,
       "grid_auto_rows": null,
       "grid_column": null,
       "grid_gap": null,
       "grid_row": null,
       "grid_template_areas": null,
       "grid_template_columns": null,
       "grid_template_rows": null,
       "height": null,
       "justify_content": null,
       "justify_items": null,
       "left": null,
       "margin": null,
       "max_height": null,
       "max_width": null,
       "min_height": null,
       "min_width": null,
       "object_fit": null,
       "object_position": null,
       "order": null,
       "overflow": null,
       "overflow_x": null,
       "overflow_y": null,
       "padding": null,
       "right": null,
       "top": null,
       "visibility": null,
       "width": null
      }
     },
     "e869ffe89b9545c5ad2e98b24dd577c8": {
      "model_module": "@jupyter-widgets/base",
      "model_module_version": "1.2.0",
      "model_name": "LayoutModel",
      "state": {
       "_model_module": "@jupyter-widgets/base",
       "_model_module_version": "1.2.0",
       "_model_name": "LayoutModel",
       "_view_count": null,
       "_view_module": "@jupyter-widgets/base",
       "_view_module_version": "1.2.0",
       "_view_name": "LayoutView",
       "align_content": null,
       "align_items": null,
       "align_self": null,
       "border": null,
       "bottom": null,
       "display": null,
       "flex": null,
       "flex_flow": null,
       "grid_area": null,
       "grid_auto_columns": null,
       "grid_auto_flow": null,
       "grid_auto_rows": null,
       "grid_column": null,
       "grid_gap": null,
       "grid_row": null,
       "grid_template_areas": null,
       "grid_template_columns": null,
       "grid_template_rows": null,
       "height": null,
       "justify_content": null,
       "justify_items": null,
       "left": null,
       "margin": null,
       "max_height": null,
       "max_width": null,
       "min_height": null,
       "min_width": null,
       "object_fit": null,
       "object_position": null,
       "order": null,
       "overflow": null,
       "overflow_x": null,
       "overflow_y": null,
       "padding": null,
       "right": null,
       "top": null,
       "visibility": null,
       "width": null
      }
     },
     "fa0c71b4806c48cc8432f0584099251c": {
      "model_module": "@jupyter-widgets/controls",
      "model_module_version": "1.5.0",
      "model_name": "DescriptionStyleModel",
      "state": {
       "_model_module": "@jupyter-widgets/controls",
       "_model_module_version": "1.5.0",
       "_model_name": "DescriptionStyleModel",
       "_view_count": null,
       "_view_module": "@jupyter-widgets/base",
       "_view_module_version": "1.2.0",
       "_view_name": "StyleView",
       "description_width": ""
      }
     },
     "fe9a2e36ab484ddabaf146e956753f5d": {
      "model_module": "@jupyter-widgets/controls",
      "model_module_version": "1.5.0",
      "model_name": "HTMLModel",
      "state": {
       "_dom_classes": [],
       "_model_module": "@jupyter-widgets/controls",
       "_model_module_version": "1.5.0",
       "_model_name": "HTMLModel",
       "_view_count": null,
       "_view_module": "@jupyter-widgets/controls",
       "_view_module_version": "1.5.0",
       "_view_name": "HTMLView",
       "description": "",
       "description_tooltip": null,
       "layout": "IPY_MODEL_04453825b2dc41f193c165755c771aa7",
       "placeholder": "​",
       "style": "IPY_MODEL_fa0c71b4806c48cc8432f0584099251c",
       "value": "Training: 100%"
      }
     }
    },
    "version_major": 2,
    "version_minor": 0
   }
  }
 },
 "nbformat": 4,
 "nbformat_minor": 5
}
