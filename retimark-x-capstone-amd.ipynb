{
 "cells": [
  {
   "cell_type": "markdown",
   "id": "5ab2b901",
   "metadata": {
    "papermill": {
     "duration": 0.009284,
     "end_time": "2023-11-10T16:11:50.812649",
     "exception": false,
     "start_time": "2023-11-10T16:11:50.803365",
     "status": "completed"
    },
    "tags": []
   },
   "source": [
    "# Install Dependencies"
   ]
  },
  {
   "cell_type": "code",
   "execution_count": 1,
   "id": "ca65ec10",
   "metadata": {
    "_cell_guid": "b1076dfc-b9ad-4769-8c92-a6c4dae69d19",
    "_uuid": "8f2839f25d086af736a60e9eeb907d3b93b6e0e5",
    "execution": {
     "iopub.execute_input": "2023-11-10T16:11:50.831745Z",
     "iopub.status.busy": "2023-11-10T16:11:50.831363Z",
     "iopub.status.idle": "2023-11-10T16:12:03.783161Z",
     "shell.execute_reply": "2023-11-10T16:12:03.782218Z"
    },
    "papermill": {
     "duration": 12.964118,
     "end_time": "2023-11-10T16:12:03.785562",
     "exception": false,
     "start_time": "2023-11-10T16:11:50.821444",
     "status": "completed"
    },
    "tags": []
   },
   "outputs": [
    {
     "name": "stdout",
     "output_type": "stream",
     "text": [
      "Collecting torch_summary\r\n",
      "  Downloading torch_summary-1.4.5-py3-none-any.whl (16 kB)\r\n",
      "Installing collected packages: torch_summary\r\n",
      "Successfully installed torch_summary-1.4.5\r\n"
     ]
    }
   ],
   "source": [
    "!pip install torch_summary"
   ]
  },
  {
   "cell_type": "markdown",
   "id": "e7e8d4c9",
   "metadata": {
    "papermill": {
     "duration": 0.008621,
     "end_time": "2023-11-10T16:12:03.803335",
     "exception": false,
     "start_time": "2023-11-10T16:12:03.794714",
     "status": "completed"
    },
    "tags": []
   },
   "source": [
    "# Import Libraries"
   ]
  },
  {
   "cell_type": "code",
   "execution_count": 2,
   "id": "3a098b87",
   "metadata": {
    "execution": {
     "iopub.execute_input": "2023-11-10T16:12:03.823314Z",
     "iopub.status.busy": "2023-11-10T16:12:03.822569Z",
     "iopub.status.idle": "2023-11-10T16:12:09.761324Z",
     "shell.execute_reply": "2023-11-10T16:12:09.760394Z"
    },
    "papermill": {
     "duration": 5.951484,
     "end_time": "2023-11-10T16:12:09.763740",
     "exception": false,
     "start_time": "2023-11-10T16:12:03.812256",
     "status": "completed"
    },
    "tags": []
   },
   "outputs": [
    {
     "name": "stderr",
     "output_type": "stream",
     "text": [
      "/opt/conda/lib/python3.10/site-packages/scipy/__init__.py:146: UserWarning: A NumPy version >=1.16.5 and <1.23.0 is required for this version of SciPy (detected version 1.23.5\n",
      "  warnings.warn(f\"A NumPy version >={np_minversion} and <{np_maxversion}\"\n"
     ]
    }
   ],
   "source": [
    "import torch\n",
    "import torch.nn.functional as F\n",
    "from torch import nn, optim\n",
    "from torchvision import transforms as T, models\n",
    "from torch.utils.data import DataLoader, Dataset\n",
    "from torchsummary import summary\n",
    "from tqdm.notebook import tqdm \n",
    "\n",
    "from sklearn.metrics import classification_report, recall_score, accuracy_score, f1_score, precision_score, roc_curve, auc\n",
    "from sklearn.model_selection import train_test_split\n",
    "import seaborn as sns\n",
    "from PIL import Image\n",
    "import matplotlib.pyplot as plt\n",
    "from random import shuffle, randint, choice\n",
    "import numpy as np\n",
    "import cv2 as cv\n",
    "from glob import glob\n",
    "import pandas as pd"
   ]
  },
  {
   "cell_type": "code",
   "execution_count": 3,
   "id": "c3657621",
   "metadata": {
    "execution": {
     "iopub.execute_input": "2023-11-10T16:12:09.783951Z",
     "iopub.status.busy": "2023-11-10T16:12:09.783480Z",
     "iopub.status.idle": "2023-11-10T16:12:10.801831Z",
     "shell.execute_reply": "2023-11-10T16:12:10.800749Z"
    },
    "papermill": {
     "duration": 1.031046,
     "end_time": "2023-11-10T16:12:10.804120",
     "exception": false,
     "start_time": "2023-11-10T16:12:09.773074",
     "status": "completed"
    },
    "tags": []
   },
   "outputs": [],
   "source": [
    "!mkdir saved_model\n",
    "sns.set_theme()\n",
    "device = 'cuda' if torch.cuda.is_available() else 'cpu'"
   ]
  },
  {
   "cell_type": "markdown",
   "id": "6d91804b",
   "metadata": {
    "papermill": {
     "duration": 0.008871,
     "end_time": "2023-11-10T16:12:10.822145",
     "exception": false,
     "start_time": "2023-11-10T16:12:10.813274",
     "status": "completed"
    },
    "tags": []
   },
   "source": [
    "# Dataset"
   ]
  },
  {
   "cell_type": "code",
   "execution_count": 4,
   "id": "5e2c77bb",
   "metadata": {
    "execution": {
     "iopub.execute_input": "2023-11-10T16:12:10.842037Z",
     "iopub.status.busy": "2023-11-10T16:12:10.841633Z",
     "iopub.status.idle": "2023-11-10T16:12:10.951913Z",
     "shell.execute_reply": "2023-11-10T16:12:10.950857Z"
    },
    "papermill": {
     "duration": 0.122891,
     "end_time": "2023-11-10T16:12:10.954008",
     "exception": false,
     "start_time": "2023-11-10T16:12:10.831117",
     "status": "completed"
    },
    "tags": []
   },
   "outputs": [
    {
     "data": {
      "text/html": [
       "<div>\n",
       "<style scoped>\n",
       "    .dataframe tbody tr th:only-of-type {\n",
       "        vertical-align: middle;\n",
       "    }\n",
       "\n",
       "    .dataframe tbody tr th {\n",
       "        vertical-align: top;\n",
       "    }\n",
       "\n",
       "    .dataframe thead th {\n",
       "        text-align: right;\n",
       "    }\n",
       "</style>\n",
       "<table border=\"1\" class=\"dataframe\">\n",
       "  <thead>\n",
       "    <tr style=\"text-align: right;\">\n",
       "      <th></th>\n",
       "      <th>Patient Age</th>\n",
       "      <th>Patient Sex</th>\n",
       "      <th>Left-Fundus</th>\n",
       "      <th>Right-Fundus</th>\n",
       "      <th>Left-Diagnostic Keywords</th>\n",
       "      <th>Right-Diagnostic Keywords</th>\n",
       "      <th>N</th>\n",
       "      <th>D</th>\n",
       "      <th>G</th>\n",
       "      <th>C</th>\n",
       "      <th>A</th>\n",
       "      <th>H</th>\n",
       "      <th>M</th>\n",
       "      <th>O</th>\n",
       "      <th>filepath</th>\n",
       "      <th>labels</th>\n",
       "      <th>target</th>\n",
       "      <th>filename</th>\n",
       "    </tr>\n",
       "    <tr>\n",
       "      <th>ID</th>\n",
       "      <th></th>\n",
       "      <th></th>\n",
       "      <th></th>\n",
       "      <th></th>\n",
       "      <th></th>\n",
       "      <th></th>\n",
       "      <th></th>\n",
       "      <th></th>\n",
       "      <th></th>\n",
       "      <th></th>\n",
       "      <th></th>\n",
       "      <th></th>\n",
       "      <th></th>\n",
       "      <th></th>\n",
       "      <th></th>\n",
       "      <th></th>\n",
       "      <th></th>\n",
       "      <th></th>\n",
       "    </tr>\n",
       "  </thead>\n",
       "  <tbody>\n",
       "    <tr>\n",
       "      <th>0</th>\n",
       "      <td>69</td>\n",
       "      <td>Female</td>\n",
       "      <td>0_left.jpg</td>\n",
       "      <td>0_right.jpg</td>\n",
       "      <td>cataract</td>\n",
       "      <td>normal fundus</td>\n",
       "      <td>0</td>\n",
       "      <td>0</td>\n",
       "      <td>0</td>\n",
       "      <td>1</td>\n",
       "      <td>0</td>\n",
       "      <td>0</td>\n",
       "      <td>0</td>\n",
       "      <td>0</td>\n",
       "      <td>../input/ocular-disease-recognition-odir5k/ODI...</td>\n",
       "      <td>['N']</td>\n",
       "      <td>[1, 0, 0, 0, 0, 0, 0, 0]</td>\n",
       "      <td>0_right.jpg</td>\n",
       "    </tr>\n",
       "    <tr>\n",
       "      <th>1</th>\n",
       "      <td>57</td>\n",
       "      <td>Male</td>\n",
       "      <td>1_left.jpg</td>\n",
       "      <td>1_right.jpg</td>\n",
       "      <td>normal fundus</td>\n",
       "      <td>normal fundus</td>\n",
       "      <td>1</td>\n",
       "      <td>0</td>\n",
       "      <td>0</td>\n",
       "      <td>0</td>\n",
       "      <td>0</td>\n",
       "      <td>0</td>\n",
       "      <td>0</td>\n",
       "      <td>0</td>\n",
       "      <td>../input/ocular-disease-recognition-odir5k/ODI...</td>\n",
       "      <td>['N']</td>\n",
       "      <td>[1, 0, 0, 0, 0, 0, 0, 0]</td>\n",
       "      <td>1_right.jpg</td>\n",
       "    </tr>\n",
       "    <tr>\n",
       "      <th>2</th>\n",
       "      <td>42</td>\n",
       "      <td>Male</td>\n",
       "      <td>2_left.jpg</td>\n",
       "      <td>2_right.jpg</td>\n",
       "      <td>laser spot，moderate non proliferative retinopathy</td>\n",
       "      <td>moderate non proliferative retinopathy</td>\n",
       "      <td>0</td>\n",
       "      <td>1</td>\n",
       "      <td>0</td>\n",
       "      <td>0</td>\n",
       "      <td>0</td>\n",
       "      <td>0</td>\n",
       "      <td>0</td>\n",
       "      <td>1</td>\n",
       "      <td>../input/ocular-disease-recognition-odir5k/ODI...</td>\n",
       "      <td>['D']</td>\n",
       "      <td>[0, 1, 0, 0, 0, 0, 0, 0]</td>\n",
       "      <td>2_right.jpg</td>\n",
       "    </tr>\n",
       "    <tr>\n",
       "      <th>4</th>\n",
       "      <td>53</td>\n",
       "      <td>Male</td>\n",
       "      <td>4_left.jpg</td>\n",
       "      <td>4_right.jpg</td>\n",
       "      <td>macular epiretinal membrane</td>\n",
       "      <td>mild nonproliferative retinopathy</td>\n",
       "      <td>0</td>\n",
       "      <td>1</td>\n",
       "      <td>0</td>\n",
       "      <td>0</td>\n",
       "      <td>0</td>\n",
       "      <td>0</td>\n",
       "      <td>0</td>\n",
       "      <td>1</td>\n",
       "      <td>../input/ocular-disease-recognition-odir5k/ODI...</td>\n",
       "      <td>['D']</td>\n",
       "      <td>[0, 1, 0, 0, 0, 0, 0, 0]</td>\n",
       "      <td>4_right.jpg</td>\n",
       "    </tr>\n",
       "    <tr>\n",
       "      <th>5</th>\n",
       "      <td>50</td>\n",
       "      <td>Female</td>\n",
       "      <td>5_left.jpg</td>\n",
       "      <td>5_right.jpg</td>\n",
       "      <td>moderate non proliferative retinopathy</td>\n",
       "      <td>moderate non proliferative retinopathy</td>\n",
       "      <td>0</td>\n",
       "      <td>1</td>\n",
       "      <td>0</td>\n",
       "      <td>0</td>\n",
       "      <td>0</td>\n",
       "      <td>0</td>\n",
       "      <td>0</td>\n",
       "      <td>0</td>\n",
       "      <td>../input/ocular-disease-recognition-odir5k/ODI...</td>\n",
       "      <td>['D']</td>\n",
       "      <td>[0, 1, 0, 0, 0, 0, 0, 0]</td>\n",
       "      <td>5_right.jpg</td>\n",
       "    </tr>\n",
       "  </tbody>\n",
       "</table>\n",
       "</div>"
      ],
      "text/plain": [
       "    Patient Age Patient Sex Left-Fundus Right-Fundus  \\\n",
       "ID                                                     \n",
       "0            69      Female  0_left.jpg  0_right.jpg   \n",
       "1            57        Male  1_left.jpg  1_right.jpg   \n",
       "2            42        Male  2_left.jpg  2_right.jpg   \n",
       "4            53        Male  4_left.jpg  4_right.jpg   \n",
       "5            50      Female  5_left.jpg  5_right.jpg   \n",
       "\n",
       "                             Left-Diagnostic Keywords  \\\n",
       "ID                                                      \n",
       "0                                            cataract   \n",
       "1                                       normal fundus   \n",
       "2   laser spot，moderate non proliferative retinopathy   \n",
       "4                         macular epiretinal membrane   \n",
       "5              moderate non proliferative retinopathy   \n",
       "\n",
       "                 Right-Diagnostic Keywords  N  D  G  C  A  H  M  O  \\\n",
       "ID                                                                   \n",
       "0                            normal fundus  0  0  0  1  0  0  0  0   \n",
       "1                            normal fundus  1  0  0  0  0  0  0  0   \n",
       "2   moderate non proliferative retinopathy  0  1  0  0  0  0  0  1   \n",
       "4        mild nonproliferative retinopathy  0  1  0  0  0  0  0  1   \n",
       "5   moderate non proliferative retinopathy  0  1  0  0  0  0  0  0   \n",
       "\n",
       "                                             filepath labels  \\\n",
       "ID                                                             \n",
       "0   ../input/ocular-disease-recognition-odir5k/ODI...  ['N']   \n",
       "1   ../input/ocular-disease-recognition-odir5k/ODI...  ['N']   \n",
       "2   ../input/ocular-disease-recognition-odir5k/ODI...  ['D']   \n",
       "4   ../input/ocular-disease-recognition-odir5k/ODI...  ['D']   \n",
       "5   ../input/ocular-disease-recognition-odir5k/ODI...  ['D']   \n",
       "\n",
       "                      target     filename  \n",
       "ID                                         \n",
       "0   [1, 0, 0, 0, 0, 0, 0, 0]  0_right.jpg  \n",
       "1   [1, 0, 0, 0, 0, 0, 0, 0]  1_right.jpg  \n",
       "2   [0, 1, 0, 0, 0, 0, 0, 0]  2_right.jpg  \n",
       "4   [0, 1, 0, 0, 0, 0, 0, 0]  4_right.jpg  \n",
       "5   [0, 1, 0, 0, 0, 0, 0, 0]  5_right.jpg  "
      ]
     },
     "execution_count": 4,
     "metadata": {},
     "output_type": "execute_result"
    }
   ],
   "source": [
    "DIR = '../input/ocular-disease-recognition-odir5k'\n",
    "\n",
    "full_df = pd.read_csv(f'{DIR}/full_df.csv', index_col=0)\n",
    "\n",
    "full_df.head()"
   ]
  },
  {
   "cell_type": "markdown",
   "id": "9e5b7efe",
   "metadata": {
    "papermill": {
     "duration": 0.009268,
     "end_time": "2023-11-10T16:12:10.972862",
     "exception": false,
     "start_time": "2023-11-10T16:12:10.963594",
     "status": "completed"
    },
    "tags": []
   },
   "source": [
    "# Data Preprocessing"
   ]
  },
  {
   "cell_type": "code",
   "execution_count": 5,
   "id": "59944e9f",
   "metadata": {
    "execution": {
     "iopub.execute_input": "2023-11-10T16:12:10.993242Z",
     "iopub.status.busy": "2023-11-10T16:12:10.992912Z",
     "iopub.status.idle": "2023-11-10T16:12:11.011907Z",
     "shell.execute_reply": "2023-11-10T16:12:11.010901Z"
    },
    "papermill": {
     "duration": 0.03171,
     "end_time": "2023-11-10T16:12:11.013904",
     "exception": false,
     "start_time": "2023-11-10T16:12:10.982194",
     "status": "completed"
    },
    "tags": []
   },
   "outputs": [],
   "source": [
    "full_df['side'] = full_df['filename'].str[:-4].str.replace(r'\\d+_', '', regex=True)"
   ]
  },
  {
   "cell_type": "code",
   "execution_count": 6,
   "id": "ba1fab8f",
   "metadata": {
    "execution": {
     "iopub.execute_input": "2023-11-10T16:12:11.035274Z",
     "iopub.status.busy": "2023-11-10T16:12:11.034910Z",
     "iopub.status.idle": "2023-11-10T16:12:11.047753Z",
     "shell.execute_reply": "2023-11-10T16:12:11.046839Z"
    },
    "papermill": {
     "duration": 0.025932,
     "end_time": "2023-11-10T16:12:11.049734",
     "exception": false,
     "start_time": "2023-11-10T16:12:11.023802",
     "status": "completed"
    },
    "tags": []
   },
   "outputs": [],
   "source": [
    "image_dir = '../input/ocular-disease-recognition-odir5k/ODIR-5K/'\n",
    "full_df['filepath'] = full_df['filepath'].str.replace(image_dir, image_dir + 'ODIR-5K/')"
   ]
  },
  {
   "cell_type": "code",
   "execution_count": 7,
   "id": "0ec01c8d",
   "metadata": {
    "execution": {
     "iopub.execute_input": "2023-11-10T16:12:11.070703Z",
     "iopub.status.busy": "2023-11-10T16:12:11.070341Z",
     "iopub.status.idle": "2023-11-10T16:12:11.080364Z",
     "shell.execute_reply": "2023-11-10T16:12:11.079488Z"
    },
    "papermill": {
     "duration": 0.023016,
     "end_time": "2023-11-10T16:12:11.082656",
     "exception": false,
     "start_time": "2023-11-10T16:12:11.059640",
     "status": "completed"
    },
    "tags": []
   },
   "outputs": [],
   "source": [
    "age_intervals = [0, 20, 40, 60, 80, 100]\n",
    "age_labels = ['0-20', '21-40', '41-60', '61-80', '81+']\n",
    "full_df['Age Group'] = pd.cut(full_df['Patient Age'], bins=age_intervals, labels=age_labels, right=False)"
   ]
  },
  {
   "cell_type": "code",
   "execution_count": 8,
   "id": "d021800d",
   "metadata": {
    "execution": {
     "iopub.execute_input": "2023-11-10T16:12:11.103568Z",
     "iopub.status.busy": "2023-11-10T16:12:11.103216Z",
     "iopub.status.idle": "2023-11-10T16:12:11.112599Z",
     "shell.execute_reply": "2023-11-10T16:12:11.111727Z"
    },
    "papermill": {
     "duration": 0.022062,
     "end_time": "2023-11-10T16:12:11.114440",
     "exception": false,
     "start_time": "2023-11-10T16:12:11.092378",
     "status": "completed"
    },
    "tags": []
   },
   "outputs": [],
   "source": [
    "full_df['labels_text'] = full_df['labels'].apply(lambda x: x[2])\n",
    "full_df['target'] = np.where(full_df['labels_text'] == \"A\", 1, 0)"
   ]
  },
  {
   "cell_type": "code",
   "execution_count": 9,
   "id": "a2fb92cb",
   "metadata": {
    "execution": {
     "iopub.execute_input": "2023-11-10T16:12:11.134381Z",
     "iopub.status.busy": "2023-11-10T16:12:11.134066Z",
     "iopub.status.idle": "2023-11-10T16:12:11.143750Z",
     "shell.execute_reply": "2023-11-10T16:12:11.142752Z"
    },
    "papermill": {
     "duration": 0.021864,
     "end_time": "2023-11-10T16:12:11.145730",
     "exception": false,
     "start_time": "2023-11-10T16:12:11.123866",
     "status": "completed"
    },
    "tags": []
   },
   "outputs": [
    {
     "name": "stdout",
     "output_type": "stream",
     "text": [
      "AMD positive: 266\n",
      "AMD negative: 6126\n"
     ]
    }
   ],
   "source": [
    "print(\"AMD positive:\", len(full_df[full_df['target']==1]))\n",
    "print(\"AMD negative:\", len(full_df[full_df['target']==0]))"
   ]
  },
  {
   "cell_type": "markdown",
   "id": "dc4f64c7",
   "metadata": {
    "papermill": {
     "duration": 0.009308,
     "end_time": "2023-11-10T16:12:11.164627",
     "exception": false,
     "start_time": "2023-11-10T16:12:11.155319",
     "status": "completed"
    },
    "tags": []
   },
   "source": [
    "# Split Dataset"
   ]
  },
  {
   "cell_type": "code",
   "execution_count": 10,
   "id": "cd071b0c",
   "metadata": {
    "execution": {
     "iopub.execute_input": "2023-11-10T16:12:11.185520Z",
     "iopub.status.busy": "2023-11-10T16:12:11.184871Z",
     "iopub.status.idle": "2023-11-10T16:12:11.218997Z",
     "shell.execute_reply": "2023-11-10T16:12:11.218200Z"
    },
    "papermill": {
     "duration": 0.047529,
     "end_time": "2023-11-10T16:12:11.221630",
     "exception": false,
     "start_time": "2023-11-10T16:12:11.174101",
     "status": "completed"
    },
    "tags": []
   },
   "outputs": [],
   "source": [
    "right_df = full_df[full_df['side'] == 'right']\n",
    "left_df = full_df[full_df['side'] == 'left']\n",
    "\n",
    "# Fix data imbalance\n",
    "\n",
    "right_df_0 = right_df[right_df['target'] == 0]\n",
    "right_df_0 = right_df_0.sample(frac=0.25, random_state=42)\n",
    "right_df_1 = right_df[right_df['target'] == 1]\n",
    "\n",
    "left_df_0 = left_df[left_df['target'] == 0]\n",
    "left_df_0 = left_df_0.sample(frac=0.25, random_state=42)\n",
    "left_df_1 = left_df[left_df['target'] == 1]\n",
    "\n",
    "right_df = pd.concat([right_df_0, right_df_1])\n",
    "left_df = pd.concat([left_df_0, left_df_1])\n",
    "\n",
    "right_df = right_df.sample(frac=1, random_state=42)\n",
    "left_df = left_df.sample(frac=1, random_state=42)\n",
    "\n",
    "right_train, right_test = train_test_split(right_df, test_size=0.2, random_state=42)\n",
    "left_train, left_test = train_test_split(left_df, test_size=0.2, random_state=42)\n",
    "\n",
    "train_df = pd.concat([right_train, left_train])\n",
    "valid_df = pd.concat([right_test, left_test])"
   ]
  },
  {
   "cell_type": "markdown",
   "id": "b25c5d31",
   "metadata": {
    "papermill": {
     "duration": 0.009313,
     "end_time": "2023-11-10T16:12:11.241663",
     "exception": false,
     "start_time": "2023-11-10T16:12:11.232350",
     "status": "completed"
    },
    "tags": []
   },
   "source": [
    "# Prepare Dataset and Dataloader"
   ]
  },
  {
   "cell_type": "code",
   "execution_count": 11,
   "id": "8a780586",
   "metadata": {
    "execution": {
     "iopub.execute_input": "2023-11-10T16:12:11.263376Z",
     "iopub.status.busy": "2023-11-10T16:12:11.262748Z",
     "iopub.status.idle": "2023-11-10T16:12:11.273605Z",
     "shell.execute_reply": "2023-11-10T16:12:11.272669Z"
    },
    "papermill": {
     "duration": 0.023967,
     "end_time": "2023-11-10T16:12:11.275583",
     "exception": false,
     "start_time": "2023-11-10T16:12:11.251616",
     "status": "completed"
    },
    "tags": []
   },
   "outputs": [],
   "source": [
    "class EyeDataset(Dataset):\n",
    "    def __init__(self, df, data_transform = None):\n",
    "        self.df = df\n",
    "        self.data_transform = data_transform\n",
    "        self.transform = T.Compose([\n",
    "            T.Resize([224, 224]),\n",
    "            T.ToTensor(),\n",
    "            T.Normalize((0.485, 0.456, 0.406),\n",
    "                       (0.229, 0.224, 0.225))\n",
    "        ])\n",
    "    \n",
    "    def __len__(self):\n",
    "        return len(self.df)\n",
    "    \n",
    "    def __getitem__(self, idx):\n",
    "        filepath = self.df.iloc[idx]['filepath']\n",
    "        image = cv.imread(filepath)\n",
    "        image = cv.cvtColor(image, cv.COLOR_BGR2GRAY)\n",
    "        _, thresholded = cv.threshold(image, 0, 255, cv.THRESH_OTSU)\n",
    "        x, y, w, h = cv.boundingRect(thresholded)\n",
    "        cropped_image = cv.cvtColor(image[y:y+h, x:x+w], cv.COLOR_GRAY2RGB)\n",
    "        cropped_image = Image.fromarray(cropped_image)\n",
    "        target = self.df.iloc[idx]['target']\n",
    "        \n",
    "        return cropped_image, target\n",
    "    \n",
    "    def transform_img(self, img):\n",
    "        return self.transform(img)\n",
    "    \n",
    "    def collate_fn(self, data):\n",
    "        imgs, targets = zip(*data)\n",
    "        targets = torch.tensor(targets)\n",
    "        targets = targets.view(-1, 1).float()\n",
    "        targets = targets.to(device)\n",
    "        imgs = torch.stack(\n",
    "            [self.transform_img(img) for img in imgs], 0\n",
    "        ).to(device)\n",
    "        return imgs, targets"
   ]
  },
  {
   "cell_type": "code",
   "execution_count": 12,
   "id": "96ad77dc",
   "metadata": {
    "execution": {
     "iopub.execute_input": "2023-11-10T16:12:11.295823Z",
     "iopub.status.busy": "2023-11-10T16:12:11.295518Z",
     "iopub.status.idle": "2023-11-10T16:12:11.300878Z",
     "shell.execute_reply": "2023-11-10T16:12:11.300040Z"
    },
    "papermill": {
     "duration": 0.017965,
     "end_time": "2023-11-10T16:12:11.303261",
     "exception": false,
     "start_time": "2023-11-10T16:12:11.285296",
     "status": "completed"
    },
    "tags": []
   },
   "outputs": [],
   "source": [
    "data_transforms = T.Compose([\n",
    "    T.RandomHorizontalFlip(),\n",
    "    T.RandomRotation(15),\n",
    "    T.ColorJitter(brightness=0.2, contrast=0.2, saturation=0.2, hue=0.1),\n",
    "    T.RandomResizedCrop(224, scale=(0.8, 1.0))\n",
    "])"
   ]
  },
  {
   "cell_type": "code",
   "execution_count": 13,
   "id": "dd8eaeeb",
   "metadata": {
    "execution": {
     "iopub.execute_input": "2023-11-10T16:12:11.328126Z",
     "iopub.status.busy": "2023-11-10T16:12:11.327421Z",
     "iopub.status.idle": "2023-11-10T16:12:11.334539Z",
     "shell.execute_reply": "2023-11-10T16:12:11.332652Z"
    },
    "papermill": {
     "duration": 0.022071,
     "end_time": "2023-11-10T16:12:11.337599",
     "exception": false,
     "start_time": "2023-11-10T16:12:11.315528",
     "status": "completed"
    },
    "tags": []
   },
   "outputs": [],
   "source": [
    "train_ds = EyeDataset(train_df)\n",
    "train_dl = DataLoader(train_ds, batch_size=32, shuffle=True,\n",
    "                      collate_fn=train_ds.collate_fn, \n",
    "                      drop_last=True)\n",
    "\n",
    "valid_ds = EyeDataset(valid_df)\n",
    "valid_dl = DataLoader(valid_ds, batch_size=32,\n",
    "                      collate_fn=valid_ds.collate_fn)"
   ]
  },
  {
   "cell_type": "code",
   "execution_count": 14,
   "id": "b3ef80f9",
   "metadata": {
    "execution": {
     "iopub.execute_input": "2023-11-10T16:12:11.364260Z",
     "iopub.status.busy": "2023-11-10T16:12:11.363430Z",
     "iopub.status.idle": "2023-11-10T16:12:11.370437Z",
     "shell.execute_reply": "2023-11-10T16:12:11.368857Z"
    },
    "papermill": {
     "duration": 0.022097,
     "end_time": "2023-11-10T16:12:11.373054",
     "exception": false,
     "start_time": "2023-11-10T16:12:11.350957",
     "status": "completed"
    },
    "tags": []
   },
   "outputs": [
    {
     "name": "stdout",
     "output_type": "stream",
     "text": [
      "Size of Train: 1436\n",
      "Size of Validation: 361\n"
     ]
    }
   ],
   "source": [
    "print('Size of Train:', len(train_ds))\n",
    "print('Size of Validation:', len(valid_ds))"
   ]
  },
  {
   "cell_type": "markdown",
   "id": "bfbeb509",
   "metadata": {
    "papermill": {
     "duration": 0.011223,
     "end_time": "2023-11-10T16:12:11.397902",
     "exception": false,
     "start_time": "2023-11-10T16:12:11.386679",
     "status": "completed"
    },
    "tags": []
   },
   "source": [
    "# Model"
   ]
  },
  {
   "cell_type": "code",
   "execution_count": 15,
   "id": "b17d979b",
   "metadata": {
    "execution": {
     "iopub.execute_input": "2023-11-10T16:12:11.419535Z",
     "iopub.status.busy": "2023-11-10T16:12:11.419062Z",
     "iopub.status.idle": "2023-11-10T16:12:11.428762Z",
     "shell.execute_reply": "2023-11-10T16:12:11.427761Z"
    },
    "papermill": {
     "duration": 0.023878,
     "end_time": "2023-11-10T16:12:11.431612",
     "exception": false,
     "start_time": "2023-11-10T16:12:11.407734",
     "status": "completed"
    },
    "tags": []
   },
   "outputs": [],
   "source": [
    "class EyeClassifier(nn.Module):\n",
    "    def __init__(self, pretrained=True):\n",
    "        super().__init__()\n",
    "        self.model = models.resnet34(pretrained=pretrained, progress=pretrained)\n",
    "        for param in self.model.parameters():\n",
    "            param.requires_grad = True\n",
    "            \n",
    "        num_features = self.model.fc.in_features\n",
    "        self.model.fc = nn.Sequential(\n",
    "            nn.Flatten(),\n",
    "            nn.BatchNorm1d(num_features),\n",
    "            nn.Dropout(0.5),\n",
    "            nn.Linear(num_features, 1),\n",
    "            nn.Sigmoid()\n",
    "        )\n",
    "        \n",
    "    def forward(self, x):\n",
    "        x = self.model(x)\n",
    "        return x"
   ]
  },
  {
   "cell_type": "code",
   "execution_count": 16,
   "id": "4aab60cd",
   "metadata": {
    "execution": {
     "iopub.execute_input": "2023-11-10T16:12:11.461561Z",
     "iopub.status.busy": "2023-11-10T16:12:11.461155Z",
     "iopub.status.idle": "2023-11-10T16:12:21.799667Z",
     "shell.execute_reply": "2023-11-10T16:12:21.798509Z"
    },
    "papermill": {
     "duration": 10.356116,
     "end_time": "2023-11-10T16:12:21.801884",
     "exception": false,
     "start_time": "2023-11-10T16:12:11.445768",
     "status": "completed"
    },
    "tags": []
   },
   "outputs": [
    {
     "name": "stderr",
     "output_type": "stream",
     "text": [
      "/opt/conda/lib/python3.10/site-packages/torchvision/models/_utils.py:208: UserWarning: The parameter 'pretrained' is deprecated since 0.13 and may be removed in the future, please use 'weights' instead.\n",
      "  warnings.warn(\n",
      "/opt/conda/lib/python3.10/site-packages/torchvision/models/_utils.py:223: UserWarning: Arguments other than a weight enum or `None` for 'weights' are deprecated since 0.13 and may be removed in the future. The current behavior is equivalent to passing `weights=ResNet34_Weights.IMAGENET1K_V1`. You can also use `weights=ResNet34_Weights.DEFAULT` to get the most up-to-date weights.\n",
      "  warnings.warn(msg)\n",
      "Downloading: \"https://download.pytorch.org/models/resnet34-b627a593.pth\" to /root/.cache/torch/hub/checkpoints/resnet34-b627a593.pth\n",
      "100%|██████████| 83.3M/83.3M [00:01<00:00, 60.3MB/s]\n"
     ]
    },
    {
     "name": "stdout",
     "output_type": "stream",
     "text": [
      "==========================================================================================\n",
      "Layer (type:depth-idx)                   Output Shape              Param #\n",
      "==========================================================================================\n",
      "├─ResNet: 1-1                            [-1, 1]                   --\n",
      "|    └─Conv2d: 2-1                       [-1, 64, 112, 112]        9,408\n",
      "|    └─BatchNorm2d: 2-2                  [-1, 64, 112, 112]        128\n",
      "|    └─ReLU: 2-3                         [-1, 64, 112, 112]        --\n",
      "|    └─MaxPool2d: 2-4                    [-1, 64, 56, 56]          --\n",
      "|    └─Sequential: 2-5                   [-1, 64, 56, 56]          --\n",
      "|    |    └─BasicBlock: 3-1              [-1, 64, 56, 56]          73,984\n",
      "|    |    └─BasicBlock: 3-2              [-1, 64, 56, 56]          73,984\n",
      "|    |    └─BasicBlock: 3-3              [-1, 64, 56, 56]          73,984\n",
      "|    └─Sequential: 2-6                   [-1, 128, 28, 28]         --\n",
      "|    |    └─BasicBlock: 3-4              [-1, 128, 28, 28]         230,144\n",
      "|    |    └─BasicBlock: 3-5              [-1, 128, 28, 28]         295,424\n",
      "|    |    └─BasicBlock: 3-6              [-1, 128, 28, 28]         295,424\n",
      "|    |    └─BasicBlock: 3-7              [-1, 128, 28, 28]         295,424\n",
      "|    └─Sequential: 2-7                   [-1, 256, 14, 14]         --\n",
      "|    |    └─BasicBlock: 3-8              [-1, 256, 14, 14]         919,040\n",
      "|    |    └─BasicBlock: 3-9              [-1, 256, 14, 14]         1,180,672\n",
      "|    |    └─BasicBlock: 3-10             [-1, 256, 14, 14]         1,180,672\n",
      "|    |    └─BasicBlock: 3-11             [-1, 256, 14, 14]         1,180,672\n",
      "|    |    └─BasicBlock: 3-12             [-1, 256, 14, 14]         1,180,672\n",
      "|    |    └─BasicBlock: 3-13             [-1, 256, 14, 14]         1,180,672\n",
      "|    └─Sequential: 2-8                   [-1, 512, 7, 7]           --\n",
      "|    |    └─BasicBlock: 3-14             [-1, 512, 7, 7]           3,673,088\n",
      "|    |    └─BasicBlock: 3-15             [-1, 512, 7, 7]           4,720,640\n",
      "|    |    └─BasicBlock: 3-16             [-1, 512, 7, 7]           4,720,640\n",
      "|    └─AdaptiveAvgPool2d: 2-9            [-1, 512, 1, 1]           --\n",
      "|    └─Sequential: 2-10                  [-1, 1]                   --\n",
      "|    |    └─Flatten: 3-17                [-1, 512]                 --\n",
      "|    |    └─BatchNorm1d: 3-18            [-1, 512]                 1,024\n",
      "|    |    └─Dropout: 3-19                [-1, 512]                 --\n",
      "|    |    └─Linear: 3-20                 [-1, 1]                   513\n",
      "|    |    └─Sigmoid: 3-21                [-1, 1]                   --\n",
      "==========================================================================================\n",
      "Total params: 21,286,209\n",
      "Trainable params: 21,286,209\n",
      "Non-trainable params: 0\n",
      "Total mult-adds (G): 3.71\n",
      "==========================================================================================\n",
      "Input size (MB): 0.57\n",
      "Forward/backward pass size (MB): 54.36\n",
      "Params size (MB): 81.20\n",
      "Estimated Total Size (MB): 136.14\n",
      "==========================================================================================\n"
     ]
    }
   ],
   "source": [
    "classifier = EyeClassifier(pretrained=True)\n",
    "_ = summary(classifier, torch.ones(1,3,224,224))"
   ]
  },
  {
   "cell_type": "markdown",
   "id": "5f548663",
   "metadata": {
    "papermill": {
     "duration": 0.011013,
     "end_time": "2023-11-10T16:12:21.824167",
     "exception": false,
     "start_time": "2023-11-10T16:12:21.813154",
     "status": "completed"
    },
    "tags": []
   },
   "source": [
    "# Define Train and Validate Functions"
   ]
  },
  {
   "cell_type": "code",
   "execution_count": 17,
   "id": "7dcc067f",
   "metadata": {
    "execution": {
     "iopub.execute_input": "2023-11-10T16:12:21.848297Z",
     "iopub.status.busy": "2023-11-10T16:12:21.847420Z",
     "iopub.status.idle": "2023-11-10T16:12:21.852923Z",
     "shell.execute_reply": "2023-11-10T16:12:21.851906Z"
    },
    "papermill": {
     "duration": 0.019646,
     "end_time": "2023-11-10T16:12:21.854932",
     "exception": false,
     "start_time": "2023-11-10T16:12:21.835286",
     "status": "completed"
    },
    "tags": []
   },
   "outputs": [],
   "source": [
    "def crop_image(image):\n",
    "    _, thresholded = cv.threshold(image, 0, 255, cv.THRESH_OTSU)\n",
    "    x, y, w, h = cv.boundingRect(thresholded)\n",
    "    return image[y:y+h, x:x+w]"
   ]
  },
  {
   "cell_type": "code",
   "execution_count": 18,
   "id": "a4966176",
   "metadata": {
    "execution": {
     "iopub.execute_input": "2023-11-10T16:12:21.878322Z",
     "iopub.status.busy": "2023-11-10T16:12:21.878023Z",
     "iopub.status.idle": "2023-11-10T16:12:21.886371Z",
     "shell.execute_reply": "2023-11-10T16:12:21.885487Z"
    },
    "papermill": {
     "duration": 0.022354,
     "end_time": "2023-11-10T16:12:21.888329",
     "exception": false,
     "start_time": "2023-11-10T16:12:21.865975",
     "status": "completed"
    },
    "tags": []
   },
   "outputs": [],
   "source": [
    "def train(data, classifier, optimizer, loss_fn):\n",
    "    classifier.train()\n",
    "    imgs, targets = data\n",
    "    outputs = classifier(imgs.to(device))\n",
    "    loss = loss_fn(outputs.to(device), targets.to(device))\n",
    "    optimizer.zero_grad()\n",
    "    loss.backward()\n",
    "    optimizer.step()\n",
    "    \n",
    "    outputs = outputs.cpu().detach().tolist()\n",
    "    targets = targets.cpu().detach().tolist()\n",
    "    preds = list(map(lambda x: int(x[0] > 0.5), outputs))\n",
    "    \n",
    "    fake_recall_score = recall_score(targets, preds, pos_label=0,zero_division=0)\n",
    "    fake_accuracy_score = accuracy_score(targets, preds)\n",
    "    fake_precision_score = precision_score(targets, preds, pos_label=0,zero_division=0)\n",
    "    fake_f1_score = f1_score(targets, preds, pos_label=0,zero_division=0)\n",
    "    fpr, tpr, thresholds = roc_curve(targets, outputs)\n",
    "    roc_auc = auc(fpr, tpr)\n",
    "    \n",
    "    return loss.cpu().detach().item(), fake_recall_score, fake_accuracy_score, fake_precision_score, fake_f1_score, fpr, tpr, roc_auc"
   ]
  },
  {
   "cell_type": "code",
   "execution_count": 19,
   "id": "57aceb02",
   "metadata": {
    "execution": {
     "iopub.execute_input": "2023-11-10T16:12:21.912623Z",
     "iopub.status.busy": "2023-11-10T16:12:21.912248Z",
     "iopub.status.idle": "2023-11-10T16:12:21.920779Z",
     "shell.execute_reply": "2023-11-10T16:12:21.919859Z"
    },
    "papermill": {
     "duration": 0.023102,
     "end_time": "2023-11-10T16:12:21.922713",
     "exception": false,
     "start_time": "2023-11-10T16:12:21.899611",
     "status": "completed"
    },
    "tags": []
   },
   "outputs": [],
   "source": [
    "@torch.no_grad()\n",
    "def validate(data, classifier, loss_fn):\n",
    "    classifier.eval()\n",
    "    imgs, targets = data\n",
    "    outputs = classifier(imgs.to(device))\n",
    "    loss = loss_fn(outputs.to(device), targets.to(device))\n",
    "    \n",
    "    outputs = outputs.cpu().detach().tolist()\n",
    "    targets = targets.cpu().detach().tolist()\n",
    "    preds = list(map(lambda x: int(x[0] > 0.5), outputs))\n",
    "    fake_recall_score = recall_score(targets, preds, pos_label=0, zero_division=0)\n",
    "    fake_accuracy_score = accuracy_score(targets, preds)\n",
    "    fake_precision_score = precision_score(targets, preds, pos_label=0,zero_division=0)\n",
    "    fake_f1_score = f1_score(targets, preds, pos_label=0,zero_division=0)\n",
    "    fpr, tpr, thresholds = roc_curve(targets, outputs)\n",
    "    roc_auc = auc(fpr, tpr)\n",
    "    \n",
    "    return loss.cpu().detach().item(), fake_recall_score, fake_accuracy_score, fake_precision_score, fake_f1_score, fpr, tpr, roc_auc"
   ]
  },
  {
   "cell_type": "markdown",
   "id": "61fd23ce",
   "metadata": {
    "papermill": {
     "duration": 0.010987,
     "end_time": "2023-11-10T16:12:21.944697",
     "exception": false,
     "start_time": "2023-11-10T16:12:21.933710",
     "status": "completed"
    },
    "tags": []
   },
   "source": [
    "# Training Model"
   ]
  },
  {
   "cell_type": "code",
   "execution_count": 20,
   "id": "490fad54",
   "metadata": {
    "execution": {
     "iopub.execute_input": "2023-11-10T16:12:22.020451Z",
     "iopub.status.busy": "2023-11-10T16:12:22.020093Z",
     "iopub.status.idle": "2023-11-10T16:12:22.477806Z",
     "shell.execute_reply": "2023-11-10T16:12:22.476997Z"
    },
    "papermill": {
     "duration": 0.472397,
     "end_time": "2023-11-10T16:12:22.480099",
     "exception": false,
     "start_time": "2023-11-10T16:12:22.007702",
     "status": "completed"
    },
    "tags": []
   },
   "outputs": [],
   "source": [
    "classifier = EyeClassifier(pretrained=True).to(device)\n",
    "loss_fn = nn.BCELoss().to(device)\n",
    "optimizer = optim.Adam(classifier.parameters(), lr=1e-4, weight_decay=1e-4)\n",
    "scheduler = optim.lr_scheduler.StepLR(optimizer, step_size=3,\n",
    "                                      gamma=0.25)\n",
    "best_recall_score = 0\n",
    "n_epochs = 10\n",
    "xticks = list(i+1 for i in range(n_epochs))"
   ]
  },
  {
   "cell_type": "code",
   "execution_count": 21,
   "id": "185790c2",
   "metadata": {
    "execution": {
     "iopub.execute_input": "2023-11-10T16:12:22.504321Z",
     "iopub.status.busy": "2023-11-10T16:12:22.503950Z",
     "iopub.status.idle": "2023-11-10T16:37:01.131551Z",
     "shell.execute_reply": "2023-11-10T16:37:01.130661Z"
    },
    "papermill": {
     "duration": 1478.64522,
     "end_time": "2023-11-10T16:37:01.136648",
     "exception": false,
     "start_time": "2023-11-10T16:12:22.491428",
     "status": "completed"
    },
    "tags": []
   },
   "outputs": [
    {
     "data": {
      "application/vnd.jupyter.widget-view+json": {
       "model_id": "9b375d7736d7492daca17b7f32d810b7",
       "version_major": 2,
       "version_minor": 0
      },
      "text/plain": [
       "Training:   0%|          | 0/10 [00:00<?, ?it/s]"
      ]
     },
     "metadata": {},
     "output_type": "display_data"
    },
    {
     "name": "stdout",
     "output_type": "stream",
     "text": [
      "epoch: 1 \ttrain loss: 0.701 \ttrain recall score: 0.597 \ttrain accuracy score: 0.604 \ttrain precision score: 0.906 \ttrain f1 score: 0.715 \ttrain auc: 0.686 \tvalid loss: 0.454 \tvalid recall score: 0.891 \tvalid accuracy score: 0.840 \tvalid precision score: 0.920 \tvalid f1 score: 0.903 \tvalid auc: 0.784\n",
      "epoch: 2 \ttrain loss: 0.470 \ttrain recall score: 0.828 \ttrain accuracy score: 0.829 \ttrain precision score: 0.968 \ttrain f1 score: 0.889 \ttrain auc: 0.909 \tvalid loss: 0.747 \tvalid recall score: 0.866 \tvalid accuracy score: 0.838 \tvalid precision score: 0.938 \tvalid f1 score: 0.900 \tvalid auc: 0.810\n",
      "epoch: 2.159 \ttrain loss: 0.223 \ttrain recall score: 0.897 \ttrain accuracy score: 0.906 \ttrain precision score: 1.000 \ttrain f1 score: 0.945 \ttrain auc: 1.000\r"
     ]
    },
    {
     "name": "stderr",
     "output_type": "stream",
     "text": [
      "/opt/conda/lib/python3.10/site-packages/sklearn/metrics/_ranking.py:1029: UndefinedMetricWarning: No positive samples in y_true, true positive value should be meaningless\n",
      "  warnings.warn(\n"
     ]
    },
    {
     "name": "stdout",
     "output_type": "stream",
     "text": [
      "epoch: 3 \ttrain loss: 0.341 \ttrain recall score: 0.921 \ttrain accuracy score: 0.903 \ttrain precision score: 0.968 \ttrain f1 score: 0.941 \ttrain auc: 0.954 \tvalid loss: 1.788 \tvalid recall score: 0.774 \tvalid accuracy score: 0.764 \tvalid precision score: 0.941 \tvalid f1 score: 0.845 \tvalid auc: 0.809\n",
      "epoch: 4 \ttrain loss: 0.191 \ttrain recall score: 0.974 \ttrain accuracy score: 0.960 \ttrain precision score: 0.982 \ttrain f1 score: 0.976 \ttrain auc: 0.989 \tvalid loss: 0.615 \tvalid recall score: 0.964 \tvalid accuracy score: 0.894 \tvalid precision score: 0.917 \tvalid f1 score: 0.939 \tvalid auc: 0.821\n",
      "epoch: 4.114 \ttrain loss: 0.087 \ttrain recall score: 1.000 \ttrain accuracy score: 1.000 \ttrain precision score: 1.000 \ttrain f1 score: 1.000 \ttrain auc: 1.000\r"
     ]
    },
    {
     "name": "stderr",
     "output_type": "stream",
     "text": [
      "/opt/conda/lib/python3.10/site-packages/sklearn/metrics/_ranking.py:1029: UndefinedMetricWarning: No positive samples in y_true, true positive value should be meaningless\n",
      "  warnings.warn(\n"
     ]
    },
    {
     "name": "stdout",
     "output_type": "stream",
     "text": [
      "epoch: 4.705 \ttrain loss: 0.066 \ttrain recall score: 1.000 \ttrain accuracy score: 1.000 \ttrain precision score: 1.000 \ttrain f1 score: 1.000 \ttrain auc: 1.000\r"
     ]
    },
    {
     "name": "stderr",
     "output_type": "stream",
     "text": [
      "/opt/conda/lib/python3.10/site-packages/sklearn/metrics/_ranking.py:1029: UndefinedMetricWarning: No positive samples in y_true, true positive value should be meaningless\n",
      "  warnings.warn(\n"
     ]
    },
    {
     "name": "stdout",
     "output_type": "stream",
     "text": [
      "epoch: 5 \ttrain loss: 0.154 \ttrain recall score: 0.975 \ttrain accuracy score: 0.967 \ttrain precision score: 0.989 \ttrain f1 score: 0.979 \ttrain auc: 0.999 \tvalid loss: 0.639 \tvalid recall score: 0.937 \tvalid accuracy score: 0.888 \tvalid precision score: 0.932 \tvalid f1 score: 0.933 \tvalid auc: 0.837\n",
      "epoch: 6 \ttrain loss: 0.097 \ttrain recall score: 0.993 \ttrain accuracy score: 0.987 \ttrain precision score: 0.991 \ttrain f1 score: 0.992 \ttrain auc: 0.999 \tvalid loss: 0.587 \tvalid recall score: 0.952 \tvalid accuracy score: 0.888 \tvalid precision score: 0.918 \tvalid f1 score: 0.934 \tvalid auc: 0.830\n",
      "epoch: 7 \ttrain loss: 0.083 \ttrain recall score: 0.991 \ttrain accuracy score: 0.989 \ttrain precision score: 0.997 \ttrain f1 score: 0.993 \ttrain auc: 1.000 \tvalid loss: 0.570 \tvalid recall score: 0.970 \tvalid accuracy score: 0.886 \tvalid precision score: 0.903 \tvalid f1 score: 0.935 \tvalid auc: 0.830\n",
      "epoch: 8 \ttrain loss: 0.068 \ttrain recall score: 0.997 \ttrain accuracy score: 0.994 \ttrain precision score: 0.996 \ttrain f1 score: 0.996 \ttrain auc: 1.000 \tvalid loss: 0.630 \tvalid recall score: 0.943 \tvalid accuracy score: 0.893 \tvalid precision score: 0.932 \tvalid f1 score: 0.937 \tvalid auc: 0.838\n",
      "epoch: 8.159 \ttrain loss: 0.022 \ttrain recall score: 1.000 \ttrain accuracy score: 1.000 \ttrain precision score: 1.000 \ttrain f1 score: 1.000 \ttrain auc: 1.000\r"
     ]
    },
    {
     "name": "stderr",
     "output_type": "stream",
     "text": [
      "/opt/conda/lib/python3.10/site-packages/sklearn/metrics/_ranking.py:1029: UndefinedMetricWarning: No positive samples in y_true, true positive value should be meaningless\n",
      "  warnings.warn(\n"
     ]
    },
    {
     "name": "stdout",
     "output_type": "stream",
     "text": [
      "epoch: 9 \ttrain loss: 0.104 \ttrain recall score: 0.984 \ttrain accuracy score: 0.981 \ttrain precision score: 0.996 \ttrain f1 score: 0.989 \ttrain auc: 1.000 \tvalid loss: 0.608 \tvalid recall score: 0.946 \tvalid accuracy score: 0.893 \tvalid precision score: 0.929 \tvalid f1 score: 0.937 \tvalid auc: 0.841\n",
      "epoch: 10 \ttrain loss: 0.098 \ttrain recall score: 0.976 \ttrain accuracy score: 0.974 \ttrain precision score: 0.996 \ttrain f1 score: 0.985 \ttrain auc: 0.999 \tvalid loss: 0.585 \tvalid recall score: 0.982 \tvalid accuracy score: 0.898 \tvalid precision score: 0.908 \tvalid f1 score: 0.942 \tvalid auc: 0.842\n"
     ]
    }
   ],
   "source": [
    "mem = {\n",
    "    'train_loss': [],\n",
    "    'train_recall_score': [],\n",
    "    'train_accuracy_score': [],\n",
    "    'train_precision_score': [],\n",
    "    'train_f1_score': [],\n",
    "    'train_tpr': [],\n",
    "    'train_fpr': [],\n",
    "    'train_auc': [],\n",
    "    'valid_loss': [],\n",
    "    'valid_recall_score': [],\n",
    "    'valid_accuracy_score': [],\n",
    "    'valid_precision_score': [],\n",
    "    'valid_f1_score': [],\n",
    "    'valid_tpr': [],\n",
    "    'valid_fpr': [],\n",
    "    'valid_auc': [],\n",
    "}\n",
    "\n",
    "for epoch in tqdm(range(n_epochs), desc='Training'):\n",
    "    n_batch = len(train_dl)\n",
    "    train_losses, train_recall_scores, train_accuracy_scores, train_precision_scores, train_f1_scores, train_tprs, train_fprs, train_aucs = [], [], [], [], [], [], [], []\n",
    "    for i, data in enumerate(train_dl):\n",
    "        train_loss, train_recall_score, train_accuracy_score, train_precision_score, train_f1_score, train_tpr, train_fpr, train_auc = train(data, classifier, optimizer, loss_fn)\n",
    "        train_losses.append(train_loss)\n",
    "        train_recall_scores.append(train_recall_score)\n",
    "        train_accuracy_scores.append(train_accuracy_score)\n",
    "        train_precision_scores.append(train_precision_score)\n",
    "        train_f1_scores.append(train_f1_score)\n",
    "        train_tprs.append(train_tpr)\n",
    "        train_fprs.append(train_fpr)\n",
    "        if not np.isnan(train_auc):\n",
    "            train_aucs.append(train_auc)\n",
    "        pos = epoch + ((i+1)/n_batch)\n",
    "        print(\n",
    "            'epoch:', \"%.3f\" % pos,\n",
    "            '\\ttrain loss:', \"%.3f\" % train_loss,\n",
    "            '\\ttrain recall score:', \"%.3f\" % train_recall_score, \n",
    "            '\\ttrain accuracy score:', \"%.3f\" % train_accuracy_score, \n",
    "            '\\ttrain precision score:', \"%.3f\" % train_precision_score, \n",
    "            '\\ttrain f1 score:', \"%.3f\" % train_f1_score, \n",
    "            '\\ttrain auc:', \"%.3f\" % train_auc, \n",
    "            end='\\r'\n",
    "        )\n",
    "        \n",
    "    mem['train_loss'].append(np.mean(train_losses))\n",
    "    mem['train_recall_score'].append(np.mean(train_recall_scores))\n",
    "    mem['train_accuracy_score'].append(np.mean(train_accuracy_scores))\n",
    "    mem['train_precision_score'].append(np.mean(train_precision_scores))\n",
    "    mem['train_f1_score'].append(np.mean(train_f1_scores))\n",
    "    mem['train_tpr'].append(np.concatenate(train_fprs))\n",
    "    mem['train_fpr'].append(np.concatenate(train_tprs))\n",
    "    mem['train_auc'].append(np.mean(train_aucs))\n",
    "    \n",
    "    n_batch = len(valid_dl)\n",
    "    valid_losses, valid_recall_scores, valid_f1_scores, valid_accuracy_scores, valid_precision_scores, valid_tprs, valid_fprs, valid_aucs =  [], [], [], [], [], [], [], []\n",
    "    for i, data in enumerate(valid_dl):\n",
    "        valid_loss, valid_recall_score, valid_accuracy_score, valid_precision_score, valid_f1_score, valid_tpr, valid_fpr, valid_auc = validate(data, classifier, loss_fn)\n",
    "        valid_losses.append(valid_loss)\n",
    "        valid_recall_scores.append(valid_recall_score)\n",
    "        valid_accuracy_scores.append(valid_accuracy_score)\n",
    "        valid_precision_scores.append(valid_precision_score)\n",
    "        valid_f1_scores.append(valid_f1_score)\n",
    "        valid_tprs.append(valid_tpr)\n",
    "        valid_fprs.append(valid_fpr)\n",
    "        valid_aucs.append(valid_auc)\n",
    "        pos = epoch + ((i+1)/n_batch)\n",
    "        print(\n",
    "            'epoch:', \"%.3f\" % pos,\n",
    "            '\\tvalid loss:', \"%.3f\" % valid_loss,\n",
    "            '\\tvalid recall score:', \"%.3f\" % valid_recall_score, \n",
    "            '\\tvalid accuracy score:', \"%.3f\" % valid_accuracy_score, \n",
    "            '\\tvalid precision score:', \"%.3f\" % valid_precision_score, \n",
    "            '\\tvalid f1 score:', \"%.3f\" % valid_f1_score, \n",
    "            '\\tvalid auc:', \"%.3f\" % valid_auc, \n",
    "            end='\\r'\n",
    "        )\n",
    "    \n",
    "    cur_recall_score = np.mean(valid_recall_scores)\n",
    "    mem['valid_loss'].append(np.mean(valid_losses))\n",
    "    mem['valid_recall_score'].append(np.mean(valid_recall_scores))\n",
    "    mem['valid_accuracy_score'].append(np.mean(valid_accuracy_scores))\n",
    "    mem['valid_precision_score'].append(np.mean(valid_precision_scores))\n",
    "    mem['valid_f1_score'].append(np.mean(valid_f1_scores))\n",
    "    mem['valid_tpr'].append(np.concatenate(valid_fprs))\n",
    "    mem['valid_fpr'].append(np.concatenate(valid_tprs))\n",
    "    mem['valid_auc'].append(np.mean(valid_aucs))\n",
    "    \n",
    "    print(\n",
    "        'epoch:', epoch+1,\n",
    "        '\\ttrain loss:', \"%.3f\" % mem['train_loss'][-1],\n",
    "        '\\ttrain recall score:', \"%.3f\" % mem['train_recall_score'][-1],\n",
    "        '\\ttrain accuracy score:', \"%.3f\" % mem['train_accuracy_score'][-1],\n",
    "        '\\ttrain precision score:', \"%.3f\" % mem['train_precision_score'][-1],\n",
    "        '\\ttrain f1 score:', \"%.3f\" % mem['train_f1_score'][-1],\n",
    "        '\\ttrain auc:', \"%.3f\" % mem['train_auc'][-1],\n",
    "        '\\tvalid loss:', \"%.3f\" % mem['valid_loss'][-1],\n",
    "        '\\tvalid recall score:', \"%.3f\" % mem['valid_recall_score'][-1],\n",
    "        '\\tvalid accuracy score:', \"%.3f\" % mem['valid_accuracy_score'][-1],\n",
    "        '\\tvalid precision score:', \"%.3f\" % mem['valid_precision_score'][-1],\n",
    "        '\\tvalid f1 score:', \"%.3f\" % mem['valid_f1_score'][-1],\n",
    "        '\\tvalid auc:', \"%.3f\" % mem['valid_auc'][-1],\n",
    "    )\n",
    "    \n",
    "    if epoch > 5 and best_recall_score < cur_recall_score:\n",
    "        best_recall_score = cur_recall_score\n",
    "        torch.save(classifier.state_dict(), './saved_model/amd_state_dict.pth')\n",
    "        torch.save(classifier, './saved_model/amd_model.pth')\n",
    "        \n",
    "    scheduler.step()"
   ]
  },
  {
   "cell_type": "code",
   "execution_count": 22,
   "id": "f550f734",
   "metadata": {
    "execution": {
     "iopub.execute_input": "2023-11-10T16:37:01.245684Z",
     "iopub.status.busy": "2023-11-10T16:37:01.245324Z",
     "iopub.status.idle": "2023-11-10T16:37:01.630209Z",
     "shell.execute_reply": "2023-11-10T16:37:01.629355Z"
    },
    "papermill": {
     "duration": 0.440826,
     "end_time": "2023-11-10T16:37:01.632238",
     "exception": false,
     "start_time": "2023-11-10T16:37:01.191412",
     "status": "completed"
    },
    "tags": []
   },
   "outputs": [
    {
     "data": {
      "image/png": "[encoded data removed]",
      "text/plain": [
       "<Figure size 640x480 with 1 Axes>"
      ]
     },
     "metadata": {},
     "output_type": "display_data"
    }
   ],
   "source": [
    "plt.plot(xticks, mem['train_loss'])\n",
    "plt.plot(xticks, mem['valid_loss'])\n",
    "plt.legend(['train', 'valid'])\n",
    "plt.xlabel('epoch')\n",
    "plt.title('loss')\n",
    "plt.show()"
   ]
  },
  {
   "cell_type": "code",
   "execution_count": 23,
   "id": "91099519",
   "metadata": {
    "execution": {
     "iopub.execute_input": "2023-11-10T16:37:01.740596Z",
     "iopub.status.busy": "2023-11-10T16:37:01.740220Z",
     "iopub.status.idle": "2023-11-10T16:37:02.114759Z",
     "shell.execute_reply": "2023-11-10T16:37:02.113720Z"
    },
    "papermill": {
     "duration": 0.430992,
     "end_time": "2023-11-10T16:37:02.116837",
     "exception": false,
     "start_time": "2023-11-10T16:37:01.685845",
     "status": "completed"
    },
    "tags": []
   },
   "outputs": [
    {
     "data": {
      "image/png": "[encoded data removed]",
      "text/plain": [
       "<Figure size 640x480 with 1 Axes>"
      ]
     },
     "metadata": {},
     "output_type": "display_data"
    }
   ],
   "source": [
    "plt.plot(xticks, mem['train_recall_score'])\n",
    "plt.plot(xticks, mem['valid_recall_score'])\n",
    "plt.legend(['train', 'valid'])\n",
    "plt.xlabel('epoch')\n",
    "plt.title('recall score')\n",
    "plt.show()"
   ]
  },
  {
   "cell_type": "code",
   "execution_count": 24,
   "id": "cce2fd6b",
   "metadata": {
    "execution": {
     "iopub.execute_input": "2023-11-10T16:37:02.227674Z",
     "iopub.status.busy": "2023-11-10T16:37:02.226819Z",
     "iopub.status.idle": "2023-11-10T16:37:02.601291Z",
     "shell.execute_reply": "2023-11-10T16:37:02.600432Z"
    },
    "papermill": {
     "duration": 0.432377,
     "end_time": "2023-11-10T16:37:02.603369",
     "exception": false,
     "start_time": "2023-11-10T16:37:02.170992",
     "status": "completed"
    },
    "tags": []
   },
   "outputs": [
    {
     "data": {
      "image/png": "[encoded data removed]",
      "text/plain": [
       "<Figure size 640x480 with 1 Axes>"
      ]
     },
     "metadata": {},
     "output_type": "display_data"
    }
   ],
   "source": [
    "plt.plot(xticks, mem['train_accuracy_score'])\n",
    "plt.plot(xticks, mem['valid_accuracy_score'])\n",
    "plt.legend(['train', 'valid'])\n",
    "plt.xlabel('epoch')\n",
    "plt.title('accuracy score')\n",
    "plt.show()"
   ]
  },
  {
   "cell_type": "code",
   "execution_count": 25,
   "id": "2053f41f",
   "metadata": {
    "execution": {
     "iopub.execute_input": "2023-11-10T16:37:02.715822Z",
     "iopub.status.busy": "2023-11-10T16:37:02.715488Z",
     "iopub.status.idle": "2023-11-10T16:37:03.077501Z",
     "shell.execute_reply": "2023-11-10T16:37:03.076523Z"
    },
    "papermill": {
     "duration": 0.419917,
     "end_time": "2023-11-10T16:37:03.079403",
     "exception": false,
     "start_time": "2023-11-10T16:37:02.659486",
     "status": "completed"
    },
    "tags": []
   },
   "outputs": [
    {
     "data": {
      "image/png": "[encoded data removed]",
      "text/plain": [
       "<Figure size 640x480 with 1 Axes>"
      ]
     },
     "metadata": {},
     "output_type": "display_data"
    }
   ],
   "source": [
    "plt.plot(xticks, mem['train_precision_score'])\n",
    "plt.plot(xticks, mem['valid_precision_score'])\n",
    "plt.legend(['train', 'valid'])\n",
    "plt.xlabel('epoch')\n",
    "plt.title('precision score')\n",
    "plt.show()"
   ]
  },
  {
   "cell_type": "code",
   "execution_count": 26,
   "id": "9035249b",
   "metadata": {
    "execution": {
     "iopub.execute_input": "2023-11-10T16:37:03.192347Z",
     "iopub.status.busy": "2023-11-10T16:37:03.191984Z",
     "iopub.status.idle": "2023-11-10T16:37:03.542351Z",
     "shell.execute_reply": "2023-11-10T16:37:03.541505Z"
    },
    "papermill": {
     "duration": 0.409551,
     "end_time": "2023-11-10T16:37:03.544650",
     "exception": false,
     "start_time": "2023-11-10T16:37:03.135099",
     "status": "completed"
    },
    "tags": []
   },
   "outputs": [
    {
     "data": {
      "image/png": "[encoded data removed]",
      "text/plain": [
       "<Figure size 640x480 with 1 Axes>"
      ]
     },
     "metadata": {},
     "output_type": "display_data"
    }
   ],
   "source": [
    "plt.plot(xticks, mem['train_f1_score'])\n",
    "plt.plot(xticks, mem['valid_f1_score'])\n",
    "plt.legend(['train', 'valid'])\n",
    "plt.xlabel('epoch')\n",
    "plt.title('f1 score')\n",
    "plt.show()"
   ]
  },
  {
   "cell_type": "code",
   "execution_count": 27,
   "id": "53e3a377",
   "metadata": {
    "execution": {
     "iopub.execute_input": "2023-11-10T16:37:03.660811Z",
     "iopub.status.busy": "2023-11-10T16:37:03.659991Z",
     "iopub.status.idle": "2023-11-10T16:37:04.018584Z",
     "shell.execute_reply": "2023-11-10T16:37:04.017626Z"
    },
    "papermill": {
     "duration": 0.418902,
     "end_time": "2023-11-10T16:37:04.020741",
     "exception": false,
     "start_time": "2023-11-10T16:37:03.601839",
     "status": "completed"
    },
    "tags": []
   },
   "outputs": [
    {
     "data": {
      "image/png": "[encoded data removed]",
      "text/plain": [
       "<Figure size 640x480 with 1 Axes>"
      ]
     },
     "metadata": {},
     "output_type": "display_data"
    }
   ],
   "source": [
    "plt.plot(xticks, mem['train_auc'])\n",
    "plt.plot(xticks, mem['valid_auc'])\n",
    "plt.legend(['train', 'valid'])\n",
    "plt.xlabel('epoch')\n",
    "plt.title('auc score')\n",
    "plt.show()"
   ]
  }
 ],
 "metadata": {
  "kernelspec": {
   "display_name": "Python 3",
   "language": "python",
   "name": "python3"
  },
  "language_info": {
   "codemirror_mode": {
    "name": "ipython",
    "version": 3
   },
   "file_extension": ".py",
   "mimetype": "text/x-python",
   "name": "python",
   "nbconvert_exporter": "python",
   "pygments_lexer": "ipython3",
   "version": "3.10.12"
  },
  "papermill": {
   "default_parameters": {},
   "duration": 1519.243821,
   "end_time": "2023-11-10T16:37:06.633201",
   "environment_variables": {},
   "exception": null,
   "input_path": "__notebook__.ipynb",
   "output_path": "__notebook__.ipynb",
   "parameters": {},
   "start_time": "2023-11-10T16:11:47.389380",
   "version": "2.4.0"
  },
  "widgets": {
   "application/vnd.jupyter.widget-state+json": {
    "state": {
     "01b97ad6f8054a9aa426d03ad12abc58": {
      "model_module": "@jupyter-widgets/controls",
      "model_module_version": "1.5.0",
      "model_name": "ProgressStyleModel",
      "state": {
       "_model_module": "@jupyter-widgets/controls",
       "_model_module_version": "1.5.0",
       "_model_name": "ProgressStyleModel",
       "_view_count": null,
       "_view_module": "@jupyter-widgets/base",
       "_view_module_version": "1.2.0",
       "_view_name": "StyleView",
       "bar_color": null,
       "description_width": ""
      }
     },
     "142d3becc58f40698f1fa65d6c458441": {
      "model_module": "@jupyter-widgets/controls",
      "model_module_version": "1.5.0",
      "model_name": "DescriptionStyleModel",
      "state": {
       "_model_module": "@jupyter-widgets/controls",
       "_model_module_version": "1.5.0",
       "_model_name": "DescriptionStyleModel",
       "_view_count": null,
       "_view_module": "@jupyter-widgets/base",
       "_view_module_version": "1.2.0",
       "_view_name": "StyleView",
       "description_width": ""
      }
     },
     "40af3a598c2b4431acfe950778f3ed2d": {
      "model_module": "@jupyter-widgets/base",
      "model_module_version": "1.2.0",
      "model_name": "LayoutModel",
      "state": {
       "_model_module": "@jupyter-widgets/base",
       "_model_module_version": "1.2.0",
       "_model_name": "LayoutModel",
       "_view_count": null,
       "_view_module": "@jupyter-widgets/base",
       "_view_module_version": "1.2.0",
       "_view_name": "LayoutView",
       "align_content": null,
       "align_items": null,
       "align_self": null,
       "border": null,
       "bottom": null,
       "display": null,
       "flex": null,
       "flex_flow": null,
       "grid_area": null,
       "grid_auto_columns": null,
       "grid_auto_flow": null,
       "grid_auto_rows": null,
       "grid_column": null,
       "grid_gap": null,
       "grid_row": null,
       "grid_template_areas": null,
       "grid_template_columns": null,
       "grid_template_rows": null,
       "height": null,
       "justify_content": null,
       "justify_items": null,
       "left": null,
       "margin": null,
       "max_height": null,
       "max_width": null,
       "min_height": null,
       "min_width": null,
       "object_fit": null,
       "object_position": null,
       "order": null,
       "overflow": null,
       "overflow_x": null,
       "overflow_y": null,
       "padding": null,
       "right": null,
       "top": null,
       "visibility": null,
       "width": null
      }
     },
     "5ee40ce5b5aa4e05ba906dba1beab34e": {
      "model_module": "@jupyter-widgets/base",
      "model_module_version": "1.2.0",
      "model_name": "LayoutModel",
      "state": {
       "_model_module": "@jupyter-widgets/base",
       "_model_module_version": "1.2.0",
       "_model_name": "LayoutModel",
       "_view_count": null,
       "_view_module": "@jupyter-widgets/base",
       "_view_module_version": "1.2.0",
       "_view_name": "LayoutView",
       "align_content": null,
       "align_items": null,
       "align_self": null,
       "border": null,
       "bottom": null,
       "display": null,
       "flex": null,
       "flex_flow": null,
       "grid_area": null,
       "grid_auto_columns": null,
       "grid_auto_flow": null,
       "grid_auto_rows": null,
       "grid_column": null,
       "grid_gap": null,
       "grid_row": null,
       "grid_template_areas": null,
       "grid_template_columns": null,
       "grid_template_rows": null,
       "height": null,
       "justify_content": null,
       "justify_items": null,
       "left": null,
       "margin": null,
       "max_height": null,
       "max_width": null,
       "min_height": null,
       "min_width": null,
       "object_fit": null,
       "object_position": null,
       "order": null,
       "overflow": null,
       "overflow_x": null,
       "overflow_y": null,
       "padding": null,
       "right": null,
       "top": null,
       "visibility": null,
       "width": null
      }
     },
     "89a6991d73c9460fb362da419db23e7c": {
      "model_module": "@jupyter-widgets/controls",
      "model_module_version": "1.5.0",
      "model_name": "HTMLModel",
      "state": {
       "_dom_classes": [],
       "_model_module": "@jupyter-widgets/controls",
       "_model_module_version": "1.5.0",
       "_model_name": "HTMLModel",
       "_view_count": null,
       "_view_module": "@jupyter-widgets/controls",
       "_view_module_version": "1.5.0",
       "_view_name": "HTMLView",
       "description": "",
       "description_tooltip": null,
       "layout": "IPY_MODEL_5ee40ce5b5aa4e05ba906dba1beab34e",
       "placeholder": "​",
       "style": "IPY_MODEL_9c2ff68647a347948956f3a758d2675a",
       "value": "Training: 100%"
      }
     },
     "9b375d7736d7492daca17b7f32d810b7": {
      "model_module": "@jupyter-widgets/controls",
      "model_module_version": "1.5.0",
      "model_name": "HBoxModel",
      "state": {
       "_dom_classes": [],
       "_model_module": "@jupyter-widgets/controls",
       "_model_module_version": "1.5.0",
       "_model_name": "HBoxModel",
       "_view_count": null,
       "_view_module": "@jupyter-widgets/controls",
       "_view_module_version": "1.5.0",
       "_view_name": "HBoxView",
       "box_style": "",
       "children": [
        "IPY_MODEL_89a6991d73c9460fb362da419db23e7c",
        "IPY_MODEL_c8c7caed262d48809e5075c19ef43e4c",
        "IPY_MODEL_d98249e61275426f82b13e785bcd6728"
       ],
       "layout": "IPY_MODEL_40af3a598c2b4431acfe950778f3ed2d"
      }
     },
     "9c2ff68647a347948956f3a758d2675a": {
      "model_module": "@jupyter-widgets/controls",
      "model_module_version": "1.5.0",
      "model_name": "DescriptionStyleModel",
      "state": {
       "_model_module": "@jupyter-widgets/controls",
       "_model_module_version": "1.5.0",
       "_model_name": "DescriptionStyleModel",
       "_view_count": null,
       "_view_module": "@jupyter-widgets/base",
       "_view_module_version": "1.2.0",
       "_view_name": "StyleView",
       "description_width": ""
      }
     },
     "c8c7caed262d48809e5075c19ef43e4c": {
      "model_module": "@jupyter-widgets/controls",
      "model_module_version": "1.5.0",
      "model_name": "FloatProgressModel",
      "state": {
       "_dom_classes": [],
       "_model_module": "@jupyter-widgets/controls",
       "_model_module_version": "1.5.0",
       "_model_name": "FloatProgressModel",
       "_view_count": null,
       "_view_module": "@jupyter-widgets/controls",
       "_view_module_version": "1.5.0",
       "_view_name": "ProgressView",
       "bar_style": "success",
       "description": "",
       "description_tooltip": null,
       "layout": "IPY_MODEL_fa5994cafc744cd9b829b4c5d52b4bd0",
       "max": 10.0,
       "min": 0.0,
       "orientation": "horizontal",
       "style": "IPY_MODEL_01b97ad6f8054a9aa426d03ad12abc58",
       "value": 10.0
      }
     },
     "d98249e61275426f82b13e785bcd6728": {
      "model_module": "@jupyter-widgets/controls",
      "model_module_version": "1.5.0",
      "model_name": "HTMLModel",
      "state": {
       "_dom_classes": [],
       "_model_module": "@jupyter-widgets/controls",
       "_model_module_version": "1.5.0",
       "_model_name": "HTMLModel",
       "_view_count": null,
       "_view_module": "@jupyter-widgets/controls",
       "_view_module_version": "1.5.0",
       "_view_name": "HTMLView",
       "description": "",
       "description_tooltip": null,
       "layout": "IPY_MODEL_fc5a35e1a79747bb975d119a1006b1cf",
       "placeholder": "​",
       "style": "IPY_MODEL_142d3becc58f40698f1fa65d6c458441",
       "value": " 10/10 [24:38&lt;00:00, 145.60s/it]"
      }
     },
     "fa5994cafc744cd9b829b4c5d52b4bd0": {
      "model_module": "@jupyter-widgets/base",
      "model_module_version": "1.2.0",
      "model_name": "LayoutModel",
      "state": {
       "_model_module": "@jupyter-widgets/base",
       "_model_module_version": "1.2.0",
       "_model_name": "LayoutModel",
       "_view_count": null,
       "_view_module": "@jupyter-widgets/base",
       "_view_module_version": "1.2.0",
       "_view_name": "LayoutView",
       "align_content": null,
       "align_items": null,
       "align_self": null,
       "border": null,
       "bottom": null,
       "display": null,
       "flex": null,
       "flex_flow": null,
       "grid_area": null,
       "grid_auto_columns": null,
       "grid_auto_flow": null,
       "grid_auto_rows": null,
       "grid_column": null,
       "grid_gap": null,
       "grid_row": null,
       "grid_template_areas": null,
       "grid_template_columns": null,
       "grid_template_rows": null,
       "height": null,
       "justify_content": null,
       "justify_items": null,
       "left": null,
       "margin": null,
       "max_height": null,
       "max_width": null,
       "min_height": null,
       "min_width": null,
       "object_fit": null,
       "object_position": null,
       "order": null,
       "overflow": null,
       "overflow_x": null,
       "overflow_y": null,
       "padding": null,
       "right": null,
       "top": null,
       "visibility": null,
       "width": null
      }
     },
     "fc5a35e1a79747bb975d119a1006b1cf": {
      "model_module": "@jupyter-widgets/base",
      "model_module_version": "1.2.0",
      "model_name": "LayoutModel",
      "state": {
       "_model_module": "@jupyter-widgets/base",
       "_model_module_version": "1.2.0",
       "_model_name": "LayoutModel",
       "_view_count": null,
       "_view_module": "@jupyter-widgets/base",
       "_view_module_version": "1.2.0",
       "_view_name": "LayoutView",
       "align_content": null,
       "align_items": null,
       "align_self": null,
       "border": null,
       "bottom": null,
       "display": null,
       "flex": null,
       "flex_flow": null,
       "grid_area": null,
       "grid_auto_columns": null,
       "grid_auto_flow": null,
       "grid_auto_rows": null,
       "grid_column": null,
       "grid_gap": null,
       "grid_row": null,
       "grid_template_areas": null,
       "grid_template_columns": null,
       "grid_template_rows": null,
       "height": null,
       "justify_content": null,
       "justify_items": null,
       "left": null,
       "margin": null,
       "max_height": null,
       "max_width": null,
       "min_height": null,
       "min_width": null,
       "object_fit": null,
       "object_position": null,
       "order": null,
       "overflow": null,
       "overflow_x": null,
       "overflow_y": null,
       "padding": null,
       "right": null,
       "top": null,
       "visibility": null,
       "width": null
      }
     }
    },
    "version_major": 2,
    "version_minor": 0
   }
  }
 },
 "nbformat": 4,
 "nbformat_minor": 5
}
