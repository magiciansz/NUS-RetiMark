{
 "cells": [
  {
   "cell_type": "markdown",
   "id": "5570d1b6",
   "metadata": {
    "papermill": {
     "duration": 0.010214,
     "end_time": "2023-11-10T13:54:39.304532",
     "exception": false,
     "start_time": "2023-11-10T13:54:39.294318",
     "status": "completed"
    },
    "tags": []
   },
   "source": [
    "# Install Dependencies"
   ]
  },
  {
   "cell_type": "code",
   "execution_count": 1,
   "id": "8b6e3c1b",
   "metadata": {
    "_cell_guid": "b1076dfc-b9ad-4769-8c92-a6c4dae69d19",
    "_uuid": "8f2839f25d086af736a60e9eeb907d3b93b6e0e5",
    "execution": {
     "iopub.execute_input": "2023-11-10T13:54:39.327459Z",
     "iopub.status.busy": "2023-11-10T13:54:39.327102Z",
     "iopub.status.idle": "2023-11-10T13:54:52.237653Z",
     "shell.execute_reply": "2023-11-10T13:54:52.236597Z"
    },
    "papermill": {
     "duration": 12.924941,
     "end_time": "2023-11-10T13:54:52.240087",
     "exception": false,
     "start_time": "2023-11-10T13:54:39.315146",
     "status": "completed"
    },
    "tags": []
   },
   "outputs": [
    {
     "name": "stdout",
     "output_type": "stream",
     "text": [
      "Collecting torch_summary\r\n",
      "  Downloading torch_summary-1.4.5-py3-none-any.whl (16 kB)\r\n",
      "Installing collected packages: torch_summary\r\n",
      "Successfully installed torch_summary-1.4.5\r\n"
     ]
    }
   ],
   "source": [
    "!pip install torch_summary"
   ]
  },
  {
   "cell_type": "markdown",
   "id": "e49b613b",
   "metadata": {
    "papermill": {
     "duration": 0.008848,
     "end_time": "2023-11-10T13:54:52.258401",
     "exception": false,
     "start_time": "2023-11-10T13:54:52.249553",
     "status": "completed"
    },
    "tags": []
   },
   "source": [
    "# Import Libraries"
   ]
  },
  {
   "cell_type": "code",
   "execution_count": 2,
   "id": "2db0c3b7",
   "metadata": {
    "execution": {
     "iopub.execute_input": "2023-11-10T13:54:52.278147Z",
     "iopub.status.busy": "2023-11-10T13:54:52.277832Z",
     "iopub.status.idle": "2023-11-10T13:54:58.186165Z",
     "shell.execute_reply": "2023-11-10T13:54:58.185380Z"
    },
    "papermill": {
     "duration": 5.920763,
     "end_time": "2023-11-10T13:54:58.188497",
     "exception": false,
     "start_time": "2023-11-10T13:54:52.267734",
     "status": "completed"
    },
    "tags": []
   },
   "outputs": [
    {
     "name": "stderr",
     "output_type": "stream",
     "text": [
      "/opt/conda/lib/python3.10/site-packages/scipy/__init__.py:146: UserWarning: A NumPy version >=1.16.5 and <1.23.0 is required for this version of SciPy (detected version 1.23.5\n",
      "  warnings.warn(f\"A NumPy version >={np_minversion} and <{np_maxversion}\"\n"
     ]
    }
   ],
   "source": [
    "import torch\n",
    "import torch.nn.functional as F\n",
    "from torch import nn, optim\n",
    "from torchvision import transforms as T, models\n",
    "from torch.utils.data import DataLoader, Dataset\n",
    "from torchsummary import summary\n",
    "from tqdm.notebook import tqdm \n",
    "\n",
    "from sklearn.metrics import classification_report, recall_score, accuracy_score, f1_score, precision_score, roc_curve, auc\n",
    "from sklearn.model_selection import train_test_split\n",
    "import seaborn as sns\n",
    "from PIL import Image\n",
    "import matplotlib.pyplot as plt\n",
    "from random import shuffle, randint, choice\n",
    "import numpy as np\n",
    "import cv2 as cv\n",
    "from glob import glob\n",
    "import pandas as pd"
   ]
  },
  {
   "cell_type": "code",
   "execution_count": 3,
   "id": "fdd913c5",
   "metadata": {
    "execution": {
     "iopub.execute_input": "2023-11-10T13:54:58.208909Z",
     "iopub.status.busy": "2023-11-10T13:54:58.208503Z",
     "iopub.status.idle": "2023-11-10T13:54:59.229197Z",
     "shell.execute_reply": "2023-11-10T13:54:59.228134Z"
    },
    "papermill": {
     "duration": 1.033328,
     "end_time": "2023-11-10T13:54:59.231584",
     "exception": false,
     "start_time": "2023-11-10T13:54:58.198256",
     "status": "completed"
    },
    "tags": []
   },
   "outputs": [],
   "source": [
    "!mkdir saved_model\n",
    "sns.set_theme()\n",
    "device = 'cuda' if torch.cuda.is_available() else 'cpu'"
   ]
  },
  {
   "cell_type": "markdown",
   "id": "26c1bf3c",
   "metadata": {
    "papermill": {
     "duration": 0.008898,
     "end_time": "2023-11-10T13:54:59.250074",
     "exception": false,
     "start_time": "2023-11-10T13:54:59.241176",
     "status": "completed"
    },
    "tags": []
   },
   "source": [
    "# Dataset"
   ]
  },
  {
   "cell_type": "code",
   "execution_count": 4,
   "id": "8495b08e",
   "metadata": {
    "execution": {
     "iopub.execute_input": "2023-11-10T13:54:59.269782Z",
     "iopub.status.busy": "2023-11-10T13:54:59.269471Z",
     "iopub.status.idle": "2023-11-10T13:54:59.375890Z",
     "shell.execute_reply": "2023-11-10T13:54:59.374855Z"
    },
    "papermill": {
     "duration": 0.119272,
     "end_time": "2023-11-10T13:54:59.378540",
     "exception": false,
     "start_time": "2023-11-10T13:54:59.259268",
     "status": "completed"
    },
    "tags": []
   },
   "outputs": [
    {
     "data": {
      "text/html": [
       "<div>\n",
       "<style scoped>\n",
       "    .dataframe tbody tr th:only-of-type {\n",
       "        vertical-align: middle;\n",
       "    }\n",
       "\n",
       "    .dataframe tbody tr th {\n",
       "        vertical-align: top;\n",
       "    }\n",
       "\n",
       "    .dataframe thead th {\n",
       "        text-align: right;\n",
       "    }\n",
       "</style>\n",
       "<table border=\"1\" class=\"dataframe\">\n",
       "  <thead>\n",
       "    <tr style=\"text-align: right;\">\n",
       "      <th></th>\n",
       "      <th>Patient Age</th>\n",
       "      <th>Patient Sex</th>\n",
       "      <th>Left-Fundus</th>\n",
       "      <th>Right-Fundus</th>\n",
       "      <th>Left-Diagnostic Keywords</th>\n",
       "      <th>Right-Diagnostic Keywords</th>\n",
       "      <th>N</th>\n",
       "      <th>D</th>\n",
       "      <th>G</th>\n",
       "      <th>C</th>\n",
       "      <th>A</th>\n",
       "      <th>H</th>\n",
       "      <th>M</th>\n",
       "      <th>O</th>\n",
       "      <th>filepath</th>\n",
       "      <th>labels</th>\n",
       "      <th>target</th>\n",
       "      <th>filename</th>\n",
       "    </tr>\n",
       "    <tr>\n",
       "      <th>ID</th>\n",
       "      <th></th>\n",
       "      <th></th>\n",
       "      <th></th>\n",
       "      <th></th>\n",
       "      <th></th>\n",
       "      <th></th>\n",
       "      <th></th>\n",
       "      <th></th>\n",
       "      <th></th>\n",
       "      <th></th>\n",
       "      <th></th>\n",
       "      <th></th>\n",
       "      <th></th>\n",
       "      <th></th>\n",
       "      <th></th>\n",
       "      <th></th>\n",
       "      <th></th>\n",
       "      <th></th>\n",
       "    </tr>\n",
       "  </thead>\n",
       "  <tbody>\n",
       "    <tr>\n",
       "      <th>0</th>\n",
       "      <td>69</td>\n",
       "      <td>Female</td>\n",
       "      <td>0_left.jpg</td>\n",
       "      <td>0_right.jpg</td>\n",
       "      <td>cataract</td>\n",
       "      <td>normal fundus</td>\n",
       "      <td>0</td>\n",
       "      <td>0</td>\n",
       "      <td>0</td>\n",
       "      <td>1</td>\n",
       "      <td>0</td>\n",
       "      <td>0</td>\n",
       "      <td>0</td>\n",
       "      <td>0</td>\n",
       "      <td>../input/ocular-disease-recognition-odir5k/ODI...</td>\n",
       "      <td>['N']</td>\n",
       "      <td>[1, 0, 0, 0, 0, 0, 0, 0]</td>\n",
       "      <td>0_right.jpg</td>\n",
       "    </tr>\n",
       "    <tr>\n",
       "      <th>1</th>\n",
       "      <td>57</td>\n",
       "      <td>Male</td>\n",
       "      <td>1_left.jpg</td>\n",
       "      <td>1_right.jpg</td>\n",
       "      <td>normal fundus</td>\n",
       "      <td>normal fundus</td>\n",
       "      <td>1</td>\n",
       "      <td>0</td>\n",
       "      <td>0</td>\n",
       "      <td>0</td>\n",
       "      <td>0</td>\n",
       "      <td>0</td>\n",
       "      <td>0</td>\n",
       "      <td>0</td>\n",
       "      <td>../input/ocular-disease-recognition-odir5k/ODI...</td>\n",
       "      <td>['N']</td>\n",
       "      <td>[1, 0, 0, 0, 0, 0, 0, 0]</td>\n",
       "      <td>1_right.jpg</td>\n",
       "    </tr>\n",
       "    <tr>\n",
       "      <th>2</th>\n",
       "      <td>42</td>\n",
       "      <td>Male</td>\n",
       "      <td>2_left.jpg</td>\n",
       "      <td>2_right.jpg</td>\n",
       "      <td>laser spot，moderate non proliferative retinopathy</td>\n",
       "      <td>moderate non proliferative retinopathy</td>\n",
       "      <td>0</td>\n",
       "      <td>1</td>\n",
       "      <td>0</td>\n",
       "      <td>0</td>\n",
       "      <td>0</td>\n",
       "      <td>0</td>\n",
       "      <td>0</td>\n",
       "      <td>1</td>\n",
       "      <td>../input/ocular-disease-recognition-odir5k/ODI...</td>\n",
       "      <td>['D']</td>\n",
       "      <td>[0, 1, 0, 0, 0, 0, 0, 0]</td>\n",
       "      <td>2_right.jpg</td>\n",
       "    </tr>\n",
       "    <tr>\n",
       "      <th>4</th>\n",
       "      <td>53</td>\n",
       "      <td>Male</td>\n",
       "      <td>4_left.jpg</td>\n",
       "      <td>4_right.jpg</td>\n",
       "      <td>macular epiretinal membrane</td>\n",
       "      <td>mild nonproliferative retinopathy</td>\n",
       "      <td>0</td>\n",
       "      <td>1</td>\n",
       "      <td>0</td>\n",
       "      <td>0</td>\n",
       "      <td>0</td>\n",
       "      <td>0</td>\n",
       "      <td>0</td>\n",
       "      <td>1</td>\n",
       "      <td>../input/ocular-disease-recognition-odir5k/ODI...</td>\n",
       "      <td>['D']</td>\n",
       "      <td>[0, 1, 0, 0, 0, 0, 0, 0]</td>\n",
       "      <td>4_right.jpg</td>\n",
       "    </tr>\n",
       "    <tr>\n",
       "      <th>5</th>\n",
       "      <td>50</td>\n",
       "      <td>Female</td>\n",
       "      <td>5_left.jpg</td>\n",
       "      <td>5_right.jpg</td>\n",
       "      <td>moderate non proliferative retinopathy</td>\n",
       "      <td>moderate non proliferative retinopathy</td>\n",
       "      <td>0</td>\n",
       "      <td>1</td>\n",
       "      <td>0</td>\n",
       "      <td>0</td>\n",
       "      <td>0</td>\n",
       "      <td>0</td>\n",
       "      <td>0</td>\n",
       "      <td>0</td>\n",
       "      <td>../input/ocular-disease-recognition-odir5k/ODI...</td>\n",
       "      <td>['D']</td>\n",
       "      <td>[0, 1, 0, 0, 0, 0, 0, 0]</td>\n",
       "      <td>5_right.jpg</td>\n",
       "    </tr>\n",
       "  </tbody>\n",
       "</table>\n",
       "</div>"
      ],
      "text/plain": [
       "    Patient Age Patient Sex Left-Fundus Right-Fundus  \\\n",
       "ID                                                     \n",
       "0            69      Female  0_left.jpg  0_right.jpg   \n",
       "1            57        Male  1_left.jpg  1_right.jpg   \n",
       "2            42        Male  2_left.jpg  2_right.jpg   \n",
       "4            53        Male  4_left.jpg  4_right.jpg   \n",
       "5            50      Female  5_left.jpg  5_right.jpg   \n",
       "\n",
       "                             Left-Diagnostic Keywords  \\\n",
       "ID                                                      \n",
       "0                                            cataract   \n",
       "1                                       normal fundus   \n",
       "2   laser spot，moderate non proliferative retinopathy   \n",
       "4                         macular epiretinal membrane   \n",
       "5              moderate non proliferative retinopathy   \n",
       "\n",
       "                 Right-Diagnostic Keywords  N  D  G  C  A  H  M  O  \\\n",
       "ID                                                                   \n",
       "0                            normal fundus  0  0  0  1  0  0  0  0   \n",
       "1                            normal fundus  1  0  0  0  0  0  0  0   \n",
       "2   moderate non proliferative retinopathy  0  1  0  0  0  0  0  1   \n",
       "4        mild nonproliferative retinopathy  0  1  0  0  0  0  0  1   \n",
       "5   moderate non proliferative retinopathy  0  1  0  0  0  0  0  0   \n",
       "\n",
       "                                             filepath labels  \\\n",
       "ID                                                             \n",
       "0   ../input/ocular-disease-recognition-odir5k/ODI...  ['N']   \n",
       "1   ../input/ocular-disease-recognition-odir5k/ODI...  ['N']   \n",
       "2   ../input/ocular-disease-recognition-odir5k/ODI...  ['D']   \n",
       "4   ../input/ocular-disease-recognition-odir5k/ODI...  ['D']   \n",
       "5   ../input/ocular-disease-recognition-odir5k/ODI...  ['D']   \n",
       "\n",
       "                      target     filename  \n",
       "ID                                         \n",
       "0   [1, 0, 0, 0, 0, 0, 0, 0]  0_right.jpg  \n",
       "1   [1, 0, 0, 0, 0, 0, 0, 0]  1_right.jpg  \n",
       "2   [0, 1, 0, 0, 0, 0, 0, 0]  2_right.jpg  \n",
       "4   [0, 1, 0, 0, 0, 0, 0, 0]  4_right.jpg  \n",
       "5   [0, 1, 0, 0, 0, 0, 0, 0]  5_right.jpg  "
      ]
     },
     "execution_count": 4,
     "metadata": {},
     "output_type": "execute_result"
    }
   ],
   "source": [
    "DIR = '../input/ocular-disease-recognition-odir5k'\n",
    "\n",
    "full_df = pd.read_csv(f'{DIR}/full_df.csv', index_col=0)\n",
    "\n",
    "full_df.head()"
   ]
  },
  {
   "cell_type": "markdown",
   "id": "4ee54f9b",
   "metadata": {
    "papermill": {
     "duration": 0.010825,
     "end_time": "2023-11-10T13:54:59.401775",
     "exception": false,
     "start_time": "2023-11-10T13:54:59.390950",
     "status": "completed"
    },
    "tags": []
   },
   "source": [
    "# Data Preprocessing"
   ]
  },
  {
   "cell_type": "code",
   "execution_count": 5,
   "id": "f77a3caf",
   "metadata": {
    "execution": {
     "iopub.execute_input": "2023-11-10T13:54:59.424976Z",
     "iopub.status.busy": "2023-11-10T13:54:59.424680Z",
     "iopub.status.idle": "2023-11-10T13:54:59.445261Z",
     "shell.execute_reply": "2023-11-10T13:54:59.444303Z"
    },
    "papermill": {
     "duration": 0.034754,
     "end_time": "2023-11-10T13:54:59.447410",
     "exception": false,
     "start_time": "2023-11-10T13:54:59.412656",
     "status": "completed"
    },
    "tags": []
   },
   "outputs": [],
   "source": [
    "full_df['side'] = full_df['filename'].str[:-4].str.replace(r'\\d+_', '', regex=True)"
   ]
  },
  {
   "cell_type": "code",
   "execution_count": 6,
   "id": "17bf64ed",
   "metadata": {
    "execution": {
     "iopub.execute_input": "2023-11-10T13:54:59.470310Z",
     "iopub.status.busy": "2023-11-10T13:54:59.469997Z",
     "iopub.status.idle": "2023-11-10T13:54:59.482566Z",
     "shell.execute_reply": "2023-11-10T13:54:59.481824Z"
    },
    "papermill": {
     "duration": 0.026328,
     "end_time": "2023-11-10T13:54:59.484640",
     "exception": false,
     "start_time": "2023-11-10T13:54:59.458312",
     "status": "completed"
    },
    "tags": []
   },
   "outputs": [],
   "source": [
    "image_dir = '../input/ocular-disease-recognition-odir5k/ODIR-5K/'\n",
    "full_df['filepath'] = full_df['filepath'].str.replace(image_dir, image_dir + 'ODIR-5K/')"
   ]
  },
  {
   "cell_type": "code",
   "execution_count": 7,
   "id": "742648b7",
   "metadata": {
    "execution": {
     "iopub.execute_input": "2023-11-10T13:54:59.506621Z",
     "iopub.status.busy": "2023-11-10T13:54:59.506353Z",
     "iopub.status.idle": "2023-11-10T13:54:59.515801Z",
     "shell.execute_reply": "2023-11-10T13:54:59.515078Z"
    },
    "papermill": {
     "duration": 0.022931,
     "end_time": "2023-11-10T13:54:59.517877",
     "exception": false,
     "start_time": "2023-11-10T13:54:59.494946",
     "status": "completed"
    },
    "tags": []
   },
   "outputs": [],
   "source": [
    "age_intervals = [0, 20, 40, 60, 80, 100]\n",
    "age_labels = ['0-20', '21-40', '41-60', '61-80', '81+']\n",
    "full_df['Age Group'] = pd.cut(full_df['Patient Age'], bins=age_intervals, labels=age_labels, right=False)"
   ]
  },
  {
   "cell_type": "code",
   "execution_count": 8,
   "id": "c420a5b4",
   "metadata": {
    "execution": {
     "iopub.execute_input": "2023-11-10T13:54:59.540717Z",
     "iopub.status.busy": "2023-11-10T13:54:59.540439Z",
     "iopub.status.idle": "2023-11-10T13:54:59.549132Z",
     "shell.execute_reply": "2023-11-10T13:54:59.548172Z"
    },
    "papermill": {
     "duration": 0.022762,
     "end_time": "2023-11-10T13:54:59.551223",
     "exception": false,
     "start_time": "2023-11-10T13:54:59.528461",
     "status": "completed"
    },
    "tags": []
   },
   "outputs": [],
   "source": [
    "full_df['labels_text'] = full_df['labels'].apply(lambda x: x[2])\n",
    "full_df['target'] = np.where(full_df['labels_text'] == \"A\", 1, 0)"
   ]
  },
  {
   "cell_type": "code",
   "execution_count": 9,
   "id": "368475e1",
   "metadata": {
    "execution": {
     "iopub.execute_input": "2023-11-10T13:54:59.572975Z",
     "iopub.status.busy": "2023-11-10T13:54:59.572722Z",
     "iopub.status.idle": "2023-11-10T13:54:59.582398Z",
     "shell.execute_reply": "2023-11-10T13:54:59.581450Z"
    },
    "papermill": {
     "duration": 0.022914,
     "end_time": "2023-11-10T13:54:59.584547",
     "exception": false,
     "start_time": "2023-11-10T13:54:59.561633",
     "status": "completed"
    },
    "tags": []
   },
   "outputs": [
    {
     "name": "stdout",
     "output_type": "stream",
     "text": [
      "AMD positive: 266\n",
      "AMD negative: 6126\n"
     ]
    }
   ],
   "source": [
    "print(\"AMD positive:\", len(full_df[full_df['target']==1]))\n",
    "print(\"AMD negative:\", len(full_df[full_df['target']==0]))"
   ]
  },
  {
   "cell_type": "markdown",
   "id": "ce1a82fa",
   "metadata": {
    "papermill": {
     "duration": 0.009748,
     "end_time": "2023-11-10T13:54:59.605312",
     "exception": false,
     "start_time": "2023-11-10T13:54:59.595564",
     "status": "completed"
    },
    "tags": []
   },
   "source": [
    "# Split Dataset"
   ]
  },
  {
   "cell_type": "code",
   "execution_count": 10,
   "id": "d805b4c8",
   "metadata": {
    "execution": {
     "iopub.execute_input": "2023-11-10T13:54:59.625720Z",
     "iopub.status.busy": "2023-11-10T13:54:59.625478Z",
     "iopub.status.idle": "2023-11-10T13:54:59.657244Z",
     "shell.execute_reply": "2023-11-10T13:54:59.656505Z"
    },
    "papermill": {
     "duration": 0.044138,
     "end_time": "2023-11-10T13:54:59.659208",
     "exception": false,
     "start_time": "2023-11-10T13:54:59.615070",
     "status": "completed"
    },
    "tags": []
   },
   "outputs": [],
   "source": [
    "right_df = full_df[full_df['side'] == 'right']\n",
    "left_df = full_df[full_df['side'] == 'left']\n",
    "\n",
    "# Fix data imbalance\n",
    "\n",
    "right_df_0 = right_df[right_df['target'] == 0]\n",
    "right_df_0 = right_df_0.sample(frac=0.25, random_state=42)\n",
    "right_df_1 = right_df[right_df['target'] == 1]\n",
    "\n",
    "left_df_0 = left_df[left_df['target'] == 0]\n",
    "left_df_0 = left_df_0.sample(frac=0.25, random_state=42)\n",
    "left_df_1 = left_df[left_df['target'] == 1]\n",
    "\n",
    "right_df = pd.concat([right_df_0, right_df_1])\n",
    "left_df = pd.concat([left_df_0, left_df_1])\n",
    "\n",
    "right_df = right_df.sample(frac=1, random_state=42)\n",
    "left_df = left_df.sample(frac=1, random_state=42)\n",
    "\n",
    "right_train, right_test = train_test_split(right_df, test_size=0.2, random_state=42)\n",
    "left_train, left_test = train_test_split(left_df, test_size=0.2, random_state=42)\n",
    "\n",
    "train_df = pd.concat([right_train, left_train])\n",
    "valid_df = pd.concat([right_test, left_test])"
   ]
  },
  {
   "cell_type": "markdown",
   "id": "982437bc",
   "metadata": {
    "papermill": {
     "duration": 0.009274,
     "end_time": "2023-11-10T13:54:59.677904",
     "exception": false,
     "start_time": "2023-11-10T13:54:59.668630",
     "status": "completed"
    },
    "tags": []
   },
   "source": [
    "# Prepare Dataset and Dataloader"
   ]
  },
  {
   "cell_type": "code",
   "execution_count": 11,
   "id": "cfaaf45b",
   "metadata": {
    "execution": {
     "iopub.execute_input": "2023-11-10T13:54:59.697974Z",
     "iopub.status.busy": "2023-11-10T13:54:59.697734Z",
     "iopub.status.idle": "2023-11-10T13:54:59.707605Z",
     "shell.execute_reply": "2023-11-10T13:54:59.706805Z"
    },
    "papermill": {
     "duration": 0.022075,
     "end_time": "2023-11-10T13:54:59.709525",
     "exception": false,
     "start_time": "2023-11-10T13:54:59.687450",
     "status": "completed"
    },
    "tags": []
   },
   "outputs": [],
   "source": [
    "class EyeDataset(Dataset):\n",
    "    def __init__(self, df, data_transform = None):\n",
    "        self.df = df\n",
    "        self.data_transform = data_transform\n",
    "        self.transform = T.Compose([\n",
    "            T.Resize([224, 224]),\n",
    "            T.ToTensor(),\n",
    "            T.Normalize((0.485, 0.456, 0.406),\n",
    "                       (0.229, 0.224, 0.225))\n",
    "        ])\n",
    "    \n",
    "    def __len__(self):\n",
    "        return len(self.df)\n",
    "    \n",
    "    def __getitem__(self, idx):\n",
    "        filepath = self.df.iloc[idx]['filepath']\n",
    "        image = cv.imread(filepath)\n",
    "        image = cv.cvtColor(image, cv.COLOR_BGR2GRAY)\n",
    "        _, thresholded = cv.threshold(image, 0, 255, cv.THRESH_OTSU)\n",
    "        x, y, w, h = cv.boundingRect(thresholded)\n",
    "        cropped_image = cv.cvtColor(image[y:y+h, x:x+w], cv.COLOR_GRAY2RGB)\n",
    "        cropped_image = Image.fromarray(cropped_image)\n",
    "        target = self.df.iloc[idx]['target']\n",
    "        \n",
    "        return cropped_image, target\n",
    "    \n",
    "    def transform_img(self, img):\n",
    "        return self.transform(img)\n",
    "    \n",
    "    def collate_fn(self, data):\n",
    "        imgs, targets = zip(*data)\n",
    "        targets = torch.tensor(targets)\n",
    "        targets = targets.view(-1, 1).float()\n",
    "        targets = targets.to(device)\n",
    "        imgs = torch.stack(\n",
    "            [self.transform_img(img) for img in imgs], 0\n",
    "        ).to(device)\n",
    "        return imgs, targets"
   ]
  },
  {
   "cell_type": "code",
   "execution_count": 12,
   "id": "2da542f3",
   "metadata": {
    "execution": {
     "iopub.execute_input": "2023-11-10T13:54:59.730013Z",
     "iopub.status.busy": "2023-11-10T13:54:59.729773Z",
     "iopub.status.idle": "2023-11-10T13:54:59.734898Z",
     "shell.execute_reply": "2023-11-10T13:54:59.734083Z"
    },
    "papermill": {
     "duration": 0.017515,
     "end_time": "2023-11-10T13:54:59.736793",
     "exception": false,
     "start_time": "2023-11-10T13:54:59.719278",
     "status": "completed"
    },
    "tags": []
   },
   "outputs": [],
   "source": [
    "data_transforms = T.Compose([\n",
    "    T.RandomHorizontalFlip(),\n",
    "    T.RandomRotation(15),\n",
    "    T.ColorJitter(brightness=0.2, contrast=0.2, saturation=0.2, hue=0.1),\n",
    "    T.RandomResizedCrop(224, scale=(0.8, 1.0))\n",
    "])"
   ]
  },
  {
   "cell_type": "code",
   "execution_count": 13,
   "id": "4b7d6d4f",
   "metadata": {
    "execution": {
     "iopub.execute_input": "2023-11-10T13:54:59.756912Z",
     "iopub.status.busy": "2023-11-10T13:54:59.756657Z",
     "iopub.status.idle": "2023-11-10T13:54:59.761789Z",
     "shell.execute_reply": "2023-11-10T13:54:59.761069Z"
    },
    "papermill": {
     "duration": 0.017218,
     "end_time": "2023-11-10T13:54:59.763537",
     "exception": false,
     "start_time": "2023-11-10T13:54:59.746319",
     "status": "completed"
    },
    "tags": []
   },
   "outputs": [],
   "source": [
    "train_ds = EyeDataset(train_df)\n",
    "train_dl = DataLoader(train_ds, batch_size=64, shuffle=True,\n",
    "                      collate_fn=train_ds.collate_fn, \n",
    "                      drop_last=True)\n",
    "\n",
    "valid_ds = EyeDataset(valid_df)\n",
    "valid_dl = DataLoader(valid_ds, batch_size=64,\n",
    "                      collate_fn=valid_ds.collate_fn)"
   ]
  },
  {
   "cell_type": "code",
   "execution_count": 14,
   "id": "89fe0c98",
   "metadata": {
    "execution": {
     "iopub.execute_input": "2023-11-10T13:54:59.783848Z",
     "iopub.status.busy": "2023-11-10T13:54:59.783582Z",
     "iopub.status.idle": "2023-11-10T13:54:59.787822Z",
     "shell.execute_reply": "2023-11-10T13:54:59.787028Z"
    },
    "papermill": {
     "duration": 0.016859,
     "end_time": "2023-11-10T13:54:59.789956",
     "exception": false,
     "start_time": "2023-11-10T13:54:59.773097",
     "status": "completed"
    },
    "tags": []
   },
   "outputs": [
    {
     "name": "stdout",
     "output_type": "stream",
     "text": [
      "Size of Train: 1436\n",
      "Size of Validation: 361\n"
     ]
    }
   ],
   "source": [
    "print('Size of Train:', len(train_ds))\n",
    "print('Size of Validation:', len(valid_ds))"
   ]
  },
  {
   "cell_type": "markdown",
   "id": "cea2bab9",
   "metadata": {
    "papermill": {
     "duration": 0.009505,
     "end_time": "2023-11-10T13:54:59.809119",
     "exception": false,
     "start_time": "2023-11-10T13:54:59.799614",
     "status": "completed"
    },
    "tags": []
   },
   "source": [
    "# Model"
   ]
  },
  {
   "cell_type": "code",
   "execution_count": 15,
   "id": "d45b7529",
   "metadata": {
    "execution": {
     "iopub.execute_input": "2023-11-10T13:54:59.829260Z",
     "iopub.status.busy": "2023-11-10T13:54:59.828984Z",
     "iopub.status.idle": "2023-11-10T13:54:59.835365Z",
     "shell.execute_reply": "2023-11-10T13:54:59.834515Z"
    },
    "papermill": {
     "duration": 0.018661,
     "end_time": "2023-11-10T13:54:59.837309",
     "exception": false,
     "start_time": "2023-11-10T13:54:59.818648",
     "status": "completed"
    },
    "tags": []
   },
   "outputs": [],
   "source": [
    "class EyeClassifier(nn.Module):\n",
    "    def __init__(self, pretrained=True):\n",
    "        super().__init__()\n",
    "        self.model = models.resnet34(pretrained=pretrained, progress=pretrained)\n",
    "        for param in self.model.parameters():\n",
    "            param.requires_grad = True\n",
    "            \n",
    "        num_features = self.model.fc.in_features\n",
    "        self.model.fc = nn.Sequential(\n",
    "            nn.Flatten(),\n",
    "            nn.BatchNorm1d(num_features),\n",
    "            nn.Dropout(0.5),\n",
    "            nn.Linear(num_features, 1),\n",
    "            nn.Sigmoid()\n",
    "        )\n",
    "        \n",
    "    def forward(self, x):\n",
    "        x = self.model(x)\n",
    "        return x"
   ]
  },
  {
   "cell_type": "code",
   "execution_count": 16,
   "id": "a67b5a92",
   "metadata": {
    "execution": {
     "iopub.execute_input": "2023-11-10T13:54:59.859171Z",
     "iopub.status.busy": "2023-11-10T13:54:59.858898Z",
     "iopub.status.idle": "2023-11-10T13:55:08.072420Z",
     "shell.execute_reply": "2023-11-10T13:55:08.071207Z"
    },
    "papermill": {
     "duration": 8.227886,
     "end_time": "2023-11-10T13:55:08.075233",
     "exception": false,
     "start_time": "2023-11-10T13:54:59.847347",
     "status": "completed"
    },
    "tags": []
   },
   "outputs": [
    {
     "name": "stderr",
     "output_type": "stream",
     "text": [
      "/opt/conda/lib/python3.10/site-packages/torchvision/models/_utils.py:208: UserWarning: The parameter 'pretrained' is deprecated since 0.13 and may be removed in the future, please use 'weights' instead.\n",
      "  warnings.warn(\n",
      "/opt/conda/lib/python3.10/site-packages/torchvision/models/_utils.py:223: UserWarning: Arguments other than a weight enum or `None` for 'weights' are deprecated since 0.13 and may be removed in the future. The current behavior is equivalent to passing `weights=ResNet34_Weights.IMAGENET1K_V1`. You can also use `weights=ResNet34_Weights.DEFAULT` to get the most up-to-date weights.\n",
      "  warnings.warn(msg)\n",
      "Downloading: \"https://download.pytorch.org/models/resnet34-b627a593.pth\" to /root/.cache/torch/hub/checkpoints/resnet34-b627a593.pth\n",
      "100%|██████████| 83.3M/83.3M [00:00<00:00, 301MB/s]\n"
     ]
    },
    {
     "name": "stdout",
     "output_type": "stream",
     "text": [
      "==========================================================================================\n",
      "Layer (type:depth-idx)                   Output Shape              Param #\n",
      "==========================================================================================\n",
      "├─ResNet: 1-1                            [-1, 1]                   --\n",
      "|    └─Conv2d: 2-1                       [-1, 64, 112, 112]        9,408\n",
      "|    └─BatchNorm2d: 2-2                  [-1, 64, 112, 112]        128\n",
      "|    └─ReLU: 2-3                         [-1, 64, 112, 112]        --\n",
      "|    └─MaxPool2d: 2-4                    [-1, 64, 56, 56]          --\n",
      "|    └─Sequential: 2-5                   [-1, 64, 56, 56]          --\n",
      "|    |    └─BasicBlock: 3-1              [-1, 64, 56, 56]          73,984\n",
      "|    |    └─BasicBlock: 3-2              [-1, 64, 56, 56]          73,984\n",
      "|    |    └─BasicBlock: 3-3              [-1, 64, 56, 56]          73,984\n",
      "|    └─Sequential: 2-6                   [-1, 128, 28, 28]         --\n",
      "|    |    └─BasicBlock: 3-4              [-1, 128, 28, 28]         230,144\n",
      "|    |    └─BasicBlock: 3-5              [-1, 128, 28, 28]         295,424\n",
      "|    |    └─BasicBlock: 3-6              [-1, 128, 28, 28]         295,424\n",
      "|    |    └─BasicBlock: 3-7              [-1, 128, 28, 28]         295,424\n",
      "|    └─Sequential: 2-7                   [-1, 256, 14, 14]         --\n",
      "|    |    └─BasicBlock: 3-8              [-1, 256, 14, 14]         919,040\n",
      "|    |    └─BasicBlock: 3-9              [-1, 256, 14, 14]         1,180,672\n",
      "|    |    └─BasicBlock: 3-10             [-1, 256, 14, 14]         1,180,672\n",
      "|    |    └─BasicBlock: 3-11             [-1, 256, 14, 14]         1,180,672\n",
      "|    |    └─BasicBlock: 3-12             [-1, 256, 14, 14]         1,180,672\n",
      "|    |    └─BasicBlock: 3-13             [-1, 256, 14, 14]         1,180,672\n",
      "|    └─Sequential: 2-8                   [-1, 512, 7, 7]           --\n",
      "|    |    └─BasicBlock: 3-14             [-1, 512, 7, 7]           3,673,088\n",
      "|    |    └─BasicBlock: 3-15             [-1, 512, 7, 7]           4,720,640\n",
      "|    |    └─BasicBlock: 3-16             [-1, 512, 7, 7]           4,720,640\n",
      "|    └─AdaptiveAvgPool2d: 2-9            [-1, 512, 1, 1]           --\n",
      "|    └─Sequential: 2-10                  [-1, 1]                   --\n",
      "|    |    └─Flatten: 3-17                [-1, 512]                 --\n",
      "|    |    └─BatchNorm1d: 3-18            [-1, 512]                 1,024\n",
      "|    |    └─Dropout: 3-19                [-1, 512]                 --\n",
      "|    |    └─Linear: 3-20                 [-1, 1]                   513\n",
      "|    |    └─Sigmoid: 3-21                [-1, 1]                   --\n",
      "==========================================================================================\n",
      "Total params: 21,286,209\n",
      "Trainable params: 21,286,209\n",
      "Non-trainable params: 0\n",
      "Total mult-adds (G): 3.71\n",
      "==========================================================================================\n",
      "Input size (MB): 0.57\n",
      "Forward/backward pass size (MB): 54.36\n",
      "Params size (MB): 81.20\n",
      "Estimated Total Size (MB): 136.14\n",
      "==========================================================================================\n"
     ]
    }
   ],
   "source": [
    "classifier = EyeClassifier(pretrained=True)\n",
    "_ = summary(classifier, torch.ones(1,3,224,224))"
   ]
  },
  {
   "cell_type": "markdown",
   "id": "fc57c3b2",
   "metadata": {
    "papermill": {
     "duration": 0.010394,
     "end_time": "2023-11-10T13:55:08.096537",
     "exception": false,
     "start_time": "2023-11-10T13:55:08.086143",
     "status": "completed"
    },
    "tags": []
   },
   "source": [
    "# Define Train and Validate Functions"
   ]
  },
  {
   "cell_type": "code",
   "execution_count": 17,
   "id": "8b45405d",
   "metadata": {
    "execution": {
     "iopub.execute_input": "2023-11-10T13:55:08.118571Z",
     "iopub.status.busy": "2023-11-10T13:55:08.118266Z",
     "iopub.status.idle": "2023-11-10T13:55:08.123052Z",
     "shell.execute_reply": "2023-11-10T13:55:08.122274Z"
    },
    "papermill": {
     "duration": 0.018013,
     "end_time": "2023-11-10T13:55:08.124935",
     "exception": false,
     "start_time": "2023-11-10T13:55:08.106922",
     "status": "completed"
    },
    "tags": []
   },
   "outputs": [],
   "source": [
    "def crop_image(image):\n",
    "    _, thresholded = cv.threshold(image, 0, 255, cv.THRESH_OTSU)\n",
    "    x, y, w, h = cv.boundingRect(thresholded)\n",
    "    return image[y:y+h, x:x+w]"
   ]
  },
  {
   "cell_type": "code",
   "execution_count": 18,
   "id": "8a9a864b",
   "metadata": {
    "execution": {
     "iopub.execute_input": "2023-11-10T13:55:08.147630Z",
     "iopub.status.busy": "2023-11-10T13:55:08.147254Z",
     "iopub.status.idle": "2023-11-10T13:55:08.158293Z",
     "shell.execute_reply": "2023-11-10T13:55:08.157273Z"
    },
    "papermill": {
     "duration": 0.025537,
     "end_time": "2023-11-10T13:55:08.160975",
     "exception": false,
     "start_time": "2023-11-10T13:55:08.135438",
     "status": "completed"
    },
    "tags": []
   },
   "outputs": [],
   "source": [
    "def train(data, classifier, optimizer, loss_fn):\n",
    "    classifier.train()\n",
    "    imgs, targets = data\n",
    "    outputs = classifier(imgs.to(device))\n",
    "    loss = loss_fn(outputs.to(device), targets.to(device))\n",
    "    optimizer.zero_grad()\n",
    "    loss.backward()\n",
    "    optimizer.step()\n",
    "    \n",
    "    outputs = outputs.cpu().detach().tolist()\n",
    "    targets = targets.cpu().detach().tolist()\n",
    "    preds = list(map(lambda x: int(x[0] > 0.5), outputs))\n",
    "    \n",
    "    fake_recall_score = recall_score(targets, preds, pos_label=0,zero_division=0)\n",
    "    fake_accuracy_score = accuracy_score(targets, preds)\n",
    "    fake_precision_score = precision_score(targets, preds, pos_label=0,zero_division=0)\n",
    "    fake_f1_score = f1_score(targets, preds, pos_label=0,zero_division=0)\n",
    "    fpr, tpr, thresholds = roc_curve(targets, outputs)\n",
    "    roc_auc = auc(fpr, tpr)\n",
    "    \n",
    "    return loss.cpu().detach().item(), fake_recall_score, fake_accuracy_score, fake_precision_score, fake_f1_score, fpr, tpr, roc_auc"
   ]
  },
  {
   "cell_type": "code",
   "execution_count": 19,
   "id": "28737e56",
   "metadata": {
    "execution": {
     "iopub.execute_input": "2023-11-10T13:55:08.186459Z",
     "iopub.status.busy": "2023-11-10T13:55:08.186205Z",
     "iopub.status.idle": "2023-11-10T13:55:08.193843Z",
     "shell.execute_reply": "2023-11-10T13:55:08.192974Z"
    },
    "papermill": {
     "duration": 0.020791,
     "end_time": "2023-11-10T13:55:08.195700",
     "exception": false,
     "start_time": "2023-11-10T13:55:08.174909",
     "status": "completed"
    },
    "tags": []
   },
   "outputs": [],
   "source": [
    "@torch.no_grad()\n",
    "def validate(data, classifier, loss_fn):\n",
    "    classifier.eval()\n",
    "    imgs, targets = data\n",
    "    outputs = classifier(imgs.to(device))\n",
    "    loss = loss_fn(outputs.to(device), targets.to(device))\n",
    "    \n",
    "    outputs = outputs.cpu().detach().tolist()\n",
    "    targets = targets.cpu().detach().tolist()\n",
    "    preds = list(map(lambda x: int(x[0] > 0.5), outputs))\n",
    "    fake_recall_score = recall_score(targets, preds, pos_label=0, zero_division=0)\n",
    "    fake_accuracy_score = accuracy_score(targets, preds)\n",
    "    fake_precision_score = precision_score(targets, preds, pos_label=0,zero_division=0)\n",
    "    fake_f1_score = f1_score(targets, preds, pos_label=0,zero_division=0)\n",
    "    fpr, tpr, thresholds = roc_curve(targets, outputs)\n",
    "    roc_auc = auc(fpr, tpr)\n",
    "    \n",
    "    return loss.cpu().detach().item(), fake_recall_score, fake_accuracy_score, fake_precision_score, fake_f1_score, fpr, tpr, roc_auc"
   ]
  },
  {
   "cell_type": "markdown",
   "id": "cdfeb733",
   "metadata": {
    "papermill": {
     "duration": 0.010279,
     "end_time": "2023-11-10T13:55:08.216256",
     "exception": false,
     "start_time": "2023-11-10T13:55:08.205977",
     "status": "completed"
    },
    "tags": []
   },
   "source": [
    "# Training Model"
   ]
  },
  {
   "cell_type": "code",
   "execution_count": 20,
   "id": "a5b4ccb3",
   "metadata": {
    "execution": {
     "iopub.execute_input": "2023-11-10T13:55:08.238128Z",
     "iopub.status.busy": "2023-11-10T13:55:08.237842Z",
     "iopub.status.idle": "2023-11-10T13:55:08.692493Z",
     "shell.execute_reply": "2023-11-10T13:55:08.691654Z"
    },
    "papermill": {
     "duration": 0.4682,
     "end_time": "2023-11-10T13:55:08.694846",
     "exception": false,
     "start_time": "2023-11-10T13:55:08.226646",
     "status": "completed"
    },
    "tags": []
   },
   "outputs": [],
   "source": [
    "classifier = EyeClassifier(pretrained=True).to(device)\n",
    "loss_fn = nn.BCELoss().to(device)\n",
    "optimizer = optim.Adam(classifier.parameters(), lr=1e-4, weight_decay=1e-4)\n",
    "scheduler = optim.lr_scheduler.StepLR(optimizer, step_size=3,\n",
    "                                      gamma=0.25)\n",
    "best_auc_score = 0\n",
    "n_epochs = 10\n",
    "xticks = list(i+1 for i in range(n_epochs))"
   ]
  },
  {
   "cell_type": "code",
   "execution_count": 21,
   "id": "b369a730",
   "metadata": {
    "execution": {
     "iopub.execute_input": "2023-11-10T13:55:08.758461Z",
     "iopub.status.busy": "2023-11-10T13:55:08.758144Z",
     "iopub.status.idle": "2023-11-10T14:19:40.399409Z",
     "shell.execute_reply": "2023-11-10T14:19:40.398344Z"
    },
    "papermill": {
     "duration": 1471.655466,
     "end_time": "2023-11-10T14:19:40.401773",
     "exception": false,
     "start_time": "2023-11-10T13:55:08.746307",
     "status": "completed"
    },
    "tags": []
   },
   "outputs": [
    {
     "data": {
      "application/vnd.jupyter.widget-view+json": {
       "model_id": "7db8c35825664655b02e816c8edb02c7",
       "version_major": 2,
       "version_minor": 0
      },
      "text/plain": [
       "Training:   0%|          | 0/10 [00:00<?, ?it/s]"
      ]
     },
     "metadata": {},
     "output_type": "display_data"
    },
    {
     "name": "stdout",
     "output_type": "stream",
     "text": [
      "epoch: 1 \ttrain loss: 0.722 \ttrain recall score: 0.529 \ttrain accuracy score: 0.545 \ttrain precision score: 0.897 \ttrain f1 score: 0.663 \ttrain auc: 0.633 \tvalid loss: 0.449 \tvalid recall score: 0.928 \tvalid accuracy score: 0.862 \tvalid precision score: 0.912 \tvalid f1 score: 0.920 \tvalid auc: 0.819\n",
      "epoch: 2 \ttrain loss: 0.523 \ttrain recall score: 0.739 \ttrain accuracy score: 0.763 \ttrain precision score: 0.981 \ttrain f1 score: 0.839 \ttrain auc: 0.928 \tvalid loss: 0.503 \tvalid recall score: 0.868 \tvalid accuracy score: 0.840 \tvalid precision score: 0.941 \tvalid f1 score: 0.901 \tvalid auc: 0.825\n",
      "epoch: 3 \ttrain loss: 0.360 \ttrain recall score: 0.950 \ttrain accuracy score: 0.934 \ttrain precision score: 0.975 \ttrain f1 score: 0.961 \ttrain auc: 0.968 \tvalid loss: 0.647 \tvalid recall score: 0.871 \tvalid accuracy score: 0.837 \tvalid precision score: 0.935 \tvalid f1 score: 0.901 \tvalid auc: 0.851\n",
      "epoch: 4 \ttrain loss: 0.222 \ttrain recall score: 0.991 \ttrain accuracy score: 0.977 \ttrain precision score: 0.982 \ttrain f1 score: 0.986 \ttrain auc: 0.996 \tvalid loss: 0.748 \tvalid recall score: 0.903 \tvalid accuracy score: 0.875 \tvalid precision score: 0.949 \tvalid f1 score: 0.925 \tvalid auc: 0.883\n",
      "epoch: 5 \ttrain loss: 0.191 \ttrain recall score: 0.984 \ttrain accuracy score: 0.976 \ttrain precision score: 0.988 \ttrain f1 score: 0.986 \ttrain auc: 0.999 \tvalid loss: 0.460 \tvalid recall score: 0.935 \tvalid accuracy score: 0.887 \tvalid precision score: 0.934 \tvalid f1 score: 0.934 \tvalid auc: 0.868\n",
      "epoch: 6 \ttrain loss: 0.168 \ttrain recall score: 0.993 \ttrain accuracy score: 0.988 \ttrain precision score: 0.993 \ttrain f1 score: 0.993 \ttrain auc: 0.999 \tvalid loss: 0.439 \tvalid recall score: 0.953 \tvalid accuracy score: 0.899 \tvalid precision score: 0.930 \tvalid f1 score: 0.941 \tvalid auc: 0.840\n",
      "epoch: 7 \ttrain loss: 0.138 \ttrain recall score: 0.996 \ttrain accuracy score: 0.994 \ttrain precision score: 0.996 \ttrain f1 score: 0.996 \ttrain auc: 0.999 \tvalid loss: 0.843 \tvalid recall score: 0.936 \tvalid accuracy score: 0.893 \tvalid precision score: 0.940 \tvalid f1 score: 0.937 \tvalid auc: 0.873\n",
      "epoch: 8 \ttrain loss: 0.152 \ttrain recall score: 0.989 \ttrain accuracy score: 0.987 \ttrain precision score: 0.996 \ttrain f1 score: 0.992 \ttrain auc: 0.999 \tvalid loss: 1.498 \tvalid recall score: 0.909 \tvalid accuracy score: 0.875 \tvalid precision score: 0.943 \tvalid f1 score: 0.925 \tvalid auc: 0.891\n",
      "epoch: 9 \ttrain loss: 0.143 \ttrain recall score: 0.996 \ttrain accuracy score: 0.994 \ttrain precision score: 0.997 \ttrain f1 score: 0.996 \ttrain auc: 0.999 \tvalid loss: 0.894 \tvalid recall score: 0.929 \tvalid accuracy score: 0.892 \tvalid precision score: 0.945 \tvalid f1 score: 0.936 \tvalid auc: 0.879\n",
      "epoch: 10 \ttrain loss: 0.134 \ttrain recall score: 0.999 \ttrain accuracy score: 0.997 \ttrain precision score: 0.998 \ttrain f1 score: 0.998 \ttrain auc: 0.999 \tvalid loss: 0.849 \tvalid recall score: 0.935 \tvalid accuracy score: 0.897 \tvalid precision score: 0.945 \tvalid f1 score: 0.939 \tvalid auc: 0.871\n"
     ]
    }
   ],
   "source": [
    "mem = {\n",
    "    'train_loss': [],\n",
    "    'train_recall_score': [],\n",
    "    'train_accuracy_score': [],\n",
    "    'train_precision_score': [],\n",
    "    'train_f1_score': [],\n",
    "    'train_tpr': [],\n",
    "    'train_fpr': [],\n",
    "    'train_auc': [],\n",
    "    'valid_loss': [],\n",
    "    'valid_recall_score': [],\n",
    "    'valid_accuracy_score': [],\n",
    "    'valid_precision_score': [],\n",
    "    'valid_f1_score': [],\n",
    "    'valid_tpr': [],\n",
    "    'valid_fpr': [],\n",
    "    'valid_auc': [],\n",
    "}\n",
    "\n",
    "for epoch in tqdm(range(n_epochs), desc='Training'):\n",
    "    n_batch = len(train_dl)\n",
    "    train_losses, train_recall_scores, train_accuracy_scores, train_precision_scores, train_f1_scores, train_tprs, train_fprs, train_aucs = [], [], [], [], [], [], [], []\n",
    "    for i, data in enumerate(train_dl):\n",
    "        train_loss, train_recall_score, train_accuracy_score, train_precision_score, train_f1_score, train_tpr, train_fpr, train_auc = train(data, classifier, optimizer, loss_fn)\n",
    "        train_losses.append(train_loss)\n",
    "        train_recall_scores.append(train_recall_score)\n",
    "        train_accuracy_scores.append(train_accuracy_score)\n",
    "        train_precision_scores.append(train_precision_score)\n",
    "        train_f1_scores.append(train_f1_score)\n",
    "        train_tprs.append(train_tpr)\n",
    "        train_fprs.append(train_fpr)\n",
    "        train_aucs.append(train_auc)\n",
    "        pos = epoch + ((i+1)/n_batch)\n",
    "        print(\n",
    "            'epoch:', \"%.3f\" % pos,\n",
    "            '\\ttrain loss:', \"%.3f\" % train_loss,\n",
    "            '\\ttrain recall score:', \"%.3f\" % train_recall_score, \n",
    "            '\\ttrain accuracy score:', \"%.3f\" % train_accuracy_score, \n",
    "            '\\ttrain precision score:', \"%.3f\" % train_precision_score, \n",
    "            '\\ttrain f1 score:', \"%.3f\" % train_f1_score, \n",
    "            '\\ttrain auc:', \"%.3f\" % train_auc, \n",
    "            end='\\r'\n",
    "        )\n",
    "        \n",
    "    mem['train_loss'].append(np.mean(train_losses))\n",
    "    mem['train_recall_score'].append(np.mean(train_recall_scores))\n",
    "    mem['train_accuracy_score'].append(np.mean(train_accuracy_scores))\n",
    "    mem['train_precision_score'].append(np.mean(train_precision_scores))\n",
    "    mem['train_f1_score'].append(np.mean(train_f1_scores))\n",
    "    mem['train_tpr'].append(np.concatenate(train_fprs))\n",
    "    mem['train_fpr'].append(np.concatenate(train_tprs))\n",
    "    mem['train_auc'].append(np.mean(train_aucs))\n",
    "    \n",
    "    n_batch = len(valid_dl)\n",
    "    valid_losses, valid_recall_scores, valid_f1_scores, valid_accuracy_scores, valid_precision_scores, valid_tprs, valid_fprs, valid_aucs =  [], [], [], [], [], [], [], []\n",
    "    for i, data in enumerate(valid_dl):\n",
    "        valid_loss, valid_recall_score, valid_accuracy_score, valid_precision_score, valid_f1_score, valid_tpr, valid_fpr, valid_auc = validate(data, classifier, loss_fn)\n",
    "        valid_losses.append(valid_loss)\n",
    "        valid_recall_scores.append(valid_recall_score)\n",
    "        valid_accuracy_scores.append(valid_accuracy_score)\n",
    "        valid_precision_scores.append(valid_precision_score)\n",
    "        valid_f1_scores.append(valid_f1_score)\n",
    "        valid_tprs.append(valid_tpr)\n",
    "        valid_fprs.append(valid_fpr)\n",
    "        valid_aucs.append(valid_auc)\n",
    "        pos = epoch + ((i+1)/n_batch)\n",
    "        print(\n",
    "            'epoch:', \"%.3f\" % pos,\n",
    "            '\\tvalid loss:', \"%.3f\" % valid_loss,\n",
    "            '\\tvalid recall score:', \"%.3f\" % valid_recall_score, \n",
    "            '\\tvalid accuracy score:', \"%.3f\" % valid_accuracy_score, \n",
    "            '\\tvalid precision score:', \"%.3f\" % valid_precision_score, \n",
    "            '\\tvalid f1 score:', \"%.3f\" % valid_f1_score, \n",
    "            '\\tvalid auc:', \"%.3f\" % valid_auc, \n",
    "            end='\\r'\n",
    "        )\n",
    "    \n",
    "    cur_auc_score = np.mean(valid_aucs)\n",
    "    mem['valid_loss'].append(np.mean(valid_losses))\n",
    "    mem['valid_recall_score'].append(np.mean(valid_recall_scores))\n",
    "    mem['valid_accuracy_score'].append(np.mean(valid_accuracy_scores))\n",
    "    mem['valid_precision_score'].append(np.mean(valid_precision_scores))\n",
    "    mem['valid_f1_score'].append(np.mean(valid_f1_scores))\n",
    "    mem['valid_tpr'].append(np.concatenate(valid_fprs))\n",
    "    mem['valid_fpr'].append(np.concatenate(valid_tprs))\n",
    "    mem['valid_auc'].append(np.mean(valid_aucs))\n",
    "    \n",
    "    print(\n",
    "        'epoch:', epoch+1,\n",
    "        '\\ttrain loss:', \"%.3f\" % mem['train_loss'][-1],\n",
    "        '\\ttrain recall score:', \"%.3f\" % mem['train_recall_score'][-1],\n",
    "        '\\ttrain accuracy score:', \"%.3f\" % mem['train_accuracy_score'][-1],\n",
    "        '\\ttrain precision score:', \"%.3f\" % mem['train_precision_score'][-1],\n",
    "        '\\ttrain f1 score:', \"%.3f\" % mem['train_f1_score'][-1],\n",
    "        '\\ttrain auc:', \"%.3f\" % mem['train_auc'][-1],\n",
    "        '\\tvalid loss:', \"%.3f\" % mem['valid_loss'][-1],\n",
    "        '\\tvalid recall score:', \"%.3f\" % mem['valid_recall_score'][-1],\n",
    "        '\\tvalid accuracy score:', \"%.3f\" % mem['valid_accuracy_score'][-1],\n",
    "        '\\tvalid precision score:', \"%.3f\" % mem['valid_precision_score'][-1],\n",
    "        '\\tvalid f1 score:', \"%.3f\" % mem['valid_f1_score'][-1],\n",
    "        '\\tvalid auc:', \"%.3f\" % mem['valid_auc'][-1],\n",
    "    )\n",
    "    \n",
    "    if best_auc_score < cur_auc_score:\n",
    "        best_auc_score = cur_auc_score\n",
    "        torch.save(classifier.state_dict(), './saved_model/diabetic_state_dict.pth')\n",
    "        torch.save(classifier, './saved_model/diabetic_model.pth')\n",
    "        \n",
    "    scheduler.step()"
   ]
  },
  {
   "cell_type": "code",
   "execution_count": 22,
   "id": "451a1a1c",
   "metadata": {
    "execution": {
     "iopub.execute_input": "2023-11-10T14:19:40.470438Z",
     "iopub.status.busy": "2023-11-10T14:19:40.470035Z",
     "iopub.status.idle": "2023-11-10T14:19:40.864780Z",
     "shell.execute_reply": "2023-11-10T14:19:40.863929Z"
    },
    "papermill": {
     "duration": 0.431568,
     "end_time": "2023-11-10T14:19:40.867222",
     "exception": false,
     "start_time": "2023-11-10T14:19:40.435654",
     "status": "completed"
    },
    "tags": []
   },
   "outputs": [
    {
     "data": {
      "image/png": "[encoded data removed]",
      "text/plain": [
       "<Figure size 640x480 with 1 Axes>"
      ]
     },
     "metadata": {},
     "output_type": "display_data"
    }
   ],
   "source": [
    "plt.plot(xticks, mem['train_loss'])\n",
    "plt.plot(xticks, mem['valid_loss'])\n",
    "plt.legend(['train', 'valid'])\n",
    "plt.xlabel('epoch')\n",
    "plt.title('loss')\n",
    "plt.show()"
   ]
  },
  {
   "cell_type": "code",
   "execution_count": 23,
   "id": "45e74cc7",
   "metadata": {
    "execution": {
     "iopub.execute_input": "2023-11-10T14:19:40.934873Z",
     "iopub.status.busy": "2023-11-10T14:19:40.934491Z",
     "iopub.status.idle": "2023-11-10T14:19:41.293348Z",
     "shell.execute_reply": "2023-11-10T14:19:41.292476Z"
    },
    "papermill": {
     "duration": 0.394874,
     "end_time": "2023-11-10T14:19:41.295501",
     "exception": false,
     "start_time": "2023-11-10T14:19:40.900627",
     "status": "completed"
    },
    "tags": []
   },
   "outputs": [
    {
     "data": {
      "image/png": "[encoded data removed]",
      "text/plain": [
       "<Figure size 640x480 with 1 Axes>"
      ]
     },
     "metadata": {},
     "output_type": "display_data"
    }
   ],
   "source": [
    "plt.plot(xticks, mem['train_recall_score'])\n",
    "plt.plot(xticks, mem['valid_recall_score'])\n",
    "plt.legend(['train', 'valid'])\n",
    "plt.xlabel('epoch')\n",
    "plt.title('recall score')\n",
    "plt.show()"
   ]
  },
  {
   "cell_type": "code",
   "execution_count": 24,
   "id": "03645ae5",
   "metadata": {
    "execution": {
     "iopub.execute_input": "2023-11-10T14:19:41.365460Z",
     "iopub.status.busy": "2023-11-10T14:19:41.365104Z",
     "iopub.status.idle": "2023-11-10T14:19:41.716953Z",
     "shell.execute_reply": "2023-11-10T14:19:41.715968Z"
    },
    "papermill": {
     "duration": 0.388469,
     "end_time": "2023-11-10T14:19:41.718947",
     "exception": false,
     "start_time": "2023-11-10T14:19:41.330478",
     "status": "completed"
    },
    "tags": []
   },
   "outputs": [
    {
     "data": {
      "image/png": "[encoded data removed]",
      "text/plain": [
       "<Figure size 640x480 with 1 Axes>"
      ]
     },
     "metadata": {},
     "output_type": "display_data"
    }
   ],
   "source": [
    "plt.plot(xticks, mem['train_accuracy_score'])\n",
    "plt.plot(xticks, mem['valid_accuracy_score'])\n",
    "plt.legend(['train', 'valid'])\n",
    "plt.xlabel('epoch')\n",
    "plt.title('accuracy score')\n",
    "plt.show()"
   ]
  },
  {
   "cell_type": "code",
   "execution_count": 25,
   "id": "a02161a4",
   "metadata": {
    "execution": {
     "iopub.execute_input": "2023-11-10T14:19:41.787664Z",
     "iopub.status.busy": "2023-11-10T14:19:41.787310Z",
     "iopub.status.idle": "2023-11-10T14:19:42.097985Z",
     "shell.execute_reply": "2023-11-10T14:19:42.097074Z"
    },
    "papermill": {
     "duration": 0.347388,
     "end_time": "2023-11-10T14:19:42.099950",
     "exception": false,
     "start_time": "2023-11-10T14:19:41.752562",
     "status": "completed"
    },
    "tags": []
   },
   "outputs": [
    {
     "data": {
      "image/png": "[encoded data removed]",
      "text/plain": [
       "<Figure size 640x480 with 1 Axes>"
      ]
     },
     "metadata": {},
     "output_type": "display_data"
    }
   ],
   "source": [
    "plt.plot(xticks, mem['train_precision_score'])\n",
    "plt.plot(xticks, mem['valid_precision_score'])\n",
    "plt.legend(['train', 'valid'])\n",
    "plt.xlabel('epoch')\n",
    "plt.title('precision score')\n",
    "plt.show()"
   ]
  },
  {
   "cell_type": "code",
   "execution_count": 26,
   "id": "ebcd4413",
   "metadata": {
    "execution": {
     "iopub.execute_input": "2023-11-10T14:19:42.169200Z",
     "iopub.status.busy": "2023-11-10T14:19:42.168484Z",
     "iopub.status.idle": "2023-11-10T14:19:42.468535Z",
     "shell.execute_reply": "2023-11-10T14:19:42.467626Z"
    },
    "papermill": {
     "duration": 0.337052,
     "end_time": "2023-11-10T14:19:42.470784",
     "exception": false,
     "start_time": "2023-11-10T14:19:42.133732",
     "status": "completed"
    },
    "tags": []
   },
   "outputs": [
    {
     "data": {
      "image/png": "[encoded data removed]",
      "text/plain": [
       "<Figure size 640x480 with 1 Axes>"
      ]
     },
     "metadata": {},
     "output_type": "display_data"
    }
   ],
   "source": [
    "plt.plot(xticks, mem['train_f1_score'])\n",
    "plt.plot(xticks, mem['valid_f1_score'])\n",
    "plt.legend(['train', 'valid'])\n",
    "plt.xlabel('epoch')\n",
    "plt.title('f1 score')\n",
    "plt.show()"
   ]
  },
  {
   "cell_type": "code",
   "execution_count": 27,
   "id": "3c1fa0c6",
   "metadata": {
    "execution": {
     "iopub.execute_input": "2023-11-10T14:19:42.542276Z",
     "iopub.status.busy": "2023-11-10T14:19:42.541919Z",
     "iopub.status.idle": "2023-11-10T14:19:42.910845Z",
     "shell.execute_reply": "2023-11-10T14:19:42.909835Z"
    },
    "papermill": {
     "duration": 0.406244,
     "end_time": "2023-11-10T14:19:42.912922",
     "exception": false,
     "start_time": "2023-11-10T14:19:42.506678",
     "status": "completed"
    },
    "tags": []
   },
   "outputs": [
    {
     "data": {
      "image/png": "[encoded data removed]",
      "text/plain": [
       "<Figure size 640x480 with 1 Axes>"
      ]
     },
     "metadata": {},
     "output_type": "display_data"
    }
   ],
   "source": [
    "plt.plot(xticks, mem['train_auc'])\n",
    "plt.plot(xticks, mem['valid_auc'])\n",
    "plt.legend(['train', 'valid'])\n",
    "plt.xlabel('epoch')\n",
    "plt.title('auc score')\n",
    "plt.show()"
   ]
  }
 ],
 "metadata": {
  "kernelspec": {
   "display_name": "Python 3",
   "language": "python",
   "name": "python3"
  },
  "language_info": {
   "codemirror_mode": {
    "name": "ipython",
    "version": 3
   },
   "file_extension": ".py",
   "mimetype": "text/x-python",
   "name": "python",
   "nbconvert_exporter": "python",
   "pygments_lexer": "ipython3",
   "version": "3.10.12"
  },
  "papermill": {
   "default_parameters": {},
   "duration": 1508.821833,
   "end_time": "2023-11-10T14:19:44.776920",
   "environment_variables": {},
   "exception": null,
   "input_path": "__notebook__.ipynb",
   "output_path": "__notebook__.ipynb",
   "parameters": {},
   "start_time": "2023-11-10T13:54:35.955087",
   "version": "2.4.0"
  },
  "widgets": {
   "application/vnd.jupyter.widget-state+json": {
    "state": {
     "1759f2b23fd045219984e3d82f97377f": {
      "model_module": "@jupyter-widgets/controls",
      "model_module_version": "1.5.0",
      "model_name": "DescriptionStyleModel",
      "state": {
       "_model_module": "@jupyter-widgets/controls",
       "_model_module_version": "1.5.0",
       "_model_name": "DescriptionStyleModel",
       "_view_count": null,
       "_view_module": "@jupyter-widgets/base",
       "_view_module_version": "1.2.0",
       "_view_name": "StyleView",
       "description_width": ""
      }
     },
     "37ed420af843484bb899098b520e6f4d": {
      "model_module": "@jupyter-widgets/controls",
      "model_module_version": "1.5.0",
      "model_name": "DescriptionStyleModel",
      "state": {
       "_model_module": "@jupyter-widgets/controls",
       "_model_module_version": "1.5.0",
       "_model_name": "DescriptionStyleModel",
       "_view_count": null,
       "_view_module": "@jupyter-widgets/base",
       "_view_module_version": "1.2.0",
       "_view_name": "StyleView",
       "description_width": ""
      }
     },
     "3cc3ab3327104829a22d8db8b114053c": {
      "model_module": "@jupyter-widgets/controls",
      "model_module_version": "1.5.0",
      "model_name": "FloatProgressModel",
      "state": {
       "_dom_classes": [],
       "_model_module": "@jupyter-widgets/controls",
       "_model_module_version": "1.5.0",
       "_model_name": "FloatProgressModel",
       "_view_count": null,
       "_view_module": "@jupyter-widgets/controls",
       "_view_module_version": "1.5.0",
       "_view_name": "ProgressView",
       "bar_style": "success",
       "description": "",
       "description_tooltip": null,
       "layout": "IPY_MODEL_6619eaa36a8540aa98a808e312cc6ce7",
       "max": 10.0,
       "min": 0.0,
       "orientation": "horizontal",
       "style": "IPY_MODEL_920500e2f0154f05b5f6af41fa03ccff",
       "value": 10.0
      }
     },
     "4e44af67cedf403d8d435b9138c105f8": {
      "model_module": "@jupyter-widgets/base",
      "model_module_version": "1.2.0",
      "model_name": "LayoutModel",
      "state": {
       "_model_module": "@jupyter-widgets/base",
       "_model_module_version": "1.2.0",
       "_model_name": "LayoutModel",
       "_view_count": null,
       "_view_module": "@jupyter-widgets/base",
       "_view_module_version": "1.2.0",
       "_view_name": "LayoutView",
       "align_content": null,
       "align_items": null,
       "align_self": null,
       "border": null,
       "bottom": null,
       "display": null,
       "flex": null,
       "flex_flow": null,
       "grid_area": null,
       "grid_auto_columns": null,
       "grid_auto_flow": null,
       "grid_auto_rows": null,
       "grid_column": null,
       "grid_gap": null,
       "grid_row": null,
       "grid_template_areas": null,
       "grid_template_columns": null,
       "grid_template_rows": null,
       "height": null,
       "justify_content": null,
       "justify_items": null,
       "left": null,
       "margin": null,
       "max_height": null,
       "max_width": null,
       "min_height": null,
       "min_width": null,
       "object_fit": null,
       "object_position": null,
       "order": null,
       "overflow": null,
       "overflow_x": null,
       "overflow_y": null,
       "padding": null,
       "right": null,
       "top": null,
       "visibility": null,
       "width": null
      }
     },
     "5dd1388bf26240aeb709e6af47c56ecf": {
      "model_module": "@jupyter-widgets/base",
      "model_module_version": "1.2.0",
      "model_name": "LayoutModel",
      "state": {
       "_model_module": "@jupyter-widgets/base",
       "_model_module_version": "1.2.0",
       "_model_name": "LayoutModel",
       "_view_count": null,
       "_view_module": "@jupyter-widgets/base",
       "_view_module_version": "1.2.0",
       "_view_name": "LayoutView",
       "align_content": null,
       "align_items": null,
       "align_self": null,
       "border": null,
       "bottom": null,
       "display": null,
       "flex": null,
       "flex_flow": null,
       "grid_area": null,
       "grid_auto_columns": null,
       "grid_auto_flow": null,
       "grid_auto_rows": null,
       "grid_column": null,
       "grid_gap": null,
       "grid_row": null,
       "grid_template_areas": null,
       "grid_template_columns": null,
       "grid_template_rows": null,
       "height": null,
       "justify_content": null,
       "justify_items": null,
       "left": null,
       "margin": null,
       "max_height": null,
       "max_width": null,
       "min_height": null,
       "min_width": null,
       "object_fit": null,
       "object_position": null,
       "order": null,
       "overflow": null,
       "overflow_x": null,
       "overflow_y": null,
       "padding": null,
       "right": null,
       "top": null,
       "visibility": null,
       "width": null
      }
     },
     "6619eaa36a8540aa98a808e312cc6ce7": {
      "model_module": "@jupyter-widgets/base",
      "model_module_version": "1.2.0",
      "model_name": "LayoutModel",
      "state": {
       "_model_module": "@jupyter-widgets/base",
       "_model_module_version": "1.2.0",
       "_model_name": "LayoutModel",
       "_view_count": null,
       "_view_module": "@jupyter-widgets/base",
       "_view_module_version": "1.2.0",
       "_view_name": "LayoutView",
       "align_content": null,
       "align_items": null,
       "align_self": null,
       "border": null,
       "bottom": null,
       "display": null,
       "flex": null,
       "flex_flow": null,
       "grid_area": null,
       "grid_auto_columns": null,
       "grid_auto_flow": null,
       "grid_auto_rows": null,
       "grid_column": null,
       "grid_gap": null,
       "grid_row": null,
       "grid_template_areas": null,
       "grid_template_columns": null,
       "grid_template_rows": null,
       "height": null,
       "justify_content": null,
       "justify_items": null,
       "left": null,
       "margin": null,
       "max_height": null,
       "max_width": null,
       "min_height": null,
       "min_width": null,
       "object_fit": null,
       "object_position": null,
       "order": null,
       "overflow": null,
       "overflow_x": null,
       "overflow_y": null,
       "padding": null,
       "right": null,
       "top": null,
       "visibility": null,
       "width": null
      }
     },
     "789307340b11432087d9b11031271448": {
      "model_module": "@jupyter-widgets/controls",
      "model_module_version": "1.5.0",
      "model_name": "HTMLModel",
      "state": {
       "_dom_classes": [],
       "_model_module": "@jupyter-widgets/controls",
       "_model_module_version": "1.5.0",
       "_model_name": "HTMLModel",
       "_view_count": null,
       "_view_module": "@jupyter-widgets/controls",
       "_view_module_version": "1.5.0",
       "_view_name": "HTMLView",
       "description": "",
       "description_tooltip": null,
       "layout": "IPY_MODEL_9af3ff5bff8547a984e36265be81d4a1",
       "placeholder": "​",
       "style": "IPY_MODEL_37ed420af843484bb899098b520e6f4d",
       "value": " 10/10 [24:31&lt;00:00, 146.55s/it]"
      }
     },
     "7db8c35825664655b02e816c8edb02c7": {
      "model_module": "@jupyter-widgets/controls",
      "model_module_version": "1.5.0",
      "model_name": "HBoxModel",
      "state": {
       "_dom_classes": [],
       "_model_module": "@jupyter-widgets/controls",
       "_model_module_version": "1.5.0",
       "_model_name": "HBoxModel",
       "_view_count": null,
       "_view_module": "@jupyter-widgets/controls",
       "_view_module_version": "1.5.0",
       "_view_name": "HBoxView",
       "box_style": "",
       "children": [
        "IPY_MODEL_ce4ce80c9b734a479c3f5cf137311f7d",
        "IPY_MODEL_3cc3ab3327104829a22d8db8b114053c",
        "IPY_MODEL_789307340b11432087d9b11031271448"
       ],
       "layout": "IPY_MODEL_4e44af67cedf403d8d435b9138c105f8"
      }
     },
     "920500e2f0154f05b5f6af41fa03ccff": {
      "model_module": "@jupyter-widgets/controls",
      "model_module_version": "1.5.0",
      "model_name": "ProgressStyleModel",
      "state": {
       "_model_module": "@jupyter-widgets/controls",
       "_model_module_version": "1.5.0",
       "_model_name": "ProgressStyleModel",
       "_view_count": null,
       "_view_module": "@jupyter-widgets/base",
       "_view_module_version": "1.2.0",
       "_view_name": "StyleView",
       "bar_color": null,
       "description_width": ""
      }
     },
     "9af3ff5bff8547a984e36265be81d4a1": {
      "model_module": "@jupyter-widgets/base",
      "model_module_version": "1.2.0",
      "model_name": "LayoutModel",
      "state": {
       "_model_module": "@jupyter-widgets/base",
       "_model_module_version": "1.2.0",
       "_model_name": "LayoutModel",
       "_view_count": null,
       "_view_module": "@jupyter-widgets/base",
       "_view_module_version": "1.2.0",
       "_view_name": "LayoutView",
       "align_content": null,
       "align_items": null,
       "align_self": null,
       "border": null,
       "bottom": null,
       "display": null,
       "flex": null,
       "flex_flow": null,
       "grid_area": null,
       "grid_auto_columns": null,
       "grid_auto_flow": null,
       "grid_auto_rows": null,
       "grid_column": null,
       "grid_gap": null,
       "grid_row": null,
       "grid_template_areas": null,
       "grid_template_columns": null,
       "grid_template_rows": null,
       "height": null,
       "justify_content": null,
       "justify_items": null,
       "left": null,
       "margin": null,
       "max_height": null,
       "max_width": null,
       "min_height": null,
       "min_width": null,
       "object_fit": null,
       "object_position": null,
       "order": null,
       "overflow": null,
       "overflow_x": null,
       "overflow_y": null,
       "padding": null,
       "right": null,
       "top": null,
       "visibility": null,
       "width": null
      }
     },
     "ce4ce80c9b734a479c3f5cf137311f7d": {
      "model_module": "@jupyter-widgets/controls",
      "model_module_version": "1.5.0",
      "model_name": "HTMLModel",
      "state": {
       "_dom_classes": [],
       "_model_module": "@jupyter-widgets/controls",
       "_model_module_version": "1.5.0",
       "_model_name": "HTMLModel",
       "_view_count": null,
       "_view_module": "@jupyter-widgets/controls",
       "_view_module_version": "1.5.0",
       "_view_name": "HTMLView",
       "description": "",
       "description_tooltip": null,
       "layout": "IPY_MODEL_5dd1388bf26240aeb709e6af47c56ecf",
       "placeholder": "​",
       "style": "IPY_MODEL_1759f2b23fd045219984e3d82f97377f",
       "value": "Training: 100%"
      }
     }
    },
    "version_major": 2,
    "version_minor": 0
   }
  }
 },
 "nbformat": 4,
 "nbformat_minor": 5
}
