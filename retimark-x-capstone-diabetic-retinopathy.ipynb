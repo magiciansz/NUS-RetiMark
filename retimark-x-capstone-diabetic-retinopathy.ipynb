{
 "cells": [
  {
   "cell_type": "markdown",
   "id": "c99b5f00",
   "metadata": {
    "papermill": {
     "duration": 0.003725,
     "end_time": "2023-10-19T16:59:24.757669",
     "exception": false,
     "start_time": "2023-10-19T16:59:24.753944",
     "status": "completed"
    },
    "tags": []
   },
   "source": [
    "# Install Dependencies"
   ]
  },
  {
   "cell_type": "code",
   "execution_count": 1,
   "id": "abb28db1",
   "metadata": {
    "execution": {
     "iopub.execute_input": "2023-10-19T16:59:24.765245Z",
     "iopub.status.busy": "2023-10-19T16:59:24.764976Z",
     "iopub.status.idle": "2023-10-19T16:59:34.205895Z",
     "shell.execute_reply": "2023-10-19T16:59:34.204821Z"
    },
    "papermill": {
     "duration": 9.44708,
     "end_time": "2023-10-19T16:59:34.208045",
     "exception": false,
     "start_time": "2023-10-19T16:59:24.760965",
     "status": "completed"
    },
    "tags": []
   },
   "outputs": [
    {
     "name": "stdout",
     "output_type": "stream",
     "text": [
      "Collecting torch_summary\r\n",
      "  Downloading torch_summary-1.4.5-py3-none-any.whl (16 kB)\r\n",
      "Installing collected packages: torch_summary\r\n",
      "Successfully installed torch_summary-1.4.5\r\n"
     ]
    }
   ],
   "source": [
    "!pip install torch_summary"
   ]
  },
  {
   "cell_type": "markdown",
   "id": "c1e1381d",
   "metadata": {
    "papermill": {
     "duration": 0.003451,
     "end_time": "2023-10-19T16:59:34.215372",
     "exception": false,
     "start_time": "2023-10-19T16:59:34.211921",
     "status": "completed"
    },
    "tags": []
   },
   "source": [
    "# Import Libraries"
   ]
  },
  {
   "cell_type": "code",
   "execution_count": 2,
   "id": "6d788bfa",
   "metadata": {
    "_cell_guid": "b1076dfc-b9ad-4769-8c92-a6c4dae69d19",
    "_uuid": "8f2839f25d086af736a60e9eeb907d3b93b6e0e5",
    "execution": {
     "iopub.execute_input": "2023-10-19T16:59:34.223798Z",
     "iopub.status.busy": "2023-10-19T16:59:34.223472Z",
     "iopub.status.idle": "2023-10-19T16:59:39.949367Z",
     "shell.execute_reply": "2023-10-19T16:59:39.948430Z"
    },
    "papermill": {
     "duration": 5.732709,
     "end_time": "2023-10-19T16:59:39.951472",
     "exception": false,
     "start_time": "2023-10-19T16:59:34.218763",
     "status": "completed"
    },
    "tags": []
   },
   "outputs": [
    {
     "name": "stderr",
     "output_type": "stream",
     "text": [
      "/opt/conda/lib/python3.10/site-packages/scipy/__init__.py:146: UserWarning: A NumPy version >=1.16.5 and <1.23.0 is required for this version of SciPy (detected version 1.23.5\n",
      "  warnings.warn(f\"A NumPy version >={np_minversion} and <{np_maxversion}\"\n"
     ]
    }
   ],
   "source": [
    "import torch\n",
    "import torch.nn.functional as F\n",
    "from torch import nn, optim\n",
    "from torchvision import transforms as T, models\n",
    "from torch.utils.data import DataLoader, Dataset\n",
    "from torchsummary import summary\n",
    "from tqdm.notebook import tqdm \n",
    "import zipfile\n",
    "\n",
    "from sklearn.metrics import classification_report, recall_score\n",
    "from sklearn.model_selection import train_test_split\n",
    "import seaborn as sns\n",
    "from PIL import Image\n",
    "import matplotlib.pyplot as plt\n",
    "from random import shuffle, randint, choice\n",
    "import numpy as np\n",
    "import cv2 as cv\n",
    "from glob import glob\n",
    "import pandas as pd\n",
    "import requests"
   ]
  },
  {
   "cell_type": "code",
   "execution_count": 3,
   "id": "f60b8d32",
   "metadata": {
    "execution": {
     "iopub.execute_input": "2023-10-19T16:59:39.960617Z",
     "iopub.status.busy": "2023-10-19T16:59:39.960139Z",
     "iopub.status.idle": "2023-10-19T16:59:41.041331Z",
     "shell.execute_reply": "2023-10-19T16:59:41.040262Z"
    },
    "papermill": {
     "duration": 1.087892,
     "end_time": "2023-10-19T16:59:41.043406",
     "exception": false,
     "start_time": "2023-10-19T16:59:39.955514",
     "status": "completed"
    },
    "tags": []
   },
   "outputs": [],
   "source": [
    "!mkdir saved_model\n",
    "sns.set_theme()\n",
    "device = 'cuda' if torch.cuda.is_available() else 'cpu'"
   ]
  },
  {
   "cell_type": "markdown",
   "id": "cda42b01",
   "metadata": {
    "papermill": {
     "duration": 0.003343,
     "end_time": "2023-10-19T16:59:41.050463",
     "exception": false,
     "start_time": "2023-10-19T16:59:41.047120",
     "status": "completed"
    },
    "tags": []
   },
   "source": [
    "## Dataset"
   ]
  },
  {
   "cell_type": "code",
   "execution_count": 4,
   "id": "4681a512",
   "metadata": {
    "execution": {
     "iopub.execute_input": "2023-10-19T16:59:41.058574Z",
     "iopub.status.busy": "2023-10-19T16:59:41.058280Z",
     "iopub.status.idle": "2023-10-19T16:59:41.122195Z",
     "shell.execute_reply": "2023-10-19T16:59:41.121295Z"
    },
    "papermill": {
     "duration": 0.069996,
     "end_time": "2023-10-19T16:59:41.123876",
     "exception": false,
     "start_time": "2023-10-19T16:59:41.053880",
     "status": "completed"
    },
    "tags": []
   },
   "outputs": [
    {
     "data": {
      "text/html": [
       "<div>\n",
       "<style scoped>\n",
       "    .dataframe tbody tr th:only-of-type {\n",
       "        vertical-align: middle;\n",
       "    }\n",
       "\n",
       "    .dataframe tbody tr th {\n",
       "        vertical-align: top;\n",
       "    }\n",
       "\n",
       "    .dataframe thead th {\n",
       "        text-align: right;\n",
       "    }\n",
       "</style>\n",
       "<table border=\"1\" class=\"dataframe\">\n",
       "  <thead>\n",
       "    <tr style=\"text-align: right;\">\n",
       "      <th></th>\n",
       "      <th>image</th>\n",
       "      <th>level</th>\n",
       "    </tr>\n",
       "  </thead>\n",
       "  <tbody>\n",
       "    <tr>\n",
       "      <th>0</th>\n",
       "      <td>10_left</td>\n",
       "      <td>0</td>\n",
       "    </tr>\n",
       "    <tr>\n",
       "      <th>1</th>\n",
       "      <td>10_right</td>\n",
       "      <td>0</td>\n",
       "    </tr>\n",
       "    <tr>\n",
       "      <th>2</th>\n",
       "      <td>13_left</td>\n",
       "      <td>0</td>\n",
       "    </tr>\n",
       "    <tr>\n",
       "      <th>3</th>\n",
       "      <td>13_right</td>\n",
       "      <td>0</td>\n",
       "    </tr>\n",
       "    <tr>\n",
       "      <th>4</th>\n",
       "      <td>15_left</td>\n",
       "      <td>1</td>\n",
       "    </tr>\n",
       "  </tbody>\n",
       "</table>\n",
       "</div>"
      ],
      "text/plain": [
       "      image  level\n",
       "0   10_left      0\n",
       "1  10_right      0\n",
       "2   13_left      0\n",
       "3  13_right      0\n",
       "4   15_left      1"
      ]
     },
     "execution_count": 4,
     "metadata": {},
     "output_type": "execute_result"
    }
   ],
   "source": [
    "DIR = '/kaggle/input/diabetic-retinopathy-detection'\n",
    "\n",
    "with zipfile.ZipFile(f'{DIR}/trainLabels.csv.zip', 'r') as zip_ref:\n",
    "    with zip_ref.open('trainLabels.csv') as csv_file:\n",
    "        trainLabels_df = pd.read_csv(csv_file, index_col=0).reset_index()\n",
    "\n",
    "trainLabels_df.head()"
   ]
  },
  {
   "cell_type": "code",
   "execution_count": 5,
   "id": "962950d8",
   "metadata": {
    "execution": {
     "iopub.execute_input": "2023-10-19T16:59:41.132053Z",
     "iopub.status.busy": "2023-10-19T16:59:41.131810Z",
     "iopub.status.idle": "2023-10-19T16:59:41.141617Z",
     "shell.execute_reply": "2023-10-19T16:59:41.140603Z"
    },
    "papermill": {
     "duration": 0.016374,
     "end_time": "2023-10-19T16:59:41.143813",
     "exception": false,
     "start_time": "2023-10-19T16:59:41.127439",
     "status": "completed"
    },
    "tags": []
   },
   "outputs": [
    {
     "name": "stdout",
     "output_type": "stream",
     "text": [
      "Total: 35126\n",
      "Stage 0: 25810\n",
      "Stage 1: 2443\n",
      "Stage 2: 5292\n",
      "Stage 3: 873\n",
      "Stage 4: 708\n"
     ]
    }
   ],
   "source": [
    "print(\"Total:\", len(trainLabels_df))\n",
    "print(\"Stage 0:\", len(trainLabels_df[trainLabels_df[\"level\"]==0]))\n",
    "print(\"Stage 1:\", len(trainLabels_df[trainLabels_df[\"level\"]==1]))\n",
    "print(\"Stage 2:\", len(trainLabels_df[trainLabels_df[\"level\"]==2]))\n",
    "print(\"Stage 3:\", len(trainLabels_df[trainLabels_df[\"level\"]==3]))\n",
    "print(\"Stage 4:\", len(trainLabels_df[trainLabels_df[\"level\"]==4]))"
   ]
  },
  {
   "cell_type": "code",
   "execution_count": 6,
   "id": "cff595bc",
   "metadata": {
    "execution": {
     "iopub.execute_input": "2023-10-19T16:59:41.152438Z",
     "iopub.status.busy": "2023-10-19T16:59:41.152172Z",
     "iopub.status.idle": "2023-10-19T16:59:41.170173Z",
     "shell.execute_reply": "2023-10-19T16:59:41.169573Z"
    },
    "papermill": {
     "duration": 0.024067,
     "end_time": "2023-10-19T16:59:41.171728",
     "exception": false,
     "start_time": "2023-10-19T16:59:41.147661",
     "status": "completed"
    },
    "tags": []
   },
   "outputs": [],
   "source": [
    "stage_0_df = trainLabels_df[trainLabels_df[\"level\"]==0].sample(700)\n",
    "stage_1_df = trainLabels_df[trainLabels_df[\"level\"]==1].sample(700)\n",
    "stage_2_df = trainLabels_df[trainLabels_df[\"level\"]==2].sample(700)\n",
    "stage_3_df = trainLabels_df[trainLabels_df[\"level\"]==3].sample(700)\n",
    "stage_4_df = trainLabels_df[trainLabels_df[\"level\"]==4].sample(700)\n",
    "\n",
    "stage_0_train, stage_0_valid = train_test_split(stage_0_df, test_size=0.2, random_state=42)\n",
    "stage_1_train, stage_1_valid = train_test_split(stage_1_df, test_size=0.2, random_state=42)\n",
    "stage_2_train, stage_2_valid = train_test_split(stage_2_df, test_size=0.2, random_state=42)\n",
    "stage_3_train, stage_3_valid = train_test_split(stage_3_df, test_size=0.2, random_state=42)\n",
    "stage_4_train, stage_4_valid = train_test_split(stage_4_df, test_size=0.2, random_state=42)\n",
    "\n",
    "train_df = pd.concat([stage_0_train, stage_1_train, stage_2_train, stage_3_train, stage_4_train]).sample(960)\n",
    "valid_df = pd.concat([stage_0_valid, stage_1_valid, stage_2_valid, stage_3_valid, stage_4_valid]).sample(320)"
   ]
  },
  {
   "cell_type": "code",
   "execution_count": 7,
   "id": "ce4ea1f2",
   "metadata": {
    "execution": {
     "iopub.execute_input": "2023-10-19T16:59:41.179989Z",
     "iopub.status.busy": "2023-10-19T16:59:41.179704Z",
     "iopub.status.idle": "2023-10-19T16:59:41.187733Z",
     "shell.execute_reply": "2023-10-19T16:59:41.186925Z"
    },
    "papermill": {
     "duration": 0.013925,
     "end_time": "2023-10-19T16:59:41.189332",
     "exception": false,
     "start_time": "2023-10-19T16:59:41.175407",
     "status": "completed"
    },
    "tags": []
   },
   "outputs": [],
   "source": [
    "class EyeDataset(Dataset):\n",
    "    def __init__(self, df):\n",
    "        self.df = df\n",
    "        self.transform = T.Compose([\n",
    "            T.Resize([224, 224]),\n",
    "            T.ToTensor(),\n",
    "            T.Normalize((0.485, 0.456, 0.406),\n",
    "                       (0.229, 0.224, 0.225))\n",
    "        ])\n",
    "    \n",
    "    def __len__(self):\n",
    "        return len(self.df)\n",
    "    \n",
    "    def __getitem__(self, idx):\n",
    "        image_name = self.df.iloc[idx]['image']\n",
    "        filepath = f\"https://diabetic-retinopathy-images.s3.ap-southeast-1.amazonaws.com/images/{image_name}.jpeg\" \n",
    "        response = requests.get(filepath)\n",
    "        print(response.status_code, image_name, end=\"\\r\")\n",
    "        if response.status_code != 200:\n",
    "            pass\n",
    "        image_data = response.content\n",
    "        nparr = np.frombuffer(image_data, np.uint8)\n",
    "        image = cv.imdecode(nparr, cv.IMREAD_COLOR)\n",
    "        image = cv.cvtColor(image, cv.COLOR_BGR2GRAY)\n",
    "        _, thresholded = cv.threshold(image, 0, 255, cv.THRESH_OTSU)\n",
    "        x, y, w, h = cv.boundingRect(thresholded)\n",
    "        cropped_image = cv.cvtColor(image[y:y+h, x:x+w], cv.COLOR_GRAY2RGB)\n",
    "        cropped_image = Image.fromarray(cropped_image)\n",
    "        target = self.df.iloc[idx]['level']\n",
    "        \n",
    "        return cropped_image, target\n",
    "    \n",
    "    def transform_img(self, img):\n",
    "        return self.transform(img)\n",
    "    \n",
    "    def collate_fn(self, data):\n",
    "        imgs, targets = zip(*data)\n",
    "        targets = torch.tensor(targets)\n",
    "        targets = targets.view(-1, 1).float()\n",
    "        targets = targets.squeeze().long()\n",
    "        targets = targets.to(device)\n",
    "        imgs = torch.stack(\n",
    "            [self.transform_img(img) for img in imgs], 0\n",
    "        ).to(device)\n",
    "        return imgs, targets"
   ]
  },
  {
   "cell_type": "code",
   "execution_count": 8,
   "id": "40567ec4",
   "metadata": {
    "execution": {
     "iopub.execute_input": "2023-10-19T16:59:41.197735Z",
     "iopub.status.busy": "2023-10-19T16:59:41.197476Z",
     "iopub.status.idle": "2023-10-19T16:59:41.202187Z",
     "shell.execute_reply": "2023-10-19T16:59:41.201425Z"
    },
    "papermill": {
     "duration": 0.010497,
     "end_time": "2023-10-19T16:59:41.203667",
     "exception": false,
     "start_time": "2023-10-19T16:59:41.193170",
     "status": "completed"
    },
    "tags": []
   },
   "outputs": [],
   "source": [
    "train_ds = EyeDataset(train_df)\n",
    "train_dl = DataLoader(train_ds, batch_size=64, shuffle=True,\n",
    "                      collate_fn=train_ds.collate_fn)\n",
    "\n",
    "valid_ds = EyeDataset(valid_df)\n",
    "valid_dl = DataLoader(valid_ds, batch_size=64,\n",
    "                      collate_fn=valid_ds.collate_fn)"
   ]
  },
  {
   "cell_type": "code",
   "execution_count": 9,
   "id": "659224cc",
   "metadata": {
    "execution": {
     "iopub.execute_input": "2023-10-19T16:59:41.212054Z",
     "iopub.status.busy": "2023-10-19T16:59:41.211446Z",
     "iopub.status.idle": "2023-10-19T16:59:41.216653Z",
     "shell.execute_reply": "2023-10-19T16:59:41.215866Z"
    },
    "papermill": {
     "duration": 0.010917,
     "end_time": "2023-10-19T16:59:41.218224",
     "exception": false,
     "start_time": "2023-10-19T16:59:41.207307",
     "status": "completed"
    },
    "tags": []
   },
   "outputs": [],
   "source": [
    "class EyeClassifier(nn.Module):\n",
    "    def __init__(self, pretrained=True):\n",
    "        super().__init__()\n",
    "        self.model = models.resnet34(pretrained=pretrained, progress=pretrained)\n",
    "        for param in self.model.parameters():\n",
    "            param.requires_grad = True\n",
    "        \n",
    "        num_features = self.model.fc.in_features\n",
    "\n",
    "        self.model.fc = nn.Sequential(\n",
    "            nn.Flatten(),\n",
    "            nn.BatchNorm1d(num_features),\n",
    "            nn.Dropout(0.5),\n",
    "            nn.Linear(num_features, 5),\n",
    "            nn.LogSoftmax(dim=1)\n",
    "        )\n",
    "        \n",
    "\n",
    "    def forward(self, x):\n",
    "        x = self.model(x)\n",
    "        return x"
   ]
  },
  {
   "cell_type": "code",
   "execution_count": 10,
   "id": "813160b7",
   "metadata": {
    "execution": {
     "iopub.execute_input": "2023-10-19T16:59:41.226306Z",
     "iopub.status.busy": "2023-10-19T16:59:41.226078Z",
     "iopub.status.idle": "2023-10-19T16:59:51.620456Z",
     "shell.execute_reply": "2023-10-19T16:59:51.619591Z"
    },
    "papermill": {
     "duration": 10.400831,
     "end_time": "2023-10-19T16:59:51.622661",
     "exception": false,
     "start_time": "2023-10-19T16:59:41.221830",
     "status": "completed"
    },
    "tags": []
   },
   "outputs": [
    {
     "name": "stderr",
     "output_type": "stream",
     "text": [
      "/opt/conda/lib/python3.10/site-packages/torchvision/models/_utils.py:208: UserWarning: The parameter 'pretrained' is deprecated since 0.13 and may be removed in the future, please use 'weights' instead.\n",
      "  warnings.warn(\n",
      "/opt/conda/lib/python3.10/site-packages/torchvision/models/_utils.py:223: UserWarning: Arguments other than a weight enum or `None` for 'weights' are deprecated since 0.13 and may be removed in the future. The current behavior is equivalent to passing `weights=ResNet34_Weights.IMAGENET1K_V1`. You can also use `weights=ResNet34_Weights.DEFAULT` to get the most up-to-date weights.\n",
      "  warnings.warn(msg)\n",
      "Downloading: \"https://download.pytorch.org/models/resnet34-b627a593.pth\" to /root/.cache/torch/hub/checkpoints/resnet34-b627a593.pth\n",
      "100%|██████████| 83.3M/83.3M [00:00<00:00, 190MB/s]\n"
     ]
    },
    {
     "name": "stdout",
     "output_type": "stream",
     "text": [
      "==========================================================================================\n",
      "Layer (type:depth-idx)                   Output Shape              Param #\n",
      "==========================================================================================\n",
      "├─ResNet: 1-1                            [-1, 5]                   --\n",
      "|    └─Conv2d: 2-1                       [-1, 64, 112, 112]        9,408\n",
      "|    └─BatchNorm2d: 2-2                  [-1, 64, 112, 112]        128\n",
      "|    └─ReLU: 2-3                         [-1, 64, 112, 112]        --\n",
      "|    └─MaxPool2d: 2-4                    [-1, 64, 56, 56]          --\n",
      "|    └─Sequential: 2-5                   [-1, 64, 56, 56]          --\n",
      "|    |    └─BasicBlock: 3-1              [-1, 64, 56, 56]          73,984\n",
      "|    |    └─BasicBlock: 3-2              [-1, 64, 56, 56]          73,984\n",
      "|    |    └─BasicBlock: 3-3              [-1, 64, 56, 56]          73,984\n",
      "|    └─Sequential: 2-6                   [-1, 128, 28, 28]         --\n",
      "|    |    └─BasicBlock: 3-4              [-1, 128, 28, 28]         230,144\n",
      "|    |    └─BasicBlock: 3-5              [-1, 128, 28, 28]         295,424\n",
      "|    |    └─BasicBlock: 3-6              [-1, 128, 28, 28]         295,424\n",
      "|    |    └─BasicBlock: 3-7              [-1, 128, 28, 28]         295,424\n",
      "|    └─Sequential: 2-7                   [-1, 256, 14, 14]         --\n",
      "|    |    └─BasicBlock: 3-8              [-1, 256, 14, 14]         919,040\n",
      "|    |    └─BasicBlock: 3-9              [-1, 256, 14, 14]         1,180,672\n",
      "|    |    └─BasicBlock: 3-10             [-1, 256, 14, 14]         1,180,672\n",
      "|    |    └─BasicBlock: 3-11             [-1, 256, 14, 14]         1,180,672\n",
      "|    |    └─BasicBlock: 3-12             [-1, 256, 14, 14]         1,180,672\n",
      "|    |    └─BasicBlock: 3-13             [-1, 256, 14, 14]         1,180,672\n",
      "|    └─Sequential: 2-8                   [-1, 512, 7, 7]           --\n",
      "|    |    └─BasicBlock: 3-14             [-1, 512, 7, 7]           3,673,088\n",
      "|    |    └─BasicBlock: 3-15             [-1, 512, 7, 7]           4,720,640\n",
      "|    |    └─BasicBlock: 3-16             [-1, 512, 7, 7]           4,720,640\n",
      "|    └─AdaptiveAvgPool2d: 2-9            [-1, 512, 1, 1]           --\n",
      "|    └─Sequential: 2-10                  [-1, 5]                   --\n",
      "|    |    └─Flatten: 3-17                [-1, 512]                 --\n",
      "|    |    └─BatchNorm1d: 3-18            [-1, 512]                 1,024\n",
      "|    |    └─Dropout: 3-19                [-1, 512]                 --\n",
      "|    |    └─Linear: 3-20                 [-1, 5]                   2,565\n",
      "|    |    └─LogSoftmax: 3-21             [-1, 5]                   --\n",
      "==========================================================================================\n",
      "Total params: 21,288,261\n",
      "Trainable params: 21,288,261\n",
      "Non-trainable params: 0\n",
      "Total mult-adds (G): 3.71\n",
      "==========================================================================================\n",
      "Input size (MB): 0.57\n",
      "Forward/backward pass size (MB): 54.36\n",
      "Params size (MB): 81.21\n",
      "Estimated Total Size (MB): 136.15\n",
      "==========================================================================================\n"
     ]
    }
   ],
   "source": [
    "classifier = EyeClassifier(pretrained=True)\n",
    "_ = summary(classifier, torch.ones(1,3,224,224))"
   ]
  },
  {
   "cell_type": "code",
   "execution_count": 11,
   "id": "d0d3451a",
   "metadata": {
    "execution": {
     "iopub.execute_input": "2023-10-19T16:59:51.632903Z",
     "iopub.status.busy": "2023-10-19T16:59:51.632627Z",
     "iopub.status.idle": "2023-10-19T16:59:51.638415Z",
     "shell.execute_reply": "2023-10-19T16:59:51.637651Z"
    },
    "papermill": {
     "duration": 0.012776,
     "end_time": "2023-10-19T16:59:51.640104",
     "exception": false,
     "start_time": "2023-10-19T16:59:51.627328",
     "status": "completed"
    },
    "tags": []
   },
   "outputs": [],
   "source": [
    "def train(data, classifier, optimizer, loss_fn):\n",
    "    classifier.train()\n",
    "    imgs, targets = data\n",
    "    outputs = classifier(imgs.to(device))\n",
    "    loss = loss_fn(outputs.to(device), targets.to(device))\n",
    "    optimizer.zero_grad()\n",
    "    loss.backward()\n",
    "    optimizer.step()\n",
    "    \n",
    "    outputs = torch.tensor(outputs.cpu().detach().tolist())\n",
    "    targets = targets.cpu().detach().tolist()\n",
    "    probs = torch.softmax(outputs, dim=1)\n",
    "    preds = torch.argmax(probs, dim=1).cpu().detach().tolist()\n",
    "    fake_recall_score = recall_score(targets, preds,\n",
    "                               zero_division=0,\n",
    "                               average='macro')\n",
    "    \n",
    "    return loss.cpu().detach().item(), fake_recall_score"
   ]
  },
  {
   "cell_type": "code",
   "execution_count": 12,
   "id": "bf27cf95",
   "metadata": {
    "execution": {
     "iopub.execute_input": "2023-10-19T16:59:51.649761Z",
     "iopub.status.busy": "2023-10-19T16:59:51.649494Z",
     "iopub.status.idle": "2023-10-19T16:59:51.654785Z",
     "shell.execute_reply": "2023-10-19T16:59:51.654088Z"
    },
    "papermill": {
     "duration": 0.011617,
     "end_time": "2023-10-19T16:59:51.656311",
     "exception": false,
     "start_time": "2023-10-19T16:59:51.644694",
     "status": "completed"
    },
    "tags": []
   },
   "outputs": [],
   "source": [
    "@torch.no_grad()\n",
    "def validate(data, classifier, loss_fn):\n",
    "    classifier.eval()\n",
    "    imgs, targets = data\n",
    "    outputs = classifier(imgs.to(device))\n",
    "    loss = loss_fn(outputs.to(device), targets.to(device))\n",
    "    \n",
    "    outputs = torch.tensor(outputs.cpu().detach().tolist())\n",
    "    targets = targets.cpu().detach().tolist()\n",
    "    probs = torch.softmax(outputs, dim=1)\n",
    "    preds = torch.argmax(probs, dim=1).cpu().detach().tolist()\n",
    "    fake_recall_score = recall_score(targets, preds,\n",
    "                               zero_division=0,\n",
    "                               average='macro')\n",
    "    \n",
    "    return loss.cpu().detach().item(), fake_recall_score"
   ]
  },
  {
   "cell_type": "code",
   "execution_count": 13,
   "id": "78fdf2ec",
   "metadata": {
    "execution": {
     "iopub.execute_input": "2023-10-19T16:59:51.665956Z",
     "iopub.status.busy": "2023-10-19T16:59:51.665714Z",
     "iopub.status.idle": "2023-10-19T16:59:52.184089Z",
     "shell.execute_reply": "2023-10-19T16:59:52.182866Z"
    },
    "papermill": {
     "duration": 0.52606,
     "end_time": "2023-10-19T16:59:52.186874",
     "exception": false,
     "start_time": "2023-10-19T16:59:51.660814",
     "status": "completed"
    },
    "tags": []
   },
   "outputs": [],
   "source": [
    "classifier = EyeClassifier(pretrained=True).to(device)\n",
    "loss_fn = nn.CrossEntropyLoss().to(device)\n",
    "optimizer = optim.Adam(classifier.parameters(), lr=0.001, weight_decay=1e-5)\n",
    "scheduler = optim.lr_scheduler.StepLR(optimizer, step_size=5,\n",
    "                                      gamma=0.25)\n",
    "best_recall_score = 0\n",
    "n_epochs = 10\n",
    "xticks = list(i+1 for i in range(n_epochs))"
   ]
  },
  {
   "cell_type": "code",
   "execution_count": 14,
   "id": "2525bee2",
   "metadata": {
    "execution": {
     "iopub.execute_input": "2023-10-19T16:59:52.204623Z",
     "iopub.status.busy": "2023-10-19T16:59:52.204310Z",
     "iopub.status.idle": "2023-10-20T01:18:52.056462Z",
     "shell.execute_reply": "2023-10-20T01:18:52.055485Z"
    },
    "papermill": {
     "duration": 29939.863229,
     "end_time": "2023-10-20T01:18:52.059005",
     "exception": false,
     "start_time": "2023-10-19T16:59:52.195776",
     "status": "completed"
    },
    "tags": []
   },
   "outputs": [
    {
     "data": {
      "application/vnd.jupyter.widget-view+json": {
       "model_id": "7e7bc6ecaf644a23b52ffbb7adbe2f6d",
       "version_major": 2,
       "version_minor": 0
      },
      "text/plain": [
       "Training:   0%|          | 0/10 [00:00<?, ?it/s]"
      ]
     },
     "metadata": {},
     "output_type": "display_data"
    },
    {
     "name": "stdout",
     "output_type": "stream",
     "text": [
      "epoch: 1 \ttrain loss: 1.839 \ttrain recall score: 0.277 \tvalid loss: 7.501 \tvalid recall score: 0.243\n",
      "epoch: 2 \ttrain loss: 1.514 \ttrain recall score: 0.339 \tvalid loss: 86.138 \tvalid recall score: 0.218\n",
      "epoch: 3 \ttrain loss: 1.418 \ttrain recall score: 0.382 \tvalid loss: 2.442 \tvalid recall score: 0.282\n",
      "epoch: 4 \ttrain loss: 1.317 \ttrain recall score: 0.443 \tvalid loss: 1.836 \tvalid recall score: 0.315\n",
      "epoch: 5 \ttrain loss: 1.285 \ttrain recall score: 0.456 \tvalid loss: 1.491 \tvalid recall score: 0.356\n",
      "epoch: 6 \ttrain loss: 1.094 \ttrain recall score: 0.534 \tvalid loss: 1.357 \tvalid recall score: 0.436\n",
      "epoch: 7 \ttrain loss: 1.005 \ttrain recall score: 0.569 \tvalid loss: 1.429 \tvalid recall score: 0.391\n",
      "epoch: 8 \ttrain loss: 0.856 \ttrain recall score: 0.647 \tvalid loss: 1.624 \tvalid recall score: 0.385\n",
      "epoch: 9 \ttrain loss: 0.740 \ttrain recall score: 0.698 \tvalid loss: 1.671 \tvalid recall score: 0.364\n",
      "epoch: 10 \ttrain loss: 0.563 \ttrain recall score: 0.788 \tvalid loss: 1.874 \tvalid recall score: 0.395\n"
     ]
    }
   ],
   "source": [
    "mem = {\n",
    "    'train_loss': [],\n",
    "    'train_recall_score': [],\n",
    "    'valid_loss': [],\n",
    "    'valid_recall_score': []\n",
    "}\n",
    "\n",
    "for epoch in tqdm(range(n_epochs), desc='Training'):\n",
    "    n_batch = len(train_dl)\n",
    "    train_losses, train_recall_scores = [], []\n",
    "    for i, data in enumerate(train_dl):\n",
    "        train_loss, train_recall_score = train(data, classifier,\n",
    "                                         optimizer, loss_fn)\n",
    "        train_losses.append(train_loss)\n",
    "        train_recall_scores.append(train_recall_score)\n",
    "        pos = epoch + ((i+1)/n_batch)\n",
    "        print(\n",
    "            'epoch:', \"%.3f\" % pos,\n",
    "            '\\ttrain loss:', \"%.3f\" % train_loss,\n",
    "            '\\ttrain recall score:', \"%.3f\" % train_recall_score, \n",
    "            end='\\r'\n",
    "        )\n",
    "        \n",
    "    mem['train_loss'].append(np.mean(train_losses))\n",
    "    mem['train_recall_score'].append(np.mean(train_recall_scores))\n",
    "    \n",
    "    n_batch = len(valid_dl)\n",
    "    valid_losses, valid_recall_scores = [], []\n",
    "    for i, data in enumerate(valid_dl):\n",
    "        valid_loss, valid_recall_score = validate(data, classifier, loss_fn)\n",
    "        valid_losses.append(valid_loss)\n",
    "        valid_recall_scores.append(valid_recall_score)\n",
    "        pos = epoch + ((i+1)/n_batch)\n",
    "        print(\n",
    "            'epoch:', \"%.3f\" % pos,\n",
    "            '\\tvalid loss:', \"%.3f\" % valid_loss,\n",
    "            '\\tvalid recall score:', \"%.3f\" % valid_recall_score, \n",
    "            end='\\r'\n",
    "        )\n",
    "    \n",
    "    cur_recall_score = np.mean(valid_recall_scores)\n",
    "    mem['valid_loss'].append(np.mean(valid_losses))\n",
    "    mem['valid_recall_score'].append(cur_recall_score)\n",
    "    \n",
    "    print(\n",
    "        'epoch:', epoch+1,\n",
    "        '\\ttrain loss:', \"%.3f\" % mem['train_loss'][-1],\n",
    "        '\\ttrain recall score:', \"%.3f\" % mem['train_recall_score'][-1],\n",
    "        '\\tvalid loss:', \"%.3f\" % mem['valid_loss'][-1],\n",
    "        '\\tvalid recall score:', \"%.3f\" % mem['valid_recall_score'][-1],\n",
    "    )\n",
    "    \n",
    "    if best_recall_score < cur_recall_score:\n",
    "        best_recall_score = cur_recall_score\n",
    "        torch.save(classifier.state_dict(), './saved_model/diabetic_state_dict.pth')\n",
    "        torch.save(classifier, './saved_model/diabetic_model.pth')\n",
    "        \n",
    "    scheduler.step()"
   ]
  },
  {
   "cell_type": "code",
   "execution_count": 15,
   "id": "f6afb3e1",
   "metadata": {
    "execution": {
     "iopub.execute_input": "2023-10-20T01:18:53.254088Z",
     "iopub.status.busy": "2023-10-20T01:18:53.253754Z",
     "iopub.status.idle": "2023-10-20T01:18:53.588240Z",
     "shell.execute_reply": "2023-10-20T01:18:53.587379Z"
    },
    "papermill": {
     "duration": 0.979751,
     "end_time": "2023-10-20T01:18:53.590057",
     "exception": false,
     "start_time": "2023-10-20T01:18:52.610306",
     "status": "completed"
    },
    "tags": []
   },
   "outputs": [
    {
     "data": {
      "image/png": "[encoded data removed]",
      "text/plain": [
       "<Figure size 640x480 with 1 Axes>"
      ]
     },
     "metadata": {},
     "output_type": "display_data"
    }
   ],
   "source": [
    "plt.plot(xticks, mem['train_loss'])\n",
    "plt.plot(xticks, mem['valid_loss'])\n",
    "plt.legend(['train', 'valid'])\n",
    "plt.xlabel('epoch')\n",
    "plt.title('loss')\n",
    "plt.show()"
   ]
  },
  {
   "cell_type": "code",
   "execution_count": 16,
   "id": "a5c44af1",
   "metadata": {
    "execution": {
     "iopub.execute_input": "2023-10-20T01:18:54.660391Z",
     "iopub.status.busy": "2023-10-20T01:18:54.659608Z",
     "iopub.status.idle": "2023-10-20T01:18:54.972939Z",
     "shell.execute_reply": "2023-10-20T01:18:54.972204Z"
    },
    "papermill": {
     "duration": 0.843307,
     "end_time": "2023-10-20T01:18:54.974591",
     "exception": false,
     "start_time": "2023-10-20T01:18:54.131284",
     "status": "completed"
    },
    "tags": []
   },
   "outputs": [
    {
     "data": {
      "image/png": "[encoded data removed]",
      "text/plain": [
       "<Figure size 640x480 with 1 Axes>"
      ]
     },
     "metadata": {},
     "output_type": "display_data"
    }
   ],
   "source": [
    "plt.plot(xticks, mem['train_recall_score'])\n",
    "plt.plot(xticks, mem['valid_recall_score'])\n",
    "plt.legend(['train', 'valid'])\n",
    "plt.xlabel('epoch')\n",
    "plt.title('recall score')\n",
    "plt.show()"
   ]
  },
  {
   "cell_type": "code",
   "execution_count": null,
   "id": "0ee79a9d",
   "metadata": {
    "papermill": {
     "duration": 0.665776,
     "end_time": "2023-10-20T01:18:56.171237",
     "exception": false,
     "start_time": "2023-10-20T01:18:55.505461",
     "status": "completed"
    },
    "tags": []
   },
   "outputs": [],
   "source": []
  }
 ],
 "metadata": {
  "kernelspec": {
   "display_name": "Python 3",
   "language": "python",
   "name": "python3"
  },
  "language_info": {
   "codemirror_mode": {
    "name": "ipython",
    "version": 3
   },
   "file_extension": ".py",
   "mimetype": "text/x-python",
   "name": "python",
   "nbconvert_exporter": "python",
   "pygments_lexer": "ipython3",
   "version": "3.10.12"
  },
  "papermill": {
   "default_parameters": {},
   "duration": 29984.097321,
   "end_time": "2023-10-20T01:19:00.089191",
   "environment_variables": {},
   "exception": null,
   "input_path": "__notebook__.ipynb",
   "output_path": "__notebook__.ipynb",
   "parameters": {},
   "start_time": "2023-10-19T16:59:15.991870",
   "version": "2.4.0"
  },
  "widgets": {
   "application/vnd.jupyter.widget-state+json": {
    "state": {
     "0638d001b4044a57bce28513f1bb8015": {
      "model_module": "@jupyter-widgets/base",
      "model_module_version": "1.2.0",
      "model_name": "LayoutModel",
      "state": {
       "_model_module": "@jupyter-widgets/base",
       "_model_module_version": "1.2.0",
       "_model_name": "LayoutModel",
       "_view_count": null,
       "_view_module": "@jupyter-widgets/base",
       "_view_module_version": "1.2.0",
       "_view_name": "LayoutView",
       "align_content": null,
       "align_items": null,
       "align_self": null,
       "border": null,
       "bottom": null,
       "display": null,
       "flex": null,
       "flex_flow": null,
       "grid_area": null,
       "grid_auto_columns": null,
       "grid_auto_flow": null,
       "grid_auto_rows": null,
       "grid_column": null,
       "grid_gap": null,
       "grid_row": null,
       "grid_template_areas": null,
       "grid_template_columns": null,
       "grid_template_rows": null,
       "height": null,
       "justify_content": null,
       "justify_items": null,
       "left": null,
       "margin": null,
       "max_height": null,
       "max_width": null,
       "min_height": null,
       "min_width": null,
       "object_fit": null,
       "object_position": null,
       "order": null,
       "overflow": null,
       "overflow_x": null,
       "overflow_y": null,
       "padding": null,
       "right": null,
       "top": null,
       "visibility": null,
       "width": null
      }
     },
     "28e2cc596f5849c99f5eb56ab1fc7c49": {
      "model_module": "@jupyter-widgets/base",
      "model_module_version": "1.2.0",
      "model_name": "LayoutModel",
      "state": {
       "_model_module": "@jupyter-widgets/base",
       "_model_module_version": "1.2.0",
       "_model_name": "LayoutModel",
       "_view_count": null,
       "_view_module": "@jupyter-widgets/base",
       "_view_module_version": "1.2.0",
       "_view_name": "LayoutView",
       "align_content": null,
       "align_items": null,
       "align_self": null,
       "border": null,
       "bottom": null,
       "display": null,
       "flex": null,
       "flex_flow": null,
       "grid_area": null,
       "grid_auto_columns": null,
       "grid_auto_flow": null,
       "grid_auto_rows": null,
       "grid_column": null,
       "grid_gap": null,
       "grid_row": null,
       "grid_template_areas": null,
       "grid_template_columns": null,
       "grid_template_rows": null,
       "height": null,
       "justify_content": null,
       "justify_items": null,
       "left": null,
       "margin": null,
       "max_height": null,
       "max_width": null,
       "min_height": null,
       "min_width": null,
       "object_fit": null,
       "object_position": null,
       "order": null,
       "overflow": null,
       "overflow_x": null,
       "overflow_y": null,
       "padding": null,
       "right": null,
       "top": null,
       "visibility": null,
       "width": null
      }
     },
     "44aaef29c280451e843b58b702244f68": {
      "model_module": "@jupyter-widgets/controls",
      "model_module_version": "1.5.0",
      "model_name": "ProgressStyleModel",
      "state": {
       "_model_module": "@jupyter-widgets/controls",
       "_model_module_version": "1.5.0",
       "_model_name": "ProgressStyleModel",
       "_view_count": null,
       "_view_module": "@jupyter-widgets/base",
       "_view_module_version": "1.2.0",
       "_view_name": "StyleView",
       "bar_color": null,
       "description_width": ""
      }
     },
     "717f1705c6d348ecb0d31b9ee3d44c60": {
      "model_module": "@jupyter-widgets/controls",
      "model_module_version": "1.5.0",
      "model_name": "HTMLModel",
      "state": {
       "_dom_classes": [],
       "_model_module": "@jupyter-widgets/controls",
       "_model_module_version": "1.5.0",
       "_model_name": "HTMLModel",
       "_view_count": null,
       "_view_module": "@jupyter-widgets/controls",
       "_view_module_version": "1.5.0",
       "_view_name": "HTMLView",
       "description": "",
       "description_tooltip": null,
       "layout": "IPY_MODEL_f0e14d17febd45c29fa38a52954d2755",
       "placeholder": "​",
       "style": "IPY_MODEL_e676985b5ca24edc9772a9efe8bc1977",
       "value": " 10/10 [8:18:59&lt;00:00, 2990.15s/it]"
      }
     },
     "78cc9a6112e44db7a5b0de171380f34a": {
      "model_module": "@jupyter-widgets/base",
      "model_module_version": "1.2.0",
      "model_name": "LayoutModel",
      "state": {
       "_model_module": "@jupyter-widgets/base",
       "_model_module_version": "1.2.0",
       "_model_name": "LayoutModel",
       "_view_count": null,
       "_view_module": "@jupyter-widgets/base",
       "_view_module_version": "1.2.0",
       "_view_name": "LayoutView",
       "align_content": null,
       "align_items": null,
       "align_self": null,
       "border": null,
       "bottom": null,
       "display": null,
       "flex": null,
       "flex_flow": null,
       "grid_area": null,
       "grid_auto_columns": null,
       "grid_auto_flow": null,
       "grid_auto_rows": null,
       "grid_column": null,
       "grid_gap": null,
       "grid_row": null,
       "grid_template_areas": null,
       "grid_template_columns": null,
       "grid_template_rows": null,
       "height": null,
       "justify_content": null,
       "justify_items": null,
       "left": null,
       "margin": null,
       "max_height": null,
       "max_width": null,
       "min_height": null,
       "min_width": null,
       "object_fit": null,
       "object_position": null,
       "order": null,
       "overflow": null,
       "overflow_x": null,
       "overflow_y": null,
       "padding": null,
       "right": null,
       "top": null,
       "visibility": null,
       "width": null
      }
     },
     "7a71c08b614e484682962ff50b81fba1": {
      "model_module": "@jupyter-widgets/controls",
      "model_module_version": "1.5.0",
      "model_name": "FloatProgressModel",
      "state": {
       "_dom_classes": [],
       "_model_module": "@jupyter-widgets/controls",
       "_model_module_version": "1.5.0",
       "_model_name": "FloatProgressModel",
       "_view_count": null,
       "_view_module": "@jupyter-widgets/controls",
       "_view_module_version": "1.5.0",
       "_view_name": "ProgressView",
       "bar_style": "success",
       "description": "",
       "description_tooltip": null,
       "layout": "IPY_MODEL_78cc9a6112e44db7a5b0de171380f34a",
       "max": 10.0,
       "min": 0.0,
       "orientation": "horizontal",
       "style": "IPY_MODEL_44aaef29c280451e843b58b702244f68",
       "value": 10.0
      }
     },
     "7e7bc6ecaf644a23b52ffbb7adbe2f6d": {
      "model_module": "@jupyter-widgets/controls",
      "model_module_version": "1.5.0",
      "model_name": "HBoxModel",
      "state": {
       "_dom_classes": [],
       "_model_module": "@jupyter-widgets/controls",
       "_model_module_version": "1.5.0",
       "_model_name": "HBoxModel",
       "_view_count": null,
       "_view_module": "@jupyter-widgets/controls",
       "_view_module_version": "1.5.0",
       "_view_name": "HBoxView",
       "box_style": "",
       "children": [
        "IPY_MODEL_d0dd8c9220e147019d42aa04cfb678d8",
        "IPY_MODEL_7a71c08b614e484682962ff50b81fba1",
        "IPY_MODEL_717f1705c6d348ecb0d31b9ee3d44c60"
       ],
       "layout": "IPY_MODEL_0638d001b4044a57bce28513f1bb8015"
      }
     },
     "d0dd8c9220e147019d42aa04cfb678d8": {
      "model_module": "@jupyter-widgets/controls",
      "model_module_version": "1.5.0",
      "model_name": "HTMLModel",
      "state": {
       "_dom_classes": [],
       "_model_module": "@jupyter-widgets/controls",
       "_model_module_version": "1.5.0",
       "_model_name": "HTMLModel",
       "_view_count": null,
       "_view_module": "@jupyter-widgets/controls",
       "_view_module_version": "1.5.0",
       "_view_name": "HTMLView",
       "description": "",
       "description_tooltip": null,
       "layout": "IPY_MODEL_28e2cc596f5849c99f5eb56ab1fc7c49",
       "placeholder": "​",
       "style": "IPY_MODEL_f03fa3bddfbf44c7915a75ad22f8509c",
       "value": "Training: 100%"
      }
     },
     "e676985b5ca24edc9772a9efe8bc1977": {
      "model_module": "@jupyter-widgets/controls",
      "model_module_version": "1.5.0",
      "model_name": "DescriptionStyleModel",
      "state": {
       "_model_module": "@jupyter-widgets/controls",
       "_model_module_version": "1.5.0",
       "_model_name": "DescriptionStyleModel",
       "_view_count": null,
       "_view_module": "@jupyter-widgets/base",
       "_view_module_version": "1.2.0",
       "_view_name": "StyleView",
       "description_width": ""
      }
     },
     "f03fa3bddfbf44c7915a75ad22f8509c": {
      "model_module": "@jupyter-widgets/controls",
      "model_module_version": "1.5.0",
      "model_name": "DescriptionStyleModel",
      "state": {
       "_model_module": "@jupyter-widgets/controls",
       "_model_module_version": "1.5.0",
       "_model_name": "DescriptionStyleModel",
       "_view_count": null,
       "_view_module": "@jupyter-widgets/base",
       "_view_module_version": "1.2.0",
       "_view_name": "StyleView",
       "description_width": ""
      }
     },
     "f0e14d17febd45c29fa38a52954d2755": {
      "model_module": "@jupyter-widgets/base",
      "model_module_version": "1.2.0",
      "model_name": "LayoutModel",
      "state": {
       "_model_module": "@jupyter-widgets/base",
       "_model_module_version": "1.2.0",
       "_model_name": "LayoutModel",
       "_view_count": null,
       "_view_module": "@jupyter-widgets/base",
       "_view_module_version": "1.2.0",
       "_view_name": "LayoutView",
       "align_content": null,
       "align_items": null,
       "align_self": null,
       "border": null,
       "bottom": null,
       "display": null,
       "flex": null,
       "flex_flow": null,
       "grid_area": null,
       "grid_auto_columns": null,
       "grid_auto_flow": null,
       "grid_auto_rows": null,
       "grid_column": null,
       "grid_gap": null,
       "grid_row": null,
       "grid_template_areas": null,
       "grid_template_columns": null,
       "grid_template_rows": null,
       "height": null,
       "justify_content": null,
       "justify_items": null,
       "left": null,
       "margin": null,
       "max_height": null,
       "max_width": null,
       "min_height": null,
       "min_width": null,
       "object_fit": null,
       "object_position": null,
       "order": null,
       "overflow": null,
       "overflow_x": null,
       "overflow_y": null,
       "padding": null,
       "right": null,
       "top": null,
       "visibility": null,
       "width": null
      }
     }
    },
    "version_major": 2,
    "version_minor": 0
   }
  }
 },
 "nbformat": 4,
 "nbformat_minor": 5
}
