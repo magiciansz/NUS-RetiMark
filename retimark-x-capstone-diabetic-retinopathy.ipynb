{
 "cells": [
  {
   "cell_type": "markdown",
   "id": "4073f72d",
   "metadata": {
    "papermill": {
     "duration": 0.004921,
     "end_time": "2023-10-20T03:40:26.885267",
     "exception": false,
     "start_time": "2023-10-20T03:40:26.880346",
     "status": "completed"
    },
    "tags": []
   },
   "source": [
    "# Install Dependencies"
   ]
  },
  {
   "cell_type": "code",
   "execution_count": 1,
   "id": "dd9a151c",
   "metadata": {
    "execution": {
     "iopub.execute_input": "2023-10-20T03:40:26.895851Z",
     "iopub.status.busy": "2023-10-20T03:40:26.895487Z",
     "iopub.status.idle": "2023-10-20T03:40:37.618480Z",
     "shell.execute_reply": "2023-10-20T03:40:37.617294Z"
    },
    "papermill": {
     "duration": 10.730681,
     "end_time": "2023-10-20T03:40:37.620725",
     "exception": false,
     "start_time": "2023-10-20T03:40:26.890044",
     "status": "completed"
    },
    "tags": []
   },
   "outputs": [
    {
     "name": "stdout",
     "output_type": "stream",
     "text": [
      "Collecting torch_summary\r\n",
      "  Downloading torch_summary-1.4.5-py3-none-any.whl (16 kB)\r\n",
      "Installing collected packages: torch_summary\r\n",
      "Successfully installed torch_summary-1.4.5\r\n"
     ]
    }
   ],
   "source": [
    "!pip install torch_summary"
   ]
  },
  {
   "cell_type": "markdown",
   "id": "558faebe",
   "metadata": {
    "papermill": {
     "duration": 0.004386,
     "end_time": "2023-10-20T03:40:37.629812",
     "exception": false,
     "start_time": "2023-10-20T03:40:37.625426",
     "status": "completed"
    },
    "tags": []
   },
   "source": [
    "# Import Libraries"
   ]
  },
  {
   "cell_type": "code",
   "execution_count": 2,
   "id": "a19ed1c2",
   "metadata": {
    "_cell_guid": "b1076dfc-b9ad-4769-8c92-a6c4dae69d19",
    "_uuid": "8f2839f25d086af736a60e9eeb907d3b93b6e0e5",
    "execution": {
     "iopub.execute_input": "2023-10-20T03:40:37.640565Z",
     "iopub.status.busy": "2023-10-20T03:40:37.640204Z",
     "iopub.status.idle": "2023-10-20T03:40:43.753802Z",
     "shell.execute_reply": "2023-10-20T03:40:43.752983Z"
    },
    "papermill": {
     "duration": 6.122057,
     "end_time": "2023-10-20T03:40:43.756202",
     "exception": false,
     "start_time": "2023-10-20T03:40:37.634145",
     "status": "completed"
    },
    "tags": []
   },
   "outputs": [
    {
     "name": "stderr",
     "output_type": "stream",
     "text": [
      "/opt/conda/lib/python3.10/site-packages/scipy/__init__.py:146: UserWarning: A NumPy version >=1.16.5 and <1.23.0 is required for this version of SciPy (detected version 1.23.5\n",
      "  warnings.warn(f\"A NumPy version >={np_minversion} and <{np_maxversion}\"\n"
     ]
    }
   ],
   "source": [
    "import torch\n",
    "import torch.nn.functional as F\n",
    "from torch import nn, optim\n",
    "from torchvision import transforms as T, models\n",
    "from torch.utils.data import DataLoader, Dataset\n",
    "from torchsummary import summary\n",
    "from tqdm.notebook import tqdm \n",
    "import zipfile\n",
    "\n",
    "from sklearn.metrics import classification_report, recall_score\n",
    "from sklearn.model_selection import train_test_split\n",
    "import seaborn as sns\n",
    "from PIL import Image\n",
    "import matplotlib.pyplot as plt\n",
    "from random import shuffle, randint, choice\n",
    "import numpy as np\n",
    "import cv2 as cv\n",
    "from glob import glob\n",
    "import pandas as pd\n",
    "import requests\n",
    "import concurrent.futures"
   ]
  },
  {
   "cell_type": "code",
   "execution_count": 3,
   "id": "d41bba52",
   "metadata": {
    "execution": {
     "iopub.execute_input": "2023-10-20T03:40:43.767800Z",
     "iopub.status.busy": "2023-10-20T03:40:43.767252Z",
     "iopub.status.idle": "2023-10-20T03:40:44.993796Z",
     "shell.execute_reply": "2023-10-20T03:40:44.992274Z"
    },
    "papermill": {
     "duration": 1.235207,
     "end_time": "2023-10-20T03:40:44.996482",
     "exception": false,
     "start_time": "2023-10-20T03:40:43.761275",
     "status": "completed"
    },
    "tags": []
   },
   "outputs": [],
   "source": [
    "!mkdir saved_model\n",
    "sns.set_theme()\n",
    "device = 'cuda' if torch.cuda.is_available() else 'cpu'"
   ]
  },
  {
   "cell_type": "markdown",
   "id": "154028c1",
   "metadata": {
    "papermill": {
     "duration": 0.005097,
     "end_time": "2023-10-20T03:40:45.010731",
     "exception": false,
     "start_time": "2023-10-20T03:40:45.005634",
     "status": "completed"
    },
    "tags": []
   },
   "source": [
    "## Dataset"
   ]
  },
  {
   "cell_type": "code",
   "execution_count": 4,
   "id": "9fdf79e0",
   "metadata": {
    "execution": {
     "iopub.execute_input": "2023-10-20T03:40:45.023927Z",
     "iopub.status.busy": "2023-10-20T03:40:45.023565Z",
     "iopub.status.idle": "2023-10-20T03:40:45.102743Z",
     "shell.execute_reply": "2023-10-20T03:40:45.101543Z"
    },
    "papermill": {
     "duration": 0.088013,
     "end_time": "2023-10-20T03:40:45.104961",
     "exception": false,
     "start_time": "2023-10-20T03:40:45.016948",
     "status": "completed"
    },
    "tags": []
   },
   "outputs": [
    {
     "data": {
      "text/html": [
       "<div>\n",
       "<style scoped>\n",
       "    .dataframe tbody tr th:only-of-type {\n",
       "        vertical-align: middle;\n",
       "    }\n",
       "\n",
       "    .dataframe tbody tr th {\n",
       "        vertical-align: top;\n",
       "    }\n",
       "\n",
       "    .dataframe thead th {\n",
       "        text-align: right;\n",
       "    }\n",
       "</style>\n",
       "<table border=\"1\" class=\"dataframe\">\n",
       "  <thead>\n",
       "    <tr style=\"text-align: right;\">\n",
       "      <th></th>\n",
       "      <th>image</th>\n",
       "      <th>level</th>\n",
       "    </tr>\n",
       "  </thead>\n",
       "  <tbody>\n",
       "    <tr>\n",
       "      <th>0</th>\n",
       "      <td>10_left</td>\n",
       "      <td>0</td>\n",
       "    </tr>\n",
       "    <tr>\n",
       "      <th>1</th>\n",
       "      <td>10_right</td>\n",
       "      <td>0</td>\n",
       "    </tr>\n",
       "    <tr>\n",
       "      <th>2</th>\n",
       "      <td>13_left</td>\n",
       "      <td>0</td>\n",
       "    </tr>\n",
       "    <tr>\n",
       "      <th>3</th>\n",
       "      <td>13_right</td>\n",
       "      <td>0</td>\n",
       "    </tr>\n",
       "    <tr>\n",
       "      <th>4</th>\n",
       "      <td>15_left</td>\n",
       "      <td>1</td>\n",
       "    </tr>\n",
       "  </tbody>\n",
       "</table>\n",
       "</div>"
      ],
      "text/plain": [
       "      image  level\n",
       "0   10_left      0\n",
       "1  10_right      0\n",
       "2   13_left      0\n",
       "3  13_right      0\n",
       "4   15_left      1"
      ]
     },
     "execution_count": 4,
     "metadata": {},
     "output_type": "execute_result"
    }
   ],
   "source": [
    "DIR = '/kaggle/input/diabetic-retinopathy-detection'\n",
    "\n",
    "with zipfile.ZipFile(f'{DIR}/trainLabels.csv.zip', 'r') as zip_ref:\n",
    "    with zip_ref.open('trainLabels.csv') as csv_file:\n",
    "        trainLabels_df = pd.read_csv(csv_file, index_col=0).reset_index()\n",
    "\n",
    "trainLabels_df.head()"
   ]
  },
  {
   "cell_type": "code",
   "execution_count": 5,
   "id": "4ab7c843",
   "metadata": {
    "execution": {
     "iopub.execute_input": "2023-10-20T03:40:45.116098Z",
     "iopub.status.busy": "2023-10-20T03:40:45.115759Z",
     "iopub.status.idle": "2023-10-20T03:40:45.128568Z",
     "shell.execute_reply": "2023-10-20T03:40:45.127513Z"
    },
    "papermill": {
     "duration": 0.021168,
     "end_time": "2023-10-20T03:40:45.131117",
     "exception": false,
     "start_time": "2023-10-20T03:40:45.109949",
     "status": "completed"
    },
    "tags": []
   },
   "outputs": [
    {
     "name": "stdout",
     "output_type": "stream",
     "text": [
      "Total: 35126\n",
      "Stage 0: 25810\n",
      "Stage 1: 2443\n",
      "Stage 2: 5292\n",
      "Stage 3: 873\n",
      "Stage 4: 708\n"
     ]
    }
   ],
   "source": [
    "print(\"Total:\", len(trainLabels_df))\n",
    "print(\"Stage 0:\", len(trainLabels_df[trainLabels_df[\"level\"]==0]))\n",
    "print(\"Stage 1:\", len(trainLabels_df[trainLabels_df[\"level\"]==1]))\n",
    "print(\"Stage 2:\", len(trainLabels_df[trainLabels_df[\"level\"]==2]))\n",
    "print(\"Stage 3:\", len(trainLabels_df[trainLabels_df[\"level\"]==3]))\n",
    "print(\"Stage 4:\", len(trainLabels_df[trainLabels_df[\"level\"]==4]))"
   ]
  },
  {
   "cell_type": "code",
   "execution_count": 6,
   "id": "0a7c6136",
   "metadata": {
    "execution": {
     "iopub.execute_input": "2023-10-20T03:40:45.149682Z",
     "iopub.status.busy": "2023-10-20T03:40:45.149367Z",
     "iopub.status.idle": "2023-10-20T03:40:45.175485Z",
     "shell.execute_reply": "2023-10-20T03:40:45.174335Z"
    },
    "papermill": {
     "duration": 0.038298,
     "end_time": "2023-10-20T03:40:45.178322",
     "exception": false,
     "start_time": "2023-10-20T03:40:45.140024",
     "status": "completed"
    },
    "tags": []
   },
   "outputs": [],
   "source": [
    "stage_0_df = trainLabels_df[trainLabels_df[\"level\"]==0].sample(700)\n",
    "stage_1_df = trainLabels_df[trainLabels_df[\"level\"]==1].sample(700)\n",
    "stage_2_df = trainLabels_df[trainLabels_df[\"level\"]==2].sample(700)\n",
    "stage_3_df = trainLabels_df[trainLabels_df[\"level\"]==3].sample(700)\n",
    "stage_4_df = trainLabels_df[trainLabels_df[\"level\"]==4].sample(700)\n",
    "\n",
    "stage_0_train, stage_0_valid = train_test_split(stage_0_df, test_size=0.2, random_state=42)\n",
    "stage_1_train, stage_1_valid = train_test_split(stage_1_df, test_size=0.2, random_state=42)\n",
    "stage_2_train, stage_2_valid = train_test_split(stage_2_df, test_size=0.2, random_state=42)\n",
    "stage_3_train, stage_3_valid = train_test_split(stage_3_df, test_size=0.2, random_state=42)\n",
    "stage_4_train, stage_4_valid = train_test_split(stage_4_df, test_size=0.2, random_state=42)\n",
    "\n",
    "train_df = pd.concat([stage_0_train, stage_1_train, stage_2_train, stage_3_train, stage_4_train]).sample(frac=0.3)\n",
    "valid_df = pd.concat([stage_0_valid, stage_1_valid, stage_2_valid, stage_3_valid, stage_4_valid]).sample(frac=0.3)\n",
    "# train_df = pd.concat([stage_0_train, stage_1_train, stage_2_train, stage_3_train, stage_4_train]).sample(64)\n",
    "# valid_df = pd.concat([stage_0_valid, stage_1_valid, stage_2_valid, stage_3_valid, stage_4_valid]).sample(64)"
   ]
  },
  {
   "cell_type": "code",
   "execution_count": 7,
   "id": "dfa228d1",
   "metadata": {
    "execution": {
     "iopub.execute_input": "2023-10-20T03:40:45.196652Z",
     "iopub.status.busy": "2023-10-20T03:40:45.196336Z",
     "iopub.status.idle": "2023-10-20T03:40:45.202408Z",
     "shell.execute_reply": "2023-10-20T03:40:45.201398Z"
    },
    "papermill": {
     "duration": 0.017603,
     "end_time": "2023-10-20T03:40:45.204746",
     "exception": false,
     "start_time": "2023-10-20T03:40:45.187143",
     "status": "completed"
    },
    "tags": []
   },
   "outputs": [],
   "source": [
    "def download_image(index, image_name, df):\n",
    "    filepath = f\"https://diabetic-retinopathy-images.s3.ap-southeast-1.amazonaws.com/images/{image_name}.jpeg\" \n",
    "    response = requests.get(filepath)\n",
    "    print(response.reason, image_name, end=\"\\r\")\n",
    "    if response.status_code != 200:\n",
    "        df.drop(index, inplace=True)\n",
    "        return None\n",
    "    image_data = response.content\n",
    "    nparr = np.frombuffer(image_data, np.uint8)\n",
    "    image = cv.imdecode(nparr, cv.IMREAD_COLOR)\n",
    "    image = cv.cvtColor(image, cv.COLOR_BGR2GRAY)\n",
    "    df.at[index, 'imagefile'] = image"
   ]
  },
  {
   "cell_type": "code",
   "execution_count": 8,
   "id": "41fb198a",
   "metadata": {
    "execution": {
     "iopub.execute_input": "2023-10-20T03:40:45.223345Z",
     "iopub.status.busy": "2023-10-20T03:40:45.222226Z",
     "iopub.status.idle": "2023-10-20T03:44:57.034380Z",
     "shell.execute_reply": "2023-10-20T03:44:57.033170Z"
    },
    "papermill": {
     "duration": 251.824072,
     "end_time": "2023-10-20T03:44:57.036907",
     "exception": false,
     "start_time": "2023-10-20T03:40:45.212835",
     "status": "completed"
    },
    "tags": []
   },
   "outputs": [
    {
     "name": "stdout",
     "output_type": "stream",
     "text": [
      "Done!\n"
     ]
    }
   ],
   "source": [
    "train_df['imagefile'] = None\n",
    "train_len = len(train_df)\n",
    "count = 1\n",
    "\n",
    "with concurrent.futures.ThreadPoolExecutor() as executor:\n",
    "    futures = []\n",
    "    for index, row in train_df.iterrows():\n",
    "        print(count, \"/\", train_len, end=\"\\r\")\n",
    "        count += 1\n",
    "        image_name = row['image']\n",
    "        future = executor.submit(download_image, index, image_name, train_df)\n",
    "        futures.append(future)\n",
    "    concurrent.futures.wait(futures)\n",
    "    \n",
    "print(\"Done!\")\n",
    "\n",
    "# train_df['imagefile'] = None\n",
    "\n",
    "# for index, row in train_df.iterrows():\n",
    "#     image_name = row['image']\n",
    "#     filepath = f\"https://diabetic-retinopathy-images.s3.ap-southeast-1.amazonaws.com/images/{image_name}.jpeg\" \n",
    "#     response = requests.get(filepath)\n",
    "#     print(response.status_code, image_name, end=\"\\r\")\n",
    "#     if response.status_code != 200:\n",
    "#         train_df.drop(index, inplace=True)\n",
    "#         continue\n",
    "#     image_data = response.content\n",
    "#     nparr = np.frombuffer(image_data, np.uint8)\n",
    "#     image = cv.imdecode(nparr, cv.IMREAD_COLOR)\n",
    "#     image = cv.cvtColor(image, cv.COLOR_BGR2GRAY)\n",
    "#     train_df.at[index, 'imagefile'] = image"
   ]
  },
  {
   "cell_type": "code",
   "execution_count": 9,
   "id": "979a00c2",
   "metadata": {
    "execution": {
     "iopub.execute_input": "2023-10-20T03:44:57.097599Z",
     "iopub.status.busy": "2023-10-20T03:44:57.096721Z",
     "iopub.status.idle": "2023-10-20T03:46:01.512236Z",
     "shell.execute_reply": "2023-10-20T03:46:01.511221Z"
    },
    "papermill": {
     "duration": 64.44846,
     "end_time": "2023-10-20T03:46:01.514425",
     "exception": false,
     "start_time": "2023-10-20T03:44:57.065965",
     "status": "completed"
    },
    "tags": []
   },
   "outputs": [
    {
     "name": "stdout",
     "output_type": "stream",
     "text": [
      "Done!\n"
     ]
    }
   ],
   "source": [
    "valid_df['imagefile'] = None\n",
    "valid_len = len(valid_df)\n",
    "count = 1\n",
    "\n",
    "with concurrent.futures.ThreadPoolExecutor() as executor:\n",
    "    futures = []\n",
    "    for index, row in valid_df.iterrows():\n",
    "        print(count, \"/\", valid_len, end=\"\\r\")\n",
    "        count += 1\n",
    "        image_name = row['image']\n",
    "        future = executor.submit(download_image, index, image_name, valid_df)\n",
    "        futures.append(future)\n",
    "    concurrent.futures.wait(futures)\n",
    "\n",
    "print(\"Done!\")\n",
    "\n",
    "# for index, row in valid_df.iterrows():\n",
    "#     image_name = row['image']\n",
    "#     filepath = f\"https://diabetic-retinopathy-images.s3.ap-southeast-1.amazonaws.com/images/{image_name}.jpeg\" \n",
    "#     response = requests.get(filepath)\n",
    "#     print(response.status_code, image_name, end=\"\\r\")\n",
    "#     if response.status_code != 200:\n",
    "#         valid_df.drop(index, inplace=True)\n",
    "#         continue\n",
    "#     image_data = response.content\n",
    "#     nparr = np.frombuffer(image_data, np.uint8)\n",
    "#     image = cv.imdecode(nparr, cv.IMREAD_COLOR)\n",
    "#     image = cv.cvtColor(image, cv.COLOR_BGR2GRAY)\n",
    "#     valid_df.at[index, 'imagefile'] = image"
   ]
  },
  {
   "cell_type": "code",
   "execution_count": 10,
   "id": "3dfbae96",
   "metadata": {
    "execution": {
     "iopub.execute_input": "2023-10-20T03:46:01.585844Z",
     "iopub.status.busy": "2023-10-20T03:46:01.585513Z",
     "iopub.status.idle": "2023-10-20T03:46:01.594718Z",
     "shell.execute_reply": "2023-10-20T03:46:01.593668Z"
    },
    "papermill": {
     "duration": 0.046882,
     "end_time": "2023-10-20T03:46:01.596747",
     "exception": false,
     "start_time": "2023-10-20T03:46:01.549865",
     "status": "completed"
    },
    "tags": []
   },
   "outputs": [],
   "source": [
    "class EyeDataset(Dataset):\n",
    "    def __init__(self, df):\n",
    "        self.df = df\n",
    "        self.transform = T.Compose([\n",
    "            T.Resize([224, 224]),\n",
    "            T.ToTensor(),\n",
    "            T.Normalize((0.485, 0.456, 0.406),\n",
    "                       (0.229, 0.224, 0.225))\n",
    "        ])\n",
    "    \n",
    "    def __len__(self):\n",
    "        return len(self.df)\n",
    "    \n",
    "    def __getitem__(self, idx):\n",
    "#         image_name = self.df.iloc[idx]['image']\n",
    "#         filepath = f\"https://diabetic-retinopathy-images.s3.ap-southeast-1.amazonaws.com/images/{image_name}.jpeg\" \n",
    "#         response = requests.get(filepath)\n",
    "#         print(response.status_code, image_name, end=\"\\r\")\n",
    "#         if response.status_code != 200:\n",
    "#             pass\n",
    "#         image_data = response.content\n",
    "#         nparr = np.frombuffer(image_data, np.uint8)\n",
    "#         image = cv.imdecode(nparr, cv.IMREAD_COLOR)\n",
    "#         image = cv.cvtColor(image, cv.COLOR_BGR2GRAY)\n",
    "        image = self.df.iloc[idx]['imagefile']\n",
    "        _, thresholded = cv.threshold(image, 0, 255, cv.THRESH_OTSU)\n",
    "        x, y, w, h = cv.boundingRect(thresholded)\n",
    "        cropped_image = cv.cvtColor(image[y:y+h, x:x+w], cv.COLOR_GRAY2RGB)\n",
    "        cropped_image = Image.fromarray(cropped_image)\n",
    "        target = self.df.iloc[idx]['level']\n",
    "        \n",
    "        return cropped_image, target\n",
    "    \n",
    "    def transform_img(self, img):\n",
    "        return self.transform(img)\n",
    "    \n",
    "    def collate_fn(self, data):\n",
    "        imgs, targets = zip(*data)\n",
    "        targets = torch.tensor(targets)\n",
    "        targets = targets.view(-1, 1).float()\n",
    "        targets = targets.squeeze().long()\n",
    "        targets = targets.to(device)\n",
    "        imgs = torch.stack(\n",
    "            [self.transform_img(img) for img in imgs], 0\n",
    "        ).to(device)\n",
    "        return imgs, targets"
   ]
  },
  {
   "cell_type": "code",
   "execution_count": 11,
   "id": "1fe6e822",
   "metadata": {
    "execution": {
     "iopub.execute_input": "2023-10-20T03:46:01.668974Z",
     "iopub.status.busy": "2023-10-20T03:46:01.668653Z",
     "iopub.status.idle": "2023-10-20T03:46:01.674531Z",
     "shell.execute_reply": "2023-10-20T03:46:01.673630Z"
    },
    "papermill": {
     "duration": 0.044067,
     "end_time": "2023-10-20T03:46:01.676329",
     "exception": false,
     "start_time": "2023-10-20T03:46:01.632262",
     "status": "completed"
    },
    "tags": []
   },
   "outputs": [],
   "source": [
    "train_ds = EyeDataset(train_df)\n",
    "train_dl = DataLoader(train_ds, batch_size=64, shuffle=True,\n",
    "                      collate_fn=train_ds.collate_fn)\n",
    "\n",
    "valid_ds = EyeDataset(valid_df)\n",
    "valid_dl = DataLoader(valid_ds, batch_size=64,\n",
    "                      collate_fn=valid_ds.collate_fn)"
   ]
  },
  {
   "cell_type": "code",
   "execution_count": 12,
   "id": "5ffe861e",
   "metadata": {
    "execution": {
     "iopub.execute_input": "2023-10-20T03:46:01.749204Z",
     "iopub.status.busy": "2023-10-20T03:46:01.748461Z",
     "iopub.status.idle": "2023-10-20T03:46:01.754853Z",
     "shell.execute_reply": "2023-10-20T03:46:01.754031Z"
    },
    "papermill": {
     "duration": 0.044833,
     "end_time": "2023-10-20T03:46:01.756637",
     "exception": false,
     "start_time": "2023-10-20T03:46:01.711804",
     "status": "completed"
    },
    "tags": []
   },
   "outputs": [],
   "source": [
    "class EyeClassifier(nn.Module):\n",
    "    def __init__(self, pretrained=True):\n",
    "        super().__init__()\n",
    "        \n",
    "#         self.model = models.resnet34(pretrained=pretrained, progress=pretrained)\n",
    "        self.model = models.vgg19(pretrained=pretrained, progress=pretrained)\n",
    "    \n",
    "        for param in self.model.parameters():\n",
    "            param.requires_grad = True\n",
    "        \n",
    "#         num_features = self.model.fc.in_features\n",
    "        num_features = self.model.classifier[0].in_features\n",
    "    \n",
    "        self.model.fc = nn.Sequential(\n",
    "            nn.Flatten(),\n",
    "            nn.BatchNorm1d(num_features),\n",
    "            nn.Dropout(0.5),\n",
    "            nn.Linear(num_features, 5),\n",
    "            nn.LogSoftmax(dim=1)\n",
    "        )\n",
    "        \n",
    "\n",
    "    def forward(self, x):\n",
    "        x = self.model(x)\n",
    "        return x"
   ]
  },
  {
   "cell_type": "code",
   "execution_count": 13,
   "id": "4899924b",
   "metadata": {
    "execution": {
     "iopub.execute_input": "2023-10-20T03:46:01.828300Z",
     "iopub.status.busy": "2023-10-20T03:46:01.827946Z",
     "iopub.status.idle": "2023-10-20T03:46:16.425423Z",
     "shell.execute_reply": "2023-10-20T03:46:16.424291Z"
    },
    "papermill": {
     "duration": 14.635382,
     "end_time": "2023-10-20T03:46:16.427588",
     "exception": false,
     "start_time": "2023-10-20T03:46:01.792206",
     "status": "completed"
    },
    "tags": []
   },
   "outputs": [
    {
     "name": "stderr",
     "output_type": "stream",
     "text": [
      "/opt/conda/lib/python3.10/site-packages/torchvision/models/_utils.py:208: UserWarning: The parameter 'pretrained' is deprecated since 0.13 and may be removed in the future, please use 'weights' instead.\n",
      "  warnings.warn(\n",
      "/opt/conda/lib/python3.10/site-packages/torchvision/models/_utils.py:223: UserWarning: Arguments other than a weight enum or `None` for 'weights' are deprecated since 0.13 and may be removed in the future. The current behavior is equivalent to passing `weights=VGG19_Weights.IMAGENET1K_V1`. You can also use `weights=VGG19_Weights.DEFAULT` to get the most up-to-date weights.\n",
      "  warnings.warn(msg)\n",
      "Downloading: \"https://download.pytorch.org/models/vgg19-dcbb9e9d.pth\" to /root/.cache/torch/hub/checkpoints/vgg19-dcbb9e9d.pth\n",
      "100%|██████████| 548M/548M [00:02<00:00, 260MB/s]\n"
     ]
    },
    {
     "name": "stdout",
     "output_type": "stream",
     "text": [
      "==========================================================================================\n",
      "Layer (type:depth-idx)                   Output Shape              Param #\n",
      "==========================================================================================\n",
      "├─VGG: 1-1                               [-1, 1000]                --\n",
      "|    └─Sequential: 2-1                   [-1, 512, 7, 7]           --\n",
      "|    |    └─Conv2d: 3-1                  [-1, 64, 224, 224]        1,792\n",
      "|    |    └─ReLU: 3-2                    [-1, 64, 224, 224]        --\n",
      "|    |    └─Conv2d: 3-3                  [-1, 64, 224, 224]        36,928\n",
      "|    |    └─ReLU: 3-4                    [-1, 64, 224, 224]        --\n",
      "|    |    └─MaxPool2d: 3-5               [-1, 64, 112, 112]        --\n",
      "|    |    └─Conv2d: 3-6                  [-1, 128, 112, 112]       73,856\n",
      "|    |    └─ReLU: 3-7                    [-1, 128, 112, 112]       --\n",
      "|    |    └─Conv2d: 3-8                  [-1, 128, 112, 112]       147,584\n",
      "|    |    └─ReLU: 3-9                    [-1, 128, 112, 112]       --\n",
      "|    |    └─MaxPool2d: 3-10              [-1, 128, 56, 56]         --\n",
      "|    |    └─Conv2d: 3-11                 [-1, 256, 56, 56]         295,168\n",
      "|    |    └─ReLU: 3-12                   [-1, 256, 56, 56]         --\n",
      "|    |    └─Conv2d: 3-13                 [-1, 256, 56, 56]         590,080\n",
      "|    |    └─ReLU: 3-14                   [-1, 256, 56, 56]         --\n",
      "|    |    └─Conv2d: 3-15                 [-1, 256, 56, 56]         590,080\n",
      "|    |    └─ReLU: 3-16                   [-1, 256, 56, 56]         --\n",
      "|    |    └─Conv2d: 3-17                 [-1, 256, 56, 56]         590,080\n",
      "|    |    └─ReLU: 3-18                   [-1, 256, 56, 56]         --\n",
      "|    |    └─MaxPool2d: 3-19              [-1, 256, 28, 28]         --\n",
      "|    |    └─Conv2d: 3-20                 [-1, 512, 28, 28]         1,180,160\n",
      "|    |    └─ReLU: 3-21                   [-1, 512, 28, 28]         --\n",
      "|    |    └─Conv2d: 3-22                 [-1, 512, 28, 28]         2,359,808\n",
      "|    |    └─ReLU: 3-23                   [-1, 512, 28, 28]         --\n",
      "|    |    └─Conv2d: 3-24                 [-1, 512, 28, 28]         2,359,808\n",
      "|    |    └─ReLU: 3-25                   [-1, 512, 28, 28]         --\n",
      "|    |    └─Conv2d: 3-26                 [-1, 512, 28, 28]         2,359,808\n",
      "|    |    └─ReLU: 3-27                   [-1, 512, 28, 28]         --\n",
      "|    |    └─MaxPool2d: 3-28              [-1, 512, 14, 14]         --\n",
      "|    |    └─Conv2d: 3-29                 [-1, 512, 14, 14]         2,359,808\n",
      "|    |    └─ReLU: 3-30                   [-1, 512, 14, 14]         --\n",
      "|    |    └─Conv2d: 3-31                 [-1, 512, 14, 14]         2,359,808\n",
      "|    |    └─ReLU: 3-32                   [-1, 512, 14, 14]         --\n",
      "|    |    └─Conv2d: 3-33                 [-1, 512, 14, 14]         2,359,808\n",
      "|    |    └─ReLU: 3-34                   [-1, 512, 14, 14]         --\n",
      "|    |    └─Conv2d: 3-35                 [-1, 512, 14, 14]         2,359,808\n",
      "|    |    └─ReLU: 3-36                   [-1, 512, 14, 14]         --\n",
      "|    |    └─MaxPool2d: 3-37              [-1, 512, 7, 7]           --\n",
      "|    └─AdaptiveAvgPool2d: 2-2            [-1, 512, 7, 7]           --\n",
      "|    └─Sequential: 2-3                   [-1, 1000]                --\n",
      "|    |    └─Linear: 3-38                 [-1, 4096]                102,764,544\n",
      "|    |    └─ReLU: 3-39                   [-1, 4096]                --\n",
      "|    |    └─Dropout: 3-40                [-1, 4096]                --\n",
      "|    |    └─Linear: 3-41                 [-1, 4096]                16,781,312\n",
      "|    |    └─ReLU: 3-42                   [-1, 4096]                --\n",
      "|    |    └─Dropout: 3-43                [-1, 4096]                --\n",
      "|    |    └─Linear: 3-44                 [-1, 1000]                4,097,000\n",
      "==========================================================================================\n",
      "Total params: 143,667,240\n",
      "Trainable params: 143,667,240\n",
      "Non-trainable params: 0\n",
      "Total mult-adds (G): 19.92\n",
      "==========================================================================================\n",
      "Input size (MB): 0.57\n",
      "Forward/backward pass size (MB): 113.38\n",
      "Params size (MB): 548.05\n",
      "Estimated Total Size (MB): 662.00\n",
      "==========================================================================================\n"
     ]
    }
   ],
   "source": [
    "classifier = EyeClassifier(pretrained=True)\n",
    "_ = summary(classifier, torch.ones(1,3,224,224))"
   ]
  },
  {
   "cell_type": "code",
   "execution_count": 14,
   "id": "ebe7fa72",
   "metadata": {
    "execution": {
     "iopub.execute_input": "2023-10-20T03:46:16.504836Z",
     "iopub.status.busy": "2023-10-20T03:46:16.503730Z",
     "iopub.status.idle": "2023-10-20T03:46:16.511361Z",
     "shell.execute_reply": "2023-10-20T03:46:16.510330Z"
    },
    "papermill": {
     "duration": 0.048384,
     "end_time": "2023-10-20T03:46:16.513165",
     "exception": false,
     "start_time": "2023-10-20T03:46:16.464781",
     "status": "completed"
    },
    "tags": []
   },
   "outputs": [],
   "source": [
    "def train(data, classifier, optimizer, loss_fn):\n",
    "    classifier.train()\n",
    "    imgs, targets = data\n",
    "    outputs = classifier(imgs.to(device))\n",
    "    loss = loss_fn(outputs.to(device), targets.to(device))\n",
    "    optimizer.zero_grad()\n",
    "    loss.backward()\n",
    "    optimizer.step()\n",
    "    \n",
    "    outputs = torch.tensor(outputs.cpu().detach().tolist())\n",
    "    targets = targets.cpu().detach().tolist()\n",
    "    probs = torch.softmax(outputs, dim=1)\n",
    "    preds = torch.argmax(probs, dim=1).cpu().detach().tolist()\n",
    "    fake_recall_score = recall_score(targets, preds,\n",
    "                               zero_division=0,\n",
    "                               average='macro')\n",
    "    \n",
    "    return loss.cpu().detach().item(), fake_recall_score"
   ]
  },
  {
   "cell_type": "code",
   "execution_count": 15,
   "id": "7c28b8ae",
   "metadata": {
    "execution": {
     "iopub.execute_input": "2023-10-20T03:46:16.590620Z",
     "iopub.status.busy": "2023-10-20T03:46:16.589917Z",
     "iopub.status.idle": "2023-10-20T03:46:16.596714Z",
     "shell.execute_reply": "2023-10-20T03:46:16.595718Z"
    },
    "papermill": {
     "duration": 0.048832,
     "end_time": "2023-10-20T03:46:16.598688",
     "exception": false,
     "start_time": "2023-10-20T03:46:16.549856",
     "status": "completed"
    },
    "tags": []
   },
   "outputs": [],
   "source": [
    "@torch.no_grad()\n",
    "def validate(data, classifier, loss_fn):\n",
    "    classifier.eval()\n",
    "    imgs, targets = data\n",
    "    outputs = classifier(imgs.to(device))\n",
    "    loss = loss_fn(outputs.to(device), targets.to(device))\n",
    "    \n",
    "    outputs = torch.tensor(outputs.cpu().detach().tolist())\n",
    "    targets = targets.cpu().detach().tolist()\n",
    "    probs = torch.softmax(outputs, dim=1)\n",
    "    preds = torch.argmax(probs, dim=1).cpu().detach().tolist()\n",
    "    fake_recall_score = recall_score(targets, preds,\n",
    "                               zero_division=0,\n",
    "                               average='macro')\n",
    "    \n",
    "    return loss.cpu().detach().item(), fake_recall_score"
   ]
  },
  {
   "cell_type": "code",
   "execution_count": 16,
   "id": "ba92231f",
   "metadata": {
    "execution": {
     "iopub.execute_input": "2023-10-20T03:46:16.673112Z",
     "iopub.status.busy": "2023-10-20T03:46:16.672671Z",
     "iopub.status.idle": "2023-10-20T03:46:18.843250Z",
     "shell.execute_reply": "2023-10-20T03:46:18.842189Z"
    },
    "papermill": {
     "duration": 2.21065,
     "end_time": "2023-10-20T03:46:18.845483",
     "exception": false,
     "start_time": "2023-10-20T03:46:16.634833",
     "status": "completed"
    },
    "tags": []
   },
   "outputs": [],
   "source": [
    "classifier = EyeClassifier(pretrained=True).to(device)\n",
    "loss_fn = nn.CrossEntropyLoss().to(device)\n",
    "optimizer = optim.Adam(classifier.parameters(), lr=0.001, weight_decay=1e-5)\n",
    "scheduler = optim.lr_scheduler.StepLR(optimizer, step_size=5,\n",
    "                                      gamma=0.25)\n",
    "best_recall_score = 0\n",
    "n_epochs = 10\n",
    "xticks = list(i+1 for i in range(n_epochs))"
   ]
  },
  {
   "cell_type": "code",
   "execution_count": 17,
   "id": "efefc0e7",
   "metadata": {
    "execution": {
     "iopub.execute_input": "2023-10-20T03:46:18.921838Z",
     "iopub.status.busy": "2023-10-20T03:46:18.920894Z",
     "iopub.status.idle": "2023-10-20T03:59:31.500070Z",
     "shell.execute_reply": "2023-10-20T03:59:31.498981Z"
    },
    "papermill": {
     "duration": 792.621292,
     "end_time": "2023-10-20T03:59:31.503977",
     "exception": false,
     "start_time": "2023-10-20T03:46:18.882685",
     "status": "completed"
    },
    "tags": []
   },
   "outputs": [
    {
     "data": {
      "application/vnd.jupyter.widget-view+json": {
       "model_id": "35509994ecc3489581096eba3c42e598",
       "version_major": 2,
       "version_minor": 0
      },
      "text/plain": [
       "Training:   0%|          | 0/10 [00:00<?, ?it/s]"
      ]
     },
     "metadata": {},
     "output_type": "display_data"
    },
    {
     "name": "stdout",
     "output_type": "stream",
     "text": [
      "epoch: 1 \ttrain loss: 33.961 \ttrain recall score: 0.178 \tvalid loss: 1.705 \tvalid recall score: 0.178\n",
      "epoch: 2 \ttrain loss: 1.926 \ttrain recall score: 0.182 \tvalid loss: 1.621 \tvalid recall score: 0.200\n",
      "epoch: 3 \ttrain loss: 1.650 \ttrain recall score: 0.197 \tvalid loss: 1.623 \tvalid recall score: 0.200\n",
      "epoch: 4 \ttrain loss: 1.658 \ttrain recall score: 0.171 \tvalid loss: 1.621 \tvalid recall score: 0.219\n",
      "epoch: 5 \ttrain loss: 1.657 \ttrain recall score: 0.206 \tvalid loss: 1.610 \tvalid recall score: 0.200\n",
      "epoch: 6 \ttrain loss: 1.634 \ttrain recall score: 0.172 \tvalid loss: 1.608 \tvalid recall score: 0.200\n",
      "epoch: 7 \ttrain loss: 1.623 \ttrain recall score: 0.215 \tvalid loss: 1.604 \tvalid recall score: 0.200\n",
      "epoch: 8 \ttrain loss: 1.619 \ttrain recall score: 0.202 \tvalid loss: 1.603 \tvalid recall score: 0.199\n",
      "epoch: 9 \ttrain loss: 1.624 \ttrain recall score: 0.219 \tvalid loss: 1.606 \tvalid recall score: 0.210\n",
      "epoch: 10 \ttrain loss: 1.618 \ttrain recall score: 0.205 \tvalid loss: 1.602 \tvalid recall score: 0.217\n"
     ]
    }
   ],
   "source": [
    "mem = {\n",
    "    'train_loss': [],\n",
    "    'train_recall_score': [],\n",
    "    'valid_loss': [],\n",
    "    'valid_recall_score': []\n",
    "}\n",
    "\n",
    "for epoch in tqdm(range(n_epochs), desc='Training'):\n",
    "    n_batch = len(train_dl)\n",
    "    train_losses, train_recall_scores = [], []\n",
    "    for i, data in enumerate(train_dl):\n",
    "        train_loss, train_recall_score = train(data, classifier,\n",
    "                                         optimizer, loss_fn)\n",
    "        train_losses.append(train_loss)\n",
    "        train_recall_scores.append(train_recall_score)\n",
    "        pos = epoch + ((i+1)/n_batch)\n",
    "        print(\n",
    "            'epoch:', \"%.3f\" % pos,\n",
    "            '\\ttrain loss:', \"%.3f\" % train_loss,\n",
    "            '\\ttrain recall score:', \"%.3f\" % train_recall_score, \n",
    "            end='\\r'\n",
    "        )\n",
    "        \n",
    "    mem['train_loss'].append(np.mean(train_losses))\n",
    "    mem['train_recall_score'].append(np.mean(train_recall_scores))\n",
    "    \n",
    "    n_batch = len(valid_dl)\n",
    "    valid_losses, valid_recall_scores = [], []\n",
    "    for i, data in enumerate(valid_dl):\n",
    "        valid_loss, valid_recall_score = validate(data, classifier, loss_fn)\n",
    "        valid_losses.append(valid_loss)\n",
    "        valid_recall_scores.append(valid_recall_score)\n",
    "        pos = epoch + ((i+1)/n_batch)\n",
    "        print(\n",
    "            'epoch:', \"%.3f\" % pos,\n",
    "            '\\tvalid loss:', \"%.3f\" % valid_loss,\n",
    "            '\\tvalid recall score:', \"%.3f\" % valid_recall_score, \n",
    "            end='\\r'\n",
    "        )\n",
    "    \n",
    "    cur_recall_score = np.mean(valid_recall_scores)\n",
    "    mem['valid_loss'].append(np.mean(valid_losses))\n",
    "    mem['valid_recall_score'].append(cur_recall_score)\n",
    "    \n",
    "    print(\n",
    "        'epoch:', epoch+1,\n",
    "        '\\ttrain loss:', \"%.3f\" % mem['train_loss'][-1],\n",
    "        '\\ttrain recall score:', \"%.3f\" % mem['train_recall_score'][-1],\n",
    "        '\\tvalid loss:', \"%.3f\" % mem['valid_loss'][-1],\n",
    "        '\\tvalid recall score:', \"%.3f\" % mem['valid_recall_score'][-1],\n",
    "    )\n",
    "    \n",
    "    if best_recall_score < cur_recall_score:\n",
    "        best_recall_score = cur_recall_score\n",
    "        torch.save(classifier.state_dict(), './saved_model/diabetic_state_dict.pth')\n",
    "        torch.save(classifier, './saved_model/diabetic_model.pth')\n",
    "        \n",
    "    scheduler.step()"
   ]
  },
  {
   "cell_type": "code",
   "execution_count": 18,
   "id": "da23eded",
   "metadata": {
    "execution": {
     "iopub.execute_input": "2023-10-20T03:59:31.663779Z",
     "iopub.status.busy": "2023-10-20T03:59:31.663466Z",
     "iopub.status.idle": "2023-10-20T03:59:32.062697Z",
     "shell.execute_reply": "2023-10-20T03:59:32.061618Z"
    },
    "papermill": {
     "duration": 0.511083,
     "end_time": "2023-10-20T03:59:32.064756",
     "exception": false,
     "start_time": "2023-10-20T03:59:31.553673",
     "status": "completed"
    },
    "tags": []
   },
   "outputs": [
    {
     "data": {
      "image/png": "[encoded data removed]",
      "text/plain": [
       "<Figure size 640x480 with 1 Axes>"
      ]
     },
     "metadata": {},
     "output_type": "display_data"
    }
   ],
   "source": [
    "plt.plot(xticks, mem['train_loss'])\n",
    "plt.plot(xticks, mem['valid_loss'])\n",
    "plt.legend(['train', 'valid'])\n",
    "plt.xlabel('epoch')\n",
    "plt.title('loss')\n",
    "plt.show()"
   ]
  },
  {
   "cell_type": "code",
   "execution_count": 19,
   "id": "0c3a1c90",
   "metadata": {
    "execution": {
     "iopub.execute_input": "2023-10-20T03:59:32.160436Z",
     "iopub.status.busy": "2023-10-20T03:59:32.160088Z",
     "iopub.status.idle": "2023-10-20T03:59:32.450200Z",
     "shell.execute_reply": "2023-10-20T03:59:32.449099Z"
    },
    "papermill": {
     "duration": 0.340246,
     "end_time": "2023-10-20T03:59:32.452325",
     "exception": false,
     "start_time": "2023-10-20T03:59:32.112079",
     "status": "completed"
    },
    "tags": []
   },
   "outputs": [
    {
     "data": {
      "image/png": "[encoded data removed]",
      "text/plain": [
       "<Figure size 640x480 with 1 Axes>"
      ]
     },
     "metadata": {},
     "output_type": "display_data"
    }
   ],
   "source": [
    "plt.plot(xticks, mem['train_recall_score'])\n",
    "plt.plot(xticks, mem['valid_recall_score'])\n",
    "plt.legend(['train', 'valid'])\n",
    "plt.xlabel('epoch')\n",
    "plt.title('recall score')\n",
    "plt.show()"
   ]
  },
  {
   "cell_type": "code",
   "execution_count": null,
   "id": "ec03a30a",
   "metadata": {
    "papermill": {
     "duration": 0.047421,
     "end_time": "2023-10-20T03:59:32.547705",
     "exception": false,
     "start_time": "2023-10-20T03:59:32.500284",
     "status": "completed"
    },
    "tags": []
   },
   "outputs": [],
   "source": []
  }
 ],
 "metadata": {
  "kernelspec": {
   "display_name": "Python 3",
   "language": "python",
   "name": "python3"
  },
  "language_info": {
   "codemirror_mode": {
    "name": "ipython",
    "version": 3
   },
   "file_extension": ".py",
   "mimetype": "text/x-python",
   "name": "python",
   "nbconvert_exporter": "python",
   "pygments_lexer": "ipython3",
   "version": "3.10.12"
  },
  "papermill": {
   "default_parameters": {},
   "duration": 1159.416159,
   "end_time": "2023-10-20T03:59:36.663185",
   "environment_variables": {},
   "exception": null,
   "input_path": "__notebook__.ipynb",
   "output_path": "__notebook__.ipynb",
   "parameters": {},
   "start_time": "2023-10-20T03:40:17.247026",
   "version": "2.4.0"
  },
  "widgets": {
   "application/vnd.jupyter.widget-state+json": {
    "state": {
     "0204a5758d834a27a1986892378cae50": {
      "model_module": "@jupyter-widgets/base",
      "model_module_version": "1.2.0",
      "model_name": "LayoutModel",
      "state": {
       "_model_module": "@jupyter-widgets/base",
       "_model_module_version": "1.2.0",
       "_model_name": "LayoutModel",
       "_view_count": null,
       "_view_module": "@jupyter-widgets/base",
       "_view_module_version": "1.2.0",
       "_view_name": "LayoutView",
       "align_content": null,
       "align_items": null,
       "align_self": null,
       "border": null,
       "bottom": null,
       "display": null,
       "flex": null,
       "flex_flow": null,
       "grid_area": null,
       "grid_auto_columns": null,
       "grid_auto_flow": null,
       "grid_auto_rows": null,
       "grid_column": null,
       "grid_gap": null,
       "grid_row": null,
       "grid_template_areas": null,
       "grid_template_columns": null,
       "grid_template_rows": null,
       "height": null,
       "justify_content": null,
       "justify_items": null,
       "left": null,
       "margin": null,
       "max_height": null,
       "max_width": null,
       "min_height": null,
       "min_width": null,
       "object_fit": null,
       "object_position": null,
       "order": null,
       "overflow": null,
       "overflow_x": null,
       "overflow_y": null,
       "padding": null,
       "right": null,
       "top": null,
       "visibility": null,
       "width": null
      }
     },
     "321e125e185e4ad0aca747fef989e637": {
      "model_module": "@jupyter-widgets/controls",
      "model_module_version": "1.5.0",
      "model_name": "ProgressStyleModel",
      "state": {
       "_model_module": "@jupyter-widgets/controls",
       "_model_module_version": "1.5.0",
       "_model_name": "ProgressStyleModel",
       "_view_count": null,
       "_view_module": "@jupyter-widgets/base",
       "_view_module_version": "1.2.0",
       "_view_name": "StyleView",
       "bar_color": null,
       "description_width": ""
      }
     },
     "35509994ecc3489581096eba3c42e598": {
      "model_module": "@jupyter-widgets/controls",
      "model_module_version": "1.5.0",
      "model_name": "HBoxModel",
      "state": {
       "_dom_classes": [],
       "_model_module": "@jupyter-widgets/controls",
       "_model_module_version": "1.5.0",
       "_model_name": "HBoxModel",
       "_view_count": null,
       "_view_module": "@jupyter-widgets/controls",
       "_view_module_version": "1.5.0",
       "_view_name": "HBoxView",
       "box_style": "",
       "children": [
        "IPY_MODEL_c865d29e66a44f8fa2c257586c09f81d",
        "IPY_MODEL_63d47a4afd2f4d92b06cfd72ee0c5409",
        "IPY_MODEL_57b93f42f4794773965921fe5bbcd5a9"
       ],
       "layout": "IPY_MODEL_aa633d31a4ff49d8932da41dcc068d94"
      }
     },
     "57b93f42f4794773965921fe5bbcd5a9": {
      "model_module": "@jupyter-widgets/controls",
      "model_module_version": "1.5.0",
      "model_name": "HTMLModel",
      "state": {
       "_dom_classes": [],
       "_model_module": "@jupyter-widgets/controls",
       "_model_module_version": "1.5.0",
       "_model_name": "HTMLModel",
       "_view_count": null,
       "_view_module": "@jupyter-widgets/controls",
       "_view_module_version": "1.5.0",
       "_view_name": "HTMLView",
       "description": "",
       "description_tooltip": null,
       "layout": "IPY_MODEL_597fd2f6b3d44815a572e99ad91cdf14",
       "placeholder": "​",
       "style": "IPY_MODEL_6775165d9a4d4026a9d922dbec61ebeb",
       "value": " 10/10 [13:12&lt;00:00, 78.47s/it]"
      }
     },
     "597fd2f6b3d44815a572e99ad91cdf14": {
      "model_module": "@jupyter-widgets/base",
      "model_module_version": "1.2.0",
      "model_name": "LayoutModel",
      "state": {
       "_model_module": "@jupyter-widgets/base",
       "_model_module_version": "1.2.0",
       "_model_name": "LayoutModel",
       "_view_count": null,
       "_view_module": "@jupyter-widgets/base",
       "_view_module_version": "1.2.0",
       "_view_name": "LayoutView",
       "align_content": null,
       "align_items": null,
       "align_self": null,
       "border": null,
       "bottom": null,
       "display": null,
       "flex": null,
       "flex_flow": null,
       "grid_area": null,
       "grid_auto_columns": null,
       "grid_auto_flow": null,
       "grid_auto_rows": null,
       "grid_column": null,
       "grid_gap": null,
       "grid_row": null,
       "grid_template_areas": null,
       "grid_template_columns": null,
       "grid_template_rows": null,
       "height": null,
       "justify_content": null,
       "justify_items": null,
       "left": null,
       "margin": null,
       "max_height": null,
       "max_width": null,
       "min_height": null,
       "min_width": null,
       "object_fit": null,
       "object_position": null,
       "order": null,
       "overflow": null,
       "overflow_x": null,
       "overflow_y": null,
       "padding": null,
       "right": null,
       "top": null,
       "visibility": null,
       "width": null
      }
     },
     "63d47a4afd2f4d92b06cfd72ee0c5409": {
      "model_module": "@jupyter-widgets/controls",
      "model_module_version": "1.5.0",
      "model_name": "FloatProgressModel",
      "state": {
       "_dom_classes": [],
       "_model_module": "@jupyter-widgets/controls",
       "_model_module_version": "1.5.0",
       "_model_name": "FloatProgressModel",
       "_view_count": null,
       "_view_module": "@jupyter-widgets/controls",
       "_view_module_version": "1.5.0",
       "_view_name": "ProgressView",
       "bar_style": "success",
       "description": "",
       "description_tooltip": null,
       "layout": "IPY_MODEL_0204a5758d834a27a1986892378cae50",
       "max": 10.0,
       "min": 0.0,
       "orientation": "horizontal",
       "style": "IPY_MODEL_321e125e185e4ad0aca747fef989e637",
       "value": 10.0
      }
     },
     "6775165d9a4d4026a9d922dbec61ebeb": {
      "model_module": "@jupyter-widgets/controls",
      "model_module_version": "1.5.0",
      "model_name": "DescriptionStyleModel",
      "state": {
       "_model_module": "@jupyter-widgets/controls",
       "_model_module_version": "1.5.0",
       "_model_name": "DescriptionStyleModel",
       "_view_count": null,
       "_view_module": "@jupyter-widgets/base",
       "_view_module_version": "1.2.0",
       "_view_name": "StyleView",
       "description_width": ""
      }
     },
     "7d8df3485bfa47cdbe2afdeecad788cd": {
      "model_module": "@jupyter-widgets/controls",
      "model_module_version": "1.5.0",
      "model_name": "DescriptionStyleModel",
      "state": {
       "_model_module": "@jupyter-widgets/controls",
       "_model_module_version": "1.5.0",
       "_model_name": "DescriptionStyleModel",
       "_view_count": null,
       "_view_module": "@jupyter-widgets/base",
       "_view_module_version": "1.2.0",
       "_view_name": "StyleView",
       "description_width": ""
      }
     },
     "8fea554d9e9a4f35a5fc5063a1e55d31": {
      "model_module": "@jupyter-widgets/base",
      "model_module_version": "1.2.0",
      "model_name": "LayoutModel",
      "state": {
       "_model_module": "@jupyter-widgets/base",
       "_model_module_version": "1.2.0",
       "_model_name": "LayoutModel",
       "_view_count": null,
       "_view_module": "@jupyter-widgets/base",
       "_view_module_version": "1.2.0",
       "_view_name": "LayoutView",
       "align_content": null,
       "align_items": null,
       "align_self": null,
       "border": null,
       "bottom": null,
       "display": null,
       "flex": null,
       "flex_flow": null,
       "grid_area": null,
       "grid_auto_columns": null,
       "grid_auto_flow": null,
       "grid_auto_rows": null,
       "grid_column": null,
       "grid_gap": null,
       "grid_row": null,
       "grid_template_areas": null,
       "grid_template_columns": null,
       "grid_template_rows": null,
       "height": null,
       "justify_content": null,
       "justify_items": null,
       "left": null,
       "margin": null,
       "max_height": null,
       "max_width": null,
       "min_height": null,
       "min_width": null,
       "object_fit": null,
       "object_position": null,
       "order": null,
       "overflow": null,
       "overflow_x": null,
       "overflow_y": null,
       "padding": null,
       "right": null,
       "top": null,
       "visibility": null,
       "width": null
      }
     },
     "aa633d31a4ff49d8932da41dcc068d94": {
      "model_module": "@jupyter-widgets/base",
      "model_module_version": "1.2.0",
      "model_name": "LayoutModel",
      "state": {
       "_model_module": "@jupyter-widgets/base",
       "_model_module_version": "1.2.0",
       "_model_name": "LayoutModel",
       "_view_count": null,
       "_view_module": "@jupyter-widgets/base",
       "_view_module_version": "1.2.0",
       "_view_name": "LayoutView",
       "align_content": null,
       "align_items": null,
       "align_self": null,
       "border": null,
       "bottom": null,
       "display": null,
       "flex": null,
       "flex_flow": null,
       "grid_area": null,
       "grid_auto_columns": null,
       "grid_auto_flow": null,
       "grid_auto_rows": null,
       "grid_column": null,
       "grid_gap": null,
       "grid_row": null,
       "grid_template_areas": null,
       "grid_template_columns": null,
       "grid_template_rows": null,
       "height": null,
       "justify_content": null,
       "justify_items": null,
       "left": null,
       "margin": null,
       "max_height": null,
       "max_width": null,
       "min_height": null,
       "min_width": null,
       "object_fit": null,
       "object_position": null,
       "order": null,
       "overflow": null,
       "overflow_x": null,
       "overflow_y": null,
       "padding": null,
       "right": null,
       "top": null,
       "visibility": null,
       "width": null
      }
     },
     "c865d29e66a44f8fa2c257586c09f81d": {
      "model_module": "@jupyter-widgets/controls",
      "model_module_version": "1.5.0",
      "model_name": "HTMLModel",
      "state": {
       "_dom_classes": [],
       "_model_module": "@jupyter-widgets/controls",
       "_model_module_version": "1.5.0",
       "_model_name": "HTMLModel",
       "_view_count": null,
       "_view_module": "@jupyter-widgets/controls",
       "_view_module_version": "1.5.0",
       "_view_name": "HTMLView",
       "description": "",
       "description_tooltip": null,
       "layout": "IPY_MODEL_8fea554d9e9a4f35a5fc5063a1e55d31",
       "placeholder": "​",
       "style": "IPY_MODEL_7d8df3485bfa47cdbe2afdeecad788cd",
       "value": "Training: 100%"
      }
     }
    },
    "version_major": 2,
    "version_minor": 0
   }
  }
 },
 "nbformat": 4,
 "nbformat_minor": 5
}
