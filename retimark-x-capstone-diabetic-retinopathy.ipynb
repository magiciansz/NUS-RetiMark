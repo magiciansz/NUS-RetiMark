{
 "cells": [
  {
   "cell_type": "markdown",
   "id": "ec4d0958",
   "metadata": {
    "papermill": {
     "duration": 0.009092,
     "end_time": "2023-11-02T07:23:26.099470",
     "exception": false,
     "start_time": "2023-11-02T07:23:26.090378",
     "status": "completed"
    },
    "tags": []
   },
   "source": [
    "# Install Dependencies"
   ]
  },
  {
   "cell_type": "code",
   "execution_count": 1,
   "id": "bb82cf1a",
   "metadata": {
    "execution": {
     "iopub.execute_input": "2023-11-02T07:23:26.118258Z",
     "iopub.status.busy": "2023-11-02T07:23:26.117854Z",
     "iopub.status.idle": "2023-11-02T07:23:38.690145Z",
     "shell.execute_reply": "2023-11-02T07:23:38.689131Z"
    },
    "papermill": {
     "duration": 12.584254,
     "end_time": "2023-11-02T07:23:38.692359",
     "exception": false,
     "start_time": "2023-11-02T07:23:26.108105",
     "status": "completed"
    },
    "tags": []
   },
   "outputs": [
    {
     "name": "stdout",
     "output_type": "stream",
     "text": [
      "Collecting torch_summary\r\n",
      "  Downloading torch_summary-1.4.5-py3-none-any.whl (16 kB)\r\n",
      "Installing collected packages: torch_summary\r\n",
      "Successfully installed torch_summary-1.4.5\r\n"
     ]
    }
   ],
   "source": [
    "!pip install torch_summary"
   ]
  },
  {
   "cell_type": "markdown",
   "id": "a185dfd3",
   "metadata": {
    "papermill": {
     "duration": 0.007204,
     "end_time": "2023-11-02T07:23:38.707399",
     "exception": false,
     "start_time": "2023-11-02T07:23:38.700195",
     "status": "completed"
    },
    "tags": []
   },
   "source": [
    "# Import Libraries"
   ]
  },
  {
   "cell_type": "code",
   "execution_count": 2,
   "id": "f4f43847",
   "metadata": {
    "_cell_guid": "b1076dfc-b9ad-4769-8c92-a6c4dae69d19",
    "_uuid": "8f2839f25d086af736a60e9eeb907d3b93b6e0e5",
    "execution": {
     "iopub.execute_input": "2023-11-02T07:23:38.724266Z",
     "iopub.status.busy": "2023-11-02T07:23:38.723329Z",
     "iopub.status.idle": "2023-11-02T07:23:43.780278Z",
     "shell.execute_reply": "2023-11-02T07:23:43.779298Z"
    },
    "papermill": {
     "duration": 5.068093,
     "end_time": "2023-11-02T07:23:43.782771",
     "exception": false,
     "start_time": "2023-11-02T07:23:38.714678",
     "status": "completed"
    },
    "tags": []
   },
   "outputs": [
    {
     "name": "stderr",
     "output_type": "stream",
     "text": [
      "/opt/conda/lib/python3.10/site-packages/scipy/__init__.py:146: UserWarning: A NumPy version >=1.16.5 and <1.23.0 is required for this version of SciPy (detected version 1.23.5\n",
      "  warnings.warn(f\"A NumPy version >={np_minversion} and <{np_maxversion}\"\n"
     ]
    }
   ],
   "source": [
    "import torch\n",
    "import torch.nn.functional as F\n",
    "from torch import nn, optim\n",
    "from torchvision import transforms as T, models\n",
    "from torch.utils.data import DataLoader, Dataset\n",
    "from torchsummary import summary\n",
    "from tqdm.notebook import tqdm \n",
    "import zipfile\n",
    "\n",
    "from sklearn.metrics import classification_report, recall_score\n",
    "from sklearn.model_selection import train_test_split\n",
    "import seaborn as sns\n",
    "from PIL import Image\n",
    "import matplotlib.pyplot as plt\n",
    "from random import shuffle, randint, choice\n",
    "import numpy as np\n",
    "import cv2 as cv\n",
    "from glob import glob\n",
    "import pandas as pd\n",
    "import requests\n",
    "import concurrent.futures"
   ]
  },
  {
   "cell_type": "code",
   "execution_count": 3,
   "id": "a0914a68",
   "metadata": {
    "execution": {
     "iopub.execute_input": "2023-11-02T07:23:43.802545Z",
     "iopub.status.busy": "2023-11-02T07:23:43.802004Z",
     "iopub.status.idle": "2023-11-02T07:23:44.893060Z",
     "shell.execute_reply": "2023-11-02T07:23:44.891857Z"
    },
    "papermill": {
     "duration": 1.103582,
     "end_time": "2023-11-02T07:23:44.895601",
     "exception": false,
     "start_time": "2023-11-02T07:23:43.792019",
     "status": "completed"
    },
    "tags": []
   },
   "outputs": [],
   "source": [
    "!mkdir saved_model\n",
    "sns.set_theme()\n",
    "device = 'cuda' if torch.cuda.is_available() else 'cpu'"
   ]
  },
  {
   "cell_type": "markdown",
   "id": "cf3d2e78",
   "metadata": {
    "papermill": {
     "duration": 0.007815,
     "end_time": "2023-11-02T07:23:44.911680",
     "exception": false,
     "start_time": "2023-11-02T07:23:44.903865",
     "status": "completed"
    },
    "tags": []
   },
   "source": [
    "## Dataset"
   ]
  },
  {
   "cell_type": "code",
   "execution_count": 4,
   "id": "344e03c4",
   "metadata": {
    "execution": {
     "iopub.execute_input": "2023-11-02T07:23:44.929062Z",
     "iopub.status.busy": "2023-11-02T07:23:44.928700Z",
     "iopub.status.idle": "2023-11-02T07:23:44.994437Z",
     "shell.execute_reply": "2023-11-02T07:23:44.993551Z"
    },
    "papermill": {
     "duration": 0.076939,
     "end_time": "2023-11-02T07:23:44.996376",
     "exception": false,
     "start_time": "2023-11-02T07:23:44.919437",
     "status": "completed"
    },
    "tags": []
   },
   "outputs": [
    {
     "data": {
      "text/html": [
       "<div>\n",
       "<style scoped>\n",
       "    .dataframe tbody tr th:only-of-type {\n",
       "        vertical-align: middle;\n",
       "    }\n",
       "\n",
       "    .dataframe tbody tr th {\n",
       "        vertical-align: top;\n",
       "    }\n",
       "\n",
       "    .dataframe thead th {\n",
       "        text-align: right;\n",
       "    }\n",
       "</style>\n",
       "<table border=\"1\" class=\"dataframe\">\n",
       "  <thead>\n",
       "    <tr style=\"text-align: right;\">\n",
       "      <th></th>\n",
       "      <th>image</th>\n",
       "      <th>level</th>\n",
       "    </tr>\n",
       "  </thead>\n",
       "  <tbody>\n",
       "    <tr>\n",
       "      <th>0</th>\n",
       "      <td>10_left</td>\n",
       "      <td>0</td>\n",
       "    </tr>\n",
       "    <tr>\n",
       "      <th>1</th>\n",
       "      <td>10_right</td>\n",
       "      <td>0</td>\n",
       "    </tr>\n",
       "    <tr>\n",
       "      <th>2</th>\n",
       "      <td>13_left</td>\n",
       "      <td>0</td>\n",
       "    </tr>\n",
       "    <tr>\n",
       "      <th>3</th>\n",
       "      <td>13_right</td>\n",
       "      <td>0</td>\n",
       "    </tr>\n",
       "    <tr>\n",
       "      <th>4</th>\n",
       "      <td>15_left</td>\n",
       "      <td>1</td>\n",
       "    </tr>\n",
       "  </tbody>\n",
       "</table>\n",
       "</div>"
      ],
      "text/plain": [
       "      image  level\n",
       "0   10_left      0\n",
       "1  10_right      0\n",
       "2   13_left      0\n",
       "3  13_right      0\n",
       "4   15_left      1"
      ]
     },
     "execution_count": 4,
     "metadata": {},
     "output_type": "execute_result"
    }
   ],
   "source": [
    "DIR = '/kaggle/input/diabetic-retinopathy-detection'\n",
    "\n",
    "with zipfile.ZipFile(f'{DIR}/trainLabels.csv.zip', 'r') as zip_ref:\n",
    "    with zip_ref.open('trainLabels.csv') as csv_file:\n",
    "        trainLabels_df = pd.read_csv(csv_file, index_col=0).reset_index()\n",
    "\n",
    "trainLabels_df.head()"
   ]
  },
  {
   "cell_type": "code",
   "execution_count": 5,
   "id": "83dcc2fb",
   "metadata": {
    "execution": {
     "iopub.execute_input": "2023-11-02T07:23:45.016505Z",
     "iopub.status.busy": "2023-11-02T07:23:45.016196Z",
     "iopub.status.idle": "2023-11-02T07:23:45.028687Z",
     "shell.execute_reply": "2023-11-02T07:23:45.027600Z"
    },
    "papermill": {
     "duration": 0.025148,
     "end_time": "2023-11-02T07:23:45.030652",
     "exception": false,
     "start_time": "2023-11-02T07:23:45.005504",
     "status": "completed"
    },
    "tags": []
   },
   "outputs": [
    {
     "name": "stdout",
     "output_type": "stream",
     "text": [
      "Total: 35126\n",
      "Stage 0: 25810\n",
      "Stage 1: 2443\n",
      "Stage 2: 5292\n",
      "Stage 3: 873\n",
      "Stage 4: 708\n"
     ]
    }
   ],
   "source": [
    "print(\"Total:\", len(trainLabels_df))\n",
    "print(\"Stage 0:\", len(trainLabels_df[trainLabels_df[\"level\"]==0]))\n",
    "print(\"Stage 1:\", len(trainLabels_df[trainLabels_df[\"level\"]==1]))\n",
    "print(\"Stage 2:\", len(trainLabels_df[trainLabels_df[\"level\"]==2]))\n",
    "print(\"Stage 3:\", len(trainLabels_df[trainLabels_df[\"level\"]==3]))\n",
    "print(\"Stage 4:\", len(trainLabels_df[trainLabels_df[\"level\"]==4]))"
   ]
  },
  {
   "cell_type": "code",
   "execution_count": 6,
   "id": "0c65b9e6",
   "metadata": {
    "execution": {
     "iopub.execute_input": "2023-11-02T07:23:45.047240Z",
     "iopub.status.busy": "2023-11-02T07:23:45.046957Z",
     "iopub.status.idle": "2023-11-02T07:23:45.070140Z",
     "shell.execute_reply": "2023-11-02T07:23:45.069431Z"
    },
    "papermill": {
     "duration": 0.033929,
     "end_time": "2023-11-02T07:23:45.072254",
     "exception": false,
     "start_time": "2023-11-02T07:23:45.038325",
     "status": "completed"
    },
    "tags": []
   },
   "outputs": [],
   "source": [
    "stage_0_df = trainLabels_df[trainLabels_df[\"level\"]==0].sample(500)\n",
    "stage_1_df = trainLabels_df[trainLabels_df[\"level\"]==1].sample(500)\n",
    "stage_2_df = trainLabels_df[trainLabels_df[\"level\"]==2].sample(500)\n",
    "stage_3_df = trainLabels_df[trainLabels_df[\"level\"]==3].sample(500)\n",
    "stage_4_df = trainLabels_df[trainLabels_df[\"level\"]==4].sample(500)\n",
    "\n",
    "stage_0_train, stage_0_valid = train_test_split(stage_0_df, test_size=0.2, random_state=42)\n",
    "stage_1_train, stage_1_valid = train_test_split(stage_1_df, test_size=0.2, random_state=42)\n",
    "stage_2_train, stage_2_valid = train_test_split(stage_2_df, test_size=0.2, random_state=42)\n",
    "stage_3_train, stage_3_valid = train_test_split(stage_3_df, test_size=0.2, random_state=42)\n",
    "stage_4_train, stage_4_valid = train_test_split(stage_4_df, test_size=0.2, random_state=42)\n",
    "\n",
    "train_df = pd.concat([stage_0_train, stage_1_train, stage_2_train, stage_3_train, stage_4_train]).sample(frac=1).reset_index()\n",
    "valid_df = pd.concat([stage_0_valid, stage_1_valid, stage_2_valid, stage_3_valid, stage_4_valid]).sample(frac=1).reset_index()\n",
    "\n",
    "# trainLabels_df['level'] = np.where(trainLabels_df['level'] == 0, 0, 1)\n",
    "\n",
    "# negative_df = trainLabels_df[trainLabels_df[\"level\"]==0].sample(1000)\n",
    "# positive_df = trainLabels_df[trainLabels_df[\"level\"]==1].sample(1000)\n",
    "\n",
    "# negative_train, negative_valid = train_test_split(negative_df, test_size=0.2, random_state=42)\n",
    "# positive_train, positive_valid = train_test_split(positive_df, test_size=0.2, random_state=42)\n",
    "\n",
    "# train_df = pd.concat([negative_train, positive_train]).sample(frac=1).reset_index()\n",
    "# valid_df = pd.concat([negative_valid, positive_valid]).sample(frac=1).reset_index()\n"
   ]
  },
  {
   "cell_type": "code",
   "execution_count": 7,
   "id": "458de78c",
   "metadata": {
    "execution": {
     "iopub.execute_input": "2023-11-02T07:23:45.088808Z",
     "iopub.status.busy": "2023-11-02T07:23:45.088531Z",
     "iopub.status.idle": "2023-11-02T07:23:45.095027Z",
     "shell.execute_reply": "2023-11-02T07:23:45.094245Z"
    },
    "papermill": {
     "duration": 0.016715,
     "end_time": "2023-11-02T07:23:45.096867",
     "exception": false,
     "start_time": "2023-11-02T07:23:45.080152",
     "status": "completed"
    },
    "tags": []
   },
   "outputs": [],
   "source": [
    "def download_image(index, image_name, df, count, total):\n",
    "    filepath = f\"https://diabetic-retinopathy-images.s3.ap-southeast-1.amazonaws.com/images/{image_name}.jpeg\" \n",
    "    response = requests.get(filepath)\n",
    "    print(count, \"/\", total, response.reason, image_name, end=\"\\r\")\n",
    "    if response.status_code != 200:\n",
    "        df.drop(index, inplace=True)\n",
    "        return None\n",
    "    image_data = response.content\n",
    "    nparr = np.frombuffer(image_data, np.uint8)\n",
    "    image = cv.imdecode(nparr, cv.IMREAD_COLOR)\n",
    "    image = cv.cvtColor(image, cv.COLOR_BGR2GRAY)\n",
    "    df.at[index, 'imagefile'] = image"
   ]
  },
  {
   "cell_type": "code",
   "execution_count": 8,
   "id": "7aec600d",
   "metadata": {
    "execution": {
     "iopub.execute_input": "2023-11-02T07:23:45.114941Z",
     "iopub.status.busy": "2023-11-02T07:23:45.114657Z",
     "iopub.status.idle": "2023-11-02T07:31:41.337635Z",
     "shell.execute_reply": "2023-11-02T07:31:41.336346Z"
    },
    "papermill": {
     "duration": 476.234854,
     "end_time": "2023-11-02T07:31:41.340145",
     "exception": false,
     "start_time": "2023-11-02T07:23:45.105291",
     "status": "completed"
    },
    "tags": []
   },
   "outputs": [
    {
     "name": "stdout",
     "output_type": "stream",
     "text": [
      "Done!\n"
     ]
    }
   ],
   "source": [
    "train_df['imagefile'] = None\n",
    "total = len(train_df)\n",
    "count = 1\n",
    "\n",
    "for start in range(0, total, 1000):\n",
    "    end = min(start + 1000, total)\n",
    "\n",
    "    with concurrent.futures.ThreadPoolExecutor() as executor:\n",
    "        futures = []\n",
    "        for index, row in train_df[start:end].iterrows():\n",
    "            image_name = row['image']\n",
    "            future = executor.submit(download_image, index, image_name, train_df, count, total)\n",
    "            futures.append(future)\n",
    "            count += 1\n",
    "        concurrent.futures.wait(futures)\n",
    "    \n",
    "print(\"Done!\")"
   ]
  },
  {
   "cell_type": "code",
   "execution_count": 9,
   "id": "e4bb562e",
   "metadata": {
    "execution": {
     "iopub.execute_input": "2023-11-02T07:31:41.536483Z",
     "iopub.status.busy": "2023-11-02T07:31:41.536112Z",
     "iopub.status.idle": "2023-11-02T07:33:39.217809Z",
     "shell.execute_reply": "2023-11-02T07:33:39.216589Z"
    },
    "papermill": {
     "duration": 117.781446,
     "end_time": "2023-11-02T07:33:39.219957",
     "exception": false,
     "start_time": "2023-11-02T07:31:41.438511",
     "status": "completed"
    },
    "tags": []
   },
   "outputs": [
    {
     "name": "stdout",
     "output_type": "stream",
     "text": [
      "Done!\n"
     ]
    }
   ],
   "source": [
    "valid_df['imagefile'] = None\n",
    "total = len(valid_df)\n",
    "count = 1\n",
    "\n",
    "for start in range(0, total, 1000):\n",
    "    end = min(start + 1000, total)\n",
    "\n",
    "    with concurrent.futures.ThreadPoolExecutor() as executor:\n",
    "        futures = []\n",
    "        for index, row in valid_df[start:end].iterrows():\n",
    "            image_name = row['image']\n",
    "            future = executor.submit(download_image, index, image_name, valid_df, count, total)\n",
    "            futures.append(future)\n",
    "            count += 1\n",
    "        concurrent.futures.wait(futures)\n",
    "\n",
    "print(\"Done!\")"
   ]
  },
  {
   "cell_type": "code",
   "execution_count": 10,
   "id": "2698b327",
   "metadata": {
    "execution": {
     "iopub.execute_input": "2023-11-02T07:33:39.430680Z",
     "iopub.status.busy": "2023-11-02T07:33:39.430350Z",
     "iopub.status.idle": "2023-11-02T07:33:39.435869Z",
     "shell.execute_reply": "2023-11-02T07:33:39.434877Z"
    },
    "papermill": {
     "duration": 0.112408,
     "end_time": "2023-11-02T07:33:39.437786",
     "exception": false,
     "start_time": "2023-11-02T07:33:39.325378",
     "status": "completed"
    },
    "tags": []
   },
   "outputs": [],
   "source": [
    "def crop_center(cv2_img, crop_width, crop_height):\n",
    "    img_height, img_width = cv2_img.shape[:2]\n",
    "    left = (img_width - crop_width) // 2\n",
    "    top = (img_height - crop_height) // 2\n",
    "    right = (img_width + crop_width) // 2\n",
    "    bottom = (img_height + crop_height) // 2\n",
    "    return cv2_img[top:bottom, left:right]"
   ]
  },
  {
   "cell_type": "code",
   "execution_count": 11,
   "id": "bdb657c8",
   "metadata": {
    "execution": {
     "iopub.execute_input": "2023-11-02T07:33:39.657545Z",
     "iopub.status.busy": "2023-11-02T07:33:39.657193Z",
     "iopub.status.idle": "2023-11-02T07:33:39.669986Z",
     "shell.execute_reply": "2023-11-02T07:33:39.668730Z"
    },
    "papermill": {
     "duration": 0.130685,
     "end_time": "2023-11-02T07:33:39.672255",
     "exception": false,
     "start_time": "2023-11-02T07:33:39.541570",
     "status": "completed"
    },
    "tags": []
   },
   "outputs": [],
   "source": [
    "class EyeDataset(Dataset):\n",
    "    def __init__(self, df, data_transform = None):\n",
    "        self.df = df\n",
    "        self.data_transform = data_transform\n",
    "        self.transform = T.Compose([\n",
    "            T.Resize([224, 224]),\n",
    "#             T.Resize([299, 299]),\n",
    "            T.ToTensor(),\n",
    "            T.Normalize(mean=(0.485, 0.456, 0.406),\n",
    "                       std=(0.229, 0.224, 0.225))\n",
    "        ])\n",
    "    \n",
    "    def __len__(self):\n",
    "        return len(self.df)\n",
    "    \n",
    "    def __getitem__(self, idx):\n",
    "        image = self.df.iloc[idx]['imagefile']\n",
    "        crop_size = min(image.shape[:2])\n",
    "        cropped_image = cv.cvtColor(crop_center(image, crop_size, crop_size), cv.COLOR_GRAY2RGB)\n",
    "#         _, thresholded = cv.threshold(image, 0, 255, cv.THRESH_OTSU)\n",
    "#         x, y, w, h = cv.boundingRect(thresholded)\n",
    "#         cropped_image = cv.cvtColor(image[y:y+h, x:x+w], cv.COLOR_GRAY2RGB)\n",
    "        cropped_image = Image.fromarray(cropped_image)\n",
    "        \n",
    "        target = self.df.iloc[idx]['level']\n",
    "        \n",
    "        if self.data_transform is not None:\n",
    "            cropped_image = self.data_transform(cropped_image)\n",
    "        \n",
    "        return cropped_image, target\n",
    "    \n",
    "    def transform_img(self, img):\n",
    "        return self.transform(img)\n",
    "    \n",
    "    def collate_fn(self, data):\n",
    "        imgs, targets = zip(*data)\n",
    "        targets = torch.tensor(targets)\n",
    "        targets = targets.view(-1, 1).float()\n",
    "        targets = targets.squeeze().long()\n",
    "        targets = targets.to(device)\n",
    "        imgs = torch.stack(\n",
    "            [self.transform_img(img) for img in imgs], 0\n",
    "        ).to(device)\n",
    "        return imgs, targets"
   ]
  },
  {
   "cell_type": "code",
   "execution_count": 12,
   "id": "4eca9d2b",
   "metadata": {
    "execution": {
     "iopub.execute_input": "2023-11-02T07:33:39.905344Z",
     "iopub.status.busy": "2023-11-02T07:33:39.904977Z",
     "iopub.status.idle": "2023-11-02T07:33:39.911537Z",
     "shell.execute_reply": "2023-11-02T07:33:39.910628Z"
    },
    "papermill": {
     "duration": 0.126456,
     "end_time": "2023-11-02T07:33:39.913602",
     "exception": false,
     "start_time": "2023-11-02T07:33:39.787146",
     "status": "completed"
    },
    "tags": []
   },
   "outputs": [],
   "source": [
    "data_transforms = T.Compose([\n",
    "    T.RandomHorizontalFlip(),\n",
    "    T.RandomRotation(15),\n",
    "    T.ColorJitter(brightness=0.2, contrast=0.2, saturation=0.2, hue=0.1),\n",
    "    T.RandomResizedCrop(224, scale=(0.8, 1.0))\n",
    "])"
   ]
  },
  {
   "cell_type": "code",
   "execution_count": 13,
   "id": "3685d36a",
   "metadata": {
    "execution": {
     "iopub.execute_input": "2023-11-02T07:33:40.136809Z",
     "iopub.status.busy": "2023-11-02T07:33:40.136416Z",
     "iopub.status.idle": "2023-11-02T07:33:40.142689Z",
     "shell.execute_reply": "2023-11-02T07:33:40.141733Z"
    },
    "papermill": {
     "duration": 0.1156,
     "end_time": "2023-11-02T07:33:40.144884",
     "exception": false,
     "start_time": "2023-11-02T07:33:40.029284",
     "status": "completed"
    },
    "tags": []
   },
   "outputs": [],
   "source": [
    "train_ds = EyeDataset(train_df, data_transform=data_transforms)\n",
    "train_dl = DataLoader(train_ds, batch_size=64, shuffle=True,\n",
    "                      collate_fn=train_ds.collate_fn)\n",
    "\n",
    "valid_ds = EyeDataset(valid_df)\n",
    "valid_dl = DataLoader(valid_ds, batch_size=64,\n",
    "                      collate_fn=valid_ds.collate_fn)"
   ]
  },
  {
   "cell_type": "code",
   "execution_count": 14,
   "id": "b16389d6",
   "metadata": {
    "execution": {
     "iopub.execute_input": "2023-11-02T07:33:40.357715Z",
     "iopub.status.busy": "2023-11-02T07:33:40.356861Z",
     "iopub.status.idle": "2023-11-02T07:33:40.364893Z",
     "shell.execute_reply": "2023-11-02T07:33:40.363782Z"
    },
    "papermill": {
     "duration": 0.11705,
     "end_time": "2023-11-02T07:33:40.366835",
     "exception": false,
     "start_time": "2023-11-02T07:33:40.249785",
     "status": "completed"
    },
    "tags": []
   },
   "outputs": [],
   "source": [
    "# class EyeClassifier(nn.Module):\n",
    "#     def __init__(self, pretrained=True):\n",
    "#         super().__init__()\n",
    "        \n",
    "# #         self.model = models.resnet50(pretrained=pretrained, progress=pretrained)\n",
    "#         self.model = models.vgg19(pretrained=pretrained, progress=pretrained)\n",
    "# #         self.model = models.inception_v3(pretrained=pretrained, progress=pretrained)\n",
    "    \n",
    "#         for param in self.model.parameters():\n",
    "#             param.requires_grad = True\n",
    "        \n",
    "# #         num_features = self.model.fc.in_features\n",
    "#         num_features = self.model.classifier[0].in_features\n",
    "# #         num_features = self.model.fc.in_features\n",
    "\n",
    "#         self.model.fc = nn.Sequential()\n",
    "    \n",
    "# #         self.model.fc = nn.Sequential(\n",
    "# #             nn.Flatten(),\n",
    "# #             nn.BatchNorm1d(num_features),\n",
    "# #             nn.Dropout(0.5),\n",
    "# #             nn.Linear(num_features, 64),\n",
    "# #             nn.BatchNorm1d(64),\n",
    "# #             nn.ReLU(),\n",
    "# #             nn.Dropout(0.5),\n",
    "# #             nn.Linear(64, 128),\n",
    "# #             nn.BatchNorm1d(128),\n",
    "# #             nn.ReLU(),\n",
    "# #             nn.Dropout(0.5),\n",
    "# #             nn.Linear(128, 256),\n",
    "# #             nn.BatchNorm1d(256),\n",
    "# #             nn.ReLU(),\n",
    "# #             nn.Dropout(0.5),\n",
    "# #             nn.Linear(256, 64),\n",
    "# #             nn.BatchNorm1d(64),\n",
    "# #             nn.ReLU(),\n",
    "# #             nn.Dropout(0.5),\n",
    "# #             nn.Linear(64, 32),\n",
    "# #             nn.BatchNorm1d(32),\n",
    "# #             nn.ReLU(),\n",
    "# #             nn.Dropout(0.5),\n",
    "# #             nn.Linear(32, 5),\n",
    "# #             nn.LogSoftmax(dim=1)\n",
    "# #         )\n",
    "\n",
    "# #         self.model.fc = nn.Sequential(\n",
    "# #             nn.Flatten(),\n",
    "# #             nn.BatchNorm1d(num_features),\n",
    "# #             nn.Dropout(0.5),\n",
    "# #             nn.Linear(num_features, 1),\n",
    "# #             nn.Sigmoid()\n",
    "# #         )\n",
    "\n",
    "# #         self.model.fc = nn.Sequential(\n",
    "# #             nn.Linear(num_features, 256),\n",
    "# #             nn.ReLU(),\n",
    "# #             nn.Dropout(0.5), \n",
    "# #             nn.Linear(256, 1),\n",
    "# #             nn.Sigmoid()\n",
    "# #         )\n",
    "        \n",
    "\n",
    "#     def forward(self, x):\n",
    "#         x = self.model(x)\n",
    "#         return x"
   ]
  },
  {
   "cell_type": "code",
   "execution_count": 15,
   "id": "ff749f47",
   "metadata": {
    "execution": {
     "iopub.execute_input": "2023-11-02T07:33:40.578757Z",
     "iopub.status.busy": "2023-11-02T07:33:40.577924Z",
     "iopub.status.idle": "2023-11-02T07:33:40.590814Z",
     "shell.execute_reply": "2023-11-02T07:33:40.589908Z"
    },
    "papermill": {
     "duration": 0.120346,
     "end_time": "2023-11-02T07:33:40.593065",
     "exception": false,
     "start_time": "2023-11-02T07:33:40.472719",
     "status": "completed"
    },
    "tags": []
   },
   "outputs": [],
   "source": [
    "class EyeClassifier(nn.Module):\n",
    "    def __init__(self, pretrained=True):\n",
    "        super().__init__()\n",
    "        \n",
    "        self.model = models.vgg19(pretrained=pretrained, progress=pretrained)\n",
    "    \n",
    "        for param in self.model.parameters():\n",
    "            param.requires_grad = True\n",
    "        \n",
    "        num_features = self.model.classifier[0].in_features\n",
    "    \n",
    "        self.model.classifier = nn.Sequential(\n",
    "            nn.Flatten(),\n",
    "            nn.BatchNorm1d(num_features),\n",
    "            nn.Dropout(0.2),\n",
    "            nn.Linear(num_features, 64),\n",
    "            nn.BatchNorm1d(64),\n",
    "            nn.ReLU(),\n",
    "            nn.Dropout(0.2),\n",
    "            nn.Linear(64, 128),\n",
    "            nn.BatchNorm1d(128),\n",
    "            nn.ReLU(),\n",
    "            nn.Dropout(0.2),\n",
    "            nn.Linear(128, 256),\n",
    "            nn.BatchNorm1d(256),\n",
    "            nn.ReLU(),\n",
    "            nn.Dropout(0.2),\n",
    "            nn.Linear(256, 64),\n",
    "            nn.BatchNorm1d(64),\n",
    "            nn.ReLU(),\n",
    "            nn.Dropout(0.2),\n",
    "            nn.Linear(64, 32),\n",
    "            nn.BatchNorm1d(32),\n",
    "            nn.ReLU(),\n",
    "            nn.Dropout(0.2),\n",
    "            nn.Linear(32, 5),\n",
    "            nn.LogSoftmax(dim=1)\n",
    "        )\n",
    "        \n",
    "\n",
    "    def forward(self, x):\n",
    "        x = self.model(x)\n",
    "        return x"
   ]
  },
  {
   "cell_type": "code",
   "execution_count": 16,
   "id": "17394471",
   "metadata": {
    "execution": {
     "iopub.execute_input": "2023-11-02T07:33:40.804498Z",
     "iopub.status.busy": "2023-11-02T07:33:40.804060Z",
     "iopub.status.idle": "2023-11-02T07:33:51.726579Z",
     "shell.execute_reply": "2023-11-02T07:33:51.725599Z"
    },
    "papermill": {
     "duration": 11.029273,
     "end_time": "2023-11-02T07:33:51.729055",
     "exception": false,
     "start_time": "2023-11-02T07:33:40.699782",
     "status": "completed"
    },
    "tags": []
   },
   "outputs": [
    {
     "name": "stderr",
     "output_type": "stream",
     "text": [
      "/opt/conda/lib/python3.10/site-packages/torchvision/models/_utils.py:208: UserWarning: The parameter 'pretrained' is deprecated since 0.13 and may be removed in the future, please use 'weights' instead.\n",
      "  warnings.warn(\n",
      "/opt/conda/lib/python3.10/site-packages/torchvision/models/_utils.py:223: UserWarning: Arguments other than a weight enum or `None` for 'weights' are deprecated since 0.13 and may be removed in the future. The current behavior is equivalent to passing `weights=VGG19_Weights.IMAGENET1K_V1`. You can also use `weights=VGG19_Weights.DEFAULT` to get the most up-to-date weights.\n",
      "  warnings.warn(msg)\n",
      "Downloading: \"https://download.pytorch.org/models/vgg19-dcbb9e9d.pth\" to /root/.cache/torch/hub/checkpoints/vgg19-dcbb9e9d.pth\n",
      "100%|██████████| 548M/548M [00:01<00:00, 298MB/s]\n"
     ]
    },
    {
     "name": "stdout",
     "output_type": "stream",
     "text": [
      "==========================================================================================\n",
      "Layer (type:depth-idx)                   Output Shape              Param #\n",
      "==========================================================================================\n",
      "├─VGG: 1-1                               [-1, 5]                   --\n",
      "|    └─Sequential: 2-1                   [-1, 512, 7, 7]           --\n",
      "|    |    └─Conv2d: 3-1                  [-1, 64, 224, 224]        1,792\n",
      "|    |    └─ReLU: 3-2                    [-1, 64, 224, 224]        --\n",
      "|    |    └─Conv2d: 3-3                  [-1, 64, 224, 224]        36,928\n",
      "|    |    └─ReLU: 3-4                    [-1, 64, 224, 224]        --\n",
      "|    |    └─MaxPool2d: 3-5               [-1, 64, 112, 112]        --\n",
      "|    |    └─Conv2d: 3-6                  [-1, 128, 112, 112]       73,856\n",
      "|    |    └─ReLU: 3-7                    [-1, 128, 112, 112]       --\n",
      "|    |    └─Conv2d: 3-8                  [-1, 128, 112, 112]       147,584\n",
      "|    |    └─ReLU: 3-9                    [-1, 128, 112, 112]       --\n",
      "|    |    └─MaxPool2d: 3-10              [-1, 128, 56, 56]         --\n",
      "|    |    └─Conv2d: 3-11                 [-1, 256, 56, 56]         295,168\n",
      "|    |    └─ReLU: 3-12                   [-1, 256, 56, 56]         --\n",
      "|    |    └─Conv2d: 3-13                 [-1, 256, 56, 56]         590,080\n",
      "|    |    └─ReLU: 3-14                   [-1, 256, 56, 56]         --\n",
      "|    |    └─Conv2d: 3-15                 [-1, 256, 56, 56]         590,080\n",
      "|    |    └─ReLU: 3-16                   [-1, 256, 56, 56]         --\n",
      "|    |    └─Conv2d: 3-17                 [-1, 256, 56, 56]         590,080\n",
      "|    |    └─ReLU: 3-18                   [-1, 256, 56, 56]         --\n",
      "|    |    └─MaxPool2d: 3-19              [-1, 256, 28, 28]         --\n",
      "|    |    └─Conv2d: 3-20                 [-1, 512, 28, 28]         1,180,160\n",
      "|    |    └─ReLU: 3-21                   [-1, 512, 28, 28]         --\n",
      "|    |    └─Conv2d: 3-22                 [-1, 512, 28, 28]         2,359,808\n",
      "|    |    └─ReLU: 3-23                   [-1, 512, 28, 28]         --\n",
      "|    |    └─Conv2d: 3-24                 [-1, 512, 28, 28]         2,359,808\n",
      "|    |    └─ReLU: 3-25                   [-1, 512, 28, 28]         --\n",
      "|    |    └─Conv2d: 3-26                 [-1, 512, 28, 28]         2,359,808\n",
      "|    |    └─ReLU: 3-27                   [-1, 512, 28, 28]         --\n",
      "|    |    └─MaxPool2d: 3-28              [-1, 512, 14, 14]         --\n",
      "|    |    └─Conv2d: 3-29                 [-1, 512, 14, 14]         2,359,808\n",
      "|    |    └─ReLU: 3-30                   [-1, 512, 14, 14]         --\n",
      "|    |    └─Conv2d: 3-31                 [-1, 512, 14, 14]         2,359,808\n",
      "|    |    └─ReLU: 3-32                   [-1, 512, 14, 14]         --\n",
      "|    |    └─Conv2d: 3-33                 [-1, 512, 14, 14]         2,359,808\n",
      "|    |    └─ReLU: 3-34                   [-1, 512, 14, 14]         --\n",
      "|    |    └─Conv2d: 3-35                 [-1, 512, 14, 14]         2,359,808\n",
      "|    |    └─ReLU: 3-36                   [-1, 512, 14, 14]         --\n",
      "|    |    └─MaxPool2d: 3-37              [-1, 512, 7, 7]           --\n",
      "|    └─AdaptiveAvgPool2d: 2-2            [-1, 512, 7, 7]           --\n",
      "|    └─Sequential: 2-3                   [-1, 5]                   --\n",
      "|    |    └─Flatten: 3-38                [-1, 25088]               --\n",
      "|    |    └─BatchNorm1d: 3-39            [-1, 25088]               50,176\n",
      "|    |    └─Dropout: 3-40                [-1, 25088]               --\n",
      "|    |    └─Linear: 3-41                 [-1, 64]                  1,605,696\n",
      "|    |    └─BatchNorm1d: 3-42            [-1, 64]                  128\n",
      "|    |    └─ReLU: 3-43                   [-1, 64]                  --\n",
      "|    |    └─Dropout: 3-44                [-1, 64]                  --\n",
      "|    |    └─Linear: 3-45                 [-1, 128]                 8,320\n",
      "|    |    └─BatchNorm1d: 3-46            [-1, 128]                 256\n",
      "|    |    └─ReLU: 3-47                   [-1, 128]                 --\n",
      "|    |    └─Dropout: 3-48                [-1, 128]                 --\n",
      "|    |    └─Linear: 3-49                 [-1, 256]                 33,024\n",
      "|    |    └─BatchNorm1d: 3-50            [-1, 256]                 512\n",
      "|    |    └─ReLU: 3-51                   [-1, 256]                 --\n",
      "|    |    └─Dropout: 3-52                [-1, 256]                 --\n",
      "|    |    └─Linear: 3-53                 [-1, 64]                  16,448\n",
      "|    |    └─BatchNorm1d: 3-54            [-1, 64]                  128\n",
      "|    |    └─ReLU: 3-55                   [-1, 64]                  --\n",
      "|    |    └─Dropout: 3-56                [-1, 64]                  --\n",
      "|    |    └─Linear: 3-57                 [-1, 32]                  2,080\n",
      "|    |    └─BatchNorm1d: 3-58            [-1, 32]                  64\n",
      "|    |    └─ReLU: 3-59                   [-1, 32]                  --\n",
      "|    |    └─Dropout: 3-60                [-1, 32]                  --\n",
      "|    |    └─Linear: 3-61                 [-1, 5]                   165\n",
      "|    |    └─LogSoftmax: 3-62             [-1, 5]                   --\n",
      "==========================================================================================\n",
      "Total params: 21,741,381\n",
      "Trainable params: 21,741,381\n",
      "Non-trainable params: 0\n",
      "Total mult-adds (G): 19.55\n",
      "==========================================================================================\n",
      "Input size (MB): 0.57\n",
      "Forward/backward pass size (MB): 113.51\n",
      "Params size (MB): 82.94\n",
      "Estimated Total Size (MB): 197.02\n",
      "==========================================================================================\n"
     ]
    }
   ],
   "source": [
    "classifier = EyeClassifier(pretrained=True)\n",
    "_ = summary(classifier, torch.ones(1,3,224,224))"
   ]
  },
  {
   "cell_type": "code",
   "execution_count": 17,
   "id": "afeb6bdd",
   "metadata": {
    "execution": {
     "iopub.execute_input": "2023-11-02T07:33:51.991785Z",
     "iopub.status.busy": "2023-11-02T07:33:51.991207Z",
     "iopub.status.idle": "2023-11-02T07:33:51.998612Z",
     "shell.execute_reply": "2023-11-02T07:33:51.997709Z"
    },
    "papermill": {
     "duration": 0.117682,
     "end_time": "2023-11-02T07:33:52.000594",
     "exception": false,
     "start_time": "2023-11-02T07:33:51.882912",
     "status": "completed"
    },
    "tags": []
   },
   "outputs": [],
   "source": [
    "def train(data, classifier, optimizer, loss_fn):\n",
    "    classifier.train()\n",
    "    imgs, targets = data\n",
    "    outputs = classifier(imgs.to(device))\n",
    "    loss = loss_fn(outputs.to(device), targets.to(device))\n",
    "    optimizer.zero_grad()\n",
    "    loss.backward()\n",
    "    optimizer.step()\n",
    "    \n",
    "    outputs = torch.tensor(outputs.cpu().detach().tolist())\n",
    "    targets = targets.cpu().detach().tolist()\n",
    "    probs = torch.softmax(outputs, dim=1)\n",
    "    preds = torch.argmax(probs, dim=1).cpu().detach().tolist()\n",
    "    fake_recall_score = recall_score(targets, preds,\n",
    "                               zero_division=0,\n",
    "                               average='macro')\n",
    "    \n",
    "    return loss.cpu().detach().item(), fake_recall_score"
   ]
  },
  {
   "cell_type": "code",
   "execution_count": 18,
   "id": "742599f6",
   "metadata": {
    "execution": {
     "iopub.execute_input": "2023-11-02T07:33:52.213354Z",
     "iopub.status.busy": "2023-11-02T07:33:52.213042Z",
     "iopub.status.idle": "2023-11-02T07:33:52.220072Z",
     "shell.execute_reply": "2023-11-02T07:33:52.219215Z"
    },
    "papermill": {
     "duration": 0.116,
     "end_time": "2023-11-02T07:33:52.221942",
     "exception": false,
     "start_time": "2023-11-02T07:33:52.105942",
     "status": "completed"
    },
    "tags": []
   },
   "outputs": [],
   "source": [
    "@torch.no_grad()\n",
    "def validate(data, classifier, loss_fn):\n",
    "    classifier.eval()\n",
    "    imgs, targets = data\n",
    "    outputs = classifier(imgs.to(device))\n",
    "    loss = loss_fn(outputs.to(device), targets.to(device))\n",
    "    \n",
    "    outputs = torch.tensor(outputs.cpu().detach().tolist())\n",
    "    targets = targets.cpu().detach().tolist()\n",
    "    probs = torch.softmax(outputs, dim=1)\n",
    "    preds = torch.argmax(probs, dim=1).cpu().detach().tolist()\n",
    "    fake_recall_score = recall_score(targets, preds,\n",
    "                               zero_division=0,\n",
    "                               average='macro')\n",
    "    \n",
    "    return loss.cpu().detach().item(), fake_recall_score"
   ]
  },
  {
   "cell_type": "code",
   "execution_count": 19,
   "id": "a9a830fb",
   "metadata": {
    "execution": {
     "iopub.execute_input": "2023-11-02T07:33:52.436318Z",
     "iopub.status.busy": "2023-11-02T07:33:52.435443Z",
     "iopub.status.idle": "2023-11-02T07:33:54.492069Z",
     "shell.execute_reply": "2023-11-02T07:33:54.491237Z"
    },
    "papermill": {
     "duration": 2.16572,
     "end_time": "2023-11-02T07:33:54.494352",
     "exception": false,
     "start_time": "2023-11-02T07:33:52.328632",
     "status": "completed"
    },
    "tags": []
   },
   "outputs": [],
   "source": [
    "classifier = EyeClassifier(pretrained=True).to(device)\n",
    "loss_fn = nn.CrossEntropyLoss().to(device)\n",
    "# loss_fn = nn.BCELoss().to(device)\n",
    "optimizer = optim.Adam(classifier.parameters(), lr=1e-3, weight_decay=1e-3)\n",
    "scheduler = optim.lr_scheduler.StepLR(optimizer, step_size=5,\n",
    "                                      gamma=0.25)\n",
    "best_recall_score = 0\n",
    "n_epochs = 10\n",
    "xticks = list(i+1 for i in range(n_epochs))"
   ]
  },
  {
   "cell_type": "code",
   "execution_count": 20,
   "id": "475ed0fd",
   "metadata": {
    "execution": {
     "iopub.execute_input": "2023-11-02T07:33:54.727767Z",
     "iopub.status.busy": "2023-11-02T07:33:54.727414Z",
     "iopub.status.idle": "2023-11-02T09:33:00.173500Z",
     "shell.execute_reply": "2023-11-02T09:33:00.172513Z"
    },
    "papermill": {
     "duration": 7145.565148,
     "end_time": "2023-11-02T09:33:00.176982",
     "exception": false,
     "start_time": "2023-11-02T07:33:54.611834",
     "status": "completed"
    },
    "tags": []
   },
   "outputs": [
    {
     "data": {
      "application/vnd.jupyter.widget-view+json": {
       "model_id": "af8ae0f379e74bd6a445d88085264895",
       "version_major": 2,
       "version_minor": 0
      },
      "text/plain": [
       "Training:   0%|          | 0/10 [00:00<?, ?it/s]"
      ]
     },
     "metadata": {},
     "output_type": "display_data"
    },
    {
     "name": "stdout",
     "output_type": "stream",
     "text": [
      "epoch: 1 \ttrain loss: 1.652 \ttrain recall score: 0.219 \tvalid loss: 676.144 \tvalid recall score: 0.196\n",
      "epoch: 2 \ttrain loss: 1.619 \ttrain recall score: 0.233 \tvalid loss: 1687.776 \tvalid recall score: 0.220\n",
      "epoch: 3 \ttrain loss: 1.616 \ttrain recall score: 0.236 \tvalid loss: 110575.912 \tvalid recall score: 0.208\n",
      "epoch: 4 \ttrain loss: 1.610 \ttrain recall score: 0.254 \tvalid loss: 272883.754 \tvalid recall score: 0.200\n",
      "epoch: 5 \ttrain loss: 1.594 \ttrain recall score: 0.260 \tvalid loss: 22975.335 \tvalid recall score: 0.198\n",
      "epoch: 6 \ttrain loss: 1.584 \ttrain recall score: 0.254 \tvalid loss: 1.567 \tvalid recall score: 0.273\n",
      "epoch: 7 \ttrain loss: 1.569 \ttrain recall score: 0.267 \tvalid loss: 1.562 \tvalid recall score: 0.286\n",
      "epoch: 8 \ttrain loss: 1.581 \ttrain recall score: 0.256 \tvalid loss: 1.556 \tvalid recall score: 0.300\n",
      "epoch: 9 \ttrain loss: 1.574 \ttrain recall score: 0.265 \tvalid loss: 1.562 \tvalid recall score: 0.263\n",
      "epoch: 10 \ttrain loss: 1.555 \ttrain recall score: 0.289 \tvalid loss: 1.584 \tvalid recall score: 0.287\n"
     ]
    }
   ],
   "source": [
    "mem = {\n",
    "    'train_loss': [],\n",
    "    'train_recall_score': [],\n",
    "    'valid_loss': [],\n",
    "    'valid_recall_score': []\n",
    "}\n",
    "\n",
    "for epoch in tqdm(range(n_epochs), desc='Training'):\n",
    "    n_batch = len(train_dl)\n",
    "    train_losses, train_recall_scores = [], []\n",
    "    for i, data in enumerate(train_dl):\n",
    "        train_loss, train_recall_score = train(data, classifier,\n",
    "                                         optimizer, loss_fn)\n",
    "        train_losses.append(train_loss)\n",
    "        train_recall_scores.append(train_recall_score)\n",
    "        pos = epoch + ((i+1)/n_batch)\n",
    "        print(\n",
    "            'epoch:', \"%.3f\" % pos,\n",
    "            '\\ttrain loss:', \"%.3f\" % train_loss,\n",
    "            '\\ttrain recall score:', \"%.3f\" % train_recall_score, \n",
    "            end='\\r'\n",
    "        )\n",
    "        \n",
    "    mem['train_loss'].append(np.mean(train_losses))\n",
    "    mem['train_recall_score'].append(np.mean(train_recall_scores))\n",
    "    \n",
    "    n_batch = len(valid_dl)\n",
    "    valid_losses, valid_recall_scores = [], []\n",
    "    for i, data in enumerate(valid_dl):\n",
    "        valid_loss, valid_recall_score = validate(data, classifier, loss_fn)\n",
    "        valid_losses.append(valid_loss)\n",
    "        valid_recall_scores.append(valid_recall_score)\n",
    "        pos = epoch + ((i+1)/n_batch)\n",
    "        print(\n",
    "            'epoch:', \"%.3f\" % pos,\n",
    "            '\\tvalid loss:', \"%.3f\" % valid_loss,\n",
    "            '\\tvalid recall score:', \"%.3f\" % valid_recall_score, \n",
    "            end='\\r'\n",
    "        )\n",
    "    \n",
    "    cur_recall_score = np.mean(valid_recall_scores)\n",
    "    mem['valid_loss'].append(np.mean(valid_losses))\n",
    "    mem['valid_recall_score'].append(cur_recall_score)\n",
    "    \n",
    "    print(\n",
    "        'epoch:', epoch+1,\n",
    "        '\\ttrain loss:', \"%.3f\" % mem['train_loss'][-1],\n",
    "        '\\ttrain recall score:', \"%.3f\" % mem['train_recall_score'][-1],\n",
    "        '\\tvalid loss:', \"%.3f\" % mem['valid_loss'][-1],\n",
    "        '\\tvalid recall score:', \"%.3f\" % mem['valid_recall_score'][-1],\n",
    "    )\n",
    "    \n",
    "    if best_recall_score < cur_recall_score:\n",
    "        best_recall_score = cur_recall_score\n",
    "        torch.save(classifier.state_dict(), './saved_model/diabetic_state_dict.pth')\n",
    "        torch.save(classifier, './saved_model/diabetic_model.pth')\n",
    "        \n",
    "    scheduler.step()"
   ]
  },
  {
   "cell_type": "code",
   "execution_count": 21,
   "id": "a2cad9bc",
   "metadata": {
    "execution": {
     "iopub.execute_input": "2023-11-02T09:33:00.458921Z",
     "iopub.status.busy": "2023-11-02T09:33:00.458117Z",
     "iopub.status.idle": "2023-11-02T09:33:00.887406Z",
     "shell.execute_reply": "2023-11-02T09:33:00.886478Z"
    },
    "papermill": {
     "duration": 0.569727,
     "end_time": "2023-11-02T09:33:00.889569",
     "exception": false,
     "start_time": "2023-11-02T09:33:00.319842",
     "status": "completed"
    },
    "tags": []
   },
   "outputs": [
    {
     "data": {
      "image/png": "[encoded data removed]",
      "text/plain": [
       "<Figure size 640x480 with 1 Axes>"
      ]
     },
     "metadata": {},
     "output_type": "display_data"
    }
   ],
   "source": [
    "plt.plot(xticks, mem['train_loss'])\n",
    "plt.plot(xticks, mem['valid_loss'])\n",
    "plt.legend(['train', 'valid'])\n",
    "plt.xlabel('epoch')\n",
    "plt.title('loss')\n",
    "plt.show()"
   ]
  },
  {
   "cell_type": "code",
   "execution_count": 22,
   "id": "db3c9357",
   "metadata": {
    "execution": {
     "iopub.execute_input": "2023-11-02T09:33:01.162118Z",
     "iopub.status.busy": "2023-11-02T09:33:01.161780Z",
     "iopub.status.idle": "2023-11-02T09:33:01.506491Z",
     "shell.execute_reply": "2023-11-02T09:33:01.505607Z"
    },
    "papermill": {
     "duration": 0.48276,
     "end_time": "2023-11-02T09:33:01.508470",
     "exception": false,
     "start_time": "2023-11-02T09:33:01.025710",
     "status": "completed"
    },
    "tags": []
   },
   "outputs": [
    {
     "data": {
      "image/png": "[encoded data removed]",
      "text/plain": [
       "<Figure size 640x480 with 1 Axes>"
      ]
     },
     "metadata": {},
     "output_type": "display_data"
    }
   ],
   "source": [
    "plt.plot(xticks, mem['train_recall_score'])\n",
    "plt.plot(xticks, mem['valid_recall_score'])\n",
    "plt.legend(['train', 'valid'])\n",
    "plt.xlabel('epoch')\n",
    "plt.title('recall score')\n",
    "plt.show()"
   ]
  },
  {
   "cell_type": "code",
   "execution_count": null,
   "id": "691da051",
   "metadata": {
    "papermill": {
     "duration": 0.135912,
     "end_time": "2023-11-02T09:33:01.781414",
     "exception": false,
     "start_time": "2023-11-02T09:33:01.645502",
     "status": "completed"
    },
    "tags": []
   },
   "outputs": [],
   "source": []
  }
 ],
 "metadata": {
  "kernelspec": {
   "display_name": "Python 3",
   "language": "python",
   "name": "python3"
  },
  "language_info": {
   "codemirror_mode": {
    "name": "ipython",
    "version": 3
   },
   "file_extension": ".py",
   "mimetype": "text/x-python",
   "name": "python",
   "nbconvert_exporter": "python",
   "pygments_lexer": "ipython3",
   "version": "3.10.12"
  },
  "papermill": {
   "default_parameters": {},
   "duration": 7789.432972,
   "end_time": "2023-11-02T09:33:05.232943",
   "environment_variables": {},
   "exception": null,
   "input_path": "__notebook__.ipynb",
   "output_path": "__notebook__.ipynb",
   "parameters": {},
   "start_time": "2023-11-02T07:23:15.799971",
   "version": "2.4.0"
  },
  "widgets": {
   "application/vnd.jupyter.widget-state+json": {
    "state": {
     "0e546a6587ea44da8b18fb3d5c1d3ae7": {
      "model_module": "@jupyter-widgets/controls",
      "model_module_version": "1.5.0",
      "model_name": "HTMLModel",
      "state": {
       "_dom_classes": [],
       "_model_module": "@jupyter-widgets/controls",
       "_model_module_version": "1.5.0",
       "_model_name": "HTMLModel",
       "_view_count": null,
       "_view_module": "@jupyter-widgets/controls",
       "_view_module_version": "1.5.0",
       "_view_name": "HTMLView",
       "description": "",
       "description_tooltip": null,
       "layout": "IPY_MODEL_f61d513b25864b4682ab9673888d6c63",
       "placeholder": "​",
       "style": "IPY_MODEL_ff412f3373ea42f6be86870fec91c3fe",
       "value": "Training: 100%"
      }
     },
     "26e21af895674768a9c25ebc016af008": {
      "model_module": "@jupyter-widgets/base",
      "model_module_version": "1.2.0",
      "model_name": "LayoutModel",
      "state": {
       "_model_module": "@jupyter-widgets/base",
       "_model_module_version": "1.2.0",
       "_model_name": "LayoutModel",
       "_view_count": null,
       "_view_module": "@jupyter-widgets/base",
       "_view_module_version": "1.2.0",
       "_view_name": "LayoutView",
       "align_content": null,
       "align_items": null,
       "align_self": null,
       "border": null,
       "bottom": null,
       "display": null,
       "flex": null,
       "flex_flow": null,
       "grid_area": null,
       "grid_auto_columns": null,
       "grid_auto_flow": null,
       "grid_auto_rows": null,
       "grid_column": null,
       "grid_gap": null,
       "grid_row": null,
       "grid_template_areas": null,
       "grid_template_columns": null,
       "grid_template_rows": null,
       "height": null,
       "justify_content": null,
       "justify_items": null,
       "left": null,
       "margin": null,
       "max_height": null,
       "max_width": null,
       "min_height": null,
       "min_width": null,
       "object_fit": null,
       "object_position": null,
       "order": null,
       "overflow": null,
       "overflow_x": null,
       "overflow_y": null,
       "padding": null,
       "right": null,
       "top": null,
       "visibility": null,
       "width": null
      }
     },
     "375528115df64a3bad2a84027d7de608": {
      "model_module": "@jupyter-widgets/controls",
      "model_module_version": "1.5.0",
      "model_name": "HTMLModel",
      "state": {
       "_dom_classes": [],
       "_model_module": "@jupyter-widgets/controls",
       "_model_module_version": "1.5.0",
       "_model_name": "HTMLModel",
       "_view_count": null,
       "_view_module": "@jupyter-widgets/controls",
       "_view_module_version": "1.5.0",
       "_view_name": "HTMLView",
       "description": "",
       "description_tooltip": null,
       "layout": "IPY_MODEL_7bc1564bfeb24ef2bca82b7eb5d198dd",
       "placeholder": "​",
       "style": "IPY_MODEL_6a5350df0e9742b8bbe060b31148d66c",
       "value": " 10/10 [1:59:05&lt;00:00, 714.11s/it]"
      }
     },
     "6a5350df0e9742b8bbe060b31148d66c": {
      "model_module": "@jupyter-widgets/controls",
      "model_module_version": "1.5.0",
      "model_name": "DescriptionStyleModel",
      "state": {
       "_model_module": "@jupyter-widgets/controls",
       "_model_module_version": "1.5.0",
       "_model_name": "DescriptionStyleModel",
       "_view_count": null,
       "_view_module": "@jupyter-widgets/base",
       "_view_module_version": "1.2.0",
       "_view_name": "StyleView",
       "description_width": ""
      }
     },
     "7bc1564bfeb24ef2bca82b7eb5d198dd": {
      "model_module": "@jupyter-widgets/base",
      "model_module_version": "1.2.0",
      "model_name": "LayoutModel",
      "state": {
       "_model_module": "@jupyter-widgets/base",
       "_model_module_version": "1.2.0",
       "_model_name": "LayoutModel",
       "_view_count": null,
       "_view_module": "@jupyter-widgets/base",
       "_view_module_version": "1.2.0",
       "_view_name": "LayoutView",
       "align_content": null,
       "align_items": null,
       "align_self": null,
       "border": null,
       "bottom": null,
       "display": null,
       "flex": null,
       "flex_flow": null,
       "grid_area": null,
       "grid_auto_columns": null,
       "grid_auto_flow": null,
       "grid_auto_rows": null,
       "grid_column": null,
       "grid_gap": null,
       "grid_row": null,
       "grid_template_areas": null,
       "grid_template_columns": null,
       "grid_template_rows": null,
       "height": null,
       "justify_content": null,
       "justify_items": null,
       "left": null,
       "margin": null,
       "max_height": null,
       "max_width": null,
       "min_height": null,
       "min_width": null,
       "object_fit": null,
       "object_position": null,
       "order": null,
       "overflow": null,
       "overflow_x": null,
       "overflow_y": null,
       "padding": null,
       "right": null,
       "top": null,
       "visibility": null,
       "width": null
      }
     },
     "968c1b9a5ca6427cb038966a8c890b24": {
      "model_module": "@jupyter-widgets/base",
      "model_module_version": "1.2.0",
      "model_name": "LayoutModel",
      "state": {
       "_model_module": "@jupyter-widgets/base",
       "_model_module_version": "1.2.0",
       "_model_name": "LayoutModel",
       "_view_count": null,
       "_view_module": "@jupyter-widgets/base",
       "_view_module_version": "1.2.0",
       "_view_name": "LayoutView",
       "align_content": null,
       "align_items": null,
       "align_self": null,
       "border": null,
       "bottom": null,
       "display": null,
       "flex": null,
       "flex_flow": null,
       "grid_area": null,
       "grid_auto_columns": null,
       "grid_auto_flow": null,
       "grid_auto_rows": null,
       "grid_column": null,
       "grid_gap": null,
       "grid_row": null,
       "grid_template_areas": null,
       "grid_template_columns": null,
       "grid_template_rows": null,
       "height": null,
       "justify_content": null,
       "justify_items": null,
       "left": null,
       "margin": null,
       "max_height": null,
       "max_width": null,
       "min_height": null,
       "min_width": null,
       "object_fit": null,
       "object_position": null,
       "order": null,
       "overflow": null,
       "overflow_x": null,
       "overflow_y": null,
       "padding": null,
       "right": null,
       "top": null,
       "visibility": null,
       "width": null
      }
     },
     "adc294835b934a8eaa3dbcfa3c17add6": {
      "model_module": "@jupyter-widgets/controls",
      "model_module_version": "1.5.0",
      "model_name": "FloatProgressModel",
      "state": {
       "_dom_classes": [],
       "_model_module": "@jupyter-widgets/controls",
       "_model_module_version": "1.5.0",
       "_model_name": "FloatProgressModel",
       "_view_count": null,
       "_view_module": "@jupyter-widgets/controls",
       "_view_module_version": "1.5.0",
       "_view_name": "ProgressView",
       "bar_style": "success",
       "description": "",
       "description_tooltip": null,
       "layout": "IPY_MODEL_26e21af895674768a9c25ebc016af008",
       "max": 10.0,
       "min": 0.0,
       "orientation": "horizontal",
       "style": "IPY_MODEL_d53ed955849a4c6da785ed07b5687006",
       "value": 10.0
      }
     },
     "af8ae0f379e74bd6a445d88085264895": {
      "model_module": "@jupyter-widgets/controls",
      "model_module_version": "1.5.0",
      "model_name": "HBoxModel",
      "state": {
       "_dom_classes": [],
       "_model_module": "@jupyter-widgets/controls",
       "_model_module_version": "1.5.0",
       "_model_name": "HBoxModel",
       "_view_count": null,
       "_view_module": "@jupyter-widgets/controls",
       "_view_module_version": "1.5.0",
       "_view_name": "HBoxView",
       "box_style": "",
       "children": [
        "IPY_MODEL_0e546a6587ea44da8b18fb3d5c1d3ae7",
        "IPY_MODEL_adc294835b934a8eaa3dbcfa3c17add6",
        "IPY_MODEL_375528115df64a3bad2a84027d7de608"
       ],
       "layout": "IPY_MODEL_968c1b9a5ca6427cb038966a8c890b24"
      }
     },
     "d53ed955849a4c6da785ed07b5687006": {
      "model_module": "@jupyter-widgets/controls",
      "model_module_version": "1.5.0",
      "model_name": "ProgressStyleModel",
      "state": {
       "_model_module": "@jupyter-widgets/controls",
       "_model_module_version": "1.5.0",
       "_model_name": "ProgressStyleModel",
       "_view_count": null,
       "_view_module": "@jupyter-widgets/base",
       "_view_module_version": "1.2.0",
       "_view_name": "StyleView",
       "bar_color": null,
       "description_width": ""
      }
     },
     "f61d513b25864b4682ab9673888d6c63": {
      "model_module": "@jupyter-widgets/base",
      "model_module_version": "1.2.0",
      "model_name": "LayoutModel",
      "state": {
       "_model_module": "@jupyter-widgets/base",
       "_model_module_version": "1.2.0",
       "_model_name": "LayoutModel",
       "_view_count": null,
       "_view_module": "@jupyter-widgets/base",
       "_view_module_version": "1.2.0",
       "_view_name": "LayoutView",
       "align_content": null,
       "align_items": null,
       "align_self": null,
       "border": null,
       "bottom": null,
       "display": null,
       "flex": null,
       "flex_flow": null,
       "grid_area": null,
       "grid_auto_columns": null,
       "grid_auto_flow": null,
       "grid_auto_rows": null,
       "grid_column": null,
       "grid_gap": null,
       "grid_row": null,
       "grid_template_areas": null,
       "grid_template_columns": null,
       "grid_template_rows": null,
       "height": null,
       "justify_content": null,
       "justify_items": null,
       "left": null,
       "margin": null,
       "max_height": null,
       "max_width": null,
       "min_height": null,
       "min_width": null,
       "object_fit": null,
       "object_position": null,
       "order": null,
       "overflow": null,
       "overflow_x": null,
       "overflow_y": null,
       "padding": null,
       "right": null,
       "top": null,
       "visibility": null,
       "width": null
      }
     },
     "ff412f3373ea42f6be86870fec91c3fe": {
      "model_module": "@jupyter-widgets/controls",
      "model_module_version": "1.5.0",
      "model_name": "DescriptionStyleModel",
      "state": {
       "_model_module": "@jupyter-widgets/controls",
       "_model_module_version": "1.5.0",
       "_model_name": "DescriptionStyleModel",
       "_view_count": null,
       "_view_module": "@jupyter-widgets/base",
       "_view_module_version": "1.2.0",
       "_view_name": "StyleView",
       "description_width": ""
      }
     }
    },
    "version_major": 2,
    "version_minor": 0
   }
  }
 },
 "nbformat": 4,
 "nbformat_minor": 5
}
