{
 "cells": [
  {
   "cell_type": "markdown",
   "id": "0317e1c7",
   "metadata": {
    "papermill": {
     "duration": 0.007661,
     "end_time": "2023-10-26T13:32:54.367922",
     "exception": false,
     "start_time": "2023-10-26T13:32:54.360261",
     "status": "completed"
    },
    "tags": []
   },
   "source": [
    "# Install Dependencies"
   ]
  },
  {
   "cell_type": "code",
   "execution_count": 1,
   "id": "a9a23554",
   "metadata": {
    "execution": {
     "iopub.execute_input": "2023-10-26T13:32:54.383666Z",
     "iopub.status.busy": "2023-10-26T13:32:54.382734Z",
     "iopub.status.idle": "2023-10-26T13:33:07.220048Z",
     "shell.execute_reply": "2023-10-26T13:33:07.219110Z"
    },
    "papermill": {
     "duration": 12.847704,
     "end_time": "2023-10-26T13:33:07.222555",
     "exception": false,
     "start_time": "2023-10-26T13:32:54.374851",
     "status": "completed"
    },
    "tags": []
   },
   "outputs": [
    {
     "name": "stdout",
     "output_type": "stream",
     "text": [
      "Collecting torch_summary\r\n",
      "  Downloading torch_summary-1.4.5-py3-none-any.whl (16 kB)\r\n",
      "Installing collected packages: torch_summary\r\n",
      "Successfully installed torch_summary-1.4.5\r\n"
     ]
    }
   ],
   "source": [
    "!pip install torch_summary"
   ]
  },
  {
   "cell_type": "markdown",
   "id": "acce4fef",
   "metadata": {
    "papermill": {
     "duration": 0.006501,
     "end_time": "2023-10-26T13:33:07.236412",
     "exception": false,
     "start_time": "2023-10-26T13:33:07.229911",
     "status": "completed"
    },
    "tags": []
   },
   "source": [
    "# Import Libraries"
   ]
  },
  {
   "cell_type": "code",
   "execution_count": 2,
   "id": "5b45464b",
   "metadata": {
    "_cell_guid": "b1076dfc-b9ad-4769-8c92-a6c4dae69d19",
    "_uuid": "8f2839f25d086af736a60e9eeb907d3b93b6e0e5",
    "execution": {
     "iopub.execute_input": "2023-10-26T13:33:07.252156Z",
     "iopub.status.busy": "2023-10-26T13:33:07.251605Z",
     "iopub.status.idle": "2023-10-26T13:33:13.098787Z",
     "shell.execute_reply": "2023-10-26T13:33:13.097905Z"
    },
    "papermill": {
     "duration": 5.857893,
     "end_time": "2023-10-26T13:33:13.101138",
     "exception": false,
     "start_time": "2023-10-26T13:33:07.243245",
     "status": "completed"
    },
    "tags": []
   },
   "outputs": [
    {
     "name": "stderr",
     "output_type": "stream",
     "text": [
      "/opt/conda/lib/python3.10/site-packages/scipy/__init__.py:146: UserWarning: A NumPy version >=1.16.5 and <1.23.0 is required for this version of SciPy (detected version 1.23.5\n",
      "  warnings.warn(f\"A NumPy version >={np_minversion} and <{np_maxversion}\"\n"
     ]
    }
   ],
   "source": [
    "import torch\n",
    "import torch.nn.functional as F\n",
    "from torch import nn, optim\n",
    "from torchvision import transforms as T, models\n",
    "from torch.utils.data import DataLoader, Dataset\n",
    "from torchsummary import summary\n",
    "from tqdm.notebook import tqdm \n",
    "import zipfile\n",
    "\n",
    "from sklearn.metrics import classification_report, recall_score\n",
    "from sklearn.model_selection import train_test_split\n",
    "import seaborn as sns\n",
    "from PIL import Image\n",
    "import matplotlib.pyplot as plt\n",
    "from random import shuffle, randint, choice\n",
    "import numpy as np\n",
    "import cv2 as cv\n",
    "from glob import glob\n",
    "import pandas as pd\n",
    "import requests\n",
    "import concurrent.futures\n",
    "import gc"
   ]
  },
  {
   "cell_type": "code",
   "execution_count": 3,
   "id": "1520e8c6",
   "metadata": {
    "execution": {
     "iopub.execute_input": "2023-10-26T13:33:13.117556Z",
     "iopub.status.busy": "2023-10-26T13:33:13.117066Z",
     "iopub.status.idle": "2023-10-26T13:33:14.181492Z",
     "shell.execute_reply": "2023-10-26T13:33:14.180328Z"
    },
    "papermill": {
     "duration": 1.075262,
     "end_time": "2023-10-26T13:33:14.184014",
     "exception": false,
     "start_time": "2023-10-26T13:33:13.108752",
     "status": "completed"
    },
    "tags": []
   },
   "outputs": [],
   "source": [
    "!mkdir saved_model\n",
    "sns.set_theme()\n",
    "device = 'cuda' if torch.cuda.is_available() else 'cpu'"
   ]
  },
  {
   "cell_type": "markdown",
   "id": "f143c3c2",
   "metadata": {
    "papermill": {
     "duration": 0.006875,
     "end_time": "2023-10-26T13:33:14.198271",
     "exception": false,
     "start_time": "2023-10-26T13:33:14.191396",
     "status": "completed"
    },
    "tags": []
   },
   "source": [
    "## Dataset"
   ]
  },
  {
   "cell_type": "code",
   "execution_count": 4,
   "id": "c8d7e028",
   "metadata": {
    "execution": {
     "iopub.execute_input": "2023-10-26T13:33:14.213450Z",
     "iopub.status.busy": "2023-10-26T13:33:14.213095Z",
     "iopub.status.idle": "2023-10-26T13:33:14.282683Z",
     "shell.execute_reply": "2023-10-26T13:33:14.281799Z"
    },
    "papermill": {
     "duration": 0.079755,
     "end_time": "2023-10-26T13:33:14.284768",
     "exception": false,
     "start_time": "2023-10-26T13:33:14.205013",
     "status": "completed"
    },
    "tags": []
   },
   "outputs": [
    {
     "data": {
      "text/html": [
       "<div>\n",
       "<style scoped>\n",
       "    .dataframe tbody tr th:only-of-type {\n",
       "        vertical-align: middle;\n",
       "    }\n",
       "\n",
       "    .dataframe tbody tr th {\n",
       "        vertical-align: top;\n",
       "    }\n",
       "\n",
       "    .dataframe thead th {\n",
       "        text-align: right;\n",
       "    }\n",
       "</style>\n",
       "<table border=\"1\" class=\"dataframe\">\n",
       "  <thead>\n",
       "    <tr style=\"text-align: right;\">\n",
       "      <th></th>\n",
       "      <th>image</th>\n",
       "      <th>level</th>\n",
       "    </tr>\n",
       "  </thead>\n",
       "  <tbody>\n",
       "    <tr>\n",
       "      <th>0</th>\n",
       "      <td>10_left</td>\n",
       "      <td>0</td>\n",
       "    </tr>\n",
       "    <tr>\n",
       "      <th>1</th>\n",
       "      <td>10_right</td>\n",
       "      <td>0</td>\n",
       "    </tr>\n",
       "    <tr>\n",
       "      <th>2</th>\n",
       "      <td>13_left</td>\n",
       "      <td>0</td>\n",
       "    </tr>\n",
       "    <tr>\n",
       "      <th>3</th>\n",
       "      <td>13_right</td>\n",
       "      <td>0</td>\n",
       "    </tr>\n",
       "    <tr>\n",
       "      <th>4</th>\n",
       "      <td>15_left</td>\n",
       "      <td>1</td>\n",
       "    </tr>\n",
       "  </tbody>\n",
       "</table>\n",
       "</div>"
      ],
      "text/plain": [
       "      image  level\n",
       "0   10_left      0\n",
       "1  10_right      0\n",
       "2   13_left      0\n",
       "3  13_right      0\n",
       "4   15_left      1"
      ]
     },
     "execution_count": 4,
     "metadata": {},
     "output_type": "execute_result"
    }
   ],
   "source": [
    "DIR = '/kaggle/input/diabetic-retinopathy-detection'\n",
    "\n",
    "with zipfile.ZipFile(f'{DIR}/trainLabels.csv.zip', 'r') as zip_ref:\n",
    "    with zip_ref.open('trainLabels.csv') as csv_file:\n",
    "        trainLabels_df = pd.read_csv(csv_file, index_col=0).reset_index()\n",
    "\n",
    "trainLabels_df.head()"
   ]
  },
  {
   "cell_type": "code",
   "execution_count": 5,
   "id": "3e59628a",
   "metadata": {
    "execution": {
     "iopub.execute_input": "2023-10-26T13:33:14.300704Z",
     "iopub.status.busy": "2023-10-26T13:33:14.300369Z",
     "iopub.status.idle": "2023-10-26T13:33:14.312339Z",
     "shell.execute_reply": "2023-10-26T13:33:14.311354Z"
    },
    "papermill": {
     "duration": 0.022297,
     "end_time": "2023-10-26T13:33:14.314307",
     "exception": false,
     "start_time": "2023-10-26T13:33:14.292010",
     "status": "completed"
    },
    "tags": []
   },
   "outputs": [
    {
     "name": "stdout",
     "output_type": "stream",
     "text": [
      "Total: 35126\n",
      "Stage 0: 25810\n",
      "Stage 1: 2443\n",
      "Stage 2: 5292\n",
      "Stage 3: 873\n",
      "Stage 4: 708\n"
     ]
    }
   ],
   "source": [
    "print(\"Total:\", len(trainLabels_df))\n",
    "print(\"Stage 0:\", len(trainLabels_df[trainLabels_df[\"level\"]==0]))\n",
    "print(\"Stage 1:\", len(trainLabels_df[trainLabels_df[\"level\"]==1]))\n",
    "print(\"Stage 2:\", len(trainLabels_df[trainLabels_df[\"level\"]==2]))\n",
    "print(\"Stage 3:\", len(trainLabels_df[trainLabels_df[\"level\"]==3]))\n",
    "print(\"Stage 4:\", len(trainLabels_df[trainLabels_df[\"level\"]==4]))"
   ]
  },
  {
   "cell_type": "code",
   "execution_count": 6,
   "id": "68d9ec7e",
   "metadata": {
    "execution": {
     "iopub.execute_input": "2023-10-26T13:33:14.329186Z",
     "iopub.status.busy": "2023-10-26T13:33:14.328906Z",
     "iopub.status.idle": "2023-10-26T13:33:14.350673Z",
     "shell.execute_reply": "2023-10-26T13:33:14.350021Z"
    },
    "papermill": {
     "duration": 0.031377,
     "end_time": "2023-10-26T13:33:14.352559",
     "exception": false,
     "start_time": "2023-10-26T13:33:14.321182",
     "status": "completed"
    },
    "tags": []
   },
   "outputs": [],
   "source": [
    "stage_0_df = trainLabels_df[trainLabels_df[\"level\"]==0].sample(500)\n",
    "stage_1_df = trainLabels_df[trainLabels_df[\"level\"]==1].sample(500)\n",
    "stage_2_df = trainLabels_df[trainLabels_df[\"level\"]==2].sample(500)\n",
    "stage_3_df = trainLabels_df[trainLabels_df[\"level\"]==3].sample(500)\n",
    "stage_4_df = trainLabels_df[trainLabels_df[\"level\"]==4].sample(500)\n",
    "\n",
    "stage_0_train, stage_0_valid = train_test_split(stage_0_df, test_size=0.2, random_state=42)\n",
    "stage_1_train, stage_1_valid = train_test_split(stage_1_df, test_size=0.2, random_state=42)\n",
    "stage_2_train, stage_2_valid = train_test_split(stage_2_df, test_size=0.2, random_state=42)\n",
    "stage_3_train, stage_3_valid = train_test_split(stage_3_df, test_size=0.2, random_state=42)\n",
    "stage_4_train, stage_4_valid = train_test_split(stage_4_df, test_size=0.2, random_state=42)\n",
    "\n",
    "train_df = pd.concat([stage_0_train, stage_1_train, stage_2_train, stage_3_train, stage_4_train]).sample(frac=1).reset_index()\n",
    "valid_df = pd.concat([stage_0_valid, stage_1_valid, stage_2_valid, stage_3_valid, stage_4_valid]).sample(frac=1).reset_index()\n",
    "# train_df = pd.concat([stage_0_train, stage_1_train, stage_2_train, stage_3_train, stage_4_train]).sample(64)\n",
    "# valid_df = pd.concat([stage_0_valid, stage_1_valid, stage_2_valid, stage_3_valid, stage_4_valid]).sample(64)"
   ]
  },
  {
   "cell_type": "code",
   "execution_count": 7,
   "id": "a25ff805",
   "metadata": {
    "execution": {
     "iopub.execute_input": "2023-10-26T13:33:14.367452Z",
     "iopub.status.busy": "2023-10-26T13:33:14.367198Z",
     "iopub.status.idle": "2023-10-26T13:33:14.373147Z",
     "shell.execute_reply": "2023-10-26T13:33:14.372361Z"
    },
    "papermill": {
     "duration": 0.015661,
     "end_time": "2023-10-26T13:33:14.375126",
     "exception": false,
     "start_time": "2023-10-26T13:33:14.359465",
     "status": "completed"
    },
    "tags": []
   },
   "outputs": [],
   "source": [
    "def download_image(index, image_name, df, count, total):\n",
    "    filepath = f\"https://diabetic-retinopathy-images.s3.ap-southeast-1.amazonaws.com/images/{image_name}.jpeg\" \n",
    "    response = requests.get(filepath)\n",
    "    print(count, \"/\", total, response.reason, image_name, end=\"\\r\")\n",
    "    if response.status_code != 200:\n",
    "        df.drop(index, inplace=True)\n",
    "        return None\n",
    "    image_data = response.content\n",
    "    nparr = np.frombuffer(image_data, np.uint8)\n",
    "    image = cv.imdecode(nparr, cv.IMREAD_COLOR)\n",
    "    image = cv.cvtColor(image, cv.COLOR_BGR2GRAY)\n",
    "    df.at[index, 'imagefile'] = image"
   ]
  },
  {
   "cell_type": "code",
   "execution_count": 8,
   "id": "86a3c29f",
   "metadata": {
    "execution": {
     "iopub.execute_input": "2023-10-26T13:33:14.390093Z",
     "iopub.status.busy": "2023-10-26T13:33:14.389811Z",
     "iopub.status.idle": "2023-10-26T13:43:01.927978Z",
     "shell.execute_reply": "2023-10-26T13:43:01.926807Z"
    },
    "papermill": {
     "duration": 587.548378,
     "end_time": "2023-10-26T13:43:01.930303",
     "exception": false,
     "start_time": "2023-10-26T13:33:14.381925",
     "status": "completed"
    },
    "tags": []
   },
   "outputs": [
    {
     "name": "stdout",
     "output_type": "stream",
     "text": [
      "Done!\n"
     ]
    }
   ],
   "source": [
    "train_df['imagefile'] = None\n",
    "total = len(train_df)\n",
    "count = 1\n",
    "\n",
    "for start in range(0, total, 1000):\n",
    "    end = min(start + 1000, total)\n",
    "\n",
    "    with concurrent.futures.ThreadPoolExecutor() as executor:\n",
    "        futures = []\n",
    "        for index, row in train_df[start:end].iterrows():\n",
    "            image_name = row['image']\n",
    "            future = executor.submit(download_image, index, image_name, train_df, count, total)\n",
    "            futures.append(future)\n",
    "            count += 1\n",
    "        concurrent.futures.wait(futures)\n",
    "    \n",
    "print(\"Done!\")"
   ]
  },
  {
   "cell_type": "code",
   "execution_count": 9,
   "id": "55b387f6",
   "metadata": {
    "execution": {
     "iopub.execute_input": "2023-10-26T13:43:02.125572Z",
     "iopub.status.busy": "2023-10-26T13:43:02.125271Z",
     "iopub.status.idle": "2023-10-26T13:45:32.065377Z",
     "shell.execute_reply": "2023-10-26T13:45:32.064309Z"
    },
    "papermill": {
     "duration": 150.041308,
     "end_time": "2023-10-26T13:45:32.067620",
     "exception": false,
     "start_time": "2023-10-26T13:43:02.026312",
     "status": "completed"
    },
    "tags": []
   },
   "outputs": [
    {
     "name": "stdout",
     "output_type": "stream",
     "text": [
      "Done!\n"
     ]
    }
   ],
   "source": [
    "valid_df['imagefile'] = None\n",
    "total = len(valid_df)\n",
    "count = 1\n",
    "\n",
    "for start in range(0, total, 1000):\n",
    "    end = min(start + 1000, total)\n",
    "\n",
    "    with concurrent.futures.ThreadPoolExecutor() as executor:\n",
    "        futures = []\n",
    "        for index, row in valid_df[start:end].iterrows():\n",
    "            image_name = row['image']\n",
    "            future = executor.submit(download_image, index, image_name, valid_df, count, total)\n",
    "            futures.append(future)\n",
    "            count += 1\n",
    "        concurrent.futures.wait(futures)\n",
    "\n",
    "print(\"Done!\")"
   ]
  },
  {
   "cell_type": "code",
   "execution_count": 10,
   "id": "09cff778",
   "metadata": {
    "execution": {
     "iopub.execute_input": "2023-10-26T13:45:32.309329Z",
     "iopub.status.busy": "2023-10-26T13:45:32.308947Z",
     "iopub.status.idle": "2023-10-26T13:45:32.320276Z",
     "shell.execute_reply": "2023-10-26T13:45:32.319365Z"
    },
    "papermill": {
     "duration": 0.134422,
     "end_time": "2023-10-26T13:45:32.322118",
     "exception": false,
     "start_time": "2023-10-26T13:45:32.187696",
     "status": "completed"
    },
    "tags": []
   },
   "outputs": [],
   "source": [
    "class EyeDataset(Dataset):\n",
    "    def __init__(self, df, data_transform = None):\n",
    "        self.df = df\n",
    "        self.data_transform = data_transform\n",
    "        self.transform = T.Compose([\n",
    "            T.Resize([224, 224]),\n",
    "            T.ToTensor(),\n",
    "            T.Normalize((0.485, 0.456, 0.406),\n",
    "                       (0.229, 0.224, 0.225))\n",
    "        ])\n",
    "    \n",
    "    def __len__(self):\n",
    "        return len(self.df)\n",
    "    \n",
    "    def __getitem__(self, idx):\n",
    "        image = self.df.iloc[idx]['imagefile']\n",
    "        _, thresholded = cv.threshold(image, 0, 255, cv.THRESH_OTSU)\n",
    "        x, y, w, h = cv.boundingRect(thresholded)\n",
    "        cropped_image = cv.cvtColor(image[y:y+h, x:x+w], cv.COLOR_GRAY2RGB)\n",
    "        cropped_image = Image.fromarray(cropped_image)\n",
    "        target = self.df.iloc[idx]['level']\n",
    "        \n",
    "        if self.data_transform is not None:\n",
    "            cropped_image = self.data_transform(cropped_image)\n",
    "        \n",
    "        return cropped_image, target\n",
    "    \n",
    "    def transform_img(self, img):\n",
    "        return self.transform(img)\n",
    "    \n",
    "    def collate_fn(self, data):\n",
    "        imgs, targets = zip(*data)\n",
    "        targets = torch.tensor(targets)\n",
    "        targets = targets.view(-1, 1).float()\n",
    "        targets = targets.squeeze().long()\n",
    "        targets = targets.to(device)\n",
    "        imgs = torch.stack(\n",
    "            [self.transform_img(img) for img in imgs], 0\n",
    "        ).to(device)\n",
    "        return imgs, targets"
   ]
  },
  {
   "cell_type": "code",
   "execution_count": 11,
   "id": "3b64b2e2",
   "metadata": {
    "execution": {
     "iopub.execute_input": "2023-10-26T13:45:32.561383Z",
     "iopub.status.busy": "2023-10-26T13:45:32.561011Z",
     "iopub.status.idle": "2023-10-26T13:45:32.567368Z",
     "shell.execute_reply": "2023-10-26T13:45:32.566421Z"
    },
    "papermill": {
     "duration": 0.128794,
     "end_time": "2023-10-26T13:45:32.569330",
     "exception": false,
     "start_time": "2023-10-26T13:45:32.440536",
     "status": "completed"
    },
    "tags": []
   },
   "outputs": [],
   "source": [
    "data_transforms = T.Compose([\n",
    "    T.RandomHorizontalFlip(),\n",
    "    T.RandomRotation(15),\n",
    "    T.ColorJitter(brightness=0.2, contrast=0.2, saturation=0.2, hue=0.1),\n",
    "    T.RandomResizedCrop(224, scale=(0.8, 1.0)),\n",
    "    T.RandomAffine(degrees=0, translate=(0.1, 0.1))\n",
    "])"
   ]
  },
  {
   "cell_type": "code",
   "execution_count": 12,
   "id": "933c231e",
   "metadata": {
    "execution": {
     "iopub.execute_input": "2023-10-26T13:45:32.858380Z",
     "iopub.status.busy": "2023-10-26T13:45:32.857670Z",
     "iopub.status.idle": "2023-10-26T13:45:32.863417Z",
     "shell.execute_reply": "2023-10-26T13:45:32.862530Z"
    },
    "papermill": {
     "duration": 0.129089,
     "end_time": "2023-10-26T13:45:32.865251",
     "exception": false,
     "start_time": "2023-10-26T13:45:32.736162",
     "status": "completed"
    },
    "tags": []
   },
   "outputs": [],
   "source": [
    "train_ds = EyeDataset(train_df, data_transform=data_transforms)\n",
    "train_dl = DataLoader(train_ds, batch_size=32, shuffle=True,\n",
    "                      collate_fn=train_ds.collate_fn)\n",
    "\n",
    "valid_ds = EyeDataset(valid_df)\n",
    "valid_dl = DataLoader(valid_ds, batch_size=32,\n",
    "                      collate_fn=valid_ds.collate_fn)"
   ]
  },
  {
   "cell_type": "code",
   "execution_count": 13,
   "id": "ed1b7d71",
   "metadata": {
    "execution": {
     "iopub.execute_input": "2023-10-26T13:45:33.104826Z",
     "iopub.status.busy": "2023-10-26T13:45:33.104010Z",
     "iopub.status.idle": "2023-10-26T13:45:33.114375Z",
     "shell.execute_reply": "2023-10-26T13:45:33.113414Z"
    },
    "papermill": {
     "duration": 0.132076,
     "end_time": "2023-10-26T13:45:33.116411",
     "exception": false,
     "start_time": "2023-10-26T13:45:32.984335",
     "status": "completed"
    },
    "tags": []
   },
   "outputs": [],
   "source": [
    "class EyeClassifier(nn.Module):\n",
    "    def __init__(self, pretrained=True):\n",
    "        super().__init__()\n",
    "        \n",
    "#         self.model = models.resnet34(pretrained=pretrained, progress=pretrained)\n",
    "        self.model = models.vgg19(pretrained=pretrained, progress=pretrained)\n",
    "    \n",
    "        for param in self.model.parameters():\n",
    "            param.requires_grad = True\n",
    "        \n",
    "#         num_features = self.model.fc.in_features\n",
    "        num_features = self.model.classifier[0].in_features\n",
    "    \n",
    "        self.model.fc = nn.Sequential(\n",
    "            nn.Flatten(),\n",
    "            nn.BatchNorm1d(num_features),\n",
    "            nn.Dropout(0.5),\n",
    "            nn.Linear(num_features, 64),\n",
    "            nn.BatchNorm1d(64),\n",
    "            nn.ReLU(),\n",
    "            nn.Dropout(0.5),\n",
    "            nn.Linear(64, 128),\n",
    "            nn.BatchNorm1d(128),\n",
    "            nn.ReLU(),\n",
    "            nn.Dropout(0.5),\n",
    "            nn.Linear(128, 256),\n",
    "            nn.BatchNorm1d(256),\n",
    "            nn.ReLU(),\n",
    "            nn.Dropout(0.5),\n",
    "            nn.Linear(256, 64),\n",
    "            nn.BatchNorm1d(64),\n",
    "            nn.ReLU(),\n",
    "            nn.Dropout(0.5),\n",
    "            nn.Linear(64, 32),\n",
    "            nn.BatchNorm1d(32),\n",
    "            nn.ReLU(),\n",
    "            nn.Dropout(0.5),\n",
    "            nn.Linear(32, 5),\n",
    "            nn.LogSoftmax(dim=1)\n",
    "        )\n",
    "        \n",
    "\n",
    "    def forward(self, x):\n",
    "        x = self.model(x)\n",
    "        return x"
   ]
  },
  {
   "cell_type": "code",
   "execution_count": 14,
   "id": "50dc4faa",
   "metadata": {
    "execution": {
     "iopub.execute_input": "2023-10-26T13:45:33.368224Z",
     "iopub.status.busy": "2023-10-26T13:45:33.367880Z",
     "iopub.status.idle": "2023-10-26T13:45:47.093681Z",
     "shell.execute_reply": "2023-10-26T13:45:47.092672Z"
    },
    "papermill": {
     "duration": 13.851608,
     "end_time": "2023-10-26T13:45:47.095924",
     "exception": false,
     "start_time": "2023-10-26T13:45:33.244316",
     "status": "completed"
    },
    "tags": []
   },
   "outputs": [
    {
     "name": "stderr",
     "output_type": "stream",
     "text": [
      "/opt/conda/lib/python3.10/site-packages/torchvision/models/_utils.py:208: UserWarning: The parameter 'pretrained' is deprecated since 0.13 and may be removed in the future, please use 'weights' instead.\n",
      "  warnings.warn(\n",
      "/opt/conda/lib/python3.10/site-packages/torchvision/models/_utils.py:223: UserWarning: Arguments other than a weight enum or `None` for 'weights' are deprecated since 0.13 and may be removed in the future. The current behavior is equivalent to passing `weights=VGG19_Weights.IMAGENET1K_V1`. You can also use `weights=VGG19_Weights.DEFAULT` to get the most up-to-date weights.\n",
      "  warnings.warn(msg)\n",
      "Downloading: \"https://download.pytorch.org/models/vgg19-dcbb9e9d.pth\" to /root/.cache/torch/hub/checkpoints/vgg19-dcbb9e9d.pth\n",
      "100%|██████████| 548M/548M [00:01<00:00, 322MB/s]\n"
     ]
    },
    {
     "name": "stdout",
     "output_type": "stream",
     "text": [
      "==========================================================================================\n",
      "Layer (type:depth-idx)                   Output Shape              Param #\n",
      "==========================================================================================\n",
      "├─VGG: 1-1                               [-1, 1000]                --\n",
      "|    └─Sequential: 2-1                   [-1, 512, 7, 7]           --\n",
      "|    |    └─Conv2d: 3-1                  [-1, 64, 224, 224]        1,792\n",
      "|    |    └─ReLU: 3-2                    [-1, 64, 224, 224]        --\n",
      "|    |    └─Conv2d: 3-3                  [-1, 64, 224, 224]        36,928\n",
      "|    |    └─ReLU: 3-4                    [-1, 64, 224, 224]        --\n",
      "|    |    └─MaxPool2d: 3-5               [-1, 64, 112, 112]        --\n",
      "|    |    └─Conv2d: 3-6                  [-1, 128, 112, 112]       73,856\n",
      "|    |    └─ReLU: 3-7                    [-1, 128, 112, 112]       --\n",
      "|    |    └─Conv2d: 3-8                  [-1, 128, 112, 112]       147,584\n",
      "|    |    └─ReLU: 3-9                    [-1, 128, 112, 112]       --\n",
      "|    |    └─MaxPool2d: 3-10              [-1, 128, 56, 56]         --\n",
      "|    |    └─Conv2d: 3-11                 [-1, 256, 56, 56]         295,168\n",
      "|    |    └─ReLU: 3-12                   [-1, 256, 56, 56]         --\n",
      "|    |    └─Conv2d: 3-13                 [-1, 256, 56, 56]         590,080\n",
      "|    |    └─ReLU: 3-14                   [-1, 256, 56, 56]         --\n",
      "|    |    └─Conv2d: 3-15                 [-1, 256, 56, 56]         590,080\n",
      "|    |    └─ReLU: 3-16                   [-1, 256, 56, 56]         --\n",
      "|    |    └─Conv2d: 3-17                 [-1, 256, 56, 56]         590,080\n",
      "|    |    └─ReLU: 3-18                   [-1, 256, 56, 56]         --\n",
      "|    |    └─MaxPool2d: 3-19              [-1, 256, 28, 28]         --\n",
      "|    |    └─Conv2d: 3-20                 [-1, 512, 28, 28]         1,180,160\n",
      "|    |    └─ReLU: 3-21                   [-1, 512, 28, 28]         --\n",
      "|    |    └─Conv2d: 3-22                 [-1, 512, 28, 28]         2,359,808\n",
      "|    |    └─ReLU: 3-23                   [-1, 512, 28, 28]         --\n",
      "|    |    └─Conv2d: 3-24                 [-1, 512, 28, 28]         2,359,808\n",
      "|    |    └─ReLU: 3-25                   [-1, 512, 28, 28]         --\n",
      "|    |    └─Conv2d: 3-26                 [-1, 512, 28, 28]         2,359,808\n",
      "|    |    └─ReLU: 3-27                   [-1, 512, 28, 28]         --\n",
      "|    |    └─MaxPool2d: 3-28              [-1, 512, 14, 14]         --\n",
      "|    |    └─Conv2d: 3-29                 [-1, 512, 14, 14]         2,359,808\n",
      "|    |    └─ReLU: 3-30                   [-1, 512, 14, 14]         --\n",
      "|    |    └─Conv2d: 3-31                 [-1, 512, 14, 14]         2,359,808\n",
      "|    |    └─ReLU: 3-32                   [-1, 512, 14, 14]         --\n",
      "|    |    └─Conv2d: 3-33                 [-1, 512, 14, 14]         2,359,808\n",
      "|    |    └─ReLU: 3-34                   [-1, 512, 14, 14]         --\n",
      "|    |    └─Conv2d: 3-35                 [-1, 512, 14, 14]         2,359,808\n",
      "|    |    └─ReLU: 3-36                   [-1, 512, 14, 14]         --\n",
      "|    |    └─MaxPool2d: 3-37              [-1, 512, 7, 7]           --\n",
      "|    └─AdaptiveAvgPool2d: 2-2            [-1, 512, 7, 7]           --\n",
      "|    └─Sequential: 2-3                   [-1, 1000]                --\n",
      "|    |    └─Linear: 3-38                 [-1, 4096]                102,764,544\n",
      "|    |    └─ReLU: 3-39                   [-1, 4096]                --\n",
      "|    |    └─Dropout: 3-40                [-1, 4096]                --\n",
      "|    |    └─Linear: 3-41                 [-1, 4096]                16,781,312\n",
      "|    |    └─ReLU: 3-42                   [-1, 4096]                --\n",
      "|    |    └─Dropout: 3-43                [-1, 4096]                --\n",
      "|    |    └─Linear: 3-44                 [-1, 1000]                4,097,000\n",
      "==========================================================================================\n",
      "Total params: 143,667,240\n",
      "Trainable params: 143,667,240\n",
      "Non-trainable params: 0\n",
      "Total mult-adds (G): 19.92\n",
      "==========================================================================================\n",
      "Input size (MB): 0.57\n",
      "Forward/backward pass size (MB): 113.38\n",
      "Params size (MB): 548.05\n",
      "Estimated Total Size (MB): 662.00\n",
      "==========================================================================================\n"
     ]
    }
   ],
   "source": [
    "classifier = EyeClassifier(pretrained=True)\n",
    "_ = summary(classifier, torch.ones(1,3,224,224))"
   ]
  },
  {
   "cell_type": "code",
   "execution_count": 15,
   "id": "40bd36a6",
   "metadata": {
    "execution": {
     "iopub.execute_input": "2023-10-26T13:45:47.341607Z",
     "iopub.status.busy": "2023-10-26T13:45:47.340883Z",
     "iopub.status.idle": "2023-10-26T13:45:47.348940Z",
     "shell.execute_reply": "2023-10-26T13:45:47.347919Z"
    },
    "papermill": {
     "duration": 0.132117,
     "end_time": "2023-10-26T13:45:47.350945",
     "exception": false,
     "start_time": "2023-10-26T13:45:47.218828",
     "status": "completed"
    },
    "tags": []
   },
   "outputs": [],
   "source": [
    "def train(data, classifier, optimizer, loss_fn):\n",
    "    classifier.train()\n",
    "    imgs, targets = data\n",
    "    outputs = classifier(imgs.to(device))\n",
    "    loss = loss_fn(outputs.to(device), targets.to(device))\n",
    "    optimizer.zero_grad()\n",
    "    loss.backward()\n",
    "    optimizer.step()\n",
    "    \n",
    "    outputs = torch.tensor(outputs.cpu().detach().tolist())\n",
    "    targets = targets.cpu().detach().tolist()\n",
    "    probs = torch.softmax(outputs, dim=1)\n",
    "    preds = torch.argmax(probs, dim=1).cpu().detach().tolist()\n",
    "    fake_recall_score = recall_score(targets, preds,\n",
    "                               zero_division=0,\n",
    "                               average='macro')\n",
    "    \n",
    "    return loss.cpu().detach().item(), fake_recall_score"
   ]
  },
  {
   "cell_type": "code",
   "execution_count": 16,
   "id": "8cbd24b9",
   "metadata": {
    "execution": {
     "iopub.execute_input": "2023-10-26T13:45:47.596076Z",
     "iopub.status.busy": "2023-10-26T13:45:47.595185Z",
     "iopub.status.idle": "2023-10-26T13:45:47.602891Z",
     "shell.execute_reply": "2023-10-26T13:45:47.602044Z"
    },
    "papermill": {
     "duration": 0.13231,
     "end_time": "2023-10-26T13:45:47.604731",
     "exception": false,
     "start_time": "2023-10-26T13:45:47.472421",
     "status": "completed"
    },
    "tags": []
   },
   "outputs": [],
   "source": [
    "@torch.no_grad()\n",
    "def validate(data, classifier, loss_fn):\n",
    "    classifier.eval()\n",
    "    imgs, targets = data\n",
    "    outputs = classifier(imgs.to(device))\n",
    "    loss = loss_fn(outputs.to(device), targets.to(device))\n",
    "    \n",
    "    outputs = torch.tensor(outputs.cpu().detach().tolist())\n",
    "    targets = targets.cpu().detach().tolist()\n",
    "    probs = torch.softmax(outputs, dim=1)\n",
    "    preds = torch.argmax(probs, dim=1).cpu().detach().tolist()\n",
    "    fake_recall_score = recall_score(targets, preds,\n",
    "                               zero_division=0,\n",
    "                               average='macro')\n",
    "    \n",
    "    return loss.cpu().detach().item(), fake_recall_score"
   ]
  },
  {
   "cell_type": "code",
   "execution_count": 17,
   "id": "d085d3dc",
   "metadata": {
    "execution": {
     "iopub.execute_input": "2023-10-26T13:45:47.848716Z",
     "iopub.status.busy": "2023-10-26T13:45:47.848052Z",
     "iopub.status.idle": "2023-10-26T13:45:49.923258Z",
     "shell.execute_reply": "2023-10-26T13:45:49.922231Z"
    },
    "papermill": {
     "duration": 2.199937,
     "end_time": "2023-10-26T13:45:49.925863",
     "exception": false,
     "start_time": "2023-10-26T13:45:47.725926",
     "status": "completed"
    },
    "tags": []
   },
   "outputs": [],
   "source": [
    "classifier = EyeClassifier(pretrained=True).to(device)\n",
    "loss_fn = nn.CrossEntropyLoss().to(device)\n",
    "optimizer = optim.Adam(classifier.parameters(), lr=1e-4, weight_decay=1e-2)\n",
    "scheduler = optim.lr_scheduler.StepLR(optimizer, step_size=3,\n",
    "                                      gamma=0.25)\n",
    "best_recall_score = 0\n",
    "n_epochs = 10\n",
    "xticks = list(i+1 for i in range(n_epochs))"
   ]
  },
  {
   "cell_type": "code",
   "execution_count": 18,
   "id": "0df47d17",
   "metadata": {
    "execution": {
     "iopub.execute_input": "2023-10-26T13:45:50.200483Z",
     "iopub.status.busy": "2023-10-26T13:45:50.199648Z",
     "iopub.status.idle": "2023-10-26T15:58:36.233051Z",
     "shell.execute_reply": "2023-10-26T15:58:36.231998Z"
    },
    "papermill": {
     "duration": 7966.365008,
     "end_time": "2023-10-26T15:58:36.430447",
     "exception": false,
     "start_time": "2023-10-26T13:45:50.065439",
     "status": "completed"
    },
    "tags": []
   },
   "outputs": [
    {
     "data": {
      "application/vnd.jupyter.widget-view+json": {
       "model_id": "629c82a68dd94025b7505d7896cd2158",
       "version_major": 2,
       "version_minor": 0
      },
      "text/plain": [
       "Training:   0%|          | 0/10 [00:00<?, ?it/s]"
      ]
     },
     "metadata": {},
     "output_type": "display_data"
    },
    {
     "name": "stdout",
     "output_type": "stream",
     "text": [
      "epoch: 1 \ttrain loss: 1.872 \ttrain recall score: 0.319 \tvalid loss: 1.332 \tvalid recall score: 0.386\n",
      "epoch: 2 \ttrain loss: 1.357 \ttrain recall score: 0.394 \tvalid loss: 1.265 \tvalid recall score: 0.388\n",
      "epoch: 3 \ttrain loss: 1.262 \ttrain recall score: 0.449 \tvalid loss: 1.191 \tvalid recall score: 0.468\n",
      "epoch: 4 \ttrain loss: 1.160 \ttrain recall score: 0.488 \tvalid loss: 1.147 \tvalid recall score: 0.488\n",
      "epoch: 5 \ttrain loss: 1.119 \ttrain recall score: 0.487 \tvalid loss: 1.136 \tvalid recall score: 0.485\n",
      "epoch: 6 \ttrain loss: 1.103 \ttrain recall score: 0.521 \tvalid loss: 1.148 \tvalid recall score: 0.499\n",
      "epoch: 7 \ttrain loss: 1.040 \ttrain recall score: 0.528 \tvalid loss: 1.149 \tvalid recall score: 0.510\n",
      "epoch: 8 \ttrain loss: 1.045 \ttrain recall score: 0.535 \tvalid loss: 1.157 \tvalid recall score: 0.505\n",
      "epoch: 9 \ttrain loss: 1.023 \ttrain recall score: 0.537 \tvalid loss: 1.150 \tvalid recall score: 0.501\n",
      "epoch: 10 \ttrain loss: 1.010 \ttrain recall score: 0.554 \tvalid loss: 1.145 \tvalid recall score: 0.515\n"
     ]
    }
   ],
   "source": [
    "mem = {\n",
    "    'train_loss': [],\n",
    "    'train_recall_score': [],\n",
    "    'valid_loss': [],\n",
    "    'valid_recall_score': []\n",
    "}\n",
    "\n",
    "for epoch in tqdm(range(n_epochs), desc='Training'):\n",
    "    n_batch = len(train_dl)\n",
    "    train_losses, train_recall_scores = [], []\n",
    "    for i, data in enumerate(train_dl):\n",
    "        train_loss, train_recall_score = train(data, classifier,\n",
    "                                         optimizer, loss_fn)\n",
    "        train_losses.append(train_loss)\n",
    "        train_recall_scores.append(train_recall_score)\n",
    "        pos = epoch + ((i+1)/n_batch)\n",
    "        print(\n",
    "            'epoch:', \"%.3f\" % pos,\n",
    "            '\\ttrain loss:', \"%.3f\" % train_loss,\n",
    "            '\\ttrain recall score:', \"%.3f\" % train_recall_score, \n",
    "            end='\\r'\n",
    "        )\n",
    "        \n",
    "    mem['train_loss'].append(np.mean(train_losses))\n",
    "    mem['train_recall_score'].append(np.mean(train_recall_scores))\n",
    "    \n",
    "    n_batch = len(valid_dl)\n",
    "    valid_losses, valid_recall_scores = [], []\n",
    "    for i, data in enumerate(valid_dl):\n",
    "        valid_loss, valid_recall_score = validate(data, classifier, loss_fn)\n",
    "        valid_losses.append(valid_loss)\n",
    "        valid_recall_scores.append(valid_recall_score)\n",
    "        pos = epoch + ((i+1)/n_batch)\n",
    "        print(\n",
    "            'epoch:', \"%.3f\" % pos,\n",
    "            '\\tvalid loss:', \"%.3f\" % valid_loss,\n",
    "            '\\tvalid recall score:', \"%.3f\" % valid_recall_score, \n",
    "            end='\\r'\n",
    "        )\n",
    "    \n",
    "    cur_recall_score = np.mean(valid_recall_scores)\n",
    "    mem['valid_loss'].append(np.mean(valid_losses))\n",
    "    mem['valid_recall_score'].append(cur_recall_score)\n",
    "    \n",
    "    print(\n",
    "        'epoch:', epoch+1,\n",
    "        '\\ttrain loss:', \"%.3f\" % mem['train_loss'][-1],\n",
    "        '\\ttrain recall score:', \"%.3f\" % mem['train_recall_score'][-1],\n",
    "        '\\tvalid loss:', \"%.3f\" % mem['valid_loss'][-1],\n",
    "        '\\tvalid recall score:', \"%.3f\" % mem['valid_recall_score'][-1],\n",
    "    )\n",
    "    \n",
    "    if best_recall_score < cur_recall_score:\n",
    "        best_recall_score = cur_recall_score\n",
    "        torch.save(classifier.state_dict(), './saved_model/diabetic_state_dict.pth')\n",
    "        torch.save(classifier, './saved_model/diabetic_model.pth')\n",
    "        \n",
    "    scheduler.step()"
   ]
  },
  {
   "cell_type": "code",
   "execution_count": 19,
   "id": "1b809a52",
   "metadata": {
    "execution": {
     "iopub.execute_input": "2023-10-26T15:58:36.800075Z",
     "iopub.status.busy": "2023-10-26T15:58:36.799689Z",
     "iopub.status.idle": "2023-10-26T15:58:37.304846Z",
     "shell.execute_reply": "2023-10-26T15:58:37.303789Z"
    },
    "papermill": {
     "duration": 0.691542,
     "end_time": "2023-10-26T15:58:37.307180",
     "exception": false,
     "start_time": "2023-10-26T15:58:36.615638",
     "status": "completed"
    },
    "tags": []
   },
   "outputs": [
    {
     "data": {
      "image/png": "[encoded data removed]",
      "text/plain": [
       "<Figure size 640x480 with 1 Axes>"
      ]
     },
     "metadata": {},
     "output_type": "display_data"
    }
   ],
   "source": [
    "plt.plot(xticks, mem['train_loss'])\n",
    "plt.plot(xticks, mem['valid_loss'])\n",
    "plt.legend(['train', 'valid'])\n",
    "plt.xlabel('epoch')\n",
    "plt.title('loss')\n",
    "plt.show()"
   ]
  },
  {
   "cell_type": "code",
   "execution_count": 20,
   "id": "edc84725",
   "metadata": {
    "execution": {
     "iopub.execute_input": "2023-10-26T15:58:37.674947Z",
     "iopub.status.busy": "2023-10-26T15:58:37.674584Z",
     "iopub.status.idle": "2023-10-26T15:58:37.969965Z",
     "shell.execute_reply": "2023-10-26T15:58:37.968969Z"
    },
    "papermill": {
     "duration": 0.485578,
     "end_time": "2023-10-26T15:58:37.972421",
     "exception": false,
     "start_time": "2023-10-26T15:58:37.486843",
     "status": "completed"
    },
    "tags": []
   },
   "outputs": [
    {
     "data": {
      "image/png": "[encoded data removed]",
      "text/plain": [
       "<Figure size 640x480 with 1 Axes>"
      ]
     },
     "metadata": {},
     "output_type": "display_data"
    }
   ],
   "source": [
    "plt.plot(xticks, mem['train_recall_score'])\n",
    "plt.plot(xticks, mem['valid_recall_score'])\n",
    "plt.legend(['train', 'valid'])\n",
    "plt.xlabel('epoch')\n",
    "plt.title('recall score')\n",
    "plt.show()"
   ]
  },
  {
   "cell_type": "code",
   "execution_count": null,
   "id": "c3a898fe",
   "metadata": {
    "papermill": {
     "duration": 0.216591,
     "end_time": "2023-10-26T15:58:38.369399",
     "exception": false,
     "start_time": "2023-10-26T15:58:38.152808",
     "status": "completed"
    },
    "tags": []
   },
   "outputs": [],
   "source": []
  }
 ],
 "metadata": {
  "kernelspec": {
   "display_name": "Python 3",
   "language": "python",
   "name": "python3"
  },
  "language_info": {
   "codemirror_mode": {
    "name": "ipython",
    "version": 3
   },
   "file_extension": ".py",
   "mimetype": "text/x-python",
   "name": "python",
   "nbconvert_exporter": "python",
   "pygments_lexer": "ipython3",
   "version": "3.10.12"
  },
  "papermill": {
   "default_parameters": {},
   "duration": 8758.898947,
   "end_time": "2023-10-26T15:58:42.676802",
   "environment_variables": {},
   "exception": null,
   "input_path": "__notebook__.ipynb",
   "output_path": "__notebook__.ipynb",
   "parameters": {},
   "start_time": "2023-10-26T13:32:43.777855",
   "version": "2.4.0"
  },
  "widgets": {
   "application/vnd.jupyter.widget-state+json": {
    "state": {
     "0680b3cde1974005b99b072ec26c5e2b": {
      "model_module": "@jupyter-widgets/controls",
      "model_module_version": "1.5.0",
      "model_name": "HTMLModel",
      "state": {
       "_dom_classes": [],
       "_model_module": "@jupyter-widgets/controls",
       "_model_module_version": "1.5.0",
       "_model_name": "HTMLModel",
       "_view_count": null,
       "_view_module": "@jupyter-widgets/controls",
       "_view_module_version": "1.5.0",
       "_view_name": "HTMLView",
       "description": "",
       "description_tooltip": null,
       "layout": "IPY_MODEL_e0ccf98a0dfc4496a14f4893bed63142",
       "placeholder": "​",
       "style": "IPY_MODEL_8cba271d50584251b6f5fde727c6f68f",
       "value": " 10/10 [2:12:46&lt;00:00, 789.24s/it]"
      }
     },
     "29d1d8d1ea0a49fdae161d83f52da38f": {
      "model_module": "@jupyter-widgets/controls",
      "model_module_version": "1.5.0",
      "model_name": "FloatProgressModel",
      "state": {
       "_dom_classes": [],
       "_model_module": "@jupyter-widgets/controls",
       "_model_module_version": "1.5.0",
       "_model_name": "FloatProgressModel",
       "_view_count": null,
       "_view_module": "@jupyter-widgets/controls",
       "_view_module_version": "1.5.0",
       "_view_name": "ProgressView",
       "bar_style": "success",
       "description": "",
       "description_tooltip": null,
       "layout": "IPY_MODEL_592918da37674ae8aac18d75290a0d8c",
       "max": 10.0,
       "min": 0.0,
       "orientation": "horizontal",
       "style": "IPY_MODEL_651c08fe70b74f2e9e26eeaf8370c72b",
       "value": 10.0
      }
     },
     "3eebbdf6b84a41b3b64361ca14acca0b": {
      "model_module": "@jupyter-widgets/controls",
      "model_module_version": "1.5.0",
      "model_name": "HTMLModel",
      "state": {
       "_dom_classes": [],
       "_model_module": "@jupyter-widgets/controls",
       "_model_module_version": "1.5.0",
       "_model_name": "HTMLModel",
       "_view_count": null,
       "_view_module": "@jupyter-widgets/controls",
       "_view_module_version": "1.5.0",
       "_view_name": "HTMLView",
       "description": "",
       "description_tooltip": null,
       "layout": "IPY_MODEL_a845ae0fe45d446ea07a9e124ef6ebf4",
       "placeholder": "​",
       "style": "IPY_MODEL_ee26d233cc7648f0b6b6499669a2d61e",
       "value": "Training: 100%"
      }
     },
     "592918da37674ae8aac18d75290a0d8c": {
      "model_module": "@jupyter-widgets/base",
      "model_module_version": "1.2.0",
      "model_name": "LayoutModel",
      "state": {
       "_model_module": "@jupyter-widgets/base",
       "_model_module_version": "1.2.0",
       "_model_name": "LayoutModel",
       "_view_count": null,
       "_view_module": "@jupyter-widgets/base",
       "_view_module_version": "1.2.0",
       "_view_name": "LayoutView",
       "align_content": null,
       "align_items": null,
       "align_self": null,
       "border": null,
       "bottom": null,
       "display": null,
       "flex": null,
       "flex_flow": null,
       "grid_area": null,
       "grid_auto_columns": null,
       "grid_auto_flow": null,
       "grid_auto_rows": null,
       "grid_column": null,
       "grid_gap": null,
       "grid_row": null,
       "grid_template_areas": null,
       "grid_template_columns": null,
       "grid_template_rows": null,
       "height": null,
       "justify_content": null,
       "justify_items": null,
       "left": null,
       "margin": null,
       "max_height": null,
       "max_width": null,
       "min_height": null,
       "min_width": null,
       "object_fit": null,
       "object_position": null,
       "order": null,
       "overflow": null,
       "overflow_x": null,
       "overflow_y": null,
       "padding": null,
       "right": null,
       "top": null,
       "visibility": null,
       "width": null
      }
     },
     "629c82a68dd94025b7505d7896cd2158": {
      "model_module": "@jupyter-widgets/controls",
      "model_module_version": "1.5.0",
      "model_name": "HBoxModel",
      "state": {
       "_dom_classes": [],
       "_model_module": "@jupyter-widgets/controls",
       "_model_module_version": "1.5.0",
       "_model_name": "HBoxModel",
       "_view_count": null,
       "_view_module": "@jupyter-widgets/controls",
       "_view_module_version": "1.5.0",
       "_view_name": "HBoxView",
       "box_style": "",
       "children": [
        "IPY_MODEL_3eebbdf6b84a41b3b64361ca14acca0b",
        "IPY_MODEL_29d1d8d1ea0a49fdae161d83f52da38f",
        "IPY_MODEL_0680b3cde1974005b99b072ec26c5e2b"
       ],
       "layout": "IPY_MODEL_8a2be15926c142f9a1b9309c5d3ccf01"
      }
     },
     "651c08fe70b74f2e9e26eeaf8370c72b": {
      "model_module": "@jupyter-widgets/controls",
      "model_module_version": "1.5.0",
      "model_name": "ProgressStyleModel",
      "state": {
       "_model_module": "@jupyter-widgets/controls",
       "_model_module_version": "1.5.0",
       "_model_name": "ProgressStyleModel",
       "_view_count": null,
       "_view_module": "@jupyter-widgets/base",
       "_view_module_version": "1.2.0",
       "_view_name": "StyleView",
       "bar_color": null,
       "description_width": ""
      }
     },
     "8a2be15926c142f9a1b9309c5d3ccf01": {
      "model_module": "@jupyter-widgets/base",
      "model_module_version": "1.2.0",
      "model_name": "LayoutModel",
      "state": {
       "_model_module": "@jupyter-widgets/base",
       "_model_module_version": "1.2.0",
       "_model_name": "LayoutModel",
       "_view_count": null,
       "_view_module": "@jupyter-widgets/base",
       "_view_module_version": "1.2.0",
       "_view_name": "LayoutView",
       "align_content": null,
       "align_items": null,
       "align_self": null,
       "border": null,
       "bottom": null,
       "display": null,
       "flex": null,
       "flex_flow": null,
       "grid_area": null,
       "grid_auto_columns": null,
       "grid_auto_flow": null,
       "grid_auto_rows": null,
       "grid_column": null,
       "grid_gap": null,
       "grid_row": null,
       "grid_template_areas": null,
       "grid_template_columns": null,
       "grid_template_rows": null,
       "height": null,
       "justify_content": null,
       "justify_items": null,
       "left": null,
       "margin": null,
       "max_height": null,
       "max_width": null,
       "min_height": null,
       "min_width": null,
       "object_fit": null,
       "object_position": null,
       "order": null,
       "overflow": null,
       "overflow_x": null,
       "overflow_y": null,
       "padding": null,
       "right": null,
       "top": null,
       "visibility": null,
       "width": null
      }
     },
     "8cba271d50584251b6f5fde727c6f68f": {
      "model_module": "@jupyter-widgets/controls",
      "model_module_version": "1.5.0",
      "model_name": "DescriptionStyleModel",
      "state": {
       "_model_module": "@jupyter-widgets/controls",
       "_model_module_version": "1.5.0",
       "_model_name": "DescriptionStyleModel",
       "_view_count": null,
       "_view_module": "@jupyter-widgets/base",
       "_view_module_version": "1.2.0",
       "_view_name": "StyleView",
       "description_width": ""
      }
     },
     "a845ae0fe45d446ea07a9e124ef6ebf4": {
      "model_module": "@jupyter-widgets/base",
      "model_module_version": "1.2.0",
      "model_name": "LayoutModel",
      "state": {
       "_model_module": "@jupyter-widgets/base",
       "_model_module_version": "1.2.0",
       "_model_name": "LayoutModel",
       "_view_count": null,
       "_view_module": "@jupyter-widgets/base",
       "_view_module_version": "1.2.0",
       "_view_name": "LayoutView",
       "align_content": null,
       "align_items": null,
       "align_self": null,
       "border": null,
       "bottom": null,
       "display": null,
       "flex": null,
       "flex_flow": null,
       "grid_area": null,
       "grid_auto_columns": null,
       "grid_auto_flow": null,
       "grid_auto_rows": null,
       "grid_column": null,
       "grid_gap": null,
       "grid_row": null,
       "grid_template_areas": null,
       "grid_template_columns": null,
       "grid_template_rows": null,
       "height": null,
       "justify_content": null,
       "justify_items": null,
       "left": null,
       "margin": null,
       "max_height": null,
       "max_width": null,
       "min_height": null,
       "min_width": null,
       "object_fit": null,
       "object_position": null,
       "order": null,
       "overflow": null,
       "overflow_x": null,
       "overflow_y": null,
       "padding": null,
       "right": null,
       "top": null,
       "visibility": null,
       "width": null
      }
     },
     "e0ccf98a0dfc4496a14f4893bed63142": {
      "model_module": "@jupyter-widgets/base",
      "model_module_version": "1.2.0",
      "model_name": "LayoutModel",
      "state": {
       "_model_module": "@jupyter-widgets/base",
       "_model_module_version": "1.2.0",
       "_model_name": "LayoutModel",
       "_view_count": null,
       "_view_module": "@jupyter-widgets/base",
       "_view_module_version": "1.2.0",
       "_view_name": "LayoutView",
       "align_content": null,
       "align_items": null,
       "align_self": null,
       "border": null,
       "bottom": null,
       "display": null,
       "flex": null,
       "flex_flow": null,
       "grid_area": null,
       "grid_auto_columns": null,
       "grid_auto_flow": null,
       "grid_auto_rows": null,
       "grid_column": null,
       "grid_gap": null,
       "grid_row": null,
       "grid_template_areas": null,
       "grid_template_columns": null,
       "grid_template_rows": null,
       "height": null,
       "justify_content": null,
       "justify_items": null,
       "left": null,
       "margin": null,
       "max_height": null,
       "max_width": null,
       "min_height": null,
       "min_width": null,
       "object_fit": null,
       "object_position": null,
       "order": null,
       "overflow": null,
       "overflow_x": null,
       "overflow_y": null,
       "padding": null,
       "right": null,
       "top": null,
       "visibility": null,
       "width": null
      }
     },
     "ee26d233cc7648f0b6b6499669a2d61e": {
      "model_module": "@jupyter-widgets/controls",
      "model_module_version": "1.5.0",
      "model_name": "DescriptionStyleModel",
      "state": {
       "_model_module": "@jupyter-widgets/controls",
       "_model_module_version": "1.5.0",
       "_model_name": "DescriptionStyleModel",
       "_view_count": null,
       "_view_module": "@jupyter-widgets/base",
       "_view_module_version": "1.2.0",
       "_view_name": "StyleView",
       "description_width": ""
      }
     }
    },
    "version_major": 2,
    "version_minor": 0
   }
  }
 },
 "nbformat": 4,
 "nbformat_minor": 5
}
