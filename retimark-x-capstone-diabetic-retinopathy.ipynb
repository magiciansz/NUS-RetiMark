{
 "cells": [
  {
   "cell_type": "markdown",
   "id": "972e030e",
   "metadata": {
    "papermill": {
     "duration": 0.006801,
     "end_time": "2023-10-27T01:59:28.894179",
     "exception": false,
     "start_time": "2023-10-27T01:59:28.887378",
     "status": "completed"
    },
    "tags": []
   },
   "source": [
    "# Install Dependencies"
   ]
  },
  {
   "cell_type": "code",
   "execution_count": 1,
   "id": "78c99c96",
   "metadata": {
    "execution": {
     "iopub.execute_input": "2023-10-27T01:59:28.909257Z",
     "iopub.status.busy": "2023-10-27T01:59:28.908972Z",
     "iopub.status.idle": "2023-10-27T01:59:41.907411Z",
     "shell.execute_reply": "2023-10-27T01:59:41.906420Z"
    },
    "papermill": {
     "duration": 13.00825,
     "end_time": "2023-10-27T01:59:41.909780",
     "exception": false,
     "start_time": "2023-10-27T01:59:28.901530",
     "status": "completed"
    },
    "tags": []
   },
   "outputs": [
    {
     "name": "stdout",
     "output_type": "stream",
     "text": [
      "Collecting torch_summary\r\n",
      "  Downloading torch_summary-1.4.5-py3-none-any.whl (16 kB)\r\n",
      "Installing collected packages: torch_summary\r\n",
      "Successfully installed torch_summary-1.4.5\r\n"
     ]
    }
   ],
   "source": [
    "!pip install torch_summary"
   ]
  },
  {
   "cell_type": "markdown",
   "id": "113c7827",
   "metadata": {
    "papermill": {
     "duration": 0.007224,
     "end_time": "2023-10-27T01:59:41.924425",
     "exception": false,
     "start_time": "2023-10-27T01:59:41.917201",
     "status": "completed"
    },
    "tags": []
   },
   "source": [
    "# Import Libraries"
   ]
  },
  {
   "cell_type": "code",
   "execution_count": 2,
   "id": "23db77ae",
   "metadata": {
    "_cell_guid": "b1076dfc-b9ad-4769-8c92-a6c4dae69d19",
    "_uuid": "8f2839f25d086af736a60e9eeb907d3b93b6e0e5",
    "execution": {
     "iopub.execute_input": "2023-10-27T01:59:41.939887Z",
     "iopub.status.busy": "2023-10-27T01:59:41.939511Z",
     "iopub.status.idle": "2023-10-27T01:59:47.785851Z",
     "shell.execute_reply": "2023-10-27T01:59:47.785013Z"
    },
    "papermill": {
     "duration": 5.856833,
     "end_time": "2023-10-27T01:59:47.788259",
     "exception": false,
     "start_time": "2023-10-27T01:59:41.931426",
     "status": "completed"
    },
    "tags": []
   },
   "outputs": [
    {
     "name": "stderr",
     "output_type": "stream",
     "text": [
      "/opt/conda/lib/python3.10/site-packages/scipy/__init__.py:146: UserWarning: A NumPy version >=1.16.5 and <1.23.0 is required for this version of SciPy (detected version 1.23.5\n",
      "  warnings.warn(f\"A NumPy version >={np_minversion} and <{np_maxversion}\"\n"
     ]
    }
   ],
   "source": [
    "import torch\n",
    "import torch.nn.functional as F\n",
    "from torch import nn, optim\n",
    "from torchvision import transforms as T, models\n",
    "from torch.utils.data import DataLoader, Dataset\n",
    "from torchsummary import summary\n",
    "from tqdm.notebook import tqdm \n",
    "import zipfile\n",
    "\n",
    "from sklearn.metrics import classification_report, recall_score\n",
    "from sklearn.model_selection import train_test_split\n",
    "import seaborn as sns\n",
    "from PIL import Image\n",
    "import matplotlib.pyplot as plt\n",
    "from random import shuffle, randint, choice\n",
    "import numpy as np\n",
    "import cv2 as cv\n",
    "from glob import glob\n",
    "import pandas as pd\n",
    "import requests\n",
    "import concurrent.futures\n",
    "import gc"
   ]
  },
  {
   "cell_type": "code",
   "execution_count": 3,
   "id": "ba2b9466",
   "metadata": {
    "execution": {
     "iopub.execute_input": "2023-10-27T01:59:47.804348Z",
     "iopub.status.busy": "2023-10-27T01:59:47.803879Z",
     "iopub.status.idle": "2023-10-27T01:59:48.906966Z",
     "shell.execute_reply": "2023-10-27T01:59:48.905608Z"
    },
    "papermill": {
     "duration": 1.114398,
     "end_time": "2023-10-27T01:59:48.910093",
     "exception": false,
     "start_time": "2023-10-27T01:59:47.795695",
     "status": "completed"
    },
    "tags": []
   },
   "outputs": [],
   "source": [
    "!mkdir saved_model\n",
    "sns.set_theme()\n",
    "device = 'cuda' if torch.cuda.is_available() else 'cpu'"
   ]
  },
  {
   "cell_type": "markdown",
   "id": "272157ab",
   "metadata": {
    "papermill": {
     "duration": 0.009008,
     "end_time": "2023-10-27T01:59:48.927574",
     "exception": false,
     "start_time": "2023-10-27T01:59:48.918566",
     "status": "completed"
    },
    "tags": []
   },
   "source": [
    "## Dataset"
   ]
  },
  {
   "cell_type": "code",
   "execution_count": 4,
   "id": "5853d6ef",
   "metadata": {
    "execution": {
     "iopub.execute_input": "2023-10-27T01:59:48.945559Z",
     "iopub.status.busy": "2023-10-27T01:59:48.944487Z",
     "iopub.status.idle": "2023-10-27T01:59:49.016166Z",
     "shell.execute_reply": "2023-10-27T01:59:49.015057Z"
    },
    "papermill": {
     "duration": 0.083991,
     "end_time": "2023-10-27T01:59:49.018632",
     "exception": false,
     "start_time": "2023-10-27T01:59:48.934641",
     "status": "completed"
    },
    "tags": []
   },
   "outputs": [
    {
     "data": {
      "text/html": [
       "<div>\n",
       "<style scoped>\n",
       "    .dataframe tbody tr th:only-of-type {\n",
       "        vertical-align: middle;\n",
       "    }\n",
       "\n",
       "    .dataframe tbody tr th {\n",
       "        vertical-align: top;\n",
       "    }\n",
       "\n",
       "    .dataframe thead th {\n",
       "        text-align: right;\n",
       "    }\n",
       "</style>\n",
       "<table border=\"1\" class=\"dataframe\">\n",
       "  <thead>\n",
       "    <tr style=\"text-align: right;\">\n",
       "      <th></th>\n",
       "      <th>image</th>\n",
       "      <th>level</th>\n",
       "    </tr>\n",
       "  </thead>\n",
       "  <tbody>\n",
       "    <tr>\n",
       "      <th>0</th>\n",
       "      <td>10_left</td>\n",
       "      <td>0</td>\n",
       "    </tr>\n",
       "    <tr>\n",
       "      <th>1</th>\n",
       "      <td>10_right</td>\n",
       "      <td>0</td>\n",
       "    </tr>\n",
       "    <tr>\n",
       "      <th>2</th>\n",
       "      <td>13_left</td>\n",
       "      <td>0</td>\n",
       "    </tr>\n",
       "    <tr>\n",
       "      <th>3</th>\n",
       "      <td>13_right</td>\n",
       "      <td>0</td>\n",
       "    </tr>\n",
       "    <tr>\n",
       "      <th>4</th>\n",
       "      <td>15_left</td>\n",
       "      <td>1</td>\n",
       "    </tr>\n",
       "  </tbody>\n",
       "</table>\n",
       "</div>"
      ],
      "text/plain": [
       "      image  level\n",
       "0   10_left      0\n",
       "1  10_right      0\n",
       "2   13_left      0\n",
       "3  13_right      0\n",
       "4   15_left      1"
      ]
     },
     "execution_count": 4,
     "metadata": {},
     "output_type": "execute_result"
    }
   ],
   "source": [
    "DIR = '/kaggle/input/diabetic-retinopathy-detection'\n",
    "\n",
    "with zipfile.ZipFile(f'{DIR}/trainLabels.csv.zip', 'r') as zip_ref:\n",
    "    with zip_ref.open('trainLabels.csv') as csv_file:\n",
    "        trainLabels_df = pd.read_csv(csv_file, index_col=0).reset_index()\n",
    "\n",
    "trainLabels_df.head()"
   ]
  },
  {
   "cell_type": "code",
   "execution_count": 5,
   "id": "b3d53fdc",
   "metadata": {
    "execution": {
     "iopub.execute_input": "2023-10-27T01:59:49.035423Z",
     "iopub.status.busy": "2023-10-27T01:59:49.034551Z",
     "iopub.status.idle": "2023-10-27T01:59:49.047712Z",
     "shell.execute_reply": "2023-10-27T01:59:49.046842Z"
    },
    "papermill": {
     "duration": 0.023507,
     "end_time": "2023-10-27T01:59:49.050042",
     "exception": false,
     "start_time": "2023-10-27T01:59:49.026535",
     "status": "completed"
    },
    "tags": []
   },
   "outputs": [
    {
     "name": "stdout",
     "output_type": "stream",
     "text": [
      "Total: 35126\n",
      "Stage 0: 25810\n",
      "Stage 1: 2443\n",
      "Stage 2: 5292\n",
      "Stage 3: 873\n",
      "Stage 4: 708\n"
     ]
    }
   ],
   "source": [
    "print(\"Total:\", len(trainLabels_df))\n",
    "print(\"Stage 0:\", len(trainLabels_df[trainLabels_df[\"level\"]==0]))\n",
    "print(\"Stage 1:\", len(trainLabels_df[trainLabels_df[\"level\"]==1]))\n",
    "print(\"Stage 2:\", len(trainLabels_df[trainLabels_df[\"level\"]==2]))\n",
    "print(\"Stage 3:\", len(trainLabels_df[trainLabels_df[\"level\"]==3]))\n",
    "print(\"Stage 4:\", len(trainLabels_df[trainLabels_df[\"level\"]==4]))"
   ]
  },
  {
   "cell_type": "code",
   "execution_count": 6,
   "id": "c30d8647",
   "metadata": {
    "execution": {
     "iopub.execute_input": "2023-10-27T01:59:49.070689Z",
     "iopub.status.busy": "2023-10-27T01:59:49.070079Z",
     "iopub.status.idle": "2023-10-27T01:59:49.093663Z",
     "shell.execute_reply": "2023-10-27T01:59:49.092856Z"
    },
    "papermill": {
     "duration": 0.035608,
     "end_time": "2023-10-27T01:59:49.095621",
     "exception": false,
     "start_time": "2023-10-27T01:59:49.060013",
     "status": "completed"
    },
    "tags": []
   },
   "outputs": [],
   "source": [
    "stage_0_df = trainLabels_df[trainLabels_df[\"level\"]==0].sample(500)\n",
    "stage_1_df = trainLabels_df[trainLabels_df[\"level\"]==1].sample(500)\n",
    "stage_2_df = trainLabels_df[trainLabels_df[\"level\"]==2].sample(500)\n",
    "stage_3_df = trainLabels_df[trainLabels_df[\"level\"]==3].sample(500)\n",
    "stage_4_df = trainLabels_df[trainLabels_df[\"level\"]==4].sample(500)\n",
    "\n",
    "stage_0_train, stage_0_valid = train_test_split(stage_0_df, test_size=0.2, random_state=42)\n",
    "stage_1_train, stage_1_valid = train_test_split(stage_1_df, test_size=0.2, random_state=42)\n",
    "stage_2_train, stage_2_valid = train_test_split(stage_2_df, test_size=0.2, random_state=42)\n",
    "stage_3_train, stage_3_valid = train_test_split(stage_3_df, test_size=0.2, random_state=42)\n",
    "stage_4_train, stage_4_valid = train_test_split(stage_4_df, test_size=0.2, random_state=42)\n",
    "\n",
    "train_df = pd.concat([stage_0_train, stage_1_train, stage_2_train, stage_3_train, stage_4_train]).sample(frac=1).reset_index()\n",
    "valid_df = pd.concat([stage_0_valid, stage_1_valid, stage_2_valid, stage_3_valid, stage_4_valid]).sample(frac=1).reset_index()\n",
    "# train_df = pd.concat([stage_0_train, stage_1_train, stage_2_train, stage_3_train, stage_4_train]).sample(64)\n",
    "# valid_df = pd.concat([stage_0_valid, stage_1_valid, stage_2_valid, stage_3_valid, stage_4_valid]).sample(64)"
   ]
  },
  {
   "cell_type": "code",
   "execution_count": 7,
   "id": "c11c32e0",
   "metadata": {
    "execution": {
     "iopub.execute_input": "2023-10-27T01:59:49.111481Z",
     "iopub.status.busy": "2023-10-27T01:59:49.111232Z",
     "iopub.status.idle": "2023-10-27T01:59:49.117653Z",
     "shell.execute_reply": "2023-10-27T01:59:49.116728Z"
    },
    "papermill": {
     "duration": 0.01654,
     "end_time": "2023-10-27T01:59:49.119568",
     "exception": false,
     "start_time": "2023-10-27T01:59:49.103028",
     "status": "completed"
    },
    "tags": []
   },
   "outputs": [],
   "source": [
    "def download_image(index, image_name, df, count, total):\n",
    "    filepath = f\"https://diabetic-retinopathy-images.s3.ap-southeast-1.amazonaws.com/images/{image_name}.jpeg\" \n",
    "    response = requests.get(filepath)\n",
    "    print(count, \"/\", total, response.reason, image_name, end=\"\\r\")\n",
    "    if response.status_code != 200:\n",
    "        df.drop(index, inplace=True)\n",
    "        return None\n",
    "    image_data = response.content\n",
    "    nparr = np.frombuffer(image_data, np.uint8)\n",
    "    image = cv.imdecode(nparr, cv.IMREAD_COLOR)\n",
    "    image = cv.cvtColor(image, cv.COLOR_BGR2GRAY)\n",
    "    df.at[index, 'imagefile'] = image"
   ]
  },
  {
   "cell_type": "code",
   "execution_count": 8,
   "id": "f5e99ead",
   "metadata": {
    "execution": {
     "iopub.execute_input": "2023-10-27T01:59:49.134916Z",
     "iopub.status.busy": "2023-10-27T01:59:49.134650Z",
     "iopub.status.idle": "2023-10-27T02:09:49.320584Z",
     "shell.execute_reply": "2023-10-27T02:09:49.319536Z"
    },
    "papermill": {
     "duration": 600.196149,
     "end_time": "2023-10-27T02:09:49.322930",
     "exception": false,
     "start_time": "2023-10-27T01:59:49.126781",
     "status": "completed"
    },
    "tags": []
   },
   "outputs": [
    {
     "name": "stdout",
     "output_type": "stream",
     "text": [
      "Done!\n"
     ]
    }
   ],
   "source": [
    "train_df['imagefile'] = None\n",
    "total = len(train_df)\n",
    "count = 1\n",
    "\n",
    "for start in range(0, total, 1000):\n",
    "    end = min(start + 1000, total)\n",
    "\n",
    "    with concurrent.futures.ThreadPoolExecutor() as executor:\n",
    "        futures = []\n",
    "        for index, row in train_df[start:end].iterrows():\n",
    "            image_name = row['image']\n",
    "            future = executor.submit(download_image, index, image_name, train_df, count, total)\n",
    "            futures.append(future)\n",
    "            count += 1\n",
    "        concurrent.futures.wait(futures)\n",
    "    \n",
    "print(\"Done!\")"
   ]
  },
  {
   "cell_type": "code",
   "execution_count": 9,
   "id": "9c98ce6f",
   "metadata": {
    "execution": {
     "iopub.execute_input": "2023-10-27T02:09:49.531681Z",
     "iopub.status.busy": "2023-10-27T02:09:49.531311Z",
     "iopub.status.idle": "2023-10-27T02:12:24.810823Z",
     "shell.execute_reply": "2023-10-27T02:12:24.809453Z"
    },
    "papermill": {
     "duration": 155.387372,
     "end_time": "2023-10-27T02:12:24.813179",
     "exception": false,
     "start_time": "2023-10-27T02:09:49.425807",
     "status": "completed"
    },
    "tags": []
   },
   "outputs": [
    {
     "name": "stdout",
     "output_type": "stream",
     "text": [
      "Done!\n"
     ]
    }
   ],
   "source": [
    "valid_df['imagefile'] = None\n",
    "total = len(valid_df)\n",
    "count = 1\n",
    "\n",
    "for start in range(0, total, 1000):\n",
    "    end = min(start + 1000, total)\n",
    "\n",
    "    with concurrent.futures.ThreadPoolExecutor() as executor:\n",
    "        futures = []\n",
    "        for index, row in valid_df[start:end].iterrows():\n",
    "            image_name = row['image']\n",
    "            future = executor.submit(download_image, index, image_name, valid_df, count, total)\n",
    "            futures.append(future)\n",
    "            count += 1\n",
    "        concurrent.futures.wait(futures)\n",
    "\n",
    "print(\"Done!\")"
   ]
  },
  {
   "cell_type": "code",
   "execution_count": 10,
   "id": "b548cf2b",
   "metadata": {
    "execution": {
     "iopub.execute_input": "2023-10-27T02:12:25.058563Z",
     "iopub.status.busy": "2023-10-27T02:12:25.058201Z",
     "iopub.status.idle": "2023-10-27T02:12:25.070380Z",
     "shell.execute_reply": "2023-10-27T02:12:25.069640Z"
    },
    "papermill": {
     "duration": 0.135441,
     "end_time": "2023-10-27T02:12:25.072229",
     "exception": false,
     "start_time": "2023-10-27T02:12:24.936788",
     "status": "completed"
    },
    "tags": []
   },
   "outputs": [],
   "source": [
    "class EyeDataset(Dataset):\n",
    "    def __init__(self, df, data_transform = None):\n",
    "        self.df = df\n",
    "        self.data_transform = data_transform\n",
    "        self.transform = T.Compose([\n",
    "            T.Resize([224, 224]),\n",
    "            T.ToTensor(),\n",
    "            T.Normalize((0.485, 0.456, 0.406),\n",
    "                       (0.229, 0.224, 0.225))\n",
    "        ])\n",
    "    \n",
    "    def __len__(self):\n",
    "        return len(self.df)\n",
    "    \n",
    "    def __getitem__(self, idx):\n",
    "        image = self.df.iloc[idx]['imagefile']\n",
    "        _, thresholded = cv.threshold(image, 0, 255, cv.THRESH_OTSU)\n",
    "        x, y, w, h = cv.boundingRect(thresholded)\n",
    "        cropped_image = cv.cvtColor(image[y:y+h, x:x+w], cv.COLOR_GRAY2RGB)\n",
    "        cropped_image = Image.fromarray(cropped_image)\n",
    "        target = self.df.iloc[idx]['level']\n",
    "        \n",
    "        if self.data_transform is not None:\n",
    "            cropped_image = self.data_transform(cropped_image)\n",
    "        \n",
    "        return cropped_image, target\n",
    "    \n",
    "    def transform_img(self, img):\n",
    "        return self.transform(img)\n",
    "    \n",
    "    def collate_fn(self, data):\n",
    "        imgs, targets = zip(*data)\n",
    "        targets = torch.tensor(targets)\n",
    "        targets = targets.view(-1, 1).float()\n",
    "        targets = targets.squeeze().long()\n",
    "        targets = targets.to(device)\n",
    "        imgs = torch.stack(\n",
    "            [self.transform_img(img) for img in imgs], 0\n",
    "        ).to(device)\n",
    "        return imgs, targets"
   ]
  },
  {
   "cell_type": "code",
   "execution_count": 11,
   "id": "57cb4229",
   "metadata": {
    "execution": {
     "iopub.execute_input": "2023-10-27T02:12:25.363952Z",
     "iopub.status.busy": "2023-10-27T02:12:25.363570Z",
     "iopub.status.idle": "2023-10-27T02:12:25.369553Z",
     "shell.execute_reply": "2023-10-27T02:12:25.368810Z"
    },
    "papermill": {
     "duration": 0.178005,
     "end_time": "2023-10-27T02:12:25.371431",
     "exception": false,
     "start_time": "2023-10-27T02:12:25.193426",
     "status": "completed"
    },
    "tags": []
   },
   "outputs": [],
   "source": [
    "data_transforms = T.Compose([\n",
    "    T.RandomHorizontalFlip(),\n",
    "    T.RandomRotation(15),\n",
    "    T.ColorJitter(brightness=0.2, contrast=0.2, saturation=0.2, hue=0.1),\n",
    "    T.RandomResizedCrop(224, scale=(0.8, 1.0)),\n",
    "    T.RandomAffine(degrees=0, translate=(0.1, 0.1))\n",
    "])"
   ]
  },
  {
   "cell_type": "code",
   "execution_count": 12,
   "id": "61eab822",
   "metadata": {
    "execution": {
     "iopub.execute_input": "2023-10-27T02:12:25.618067Z",
     "iopub.status.busy": "2023-10-27T02:12:25.617216Z",
     "iopub.status.idle": "2023-10-27T02:12:25.623643Z",
     "shell.execute_reply": "2023-10-27T02:12:25.622687Z"
    },
    "papermill": {
     "duration": 0.133192,
     "end_time": "2023-10-27T02:12:25.625535",
     "exception": false,
     "start_time": "2023-10-27T02:12:25.492343",
     "status": "completed"
    },
    "tags": []
   },
   "outputs": [],
   "source": [
    "train_ds = EyeDataset(train_df, data_transform=data_transforms)\n",
    "train_dl = DataLoader(train_ds, batch_size=32, shuffle=True,\n",
    "                      collate_fn=train_ds.collate_fn)\n",
    "\n",
    "valid_ds = EyeDataset(valid_df)\n",
    "valid_dl = DataLoader(valid_ds, batch_size=32,\n",
    "                      collate_fn=valid_ds.collate_fn)"
   ]
  },
  {
   "cell_type": "code",
   "execution_count": 13,
   "id": "daf97a11",
   "metadata": {
    "execution": {
     "iopub.execute_input": "2023-10-27T02:12:25.872778Z",
     "iopub.status.busy": "2023-10-27T02:12:25.871903Z",
     "iopub.status.idle": "2023-10-27T02:12:25.881900Z",
     "shell.execute_reply": "2023-10-27T02:12:25.881164Z"
    },
    "papermill": {
     "duration": 0.135044,
     "end_time": "2023-10-27T02:12:25.883968",
     "exception": false,
     "start_time": "2023-10-27T02:12:25.748924",
     "status": "completed"
    },
    "tags": []
   },
   "outputs": [],
   "source": [
    "class EyeClassifier(nn.Module):\n",
    "    def __init__(self, pretrained=True):\n",
    "        super().__init__()\n",
    "        \n",
    "#         self.model = models.resnet34(pretrained=pretrained, progress=pretrained)\n",
    "        self.model = models.vgg19(pretrained=pretrained, progress=pretrained)\n",
    "    \n",
    "        for param in self.model.parameters():\n",
    "            param.requires_grad = True\n",
    "        \n",
    "#         num_features = self.model.fc.in_features\n",
    "        num_features = self.model.classifier[0].in_features\n",
    "    \n",
    "        self.model.fc = nn.Sequential(\n",
    "            nn.Flatten(),\n",
    "            nn.BatchNorm1d(num_features),\n",
    "            nn.Dropout(0.5),\n",
    "            nn.Linear(num_features, 64),\n",
    "            nn.BatchNorm1d(64),\n",
    "            nn.ReLU(),\n",
    "            nn.Dropout(0.5),\n",
    "            nn.Linear(64, 128),\n",
    "            nn.BatchNorm1d(128),\n",
    "            nn.ReLU(),\n",
    "            nn.Dropout(0.5),\n",
    "            nn.Linear(128, 256),\n",
    "            nn.BatchNorm1d(256),\n",
    "            nn.ReLU(),\n",
    "            nn.Dropout(0.5),\n",
    "            nn.Linear(256, 64),\n",
    "            nn.BatchNorm1d(64),\n",
    "            nn.ReLU(),\n",
    "            nn.Dropout(0.5),\n",
    "            nn.Linear(64, 32),\n",
    "            nn.BatchNorm1d(32),\n",
    "            nn.ReLU(),\n",
    "            nn.Dropout(0.5),\n",
    "            nn.Linear(32, 5),\n",
    "            nn.LogSoftmax(dim=1)\n",
    "        )\n",
    "        \n",
    "\n",
    "    def forward(self, x):\n",
    "        x = self.model(x)\n",
    "        return x"
   ]
  },
  {
   "cell_type": "code",
   "execution_count": 14,
   "id": "d1753061",
   "metadata": {
    "execution": {
     "iopub.execute_input": "2023-10-27T02:12:26.127423Z",
     "iopub.status.busy": "2023-10-27T02:12:26.127106Z",
     "iopub.status.idle": "2023-10-27T02:12:39.697113Z",
     "shell.execute_reply": "2023-10-27T02:12:39.696004Z"
    },
    "papermill": {
     "duration": 13.69373,
     "end_time": "2023-10-27T02:12:39.699732",
     "exception": false,
     "start_time": "2023-10-27T02:12:26.006002",
     "status": "completed"
    },
    "tags": []
   },
   "outputs": [
    {
     "name": "stderr",
     "output_type": "stream",
     "text": [
      "/opt/conda/lib/python3.10/site-packages/torchvision/models/_utils.py:208: UserWarning: The parameter 'pretrained' is deprecated since 0.13 and may be removed in the future, please use 'weights' instead.\n",
      "  warnings.warn(\n",
      "/opt/conda/lib/python3.10/site-packages/torchvision/models/_utils.py:223: UserWarning: Arguments other than a weight enum or `None` for 'weights' are deprecated since 0.13 and may be removed in the future. The current behavior is equivalent to passing `weights=VGG19_Weights.IMAGENET1K_V1`. You can also use `weights=VGG19_Weights.DEFAULT` to get the most up-to-date weights.\n",
      "  warnings.warn(msg)\n",
      "Downloading: \"https://download.pytorch.org/models/vgg19-dcbb9e9d.pth\" to /root/.cache/torch/hub/checkpoints/vgg19-dcbb9e9d.pth\n",
      "100%|██████████| 548M/548M [00:02<00:00, 259MB/s]\n"
     ]
    },
    {
     "name": "stdout",
     "output_type": "stream",
     "text": [
      "==========================================================================================\n",
      "Layer (type:depth-idx)                   Output Shape              Param #\n",
      "==========================================================================================\n",
      "├─VGG: 1-1                               [-1, 1000]                --\n",
      "|    └─Sequential: 2-1                   [-1, 512, 7, 7]           --\n",
      "|    |    └─Conv2d: 3-1                  [-1, 64, 224, 224]        1,792\n",
      "|    |    └─ReLU: 3-2                    [-1, 64, 224, 224]        --\n",
      "|    |    └─Conv2d: 3-3                  [-1, 64, 224, 224]        36,928\n",
      "|    |    └─ReLU: 3-4                    [-1, 64, 224, 224]        --\n",
      "|    |    └─MaxPool2d: 3-5               [-1, 64, 112, 112]        --\n",
      "|    |    └─Conv2d: 3-6                  [-1, 128, 112, 112]       73,856\n",
      "|    |    └─ReLU: 3-7                    [-1, 128, 112, 112]       --\n",
      "|    |    └─Conv2d: 3-8                  [-1, 128, 112, 112]       147,584\n",
      "|    |    └─ReLU: 3-9                    [-1, 128, 112, 112]       --\n",
      "|    |    └─MaxPool2d: 3-10              [-1, 128, 56, 56]         --\n",
      "|    |    └─Conv2d: 3-11                 [-1, 256, 56, 56]         295,168\n",
      "|    |    └─ReLU: 3-12                   [-1, 256, 56, 56]         --\n",
      "|    |    └─Conv2d: 3-13                 [-1, 256, 56, 56]         590,080\n",
      "|    |    └─ReLU: 3-14                   [-1, 256, 56, 56]         --\n",
      "|    |    └─Conv2d: 3-15                 [-1, 256, 56, 56]         590,080\n",
      "|    |    └─ReLU: 3-16                   [-1, 256, 56, 56]         --\n",
      "|    |    └─Conv2d: 3-17                 [-1, 256, 56, 56]         590,080\n",
      "|    |    └─ReLU: 3-18                   [-1, 256, 56, 56]         --\n",
      "|    |    └─MaxPool2d: 3-19              [-1, 256, 28, 28]         --\n",
      "|    |    └─Conv2d: 3-20                 [-1, 512, 28, 28]         1,180,160\n",
      "|    |    └─ReLU: 3-21                   [-1, 512, 28, 28]         --\n",
      "|    |    └─Conv2d: 3-22                 [-1, 512, 28, 28]         2,359,808\n",
      "|    |    └─ReLU: 3-23                   [-1, 512, 28, 28]         --\n",
      "|    |    └─Conv2d: 3-24                 [-1, 512, 28, 28]         2,359,808\n",
      "|    |    └─ReLU: 3-25                   [-1, 512, 28, 28]         --\n",
      "|    |    └─Conv2d: 3-26                 [-1, 512, 28, 28]         2,359,808\n",
      "|    |    └─ReLU: 3-27                   [-1, 512, 28, 28]         --\n",
      "|    |    └─MaxPool2d: 3-28              [-1, 512, 14, 14]         --\n",
      "|    |    └─Conv2d: 3-29                 [-1, 512, 14, 14]         2,359,808\n",
      "|    |    └─ReLU: 3-30                   [-1, 512, 14, 14]         --\n",
      "|    |    └─Conv2d: 3-31                 [-1, 512, 14, 14]         2,359,808\n",
      "|    |    └─ReLU: 3-32                   [-1, 512, 14, 14]         --\n",
      "|    |    └─Conv2d: 3-33                 [-1, 512, 14, 14]         2,359,808\n",
      "|    |    └─ReLU: 3-34                   [-1, 512, 14, 14]         --\n",
      "|    |    └─Conv2d: 3-35                 [-1, 512, 14, 14]         2,359,808\n",
      "|    |    └─ReLU: 3-36                   [-1, 512, 14, 14]         --\n",
      "|    |    └─MaxPool2d: 3-37              [-1, 512, 7, 7]           --\n",
      "|    └─AdaptiveAvgPool2d: 2-2            [-1, 512, 7, 7]           --\n",
      "|    └─Sequential: 2-3                   [-1, 1000]                --\n",
      "|    |    └─Linear: 3-38                 [-1, 4096]                102,764,544\n",
      "|    |    └─ReLU: 3-39                   [-1, 4096]                --\n",
      "|    |    └─Dropout: 3-40                [-1, 4096]                --\n",
      "|    |    └─Linear: 3-41                 [-1, 4096]                16,781,312\n",
      "|    |    └─ReLU: 3-42                   [-1, 4096]                --\n",
      "|    |    └─Dropout: 3-43                [-1, 4096]                --\n",
      "|    |    └─Linear: 3-44                 [-1, 1000]                4,097,000\n",
      "==========================================================================================\n",
      "Total params: 143,667,240\n",
      "Trainable params: 143,667,240\n",
      "Non-trainable params: 0\n",
      "Total mult-adds (G): 19.92\n",
      "==========================================================================================\n",
      "Input size (MB): 0.57\n",
      "Forward/backward pass size (MB): 113.38\n",
      "Params size (MB): 548.05\n",
      "Estimated Total Size (MB): 662.00\n",
      "==========================================================================================\n"
     ]
    }
   ],
   "source": [
    "classifier = EyeClassifier(pretrained=True)\n",
    "_ = summary(classifier, torch.ones(1,3,224,224))"
   ]
  },
  {
   "cell_type": "code",
   "execution_count": 15,
   "id": "048eb43e",
   "metadata": {
    "execution": {
     "iopub.execute_input": "2023-10-27T02:12:39.954796Z",
     "iopub.status.busy": "2023-10-27T02:12:39.953854Z",
     "iopub.status.idle": "2023-10-27T02:12:39.962234Z",
     "shell.execute_reply": "2023-10-27T02:12:39.961241Z"
    },
    "papermill": {
     "duration": 0.140513,
     "end_time": "2023-10-27T02:12:39.964328",
     "exception": false,
     "start_time": "2023-10-27T02:12:39.823815",
     "status": "completed"
    },
    "tags": []
   },
   "outputs": [],
   "source": [
    "def train(data, classifier, optimizer, loss_fn):\n",
    "    classifier.train()\n",
    "    imgs, targets = data\n",
    "    outputs = classifier(imgs.to(device))\n",
    "    loss = loss_fn(outputs.to(device), targets.to(device))\n",
    "    optimizer.zero_grad()\n",
    "    loss.backward()\n",
    "    optimizer.step()\n",
    "    \n",
    "    outputs = torch.tensor(outputs.cpu().detach().tolist())\n",
    "    targets = targets.cpu().detach().tolist()\n",
    "    probs = torch.softmax(outputs, dim=1)\n",
    "    preds = torch.argmax(probs, dim=1).cpu().detach().tolist()\n",
    "    fake_recall_score = recall_score(targets, preds,\n",
    "                               zero_division=0,\n",
    "                               average='macro')\n",
    "    \n",
    "    return loss.cpu().detach().item(), fake_recall_score"
   ]
  },
  {
   "cell_type": "code",
   "execution_count": 16,
   "id": "673144fd",
   "metadata": {
    "execution": {
     "iopub.execute_input": "2023-10-27T02:12:40.245716Z",
     "iopub.status.busy": "2023-10-27T02:12:40.244475Z",
     "iopub.status.idle": "2023-10-27T02:12:40.252909Z",
     "shell.execute_reply": "2023-10-27T02:12:40.252071Z"
    },
    "papermill": {
     "duration": 0.153187,
     "end_time": "2023-10-27T02:12:40.254879",
     "exception": false,
     "start_time": "2023-10-27T02:12:40.101692",
     "status": "completed"
    },
    "tags": []
   },
   "outputs": [],
   "source": [
    "@torch.no_grad()\n",
    "def validate(data, classifier, loss_fn):\n",
    "    classifier.eval()\n",
    "    imgs, targets = data\n",
    "    outputs = classifier(imgs.to(device))\n",
    "    loss = loss_fn(outputs.to(device), targets.to(device))\n",
    "    \n",
    "    outputs = torch.tensor(outputs.cpu().detach().tolist())\n",
    "    targets = targets.cpu().detach().tolist()\n",
    "    probs = torch.softmax(outputs, dim=1)\n",
    "    preds = torch.argmax(probs, dim=1).cpu().detach().tolist()\n",
    "    fake_recall_score = recall_score(targets, preds,\n",
    "                               zero_division=0,\n",
    "                               average='macro')\n",
    "    \n",
    "    return loss.cpu().detach().item(), fake_recall_score"
   ]
  },
  {
   "cell_type": "code",
   "execution_count": 17,
   "id": "4db08f90",
   "metadata": {
    "execution": {
     "iopub.execute_input": "2023-10-27T02:12:40.519199Z",
     "iopub.status.busy": "2023-10-27T02:12:40.518484Z",
     "iopub.status.idle": "2023-10-27T02:12:44.230527Z",
     "shell.execute_reply": "2023-10-27T02:12:44.229522Z"
    },
    "papermill": {
     "duration": 3.846676,
     "end_time": "2023-10-27T02:12:44.233661",
     "exception": false,
     "start_time": "2023-10-27T02:12:40.386985",
     "status": "completed"
    },
    "tags": []
   },
   "outputs": [],
   "source": [
    "classifier = EyeClassifier(pretrained=True).to(device)\n",
    "loss_fn = nn.CrossEntropyLoss().to(device)\n",
    "optimizer = optim.Adam(classifier.parameters(), lr=1e-4, weight_decay=1e-2)\n",
    "scheduler = optim.lr_scheduler.StepLR(optimizer, step_size=3,\n",
    "                                      gamma=0.25)\n",
    "best_recall_score = 0\n",
    "n_epochs = 30\n",
    "xticks = list(i+1 for i in range(n_epochs))"
   ]
  },
  {
   "cell_type": "code",
   "execution_count": 18,
   "id": "6587ca16",
   "metadata": {
    "execution": {
     "iopub.execute_input": "2023-10-27T02:12:44.509581Z",
     "iopub.status.busy": "2023-10-27T02:12:44.508759Z",
     "iopub.status.idle": "2023-10-27T09:27:54.892850Z",
     "shell.execute_reply": "2023-10-27T09:27:54.891835Z"
    },
    "papermill": {
     "duration": 26110.512908,
     "end_time": "2023-10-27T09:27:54.897276",
     "exception": false,
     "start_time": "2023-10-27T02:12:44.384368",
     "status": "completed"
    },
    "tags": []
   },
   "outputs": [
    {
     "data": {
      "application/vnd.jupyter.widget-view+json": {
       "model_id": "b80748d8958f41ceacd70168bed3699c",
       "version_major": 2,
       "version_minor": 0
      },
      "text/plain": [
       "Training:   0%|          | 0/30 [00:00<?, ?it/s]"
      ]
     },
     "metadata": {},
     "output_type": "display_data"
    },
    {
     "name": "stdout",
     "output_type": "stream",
     "text": [
      "epoch: 1 \ttrain loss: 1.791 \ttrain recall score: 0.335 \tvalid loss: 1.341 \tvalid recall score: 0.362\n",
      "epoch: 2 \ttrain loss: 1.352 \ttrain recall score: 0.395 \tvalid loss: 1.387 \tvalid recall score: 0.349\n",
      "epoch: 3 \ttrain loss: 1.250 \ttrain recall score: 0.451 \tvalid loss: 1.295 \tvalid recall score: 0.427\n",
      "epoch: 4 \ttrain loss: 1.178 \ttrain recall score: 0.472 \tvalid loss: 1.253 \tvalid recall score: 0.421\n",
      "epoch: 5 \ttrain loss: 1.131 \ttrain recall score: 0.490 \tvalid loss: 1.168 \tvalid recall score: 0.481\n",
      "epoch: 6 \ttrain loss: 1.121 \ttrain recall score: 0.496 \tvalid loss: 1.184 \tvalid recall score: 0.465\n",
      "epoch: 7 \ttrain loss: 1.070 \ttrain recall score: 0.506 \tvalid loss: 1.173 \tvalid recall score: 0.487\n",
      "epoch: 8 \ttrain loss: 1.060 \ttrain recall score: 0.514 \tvalid loss: 1.150 \tvalid recall score: 0.501\n",
      "epoch: 9 \ttrain loss: 1.042 \ttrain recall score: 0.533 \tvalid loss: 1.170 \tvalid recall score: 0.504\n",
      "epoch: 10 \ttrain loss: 1.027 \ttrain recall score: 0.538 \tvalid loss: 1.159 \tvalid recall score: 0.492\n",
      "epoch: 11 \ttrain loss: 1.019 \ttrain recall score: 0.533 \tvalid loss: 1.166 \tvalid recall score: 0.498\n",
      "epoch: 12 \ttrain loss: 1.010 \ttrain recall score: 0.525 \tvalid loss: 1.170 \tvalid recall score: 0.491\n",
      "epoch: 13 \ttrain loss: 1.004 \ttrain recall score: 0.537 \tvalid loss: 1.167 \tvalid recall score: 0.495\n",
      "epoch: 14 \ttrain loss: 1.012 \ttrain recall score: 0.566 \tvalid loss: 1.166 \tvalid recall score: 0.491\n",
      "epoch: 15 \ttrain loss: 1.004 \ttrain recall score: 0.526 \tvalid loss: 1.164 \tvalid recall score: 0.499\n",
      "epoch: 16 \ttrain loss: 1.000 \ttrain recall score: 0.552 \tvalid loss: 1.164 \tvalid recall score: 0.497\n",
      "epoch: 17 \ttrain loss: 1.015 \ttrain recall score: 0.527 \tvalid loss: 1.165 \tvalid recall score: 0.495\n",
      "epoch: 18 \ttrain loss: 1.003 \ttrain recall score: 0.544 \tvalid loss: 1.165 \tvalid recall score: 0.496\n",
      "epoch: 19 \ttrain loss: 1.005 \ttrain recall score: 0.547 \tvalid loss: 1.165 \tvalid recall score: 0.494\n",
      "epoch: 20 \ttrain loss: 0.997 \ttrain recall score: 0.555 \tvalid loss: 1.165 \tvalid recall score: 0.494\n",
      "epoch: 21 \ttrain loss: 1.003 \ttrain recall score: 0.542 \tvalid loss: 1.165 \tvalid recall score: 0.492\n",
      "epoch: 22 \ttrain loss: 1.007 \ttrain recall score: 0.540 \tvalid loss: 1.165 \tvalid recall score: 0.492\n",
      "epoch: 23 \ttrain loss: 0.995 \ttrain recall score: 0.542 \tvalid loss: 1.165 \tvalid recall score: 0.492\n",
      "epoch: 24 \ttrain loss: 1.021 \ttrain recall score: 0.529 \tvalid loss: 1.165 \tvalid recall score: 0.494\n",
      "epoch: 25 \ttrain loss: 1.010 \ttrain recall score: 0.525 \tvalid loss: 1.165 \tvalid recall score: 0.494\n",
      "epoch: 26 \ttrain loss: 1.015 \ttrain recall score: 0.537 \tvalid loss: 1.165 \tvalid recall score: 0.494\n",
      "epoch: 27 \ttrain loss: 1.011 \ttrain recall score: 0.529 \tvalid loss: 1.165 \tvalid recall score: 0.494\n",
      "epoch: 28 \ttrain loss: 1.002 \ttrain recall score: 0.552 \tvalid loss: 1.165 \tvalid recall score: 0.494\n",
      "epoch: 29 \ttrain loss: 1.011 \ttrain recall score: 0.547 \tvalid loss: 1.165 \tvalid recall score: 0.494\n",
      "epoch: 30 \ttrain loss: 1.003 \ttrain recall score: 0.553 \tvalid loss: 1.165 \tvalid recall score: 0.494\n"
     ]
    }
   ],
   "source": [
    "mem = {\n",
    "    'train_loss': [],\n",
    "    'train_recall_score': [],\n",
    "    'valid_loss': [],\n",
    "    'valid_recall_score': []\n",
    "}\n",
    "\n",
    "for epoch in tqdm(range(n_epochs), desc='Training'):\n",
    "    n_batch = len(train_dl)\n",
    "    train_losses, train_recall_scores = [], []\n",
    "    for i, data in enumerate(train_dl):\n",
    "        train_loss, train_recall_score = train(data, classifier,\n",
    "                                         optimizer, loss_fn)\n",
    "        train_losses.append(train_loss)\n",
    "        train_recall_scores.append(train_recall_score)\n",
    "        pos = epoch + ((i+1)/n_batch)\n",
    "        print(\n",
    "            'epoch:', \"%.3f\" % pos,\n",
    "            '\\ttrain loss:', \"%.3f\" % train_loss,\n",
    "            '\\ttrain recall score:', \"%.3f\" % train_recall_score, \n",
    "            end='\\r'\n",
    "        )\n",
    "        \n",
    "    mem['train_loss'].append(np.mean(train_losses))\n",
    "    mem['train_recall_score'].append(np.mean(train_recall_scores))\n",
    "    \n",
    "    n_batch = len(valid_dl)\n",
    "    valid_losses, valid_recall_scores = [], []\n",
    "    for i, data in enumerate(valid_dl):\n",
    "        valid_loss, valid_recall_score = validate(data, classifier, loss_fn)\n",
    "        valid_losses.append(valid_loss)\n",
    "        valid_recall_scores.append(valid_recall_score)\n",
    "        pos = epoch + ((i+1)/n_batch)\n",
    "        print(\n",
    "            'epoch:', \"%.3f\" % pos,\n",
    "            '\\tvalid loss:', \"%.3f\" % valid_loss,\n",
    "            '\\tvalid recall score:', \"%.3f\" % valid_recall_score, \n",
    "            end='\\r'\n",
    "        )\n",
    "    \n",
    "    cur_recall_score = np.mean(valid_recall_scores)\n",
    "    mem['valid_loss'].append(np.mean(valid_losses))\n",
    "    mem['valid_recall_score'].append(cur_recall_score)\n",
    "    \n",
    "    print(\n",
    "        'epoch:', epoch+1,\n",
    "        '\\ttrain loss:', \"%.3f\" % mem['train_loss'][-1],\n",
    "        '\\ttrain recall score:', \"%.3f\" % mem['train_recall_score'][-1],\n",
    "        '\\tvalid loss:', \"%.3f\" % mem['valid_loss'][-1],\n",
    "        '\\tvalid recall score:', \"%.3f\" % mem['valid_recall_score'][-1],\n",
    "    )\n",
    "    \n",
    "    if best_recall_score < cur_recall_score:\n",
    "        best_recall_score = cur_recall_score\n",
    "        torch.save(classifier.state_dict(), './saved_model/diabetic_state_dict.pth')\n",
    "        torch.save(classifier, './saved_model/diabetic_model.pth')\n",
    "        \n",
    "    scheduler.step()"
   ]
  },
  {
   "cell_type": "code",
   "execution_count": 19,
   "id": "36f3cfd6",
   "metadata": {
    "execution": {
     "iopub.execute_input": "2023-10-27T09:27:55.512200Z",
     "iopub.status.busy": "2023-10-27T09:27:55.511819Z",
     "iopub.status.idle": "2023-10-27T09:27:56.055366Z",
     "shell.execute_reply": "2023-10-27T09:27:56.054431Z"
    },
    "papermill": {
     "duration": 0.841612,
     "end_time": "2023-10-27T09:27:56.057355",
     "exception": false,
     "start_time": "2023-10-27T09:27:55.215743",
     "status": "completed"
    },
    "tags": []
   },
   "outputs": [
    {
     "data": {
      "image/png": "[encoded data removed]",
      "text/plain": [
       "<Figure size 640x480 with 1 Axes>"
      ]
     },
     "metadata": {},
     "output_type": "display_data"
    }
   ],
   "source": [
    "plt.plot(xticks, mem['train_loss'])\n",
    "plt.plot(xticks, mem['valid_loss'])\n",
    "plt.legend(['train', 'valid'])\n",
    "plt.xlabel('epoch')\n",
    "plt.title('loss')\n",
    "plt.show()"
   ]
  },
  {
   "cell_type": "code",
   "execution_count": 20,
   "id": "66def36b",
   "metadata": {
    "execution": {
     "iopub.execute_input": "2023-10-27T09:27:56.658091Z",
     "iopub.status.busy": "2023-10-27T09:27:56.657709Z",
     "iopub.status.idle": "2023-10-27T09:27:57.036505Z",
     "shell.execute_reply": "2023-10-27T09:27:57.035626Z"
    },
    "papermill": {
     "duration": 0.678865,
     "end_time": "2023-10-27T09:27:57.038617",
     "exception": false,
     "start_time": "2023-10-27T09:27:56.359752",
     "status": "completed"
    },
    "tags": []
   },
   "outputs": [
    {
     "data": {
      "image/png": "[encoded data removed]",
      "text/plain": [
       "<Figure size 640x480 with 1 Axes>"
      ]
     },
     "metadata": {},
     "output_type": "display_data"
    }
   ],
   "source": [
    "plt.plot(xticks, mem['train_recall_score'])\n",
    "plt.plot(xticks, mem['valid_recall_score'])\n",
    "plt.legend(['train', 'valid'])\n",
    "plt.xlabel('epoch')\n",
    "plt.title('recall score')\n",
    "plt.show()"
   ]
  },
  {
   "cell_type": "code",
   "execution_count": null,
   "id": "90a97471",
   "metadata": {
    "papermill": {
     "duration": 0.297847,
     "end_time": "2023-10-27T09:27:57.647709",
     "exception": false,
     "start_time": "2023-10-27T09:27:57.349862",
     "status": "completed"
    },
    "tags": []
   },
   "outputs": [],
   "source": []
  }
 ],
 "metadata": {
  "kernelspec": {
   "display_name": "Python 3",
   "language": "python",
   "name": "python3"
  },
  "language_info": {
   "codemirror_mode": {
    "name": "ipython",
    "version": 3
   },
   "file_extension": ".py",
   "mimetype": "text/x-python",
   "name": "python",
   "nbconvert_exporter": "python",
   "pygments_lexer": "ipython3",
   "version": "3.10.12"
  },
  "papermill": {
   "default_parameters": {},
   "duration": 26923.566865,
   "end_time": "2023-10-27T09:28:01.812361",
   "environment_variables": {},
   "exception": null,
   "input_path": "__notebook__.ipynb",
   "output_path": "__notebook__.ipynb",
   "parameters": {},
   "start_time": "2023-10-27T01:59:18.245496",
   "version": "2.4.0"
  },
  "widgets": {
   "application/vnd.jupyter.widget-state+json": {
    "state": {
     "097ef540051243c993f0e01153feb3f3": {
      "model_module": "@jupyter-widgets/base",
      "model_module_version": "1.2.0",
      "model_name": "LayoutModel",
      "state": {
       "_model_module": "@jupyter-widgets/base",
       "_model_module_version": "1.2.0",
       "_model_name": "LayoutModel",
       "_view_count": null,
       "_view_module": "@jupyter-widgets/base",
       "_view_module_version": "1.2.0",
       "_view_name": "LayoutView",
       "align_content": null,
       "align_items": null,
       "align_self": null,
       "border": null,
       "bottom": null,
       "display": null,
       "flex": null,
       "flex_flow": null,
       "grid_area": null,
       "grid_auto_columns": null,
       "grid_auto_flow": null,
       "grid_auto_rows": null,
       "grid_column": null,
       "grid_gap": null,
       "grid_row": null,
       "grid_template_areas": null,
       "grid_template_columns": null,
       "grid_template_rows": null,
       "height": null,
       "justify_content": null,
       "justify_items": null,
       "left": null,
       "margin": null,
       "max_height": null,
       "max_width": null,
       "min_height": null,
       "min_width": null,
       "object_fit": null,
       "object_position": null,
       "order": null,
       "overflow": null,
       "overflow_x": null,
       "overflow_y": null,
       "padding": null,
       "right": null,
       "top": null,
       "visibility": null,
       "width": null
      }
     },
     "11f968b1751c4c7db8dd92f2b4fdf076": {
      "model_module": "@jupyter-widgets/base",
      "model_module_version": "1.2.0",
      "model_name": "LayoutModel",
      "state": {
       "_model_module": "@jupyter-widgets/base",
       "_model_module_version": "1.2.0",
       "_model_name": "LayoutModel",
       "_view_count": null,
       "_view_module": "@jupyter-widgets/base",
       "_view_module_version": "1.2.0",
       "_view_name": "LayoutView",
       "align_content": null,
       "align_items": null,
       "align_self": null,
       "border": null,
       "bottom": null,
       "display": null,
       "flex": null,
       "flex_flow": null,
       "grid_area": null,
       "grid_auto_columns": null,
       "grid_auto_flow": null,
       "grid_auto_rows": null,
       "grid_column": null,
       "grid_gap": null,
       "grid_row": null,
       "grid_template_areas": null,
       "grid_template_columns": null,
       "grid_template_rows": null,
       "height": null,
       "justify_content": null,
       "justify_items": null,
       "left": null,
       "margin": null,
       "max_height": null,
       "max_width": null,
       "min_height": null,
       "min_width": null,
       "object_fit": null,
       "object_position": null,
       "order": null,
       "overflow": null,
       "overflow_x": null,
       "overflow_y": null,
       "padding": null,
       "right": null,
       "top": null,
       "visibility": null,
       "width": null
      }
     },
     "4c1a91d48c804403b36d32a71068791b": {
      "model_module": "@jupyter-widgets/controls",
      "model_module_version": "1.5.0",
      "model_name": "HTMLModel",
      "state": {
       "_dom_classes": [],
       "_model_module": "@jupyter-widgets/controls",
       "_model_module_version": "1.5.0",
       "_model_name": "HTMLModel",
       "_view_count": null,
       "_view_module": "@jupyter-widgets/controls",
       "_view_module_version": "1.5.0",
       "_view_name": "HTMLView",
       "description": "",
       "description_tooltip": null,
       "layout": "IPY_MODEL_11f968b1751c4c7db8dd92f2b4fdf076",
       "placeholder": "​",
       "style": "IPY_MODEL_57f1c16e56474c429b3a9b364db37b5e",
       "value": "Training: 100%"
      }
     },
     "57f1c16e56474c429b3a9b364db37b5e": {
      "model_module": "@jupyter-widgets/controls",
      "model_module_version": "1.5.0",
      "model_name": "DescriptionStyleModel",
      "state": {
       "_model_module": "@jupyter-widgets/controls",
       "_model_module_version": "1.5.0",
       "_model_name": "DescriptionStyleModel",
       "_view_count": null,
       "_view_module": "@jupyter-widgets/base",
       "_view_module_version": "1.2.0",
       "_view_name": "StyleView",
       "description_width": ""
      }
     },
     "82c60f5f5e2e4322b00bd0e4ae02a2ad": {
      "model_module": "@jupyter-widgets/base",
      "model_module_version": "1.2.0",
      "model_name": "LayoutModel",
      "state": {
       "_model_module": "@jupyter-widgets/base",
       "_model_module_version": "1.2.0",
       "_model_name": "LayoutModel",
       "_view_count": null,
       "_view_module": "@jupyter-widgets/base",
       "_view_module_version": "1.2.0",
       "_view_name": "LayoutView",
       "align_content": null,
       "align_items": null,
       "align_self": null,
       "border": null,
       "bottom": null,
       "display": null,
       "flex": null,
       "flex_flow": null,
       "grid_area": null,
       "grid_auto_columns": null,
       "grid_auto_flow": null,
       "grid_auto_rows": null,
       "grid_column": null,
       "grid_gap": null,
       "grid_row": null,
       "grid_template_areas": null,
       "grid_template_columns": null,
       "grid_template_rows": null,
       "height": null,
       "justify_content": null,
       "justify_items": null,
       "left": null,
       "margin": null,
       "max_height": null,
       "max_width": null,
       "min_height": null,
       "min_width": null,
       "object_fit": null,
       "object_position": null,
       "order": null,
       "overflow": null,
       "overflow_x": null,
       "overflow_y": null,
       "padding": null,
       "right": null,
       "top": null,
       "visibility": null,
       "width": null
      }
     },
     "9c081284d22445318b1d278cb5ff4411": {
      "model_module": "@jupyter-widgets/controls",
      "model_module_version": "1.5.0",
      "model_name": "ProgressStyleModel",
      "state": {
       "_model_module": "@jupyter-widgets/controls",
       "_model_module_version": "1.5.0",
       "_model_name": "ProgressStyleModel",
       "_view_count": null,
       "_view_module": "@jupyter-widgets/base",
       "_view_module_version": "1.2.0",
       "_view_name": "StyleView",
       "bar_color": null,
       "description_width": ""
      }
     },
     "a9db41c0cc3e450cb7e1affcaf51b2cf": {
      "model_module": "@jupyter-widgets/controls",
      "model_module_version": "1.5.0",
      "model_name": "HTMLModel",
      "state": {
       "_dom_classes": [],
       "_model_module": "@jupyter-widgets/controls",
       "_model_module_version": "1.5.0",
       "_model_name": "HTMLModel",
       "_view_count": null,
       "_view_module": "@jupyter-widgets/controls",
       "_view_module_version": "1.5.0",
       "_view_name": "HTMLView",
       "description": "",
       "description_tooltip": null,
       "layout": "IPY_MODEL_82c60f5f5e2e4322b00bd0e4ae02a2ad",
       "placeholder": "​",
       "style": "IPY_MODEL_d83059e884434ac69c5f44b85cb52cf8",
       "value": " 30/30 [7:15:10&lt;00:00, 867.79s/it]"
      }
     },
     "b80748d8958f41ceacd70168bed3699c": {
      "model_module": "@jupyter-widgets/controls",
      "model_module_version": "1.5.0",
      "model_name": "HBoxModel",
      "state": {
       "_dom_classes": [],
       "_model_module": "@jupyter-widgets/controls",
       "_model_module_version": "1.5.0",
       "_model_name": "HBoxModel",
       "_view_count": null,
       "_view_module": "@jupyter-widgets/controls",
       "_view_module_version": "1.5.0",
       "_view_name": "HBoxView",
       "box_style": "",
       "children": [
        "IPY_MODEL_4c1a91d48c804403b36d32a71068791b",
        "IPY_MODEL_e9cbded403474235ad90e960dd428319",
        "IPY_MODEL_a9db41c0cc3e450cb7e1affcaf51b2cf"
       ],
       "layout": "IPY_MODEL_cfbb8c2617734c778bff670f0a3a7803"
      }
     },
     "cfbb8c2617734c778bff670f0a3a7803": {
      "model_module": "@jupyter-widgets/base",
      "model_module_version": "1.2.0",
      "model_name": "LayoutModel",
      "state": {
       "_model_module": "@jupyter-widgets/base",
       "_model_module_version": "1.2.0",
       "_model_name": "LayoutModel",
       "_view_count": null,
       "_view_module": "@jupyter-widgets/base",
       "_view_module_version": "1.2.0",
       "_view_name": "LayoutView",
       "align_content": null,
       "align_items": null,
       "align_self": null,
       "border": null,
       "bottom": null,
       "display": null,
       "flex": null,
       "flex_flow": null,
       "grid_area": null,
       "grid_auto_columns": null,
       "grid_auto_flow": null,
       "grid_auto_rows": null,
       "grid_column": null,
       "grid_gap": null,
       "grid_row": null,
       "grid_template_areas": null,
       "grid_template_columns": null,
       "grid_template_rows": null,
       "height": null,
       "justify_content": null,
       "justify_items": null,
       "left": null,
       "margin": null,
       "max_height": null,
       "max_width": null,
       "min_height": null,
       "min_width": null,
       "object_fit": null,
       "object_position": null,
       "order": null,
       "overflow": null,
       "overflow_x": null,
       "overflow_y": null,
       "padding": null,
       "right": null,
       "top": null,
       "visibility": null,
       "width": null
      }
     },
     "d83059e884434ac69c5f44b85cb52cf8": {
      "model_module": "@jupyter-widgets/controls",
      "model_module_version": "1.5.0",
      "model_name": "DescriptionStyleModel",
      "state": {
       "_model_module": "@jupyter-widgets/controls",
       "_model_module_version": "1.5.0",
       "_model_name": "DescriptionStyleModel",
       "_view_count": null,
       "_view_module": "@jupyter-widgets/base",
       "_view_module_version": "1.2.0",
       "_view_name": "StyleView",
       "description_width": ""
      }
     },
     "e9cbded403474235ad90e960dd428319": {
      "model_module": "@jupyter-widgets/controls",
      "model_module_version": "1.5.0",
      "model_name": "FloatProgressModel",
      "state": {
       "_dom_classes": [],
       "_model_module": "@jupyter-widgets/controls",
       "_model_module_version": "1.5.0",
       "_model_name": "FloatProgressModel",
       "_view_count": null,
       "_view_module": "@jupyter-widgets/controls",
       "_view_module_version": "1.5.0",
       "_view_name": "ProgressView",
       "bar_style": "success",
       "description": "",
       "description_tooltip": null,
       "layout": "IPY_MODEL_097ef540051243c993f0e01153feb3f3",
       "max": 30.0,
       "min": 0.0,
       "orientation": "horizontal",
       "style": "IPY_MODEL_9c081284d22445318b1d278cb5ff4411",
       "value": 30.0
      }
     }
    },
    "version_major": 2,
    "version_minor": 0
   }
  }
 },
 "nbformat": 4,
 "nbformat_minor": 5
}
