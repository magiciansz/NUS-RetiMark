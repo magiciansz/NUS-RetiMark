{
 "cells": [
  {
   "cell_type": "markdown",
   "id": "4b3bac11",
   "metadata": {
    "papermill": {
     "duration": 0.010014,
     "end_time": "2023-11-03T16:46:37.352831",
     "exception": false,
     "start_time": "2023-11-03T16:46:37.342817",
     "status": "completed"
    },
    "tags": []
   },
   "source": [
    "# Install Dependencies"
   ]
  },
  {
   "cell_type": "code",
   "execution_count": 1,
   "id": "a4ac552e",
   "metadata": {
    "execution": {
     "iopub.execute_input": "2023-11-03T16:46:37.375125Z",
     "iopub.status.busy": "2023-11-03T16:46:37.374367Z",
     "iopub.status.idle": "2023-11-03T16:46:52.344298Z",
     "shell.execute_reply": "2023-11-03T16:46:52.342817Z"
    },
    "papermill": {
     "duration": 14.984204,
     "end_time": "2023-11-03T16:46:52.347308",
     "exception": false,
     "start_time": "2023-11-03T16:46:37.363104",
     "status": "completed"
    },
    "tags": []
   },
   "outputs": [
    {
     "name": "stdout",
     "output_type": "stream",
     "text": [
      "Collecting torch_summary\r\n",
      "  Downloading torch_summary-1.4.5-py3-none-any.whl (16 kB)\r\n",
      "Installing collected packages: torch_summary\r\n",
      "Successfully installed torch_summary-1.4.5\r\n"
     ]
    }
   ],
   "source": [
    "!pip install torch_summary"
   ]
  },
  {
   "cell_type": "markdown",
   "id": "40196072",
   "metadata": {
    "papermill": {
     "duration": 0.009653,
     "end_time": "2023-11-03T16:46:52.367574",
     "exception": false,
     "start_time": "2023-11-03T16:46:52.357921",
     "status": "completed"
    },
    "tags": []
   },
   "source": [
    "# Import Libraries"
   ]
  },
  {
   "cell_type": "code",
   "execution_count": 2,
   "id": "5b5ddba0",
   "metadata": {
    "_cell_guid": "b1076dfc-b9ad-4769-8c92-a6c4dae69d19",
    "_uuid": "8f2839f25d086af736a60e9eeb907d3b93b6e0e5",
    "execution": {
     "iopub.execute_input": "2023-11-03T16:46:52.391210Z",
     "iopub.status.busy": "2023-11-03T16:46:52.390799Z",
     "iopub.status.idle": "2023-11-03T16:46:58.316445Z",
     "shell.execute_reply": "2023-11-03T16:46:58.315582Z"
    },
    "papermill": {
     "duration": 5.939879,
     "end_time": "2023-11-03T16:46:58.319170",
     "exception": false,
     "start_time": "2023-11-03T16:46:52.379291",
     "status": "completed"
    },
    "tags": []
   },
   "outputs": [
    {
     "name": "stderr",
     "output_type": "stream",
     "text": [
      "/opt/conda/lib/python3.10/site-packages/scipy/__init__.py:146: UserWarning: A NumPy version >=1.16.5 and <1.23.0 is required for this version of SciPy (detected version 1.23.5\n",
      "  warnings.warn(f\"A NumPy version >={np_minversion} and <{np_maxversion}\"\n"
     ]
    }
   ],
   "source": [
    "import torch\n",
    "import torch.nn.functional as F\n",
    "from torch import nn, optim\n",
    "from torchvision import transforms as T, models\n",
    "from torch.utils.data import DataLoader, Dataset\n",
    "from torchsummary import summary\n",
    "from tqdm.notebook import tqdm \n",
    "import zipfile\n",
    "\n",
    "from sklearn.metrics import classification_report, recall_score, accuracy_score, f1_score, precision_score, roc_curve, auc\n",
    "from sklearn.model_selection import train_test_split\n",
    "import seaborn as sns\n",
    "from PIL import Image\n",
    "import matplotlib.pyplot as plt\n",
    "from random import shuffle, randint, choice\n",
    "import numpy as np\n",
    "import cv2 as cv\n",
    "from glob import glob\n",
    "import pandas as pd\n",
    "import requests\n",
    "import concurrent.futures"
   ]
  },
  {
   "cell_type": "code",
   "execution_count": 3,
   "id": "d035f157",
   "metadata": {
    "execution": {
     "iopub.execute_input": "2023-11-03T16:46:58.342861Z",
     "iopub.status.busy": "2023-11-03T16:46:58.341492Z",
     "iopub.status.idle": "2023-11-03T16:46:59.444468Z",
     "shell.execute_reply": "2023-11-03T16:46:59.442880Z"
    },
    "papermill": {
     "duration": 1.118665,
     "end_time": "2023-11-03T16:46:59.447920",
     "exception": false,
     "start_time": "2023-11-03T16:46:58.329255",
     "status": "completed"
    },
    "tags": []
   },
   "outputs": [],
   "source": [
    "!mkdir saved_model\n",
    "sns.set_theme()\n",
    "device = 'cuda' if torch.cuda.is_available() else 'cpu'"
   ]
  },
  {
   "cell_type": "markdown",
   "id": "6b24a5ee",
   "metadata": {
    "papermill": {
     "duration": 0.009775,
     "end_time": "2023-11-03T16:46:59.467814",
     "exception": false,
     "start_time": "2023-11-03T16:46:59.458039",
     "status": "completed"
    },
    "tags": []
   },
   "source": [
    "## Dataset"
   ]
  },
  {
   "cell_type": "code",
   "execution_count": 4,
   "id": "451c63b6",
   "metadata": {
    "execution": {
     "iopub.execute_input": "2023-11-03T16:46:59.490577Z",
     "iopub.status.busy": "2023-11-03T16:46:59.489721Z",
     "iopub.status.idle": "2023-11-03T16:46:59.579205Z",
     "shell.execute_reply": "2023-11-03T16:46:59.578068Z"
    },
    "papermill": {
     "duration": 0.103851,
     "end_time": "2023-11-03T16:46:59.581744",
     "exception": false,
     "start_time": "2023-11-03T16:46:59.477893",
     "status": "completed"
    },
    "tags": []
   },
   "outputs": [
    {
     "data": {
      "text/html": [
       "<div>\n",
       "<style scoped>\n",
       "    .dataframe tbody tr th:only-of-type {\n",
       "        vertical-align: middle;\n",
       "    }\n",
       "\n",
       "    .dataframe tbody tr th {\n",
       "        vertical-align: top;\n",
       "    }\n",
       "\n",
       "    .dataframe thead th {\n",
       "        text-align: right;\n",
       "    }\n",
       "</style>\n",
       "<table border=\"1\" class=\"dataframe\">\n",
       "  <thead>\n",
       "    <tr style=\"text-align: right;\">\n",
       "      <th></th>\n",
       "      <th>image</th>\n",
       "      <th>level</th>\n",
       "    </tr>\n",
       "  </thead>\n",
       "  <tbody>\n",
       "    <tr>\n",
       "      <th>0</th>\n",
       "      <td>10_left</td>\n",
       "      <td>0</td>\n",
       "    </tr>\n",
       "    <tr>\n",
       "      <th>1</th>\n",
       "      <td>10_right</td>\n",
       "      <td>0</td>\n",
       "    </tr>\n",
       "    <tr>\n",
       "      <th>2</th>\n",
       "      <td>13_left</td>\n",
       "      <td>0</td>\n",
       "    </tr>\n",
       "    <tr>\n",
       "      <th>3</th>\n",
       "      <td>13_right</td>\n",
       "      <td>0</td>\n",
       "    </tr>\n",
       "    <tr>\n",
       "      <th>4</th>\n",
       "      <td>15_left</td>\n",
       "      <td>1</td>\n",
       "    </tr>\n",
       "  </tbody>\n",
       "</table>\n",
       "</div>"
      ],
      "text/plain": [
       "      image  level\n",
       "0   10_left      0\n",
       "1  10_right      0\n",
       "2   13_left      0\n",
       "3  13_right      0\n",
       "4   15_left      1"
      ]
     },
     "execution_count": 4,
     "metadata": {},
     "output_type": "execute_result"
    }
   ],
   "source": [
    "DIR = '/kaggle/input/diabetic-retinopathy-detection'\n",
    "\n",
    "with zipfile.ZipFile(f'{DIR}/trainLabels.csv.zip', 'r') as zip_ref:\n",
    "    with zip_ref.open('trainLabels.csv') as csv_file:\n",
    "        trainLabels_df = pd.read_csv(csv_file, index_col=0).reset_index()\n",
    "\n",
    "trainLabels_df.head()"
   ]
  },
  {
   "cell_type": "code",
   "execution_count": 5,
   "id": "370ac170",
   "metadata": {
    "execution": {
     "iopub.execute_input": "2023-11-03T16:46:59.604476Z",
     "iopub.status.busy": "2023-11-03T16:46:59.603793Z",
     "iopub.status.idle": "2023-11-03T16:46:59.619762Z",
     "shell.execute_reply": "2023-11-03T16:46:59.618593Z"
    },
    "papermill": {
     "duration": 0.0302,
     "end_time": "2023-11-03T16:46:59.622250",
     "exception": false,
     "start_time": "2023-11-03T16:46:59.592050",
     "status": "completed"
    },
    "tags": []
   },
   "outputs": [
    {
     "name": "stdout",
     "output_type": "stream",
     "text": [
      "Total: 35126\n",
      "Stage 0: 25810\n",
      "Stage 1: 2443\n",
      "Stage 2: 5292\n",
      "Stage 3: 873\n",
      "Stage 4: 708\n"
     ]
    }
   ],
   "source": [
    "print(\"Total:\", len(trainLabels_df))\n",
    "print(\"Stage 0:\", len(trainLabels_df[trainLabels_df[\"level\"]==0]))\n",
    "print(\"Stage 1:\", len(trainLabels_df[trainLabels_df[\"level\"]==1]))\n",
    "print(\"Stage 2:\", len(trainLabels_df[trainLabels_df[\"level\"]==2]))\n",
    "print(\"Stage 3:\", len(trainLabels_df[trainLabels_df[\"level\"]==3]))\n",
    "print(\"Stage 4:\", len(trainLabels_df[trainLabels_df[\"level\"]==4]))"
   ]
  },
  {
   "cell_type": "code",
   "execution_count": 6,
   "id": "840e924d",
   "metadata": {
    "execution": {
     "iopub.execute_input": "2023-11-03T16:46:59.644816Z",
     "iopub.status.busy": "2023-11-03T16:46:59.644412Z",
     "iopub.status.idle": "2023-11-03T16:46:59.664007Z",
     "shell.execute_reply": "2023-11-03T16:46:59.662908Z"
    },
    "papermill": {
     "duration": 0.033666,
     "end_time": "2023-11-03T16:46:59.666387",
     "exception": false,
     "start_time": "2023-11-03T16:46:59.632721",
     "status": "completed"
    },
    "tags": []
   },
   "outputs": [],
   "source": [
    "trainLabels_df['level'] = np.where(trainLabels_df['level'] == 3, 4, trainLabels_df['level'])\n",
    "\n",
    "negative_df = trainLabels_df[trainLabels_df[\"level\"]==0].sample(1200)\n",
    "positive_df = trainLabels_df[trainLabels_df[\"level\"]==4].sample(1200)\n",
    "\n",
    "negative_train, negative_valid = train_test_split(negative_df, test_size=0.2, random_state=42)\n",
    "positive_train, positive_valid = train_test_split(positive_df, test_size=0.2, random_state=42)\n",
    "\n",
    "train_df = pd.concat([negative_train, positive_train]).sample(frac=1).reset_index()\n",
    "valid_df = pd.concat([negative_valid, positive_valid]).sample(frac=1).reset_index()\n"
   ]
  },
  {
   "cell_type": "code",
   "execution_count": 7,
   "id": "78ad2937",
   "metadata": {
    "execution": {
     "iopub.execute_input": "2023-11-03T16:46:59.688850Z",
     "iopub.status.busy": "2023-11-03T16:46:59.688174Z",
     "iopub.status.idle": "2023-11-03T16:46:59.696186Z",
     "shell.execute_reply": "2023-11-03T16:46:59.695276Z"
    },
    "papermill": {
     "duration": 0.021899,
     "end_time": "2023-11-03T16:46:59.698627",
     "exception": false,
     "start_time": "2023-11-03T16:46:59.676728",
     "status": "completed"
    },
    "tags": []
   },
   "outputs": [],
   "source": [
    "def download_image(index, image_name, df, count, total):\n",
    "    filepath = f\"https://diabetic-retinopathy-images.s3.ap-southeast-1.amazonaws.com/images/{image_name}.jpeg\" \n",
    "    response = requests.get(filepath)\n",
    "    print(count, \"/\", total, response.reason, image_name, end=\"\\r\")\n",
    "    if response.status_code != 200:\n",
    "        df.drop(index, inplace=True)\n",
    "        return None\n",
    "    image_data = response.content\n",
    "    nparr = np.frombuffer(image_data, np.uint8)\n",
    "    image = cv.imdecode(nparr, cv.IMREAD_COLOR)\n",
    "    image = cv.cvtColor(image, cv.COLOR_BGR2GRAY)\n",
    "    df.at[index, 'imagefile'] = image"
   ]
  },
  {
   "cell_type": "code",
   "execution_count": 8,
   "id": "deb872c3",
   "metadata": {
    "execution": {
     "iopub.execute_input": "2023-11-03T16:46:59.722108Z",
     "iopub.status.busy": "2023-11-03T16:46:59.721085Z",
     "iopub.status.idle": "2023-11-03T16:54:41.736571Z",
     "shell.execute_reply": "2023-11-03T16:54:41.735632Z"
    },
    "papermill": {
     "duration": 462.030103,
     "end_time": "2023-11-03T16:54:41.739596",
     "exception": false,
     "start_time": "2023-11-03T16:46:59.709493",
     "status": "completed"
    },
    "tags": []
   },
   "outputs": [
    {
     "name": "stdout",
     "output_type": "stream",
     "text": [
      "Done!\n"
     ]
    }
   ],
   "source": [
    "train_df['imagefile'] = None\n",
    "total = len(train_df)\n",
    "count = 1\n",
    "\n",
    "for start in range(0, total, 1000):\n",
    "    end = min(start + 1000, total)\n",
    "\n",
    "    with concurrent.futures.ThreadPoolExecutor() as executor:\n",
    "        futures = []\n",
    "        for index, row in train_df[start:end].iterrows():\n",
    "            image_name = row['image']\n",
    "            future = executor.submit(download_image, index, image_name, train_df, count, total)\n",
    "            futures.append(future)\n",
    "            count += 1\n",
    "        concurrent.futures.wait(futures)\n",
    "    \n",
    "print(\"Done!\")"
   ]
  },
  {
   "cell_type": "code",
   "execution_count": 9,
   "id": "76f5b556",
   "metadata": {
    "execution": {
     "iopub.execute_input": "2023-11-03T16:54:41.948044Z",
     "iopub.status.busy": "2023-11-03T16:54:41.947623Z",
     "iopub.status.idle": "2023-11-03T16:56:39.305271Z",
     "shell.execute_reply": "2023-11-03T16:56:39.303792Z"
    },
    "papermill": {
     "duration": 117.465123,
     "end_time": "2023-11-03T16:56:39.308049",
     "exception": false,
     "start_time": "2023-11-03T16:54:41.842926",
     "status": "completed"
    },
    "tags": []
   },
   "outputs": [
    {
     "name": "stdout",
     "output_type": "stream",
     "text": [
      "Done!\n"
     ]
    }
   ],
   "source": [
    "valid_df['imagefile'] = None\n",
    "total = len(valid_df)\n",
    "count = 1\n",
    "\n",
    "for start in range(0, total, 1000):\n",
    "    end = min(start + 1000, total)\n",
    "\n",
    "    with concurrent.futures.ThreadPoolExecutor() as executor:\n",
    "        futures = []\n",
    "        for index, row in valid_df[start:end].iterrows():\n",
    "            image_name = row['image']\n",
    "            future = executor.submit(download_image, index, image_name, valid_df, count, total)\n",
    "            futures.append(future)\n",
    "            count += 1\n",
    "        concurrent.futures.wait(futures)\n",
    "\n",
    "print(\"Done!\")"
   ]
  },
  {
   "cell_type": "code",
   "execution_count": 10,
   "id": "0f2ceb59",
   "metadata": {
    "execution": {
     "iopub.execute_input": "2023-11-03T16:56:39.566655Z",
     "iopub.status.busy": "2023-11-03T16:56:39.566225Z",
     "iopub.status.idle": "2023-11-03T16:56:39.572726Z",
     "shell.execute_reply": "2023-11-03T16:56:39.571558Z"
    },
    "papermill": {
     "duration": 0.138373,
     "end_time": "2023-11-03T16:56:39.575096",
     "exception": false,
     "start_time": "2023-11-03T16:56:39.436723",
     "status": "completed"
    },
    "tags": []
   },
   "outputs": [],
   "source": [
    "def crop_center(cv2_img, crop_width, crop_height):\n",
    "    img_height, img_width = cv2_img.shape[:2]\n",
    "    left = (img_width - crop_width) // 2\n",
    "    top = (img_height - crop_height) // 2\n",
    "    right = (img_width + crop_width) // 2\n",
    "    bottom = (img_height + crop_height) // 2\n",
    "    return cv2_img[top:bottom, left:right]"
   ]
  },
  {
   "cell_type": "code",
   "execution_count": 11,
   "id": "44a04c76",
   "metadata": {
    "execution": {
     "iopub.execute_input": "2023-11-03T16:56:39.831584Z",
     "iopub.status.busy": "2023-11-03T16:56:39.831159Z",
     "iopub.status.idle": "2023-11-03T16:56:39.844139Z",
     "shell.execute_reply": "2023-11-03T16:56:39.842989Z"
    },
    "papermill": {
     "duration": 0.14476,
     "end_time": "2023-11-03T16:56:39.846576",
     "exception": false,
     "start_time": "2023-11-03T16:56:39.701816",
     "status": "completed"
    },
    "tags": []
   },
   "outputs": [],
   "source": [
    "class EyeDataset(Dataset):\n",
    "    def __init__(self, df, data_transform = None):\n",
    "        self.df = df\n",
    "        self.data_transform = data_transform\n",
    "        self.transform = T.Compose([\n",
    "            T.Resize([224, 224]),\n",
    "#             T.Resize([299, 299]),\n",
    "            T.ToTensor(),\n",
    "            T.Normalize(mean=(0.485, 0.456, 0.406),\n",
    "                       std=(0.229, 0.224, 0.225))\n",
    "        ])\n",
    "    \n",
    "    def __len__(self):\n",
    "        return len(self.df)\n",
    "    \n",
    "    def __getitem__(self, idx):\n",
    "        image = self.df.iloc[idx]['imagefile']\n",
    "        crop_size = min(image.shape[:2])\n",
    "        cropped_image = cv.cvtColor(crop_center(image, crop_size, crop_size), cv.COLOR_GRAY2RGB)\n",
    "        cropped_image = Image.fromarray(cropped_image)\n",
    "        \n",
    "        target = self.df.iloc[idx]['level']\n",
    "        \n",
    "        if self.data_transform is not None:\n",
    "            cropped_image = self.data_transform(cropped_image)\n",
    "        \n",
    "        return cropped_image, target\n",
    "    \n",
    "    def transform_img(self, img):\n",
    "        return self.transform(img)\n",
    "    \n",
    "    def collate_fn(self, data):\n",
    "        imgs, targets = zip(*data)\n",
    "        targets = torch.tensor(targets)\n",
    "        targets = targets.view(-1, 1).float()\n",
    "        targets = targets.to(device)\n",
    "        imgs = torch.stack(\n",
    "            [self.transform_img(img) for img in imgs], 0\n",
    "        ).to(device)\n",
    "        return imgs, targets"
   ]
  },
  {
   "cell_type": "code",
   "execution_count": 12,
   "id": "e8e86482",
   "metadata": {
    "execution": {
     "iopub.execute_input": "2023-11-03T16:56:40.103109Z",
     "iopub.status.busy": "2023-11-03T16:56:40.102416Z",
     "iopub.status.idle": "2023-11-03T16:56:40.109157Z",
     "shell.execute_reply": "2023-11-03T16:56:40.108164Z"
    },
    "papermill": {
     "duration": 0.137235,
     "end_time": "2023-11-03T16:56:40.111584",
     "exception": false,
     "start_time": "2023-11-03T16:56:39.974349",
     "status": "completed"
    },
    "tags": []
   },
   "outputs": [],
   "source": [
    "data_transforms = T.Compose([\n",
    "    T.RandomHorizontalFlip(),\n",
    "    T.RandomRotation(15),\n",
    "    T.ColorJitter(brightness=0.2, contrast=0.2, saturation=0.2, hue=0.1),\n",
    "    T.RandomResizedCrop(224, scale=(0.8, 1.0))\n",
    "])"
   ]
  },
  {
   "cell_type": "code",
   "execution_count": 13,
   "id": "a12311a2",
   "metadata": {
    "execution": {
     "iopub.execute_input": "2023-11-03T16:56:40.369604Z",
     "iopub.status.busy": "2023-11-03T16:56:40.368934Z",
     "iopub.status.idle": "2023-11-03T16:56:40.374997Z",
     "shell.execute_reply": "2023-11-03T16:56:40.374128Z"
    },
    "papermill": {
     "duration": 0.137474,
     "end_time": "2023-11-03T16:56:40.377245",
     "exception": false,
     "start_time": "2023-11-03T16:56:40.239771",
     "status": "completed"
    },
    "tags": []
   },
   "outputs": [],
   "source": [
    "train_df['level'] = np.where(train_df['level'] == 4, 1, 0)\n",
    "valid_df['level'] = np.where(valid_df['level'] == 4, 1, 0)"
   ]
  },
  {
   "cell_type": "code",
   "execution_count": 14,
   "id": "1ba8cc99",
   "metadata": {
    "execution": {
     "iopub.execute_input": "2023-11-03T16:56:40.637827Z",
     "iopub.status.busy": "2023-11-03T16:56:40.637178Z",
     "iopub.status.idle": "2023-11-03T16:56:40.643634Z",
     "shell.execute_reply": "2023-11-03T16:56:40.642797Z"
    },
    "papermill": {
     "duration": 0.139911,
     "end_time": "2023-11-03T16:56:40.645993",
     "exception": false,
     "start_time": "2023-11-03T16:56:40.506082",
     "status": "completed"
    },
    "tags": []
   },
   "outputs": [],
   "source": [
    "train_ds = EyeDataset(train_df, data_transform=data_transforms)\n",
    "train_dl = DataLoader(train_ds, batch_size=32, shuffle=True,\n",
    "                      collate_fn=train_ds.collate_fn)\n",
    "\n",
    "valid_ds = EyeDataset(valid_df)\n",
    "valid_dl = DataLoader(valid_ds, batch_size=32,\n",
    "                      collate_fn=valid_ds.collate_fn)"
   ]
  },
  {
   "cell_type": "code",
   "execution_count": 15,
   "id": "a2f1686c",
   "metadata": {
    "execution": {
     "iopub.execute_input": "2023-11-03T16:56:40.901993Z",
     "iopub.status.busy": "2023-11-03T16:56:40.901194Z",
     "iopub.status.idle": "2023-11-03T16:56:40.909084Z",
     "shell.execute_reply": "2023-11-03T16:56:40.908202Z"
    },
    "papermill": {
     "duration": 0.137554,
     "end_time": "2023-11-03T16:56:40.911412",
     "exception": false,
     "start_time": "2023-11-03T16:56:40.773858",
     "status": "completed"
    },
    "tags": []
   },
   "outputs": [],
   "source": [
    "class EyeClassifier(nn.Module):\n",
    "    def __init__(self, pretrained=True):\n",
    "        super().__init__()\n",
    "        \n",
    "        self.model = models.resnet50(pretrained=pretrained, progress=pretrained)\n",
    "    \n",
    "        for param in self.model.parameters():\n",
    "            param.requires_grad = True\n",
    "        \n",
    "        num_features = self.model.fc.in_features\n",
    "\n",
    "        self.model.fc = nn.Sequential(\n",
    "            nn.Flatten(),\n",
    "            nn.BatchNorm1d(num_features),\n",
    "            nn.ReLU(),\n",
    "            nn.Dropout(0.5),\n",
    "            nn.Linear(num_features, 1),\n",
    "            nn.Sigmoid()\n",
    "        )\n",
    "\n",
    "    def forward(self, x):\n",
    "        x = self.model(x)\n",
    "        return x"
   ]
  },
  {
   "cell_type": "code",
   "execution_count": 16,
   "id": "db4fd227",
   "metadata": {
    "execution": {
     "iopub.execute_input": "2023-11-03T16:56:41.169868Z",
     "iopub.status.busy": "2023-11-03T16:56:41.169283Z",
     "iopub.status.idle": "2023-11-03T16:56:42.819583Z",
     "shell.execute_reply": "2023-11-03T16:56:42.816996Z"
    },
    "papermill": {
     "duration": 1.783943,
     "end_time": "2023-11-03T16:56:42.822275",
     "exception": false,
     "start_time": "2023-11-03T16:56:41.038332",
     "status": "completed"
    },
    "tags": []
   },
   "outputs": [
    {
     "name": "stderr",
     "output_type": "stream",
     "text": [
      "/opt/conda/lib/python3.10/site-packages/torchvision/models/_utils.py:208: UserWarning: The parameter 'pretrained' is deprecated since 0.13 and may be removed in the future, please use 'weights' instead.\n",
      "  warnings.warn(\n",
      "/opt/conda/lib/python3.10/site-packages/torchvision/models/_utils.py:223: UserWarning: Arguments other than a weight enum or `None` for 'weights' are deprecated since 0.13 and may be removed in the future. The current behavior is equivalent to passing `weights=ResNet50_Weights.IMAGENET1K_V1`. You can also use `weights=ResNet50_Weights.DEFAULT` to get the most up-to-date weights.\n",
      "  warnings.warn(msg)\n",
      "Downloading: \"https://download.pytorch.org/models/resnet50-0676ba61.pth\" to /root/.cache/torch/hub/checkpoints/resnet50-0676ba61.pth\n",
      "100%|██████████| 97.8M/97.8M [00:00<00:00, 168MB/s]\n"
     ]
    },
    {
     "name": "stdout",
     "output_type": "stream",
     "text": [
      "==========================================================================================\n",
      "Layer (type:depth-idx)                   Output Shape              Param #\n",
      "==========================================================================================\n",
      "├─ResNet: 1-1                            [-1, 1]                   --\n",
      "|    └─Conv2d: 2-1                       [-1, 64, 112, 112]        9,408\n",
      "|    └─BatchNorm2d: 2-2                  [-1, 64, 112, 112]        128\n",
      "|    └─ReLU: 2-3                         [-1, 64, 112, 112]        --\n",
      "|    └─MaxPool2d: 2-4                    [-1, 64, 56, 56]          --\n",
      "|    └─Sequential: 2-5                   [-1, 256, 56, 56]         --\n",
      "|    |    └─Bottleneck: 3-1              [-1, 256, 56, 56]         75,008\n",
      "|    |    └─Bottleneck: 3-2              [-1, 256, 56, 56]         70,400\n",
      "|    |    └─Bottleneck: 3-3              [-1, 256, 56, 56]         70,400\n",
      "|    └─Sequential: 2-6                   [-1, 512, 28, 28]         --\n",
      "|    |    └─Bottleneck: 3-4              [-1, 512, 28, 28]         379,392\n",
      "|    |    └─Bottleneck: 3-5              [-1, 512, 28, 28]         280,064\n",
      "|    |    └─Bottleneck: 3-6              [-1, 512, 28, 28]         280,064\n",
      "|    |    └─Bottleneck: 3-7              [-1, 512, 28, 28]         280,064\n",
      "|    └─Sequential: 2-7                   [-1, 1024, 14, 14]        --\n",
      "|    |    └─Bottleneck: 3-8              [-1, 1024, 14, 14]        1,512,448\n",
      "|    |    └─Bottleneck: 3-9              [-1, 1024, 14, 14]        1,117,184\n",
      "|    |    └─Bottleneck: 3-10             [-1, 1024, 14, 14]        1,117,184\n",
      "|    |    └─Bottleneck: 3-11             [-1, 1024, 14, 14]        1,117,184\n",
      "|    |    └─Bottleneck: 3-12             [-1, 1024, 14, 14]        1,117,184\n",
      "|    |    └─Bottleneck: 3-13             [-1, 1024, 14, 14]        1,117,184\n",
      "|    └─Sequential: 2-8                   [-1, 2048, 7, 7]          --\n",
      "|    |    └─Bottleneck: 3-14             [-1, 2048, 7, 7]          6,039,552\n",
      "|    |    └─Bottleneck: 3-15             [-1, 2048, 7, 7]          4,462,592\n",
      "|    |    └─Bottleneck: 3-16             [-1, 2048, 7, 7]          4,462,592\n",
      "|    └─AdaptiveAvgPool2d: 2-9            [-1, 2048, 1, 1]          --\n",
      "|    └─Sequential: 2-10                  [-1, 1]                   --\n",
      "|    |    └─Flatten: 3-17                [-1, 2048]                --\n",
      "|    |    └─BatchNorm1d: 3-18            [-1, 2048]                4,096\n",
      "|    |    └─ReLU: 3-19                   [-1, 2048]                --\n",
      "|    |    └─Dropout: 3-20                [-1, 2048]                --\n",
      "|    |    └─Linear: 3-21                 [-1, 1]                   2,049\n",
      "|    |    └─Sigmoid: 3-22                [-1, 1]                   --\n",
      "==========================================================================================\n",
      "Total params: 23,514,177\n",
      "Trainable params: 23,514,177\n",
      "Non-trainable params: 0\n",
      "Total mult-adds (G): 3.80\n",
      "==========================================================================================\n",
      "Input size (MB): 0.57\n",
      "Forward/backward pass size (MB): 146.63\n",
      "Params size (MB): 89.70\n",
      "Estimated Total Size (MB): 236.91\n",
      "==========================================================================================\n"
     ]
    }
   ],
   "source": [
    "classifier = EyeClassifier(pretrained=True)\n",
    "_ = summary(classifier, torch.ones(1,3,224,224))"
   ]
  },
  {
   "cell_type": "code",
   "execution_count": 17,
   "id": "a2c4097d",
   "metadata": {
    "execution": {
     "iopub.execute_input": "2023-11-03T16:56:43.090452Z",
     "iopub.status.busy": "2023-11-03T16:56:43.090016Z",
     "iopub.status.idle": "2023-11-03T16:56:43.101238Z",
     "shell.execute_reply": "2023-11-03T16:56:43.100314Z"
    },
    "papermill": {
     "duration": 0.148021,
     "end_time": "2023-11-03T16:56:43.103581",
     "exception": false,
     "start_time": "2023-11-03T16:56:42.955560",
     "status": "completed"
    },
    "tags": []
   },
   "outputs": [],
   "source": [
    "def train(data, classifier, optimizer, loss_fn):\n",
    "    classifier.train()\n",
    "    imgs, targets = data\n",
    "    outputs = classifier(imgs.to(device))\n",
    "    loss = loss_fn(outputs.to(device), targets.to(device))\n",
    "    optimizer.zero_grad()\n",
    "    loss.backward()\n",
    "    optimizer.step()\n",
    "    \n",
    "    outputs = outputs.cpu().detach().tolist()\n",
    "    targets = targets.cpu().detach().tolist()\n",
    "    preds = list(map(lambda x: int(x[0] > 0.5), outputs))\n",
    "    \n",
    "    fake_recall_score = recall_score(targets, preds, pos_label=0,zero_division=0)\n",
    "    fake_accuracy_score = accuracy_score(targets, preds)\n",
    "    fake_precision_score = precision_score(targets, preds, pos_label=0,zero_division=0)\n",
    "    fake_f1_score = f1_score(targets, preds, pos_label=0,zero_division=0)\n",
    "    fpr, tpr, thresholds = roc_curve(targets, outputs)\n",
    "    roc_auc = auc(fpr, tpr)\n",
    "    \n",
    "    return loss.cpu().detach().item(), fake_recall_score, fake_accuracy_score, fake_precision_score, fake_f1_score, fpr, tpr, roc_auc"
   ]
  },
  {
   "cell_type": "code",
   "execution_count": 18,
   "id": "b3076708",
   "metadata": {
    "execution": {
     "iopub.execute_input": "2023-11-03T16:56:43.366571Z",
     "iopub.status.busy": "2023-11-03T16:56:43.365810Z",
     "iopub.status.idle": "2023-11-03T16:56:43.375243Z",
     "shell.execute_reply": "2023-11-03T16:56:43.374100Z"
    },
    "papermill": {
     "duration": 0.143325,
     "end_time": "2023-11-03T16:56:43.377968",
     "exception": false,
     "start_time": "2023-11-03T16:56:43.234643",
     "status": "completed"
    },
    "tags": []
   },
   "outputs": [],
   "source": [
    "@torch.no_grad()\n",
    "def validate(data, classifier, loss_fn):\n",
    "    classifier.eval()\n",
    "    imgs, targets = data\n",
    "    outputs = classifier(imgs.to(device))\n",
    "    loss = loss_fn(outputs.to(device), targets.to(device))\n",
    "    \n",
    "    outputs = outputs.cpu().detach().tolist()\n",
    "    targets = targets.cpu().detach().tolist()\n",
    "    preds = list(map(lambda x: int(x[0] > 0.5), outputs))\n",
    "    fake_recall_score = recall_score(targets, preds, pos_label=0, zero_division=0)\n",
    "    fake_accuracy_score = accuracy_score(targets, preds)\n",
    "    fake_precision_score = precision_score(targets, preds, pos_label=0,zero_division=0)\n",
    "    fake_f1_score = f1_score(targets, preds, pos_label=0,zero_division=0)\n",
    "    fpr, tpr, thresholds = roc_curve(targets, outputs)\n",
    "    roc_auc = auc(fpr, tpr)\n",
    "    \n",
    "    return loss.cpu().detach().item(), fake_recall_score, fake_accuracy_score, fake_precision_score, fake_f1_score, fpr, tpr, roc_auc"
   ]
  },
  {
   "cell_type": "code",
   "execution_count": 19,
   "id": "fcc91bd1",
   "metadata": {
    "execution": {
     "iopub.execute_input": "2023-11-03T16:56:43.702171Z",
     "iopub.status.busy": "2023-11-03T16:56:43.701682Z",
     "iopub.status.idle": "2023-11-03T16:56:44.273099Z",
     "shell.execute_reply": "2023-11-03T16:56:44.271856Z"
    },
    "papermill": {
     "duration": 0.769289,
     "end_time": "2023-11-03T16:56:44.275744",
     "exception": false,
     "start_time": "2023-11-03T16:56:43.506455",
     "status": "completed"
    },
    "tags": []
   },
   "outputs": [],
   "source": [
    "classifier = EyeClassifier(pretrained=True).to(device)\n",
    "loss_fn = nn.BCELoss().to(device)\n",
    "optimizer = optim.Adam(classifier.parameters(), lr=1e-3, weight_decay=1e-3)\n",
    "scheduler = optim.lr_scheduler.StepLR(optimizer, step_size=5,\n",
    "                                      gamma=0.25)\n",
    "best_auc_score = 0\n",
    "n_epochs = 15\n",
    "xticks = list(i+1 for i in range(n_epochs))"
   ]
  },
  {
   "cell_type": "code",
   "execution_count": 20,
   "id": "97f2216e",
   "metadata": {
    "execution": {
     "iopub.execute_input": "2023-11-03T16:56:44.534926Z",
     "iopub.status.busy": "2023-11-03T16:56:44.534485Z",
     "iopub.status.idle": "2023-11-03T22:52:21.309031Z",
     "shell.execute_reply": "2023-11-03T22:52:21.307730Z"
    },
    "papermill": {
     "duration": 21336.90954,
     "end_time": "2023-11-03T22:52:21.313477",
     "exception": false,
     "start_time": "2023-11-03T16:56:44.403937",
     "status": "completed"
    },
    "tags": []
   },
   "outputs": [
    {
     "data": {
      "application/vnd.jupyter.widget-view+json": {
       "model_id": "d9ba993f7794461e91cba3c5a2c82abd",
       "version_major": 2,
       "version_minor": 0
      },
      "text/plain": [
       "Training:   0%|          | 0/15 [00:00<?, ?it/s]"
      ]
     },
     "metadata": {},
     "output_type": "display_data"
    },
    {
     "name": "stdout",
     "output_type": "stream",
     "text": [
      "epoch: 1 \ttrain loss: 0.631 \ttrain recall score: 0.735 \ttrain accuracy score: 0.710 \ttrain precision score: 0.710 \ttrain f1 score: 0.711 \ttrain auc: 0.776 \tvalid loss: 0.837 \tvalid recall score: 0.623 \tvalid accuracy score: 0.717 \tvalid precision score: 0.765 \tvalid f1 score: 0.681 \tvalid auc: 0.834\n",
      "epoch: 2 \ttrain loss: 0.454 \ttrain recall score: 0.843 \ttrain accuracy score: 0.807 \ttrain precision score: 0.789 \ttrain f1 score: 0.809 \ttrain auc: 0.883 \tvalid loss: 0.816 \tvalid recall score: 0.963 \tvalid accuracy score: 0.710 \tvalid precision score: 0.642 \tvalid f1 score: 0.766 \tvalid auc: 0.795\n",
      "epoch: 3 \ttrain loss: 0.445 \ttrain recall score: 0.834 \ttrain accuracy score: 0.810 \ttrain precision score: 0.802 \ttrain f1 score: 0.809 \ttrain auc: 0.892 \tvalid loss: 0.417 \tvalid recall score: 0.895 \tvalid accuracy score: 0.806 \tvalid precision score: 0.756 \tvalid f1 score: 0.816 \tvalid auc: 0.894\n",
      "epoch: 4 \ttrain loss: 0.493 \ttrain recall score: 0.812 \ttrain accuracy score: 0.780 \ttrain precision score: 0.769 \ttrain f1 score: 0.783 \ttrain auc: 0.866 \tvalid loss: 0.725 \tvalid recall score: 0.448 \tvalid accuracy score: 0.642 \tvalid precision score: 0.716 \tvalid f1 score: 0.544 \tvalid auc: 0.744\n",
      "epoch: 5 \ttrain loss: 0.387 \ttrain recall score: 0.844 \ttrain accuracy score: 0.838 \ttrain precision score: 0.838 \ttrain f1 score: 0.836 \ttrain auc: 0.918 \tvalid loss: 0.545 \tvalid recall score: 0.609 \tvalid accuracy score: 0.717 \tvalid precision score: 0.776 \tvalid f1 score: 0.675 \tvalid auc: 0.852\n",
      "epoch: 6 \ttrain loss: 0.336 \ttrain recall score: 0.849 \ttrain accuracy score: 0.855 \ttrain precision score: 0.866 \ttrain f1 score: 0.852 \ttrain auc: 0.938 \tvalid loss: 0.352 \tvalid recall score: 0.913 \tvalid accuracy score: 0.863 \tvalid precision score: 0.825 \tvalid f1 score: 0.865 \tvalid auc: 0.923\n",
      "epoch: 7 \ttrain loss: 0.311 \ttrain recall score: 0.870 \ttrain accuracy score: 0.871 \ttrain precision score: 0.876 \ttrain f1 score: 0.867 \ttrain auc: 0.951 \tvalid loss: 0.359 \tvalid recall score: 0.916 \tvalid accuracy score: 0.858 \tvalid precision score: 0.817 \tvalid f1 score: 0.861 \tvalid auc: 0.932\n",
      "epoch: 8 \ttrain loss: 0.294 \ttrain recall score: 0.891 \ttrain accuracy score: 0.886 \ttrain precision score: 0.886 \ttrain f1 score: 0.885 \ttrain auc: 0.952 \tvalid loss: 0.360 \tvalid recall score: 0.937 \tvalid accuracy score: 0.854 \tvalid precision score: 0.802 \tvalid f1 score: 0.862 \tvalid auc: 0.939\n",
      "epoch: 9 \ttrain loss: 0.281 \ttrain recall score: 0.893 \ttrain accuracy score: 0.883 \ttrain precision score: 0.880 \ttrain f1 score: 0.882 \ttrain auc: 0.958 \tvalid loss: 0.329 \tvalid recall score: 0.885 \tvalid accuracy score: 0.863 \tvalid precision score: 0.843 \tvalid f1 score: 0.860 \tvalid auc: 0.941\n",
      "epoch: 10 \ttrain loss: 0.281 \ttrain recall score: 0.900 \ttrain accuracy score: 0.898 \ttrain precision score: 0.897 \ttrain f1 score: 0.895 \ttrain auc: 0.957 \tvalid loss: 0.339 \tvalid recall score: 0.913 \tvalid accuracy score: 0.869 \tvalid precision score: 0.836 \tvalid f1 score: 0.870 \tvalid auc: 0.932\n",
      "epoch: 11 \ttrain loss: 0.268 \ttrain recall score: 0.896 \ttrain accuracy score: 0.892 \ttrain precision score: 0.894 \ttrain f1 score: 0.891 \ttrain auc: 0.965 \tvalid loss: 0.314 \tvalid recall score: 0.903 \tvalid accuracy score: 0.879 \tvalid precision score: 0.858 \tvalid f1 score: 0.878 \tvalid auc: 0.944\n",
      "epoch: 12 \ttrain loss: 0.266 \ttrain recall score: 0.899 \ttrain accuracy score: 0.896 \ttrain precision score: 0.898 \ttrain f1 score: 0.894 \ttrain auc: 0.966 \tvalid loss: 0.297 \tvalid recall score: 0.876 \tvalid accuracy score: 0.877 \tvalid precision score: 0.866 \tvalid f1 score: 0.869 \tvalid auc: 0.948\n",
      "epoch: 13 \ttrain loss: 0.254 \ttrain recall score: 0.899 \ttrain accuracy score: 0.896 \ttrain precision score: 0.900 \ttrain f1 score: 0.895 \ttrain auc: 0.966 \tvalid loss: 0.304 \tvalid recall score: 0.898 \tvalid accuracy score: 0.881 \tvalid precision score: 0.864 \tvalid f1 score: 0.879 \tvalid auc: 0.948\n",
      "epoch: 14 \ttrain loss: 0.238 \ttrain recall score: 0.906 \ttrain accuracy score: 0.905 \ttrain precision score: 0.908 \ttrain f1 score: 0.904 \ttrain auc: 0.970 \tvalid loss: 0.319 \tvalid recall score: 0.919 \tvalid accuracy score: 0.892 \tvalid precision score: 0.868 \tvalid f1 score: 0.890 \tvalid auc: 0.943\n",
      "epoch: 15 \ttrain loss: 0.245 \ttrain recall score: 0.924 \ttrain accuracy score: 0.911 \ttrain precision score: 0.905 \ttrain f1 score: 0.912 \ttrain auc: 0.968 \tvalid loss: 0.310 \tvalid recall score: 0.925 \tvalid accuracy score: 0.881 \tvalid precision score: 0.849 \tvalid f1 score: 0.884 \tvalid auc: 0.947\n"
     ]
    }
   ],
   "source": [
    "mem = {\n",
    "    'train_loss': [],\n",
    "    'train_recall_score': [],\n",
    "    'train_accuracy_score': [],\n",
    "    'train_precision_score': [],\n",
    "    'train_f1_score': [],\n",
    "    'train_tpr': [],\n",
    "    'train_fpr': [],\n",
    "    'train_auc': [],\n",
    "    'valid_loss': [],\n",
    "    'valid_recall_score': [],\n",
    "    'valid_accuracy_score': [],\n",
    "    'valid_precision_score': [],\n",
    "    'valid_f1_score': [],\n",
    "    'valid_tpr': [],\n",
    "    'valid_fpr': [],\n",
    "    'valid_auc': [],\n",
    "}\n",
    "\n",
    "for epoch in tqdm(range(n_epochs), desc='Training'):\n",
    "    n_batch = len(train_dl)\n",
    "    train_losses, train_recall_scores, train_accuracy_scores, train_precision_scores, train_f1_scores, train_tprs, train_fprs, train_aucs = [], [], [], [], [], [], [], []\n",
    "    for i, data in enumerate(train_dl):\n",
    "        train_loss, train_recall_score, train_accuracy_score, train_precision_score, train_f1_score, train_tpr, train_fpr, train_auc = train(data, classifier, optimizer, loss_fn)\n",
    "        train_losses.append(train_loss)\n",
    "        train_recall_scores.append(train_recall_score)\n",
    "        train_accuracy_scores.append(train_accuracy_score)\n",
    "        train_precision_scores.append(train_precision_score)\n",
    "        train_f1_scores.append(train_f1_score)\n",
    "        train_tprs.append(train_tpr)\n",
    "        train_fprs.append(train_fpr)\n",
    "        train_aucs.append(train_auc)\n",
    "        pos = epoch + ((i+1)/n_batch)\n",
    "        print(\n",
    "            'epoch:', \"%.3f\" % pos,\n",
    "            '\\ttrain loss:', \"%.3f\" % train_loss,\n",
    "            '\\ttrain recall score:', \"%.3f\" % train_recall_score, \n",
    "            '\\ttrain accuracy score:', \"%.3f\" % train_accuracy_score, \n",
    "            '\\ttrain precision score:', \"%.3f\" % train_precision_score, \n",
    "            '\\ttrain f1 score:', \"%.3f\" % train_f1_score, \n",
    "            '\\ttrain auc:', \"%.3f\" % train_auc, \n",
    "            end='\\r'\n",
    "        )\n",
    "        \n",
    "    mem['train_loss'].append(np.mean(train_losses))\n",
    "    mem['train_recall_score'].append(np.mean(train_recall_scores))\n",
    "    mem['train_accuracy_score'].append(np.mean(train_accuracy_scores))\n",
    "    mem['train_precision_score'].append(np.mean(train_precision_scores))\n",
    "    mem['train_f1_score'].append(np.mean(train_f1_scores))\n",
    "    mem['train_tpr'].append(np.concatenate(train_fprs))\n",
    "    mem['train_fpr'].append(np.concatenate(train_tprs))\n",
    "    mem['train_auc'].append(np.mean(train_aucs))\n",
    "    \n",
    "    n_batch = len(valid_dl)\n",
    "    valid_losses, valid_recall_scores, valid_f1_scores, valid_accuracy_scores, valid_precision_scores, valid_tprs, valid_fprs, valid_aucs =  [], [], [], [], [], [], [], []\n",
    "    for i, data in enumerate(valid_dl):\n",
    "        valid_loss, valid_recall_score, valid_accuracy_score, valid_precision_score, valid_f1_score, valid_tpr, valid_fpr, valid_auc = validate(data, classifier, loss_fn)\n",
    "        valid_losses.append(valid_loss)\n",
    "        valid_recall_scores.append(valid_recall_score)\n",
    "        valid_accuracy_scores.append(valid_accuracy_score)\n",
    "        valid_precision_scores.append(valid_precision_score)\n",
    "        valid_f1_scores.append(valid_f1_score)\n",
    "        valid_tprs.append(valid_tpr)\n",
    "        valid_fprs.append(valid_fpr)\n",
    "        valid_aucs.append(valid_auc)\n",
    "        pos = epoch + ((i+1)/n_batch)\n",
    "        print(\n",
    "            'epoch:', \"%.3f\" % pos,\n",
    "            '\\tvalid loss:', \"%.3f\" % valid_loss,\n",
    "            '\\tvalid recall score:', \"%.3f\" % valid_recall_score, \n",
    "            '\\tvalid accuracy score:', \"%.3f\" % valid_accuracy_score, \n",
    "            '\\tvalid precision score:', \"%.3f\" % valid_precision_score, \n",
    "            '\\tvalid f1 score:', \"%.3f\" % valid_f1_score, \n",
    "            '\\tvalid auc:', \"%.3f\" % valid_auc, \n",
    "            end='\\r'\n",
    "        )\n",
    "    \n",
    "    cur_auc_score = np.mean(valid_aucs)\n",
    "    mem['valid_loss'].append(np.mean(valid_losses))\n",
    "    mem['valid_recall_score'].append(np.mean(valid_recall_scores))\n",
    "    mem['valid_accuracy_score'].append(np.mean(valid_accuracy_scores))\n",
    "    mem['valid_precision_score'].append(np.mean(valid_precision_scores))\n",
    "    mem['valid_f1_score'].append(np.mean(valid_f1_scores))\n",
    "    mem['valid_tpr'].append(np.concatenate(valid_fprs))\n",
    "    mem['valid_fpr'].append(np.concatenate(valid_tprs))\n",
    "    mem['valid_auc'].append(np.mean(valid_aucs))\n",
    "    \n",
    "    print(\n",
    "        'epoch:', epoch+1,\n",
    "        '\\ttrain loss:', \"%.3f\" % mem['train_loss'][-1],\n",
    "        '\\ttrain recall score:', \"%.3f\" % mem['train_recall_score'][-1],\n",
    "        '\\ttrain accuracy score:', \"%.3f\" % mem['train_accuracy_score'][-1],\n",
    "        '\\ttrain precision score:', \"%.3f\" % mem['train_precision_score'][-1],\n",
    "        '\\ttrain f1 score:', \"%.3f\" % mem['train_f1_score'][-1],\n",
    "        '\\ttrain auc:', \"%.3f\" % mem['train_auc'][-1],\n",
    "        '\\tvalid loss:', \"%.3f\" % mem['valid_loss'][-1],\n",
    "        '\\tvalid recall score:', \"%.3f\" % mem['valid_recall_score'][-1],\n",
    "        '\\tvalid accuracy score:', \"%.3f\" % mem['valid_accuracy_score'][-1],\n",
    "        '\\tvalid precision score:', \"%.3f\" % mem['valid_precision_score'][-1],\n",
    "        '\\tvalid f1 score:', \"%.3f\" % mem['valid_f1_score'][-1],\n",
    "        '\\tvalid auc:', \"%.3f\" % mem['valid_auc'][-1],\n",
    "    )\n",
    "    \n",
    "    if best_auc_score < cur_auc_score:\n",
    "        best_auc_score = cur_auc_score\n",
    "        torch.save(classifier.state_dict(), './saved_model/diabetic_state_dict.pth')\n",
    "        torch.save(classifier, './saved_model/diabetic_model.pth')\n",
    "        \n",
    "    scheduler.step()"
   ]
  },
  {
   "cell_type": "code",
   "execution_count": 21,
   "id": "21722017",
   "metadata": {
    "execution": {
     "iopub.execute_input": "2023-11-03T22:52:21.775112Z",
     "iopub.status.busy": "2023-11-03T22:52:21.774142Z",
     "iopub.status.idle": "2023-11-03T22:52:22.318403Z",
     "shell.execute_reply": "2023-11-03T22:52:22.316991Z"
    },
    "papermill": {
     "duration": 0.777792,
     "end_time": "2023-11-03T22:52:22.320893",
     "exception": false,
     "start_time": "2023-11-03T22:52:21.543101",
     "status": "completed"
    },
    "tags": []
   },
   "outputs": [
    {
     "data": {
      "image/png": "[encoded data removed]",
      "text/plain": [
       "<Figure size 640x480 with 1 Axes>"
      ]
     },
     "metadata": {},
     "output_type": "display_data"
    }
   ],
   "source": [
    "plt.plot(xticks, mem['train_loss'])\n",
    "plt.plot(xticks, mem['valid_loss'])\n",
    "plt.legend(['train', 'valid'])\n",
    "plt.xlabel('epoch')\n",
    "plt.title('loss')\n",
    "plt.show()"
   ]
  },
  {
   "cell_type": "code",
   "execution_count": 22,
   "id": "2d8c2bb7",
   "metadata": {
    "execution": {
     "iopub.execute_input": "2023-11-03T22:52:22.804424Z",
     "iopub.status.busy": "2023-11-03T22:52:22.803464Z",
     "iopub.status.idle": "2023-11-03T22:52:23.275798Z",
     "shell.execute_reply": "2023-11-03T22:52:23.274507Z"
    },
    "papermill": {
     "duration": 0.725548,
     "end_time": "2023-11-03T22:52:23.278906",
     "exception": false,
     "start_time": "2023-11-03T22:52:22.553358",
     "status": "completed"
    },
    "tags": []
   },
   "outputs": [
    {
     "data": {
      "image/png": "[encoded data removed]",
      "text/plain": [
       "<Figure size 640x480 with 1 Axes>"
      ]
     },
     "metadata": {},
     "output_type": "display_data"
    }
   ],
   "source": [
    "plt.plot(xticks, mem['train_recall_score'])\n",
    "plt.plot(xticks, mem['valid_recall_score'])\n",
    "plt.legend(['train', 'valid'])\n",
    "plt.xlabel('epoch')\n",
    "plt.title('recall score')\n",
    "plt.show()"
   ]
  },
  {
   "cell_type": "code",
   "execution_count": 23,
   "id": "49302063",
   "metadata": {
    "execution": {
     "iopub.execute_input": "2023-11-03T22:52:23.784067Z",
     "iopub.status.busy": "2023-11-03T22:52:23.783061Z",
     "iopub.status.idle": "2023-11-03T22:52:24.232976Z",
     "shell.execute_reply": "2023-11-03T22:52:24.231761Z"
    },
    "papermill": {
     "duration": 0.694192,
     "end_time": "2023-11-03T22:52:24.236049",
     "exception": false,
     "start_time": "2023-11-03T22:52:23.541857",
     "status": "completed"
    },
    "tags": []
   },
   "outputs": [
    {
     "data": {
      "image/png": "[encoded data removed]",
      "text/plain": [
       "<Figure size 640x480 with 1 Axes>"
      ]
     },
     "metadata": {},
     "output_type": "display_data"
    }
   ],
   "source": [
    "plt.plot(xticks, mem['train_accuracy_score'])\n",
    "plt.plot(xticks, mem['valid_accuracy_score'])\n",
    "plt.legend(['train', 'valid'])\n",
    "plt.xlabel('epoch')\n",
    "plt.title('accuracy score')\n",
    "plt.show()"
   ]
  },
  {
   "cell_type": "code",
   "execution_count": 24,
   "id": "c98ab5e6",
   "metadata": {
    "execution": {
     "iopub.execute_input": "2023-11-03T22:52:24.707976Z",
     "iopub.status.busy": "2023-11-03T22:52:24.707548Z",
     "iopub.status.idle": "2023-11-03T22:52:25.151476Z",
     "shell.execute_reply": "2023-11-03T22:52:25.150268Z"
    },
    "papermill": {
     "duration": 0.67913,
     "end_time": "2023-11-03T22:52:25.154074",
     "exception": false,
     "start_time": "2023-11-03T22:52:24.474944",
     "status": "completed"
    },
    "tags": []
   },
   "outputs": [
    {
     "data": {
      "image/png": "[encoded data removed]",
      "text/plain": [
       "<Figure size 640x480 with 1 Axes>"
      ]
     },
     "metadata": {},
     "output_type": "display_data"
    }
   ],
   "source": [
    "plt.plot(xticks, mem['train_precision_score'])\n",
    "plt.plot(xticks, mem['valid_precision_score'])\n",
    "plt.legend(['train', 'valid'])\n",
    "plt.xlabel('epoch')\n",
    "plt.title('precision score')\n",
    "plt.show()"
   ]
  },
  {
   "cell_type": "code",
   "execution_count": 25,
   "id": "95d7e019",
   "metadata": {
    "execution": {
     "iopub.execute_input": "2023-11-03T22:52:25.735841Z",
     "iopub.status.busy": "2023-11-03T22:52:25.734291Z",
     "iopub.status.idle": "2023-11-03T22:52:26.177840Z",
     "shell.execute_reply": "2023-11-03T22:52:26.176419Z"
    },
    "papermill": {
     "duration": 0.681225,
     "end_time": "2023-11-03T22:52:26.180423",
     "exception": false,
     "start_time": "2023-11-03T22:52:25.499198",
     "status": "completed"
    },
    "tags": []
   },
   "outputs": [
    {
     "data": {
      "image/png": "[encoded data removed]",
      "text/plain": [
       "<Figure size 640x480 with 1 Axes>"
      ]
     },
     "metadata": {},
     "output_type": "display_data"
    }
   ],
   "source": [
    "plt.plot(xticks, mem['train_f1_score'])\n",
    "plt.plot(xticks, mem['valid_f1_score'])\n",
    "plt.legend(['train', 'valid'])\n",
    "plt.xlabel('epoch')\n",
    "plt.title('f1 score')\n",
    "plt.show()"
   ]
  },
  {
   "cell_type": "code",
   "execution_count": 26,
   "id": "697b22fd",
   "metadata": {
    "execution": {
     "iopub.execute_input": "2023-11-03T22:52:26.651732Z",
     "iopub.status.busy": "2023-11-03T22:52:26.649568Z",
     "iopub.status.idle": "2023-11-03T22:52:27.067600Z",
     "shell.execute_reply": "2023-11-03T22:52:27.066432Z"
    },
    "papermill": {
     "duration": 0.65526,
     "end_time": "2023-11-03T22:52:27.070074",
     "exception": false,
     "start_time": "2023-11-03T22:52:26.414814",
     "status": "completed"
    },
    "tags": []
   },
   "outputs": [
    {
     "data": {
      "image/png": "[encoded data removed]",
      "text/plain": [
       "<Figure size 640x480 with 1 Axes>"
      ]
     },
     "metadata": {},
     "output_type": "display_data"
    }
   ],
   "source": [
    "plt.plot(xticks, mem['train_auc'])\n",
    "plt.plot(xticks, mem['valid_auc'])\n",
    "plt.legend(['train', 'valid'])\n",
    "plt.xlabel('epoch')\n",
    "plt.title('auc score')\n",
    "plt.show()"
   ]
  }
 ],
 "metadata": {
  "kernelspec": {
   "display_name": "Python 3",
   "language": "python",
   "name": "python3"
  },
  "language_info": {
   "codemirror_mode": {
    "name": "ipython",
    "version": 3
   },
   "file_extension": ".py",
   "mimetype": "text/x-python",
   "name": "python",
   "nbconvert_exporter": "python",
   "pygments_lexer": "ipython3",
   "version": "3.10.12"
  },
  "papermill": {
   "default_parameters": {},
   "duration": 21966.961778,
   "end_time": "2023-11-03T22:52:32.073478",
   "environment_variables": {},
   "exception": null,
   "input_path": "__notebook__.ipynb",
   "output_path": "__notebook__.ipynb",
   "parameters": {},
   "start_time": "2023-11-03T16:46:25.111700",
   "version": "2.4.0"
  },
  "widgets": {
   "application/vnd.jupyter.widget-state+json": {
    "state": {
     "27d64bf5ae4046ed8b87f7b57e72a1b8": {
      "model_module": "@jupyter-widgets/base",
      "model_module_version": "1.2.0",
      "model_name": "LayoutModel",
      "state": {
       "_model_module": "@jupyter-widgets/base",
       "_model_module_version": "1.2.0",
       "_model_name": "LayoutModel",
       "_view_count": null,
       "_view_module": "@jupyter-widgets/base",
       "_view_module_version": "1.2.0",
       "_view_name": "LayoutView",
       "align_content": null,
       "align_items": null,
       "align_self": null,
       "border": null,
       "bottom": null,
       "display": null,
       "flex": null,
       "flex_flow": null,
       "grid_area": null,
       "grid_auto_columns": null,
       "grid_auto_flow": null,
       "grid_auto_rows": null,
       "grid_column": null,
       "grid_gap": null,
       "grid_row": null,
       "grid_template_areas": null,
       "grid_template_columns": null,
       "grid_template_rows": null,
       "height": null,
       "justify_content": null,
       "justify_items": null,
       "left": null,
       "margin": null,
       "max_height": null,
       "max_width": null,
       "min_height": null,
       "min_width": null,
       "object_fit": null,
       "object_position": null,
       "order": null,
       "overflow": null,
       "overflow_x": null,
       "overflow_y": null,
       "padding": null,
       "right": null,
       "top": null,
       "visibility": null,
       "width": null
      }
     },
     "4e2a4fa9633547f2b7ce3be9015c1d4e": {
      "model_module": "@jupyter-widgets/controls",
      "model_module_version": "1.5.0",
      "model_name": "FloatProgressModel",
      "state": {
       "_dom_classes": [],
       "_model_module": "@jupyter-widgets/controls",
       "_model_module_version": "1.5.0",
       "_model_name": "FloatProgressModel",
       "_view_count": null,
       "_view_module": "@jupyter-widgets/controls",
       "_view_module_version": "1.5.0",
       "_view_name": "ProgressView",
       "bar_style": "success",
       "description": "",
       "description_tooltip": null,
       "layout": "IPY_MODEL_62d5cd56534b42f698a2df0aa17b36f0",
       "max": 15.0,
       "min": 0.0,
       "orientation": "horizontal",
       "style": "IPY_MODEL_509bbc6a13f84ccd9967a4ac4299c798",
       "value": 15.0
      }
     },
     "509bbc6a13f84ccd9967a4ac4299c798": {
      "model_module": "@jupyter-widgets/controls",
      "model_module_version": "1.5.0",
      "model_name": "ProgressStyleModel",
      "state": {
       "_model_module": "@jupyter-widgets/controls",
       "_model_module_version": "1.5.0",
       "_model_name": "ProgressStyleModel",
       "_view_count": null,
       "_view_module": "@jupyter-widgets/base",
       "_view_module_version": "1.2.0",
       "_view_name": "StyleView",
       "bar_color": null,
       "description_width": ""
      }
     },
     "5a759ca6c9924727b338e63768988377": {
      "model_module": "@jupyter-widgets/base",
      "model_module_version": "1.2.0",
      "model_name": "LayoutModel",
      "state": {
       "_model_module": "@jupyter-widgets/base",
       "_model_module_version": "1.2.0",
       "_model_name": "LayoutModel",
       "_view_count": null,
       "_view_module": "@jupyter-widgets/base",
       "_view_module_version": "1.2.0",
       "_view_name": "LayoutView",
       "align_content": null,
       "align_items": null,
       "align_self": null,
       "border": null,
       "bottom": null,
       "display": null,
       "flex": null,
       "flex_flow": null,
       "grid_area": null,
       "grid_auto_columns": null,
       "grid_auto_flow": null,
       "grid_auto_rows": null,
       "grid_column": null,
       "grid_gap": null,
       "grid_row": null,
       "grid_template_areas": null,
       "grid_template_columns": null,
       "grid_template_rows": null,
       "height": null,
       "justify_content": null,
       "justify_items": null,
       "left": null,
       "margin": null,
       "max_height": null,
       "max_width": null,
       "min_height": null,
       "min_width": null,
       "object_fit": null,
       "object_position": null,
       "order": null,
       "overflow": null,
       "overflow_x": null,
       "overflow_y": null,
       "padding": null,
       "right": null,
       "top": null,
       "visibility": null,
       "width": null
      }
     },
     "62d5cd56534b42f698a2df0aa17b36f0": {
      "model_module": "@jupyter-widgets/base",
      "model_module_version": "1.2.0",
      "model_name": "LayoutModel",
      "state": {
       "_model_module": "@jupyter-widgets/base",
       "_model_module_version": "1.2.0",
       "_model_name": "LayoutModel",
       "_view_count": null,
       "_view_module": "@jupyter-widgets/base",
       "_view_module_version": "1.2.0",
       "_view_name": "LayoutView",
       "align_content": null,
       "align_items": null,
       "align_self": null,
       "border": null,
       "bottom": null,
       "display": null,
       "flex": null,
       "flex_flow": null,
       "grid_area": null,
       "grid_auto_columns": null,
       "grid_auto_flow": null,
       "grid_auto_rows": null,
       "grid_column": null,
       "grid_gap": null,
       "grid_row": null,
       "grid_template_areas": null,
       "grid_template_columns": null,
       "grid_template_rows": null,
       "height": null,
       "justify_content": null,
       "justify_items": null,
       "left": null,
       "margin": null,
       "max_height": null,
       "max_width": null,
       "min_height": null,
       "min_width": null,
       "object_fit": null,
       "object_position": null,
       "order": null,
       "overflow": null,
       "overflow_x": null,
       "overflow_y": null,
       "padding": null,
       "right": null,
       "top": null,
       "visibility": null,
       "width": null
      }
     },
     "7bec0a50ec1a44e7931518d788ca5075": {
      "model_module": "@jupyter-widgets/controls",
      "model_module_version": "1.5.0",
      "model_name": "HTMLModel",
      "state": {
       "_dom_classes": [],
       "_model_module": "@jupyter-widgets/controls",
       "_model_module_version": "1.5.0",
       "_model_name": "HTMLModel",
       "_view_count": null,
       "_view_module": "@jupyter-widgets/controls",
       "_view_module_version": "1.5.0",
       "_view_name": "HTMLView",
       "description": "",
       "description_tooltip": null,
       "layout": "IPY_MODEL_27d64bf5ae4046ed8b87f7b57e72a1b8",
       "placeholder": "​",
       "style": "IPY_MODEL_951c0d79bd8e4c08bd711b8039a8d21e",
       "value": " 15/15 [5:55:36&lt;00:00, 1418.10s/it]"
      }
     },
     "951c0d79bd8e4c08bd711b8039a8d21e": {
      "model_module": "@jupyter-widgets/controls",
      "model_module_version": "1.5.0",
      "model_name": "DescriptionStyleModel",
      "state": {
       "_model_module": "@jupyter-widgets/controls",
       "_model_module_version": "1.5.0",
       "_model_name": "DescriptionStyleModel",
       "_view_count": null,
       "_view_module": "@jupyter-widgets/base",
       "_view_module_version": "1.2.0",
       "_view_name": "StyleView",
       "description_width": ""
      }
     },
     "9b7a759d86504b43a23ab3e221a8febe": {
      "model_module": "@jupyter-widgets/controls",
      "model_module_version": "1.5.0",
      "model_name": "HTMLModel",
      "state": {
       "_dom_classes": [],
       "_model_module": "@jupyter-widgets/controls",
       "_model_module_version": "1.5.0",
       "_model_name": "HTMLModel",
       "_view_count": null,
       "_view_module": "@jupyter-widgets/controls",
       "_view_module_version": "1.5.0",
       "_view_name": "HTMLView",
       "description": "",
       "description_tooltip": null,
       "layout": "IPY_MODEL_5a759ca6c9924727b338e63768988377",
       "placeholder": "​",
       "style": "IPY_MODEL_b92f51fe0a6c408eb042b5bba370bc79",
       "value": "Training: 100%"
      }
     },
     "b92f51fe0a6c408eb042b5bba370bc79": {
      "model_module": "@jupyter-widgets/controls",
      "model_module_version": "1.5.0",
      "model_name": "DescriptionStyleModel",
      "state": {
       "_model_module": "@jupyter-widgets/controls",
       "_model_module_version": "1.5.0",
       "_model_name": "DescriptionStyleModel",
       "_view_count": null,
       "_view_module": "@jupyter-widgets/base",
       "_view_module_version": "1.2.0",
       "_view_name": "StyleView",
       "description_width": ""
      }
     },
     "bae31a49af884bbbbfeca10201e52a21": {
      "model_module": "@jupyter-widgets/base",
      "model_module_version": "1.2.0",
      "model_name": "LayoutModel",
      "state": {
       "_model_module": "@jupyter-widgets/base",
       "_model_module_version": "1.2.0",
       "_model_name": "LayoutModel",
       "_view_count": null,
       "_view_module": "@jupyter-widgets/base",
       "_view_module_version": "1.2.0",
       "_view_name": "LayoutView",
       "align_content": null,
       "align_items": null,
       "align_self": null,
       "border": null,
       "bottom": null,
       "display": null,
       "flex": null,
       "flex_flow": null,
       "grid_area": null,
       "grid_auto_columns": null,
       "grid_auto_flow": null,
       "grid_auto_rows": null,
       "grid_column": null,
       "grid_gap": null,
       "grid_row": null,
       "grid_template_areas": null,
       "grid_template_columns": null,
       "grid_template_rows": null,
       "height": null,
       "justify_content": null,
       "justify_items": null,
       "left": null,
       "margin": null,
       "max_height": null,
       "max_width": null,
       "min_height": null,
       "min_width": null,
       "object_fit": null,
       "object_position": null,
       "order": null,
       "overflow": null,
       "overflow_x": null,
       "overflow_y": null,
       "padding": null,
       "right": null,
       "top": null,
       "visibility": null,
       "width": null
      }
     },
     "d9ba993f7794461e91cba3c5a2c82abd": {
      "model_module": "@jupyter-widgets/controls",
      "model_module_version": "1.5.0",
      "model_name": "HBoxModel",
      "state": {
       "_dom_classes": [],
       "_model_module": "@jupyter-widgets/controls",
       "_model_module_version": "1.5.0",
       "_model_name": "HBoxModel",
       "_view_count": null,
       "_view_module": "@jupyter-widgets/controls",
       "_view_module_version": "1.5.0",
       "_view_name": "HBoxView",
       "box_style": "",
       "children": [
        "IPY_MODEL_9b7a759d86504b43a23ab3e221a8febe",
        "IPY_MODEL_4e2a4fa9633547f2b7ce3be9015c1d4e",
        "IPY_MODEL_7bec0a50ec1a44e7931518d788ca5075"
       ],
       "layout": "IPY_MODEL_bae31a49af884bbbbfeca10201e52a21"
      }
     }
    },
    "version_major": 2,
    "version_minor": 0
   }
  }
 },
 "nbformat": 4,
 "nbformat_minor": 5
}
