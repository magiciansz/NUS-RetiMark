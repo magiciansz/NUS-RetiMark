{
 "cells": [
  {
   "cell_type": "markdown",
   "id": "5695addc",
   "metadata": {
    "papermill": {
     "duration": 0.007793,
     "end_time": "2023-11-04T00:59:30.959407",
     "exception": false,
     "start_time": "2023-11-04T00:59:30.951614",
     "status": "completed"
    },
    "tags": []
   },
   "source": [
    "# Install Dependencies"
   ]
  },
  {
   "cell_type": "code",
   "execution_count": 1,
   "id": "75a1dbb9",
   "metadata": {
    "execution": {
     "iopub.execute_input": "2023-11-04T00:59:30.975313Z",
     "iopub.status.busy": "2023-11-04T00:59:30.974856Z",
     "iopub.status.idle": "2023-11-04T00:59:42.324412Z",
     "shell.execute_reply": "2023-11-04T00:59:42.322701Z"
    },
    "papermill": {
     "duration": 11.360301,
     "end_time": "2023-11-04T00:59:42.327005",
     "exception": false,
     "start_time": "2023-11-04T00:59:30.966704",
     "status": "completed"
    },
    "tags": []
   },
   "outputs": [
    {
     "name": "stdout",
     "output_type": "stream",
     "text": [
      "Collecting torch_summary\r\n",
      "  Downloading torch_summary-1.4.5-py3-none-any.whl (16 kB)\r\n",
      "Installing collected packages: torch_summary\r\n",
      "Successfully installed torch_summary-1.4.5\r\n"
     ]
    }
   ],
   "source": [
    "!pip install torch_summary"
   ]
  },
  {
   "cell_type": "markdown",
   "id": "25e77ef0",
   "metadata": {
    "papermill": {
     "duration": 0.006272,
     "end_time": "2023-11-04T00:59:42.340284",
     "exception": false,
     "start_time": "2023-11-04T00:59:42.334012",
     "status": "completed"
    },
    "tags": []
   },
   "source": [
    "# Import Libraries"
   ]
  },
  {
   "cell_type": "code",
   "execution_count": 2,
   "id": "a9d9682f",
   "metadata": {
    "_cell_guid": "b1076dfc-b9ad-4769-8c92-a6c4dae69d19",
    "_uuid": "8f2839f25d086af736a60e9eeb907d3b93b6e0e5",
    "execution": {
     "iopub.execute_input": "2023-11-04T00:59:42.356022Z",
     "iopub.status.busy": "2023-11-04T00:59:42.355628Z",
     "iopub.status.idle": "2023-11-04T00:59:48.534365Z",
     "shell.execute_reply": "2023-11-04T00:59:48.533217Z"
    },
    "papermill": {
     "duration": 6.188816,
     "end_time": "2023-11-04T00:59:48.536827",
     "exception": false,
     "start_time": "2023-11-04T00:59:42.348011",
     "status": "completed"
    },
    "tags": []
   },
   "outputs": [
    {
     "name": "stderr",
     "output_type": "stream",
     "text": [
      "/opt/conda/lib/python3.10/site-packages/scipy/__init__.py:146: UserWarning: A NumPy version >=1.16.5 and <1.23.0 is required for this version of SciPy (detected version 1.23.5\n",
      "  warnings.warn(f\"A NumPy version >={np_minversion} and <{np_maxversion}\"\n"
     ]
    }
   ],
   "source": [
    "import torch\n",
    "import torch.nn.functional as F\n",
    "from torch import nn, optim\n",
    "from torchvision import transforms as T, models\n",
    "from torch.utils.data import DataLoader, Dataset\n",
    "from torchsummary import summary\n",
    "from tqdm.notebook import tqdm \n",
    "import zipfile\n",
    "\n",
    "from sklearn.metrics import classification_report, recall_score, accuracy_score, f1_score, precision_score, roc_curve, auc\n",
    "from sklearn.model_selection import train_test_split\n",
    "import seaborn as sns\n",
    "from PIL import Image\n",
    "import matplotlib.pyplot as plt\n",
    "from random import shuffle, randint, choice\n",
    "import numpy as np\n",
    "import cv2 as cv\n",
    "from glob import glob\n",
    "import pandas as pd\n",
    "import requests\n",
    "import concurrent.futures"
   ]
  },
  {
   "cell_type": "code",
   "execution_count": 3,
   "id": "1b2fef71",
   "metadata": {
    "execution": {
     "iopub.execute_input": "2023-11-04T00:59:48.553437Z",
     "iopub.status.busy": "2023-11-04T00:59:48.552257Z",
     "iopub.status.idle": "2023-11-04T00:59:48.872536Z",
     "shell.execute_reply": "2023-11-04T00:59:48.870623Z"
    },
    "papermill": {
     "duration": 0.331453,
     "end_time": "2023-11-04T00:59:48.875547",
     "exception": false,
     "start_time": "2023-11-04T00:59:48.544094",
     "status": "completed"
    },
    "tags": []
   },
   "outputs": [],
   "source": [
    "!mkdir saved_model\n",
    "sns.set_theme()\n",
    "device = 'cuda' if torch.cuda.is_available() else 'cpu'"
   ]
  },
  {
   "cell_type": "markdown",
   "id": "d9a1a0e1",
   "metadata": {
    "papermill": {
     "duration": 0.006227,
     "end_time": "2023-11-04T00:59:48.888549",
     "exception": false,
     "start_time": "2023-11-04T00:59:48.882322",
     "status": "completed"
    },
    "tags": []
   },
   "source": [
    "## Dataset"
   ]
  },
  {
   "cell_type": "code",
   "execution_count": 4,
   "id": "3658914e",
   "metadata": {
    "execution": {
     "iopub.execute_input": "2023-11-04T00:59:48.903245Z",
     "iopub.status.busy": "2023-11-04T00:59:48.902841Z",
     "iopub.status.idle": "2023-11-04T00:59:48.975925Z",
     "shell.execute_reply": "2023-11-04T00:59:48.974671Z"
    },
    "papermill": {
     "duration": 0.083829,
     "end_time": "2023-11-04T00:59:48.978919",
     "exception": false,
     "start_time": "2023-11-04T00:59:48.895090",
     "status": "completed"
    },
    "tags": []
   },
   "outputs": [
    {
     "data": {
      "text/html": [
       "<div>\n",
       "<style scoped>\n",
       "    .dataframe tbody tr th:only-of-type {\n",
       "        vertical-align: middle;\n",
       "    }\n",
       "\n",
       "    .dataframe tbody tr th {\n",
       "        vertical-align: top;\n",
       "    }\n",
       "\n",
       "    .dataframe thead th {\n",
       "        text-align: right;\n",
       "    }\n",
       "</style>\n",
       "<table border=\"1\" class=\"dataframe\">\n",
       "  <thead>\n",
       "    <tr style=\"text-align: right;\">\n",
       "      <th></th>\n",
       "      <th>image</th>\n",
       "      <th>level</th>\n",
       "    </tr>\n",
       "  </thead>\n",
       "  <tbody>\n",
       "    <tr>\n",
       "      <th>0</th>\n",
       "      <td>10_left</td>\n",
       "      <td>0</td>\n",
       "    </tr>\n",
       "    <tr>\n",
       "      <th>1</th>\n",
       "      <td>10_right</td>\n",
       "      <td>0</td>\n",
       "    </tr>\n",
       "    <tr>\n",
       "      <th>2</th>\n",
       "      <td>13_left</td>\n",
       "      <td>0</td>\n",
       "    </tr>\n",
       "    <tr>\n",
       "      <th>3</th>\n",
       "      <td>13_right</td>\n",
       "      <td>0</td>\n",
       "    </tr>\n",
       "    <tr>\n",
       "      <th>4</th>\n",
       "      <td>15_left</td>\n",
       "      <td>1</td>\n",
       "    </tr>\n",
       "  </tbody>\n",
       "</table>\n",
       "</div>"
      ],
      "text/plain": [
       "      image  level\n",
       "0   10_left      0\n",
       "1  10_right      0\n",
       "2   13_left      0\n",
       "3  13_right      0\n",
       "4   15_left      1"
      ]
     },
     "execution_count": 4,
     "metadata": {},
     "output_type": "execute_result"
    }
   ],
   "source": [
    "DIR = '/kaggle/input/diabetic-retinopathy-detection'\n",
    "\n",
    "with zipfile.ZipFile(f'{DIR}/trainLabels.csv.zip', 'r') as zip_ref:\n",
    "    with zip_ref.open('trainLabels.csv') as csv_file:\n",
    "        trainLabels_df = pd.read_csv(csv_file, index_col=0).reset_index()\n",
    "\n",
    "trainLabels_df.head()"
   ]
  },
  {
   "cell_type": "code",
   "execution_count": 5,
   "id": "1d2f5a22",
   "metadata": {
    "execution": {
     "iopub.execute_input": "2023-11-04T00:59:48.994358Z",
     "iopub.status.busy": "2023-11-04T00:59:48.993934Z",
     "iopub.status.idle": "2023-11-04T00:59:49.008273Z",
     "shell.execute_reply": "2023-11-04T00:59:49.006691Z"
    },
    "papermill": {
     "duration": 0.024717,
     "end_time": "2023-11-04T00:59:49.010707",
     "exception": false,
     "start_time": "2023-11-04T00:59:48.985990",
     "status": "completed"
    },
    "tags": []
   },
   "outputs": [
    {
     "name": "stdout",
     "output_type": "stream",
     "text": [
      "Total: 35126\n",
      "Stage 0: 25810\n",
      "Stage 1: 2443\n",
      "Stage 2: 5292\n",
      "Stage 3: 873\n",
      "Stage 4: 708\n"
     ]
    }
   ],
   "source": [
    "print(\"Total:\", len(trainLabels_df))\n",
    "print(\"Stage 0:\", len(trainLabels_df[trainLabels_df[\"level\"]==0]))\n",
    "print(\"Stage 1:\", len(trainLabels_df[trainLabels_df[\"level\"]==1]))\n",
    "print(\"Stage 2:\", len(trainLabels_df[trainLabels_df[\"level\"]==2]))\n",
    "print(\"Stage 3:\", len(trainLabels_df[trainLabels_df[\"level\"]==3]))\n",
    "print(\"Stage 4:\", len(trainLabels_df[trainLabels_df[\"level\"]==4]))"
   ]
  },
  {
   "cell_type": "code",
   "execution_count": 6,
   "id": "0eb83d87",
   "metadata": {
    "execution": {
     "iopub.execute_input": "2023-11-04T00:59:49.026498Z",
     "iopub.status.busy": "2023-11-04T00:59:49.026106Z",
     "iopub.status.idle": "2023-11-04T00:59:49.043495Z",
     "shell.execute_reply": "2023-11-04T00:59:49.042383Z"
    },
    "papermill": {
     "duration": 0.027889,
     "end_time": "2023-11-04T00:59:49.045779",
     "exception": false,
     "start_time": "2023-11-04T00:59:49.017890",
     "status": "completed"
    },
    "tags": []
   },
   "outputs": [],
   "source": [
    "trainLabels_df['level'] = np.where(trainLabels_df['level'] == 3, 4, trainLabels_df['level'])\n",
    "\n",
    "negative_df = trainLabels_df[trainLabels_df[\"level\"]==0].sample(1200)\n",
    "positive_df = trainLabels_df[trainLabels_df[\"level\"]==4].sample(1200)\n",
    "\n",
    "negative_train, negative_valid = train_test_split(negative_df, test_size=0.2, random_state=42)\n",
    "positive_train, positive_valid = train_test_split(positive_df, test_size=0.2, random_state=42)\n",
    "\n",
    "train_df = pd.concat([negative_train, positive_train]).sample(frac=1).reset_index()\n",
    "valid_df = pd.concat([negative_valid, positive_valid]).sample(frac=1).reset_index()\n"
   ]
  },
  {
   "cell_type": "code",
   "execution_count": 7,
   "id": "92eecf74",
   "metadata": {
    "execution": {
     "iopub.execute_input": "2023-11-04T00:59:49.061729Z",
     "iopub.status.busy": "2023-11-04T00:59:49.060927Z",
     "iopub.status.idle": "2023-11-04T00:59:49.068815Z",
     "shell.execute_reply": "2023-11-04T00:59:49.067367Z"
    },
    "papermill": {
     "duration": 0.018978,
     "end_time": "2023-11-04T00:59:49.071596",
     "exception": false,
     "start_time": "2023-11-04T00:59:49.052618",
     "status": "completed"
    },
    "tags": []
   },
   "outputs": [],
   "source": [
    "def download_image(index, image_name, df, count, total):\n",
    "    filepath = f\"https://diabetic-retinopathy-images.s3.ap-southeast-1.amazonaws.com/images/{image_name}.jpeg\" \n",
    "    response = requests.get(filepath)\n",
    "    print(count, \"/\", total, response.reason, image_name, end=\"\\r\")\n",
    "    if response.status_code != 200:\n",
    "        df.drop(index, inplace=True)\n",
    "        return None\n",
    "    image_data = response.content\n",
    "    nparr = np.frombuffer(image_data, np.uint8)\n",
    "    image = cv.imdecode(nparr, cv.IMREAD_COLOR)\n",
    "    image = cv.cvtColor(image, cv.COLOR_BGR2GRAY)\n",
    "    df.at[index, 'imagefile'] = image"
   ]
  },
  {
   "cell_type": "code",
   "execution_count": 8,
   "id": "7e84e15a",
   "metadata": {
    "execution": {
     "iopub.execute_input": "2023-11-04T00:59:49.086793Z",
     "iopub.status.busy": "2023-11-04T00:59:49.086458Z",
     "iopub.status.idle": "2023-11-04T01:10:17.715183Z",
     "shell.execute_reply": "2023-11-04T01:10:17.713076Z"
    },
    "papermill": {
     "duration": 628.640178,
     "end_time": "2023-11-04T01:10:17.718721",
     "exception": false,
     "start_time": "2023-11-04T00:59:49.078543",
     "status": "completed"
    },
    "tags": []
   },
   "outputs": [
    {
     "name": "stdout",
     "output_type": "stream",
     "text": [
      "Done!\n"
     ]
    }
   ],
   "source": [
    "train_df['imagefile'] = None\n",
    "total = len(train_df)\n",
    "count = 1\n",
    "\n",
    "for start in range(0, total, 1000):\n",
    "    end = min(start + 1000, total)\n",
    "\n",
    "    with concurrent.futures.ThreadPoolExecutor() as executor:\n",
    "        futures = []\n",
    "        for index, row in train_df[start:end].iterrows():\n",
    "            image_name = row['image']\n",
    "            future = executor.submit(download_image, index, image_name, train_df, count, total)\n",
    "            futures.append(future)\n",
    "            count += 1\n",
    "        concurrent.futures.wait(futures)\n",
    "    \n",
    "print(\"Done!\")"
   ]
  },
  {
   "cell_type": "code",
   "execution_count": 9,
   "id": "4e32d016",
   "metadata": {
    "execution": {
     "iopub.execute_input": "2023-11-04T01:10:17.874852Z",
     "iopub.status.busy": "2023-11-04T01:10:17.874404Z",
     "iopub.status.idle": "2023-11-04T01:12:55.773760Z",
     "shell.execute_reply": "2023-11-04T01:12:55.770709Z"
    },
    "papermill": {
     "duration": 157.980619,
     "end_time": "2023-11-04T01:12:55.777481",
     "exception": false,
     "start_time": "2023-11-04T01:10:17.796862",
     "status": "completed"
    },
    "tags": []
   },
   "outputs": [
    {
     "name": "stdout",
     "output_type": "stream",
     "text": [
      "Done!\n"
     ]
    }
   ],
   "source": [
    "valid_df['imagefile'] = None\n",
    "total = len(valid_df)\n",
    "count = 1\n",
    "\n",
    "for start in range(0, total, 1000):\n",
    "    end = min(start + 1000, total)\n",
    "\n",
    "    with concurrent.futures.ThreadPoolExecutor() as executor:\n",
    "        futures = []\n",
    "        for index, row in valid_df[start:end].iterrows():\n",
    "            image_name = row['image']\n",
    "            future = executor.submit(download_image, index, image_name, valid_df, count, total)\n",
    "            futures.append(future)\n",
    "            count += 1\n",
    "        concurrent.futures.wait(futures)\n",
    "\n",
    "print(\"Done!\")"
   ]
  },
  {
   "cell_type": "code",
   "execution_count": 10,
   "id": "f365f378",
   "metadata": {
    "execution": {
     "iopub.execute_input": "2023-11-04T01:12:55.974142Z",
     "iopub.status.busy": "2023-11-04T01:12:55.973708Z",
     "iopub.status.idle": "2023-11-04T01:12:55.980290Z",
     "shell.execute_reply": "2023-11-04T01:12:55.979052Z"
    },
    "papermill": {
     "duration": 0.108324,
     "end_time": "2023-11-04T01:12:55.982138",
     "exception": false,
     "start_time": "2023-11-04T01:12:55.873814",
     "status": "completed"
    },
    "tags": []
   },
   "outputs": [],
   "source": [
    "def crop_center(cv2_img, crop_width, crop_height):\n",
    "    img_height, img_width = cv2_img.shape[:2]\n",
    "    left = (img_width - crop_width) // 2\n",
    "    top = (img_height - crop_height) // 2\n",
    "    right = (img_width + crop_width) // 2\n",
    "    bottom = (img_height + crop_height) // 2\n",
    "    return cv2_img[top:bottom, left:right]"
   ]
  },
  {
   "cell_type": "code",
   "execution_count": 11,
   "id": "2b35e09b",
   "metadata": {
    "execution": {
     "iopub.execute_input": "2023-11-04T01:12:56.178754Z",
     "iopub.status.busy": "2023-11-04T01:12:56.178329Z",
     "iopub.status.idle": "2023-11-04T01:12:56.189679Z",
     "shell.execute_reply": "2023-11-04T01:12:56.188510Z"
    },
    "papermill": {
     "duration": 0.111068,
     "end_time": "2023-11-04T01:12:56.191614",
     "exception": false,
     "start_time": "2023-11-04T01:12:56.080546",
     "status": "completed"
    },
    "tags": []
   },
   "outputs": [],
   "source": [
    "class EyeDataset(Dataset):\n",
    "    def __init__(self, df, data_transform = None):\n",
    "        self.df = df\n",
    "        self.data_transform = data_transform\n",
    "        self.transform = T.Compose([\n",
    "            T.Resize([224, 224]),\n",
    "#             T.Resize([299, 299]),\n",
    "            T.ToTensor(),\n",
    "            T.Normalize(mean=(0.485, 0.456, 0.406),\n",
    "                       std=(0.229, 0.224, 0.225))\n",
    "        ])\n",
    "    \n",
    "    def __len__(self):\n",
    "        return len(self.df)\n",
    "    \n",
    "    def __getitem__(self, idx):\n",
    "        image = self.df.iloc[idx]['imagefile']\n",
    "        crop_size = min(image.shape[:2])\n",
    "        cropped_image = cv.cvtColor(crop_center(image, crop_size, crop_size), cv.COLOR_GRAY2RGB)\n",
    "        cropped_image = Image.fromarray(cropped_image)\n",
    "        \n",
    "        target = self.df.iloc[idx]['level']\n",
    "        \n",
    "        if self.data_transform is not None:\n",
    "            cropped_image = self.data_transform(cropped_image)\n",
    "        \n",
    "        return cropped_image, target\n",
    "    \n",
    "    def transform_img(self, img):\n",
    "        return self.transform(img)\n",
    "    \n",
    "    def collate_fn(self, data):\n",
    "        imgs, targets = zip(*data)\n",
    "        targets = torch.tensor(targets)\n",
    "        targets = targets.view(-1, 1).float()\n",
    "        targets = targets.to(device)\n",
    "        imgs = torch.stack(\n",
    "            [self.transform_img(img) for img in imgs], 0\n",
    "        ).to(device)\n",
    "        return imgs, targets"
   ]
  },
  {
   "cell_type": "code",
   "execution_count": 12,
   "id": "c57f80e2",
   "metadata": {
    "execution": {
     "iopub.execute_input": "2023-11-04T01:12:56.383607Z",
     "iopub.status.busy": "2023-11-04T01:12:56.383102Z",
     "iopub.status.idle": "2023-11-04T01:12:56.389893Z",
     "shell.execute_reply": "2023-11-04T01:12:56.388590Z"
    },
    "papermill": {
     "duration": 0.105624,
     "end_time": "2023-11-04T01:12:56.391878",
     "exception": false,
     "start_time": "2023-11-04T01:12:56.286254",
     "status": "completed"
    },
    "tags": []
   },
   "outputs": [],
   "source": [
    "data_transforms = T.Compose([\n",
    "    T.RandomHorizontalFlip(),\n",
    "    T.RandomRotation(15),\n",
    "    T.ColorJitter(brightness=0.2, contrast=0.2, saturation=0.2, hue=0.1),\n",
    "    T.RandomResizedCrop(224, scale=(0.8, 1.0))\n",
    "])"
   ]
  },
  {
   "cell_type": "code",
   "execution_count": 13,
   "id": "3e5466ab",
   "metadata": {
    "execution": {
     "iopub.execute_input": "2023-11-04T01:12:56.577772Z",
     "iopub.status.busy": "2023-11-04T01:12:56.577368Z",
     "iopub.status.idle": "2023-11-04T01:12:56.583110Z",
     "shell.execute_reply": "2023-11-04T01:12:56.582448Z"
    },
    "papermill": {
     "duration": 0.100226,
     "end_time": "2023-11-04T01:12:56.584700",
     "exception": false,
     "start_time": "2023-11-04T01:12:56.484474",
     "status": "completed"
    },
    "tags": []
   },
   "outputs": [],
   "source": [
    "train_df['level'] = np.where(train_df['level'] == 4, 1, 0)\n",
    "valid_df['level'] = np.where(valid_df['level'] == 4, 1, 0)"
   ]
  },
  {
   "cell_type": "code",
   "execution_count": 14,
   "id": "1b4b6bbb",
   "metadata": {
    "execution": {
     "iopub.execute_input": "2023-11-04T01:12:56.771849Z",
     "iopub.status.busy": "2023-11-04T01:12:56.771477Z",
     "iopub.status.idle": "2023-11-04T01:12:56.777557Z",
     "shell.execute_reply": "2023-11-04T01:12:56.776633Z"
    },
    "papermill": {
     "duration": 0.102634,
     "end_time": "2023-11-04T01:12:56.779399",
     "exception": false,
     "start_time": "2023-11-04T01:12:56.676765",
     "status": "completed"
    },
    "tags": []
   },
   "outputs": [],
   "source": [
    "train_ds = EyeDataset(train_df, data_transform=data_transforms)\n",
    "train_dl = DataLoader(train_ds, batch_size=48, shuffle=True,\n",
    "                      collate_fn=train_ds.collate_fn)\n",
    "\n",
    "valid_ds = EyeDataset(valid_df)\n",
    "valid_dl = DataLoader(valid_ds, batch_size=48,\n",
    "                      collate_fn=valid_ds.collate_fn)"
   ]
  },
  {
   "cell_type": "code",
   "execution_count": 15,
   "id": "5c5ada96",
   "metadata": {
    "execution": {
     "iopub.execute_input": "2023-11-04T01:12:57.023425Z",
     "iopub.status.busy": "2023-11-04T01:12:57.023047Z",
     "iopub.status.idle": "2023-11-04T01:12:57.030024Z",
     "shell.execute_reply": "2023-11-04T01:12:57.029165Z"
    },
    "papermill": {
     "duration": 0.163645,
     "end_time": "2023-11-04T01:12:57.031809",
     "exception": false,
     "start_time": "2023-11-04T01:12:56.868164",
     "status": "completed"
    },
    "tags": []
   },
   "outputs": [],
   "source": [
    "class EyeClassifier(nn.Module):\n",
    "    def __init__(self, pretrained=True):\n",
    "        super().__init__()\n",
    "        \n",
    "        self.model = models.resnet50(pretrained=pretrained, progress=pretrained)\n",
    "    \n",
    "        for param in self.model.parameters():\n",
    "            param.requires_grad = True\n",
    "        \n",
    "        num_features = self.model.fc.in_features\n",
    "\n",
    "        self.model.fc = nn.Sequential(\n",
    "            nn.Flatten(),\n",
    "            nn.BatchNorm1d(num_features),\n",
    "            nn.ReLU(),\n",
    "            nn.Dropout(0.5),\n",
    "            nn.Linear(num_features, 1),\n",
    "            nn.Sigmoid()\n",
    "        )\n",
    "\n",
    "    def forward(self, x):\n",
    "        x = self.model(x)\n",
    "        return x"
   ]
  },
  {
   "cell_type": "code",
   "execution_count": 16,
   "id": "42bc695a",
   "metadata": {
    "execution": {
     "iopub.execute_input": "2023-11-04T01:12:57.215779Z",
     "iopub.status.busy": "2023-11-04T01:12:57.215361Z",
     "iopub.status.idle": "2023-11-04T01:12:58.659791Z",
     "shell.execute_reply": "2023-11-04T01:12:58.656850Z"
    },
    "papermill": {
     "duration": 1.540826,
     "end_time": "2023-11-04T01:12:58.663263",
     "exception": false,
     "start_time": "2023-11-04T01:12:57.122437",
     "status": "completed"
    },
    "tags": []
   },
   "outputs": [
    {
     "name": "stderr",
     "output_type": "stream",
     "text": [
      "/opt/conda/lib/python3.10/site-packages/torchvision/models/_utils.py:208: UserWarning: The parameter 'pretrained' is deprecated since 0.13 and may be removed in the future, please use 'weights' instead.\n",
      "  warnings.warn(\n",
      "/opt/conda/lib/python3.10/site-packages/torchvision/models/_utils.py:223: UserWarning: Arguments other than a weight enum or `None` for 'weights' are deprecated since 0.13 and may be removed in the future. The current behavior is equivalent to passing `weights=ResNet50_Weights.IMAGENET1K_V1`. You can also use `weights=ResNet50_Weights.DEFAULT` to get the most up-to-date weights.\n",
      "  warnings.warn(msg)\n",
      "Downloading: \"https://download.pytorch.org/models/resnet50-0676ba61.pth\" to /root/.cache/torch/hub/checkpoints/resnet50-0676ba61.pth\n",
      "100%|██████████| 97.8M/97.8M [00:00<00:00, 190MB/s]\n"
     ]
    },
    {
     "name": "stdout",
     "output_type": "stream",
     "text": [
      "==========================================================================================\n",
      "Layer (type:depth-idx)                   Output Shape              Param #\n",
      "==========================================================================================\n",
      "├─ResNet: 1-1                            [-1, 1]                   --\n",
      "|    └─Conv2d: 2-1                       [-1, 64, 112, 112]        9,408\n",
      "|    └─BatchNorm2d: 2-2                  [-1, 64, 112, 112]        128\n",
      "|    └─ReLU: 2-3                         [-1, 64, 112, 112]        --\n",
      "|    └─MaxPool2d: 2-4                    [-1, 64, 56, 56]          --\n",
      "|    └─Sequential: 2-5                   [-1, 256, 56, 56]         --\n",
      "|    |    └─Bottleneck: 3-1              [-1, 256, 56, 56]         75,008\n",
      "|    |    └─Bottleneck: 3-2              [-1, 256, 56, 56]         70,400\n",
      "|    |    └─Bottleneck: 3-3              [-1, 256, 56, 56]         70,400\n",
      "|    └─Sequential: 2-6                   [-1, 512, 28, 28]         --\n",
      "|    |    └─Bottleneck: 3-4              [-1, 512, 28, 28]         379,392\n",
      "|    |    └─Bottleneck: 3-5              [-1, 512, 28, 28]         280,064\n",
      "|    |    └─Bottleneck: 3-6              [-1, 512, 28, 28]         280,064\n",
      "|    |    └─Bottleneck: 3-7              [-1, 512, 28, 28]         280,064\n",
      "|    └─Sequential: 2-7                   [-1, 1024, 14, 14]        --\n",
      "|    |    └─Bottleneck: 3-8              [-1, 1024, 14, 14]        1,512,448\n",
      "|    |    └─Bottleneck: 3-9              [-1, 1024, 14, 14]        1,117,184\n",
      "|    |    └─Bottleneck: 3-10             [-1, 1024, 14, 14]        1,117,184\n",
      "|    |    └─Bottleneck: 3-11             [-1, 1024, 14, 14]        1,117,184\n",
      "|    |    └─Bottleneck: 3-12             [-1, 1024, 14, 14]        1,117,184\n",
      "|    |    └─Bottleneck: 3-13             [-1, 1024, 14, 14]        1,117,184\n",
      "|    └─Sequential: 2-8                   [-1, 2048, 7, 7]          --\n",
      "|    |    └─Bottleneck: 3-14             [-1, 2048, 7, 7]          6,039,552\n",
      "|    |    └─Bottleneck: 3-15             [-1, 2048, 7, 7]          4,462,592\n",
      "|    |    └─Bottleneck: 3-16             [-1, 2048, 7, 7]          4,462,592\n",
      "|    └─AdaptiveAvgPool2d: 2-9            [-1, 2048, 1, 1]          --\n",
      "|    └─Sequential: 2-10                  [-1, 1]                   --\n",
      "|    |    └─Flatten: 3-17                [-1, 2048]                --\n",
      "|    |    └─BatchNorm1d: 3-18            [-1, 2048]                4,096\n",
      "|    |    └─ReLU: 3-19                   [-1, 2048]                --\n",
      "|    |    └─Dropout: 3-20                [-1, 2048]                --\n",
      "|    |    └─Linear: 3-21                 [-1, 1]                   2,049\n",
      "|    |    └─Sigmoid: 3-22                [-1, 1]                   --\n",
      "==========================================================================================\n",
      "Total params: 23,514,177\n",
      "Trainable params: 23,514,177\n",
      "Non-trainable params: 0\n",
      "Total mult-adds (G): 3.80\n",
      "==========================================================================================\n",
      "Input size (MB): 0.57\n",
      "Forward/backward pass size (MB): 146.63\n",
      "Params size (MB): 89.70\n",
      "Estimated Total Size (MB): 236.91\n",
      "==========================================================================================\n"
     ]
    }
   ],
   "source": [
    "classifier = EyeClassifier(pretrained=True)\n",
    "_ = summary(classifier, torch.ones(1,3,224,224))"
   ]
  },
  {
   "cell_type": "code",
   "execution_count": 17,
   "id": "13f04b02",
   "metadata": {
    "execution": {
     "iopub.execute_input": "2023-11-04T01:12:58.855216Z",
     "iopub.status.busy": "2023-11-04T01:12:58.854827Z",
     "iopub.status.idle": "2023-11-04T01:12:58.863766Z",
     "shell.execute_reply": "2023-11-04T01:12:58.862363Z"
    },
    "papermill": {
     "duration": 0.10414,
     "end_time": "2023-11-04T01:12:58.865697",
     "exception": false,
     "start_time": "2023-11-04T01:12:58.761557",
     "status": "completed"
    },
    "tags": []
   },
   "outputs": [],
   "source": [
    "def train(data, classifier, optimizer, loss_fn):\n",
    "    classifier.train()\n",
    "    imgs, targets = data\n",
    "    outputs = classifier(imgs.to(device))\n",
    "    loss = loss_fn(outputs.to(device), targets.to(device))\n",
    "    optimizer.zero_grad()\n",
    "    loss.backward()\n",
    "    optimizer.step()\n",
    "    \n",
    "    outputs = outputs.cpu().detach().tolist()\n",
    "    targets = targets.cpu().detach().tolist()\n",
    "    preds = list(map(lambda x: int(x[0] > 0.5), outputs))\n",
    "    \n",
    "    fake_recall_score = recall_score(targets, preds, pos_label=0,zero_division=0)\n",
    "    fake_accuracy_score = accuracy_score(targets, preds)\n",
    "    fake_precision_score = precision_score(targets, preds, pos_label=0,zero_division=0)\n",
    "    fake_f1_score = f1_score(targets, preds, pos_label=0,zero_division=0)\n",
    "    fpr, tpr, thresholds = roc_curve(targets, outputs)\n",
    "    roc_auc = auc(fpr, tpr)\n",
    "    \n",
    "    return loss.cpu().detach().item(), fake_recall_score, fake_accuracy_score, fake_precision_score, fake_f1_score, fpr, tpr, roc_auc"
   ]
  },
  {
   "cell_type": "code",
   "execution_count": 18,
   "id": "9a25060a",
   "metadata": {
    "execution": {
     "iopub.execute_input": "2023-11-04T01:12:59.054492Z",
     "iopub.status.busy": "2023-11-04T01:12:59.053030Z",
     "iopub.status.idle": "2023-11-04T01:12:59.062764Z",
     "shell.execute_reply": "2023-11-04T01:12:59.060793Z"
    },
    "papermill": {
     "duration": 0.107836,
     "end_time": "2023-11-04T01:12:59.065279",
     "exception": false,
     "start_time": "2023-11-04T01:12:58.957443",
     "status": "completed"
    },
    "tags": []
   },
   "outputs": [],
   "source": [
    "@torch.no_grad()\n",
    "def validate(data, classifier, loss_fn):\n",
    "    classifier.eval()\n",
    "    imgs, targets = data\n",
    "    outputs = classifier(imgs.to(device))\n",
    "    loss = loss_fn(outputs.to(device), targets.to(device))\n",
    "    \n",
    "    outputs = outputs.cpu().detach().tolist()\n",
    "    targets = targets.cpu().detach().tolist()\n",
    "    preds = list(map(lambda x: int(x[0] > 0.5), outputs))\n",
    "    fake_recall_score = recall_score(targets, preds, pos_label=0, zero_division=0)\n",
    "    fake_accuracy_score = accuracy_score(targets, preds)\n",
    "    fake_precision_score = precision_score(targets, preds, pos_label=0,zero_division=0)\n",
    "    fake_f1_score = f1_score(targets, preds, pos_label=0,zero_division=0)\n",
    "    fpr, tpr, thresholds = roc_curve(targets, outputs)\n",
    "    roc_auc = auc(fpr, tpr)\n",
    "    \n",
    "    return loss.cpu().detach().item(), fake_recall_score, fake_accuracy_score, fake_precision_score, fake_f1_score, fpr, tpr, roc_auc"
   ]
  },
  {
   "cell_type": "code",
   "execution_count": 19,
   "id": "2dfafd10",
   "metadata": {
    "execution": {
     "iopub.execute_input": "2023-11-04T01:12:59.253375Z",
     "iopub.status.busy": "2023-11-04T01:12:59.251918Z",
     "iopub.status.idle": "2023-11-04T01:12:59.701384Z",
     "shell.execute_reply": "2023-11-04T01:12:59.699394Z"
    },
    "papermill": {
     "duration": 0.546852,
     "end_time": "2023-11-04T01:12:59.704195",
     "exception": false,
     "start_time": "2023-11-04T01:12:59.157343",
     "status": "completed"
    },
    "tags": []
   },
   "outputs": [],
   "source": [
    "classifier = EyeClassifier(pretrained=True).to(device)\n",
    "loss_fn = nn.BCELoss().to(device)\n",
    "optimizer = optim.Adam(classifier.parameters(), lr=1e-3, weight_decay=1e-3)\n",
    "scheduler = optim.lr_scheduler.StepLR(optimizer, step_size=5,\n",
    "                                      gamma=0.25)\n",
    "best_auc_score = 0\n",
    "n_epochs = 15\n",
    "xticks = list(i+1 for i in range(n_epochs))"
   ]
  },
  {
   "cell_type": "code",
   "execution_count": 20,
   "id": "5c214ed5",
   "metadata": {
    "execution": {
     "iopub.execute_input": "2023-11-04T01:12:59.892638Z",
     "iopub.status.busy": "2023-11-04T01:12:59.891904Z",
     "iopub.status.idle": "2023-11-04T05:56:22.607864Z",
     "shell.execute_reply": "2023-11-04T05:56:22.606988Z"
    },
    "papermill": {
     "duration": 17002.810702,
     "end_time": "2023-11-04T05:56:22.610163",
     "exception": false,
     "start_time": "2023-11-04T01:12:59.799461",
     "status": "completed"
    },
    "tags": []
   },
   "outputs": [
    {
     "data": {
      "application/vnd.jupyter.widget-view+json": {
       "model_id": "4a9e9be592ce44e78ecca1e62f8788ef",
       "version_major": 2,
       "version_minor": 0
      },
      "text/plain": [
       "Training:   0%|          | 0/15 [00:00<?, ?it/s]"
      ]
     },
     "metadata": {},
     "output_type": "display_data"
    },
    {
     "name": "stdout",
     "output_type": "stream",
     "text": [
      "epoch: 1 \ttrain loss: 0.533 \ttrain recall score: 0.771 \ttrain accuracy score: 0.755 \ttrain precision score: 0.746 \ttrain f1 score: 0.751 \ttrain auc: 0.826 \tvalid loss: 3.342 \tvalid recall score: 0.440 \tvalid accuracy score: 0.702 \tvalid precision score: 0.918 \tvalid f1 score: 0.592 \tvalid auc: 0.894\n",
      "epoch: 2 \ttrain loss: 0.387 \ttrain recall score: 0.870 \ttrain accuracy score: 0.841 \ttrain precision score: 0.821 \ttrain f1 score: 0.840 \ttrain auc: 0.916 \tvalid loss: 0.438 \tvalid recall score: 0.710 \tvalid accuracy score: 0.815 \tvalid precision score: 0.904 \tvalid f1 score: 0.790 \tvalid auc: 0.894\n",
      "epoch: 3 \ttrain loss: 0.351 \ttrain recall score: 0.860 \ttrain accuracy score: 0.851 \ttrain precision score: 0.850 \ttrain f1 score: 0.852 \ttrain auc: 0.929 \tvalid loss: 0.470 \tvalid recall score: 0.944 \tvalid accuracy score: 0.779 \tvalid precision score: 0.706 \tvalid f1 score: 0.806 \tvalid auc: 0.905\n",
      "epoch: 4 \ttrain loss: 0.360 \ttrain recall score: 0.860 \ttrain accuracy score: 0.848 \ttrain precision score: 0.847 \ttrain f1 score: 0.849 \ttrain auc: 0.924 \tvalid loss: 0.362 \tvalid recall score: 0.923 \tvalid accuracy score: 0.842 \tvalid precision score: 0.793 \tvalid f1 score: 0.852 \tvalid auc: 0.934\n",
      "epoch: 5 \ttrain loss: 0.338 \ttrain recall score: 0.883 \ttrain accuracy score: 0.860 \ttrain precision score: 0.848 \ttrain f1 score: 0.860 \ttrain auc: 0.937 \tvalid loss: 0.359 \tvalid recall score: 0.892 \tvalid accuracy score: 0.856 \tvalid precision score: 0.834 \tvalid f1 score: 0.859 \tvalid auc: 0.931\n",
      "epoch: 6 \ttrain loss: 0.297 \ttrain recall score: 0.895 \ttrain accuracy score: 0.879 \ttrain precision score: 0.870 \ttrain f1 score: 0.880 \ttrain auc: 0.948 \tvalid loss: 0.302 \tvalid recall score: 0.904 \tvalid accuracy score: 0.877 \tvalid precision score: 0.857 \tvalid f1 score: 0.878 \tvalid auc: 0.948\n",
      "epoch: 7 \ttrain loss: 0.266 \ttrain recall score: 0.895 \ttrain accuracy score: 0.889 \ttrain precision score: 0.888 \ttrain f1 score: 0.888 \ttrain auc: 0.961 \tvalid loss: 0.275 \tvalid recall score: 0.905 \tvalid accuracy score: 0.881 \tvalid precision score: 0.864 \tvalid f1 score: 0.882 \tvalid auc: 0.959\n",
      "epoch: 8 \ttrain loss: 0.257 \ttrain recall score: 0.910 \ttrain accuracy score: 0.906 \ttrain precision score: 0.907 \ttrain f1 score: 0.906 \ttrain auc: 0.963 \tvalid loss: 0.303 \tvalid recall score: 0.920 \tvalid accuracy score: 0.875 \tvalid precision score: 0.845 \tvalid f1 score: 0.880 \tvalid auc: 0.946\n",
      "epoch: 9 \ttrain loss: 0.258 \ttrain recall score: 0.909 \ttrain accuracy score: 0.898 \ttrain precision score: 0.891 \ttrain f1 score: 0.896 \ttrain auc: 0.966 \tvalid loss: 0.273 \tvalid recall score: 0.913 \tvalid accuracy score: 0.892 \tvalid precision score: 0.878 \tvalid f1 score: 0.894 \tvalid auc: 0.958\n",
      "epoch: 10 \ttrain loss: 0.252 \ttrain recall score: 0.908 \ttrain accuracy score: 0.896 \ttrain precision score: 0.889 \ttrain f1 score: 0.895 \ttrain auc: 0.966 \tvalid loss: 0.336 \tvalid recall score: 0.964 \tvalid accuracy score: 0.879 \tvalid precision score: 0.824 \tvalid f1 score: 0.887 \tvalid auc: 0.954\n",
      "epoch: 11 \ttrain loss: 0.236 \ttrain recall score: 0.925 \ttrain accuracy score: 0.907 \ttrain precision score: 0.897 \ttrain f1 score: 0.908 \ttrain auc: 0.969 \tvalid loss: 0.236 \tvalid recall score: 0.907 \tvalid accuracy score: 0.910 \tvalid precision score: 0.911 \tvalid f1 score: 0.908 \tvalid auc: 0.966\n",
      "epoch: 12 \ttrain loss: 0.236 \ttrain recall score: 0.919 \ttrain accuracy score: 0.908 \ttrain precision score: 0.902 \ttrain f1 score: 0.907 \ttrain auc: 0.972 \tvalid loss: 0.237 \tvalid recall score: 0.879 \tvalid accuracy score: 0.896 \tvalid precision score: 0.908 \tvalid f1 score: 0.892 \tvalid auc: 0.967\n",
      "epoch: 13 \ttrain loss: 0.213 \ttrain recall score: 0.919 \ttrain accuracy score: 0.916 \ttrain precision score: 0.914 \ttrain f1 score: 0.915 \ttrain auc: 0.974 \tvalid loss: 0.219 \tvalid recall score: 0.886 \tvalid accuracy score: 0.902 \tvalid precision score: 0.914 \tvalid f1 score: 0.899 \tvalid auc: 0.970\n",
      "epoch: 14 \ttrain loss: 0.196 \ttrain recall score: 0.925 \ttrain accuracy score: 0.923 \ttrain precision score: 0.923 \ttrain f1 score: 0.922 \ttrain auc: 0.977 \tvalid loss: 0.227 \tvalid recall score: 0.879 \tvalid accuracy score: 0.912 \tvalid precision score: 0.940 \tvalid f1 score: 0.907 \tvalid auc: 0.971\n",
      "epoch: 15 \ttrain loss: 0.209 \ttrain recall score: 0.920 \ttrain accuracy score: 0.910 \ttrain precision score: 0.902 \ttrain f1 score: 0.907 \ttrain auc: 0.979 \tvalid loss: 0.224 \tvalid recall score: 0.896 \tvalid accuracy score: 0.917 \tvalid precision score: 0.933 \tvalid f1 score: 0.914 \tvalid auc: 0.970\n"
     ]
    }
   ],
   "source": [
    "mem = {\n",
    "    'train_loss': [],\n",
    "    'train_recall_score': [],\n",
    "    'train_accuracy_score': [],\n",
    "    'train_precision_score': [],\n",
    "    'train_f1_score': [],\n",
    "    'train_tpr': [],\n",
    "    'train_fpr': [],\n",
    "    'train_auc': [],\n",
    "    'valid_loss': [],\n",
    "    'valid_recall_score': [],\n",
    "    'valid_accuracy_score': [],\n",
    "    'valid_precision_score': [],\n",
    "    'valid_f1_score': [],\n",
    "    'valid_tpr': [],\n",
    "    'valid_fpr': [],\n",
    "    'valid_auc': [],\n",
    "}\n",
    "\n",
    "for epoch in tqdm(range(n_epochs), desc='Training'):\n",
    "    n_batch = len(train_dl)\n",
    "    train_losses, train_recall_scores, train_accuracy_scores, train_precision_scores, train_f1_scores, train_tprs, train_fprs, train_aucs = [], [], [], [], [], [], [], []\n",
    "    for i, data in enumerate(train_dl):\n",
    "        train_loss, train_recall_score, train_accuracy_score, train_precision_score, train_f1_score, train_tpr, train_fpr, train_auc = train(data, classifier, optimizer, loss_fn)\n",
    "        train_losses.append(train_loss)\n",
    "        train_recall_scores.append(train_recall_score)\n",
    "        train_accuracy_scores.append(train_accuracy_score)\n",
    "        train_precision_scores.append(train_precision_score)\n",
    "        train_f1_scores.append(train_f1_score)\n",
    "        train_tprs.append(train_tpr)\n",
    "        train_fprs.append(train_fpr)\n",
    "        train_aucs.append(train_auc)\n",
    "        pos = epoch + ((i+1)/n_batch)\n",
    "        print(\n",
    "            'epoch:', \"%.3f\" % pos,\n",
    "            '\\ttrain loss:', \"%.3f\" % train_loss,\n",
    "            '\\ttrain recall score:', \"%.3f\" % train_recall_score, \n",
    "            '\\ttrain accuracy score:', \"%.3f\" % train_accuracy_score, \n",
    "            '\\ttrain precision score:', \"%.3f\" % train_precision_score, \n",
    "            '\\ttrain f1 score:', \"%.3f\" % train_f1_score, \n",
    "            '\\ttrain auc:', \"%.3f\" % train_auc, \n",
    "            end='\\r'\n",
    "        )\n",
    "        \n",
    "    mem['train_loss'].append(np.mean(train_losses))\n",
    "    mem['train_recall_score'].append(np.mean(train_recall_scores))\n",
    "    mem['train_accuracy_score'].append(np.mean(train_accuracy_scores))\n",
    "    mem['train_precision_score'].append(np.mean(train_precision_scores))\n",
    "    mem['train_f1_score'].append(np.mean(train_f1_scores))\n",
    "    mem['train_tpr'].append(np.concatenate(train_fprs))\n",
    "    mem['train_fpr'].append(np.concatenate(train_tprs))\n",
    "    mem['train_auc'].append(np.mean(train_aucs))\n",
    "    \n",
    "    n_batch = len(valid_dl)\n",
    "    valid_losses, valid_recall_scores, valid_f1_scores, valid_accuracy_scores, valid_precision_scores, valid_tprs, valid_fprs, valid_aucs =  [], [], [], [], [], [], [], []\n",
    "    for i, data in enumerate(valid_dl):\n",
    "        valid_loss, valid_recall_score, valid_accuracy_score, valid_precision_score, valid_f1_score, valid_tpr, valid_fpr, valid_auc = validate(data, classifier, loss_fn)\n",
    "        valid_losses.append(valid_loss)\n",
    "        valid_recall_scores.append(valid_recall_score)\n",
    "        valid_accuracy_scores.append(valid_accuracy_score)\n",
    "        valid_precision_scores.append(valid_precision_score)\n",
    "        valid_f1_scores.append(valid_f1_score)\n",
    "        valid_tprs.append(valid_tpr)\n",
    "        valid_fprs.append(valid_fpr)\n",
    "        valid_aucs.append(valid_auc)\n",
    "        pos = epoch + ((i+1)/n_batch)\n",
    "        print(\n",
    "            'epoch:', \"%.3f\" % pos,\n",
    "            '\\tvalid loss:', \"%.3f\" % valid_loss,\n",
    "            '\\tvalid recall score:', \"%.3f\" % valid_recall_score, \n",
    "            '\\tvalid accuracy score:', \"%.3f\" % valid_accuracy_score, \n",
    "            '\\tvalid precision score:', \"%.3f\" % valid_precision_score, \n",
    "            '\\tvalid f1 score:', \"%.3f\" % valid_f1_score, \n",
    "            '\\tvalid auc:', \"%.3f\" % valid_auc, \n",
    "            end='\\r'\n",
    "        )\n",
    "    \n",
    "    cur_auc_score = np.mean(valid_aucs)\n",
    "    mem['valid_loss'].append(np.mean(valid_losses))\n",
    "    mem['valid_recall_score'].append(np.mean(valid_recall_scores))\n",
    "    mem['valid_accuracy_score'].append(np.mean(valid_accuracy_scores))\n",
    "    mem['valid_precision_score'].append(np.mean(valid_precision_scores))\n",
    "    mem['valid_f1_score'].append(np.mean(valid_f1_scores))\n",
    "    mem['valid_tpr'].append(np.concatenate(valid_fprs))\n",
    "    mem['valid_fpr'].append(np.concatenate(valid_tprs))\n",
    "    mem['valid_auc'].append(np.mean(valid_aucs))\n",
    "    \n",
    "    print(\n",
    "        'epoch:', epoch+1,\n",
    "        '\\ttrain loss:', \"%.3f\" % mem['train_loss'][-1],\n",
    "        '\\ttrain recall score:', \"%.3f\" % mem['train_recall_score'][-1],\n",
    "        '\\ttrain accuracy score:', \"%.3f\" % mem['train_accuracy_score'][-1],\n",
    "        '\\ttrain precision score:', \"%.3f\" % mem['train_precision_score'][-1],\n",
    "        '\\ttrain f1 score:', \"%.3f\" % mem['train_f1_score'][-1],\n",
    "        '\\ttrain auc:', \"%.3f\" % mem['train_auc'][-1],\n",
    "        '\\tvalid loss:', \"%.3f\" % mem['valid_loss'][-1],\n",
    "        '\\tvalid recall score:', \"%.3f\" % mem['valid_recall_score'][-1],\n",
    "        '\\tvalid accuracy score:', \"%.3f\" % mem['valid_accuracy_score'][-1],\n",
    "        '\\tvalid precision score:', \"%.3f\" % mem['valid_precision_score'][-1],\n",
    "        '\\tvalid f1 score:', \"%.3f\" % mem['valid_f1_score'][-1],\n",
    "        '\\tvalid auc:', \"%.3f\" % mem['valid_auc'][-1],\n",
    "    )\n",
    "    \n",
    "    if best_auc_score < cur_auc_score:\n",
    "        best_auc_score = cur_auc_score\n",
    "        torch.save(classifier.state_dict(), './saved_model/diabetic_state_dict.pth')\n",
    "        torch.save(classifier, './saved_model/diabetic_model.pth')\n",
    "        \n",
    "    scheduler.step()"
   ]
  },
  {
   "cell_type": "code",
   "execution_count": 21,
   "id": "3d5f4706",
   "metadata": {
    "execution": {
     "iopub.execute_input": "2023-11-04T05:56:22.879133Z",
     "iopub.status.busy": "2023-11-04T05:56:22.878753Z",
     "iopub.status.idle": "2023-11-04T05:56:23.230297Z",
     "shell.execute_reply": "2023-11-04T05:56:23.229099Z"
    },
    "papermill": {
     "duration": 0.488741,
     "end_time": "2023-11-04T05:56:23.232285",
     "exception": false,
     "start_time": "2023-11-04T05:56:22.743544",
     "status": "completed"
    },
    "tags": []
   },
   "outputs": [
    {
     "data": {
      "image/png": "[encoded data removed]",
      "text/plain": [
       "<Figure size 640x480 with 1 Axes>"
      ]
     },
     "metadata": {},
     "output_type": "display_data"
    }
   ],
   "source": [
    "plt.plot(xticks, mem['train_loss'])\n",
    "plt.plot(xticks, mem['valid_loss'])\n",
    "plt.legend(['train', 'valid'])\n",
    "plt.xlabel('epoch')\n",
    "plt.title('loss')\n",
    "plt.show()"
   ]
  },
  {
   "cell_type": "code",
   "execution_count": 22,
   "id": "e2cf0b69",
   "metadata": {
    "execution": {
     "iopub.execute_input": "2023-11-04T05:56:23.506398Z",
     "iopub.status.busy": "2023-11-04T05:56:23.505398Z",
     "iopub.status.idle": "2023-11-04T05:56:23.790483Z",
     "shell.execute_reply": "2023-11-04T05:56:23.788816Z"
    },
    "papermill": {
     "duration": 0.423589,
     "end_time": "2023-11-04T05:56:23.792634",
     "exception": false,
     "start_time": "2023-11-04T05:56:23.369045",
     "status": "completed"
    },
    "tags": []
   },
   "outputs": [
    {
     "data": {
      "image/png": "[encoded data removed]",
      "text/plain": [
       "<Figure size 640x480 with 1 Axes>"
      ]
     },
     "metadata": {},
     "output_type": "display_data"
    }
   ],
   "source": [
    "plt.plot(xticks, mem['train_recall_score'])\n",
    "plt.plot(xticks, mem['valid_recall_score'])\n",
    "plt.legend(['train', 'valid'])\n",
    "plt.xlabel('epoch')\n",
    "plt.title('recall score')\n",
    "plt.show()"
   ]
  },
  {
   "cell_type": "code",
   "execution_count": 23,
   "id": "b4a3e927",
   "metadata": {
    "execution": {
     "iopub.execute_input": "2023-11-04T05:56:24.066670Z",
     "iopub.status.busy": "2023-11-04T05:56:24.066299Z",
     "iopub.status.idle": "2023-11-04T05:56:24.361726Z",
     "shell.execute_reply": "2023-11-04T05:56:24.360110Z"
    },
    "papermill": {
     "duration": 0.435193,
     "end_time": "2023-11-04T05:56:24.364479",
     "exception": false,
     "start_time": "2023-11-04T05:56:23.929286",
     "status": "completed"
    },
    "tags": []
   },
   "outputs": [
    {
     "data": {
      "image/png": "[encoded data removed]",
      "text/plain": [
       "<Figure size 640x480 with 1 Axes>"
      ]
     },
     "metadata": {},
     "output_type": "display_data"
    }
   ],
   "source": [
    "plt.plot(xticks, mem['train_accuracy_score'])\n",
    "plt.plot(xticks, mem['valid_accuracy_score'])\n",
    "plt.legend(['train', 'valid'])\n",
    "plt.xlabel('epoch')\n",
    "plt.title('accuracy score')\n",
    "plt.show()"
   ]
  },
  {
   "cell_type": "code",
   "execution_count": 24,
   "id": "74592b0d",
   "metadata": {
    "execution": {
     "iopub.execute_input": "2023-11-04T05:56:24.737301Z",
     "iopub.status.busy": "2023-11-04T05:56:24.736921Z",
     "iopub.status.idle": "2023-11-04T05:56:25.005934Z",
     "shell.execute_reply": "2023-11-04T05:56:25.004338Z"
    },
    "papermill": {
     "duration": 0.409893,
     "end_time": "2023-11-04T05:56:25.008020",
     "exception": false,
     "start_time": "2023-11-04T05:56:24.598127",
     "status": "completed"
    },
    "tags": []
   },
   "outputs": [
    {
     "data": {
      "image/png": "[encoded data removed]",
      "text/plain": [
       "<Figure size 640x480 with 1 Axes>"
      ]
     },
     "metadata": {},
     "output_type": "display_data"
    }
   ],
   "source": [
    "plt.plot(xticks, mem['train_precision_score'])\n",
    "plt.plot(xticks, mem['valid_precision_score'])\n",
    "plt.legend(['train', 'valid'])\n",
    "plt.xlabel('epoch')\n",
    "plt.title('precision score')\n",
    "plt.show()"
   ]
  },
  {
   "cell_type": "code",
   "execution_count": 25,
   "id": "6d2c42ca",
   "metadata": {
    "execution": {
     "iopub.execute_input": "2023-11-04T05:56:25.281330Z",
     "iopub.status.busy": "2023-11-04T05:56:25.280986Z",
     "iopub.status.idle": "2023-11-04T05:56:25.556177Z",
     "shell.execute_reply": "2023-11-04T05:56:25.554474Z"
    },
    "papermill": {
     "duration": 0.415713,
     "end_time": "2023-11-04T05:56:25.559195",
     "exception": false,
     "start_time": "2023-11-04T05:56:25.143482",
     "status": "completed"
    },
    "tags": []
   },
   "outputs": [
    {
     "data": {
      "image/png": "[encoded data removed]",
      "text/plain": [
       "<Figure size 640x480 with 1 Axes>"
      ]
     },
     "metadata": {},
     "output_type": "display_data"
    }
   ],
   "source": [
    "plt.plot(xticks, mem['train_f1_score'])\n",
    "plt.plot(xticks, mem['valid_f1_score'])\n",
    "plt.legend(['train', 'valid'])\n",
    "plt.xlabel('epoch')\n",
    "plt.title('f1 score')\n",
    "plt.show()"
   ]
  },
  {
   "cell_type": "code",
   "execution_count": 26,
   "id": "794770a5",
   "metadata": {
    "execution": {
     "iopub.execute_input": "2023-11-04T05:56:25.841233Z",
     "iopub.status.busy": "2023-11-04T05:56:25.840813Z",
     "iopub.status.idle": "2023-11-04T05:56:26.153060Z",
     "shell.execute_reply": "2023-11-04T05:56:26.151545Z"
    },
    "papermill": {
     "duration": 0.45503,
     "end_time": "2023-11-04T05:56:26.155008",
     "exception": false,
     "start_time": "2023-11-04T05:56:25.699978",
     "status": "completed"
    },
    "tags": []
   },
   "outputs": [
    {
     "data": {
      "image/png": "[encoded data removed]",
      "text/plain": [
       "<Figure size 640x480 with 1 Axes>"
      ]
     },
     "metadata": {},
     "output_type": "display_data"
    }
   ],
   "source": [
    "plt.plot(xticks, mem['train_auc'])\n",
    "plt.plot(xticks, mem['valid_auc'])\n",
    "plt.legend(['train', 'valid'])\n",
    "plt.xlabel('epoch')\n",
    "plt.title('auc score')\n",
    "plt.show()"
   ]
  }
 ],
 "metadata": {
  "kernelspec": {
   "display_name": "Python 3",
   "language": "python",
   "name": "python3"
  },
  "language_info": {
   "codemirror_mode": {
    "name": "ipython",
    "version": 3
   },
   "file_extension": ".py",
   "mimetype": "text/x-python",
   "name": "python",
   "nbconvert_exporter": "python",
   "pygments_lexer": "ipython3",
   "version": "3.10.12"
  },
  "papermill": {
   "default_parameters": {},
   "duration": 17829.049408,
   "end_time": "2023-11-04T05:56:29.700842",
   "environment_variables": {},
   "exception": null,
   "input_path": "__notebook__.ipynb",
   "output_path": "__notebook__.ipynb",
   "parameters": {},
   "start_time": "2023-11-04T00:59:20.651434",
   "version": "2.4.0"
  },
  "widgets": {
   "application/vnd.jupyter.widget-state+json": {
    "state": {
     "0fe9fb4fab094c1ea3ce52c6b4102bfb": {
      "model_module": "@jupyter-widgets/controls",
      "model_module_version": "1.5.0",
      "model_name": "HTMLModel",
      "state": {
       "_dom_classes": [],
       "_model_module": "@jupyter-widgets/controls",
       "_model_module_version": "1.5.0",
       "_model_name": "HTMLModel",
       "_view_count": null,
       "_view_module": "@jupyter-widgets/controls",
       "_view_module_version": "1.5.0",
       "_view_name": "HTMLView",
       "description": "",
       "description_tooltip": null,
       "layout": "IPY_MODEL_cebaa2e1fe7c42c2b82f43f2bcdef772",
       "placeholder": "​",
       "style": "IPY_MODEL_193225cefaa7404e809c27b202ba416e",
       "value": " 15/15 [4:43:22&lt;00:00, 1109.51s/it]"
      }
     },
     "193225cefaa7404e809c27b202ba416e": {
      "model_module": "@jupyter-widgets/controls",
      "model_module_version": "1.5.0",
      "model_name": "DescriptionStyleModel",
      "state": {
       "_model_module": "@jupyter-widgets/controls",
       "_model_module_version": "1.5.0",
       "_model_name": "DescriptionStyleModel",
       "_view_count": null,
       "_view_module": "@jupyter-widgets/base",
       "_view_module_version": "1.2.0",
       "_view_name": "StyleView",
       "description_width": ""
      }
     },
     "4008373b56ba41d4816755fcbc1576d1": {
      "model_module": "@jupyter-widgets/controls",
      "model_module_version": "1.5.0",
      "model_name": "HTMLModel",
      "state": {
       "_dom_classes": [],
       "_model_module": "@jupyter-widgets/controls",
       "_model_module_version": "1.5.0",
       "_model_name": "HTMLModel",
       "_view_count": null,
       "_view_module": "@jupyter-widgets/controls",
       "_view_module_version": "1.5.0",
       "_view_name": "HTMLView",
       "description": "",
       "description_tooltip": null,
       "layout": "IPY_MODEL_fab06ed1fd0e4b58be13188a1d287b91",
       "placeholder": "​",
       "style": "IPY_MODEL_dc450e72654044e8b0e954927f0f5a04",
       "value": "Training: 100%"
      }
     },
     "4a9e9be592ce44e78ecca1e62f8788ef": {
      "model_module": "@jupyter-widgets/controls",
      "model_module_version": "1.5.0",
      "model_name": "HBoxModel",
      "state": {
       "_dom_classes": [],
       "_model_module": "@jupyter-widgets/controls",
       "_model_module_version": "1.5.0",
       "_model_name": "HBoxModel",
       "_view_count": null,
       "_view_module": "@jupyter-widgets/controls",
       "_view_module_version": "1.5.0",
       "_view_name": "HBoxView",
       "box_style": "",
       "children": [
        "IPY_MODEL_4008373b56ba41d4816755fcbc1576d1",
        "IPY_MODEL_8da3c233eef9470da55a5e372b2326b7",
        "IPY_MODEL_0fe9fb4fab094c1ea3ce52c6b4102bfb"
       ],
       "layout": "IPY_MODEL_8fc3c3d7f7d34ea29720626c566fcebf"
      }
     },
     "71cc3f51015f430882974de96f76c52d": {
      "model_module": "@jupyter-widgets/controls",
      "model_module_version": "1.5.0",
      "model_name": "ProgressStyleModel",
      "state": {
       "_model_module": "@jupyter-widgets/controls",
       "_model_module_version": "1.5.0",
       "_model_name": "ProgressStyleModel",
       "_view_count": null,
       "_view_module": "@jupyter-widgets/base",
       "_view_module_version": "1.2.0",
       "_view_name": "StyleView",
       "bar_color": null,
       "description_width": ""
      }
     },
     "8da3c233eef9470da55a5e372b2326b7": {
      "model_module": "@jupyter-widgets/controls",
      "model_module_version": "1.5.0",
      "model_name": "FloatProgressModel",
      "state": {
       "_dom_classes": [],
       "_model_module": "@jupyter-widgets/controls",
       "_model_module_version": "1.5.0",
       "_model_name": "FloatProgressModel",
       "_view_count": null,
       "_view_module": "@jupyter-widgets/controls",
       "_view_module_version": "1.5.0",
       "_view_name": "ProgressView",
       "bar_style": "success",
       "description": "",
       "description_tooltip": null,
       "layout": "IPY_MODEL_d06dbe8a5e8a40dc8a220a2cffe0215c",
       "max": 15.0,
       "min": 0.0,
       "orientation": "horizontal",
       "style": "IPY_MODEL_71cc3f51015f430882974de96f76c52d",
       "value": 15.0
      }
     },
     "8fc3c3d7f7d34ea29720626c566fcebf": {
      "model_module": "@jupyter-widgets/base",
      "model_module_version": "1.2.0",
      "model_name": "LayoutModel",
      "state": {
       "_model_module": "@jupyter-widgets/base",
       "_model_module_version": "1.2.0",
       "_model_name": "LayoutModel",
       "_view_count": null,
       "_view_module": "@jupyter-widgets/base",
       "_view_module_version": "1.2.0",
       "_view_name": "LayoutView",
       "align_content": null,
       "align_items": null,
       "align_self": null,
       "border": null,
       "bottom": null,
       "display": null,
       "flex": null,
       "flex_flow": null,
       "grid_area": null,
       "grid_auto_columns": null,
       "grid_auto_flow": null,
       "grid_auto_rows": null,
       "grid_column": null,
       "grid_gap": null,
       "grid_row": null,
       "grid_template_areas": null,
       "grid_template_columns": null,
       "grid_template_rows": null,
       "height": null,
       "justify_content": null,
       "justify_items": null,
       "left": null,
       "margin": null,
       "max_height": null,
       "max_width": null,
       "min_height": null,
       "min_width": null,
       "object_fit": null,
       "object_position": null,
       "order": null,
       "overflow": null,
       "overflow_x": null,
       "overflow_y": null,
       "padding": null,
       "right": null,
       "top": null,
       "visibility": null,
       "width": null
      }
     },
     "cebaa2e1fe7c42c2b82f43f2bcdef772": {
      "model_module": "@jupyter-widgets/base",
      "model_module_version": "1.2.0",
      "model_name": "LayoutModel",
      "state": {
       "_model_module": "@jupyter-widgets/base",
       "_model_module_version": "1.2.0",
       "_model_name": "LayoutModel",
       "_view_count": null,
       "_view_module": "@jupyter-widgets/base",
       "_view_module_version": "1.2.0",
       "_view_name": "LayoutView",
       "align_content": null,
       "align_items": null,
       "align_self": null,
       "border": null,
       "bottom": null,
       "display": null,
       "flex": null,
       "flex_flow": null,
       "grid_area": null,
       "grid_auto_columns": null,
       "grid_auto_flow": null,
       "grid_auto_rows": null,
       "grid_column": null,
       "grid_gap": null,
       "grid_row": null,
       "grid_template_areas": null,
       "grid_template_columns": null,
       "grid_template_rows": null,
       "height": null,
       "justify_content": null,
       "justify_items": null,
       "left": null,
       "margin": null,
       "max_height": null,
       "max_width": null,
       "min_height": null,
       "min_width": null,
       "object_fit": null,
       "object_position": null,
       "order": null,
       "overflow": null,
       "overflow_x": null,
       "overflow_y": null,
       "padding": null,
       "right": null,
       "top": null,
       "visibility": null,
       "width": null
      }
     },
     "d06dbe8a5e8a40dc8a220a2cffe0215c": {
      "model_module": "@jupyter-widgets/base",
      "model_module_version": "1.2.0",
      "model_name": "LayoutModel",
      "state": {
       "_model_module": "@jupyter-widgets/base",
       "_model_module_version": "1.2.0",
       "_model_name": "LayoutModel",
       "_view_count": null,
       "_view_module": "@jupyter-widgets/base",
       "_view_module_version": "1.2.0",
       "_view_name": "LayoutView",
       "align_content": null,
       "align_items": null,
       "align_self": null,
       "border": null,
       "bottom": null,
       "display": null,
       "flex": null,
       "flex_flow": null,
       "grid_area": null,
       "grid_auto_columns": null,
       "grid_auto_flow": null,
       "grid_auto_rows": null,
       "grid_column": null,
       "grid_gap": null,
       "grid_row": null,
       "grid_template_areas": null,
       "grid_template_columns": null,
       "grid_template_rows": null,
       "height": null,
       "justify_content": null,
       "justify_items": null,
       "left": null,
       "margin": null,
       "max_height": null,
       "max_width": null,
       "min_height": null,
       "min_width": null,
       "object_fit": null,
       "object_position": null,
       "order": null,
       "overflow": null,
       "overflow_x": null,
       "overflow_y": null,
       "padding": null,
       "right": null,
       "top": null,
       "visibility": null,
       "width": null
      }
     },
     "dc450e72654044e8b0e954927f0f5a04": {
      "model_module": "@jupyter-widgets/controls",
      "model_module_version": "1.5.0",
      "model_name": "DescriptionStyleModel",
      "state": {
       "_model_module": "@jupyter-widgets/controls",
       "_model_module_version": "1.5.0",
       "_model_name": "DescriptionStyleModel",
       "_view_count": null,
       "_view_module": "@jupyter-widgets/base",
       "_view_module_version": "1.2.0",
       "_view_name": "StyleView",
       "description_width": ""
      }
     },
     "fab06ed1fd0e4b58be13188a1d287b91": {
      "model_module": "@jupyter-widgets/base",
      "model_module_version": "1.2.0",
      "model_name": "LayoutModel",
      "state": {
       "_model_module": "@jupyter-widgets/base",
       "_model_module_version": "1.2.0",
       "_model_name": "LayoutModel",
       "_view_count": null,
       "_view_module": "@jupyter-widgets/base",
       "_view_module_version": "1.2.0",
       "_view_name": "LayoutView",
       "align_content": null,
       "align_items": null,
       "align_self": null,
       "border": null,
       "bottom": null,
       "display": null,
       "flex": null,
       "flex_flow": null,
       "grid_area": null,
       "grid_auto_columns": null,
       "grid_auto_flow": null,
       "grid_auto_rows": null,
       "grid_column": null,
       "grid_gap": null,
       "grid_row": null,
       "grid_template_areas": null,
       "grid_template_columns": null,
       "grid_template_rows": null,
       "height": null,
       "justify_content": null,
       "justify_items": null,
       "left": null,
       "margin": null,
       "max_height": null,
       "max_width": null,
       "min_height": null,
       "min_width": null,
       "object_fit": null,
       "object_position": null,
       "order": null,
       "overflow": null,
       "overflow_x": null,
       "overflow_y": null,
       "padding": null,
       "right": null,
       "top": null,
       "visibility": null,
       "width": null
      }
     }
    },
    "version_major": 2,
    "version_minor": 0
   }
  }
 },
 "nbformat": 4,
 "nbformat_minor": 5
}
