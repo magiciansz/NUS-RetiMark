{
 "cells": [
  {
   "cell_type": "markdown",
   "id": "169ca487",
   "metadata": {
    "papermill": {
     "duration": 0.008573,
     "end_time": "2023-11-03T09:09:11.240338",
     "exception": false,
     "start_time": "2023-11-03T09:09:11.231765",
     "status": "completed"
    },
    "tags": []
   },
   "source": [
    "# Install Dependencies"
   ]
  },
  {
   "cell_type": "code",
   "execution_count": 1,
   "id": "5dd50ef5",
   "metadata": {
    "execution": {
     "iopub.execute_input": "2023-11-03T09:09:11.258753Z",
     "iopub.status.busy": "2023-11-03T09:09:11.258351Z",
     "iopub.status.idle": "2023-11-03T09:09:24.833014Z",
     "shell.execute_reply": "2023-11-03T09:09:24.831848Z"
    },
    "papermill": {
     "duration": 13.586958,
     "end_time": "2023-11-03T09:09:24.835838",
     "exception": false,
     "start_time": "2023-11-03T09:09:11.248880",
     "status": "completed"
    },
    "tags": []
   },
   "outputs": [
    {
     "name": "stdout",
     "output_type": "stream",
     "text": [
      "Collecting torch_summary\r\n",
      "  Downloading torch_summary-1.4.5-py3-none-any.whl (16 kB)\r\n",
      "Installing collected packages: torch_summary\r\n",
      "Successfully installed torch_summary-1.4.5\r\n"
     ]
    }
   ],
   "source": [
    "!pip install torch_summary"
   ]
  },
  {
   "cell_type": "markdown",
   "id": "7e06d4b2",
   "metadata": {
    "papermill": {
     "duration": 0.008547,
     "end_time": "2023-11-03T09:09:24.852967",
     "exception": false,
     "start_time": "2023-11-03T09:09:24.844420",
     "status": "completed"
    },
    "tags": []
   },
   "source": [
    "# Import Libraries"
   ]
  },
  {
   "cell_type": "code",
   "execution_count": 2,
   "id": "14cbd59a",
   "metadata": {
    "_cell_guid": "b1076dfc-b9ad-4769-8c92-a6c4dae69d19",
    "_uuid": "8f2839f25d086af736a60e9eeb907d3b93b6e0e5",
    "execution": {
     "iopub.execute_input": "2023-11-03T09:09:24.872160Z",
     "iopub.status.busy": "2023-11-03T09:09:24.871205Z",
     "iopub.status.idle": "2023-11-03T09:09:30.435655Z",
     "shell.execute_reply": "2023-11-03T09:09:30.434564Z"
    },
    "papermill": {
     "duration": 5.576911,
     "end_time": "2023-11-03T09:09:30.438198",
     "exception": false,
     "start_time": "2023-11-03T09:09:24.861287",
     "status": "completed"
    },
    "tags": []
   },
   "outputs": [
    {
     "name": "stderr",
     "output_type": "stream",
     "text": [
      "/opt/conda/lib/python3.10/site-packages/scipy/__init__.py:146: UserWarning: A NumPy version >=1.16.5 and <1.23.0 is required for this version of SciPy (detected version 1.23.5\n",
      "  warnings.warn(f\"A NumPy version >={np_minversion} and <{np_maxversion}\"\n"
     ]
    }
   ],
   "source": [
    "import torch\n",
    "import torch.nn.functional as F\n",
    "from torch import nn, optim\n",
    "from torchvision import transforms as T, models\n",
    "from torch.utils.data import DataLoader, Dataset\n",
    "from torchsummary import summary\n",
    "from tqdm.notebook import tqdm \n",
    "import zipfile\n",
    "\n",
    "from sklearn.metrics import classification_report, recall_score, accuracy_score, f1_score, precision_score, roc_curve, auc\n",
    "from sklearn.model_selection import train_test_split\n",
    "import seaborn as sns\n",
    "from PIL import Image\n",
    "import matplotlib.pyplot as plt\n",
    "from random import shuffle, randint, choice\n",
    "import numpy as np\n",
    "import cv2 as cv\n",
    "from glob import glob\n",
    "import pandas as pd\n",
    "import requests\n",
    "import concurrent.futures"
   ]
  },
  {
   "cell_type": "code",
   "execution_count": 3,
   "id": "2a3f3f41",
   "metadata": {
    "execution": {
     "iopub.execute_input": "2023-11-03T09:09:30.457499Z",
     "iopub.status.busy": "2023-11-03T09:09:30.456894Z",
     "iopub.status.idle": "2023-11-03T09:09:31.542283Z",
     "shell.execute_reply": "2023-11-03T09:09:31.540735Z"
    },
    "papermill": {
     "duration": 1.098146,
     "end_time": "2023-11-03T09:09:31.545096",
     "exception": false,
     "start_time": "2023-11-03T09:09:30.446950",
     "status": "completed"
    },
    "tags": []
   },
   "outputs": [],
   "source": [
    "!mkdir saved_model\n",
    "sns.set_theme()\n",
    "device = 'cuda' if torch.cuda.is_available() else 'cpu'"
   ]
  },
  {
   "cell_type": "markdown",
   "id": "5594e737",
   "metadata": {
    "papermill": {
     "duration": 0.008406,
     "end_time": "2023-11-03T09:09:31.562404",
     "exception": false,
     "start_time": "2023-11-03T09:09:31.553998",
     "status": "completed"
    },
    "tags": []
   },
   "source": [
    "## Dataset"
   ]
  },
  {
   "cell_type": "code",
   "execution_count": 4,
   "id": "672b2ed0",
   "metadata": {
    "execution": {
     "iopub.execute_input": "2023-11-03T09:09:31.582480Z",
     "iopub.status.busy": "2023-11-03T09:09:31.582063Z",
     "iopub.status.idle": "2023-11-03T09:09:31.654455Z",
     "shell.execute_reply": "2023-11-03T09:09:31.653504Z"
    },
    "papermill": {
     "duration": 0.085314,
     "end_time": "2023-11-03T09:09:31.656620",
     "exception": false,
     "start_time": "2023-11-03T09:09:31.571306",
     "status": "completed"
    },
    "tags": []
   },
   "outputs": [
    {
     "data": {
      "text/html": [
       "<div>\n",
       "<style scoped>\n",
       "    .dataframe tbody tr th:only-of-type {\n",
       "        vertical-align: middle;\n",
       "    }\n",
       "\n",
       "    .dataframe tbody tr th {\n",
       "        vertical-align: top;\n",
       "    }\n",
       "\n",
       "    .dataframe thead th {\n",
       "        text-align: right;\n",
       "    }\n",
       "</style>\n",
       "<table border=\"1\" class=\"dataframe\">\n",
       "  <thead>\n",
       "    <tr style=\"text-align: right;\">\n",
       "      <th></th>\n",
       "      <th>image</th>\n",
       "      <th>level</th>\n",
       "    </tr>\n",
       "  </thead>\n",
       "  <tbody>\n",
       "    <tr>\n",
       "      <th>0</th>\n",
       "      <td>10_left</td>\n",
       "      <td>0</td>\n",
       "    </tr>\n",
       "    <tr>\n",
       "      <th>1</th>\n",
       "      <td>10_right</td>\n",
       "      <td>0</td>\n",
       "    </tr>\n",
       "    <tr>\n",
       "      <th>2</th>\n",
       "      <td>13_left</td>\n",
       "      <td>0</td>\n",
       "    </tr>\n",
       "    <tr>\n",
       "      <th>3</th>\n",
       "      <td>13_right</td>\n",
       "      <td>0</td>\n",
       "    </tr>\n",
       "    <tr>\n",
       "      <th>4</th>\n",
       "      <td>15_left</td>\n",
       "      <td>1</td>\n",
       "    </tr>\n",
       "  </tbody>\n",
       "</table>\n",
       "</div>"
      ],
      "text/plain": [
       "      image  level\n",
       "0   10_left      0\n",
       "1  10_right      0\n",
       "2   13_left      0\n",
       "3  13_right      0\n",
       "4   15_left      1"
      ]
     },
     "execution_count": 4,
     "metadata": {},
     "output_type": "execute_result"
    }
   ],
   "source": [
    "DIR = '/kaggle/input/diabetic-retinopathy-detection'\n",
    "\n",
    "with zipfile.ZipFile(f'{DIR}/trainLabels.csv.zip', 'r') as zip_ref:\n",
    "    with zip_ref.open('trainLabels.csv') as csv_file:\n",
    "        trainLabels_df = pd.read_csv(csv_file, index_col=0).reset_index()\n",
    "\n",
    "trainLabels_df.head()"
   ]
  },
  {
   "cell_type": "code",
   "execution_count": 5,
   "id": "bba9751f",
   "metadata": {
    "execution": {
     "iopub.execute_input": "2023-11-03T09:09:31.676210Z",
     "iopub.status.busy": "2023-11-03T09:09:31.675857Z",
     "iopub.status.idle": "2023-11-03T09:09:31.689725Z",
     "shell.execute_reply": "2023-11-03T09:09:31.688522Z"
    },
    "papermill": {
     "duration": 0.025525,
     "end_time": "2023-11-03T09:09:31.691619",
     "exception": false,
     "start_time": "2023-11-03T09:09:31.666094",
     "status": "completed"
    },
    "tags": []
   },
   "outputs": [
    {
     "name": "stdout",
     "output_type": "stream",
     "text": [
      "Total: 35126\n",
      "Stage 0: 25810\n",
      "Stage 1: 2443\n",
      "Stage 2: 5292\n",
      "Stage 3: 873\n",
      "Stage 4: 708\n"
     ]
    }
   ],
   "source": [
    "print(\"Total:\", len(trainLabels_df))\n",
    "print(\"Stage 0:\", len(trainLabels_df[trainLabels_df[\"level\"]==0]))\n",
    "print(\"Stage 1:\", len(trainLabels_df[trainLabels_df[\"level\"]==1]))\n",
    "print(\"Stage 2:\", len(trainLabels_df[trainLabels_df[\"level\"]==2]))\n",
    "print(\"Stage 3:\", len(trainLabels_df[trainLabels_df[\"level\"]==3]))\n",
    "print(\"Stage 4:\", len(trainLabels_df[trainLabels_df[\"level\"]==4]))"
   ]
  },
  {
   "cell_type": "code",
   "execution_count": 6,
   "id": "3f2a62e4",
   "metadata": {
    "execution": {
     "iopub.execute_input": "2023-11-03T09:09:31.710671Z",
     "iopub.status.busy": "2023-11-03T09:09:31.710307Z",
     "iopub.status.idle": "2023-11-03T09:09:31.729531Z",
     "shell.execute_reply": "2023-11-03T09:09:31.728526Z"
    },
    "papermill": {
     "duration": 0.031732,
     "end_time": "2023-11-03T09:09:31.731874",
     "exception": false,
     "start_time": "2023-11-03T09:09:31.700142",
     "status": "completed"
    },
    "tags": []
   },
   "outputs": [],
   "source": [
    "trainLabels_df['level'] = np.where(trainLabels_df['level'] == 3, 4, trainLabels_df['level'])\n",
    "\n",
    "negative_df = trainLabels_df[trainLabels_df[\"level\"]==0].sample(1200)\n",
    "positive_df = trainLabels_df[trainLabels_df[\"level\"]==4].sample(1200)\n",
    "\n",
    "negative_train, negative_valid = train_test_split(negative_df, test_size=0.2, random_state=42)\n",
    "positive_train, positive_valid = train_test_split(positive_df, test_size=0.2, random_state=42)\n",
    "\n",
    "train_df = pd.concat([negative_train, positive_train]).sample(frac=1).reset_index()\n",
    "valid_df = pd.concat([negative_valid, positive_valid]).sample(frac=1).reset_index()\n"
   ]
  },
  {
   "cell_type": "code",
   "execution_count": 7,
   "id": "8784d17e",
   "metadata": {
    "execution": {
     "iopub.execute_input": "2023-11-03T09:09:31.751452Z",
     "iopub.status.busy": "2023-11-03T09:09:31.751066Z",
     "iopub.status.idle": "2023-11-03T09:09:31.758955Z",
     "shell.execute_reply": "2023-11-03T09:09:31.757788Z"
    },
    "papermill": {
     "duration": 0.020358,
     "end_time": "2023-11-03T09:09:31.761287",
     "exception": false,
     "start_time": "2023-11-03T09:09:31.740929",
     "status": "completed"
    },
    "tags": []
   },
   "outputs": [],
   "source": [
    "def download_image(index, image_name, df, count, total):\n",
    "    filepath = f\"https://diabetic-retinopathy-images.s3.ap-southeast-1.amazonaws.com/images/{image_name}.jpeg\" \n",
    "    response = requests.get(filepath)\n",
    "    print(count, \"/\", total, response.reason, image_name, end=\"\\r\")\n",
    "    if response.status_code != 200:\n",
    "        df.drop(index, inplace=True)\n",
    "        return None\n",
    "    image_data = response.content\n",
    "    nparr = np.frombuffer(image_data, np.uint8)\n",
    "    image = cv.imdecode(nparr, cv.IMREAD_COLOR)\n",
    "    image = cv.cvtColor(image, cv.COLOR_BGR2GRAY)\n",
    "    df.at[index, 'imagefile'] = image"
   ]
  },
  {
   "cell_type": "code",
   "execution_count": 8,
   "id": "7c049a8e",
   "metadata": {
    "execution": {
     "iopub.execute_input": "2023-11-03T09:09:31.781427Z",
     "iopub.status.busy": "2023-11-03T09:09:31.780469Z",
     "iopub.status.idle": "2023-11-03T09:17:18.853157Z",
     "shell.execute_reply": "2023-11-03T09:17:18.851758Z"
    },
    "papermill": {
     "duration": 467.08513,
     "end_time": "2023-11-03T09:17:18.855534",
     "exception": false,
     "start_time": "2023-11-03T09:09:31.770404",
     "status": "completed"
    },
    "tags": []
   },
   "outputs": [
    {
     "name": "stdout",
     "output_type": "stream",
     "text": [
      "Done!\n"
     ]
    }
   ],
   "source": [
    "train_df['imagefile'] = None\n",
    "total = len(train_df)\n",
    "count = 1\n",
    "\n",
    "for start in range(0, total, 1000):\n",
    "    end = min(start + 1000, total)\n",
    "\n",
    "    with concurrent.futures.ThreadPoolExecutor() as executor:\n",
    "        futures = []\n",
    "        for index, row in train_df[start:end].iterrows():\n",
    "            image_name = row['image']\n",
    "            future = executor.submit(download_image, index, image_name, train_df, count, total)\n",
    "            futures.append(future)\n",
    "            count += 1\n",
    "        concurrent.futures.wait(futures)\n",
    "    \n",
    "print(\"Done!\")"
   ]
  },
  {
   "cell_type": "code",
   "execution_count": 9,
   "id": "10333a0a",
   "metadata": {
    "execution": {
     "iopub.execute_input": "2023-11-03T09:17:19.045131Z",
     "iopub.status.busy": "2023-11-03T09:17:19.044241Z",
     "iopub.status.idle": "2023-11-03T09:19:19.012120Z",
     "shell.execute_reply": "2023-11-03T09:19:19.010345Z"
    },
    "papermill": {
     "duration": 120.066184,
     "end_time": "2023-11-03T09:19:19.014575",
     "exception": false,
     "start_time": "2023-11-03T09:17:18.948391",
     "status": "completed"
    },
    "tags": []
   },
   "outputs": [
    {
     "name": "stdout",
     "output_type": "stream",
     "text": [
      "Done!\n"
     ]
    }
   ],
   "source": [
    "valid_df['imagefile'] = None\n",
    "total = len(valid_df)\n",
    "count = 1\n",
    "\n",
    "for start in range(0, total, 1000):\n",
    "    end = min(start + 1000, total)\n",
    "\n",
    "    with concurrent.futures.ThreadPoolExecutor() as executor:\n",
    "        futures = []\n",
    "        for index, row in valid_df[start:end].iterrows():\n",
    "            image_name = row['image']\n",
    "            future = executor.submit(download_image, index, image_name, valid_df, count, total)\n",
    "            futures.append(future)\n",
    "            count += 1\n",
    "        concurrent.futures.wait(futures)\n",
    "\n",
    "print(\"Done!\")"
   ]
  },
  {
   "cell_type": "code",
   "execution_count": 10,
   "id": "8115cc65",
   "metadata": {
    "execution": {
     "iopub.execute_input": "2023-11-03T09:19:19.245122Z",
     "iopub.status.busy": "2023-11-03T09:19:19.244718Z",
     "iopub.status.idle": "2023-11-03T09:19:19.250996Z",
     "shell.execute_reply": "2023-11-03T09:19:19.249938Z"
    },
    "papermill": {
     "duration": 0.124551,
     "end_time": "2023-11-03T09:19:19.253086",
     "exception": false,
     "start_time": "2023-11-03T09:19:19.128535",
     "status": "completed"
    },
    "tags": []
   },
   "outputs": [],
   "source": [
    "def crop_center(cv2_img, crop_width, crop_height):\n",
    "    img_height, img_width = cv2_img.shape[:2]\n",
    "    left = (img_width - crop_width) // 2\n",
    "    top = (img_height - crop_height) // 2\n",
    "    right = (img_width + crop_width) // 2\n",
    "    bottom = (img_height + crop_height) // 2\n",
    "    return cv2_img[top:bottom, left:right]"
   ]
  },
  {
   "cell_type": "code",
   "execution_count": 11,
   "id": "3eedf202",
   "metadata": {
    "execution": {
     "iopub.execute_input": "2023-11-03T09:19:19.483219Z",
     "iopub.status.busy": "2023-11-03T09:19:19.482847Z",
     "iopub.status.idle": "2023-11-03T09:19:19.494951Z",
     "shell.execute_reply": "2023-11-03T09:19:19.493969Z"
    },
    "papermill": {
     "duration": 0.129662,
     "end_time": "2023-11-03T09:19:19.497199",
     "exception": false,
     "start_time": "2023-11-03T09:19:19.367537",
     "status": "completed"
    },
    "tags": []
   },
   "outputs": [],
   "source": [
    "class EyeDataset(Dataset):\n",
    "    def __init__(self, df, data_transform = None):\n",
    "        self.df = df\n",
    "        self.data_transform = data_transform\n",
    "        self.transform = T.Compose([\n",
    "            T.Resize([224, 224]),\n",
    "#             T.Resize([299, 299]),\n",
    "            T.ToTensor(),\n",
    "            T.Normalize(mean=(0.485, 0.456, 0.406),\n",
    "                       std=(0.229, 0.224, 0.225))\n",
    "        ])\n",
    "    \n",
    "    def __len__(self):\n",
    "        return len(self.df)\n",
    "    \n",
    "    def __getitem__(self, idx):\n",
    "        image = self.df.iloc[idx]['imagefile']\n",
    "        crop_size = min(image.shape[:2])\n",
    "        cropped_image = cv.cvtColor(crop_center(image, crop_size, crop_size), cv.COLOR_GRAY2RGB)\n",
    "        cropped_image = Image.fromarray(cropped_image)\n",
    "        \n",
    "        target = self.df.iloc[idx]['level']\n",
    "        \n",
    "        if self.data_transform is not None:\n",
    "            cropped_image = self.data_transform(cropped_image)\n",
    "        \n",
    "        return cropped_image, target\n",
    "    \n",
    "    def transform_img(self, img):\n",
    "        return self.transform(img)\n",
    "    \n",
    "    def collate_fn(self, data):\n",
    "        imgs, targets = zip(*data)\n",
    "        targets = torch.tensor(targets)\n",
    "        targets = targets.view(-1, 1).float()\n",
    "        targets = targets.to(device)\n",
    "        imgs = torch.stack(\n",
    "            [self.transform_img(img) for img in imgs], 0\n",
    "        ).to(device)\n",
    "        return imgs, targets"
   ]
  },
  {
   "cell_type": "code",
   "execution_count": 12,
   "id": "55c581a7",
   "metadata": {
    "execution": {
     "iopub.execute_input": "2023-11-03T09:19:19.734162Z",
     "iopub.status.busy": "2023-11-03T09:19:19.733231Z",
     "iopub.status.idle": "2023-11-03T09:19:19.739597Z",
     "shell.execute_reply": "2023-11-03T09:19:19.738598Z"
    },
    "papermill": {
     "duration": 0.125497,
     "end_time": "2023-11-03T09:19:19.741769",
     "exception": false,
     "start_time": "2023-11-03T09:19:19.616272",
     "status": "completed"
    },
    "tags": []
   },
   "outputs": [],
   "source": [
    "data_transforms = T.Compose([\n",
    "    T.RandomHorizontalFlip(),\n",
    "    T.RandomRotation(15),\n",
    "    T.ColorJitter(brightness=0.2, contrast=0.2, saturation=0.2, hue=0.1),\n",
    "    T.RandomResizedCrop(224, scale=(0.8, 1.0))\n",
    "])"
   ]
  },
  {
   "cell_type": "code",
   "execution_count": 13,
   "id": "867296af",
   "metadata": {
    "execution": {
     "iopub.execute_input": "2023-11-03T09:19:19.976606Z",
     "iopub.status.busy": "2023-11-03T09:19:19.976198Z",
     "iopub.status.idle": "2023-11-03T09:19:19.983057Z",
     "shell.execute_reply": "2023-11-03T09:19:19.981821Z"
    },
    "papermill": {
     "duration": 0.128253,
     "end_time": "2023-11-03T09:19:19.985554",
     "exception": false,
     "start_time": "2023-11-03T09:19:19.857301",
     "status": "completed"
    },
    "tags": []
   },
   "outputs": [],
   "source": [
    "train_df['level'] = np.where(train_df['level'] == 4, 1, 0)\n",
    "valid_df['level'] = np.where(valid_df['level'] == 4, 1, 0)"
   ]
  },
  {
   "cell_type": "code",
   "execution_count": 14,
   "id": "59d35530",
   "metadata": {
    "execution": {
     "iopub.execute_input": "2023-11-03T09:19:20.218964Z",
     "iopub.status.busy": "2023-11-03T09:19:20.218000Z",
     "iopub.status.idle": "2023-11-03T09:19:20.224366Z",
     "shell.execute_reply": "2023-11-03T09:19:20.223523Z"
    },
    "papermill": {
     "duration": 0.125216,
     "end_time": "2023-11-03T09:19:20.226720",
     "exception": false,
     "start_time": "2023-11-03T09:19:20.101504",
     "status": "completed"
    },
    "tags": []
   },
   "outputs": [],
   "source": [
    "train_ds = EyeDataset(train_df, data_transform=data_transforms)\n",
    "train_dl = DataLoader(train_ds, batch_size=64, shuffle=True,\n",
    "                      collate_fn=train_ds.collate_fn)\n",
    "\n",
    "valid_ds = EyeDataset(valid_df)\n",
    "valid_dl = DataLoader(valid_ds, batch_size=64,\n",
    "                      collate_fn=valid_ds.collate_fn)"
   ]
  },
  {
   "cell_type": "code",
   "execution_count": 15,
   "id": "e77c840e",
   "metadata": {
    "execution": {
     "iopub.execute_input": "2023-11-03T09:19:20.525010Z",
     "iopub.status.busy": "2023-11-03T09:19:20.524278Z",
     "iopub.status.idle": "2023-11-03T09:19:20.532230Z",
     "shell.execute_reply": "2023-11-03T09:19:20.531277Z"
    },
    "papermill": {
     "duration": 0.193275,
     "end_time": "2023-11-03T09:19:20.534296",
     "exception": false,
     "start_time": "2023-11-03T09:19:20.341021",
     "status": "completed"
    },
    "tags": []
   },
   "outputs": [],
   "source": [
    "class EyeClassifier(nn.Module):\n",
    "    def __init__(self, pretrained=True):\n",
    "        super().__init__()\n",
    "        \n",
    "        self.model = models.resnet50(pretrained=pretrained, progress=pretrained)\n",
    "    \n",
    "        for param in self.model.parameters():\n",
    "            param.requires_grad = True\n",
    "        \n",
    "        num_features = self.model.fc.in_features\n",
    "\n",
    "        self.model.fc = nn.Sequential(\n",
    "            nn.Flatten(),\n",
    "            nn.BatchNorm1d(num_features),\n",
    "            nn.ReLU(),\n",
    "            nn.Dropout(0.5),\n",
    "            nn.Linear(num_features, 1),\n",
    "            nn.Sigmoid()\n",
    "        )\n",
    "\n",
    "    def forward(self, x):\n",
    "        x = self.model(x)\n",
    "        return x"
   ]
  },
  {
   "cell_type": "code",
   "execution_count": 16,
   "id": "15183a63",
   "metadata": {
    "execution": {
     "iopub.execute_input": "2023-11-03T09:19:20.770917Z",
     "iopub.status.busy": "2023-11-03T09:19:20.770054Z",
     "iopub.status.idle": "2023-11-03T09:19:29.669459Z",
     "shell.execute_reply": "2023-11-03T09:19:29.668304Z"
    },
    "papermill": {
     "duration": 9.018857,
     "end_time": "2023-11-03T09:19:29.672371",
     "exception": false,
     "start_time": "2023-11-03T09:19:20.653514",
     "status": "completed"
    },
    "tags": []
   },
   "outputs": [
    {
     "name": "stderr",
     "output_type": "stream",
     "text": [
      "/opt/conda/lib/python3.10/site-packages/torchvision/models/_utils.py:208: UserWarning: The parameter 'pretrained' is deprecated since 0.13 and may be removed in the future, please use 'weights' instead.\n",
      "  warnings.warn(\n",
      "/opt/conda/lib/python3.10/site-packages/torchvision/models/_utils.py:223: UserWarning: Arguments other than a weight enum or `None` for 'weights' are deprecated since 0.13 and may be removed in the future. The current behavior is equivalent to passing `weights=ResNet50_Weights.IMAGENET1K_V1`. You can also use `weights=ResNet50_Weights.DEFAULT` to get the most up-to-date weights.\n",
      "  warnings.warn(msg)\n",
      "Downloading: \"https://download.pytorch.org/models/resnet50-0676ba61.pth\" to /root/.cache/torch/hub/checkpoints/resnet50-0676ba61.pth\n",
      "100%|██████████| 97.8M/97.8M [00:00<00:00, 263MB/s]\n"
     ]
    },
    {
     "name": "stdout",
     "output_type": "stream",
     "text": [
      "==========================================================================================\n",
      "Layer (type:depth-idx)                   Output Shape              Param #\n",
      "==========================================================================================\n",
      "├─ResNet: 1-1                            [-1, 1]                   --\n",
      "|    └─Conv2d: 2-1                       [-1, 64, 112, 112]        9,408\n",
      "|    └─BatchNorm2d: 2-2                  [-1, 64, 112, 112]        128\n",
      "|    └─ReLU: 2-3                         [-1, 64, 112, 112]        --\n",
      "|    └─MaxPool2d: 2-4                    [-1, 64, 56, 56]          --\n",
      "|    └─Sequential: 2-5                   [-1, 256, 56, 56]         --\n",
      "|    |    └─Bottleneck: 3-1              [-1, 256, 56, 56]         75,008\n",
      "|    |    └─Bottleneck: 3-2              [-1, 256, 56, 56]         70,400\n",
      "|    |    └─Bottleneck: 3-3              [-1, 256, 56, 56]         70,400\n",
      "|    └─Sequential: 2-6                   [-1, 512, 28, 28]         --\n",
      "|    |    └─Bottleneck: 3-4              [-1, 512, 28, 28]         379,392\n",
      "|    |    └─Bottleneck: 3-5              [-1, 512, 28, 28]         280,064\n",
      "|    |    └─Bottleneck: 3-6              [-1, 512, 28, 28]         280,064\n",
      "|    |    └─Bottleneck: 3-7              [-1, 512, 28, 28]         280,064\n",
      "|    └─Sequential: 2-7                   [-1, 1024, 14, 14]        --\n",
      "|    |    └─Bottleneck: 3-8              [-1, 1024, 14, 14]        1,512,448\n",
      "|    |    └─Bottleneck: 3-9              [-1, 1024, 14, 14]        1,117,184\n",
      "|    |    └─Bottleneck: 3-10             [-1, 1024, 14, 14]        1,117,184\n",
      "|    |    └─Bottleneck: 3-11             [-1, 1024, 14, 14]        1,117,184\n",
      "|    |    └─Bottleneck: 3-12             [-1, 1024, 14, 14]        1,117,184\n",
      "|    |    └─Bottleneck: 3-13             [-1, 1024, 14, 14]        1,117,184\n",
      "|    └─Sequential: 2-8                   [-1, 2048, 7, 7]          --\n",
      "|    |    └─Bottleneck: 3-14             [-1, 2048, 7, 7]          6,039,552\n",
      "|    |    └─Bottleneck: 3-15             [-1, 2048, 7, 7]          4,462,592\n",
      "|    |    └─Bottleneck: 3-16             [-1, 2048, 7, 7]          4,462,592\n",
      "|    └─AdaptiveAvgPool2d: 2-9            [-1, 2048, 1, 1]          --\n",
      "|    └─Sequential: 2-10                  [-1, 1]                   --\n",
      "|    |    └─Flatten: 3-17                [-1, 2048]                --\n",
      "|    |    └─BatchNorm1d: 3-18            [-1, 2048]                4,096\n",
      "|    |    └─ReLU: 3-19                   [-1, 2048]                --\n",
      "|    |    └─Dropout: 3-20                [-1, 2048]                --\n",
      "|    |    └─Linear: 3-21                 [-1, 1]                   2,049\n",
      "|    |    └─Sigmoid: 3-22                [-1, 1]                   --\n",
      "==========================================================================================\n",
      "Total params: 23,514,177\n",
      "Trainable params: 23,514,177\n",
      "Non-trainable params: 0\n",
      "Total mult-adds (G): 3.80\n",
      "==========================================================================================\n",
      "Input size (MB): 0.57\n",
      "Forward/backward pass size (MB): 146.63\n",
      "Params size (MB): 89.70\n",
      "Estimated Total Size (MB): 236.91\n",
      "==========================================================================================\n"
     ]
    }
   ],
   "source": [
    "classifier = EyeClassifier(pretrained=True)\n",
    "_ = summary(classifier, torch.ones(1,3,224,224))"
   ]
  },
  {
   "cell_type": "code",
   "execution_count": 17,
   "id": "8a730ea1",
   "metadata": {
    "execution": {
     "iopub.execute_input": "2023-11-03T09:19:29.907195Z",
     "iopub.status.busy": "2023-11-03T09:19:29.906478Z",
     "iopub.status.idle": "2023-11-03T09:19:29.916294Z",
     "shell.execute_reply": "2023-11-03T09:19:29.915203Z"
    },
    "papermill": {
     "duration": 0.128647,
     "end_time": "2023-11-03T09:19:29.918573",
     "exception": false,
     "start_time": "2023-11-03T09:19:29.789926",
     "status": "completed"
    },
    "tags": []
   },
   "outputs": [],
   "source": [
    "def train(data, classifier, optimizer, loss_fn):\n",
    "    classifier.train()\n",
    "    imgs, targets = data\n",
    "    outputs = classifier(imgs.to(device))\n",
    "    loss = loss_fn(outputs.to(device), targets.to(device))\n",
    "    optimizer.zero_grad()\n",
    "    loss.backward()\n",
    "    optimizer.step()\n",
    "    \n",
    "    outputs = outputs.cpu().detach().tolist()\n",
    "    targets = targets.cpu().detach().tolist()\n",
    "    preds = list(map(lambda x: int(x[0] > 0.5), outputs))\n",
    "    \n",
    "    fake_recall_score = recall_score(targets, preds, pos_label=0,zero_division=0)\n",
    "    fake_accuracy_score = accuracy_score(targets, preds)\n",
    "    fake_precision_score = precision_score(targets, preds, pos_label=0,zero_division=0)\n",
    "    fake_f1_score = f1_score(targets, preds, pos_label=0,zero_division=0)\n",
    "    fpr, tpr, thresholds = roc_curve(targets, outputs)\n",
    "    roc_auc = auc(fpr, tpr)\n",
    "    \n",
    "    return loss.cpu().detach().item(), fake_recall_score, fake_accuracy_score, fake_precision_score, fake_f1_score, fpr, tpr, roc_auc"
   ]
  },
  {
   "cell_type": "code",
   "execution_count": 18,
   "id": "1427b14c",
   "metadata": {
    "execution": {
     "iopub.execute_input": "2023-11-03T09:19:30.154244Z",
     "iopub.status.busy": "2023-11-03T09:19:30.153355Z",
     "iopub.status.idle": "2023-11-03T09:19:30.162316Z",
     "shell.execute_reply": "2023-11-03T09:19:30.161359Z"
    },
    "papermill": {
     "duration": 0.128734,
     "end_time": "2023-11-03T09:19:30.164269",
     "exception": false,
     "start_time": "2023-11-03T09:19:30.035535",
     "status": "completed"
    },
    "tags": []
   },
   "outputs": [],
   "source": [
    "@torch.no_grad()\n",
    "def validate(data, classifier, loss_fn):\n",
    "    classifier.eval()\n",
    "    imgs, targets = data\n",
    "    outputs = classifier(imgs.to(device))\n",
    "    loss = loss_fn(outputs.to(device), targets.to(device))\n",
    "    \n",
    "    outputs = outputs.cpu().detach().tolist()\n",
    "    targets = targets.cpu().detach().tolist()\n",
    "    preds = list(map(lambda x: int(x[0] > 0.5), outputs))\n",
    "    fake_recall_score = recall_score(targets, preds, pos_label=0, zero_division=0)\n",
    "    fake_accuracy_score = accuracy_score(targets, preds)\n",
    "    fake_precision_score = precision_score(targets, preds, pos_label=0,zero_division=0)\n",
    "    fake_f1_score = f1_score(targets, preds, pos_label=0,zero_division=0)\n",
    "    fpr, tpr, thresholds = roc_curve(targets, outputs)\n",
    "    roc_auc = auc(fpr, tpr)\n",
    "    \n",
    "    return loss.cpu().detach().item(), fake_recall_score, fake_accuracy_score, fake_precision_score, fake_f1_score, fpr, tpr, roc_auc"
   ]
  },
  {
   "cell_type": "code",
   "execution_count": 19,
   "id": "699fd78d",
   "metadata": {
    "execution": {
     "iopub.execute_input": "2023-11-03T09:19:30.421468Z",
     "iopub.status.busy": "2023-11-03T09:19:30.420769Z",
     "iopub.status.idle": "2023-11-03T09:19:30.982400Z",
     "shell.execute_reply": "2023-11-03T09:19:30.981306Z"
    },
    "papermill": {
     "duration": 0.685174,
     "end_time": "2023-11-03T09:19:30.985114",
     "exception": false,
     "start_time": "2023-11-03T09:19:30.299940",
     "status": "completed"
    },
    "tags": []
   },
   "outputs": [],
   "source": [
    "classifier = EyeClassifier(pretrained=True).to(device)\n",
    "loss_fn = nn.BCELoss().to(device)\n",
    "optimizer = optim.Adam(classifier.parameters(), lr=1e-3, weight_decay=1e-3)\n",
    "scheduler = optim.lr_scheduler.StepLR(optimizer, step_size=5,\n",
    "                                      gamma=0.25)\n",
    "best_recall_score = 0\n",
    "n_epochs = 15\n",
    "xticks = list(i+1 for i in range(n_epochs))"
   ]
  },
  {
   "cell_type": "code",
   "execution_count": 20,
   "id": "fa46d4b8",
   "metadata": {
    "execution": {
     "iopub.execute_input": "2023-11-03T09:19:31.219655Z",
     "iopub.status.busy": "2023-11-03T09:19:31.219283Z",
     "iopub.status.idle": "2023-11-03T12:09:32.042763Z",
     "shell.execute_reply": "2023-11-03T12:09:32.041763Z"
    },
    "papermill": {
     "duration": 10200.942773,
     "end_time": "2023-11-03T12:09:32.046113",
     "exception": false,
     "start_time": "2023-11-03T09:19:31.103340",
     "status": "completed"
    },
    "tags": []
   },
   "outputs": [
    {
     "data": {
      "application/vnd.jupyter.widget-view+json": {
       "model_id": "cc90124f935e493187f9ed5b63fe5d71",
       "version_major": 2,
       "version_minor": 0
      },
      "text/plain": [
       "Training:   0%|          | 0/15 [00:00<?, ?it/s]"
      ]
     },
     "metadata": {},
     "output_type": "display_data"
    },
    {
     "name": "stdout",
     "output_type": "stream",
     "text": [
      "epoch: 1 \ttrain loss: 0.653 \ttrain recall score: 0.726 \ttrain accuracy score: 0.689 \ttrain precision score: 0.675 \ttrain f1 score: 0.695 \ttrain auc: 0.756 \tvalid loss: 0.670 \tvalid recall score: 0.685 \tvalid accuracy score: 0.730 \tvalid precision score: 0.754 \tvalid f1 score: 0.717 \tvalid auc: 0.801\n",
      "epoch: 2 \ttrain loss: 0.407 \ttrain recall score: 0.825 \ttrain accuracy score: 0.821 \ttrain precision score: 0.824 \ttrain f1 score: 0.820 \ttrain auc: 0.902 \tvalid loss: 0.653 \tvalid recall score: 0.971 \tvalid accuracy score: 0.709 \tvalid precision score: 0.634 \tvalid f1 score: 0.766 \tvalid auc: 0.873\n",
      "epoch: 3 \ttrain loss: 0.404 \ttrain recall score: 0.826 \ttrain accuracy score: 0.821 \ttrain precision score: 0.824 \ttrain f1 score: 0.820 \ttrain auc: 0.910 \tvalid loss: 0.444 \tvalid recall score: 0.668 \tvalid accuracy score: 0.791 \tvalid precision score: 0.881 \tvalid f1 score: 0.760 \tvalid auc: 0.902\n",
      "epoch: 4 \ttrain loss: 0.364 \ttrain recall score: 0.875 \ttrain accuracy score: 0.848 \ttrain precision score: 0.834 \ttrain f1 score: 0.852 \ttrain auc: 0.923 \tvalid loss: 0.456 \tvalid recall score: 0.964 \tvalid accuracy score: 0.811 \tvalid precision score: 0.737 \tvalid f1 score: 0.834 \tvalid auc: 0.925\n",
      "epoch: 5 \ttrain loss: 0.332 \ttrain recall score: 0.880 \ttrain accuracy score: 0.864 \ttrain precision score: 0.855 \ttrain f1 score: 0.864 \ttrain auc: 0.938 \tvalid loss: 0.397 \tvalid recall score: 0.953 \tvalid accuracy score: 0.830 \tvalid precision score: 0.766 \tvalid f1 score: 0.848 \tvalid auc: 0.923\n",
      "epoch: 6 \ttrain loss: 0.298 \ttrain recall score: 0.880 \ttrain accuracy score: 0.875 \ttrain precision score: 0.873 \ttrain f1 score: 0.874 \ttrain auc: 0.949 \tvalid loss: 0.304 \tvalid recall score: 0.926 \tvalid accuracy score: 0.871 \tvalid precision score: 0.836 \tvalid f1 score: 0.877 \tvalid auc: 0.947\n",
      "epoch: 7 \ttrain loss: 0.261 \ttrain recall score: 0.920 \ttrain accuracy score: 0.904 \ttrain precision score: 0.892 \ttrain f1 score: 0.904 \ttrain auc: 0.962 \tvalid loss: 0.295 \tvalid recall score: 0.925 \tvalid accuracy score: 0.887 \tvalid precision score: 0.859 \tvalid f1 score: 0.890 \tvalid auc: 0.951\n",
      "epoch: 8 \ttrain loss: 0.249 \ttrain recall score: 0.899 \ttrain accuracy score: 0.896 \ttrain precision score: 0.896 \ttrain f1 score: 0.895 \ttrain auc: 0.965 \tvalid loss: 0.281 \tvalid recall score: 0.912 \tvalid accuracy score: 0.891 \tvalid precision score: 0.876 \tvalid f1 score: 0.893 \tvalid auc: 0.953\n",
      "epoch: 9 \ttrain loss: 0.243 \ttrain recall score: 0.913 \ttrain accuracy score: 0.900 \ttrain precision score: 0.892 \ttrain f1 score: 0.901 \ttrain auc: 0.967 \tvalid loss: 0.293 \tvalid recall score: 0.946 \tvalid accuracy score: 0.898 \tvalid precision score: 0.864 \tvalid f1 score: 0.903 \tvalid auc: 0.958\n",
      "epoch: 10 \ttrain loss: 0.235 \ttrain recall score: 0.926 \ttrain accuracy score: 0.904 \ttrain precision score: 0.892 \ttrain f1 score: 0.905 \ttrain auc: 0.972 \tvalid loss: 0.310 \tvalid recall score: 0.917 \tvalid accuracy score: 0.902 \tvalid precision score: 0.890 \tvalid f1 score: 0.903 \tvalid auc: 0.952\n",
      "epoch: 11 \ttrain loss: 0.218 \ttrain recall score: 0.903 \ttrain accuracy score: 0.911 \ttrain precision score: 0.919 \ttrain f1 score: 0.910 \ttrain auc: 0.971 \tvalid loss: 0.254 \tvalid recall score: 0.895 \tvalid accuracy score: 0.891 \tvalid precision score: 0.887 \tvalid f1 score: 0.890 \tvalid auc: 0.960\n",
      "epoch: 12 \ttrain loss: 0.199 \ttrain recall score: 0.929 \ttrain accuracy score: 0.921 \ttrain precision score: 0.917 \ttrain f1 score: 0.922 \ttrain auc: 0.978 \tvalid loss: 0.274 \tvalid recall score: 0.930 \tvalid accuracy score: 0.896 \tvalid precision score: 0.871 \tvalid f1 score: 0.899 \tvalid auc: 0.959\n",
      "epoch: 13 \ttrain loss: 0.204 \ttrain recall score: 0.924 \ttrain accuracy score: 0.916 \ttrain precision score: 0.911 \ttrain f1 score: 0.915 \ttrain auc: 0.979 \tvalid loss: 0.266 \tvalid recall score: 0.934 \tvalid accuracy score: 0.891 \tvalid precision score: 0.860 \tvalid f1 score: 0.895 \tvalid auc: 0.960\n",
      "epoch: 14 \ttrain loss: 0.196 \ttrain recall score: 0.929 \ttrain accuracy score: 0.920 \ttrain precision score: 0.913 \ttrain f1 score: 0.918 \ttrain auc: 0.981 \tvalid loss: 0.268 \tvalid recall score: 0.931 \tvalid accuracy score: 0.906 \tvalid precision score: 0.887 \tvalid f1 score: 0.908 \tvalid auc: 0.960\n",
      "epoch: 15 \ttrain loss: 0.178 \ttrain recall score: 0.936 \ttrain accuracy score: 0.931 \ttrain precision score: 0.926 \ttrain f1 score: 0.930 \ttrain auc: 0.982 \tvalid loss: 0.274 \tvalid recall score: 0.946 \tvalid accuracy score: 0.908 \tvalid precision score: 0.879 \tvalid f1 score: 0.910 \tvalid auc: 0.960\n"
     ]
    }
   ],
   "source": [
    "mem = {\n",
    "    'train_loss': [],\n",
    "    'train_recall_score': [],\n",
    "    'train_accuracy_score': [],\n",
    "    'train_precision_score': [],\n",
    "    'train_f1_score': [],\n",
    "    'train_tpr': [],\n",
    "    'train_fpr': [],\n",
    "    'train_auc': [],\n",
    "    'valid_loss': [],\n",
    "    'valid_recall_score': [],\n",
    "    'valid_accuracy_score': [],\n",
    "    'valid_precision_score': [],\n",
    "    'valid_f1_score': [],\n",
    "    'valid_tpr': [],\n",
    "    'valid_fpr': [],\n",
    "    'valid_auc': [],\n",
    "}\n",
    "\n",
    "for epoch in tqdm(range(n_epochs), desc='Training'):\n",
    "    n_batch = len(train_dl)\n",
    "    train_losses, train_recall_scores, train_accuracy_scores, train_precision_scores, train_f1_scores, train_tprs, train_fprs, train_aucs = [], [], [], [], [], [], [], []\n",
    "    for i, data in enumerate(train_dl):\n",
    "        train_loss, train_recall_score, train_accuracy_score, train_precision_score, train_f1_score, train_tpr, train_fpr, train_auc = train(data, classifier, optimizer, loss_fn)\n",
    "        train_losses.append(train_loss)\n",
    "        train_recall_scores.append(train_recall_score)\n",
    "        train_accuracy_scores.append(train_accuracy_score)\n",
    "        train_precision_scores.append(train_precision_score)\n",
    "        train_f1_scores.append(train_f1_score)\n",
    "        train_tprs.append(train_tpr)\n",
    "        train_fprs.append(train_fpr)\n",
    "        train_aucs.append(train_auc)\n",
    "        pos = epoch + ((i+1)/n_batch)\n",
    "        print(\n",
    "            'epoch:', \"%.3f\" % pos,\n",
    "            '\\ttrain loss:', \"%.3f\" % train_loss,\n",
    "            '\\ttrain recall score:', \"%.3f\" % train_recall_score, \n",
    "            '\\ttrain accuracy score:', \"%.3f\" % train_accuracy_score, \n",
    "            '\\ttrain precision score:', \"%.3f\" % train_precision_score, \n",
    "            '\\ttrain f1 score:', \"%.3f\" % train_f1_score, \n",
    "            '\\ttrain auc:', \"%.3f\" % train_auc, \n",
    "            end='\\r'\n",
    "        )\n",
    "        \n",
    "    mem['train_loss'].append(np.mean(train_losses))\n",
    "    mem['train_recall_score'].append(np.mean(train_recall_scores))\n",
    "    mem['train_accuracy_score'].append(np.mean(train_accuracy_scores))\n",
    "    mem['train_precision_score'].append(np.mean(train_precision_scores))\n",
    "    mem['train_f1_score'].append(np.mean(train_f1_scores))\n",
    "    mem['train_tpr'].append(np.concatenate(train_fprs))\n",
    "    mem['train_fpr'].append(np.concatenate(train_tprs))\n",
    "    mem['train_auc'].append(np.mean(train_aucs))\n",
    "    \n",
    "    n_batch = len(valid_dl)\n",
    "    valid_losses, valid_recall_scores, valid_f1_scores, valid_accuracy_scores, valid_precision_scores, valid_tprs, valid_fprs, valid_aucs =  [], [], [], [], [], [], [], []\n",
    "    for i, data in enumerate(valid_dl):\n",
    "        valid_loss, valid_recall_score, valid_accuracy_score, valid_precision_score, valid_f1_score, valid_tpr, valid_fpr, valid_auc = validate(data, classifier, loss_fn)\n",
    "        valid_losses.append(valid_loss)\n",
    "        valid_recall_scores.append(valid_recall_score)\n",
    "        valid_accuracy_scores.append(valid_accuracy_score)\n",
    "        valid_precision_scores.append(valid_precision_score)\n",
    "        valid_f1_scores.append(valid_f1_score)\n",
    "        valid_tprs.append(valid_tpr)\n",
    "        valid_fprs.append(valid_fpr)\n",
    "        valid_aucs.append(valid_auc)\n",
    "        pos = epoch + ((i+1)/n_batch)\n",
    "        print(\n",
    "            'epoch:', \"%.3f\" % pos,\n",
    "            '\\tvalid loss:', \"%.3f\" % valid_loss,\n",
    "            '\\tvalid recall score:', \"%.3f\" % valid_recall_score, \n",
    "            '\\tvalid accuracy score:', \"%.3f\" % valid_accuracy_score, \n",
    "            '\\tvalid precision score:', \"%.3f\" % valid_precision_score, \n",
    "            '\\tvalid f1 score:', \"%.3f\" % valid_f1_score, \n",
    "            '\\tvalid auc:', \"%.3f\" % valid_auc, \n",
    "            end='\\r'\n",
    "        )\n",
    "    \n",
    "    cur_recall_score = np.mean(valid_recall_scores)\n",
    "    mem['valid_loss'].append(np.mean(valid_losses))\n",
    "    mem['valid_recall_score'].append(cur_recall_score)\n",
    "    mem['valid_accuracy_score'].append(np.mean(valid_accuracy_scores))\n",
    "    mem['valid_precision_score'].append(np.mean(valid_precision_scores))\n",
    "    mem['valid_f1_score'].append(np.mean(valid_f1_scores))\n",
    "    mem['valid_tpr'].append(np.concatenate(valid_fprs))\n",
    "    mem['valid_fpr'].append(np.concatenate(valid_tprs))\n",
    "    mem['valid_auc'].append(np.mean(valid_aucs))\n",
    "    \n",
    "    print(\n",
    "        'epoch:', epoch+1,\n",
    "        '\\ttrain loss:', \"%.3f\" % mem['train_loss'][-1],\n",
    "        '\\ttrain recall score:', \"%.3f\" % mem['train_recall_score'][-1],\n",
    "        '\\ttrain accuracy score:', \"%.3f\" % mem['train_accuracy_score'][-1],\n",
    "        '\\ttrain precision score:', \"%.3f\" % mem['train_precision_score'][-1],\n",
    "        '\\ttrain f1 score:', \"%.3f\" % mem['train_f1_score'][-1],\n",
    "        '\\ttrain auc:', \"%.3f\" % mem['train_auc'][-1],\n",
    "        '\\tvalid loss:', \"%.3f\" % mem['valid_loss'][-1],\n",
    "        '\\tvalid recall score:', \"%.3f\" % mem['valid_recall_score'][-1],\n",
    "        '\\tvalid accuracy score:', \"%.3f\" % mem['valid_accuracy_score'][-1],\n",
    "        '\\tvalid precision score:', \"%.3f\" % mem['valid_precision_score'][-1],\n",
    "        '\\tvalid f1 score:', \"%.3f\" % mem['valid_f1_score'][-1],\n",
    "        '\\tvalid auc:', \"%.3f\" % mem['valid_auc'][-1],\n",
    "    )\n",
    "    \n",
    "    if best_recall_score < cur_recall_score:\n",
    "        best_recall_score = cur_recall_score\n",
    "        torch.save(classifier.state_dict(), './saved_model/diabetic_state_dict.pth')\n",
    "        torch.save(classifier, './saved_model/diabetic_model.pth')\n",
    "        \n",
    "    scheduler.step()"
   ]
  },
  {
   "cell_type": "code",
   "execution_count": 21,
   "id": "eea6574a",
   "metadata": {
    "execution": {
     "iopub.execute_input": "2023-11-03T12:09:32.366057Z",
     "iopub.status.busy": "2023-11-03T12:09:32.365679Z",
     "iopub.status.idle": "2023-11-03T12:09:32.780900Z",
     "shell.execute_reply": "2023-11-03T12:09:32.779883Z"
    },
    "papermill": {
     "duration": 0.577885,
     "end_time": "2023-11-03T12:09:32.783262",
     "exception": false,
     "start_time": "2023-11-03T12:09:32.205377",
     "status": "completed"
    },
    "tags": []
   },
   "outputs": [
    {
     "data": {
      "image/png": "[encoded data removed]",
      "text/plain": [
       "<Figure size 640x480 with 1 Axes>"
      ]
     },
     "metadata": {},
     "output_type": "display_data"
    }
   ],
   "source": [
    "plt.plot(xticks, mem['train_loss'])\n",
    "plt.plot(xticks, mem['valid_loss'])\n",
    "plt.legend(['train', 'valid'])\n",
    "plt.xlabel('epoch')\n",
    "plt.title('loss')\n",
    "plt.show()"
   ]
  },
  {
   "cell_type": "code",
   "execution_count": 22,
   "id": "1fb29579",
   "metadata": {
    "execution": {
     "iopub.execute_input": "2023-11-03T12:09:33.101348Z",
     "iopub.status.busy": "2023-11-03T12:09:33.100958Z",
     "iopub.status.idle": "2023-11-03T12:09:33.494106Z",
     "shell.execute_reply": "2023-11-03T12:09:33.493083Z"
    },
    "papermill": {
     "duration": 0.554344,
     "end_time": "2023-11-03T12:09:33.496198",
     "exception": false,
     "start_time": "2023-11-03T12:09:32.941854",
     "status": "completed"
    },
    "tags": []
   },
   "outputs": [
    {
     "data": {
      "image/png": "[encoded data removed]",
      "text/plain": [
       "<Figure size 640x480 with 1 Axes>"
      ]
     },
     "metadata": {},
     "output_type": "display_data"
    }
   ],
   "source": [
    "plt.plot(xticks, mem['train_recall_score'])\n",
    "plt.plot(xticks, mem['valid_recall_score'])\n",
    "plt.legend(['train', 'valid'])\n",
    "plt.xlabel('epoch')\n",
    "plt.title('recall score')\n",
    "plt.show()"
   ]
  },
  {
   "cell_type": "code",
   "execution_count": 23,
   "id": "ffbe6d32",
   "metadata": {
    "execution": {
     "iopub.execute_input": "2023-11-03T12:09:33.820442Z",
     "iopub.status.busy": "2023-11-03T12:09:33.819964Z",
     "iopub.status.idle": "2023-11-03T12:09:34.218000Z",
     "shell.execute_reply": "2023-11-03T12:09:34.216956Z"
    },
    "papermill": {
     "duration": 0.564087,
     "end_time": "2023-11-03T12:09:34.219966",
     "exception": false,
     "start_time": "2023-11-03T12:09:33.655879",
     "status": "completed"
    },
    "tags": []
   },
   "outputs": [
    {
     "data": {
      "image/png": "[encoded data removed]",
      "text/plain": [
       "<Figure size 640x480 with 1 Axes>"
      ]
     },
     "metadata": {},
     "output_type": "display_data"
    }
   ],
   "source": [
    "plt.plot(xticks, mem['train_accuracy_score'])\n",
    "plt.plot(xticks, mem['valid_accuracy_score'])\n",
    "plt.legend(['train', 'valid'])\n",
    "plt.xlabel('epoch')\n",
    "plt.title('accuracy score')\n",
    "plt.show()"
   ]
  },
  {
   "cell_type": "code",
   "execution_count": 24,
   "id": "0a2e7dcd",
   "metadata": {
    "execution": {
     "iopub.execute_input": "2023-11-03T12:09:34.629926Z",
     "iopub.status.busy": "2023-11-03T12:09:34.629558Z",
     "iopub.status.idle": "2023-11-03T12:09:35.025525Z",
     "shell.execute_reply": "2023-11-03T12:09:35.024458Z"
    },
    "papermill": {
     "duration": 0.563173,
     "end_time": "2023-11-03T12:09:35.027846",
     "exception": false,
     "start_time": "2023-11-03T12:09:34.464673",
     "status": "completed"
    },
    "tags": []
   },
   "outputs": [
    {
     "data": {
      "image/png": "[encoded data removed]",
      "text/plain": [
       "<Figure size 640x480 with 1 Axes>"
      ]
     },
     "metadata": {},
     "output_type": "display_data"
    }
   ],
   "source": [
    "plt.plot(xticks, mem['train_precision_score'])\n",
    "plt.plot(xticks, mem['valid_precision_score'])\n",
    "plt.legend(['train', 'valid'])\n",
    "plt.xlabel('epoch')\n",
    "plt.title('precision score')\n",
    "plt.show()"
   ]
  },
  {
   "cell_type": "code",
   "execution_count": 25,
   "id": "8cfcaba1",
   "metadata": {
    "execution": {
     "iopub.execute_input": "2023-11-03T12:09:35.358824Z",
     "iopub.status.busy": "2023-11-03T12:09:35.358099Z",
     "iopub.status.idle": "2023-11-03T12:09:35.733634Z",
     "shell.execute_reply": "2023-11-03T12:09:35.732633Z"
    },
    "papermill": {
     "duration": 0.543566,
     "end_time": "2023-11-03T12:09:35.735739",
     "exception": false,
     "start_time": "2023-11-03T12:09:35.192173",
     "status": "completed"
    },
    "tags": []
   },
   "outputs": [
    {
     "data": {
      "image/png": "[encoded data removed]",
      "text/plain": [
       "<Figure size 640x480 with 1 Axes>"
      ]
     },
     "metadata": {},
     "output_type": "display_data"
    }
   ],
   "source": [
    "plt.plot(xticks, mem['train_f1_score'])\n",
    "plt.plot(xticks, mem['valid_f1_score'])\n",
    "plt.legend(['train', 'valid'])\n",
    "plt.xlabel('epoch')\n",
    "plt.title('f1 score')\n",
    "plt.show()"
   ]
  },
  {
   "cell_type": "code",
   "execution_count": 26,
   "id": "13728458",
   "metadata": {
    "execution": {
     "iopub.execute_input": "2023-11-03T12:09:36.071493Z",
     "iopub.status.busy": "2023-11-03T12:09:36.070962Z",
     "iopub.status.idle": "2023-11-03T12:09:36.454597Z",
     "shell.execute_reply": "2023-11-03T12:09:36.453499Z"
    },
    "papermill": {
     "duration": 0.555953,
     "end_time": "2023-11-03T12:09:36.456840",
     "exception": false,
     "start_time": "2023-11-03T12:09:35.900887",
     "status": "completed"
    },
    "tags": []
   },
   "outputs": [
    {
     "data": {
      "image/png": "[encoded data removed]",
      "text/plain": [
       "<Figure size 640x480 with 1 Axes>"
      ]
     },
     "metadata": {},
     "output_type": "display_data"
    }
   ],
   "source": [
    "plt.plot(xticks, mem['train_auc'])\n",
    "plt.plot(xticks, mem['valid_auc'])\n",
    "plt.legend(['train', 'valid'])\n",
    "plt.xlabel('epoch')\n",
    "plt.title('auc score')\n",
    "plt.show()"
   ]
  }
 ],
 "metadata": {
  "kernelspec": {
   "display_name": "Python 3",
   "language": "python",
   "name": "python3"
  },
  "language_info": {
   "codemirror_mode": {
    "name": "ipython",
    "version": 3
   },
   "file_extension": ".py",
   "mimetype": "text/x-python",
   "name": "python",
   "nbconvert_exporter": "python",
   "pygments_lexer": "ipython3",
   "version": "3.10.12"
  },
  "papermill": {
   "default_parameters": {},
   "duration": 10840.421209,
   "end_time": "2023-11-03T12:09:40.840250",
   "environment_variables": {},
   "exception": null,
   "input_path": "__notebook__.ipynb",
   "output_path": "__notebook__.ipynb",
   "parameters": {},
   "start_time": "2023-11-03T09:09:00.419041",
   "version": "2.4.0"
  },
  "widgets": {
   "application/vnd.jupyter.widget-state+json": {
    "state": {
     "00c866599b484a0087479eb1615e672e": {
      "model_module": "@jupyter-widgets/controls",
      "model_module_version": "1.5.0",
      "model_name": "FloatProgressModel",
      "state": {
       "_dom_classes": [],
       "_model_module": "@jupyter-widgets/controls",
       "_model_module_version": "1.5.0",
       "_model_name": "FloatProgressModel",
       "_view_count": null,
       "_view_module": "@jupyter-widgets/controls",
       "_view_module_version": "1.5.0",
       "_view_name": "ProgressView",
       "bar_style": "success",
       "description": "",
       "description_tooltip": null,
       "layout": "IPY_MODEL_854c26b865054b36b32c9e0ba61a4f4a",
       "max": 15.0,
       "min": 0.0,
       "orientation": "horizontal",
       "style": "IPY_MODEL_236cb3f2a2544d909b26c9571360679a",
       "value": 15.0
      }
     },
     "23160cc6079e4ddf8023ef66393155ce": {
      "model_module": "@jupyter-widgets/base",
      "model_module_version": "1.2.0",
      "model_name": "LayoutModel",
      "state": {
       "_model_module": "@jupyter-widgets/base",
       "_model_module_version": "1.2.0",
       "_model_name": "LayoutModel",
       "_view_count": null,
       "_view_module": "@jupyter-widgets/base",
       "_view_module_version": "1.2.0",
       "_view_name": "LayoutView",
       "align_content": null,
       "align_items": null,
       "align_self": null,
       "border": null,
       "bottom": null,
       "display": null,
       "flex": null,
       "flex_flow": null,
       "grid_area": null,
       "grid_auto_columns": null,
       "grid_auto_flow": null,
       "grid_auto_rows": null,
       "grid_column": null,
       "grid_gap": null,
       "grid_row": null,
       "grid_template_areas": null,
       "grid_template_columns": null,
       "grid_template_rows": null,
       "height": null,
       "justify_content": null,
       "justify_items": null,
       "left": null,
       "margin": null,
       "max_height": null,
       "max_width": null,
       "min_height": null,
       "min_width": null,
       "object_fit": null,
       "object_position": null,
       "order": null,
       "overflow": null,
       "overflow_x": null,
       "overflow_y": null,
       "padding": null,
       "right": null,
       "top": null,
       "visibility": null,
       "width": null
      }
     },
     "236cb3f2a2544d909b26c9571360679a": {
      "model_module": "@jupyter-widgets/controls",
      "model_module_version": "1.5.0",
      "model_name": "ProgressStyleModel",
      "state": {
       "_model_module": "@jupyter-widgets/controls",
       "_model_module_version": "1.5.0",
       "_model_name": "ProgressStyleModel",
       "_view_count": null,
       "_view_module": "@jupyter-widgets/base",
       "_view_module_version": "1.2.0",
       "_view_name": "StyleView",
       "bar_color": null,
       "description_width": ""
      }
     },
     "854c26b865054b36b32c9e0ba61a4f4a": {
      "model_module": "@jupyter-widgets/base",
      "model_module_version": "1.2.0",
      "model_name": "LayoutModel",
      "state": {
       "_model_module": "@jupyter-widgets/base",
       "_model_module_version": "1.2.0",
       "_model_name": "LayoutModel",
       "_view_count": null,
       "_view_module": "@jupyter-widgets/base",
       "_view_module_version": "1.2.0",
       "_view_name": "LayoutView",
       "align_content": null,
       "align_items": null,
       "align_self": null,
       "border": null,
       "bottom": null,
       "display": null,
       "flex": null,
       "flex_flow": null,
       "grid_area": null,
       "grid_auto_columns": null,
       "grid_auto_flow": null,
       "grid_auto_rows": null,
       "grid_column": null,
       "grid_gap": null,
       "grid_row": null,
       "grid_template_areas": null,
       "grid_template_columns": null,
       "grid_template_rows": null,
       "height": null,
       "justify_content": null,
       "justify_items": null,
       "left": null,
       "margin": null,
       "max_height": null,
       "max_width": null,
       "min_height": null,
       "min_width": null,
       "object_fit": null,
       "object_position": null,
       "order": null,
       "overflow": null,
       "overflow_x": null,
       "overflow_y": null,
       "padding": null,
       "right": null,
       "top": null,
       "visibility": null,
       "width": null
      }
     },
     "8e9fc40600994dcf897dc6b2e0a5999d": {
      "model_module": "@jupyter-widgets/controls",
      "model_module_version": "1.5.0",
      "model_name": "HTMLModel",
      "state": {
       "_dom_classes": [],
       "_model_module": "@jupyter-widgets/controls",
       "_model_module_version": "1.5.0",
       "_model_name": "HTMLModel",
       "_view_count": null,
       "_view_module": "@jupyter-widgets/controls",
       "_view_module_version": "1.5.0",
       "_view_name": "HTMLView",
       "description": "",
       "description_tooltip": null,
       "layout": "IPY_MODEL_92c40e19190a4a5da5a04635f052ca1b",
       "placeholder": "​",
       "style": "IPY_MODEL_ee6288dee5e545cdbbcb98f93f383afe",
       "value": "Training: 100%"
      }
     },
     "92c40e19190a4a5da5a04635f052ca1b": {
      "model_module": "@jupyter-widgets/base",
      "model_module_version": "1.2.0",
      "model_name": "LayoutModel",
      "state": {
       "_model_module": "@jupyter-widgets/base",
       "_model_module_version": "1.2.0",
       "_model_name": "LayoutModel",
       "_view_count": null,
       "_view_module": "@jupyter-widgets/base",
       "_view_module_version": "1.2.0",
       "_view_name": "LayoutView",
       "align_content": null,
       "align_items": null,
       "align_self": null,
       "border": null,
       "bottom": null,
       "display": null,
       "flex": null,
       "flex_flow": null,
       "grid_area": null,
       "grid_auto_columns": null,
       "grid_auto_flow": null,
       "grid_auto_rows": null,
       "grid_column": null,
       "grid_gap": null,
       "grid_row": null,
       "grid_template_areas": null,
       "grid_template_columns": null,
       "grid_template_rows": null,
       "height": null,
       "justify_content": null,
       "justify_items": null,
       "left": null,
       "margin": null,
       "max_height": null,
       "max_width": null,
       "min_height": null,
       "min_width": null,
       "object_fit": null,
       "object_position": null,
       "order": null,
       "overflow": null,
       "overflow_x": null,
       "overflow_y": null,
       "padding": null,
       "right": null,
       "top": null,
       "visibility": null,
       "width": null
      }
     },
     "b8f4a9e6bd2040558e52208688d0df36": {
      "model_module": "@jupyter-widgets/controls",
      "model_module_version": "1.5.0",
      "model_name": "DescriptionStyleModel",
      "state": {
       "_model_module": "@jupyter-widgets/controls",
       "_model_module_version": "1.5.0",
       "_model_name": "DescriptionStyleModel",
       "_view_count": null,
       "_view_module": "@jupyter-widgets/base",
       "_view_module_version": "1.2.0",
       "_view_name": "StyleView",
       "description_width": ""
      }
     },
     "bcc1116c7db74712be27ae3d3f46810d": {
      "model_module": "@jupyter-widgets/controls",
      "model_module_version": "1.5.0",
      "model_name": "HTMLModel",
      "state": {
       "_dom_classes": [],
       "_model_module": "@jupyter-widgets/controls",
       "_model_module_version": "1.5.0",
       "_model_name": "HTMLModel",
       "_view_count": null,
       "_view_module": "@jupyter-widgets/controls",
       "_view_module_version": "1.5.0",
       "_view_name": "HTMLView",
       "description": "",
       "description_tooltip": null,
       "layout": "IPY_MODEL_d57d482d24274f40a52b35be5ee8439a",
       "placeholder": "​",
       "style": "IPY_MODEL_b8f4a9e6bd2040558e52208688d0df36",
       "value": " 15/15 [2:50:00&lt;00:00, 677.10s/it]"
      }
     },
     "cc90124f935e493187f9ed5b63fe5d71": {
      "model_module": "@jupyter-widgets/controls",
      "model_module_version": "1.5.0",
      "model_name": "HBoxModel",
      "state": {
       "_dom_classes": [],
       "_model_module": "@jupyter-widgets/controls",
       "_model_module_version": "1.5.0",
       "_model_name": "HBoxModel",
       "_view_count": null,
       "_view_module": "@jupyter-widgets/controls",
       "_view_module_version": "1.5.0",
       "_view_name": "HBoxView",
       "box_style": "",
       "children": [
        "IPY_MODEL_8e9fc40600994dcf897dc6b2e0a5999d",
        "IPY_MODEL_00c866599b484a0087479eb1615e672e",
        "IPY_MODEL_bcc1116c7db74712be27ae3d3f46810d"
       ],
       "layout": "IPY_MODEL_23160cc6079e4ddf8023ef66393155ce"
      }
     },
     "d57d482d24274f40a52b35be5ee8439a": {
      "model_module": "@jupyter-widgets/base",
      "model_module_version": "1.2.0",
      "model_name": "LayoutModel",
      "state": {
       "_model_module": "@jupyter-widgets/base",
       "_model_module_version": "1.2.0",
       "_model_name": "LayoutModel",
       "_view_count": null,
       "_view_module": "@jupyter-widgets/base",
       "_view_module_version": "1.2.0",
       "_view_name": "LayoutView",
       "align_content": null,
       "align_items": null,
       "align_self": null,
       "border": null,
       "bottom": null,
       "display": null,
       "flex": null,
       "flex_flow": null,
       "grid_area": null,
       "grid_auto_columns": null,
       "grid_auto_flow": null,
       "grid_auto_rows": null,
       "grid_column": null,
       "grid_gap": null,
       "grid_row": null,
       "grid_template_areas": null,
       "grid_template_columns": null,
       "grid_template_rows": null,
       "height": null,
       "justify_content": null,
       "justify_items": null,
       "left": null,
       "margin": null,
       "max_height": null,
       "max_width": null,
       "min_height": null,
       "min_width": null,
       "object_fit": null,
       "object_position": null,
       "order": null,
       "overflow": null,
       "overflow_x": null,
       "overflow_y": null,
       "padding": null,
       "right": null,
       "top": null,
       "visibility": null,
       "width": null
      }
     },
     "ee6288dee5e545cdbbcb98f93f383afe": {
      "model_module": "@jupyter-widgets/controls",
      "model_module_version": "1.5.0",
      "model_name": "DescriptionStyleModel",
      "state": {
       "_model_module": "@jupyter-widgets/controls",
       "_model_module_version": "1.5.0",
       "_model_name": "DescriptionStyleModel",
       "_view_count": null,
       "_view_module": "@jupyter-widgets/base",
       "_view_module_version": "1.2.0",
       "_view_name": "StyleView",
       "description_width": ""
      }
     }
    },
    "version_major": 2,
    "version_minor": 0
   }
  }
 },
 "nbformat": 4,
 "nbformat_minor": 5
}
