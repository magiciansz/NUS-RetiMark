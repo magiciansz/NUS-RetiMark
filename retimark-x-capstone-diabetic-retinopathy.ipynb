{
 "cells": [
  {
   "cell_type": "markdown",
   "id": "255443ac",
   "metadata": {
    "papermill": {
     "duration": 0.007477,
     "end_time": "2023-11-02T14:52:02.161036",
     "exception": false,
     "start_time": "2023-11-02T14:52:02.153559",
     "status": "completed"
    },
    "tags": []
   },
   "source": [
    "# Install Dependencies"
   ]
  },
  {
   "cell_type": "code",
   "execution_count": 1,
   "id": "18dd1220",
   "metadata": {
    "execution": {
     "iopub.execute_input": "2023-11-02T14:52:02.176416Z",
     "iopub.status.busy": "2023-11-02T14:52:02.176142Z",
     "iopub.status.idle": "2023-11-02T14:52:14.820579Z",
     "shell.execute_reply": "2023-11-02T14:52:14.819449Z"
    },
    "papermill": {
     "duration": 12.655021,
     "end_time": "2023-11-02T14:52:14.823234",
     "exception": false,
     "start_time": "2023-11-02T14:52:02.168213",
     "status": "completed"
    },
    "tags": []
   },
   "outputs": [
    {
     "name": "stdout",
     "output_type": "stream",
     "text": [
      "Collecting torch_summary\r\n",
      "  Downloading torch_summary-1.4.5-py3-none-any.whl (16 kB)\r\n",
      "Installing collected packages: torch_summary\r\n",
      "Successfully installed torch_summary-1.4.5\r\n"
     ]
    }
   ],
   "source": [
    "!pip install torch_summary"
   ]
  },
  {
   "cell_type": "markdown",
   "id": "c4434581",
   "metadata": {
    "papermill": {
     "duration": 0.007289,
     "end_time": "2023-11-02T14:52:14.837973",
     "exception": false,
     "start_time": "2023-11-02T14:52:14.830684",
     "status": "completed"
    },
    "tags": []
   },
   "source": [
    "# Import Libraries"
   ]
  },
  {
   "cell_type": "code",
   "execution_count": 2,
   "id": "017da5dd",
   "metadata": {
    "_cell_guid": "b1076dfc-b9ad-4769-8c92-a6c4dae69d19",
    "_uuid": "8f2839f25d086af736a60e9eeb907d3b93b6e0e5",
    "execution": {
     "iopub.execute_input": "2023-11-02T14:52:14.853902Z",
     "iopub.status.busy": "2023-11-02T14:52:14.853584Z",
     "iopub.status.idle": "2023-11-02T14:52:19.981694Z",
     "shell.execute_reply": "2023-11-02T14:52:19.980924Z"
    },
    "papermill": {
     "duration": 5.138913,
     "end_time": "2023-11-02T14:52:19.984193",
     "exception": false,
     "start_time": "2023-11-02T14:52:14.845280",
     "status": "completed"
    },
    "tags": []
   },
   "outputs": [
    {
     "name": "stderr",
     "output_type": "stream",
     "text": [
      "/opt/conda/lib/python3.10/site-packages/scipy/__init__.py:146: UserWarning: A NumPy version >=1.16.5 and <1.23.0 is required for this version of SciPy (detected version 1.23.5\n",
      "  warnings.warn(f\"A NumPy version >={np_minversion} and <{np_maxversion}\"\n"
     ]
    }
   ],
   "source": [
    "import torch\n",
    "import torch.nn.functional as F\n",
    "from torch import nn, optim\n",
    "from torchvision import transforms as T, models\n",
    "from torch.utils.data import DataLoader, Dataset\n",
    "from torchsummary import summary\n",
    "from tqdm.notebook import tqdm \n",
    "import zipfile\n",
    "\n",
    "from sklearn.metrics import classification_report, recall_score\n",
    "from sklearn.model_selection import train_test_split\n",
    "import seaborn as sns\n",
    "from PIL import Image\n",
    "import matplotlib.pyplot as plt\n",
    "from random import shuffle, randint, choice\n",
    "import numpy as np\n",
    "import cv2 as cv\n",
    "from glob import glob\n",
    "import pandas as pd\n",
    "import requests\n",
    "import concurrent.futures"
   ]
  },
  {
   "cell_type": "code",
   "execution_count": 3,
   "id": "e722ac27",
   "metadata": {
    "execution": {
     "iopub.execute_input": "2023-11-02T14:52:20.001593Z",
     "iopub.status.busy": "2023-11-02T14:52:20.001140Z",
     "iopub.status.idle": "2023-11-02T14:52:21.075123Z",
     "shell.execute_reply": "2023-11-02T14:52:21.073835Z"
    },
    "papermill": {
     "duration": 1.085018,
     "end_time": "2023-11-02T14:52:21.077489",
     "exception": false,
     "start_time": "2023-11-02T14:52:19.992471",
     "status": "completed"
    },
    "tags": []
   },
   "outputs": [],
   "source": [
    "!mkdir saved_model\n",
    "sns.set_theme()\n",
    "device = 'cuda' if torch.cuda.is_available() else 'cpu'"
   ]
  },
  {
   "cell_type": "markdown",
   "id": "a18080c3",
   "metadata": {
    "papermill": {
     "duration": 0.007283,
     "end_time": "2023-11-02T14:52:21.092520",
     "exception": false,
     "start_time": "2023-11-02T14:52:21.085237",
     "status": "completed"
    },
    "tags": []
   },
   "source": [
    "## Dataset"
   ]
  },
  {
   "cell_type": "code",
   "execution_count": 4,
   "id": "144f2d7c",
   "metadata": {
    "execution": {
     "iopub.execute_input": "2023-11-02T14:52:21.109797Z",
     "iopub.status.busy": "2023-11-02T14:52:21.108925Z",
     "iopub.status.idle": "2023-11-02T14:52:21.177847Z",
     "shell.execute_reply": "2023-11-02T14:52:21.176957Z"
    },
    "papermill": {
     "duration": 0.080079,
     "end_time": "2023-11-02T14:52:21.180061",
     "exception": false,
     "start_time": "2023-11-02T14:52:21.099982",
     "status": "completed"
    },
    "tags": []
   },
   "outputs": [
    {
     "data": {
      "text/html": [
       "<div>\n",
       "<style scoped>\n",
       "    .dataframe tbody tr th:only-of-type {\n",
       "        vertical-align: middle;\n",
       "    }\n",
       "\n",
       "    .dataframe tbody tr th {\n",
       "        vertical-align: top;\n",
       "    }\n",
       "\n",
       "    .dataframe thead th {\n",
       "        text-align: right;\n",
       "    }\n",
       "</style>\n",
       "<table border=\"1\" class=\"dataframe\">\n",
       "  <thead>\n",
       "    <tr style=\"text-align: right;\">\n",
       "      <th></th>\n",
       "      <th>image</th>\n",
       "      <th>level</th>\n",
       "    </tr>\n",
       "  </thead>\n",
       "  <tbody>\n",
       "    <tr>\n",
       "      <th>0</th>\n",
       "      <td>10_left</td>\n",
       "      <td>0</td>\n",
       "    </tr>\n",
       "    <tr>\n",
       "      <th>1</th>\n",
       "      <td>10_right</td>\n",
       "      <td>0</td>\n",
       "    </tr>\n",
       "    <tr>\n",
       "      <th>2</th>\n",
       "      <td>13_left</td>\n",
       "      <td>0</td>\n",
       "    </tr>\n",
       "    <tr>\n",
       "      <th>3</th>\n",
       "      <td>13_right</td>\n",
       "      <td>0</td>\n",
       "    </tr>\n",
       "    <tr>\n",
       "      <th>4</th>\n",
       "      <td>15_left</td>\n",
       "      <td>1</td>\n",
       "    </tr>\n",
       "  </tbody>\n",
       "</table>\n",
       "</div>"
      ],
      "text/plain": [
       "      image  level\n",
       "0   10_left      0\n",
       "1  10_right      0\n",
       "2   13_left      0\n",
       "3  13_right      0\n",
       "4   15_left      1"
      ]
     },
     "execution_count": 4,
     "metadata": {},
     "output_type": "execute_result"
    }
   ],
   "source": [
    "DIR = '/kaggle/input/diabetic-retinopathy-detection'\n",
    "\n",
    "with zipfile.ZipFile(f'{DIR}/trainLabels.csv.zip', 'r') as zip_ref:\n",
    "    with zip_ref.open('trainLabels.csv') as csv_file:\n",
    "        trainLabels_df = pd.read_csv(csv_file, index_col=0).reset_index()\n",
    "\n",
    "trainLabels_df.head()"
   ]
  },
  {
   "cell_type": "code",
   "execution_count": 5,
   "id": "70ec89af",
   "metadata": {
    "execution": {
     "iopub.execute_input": "2023-11-02T14:52:21.197905Z",
     "iopub.status.busy": "2023-11-02T14:52:21.197618Z",
     "iopub.status.idle": "2023-11-02T14:52:21.209265Z",
     "shell.execute_reply": "2023-11-02T14:52:21.208111Z"
    },
    "papermill": {
     "duration": 0.022527,
     "end_time": "2023-11-02T14:52:21.211185",
     "exception": false,
     "start_time": "2023-11-02T14:52:21.188658",
     "status": "completed"
    },
    "tags": []
   },
   "outputs": [
    {
     "name": "stdout",
     "output_type": "stream",
     "text": [
      "Total: 35126\n",
      "Stage 0: 25810\n",
      "Stage 1: 2443\n",
      "Stage 2: 5292\n",
      "Stage 3: 873\n",
      "Stage 4: 708\n"
     ]
    }
   ],
   "source": [
    "print(\"Total:\", len(trainLabels_df))\n",
    "print(\"Stage 0:\", len(trainLabels_df[trainLabels_df[\"level\"]==0]))\n",
    "print(\"Stage 1:\", len(trainLabels_df[trainLabels_df[\"level\"]==1]))\n",
    "print(\"Stage 2:\", len(trainLabels_df[trainLabels_df[\"level\"]==2]))\n",
    "print(\"Stage 3:\", len(trainLabels_df[trainLabels_df[\"level\"]==3]))\n",
    "print(\"Stage 4:\", len(trainLabels_df[trainLabels_df[\"level\"]==4]))"
   ]
  },
  {
   "cell_type": "code",
   "execution_count": 6,
   "id": "a49d8bdb",
   "metadata": {
    "execution": {
     "iopub.execute_input": "2023-11-02T14:52:21.227990Z",
     "iopub.status.busy": "2023-11-02T14:52:21.227695Z",
     "iopub.status.idle": "2023-11-02T14:52:21.245511Z",
     "shell.execute_reply": "2023-11-02T14:52:21.244645Z"
    },
    "papermill": {
     "duration": 0.028817,
     "end_time": "2023-11-02T14:52:21.247767",
     "exception": false,
     "start_time": "2023-11-02T14:52:21.218950",
     "status": "completed"
    },
    "tags": []
   },
   "outputs": [],
   "source": [
    "# stage_0_df = trainLabels_df[trainLabels_df[\"level\"]==0].sample(500)\n",
    "# stage_1_df = trainLabels_df[trainLabels_df[\"level\"]==1].sample(500)\n",
    "# stage_2_df = trainLabels_df[trainLabels_df[\"level\"]==2].sample(500)\n",
    "# stage_3_df = trainLabels_df[trainLabels_df[\"level\"]==3].sample(500)\n",
    "# stage_4_df = trainLabels_df[trainLabels_df[\"level\"]==4].sample(500)\n",
    "\n",
    "# stage_0_train, stage_0_valid = train_test_split(stage_0_df, test_size=0.2, random_state=42)\n",
    "# stage_1_train, stage_1_valid = train_test_split(stage_1_df, test_size=0.2, random_state=42)\n",
    "# stage_2_train, stage_2_valid = train_test_split(stage_2_df, test_size=0.2, random_state=42)\n",
    "# stage_3_train, stage_3_valid = train_test_split(stage_3_df, test_size=0.2, random_state=42)\n",
    "# stage_4_train, stage_4_valid = train_test_split(stage_4_df, test_size=0.2, random_state=42)\n",
    "\n",
    "# train_df = pd.concat([stage_0_train, stage_1_train, stage_2_train, stage_3_train, stage_4_train]).sample(frac=1).reset_index()\n",
    "# valid_df = pd.concat([stage_0_valid, stage_1_valid, stage_2_valid, stage_3_valid, stage_4_valid]).sample(frac=1).reset_index()\n",
    "\n",
    "\n",
    "trainLabels_df['level'] = np.where(trainLabels_df['level'] == 0, 0, 1)\n",
    "\n",
    "negative_df = trainLabels_df[trainLabels_df[\"level\"]==0].sample(1000)\n",
    "positive_df = trainLabels_df[trainLabels_df[\"level\"]==1].sample(1000)\n",
    "\n",
    "negative_train, negative_valid = train_test_split(negative_df, test_size=0.2, random_state=42)\n",
    "positive_train, positive_valid = train_test_split(positive_df, test_size=0.2, random_state=42)\n",
    "\n",
    "train_df = pd.concat([negative_train, positive_train]).sample(frac=1).reset_index()\n",
    "valid_df = pd.concat([negative_valid, positive_valid]).sample(frac=1).reset_index()\n"
   ]
  },
  {
   "cell_type": "code",
   "execution_count": 7,
   "id": "b4390383",
   "metadata": {
    "execution": {
     "iopub.execute_input": "2023-11-02T14:52:21.271211Z",
     "iopub.status.busy": "2023-11-02T14:52:21.270861Z",
     "iopub.status.idle": "2023-11-02T14:52:21.277311Z",
     "shell.execute_reply": "2023-11-02T14:52:21.276483Z"
    },
    "papermill": {
     "duration": 0.020712,
     "end_time": "2023-11-02T14:52:21.279536",
     "exception": false,
     "start_time": "2023-11-02T14:52:21.258824",
     "status": "completed"
    },
    "tags": []
   },
   "outputs": [],
   "source": [
    "def download_image(index, image_name, df, count, total):\n",
    "    filepath = f\"https://diabetic-retinopathy-images.s3.ap-southeast-1.amazonaws.com/images/{image_name}.jpeg\" \n",
    "    response = requests.get(filepath)\n",
    "    print(count, \"/\", total, response.reason, image_name, end=\"\\r\")\n",
    "    if response.status_code != 200:\n",
    "        df.drop(index, inplace=True)\n",
    "        return None\n",
    "    image_data = response.content\n",
    "    nparr = np.frombuffer(image_data, np.uint8)\n",
    "    image = cv.imdecode(nparr, cv.IMREAD_COLOR)\n",
    "    image = cv.cvtColor(image, cv.COLOR_BGR2GRAY)\n",
    "    df.at[index, 'imagefile'] = image"
   ]
  },
  {
   "cell_type": "code",
   "execution_count": 8,
   "id": "16f5f820",
   "metadata": {
    "execution": {
     "iopub.execute_input": "2023-11-02T14:52:21.299318Z",
     "iopub.status.busy": "2023-11-02T14:52:21.299062Z",
     "iopub.status.idle": "2023-11-02T14:58:52.762048Z",
     "shell.execute_reply": "2023-11-02T14:58:52.760861Z"
    },
    "papermill": {
     "duration": 391.474054,
     "end_time": "2023-11-02T14:58:52.764387",
     "exception": false,
     "start_time": "2023-11-02T14:52:21.290333",
     "status": "completed"
    },
    "tags": []
   },
   "outputs": [
    {
     "name": "stdout",
     "output_type": "stream",
     "text": [
      "Done!\n"
     ]
    }
   ],
   "source": [
    "train_df['imagefile'] = None\n",
    "total = len(train_df)\n",
    "count = 1\n",
    "\n",
    "for start in range(0, total, 1000):\n",
    "    end = min(start + 1000, total)\n",
    "\n",
    "    with concurrent.futures.ThreadPoolExecutor() as executor:\n",
    "        futures = []\n",
    "        for index, row in train_df[start:end].iterrows():\n",
    "            image_name = row['image']\n",
    "            future = executor.submit(download_image, index, image_name, train_df, count, total)\n",
    "            futures.append(future)\n",
    "            count += 1\n",
    "        concurrent.futures.wait(futures)\n",
    "    \n",
    "print(\"Done!\")"
   ]
  },
  {
   "cell_type": "code",
   "execution_count": 9,
   "id": "1569aca1",
   "metadata": {
    "execution": {
     "iopub.execute_input": "2023-11-02T14:58:52.914895Z",
     "iopub.status.busy": "2023-11-02T14:58:52.914196Z",
     "iopub.status.idle": "2023-11-02T15:00:26.057449Z",
     "shell.execute_reply": "2023-11-02T15:00:26.055796Z"
    },
    "papermill": {
     "duration": 93.220254,
     "end_time": "2023-11-02T15:00:26.059594",
     "exception": false,
     "start_time": "2023-11-02T14:58:52.839340",
     "status": "completed"
    },
    "tags": []
   },
   "outputs": [
    {
     "name": "stdout",
     "output_type": "stream",
     "text": [
      "Done!\n"
     ]
    }
   ],
   "source": [
    "valid_df['imagefile'] = None\n",
    "total = len(valid_df)\n",
    "count = 1\n",
    "\n",
    "for start in range(0, total, 1000):\n",
    "    end = min(start + 1000, total)\n",
    "\n",
    "    with concurrent.futures.ThreadPoolExecutor() as executor:\n",
    "        futures = []\n",
    "        for index, row in valid_df[start:end].iterrows():\n",
    "            image_name = row['image']\n",
    "            future = executor.submit(download_image, index, image_name, valid_df, count, total)\n",
    "            futures.append(future)\n",
    "            count += 1\n",
    "        concurrent.futures.wait(futures)\n",
    "\n",
    "print(\"Done!\")"
   ]
  },
  {
   "cell_type": "code",
   "execution_count": 10,
   "id": "129c357e",
   "metadata": {
    "execution": {
     "iopub.execute_input": "2023-11-02T15:00:26.240240Z",
     "iopub.status.busy": "2023-11-02T15:00:26.239848Z",
     "iopub.status.idle": "2023-11-02T15:00:26.245670Z",
     "shell.execute_reply": "2023-11-02T15:00:26.244812Z"
    },
    "papermill": {
     "duration": 0.098138,
     "end_time": "2023-11-02T15:00:26.247722",
     "exception": false,
     "start_time": "2023-11-02T15:00:26.149584",
     "status": "completed"
    },
    "tags": []
   },
   "outputs": [],
   "source": [
    "def crop_center(cv2_img, crop_width, crop_height):\n",
    "    img_height, img_width = cv2_img.shape[:2]\n",
    "    left = (img_width - crop_width) // 2\n",
    "    top = (img_height - crop_height) // 2\n",
    "    right = (img_width + crop_width) // 2\n",
    "    bottom = (img_height + crop_height) // 2\n",
    "    return cv2_img[top:bottom, left:right]"
   ]
  },
  {
   "cell_type": "code",
   "execution_count": 11,
   "id": "7438d95c",
   "metadata": {
    "execution": {
     "iopub.execute_input": "2023-11-02T15:00:26.431106Z",
     "iopub.status.busy": "2023-11-02T15:00:26.430741Z",
     "iopub.status.idle": "2023-11-02T15:00:26.441690Z",
     "shell.execute_reply": "2023-11-02T15:00:26.440895Z"
    },
    "papermill": {
     "duration": 0.103573,
     "end_time": "2023-11-02T15:00:26.443582",
     "exception": false,
     "start_time": "2023-11-02T15:00:26.340009",
     "status": "completed"
    },
    "tags": []
   },
   "outputs": [],
   "source": [
    "class EyeDataset(Dataset):\n",
    "    def __init__(self, df, data_transform = None):\n",
    "        self.df = df\n",
    "        self.data_transform = data_transform\n",
    "        self.transform = T.Compose([\n",
    "            T.Resize([224, 224]),\n",
    "#             T.Resize([299, 299]),\n",
    "            T.ToTensor(),\n",
    "            T.Normalize(mean=(0.485, 0.456, 0.406),\n",
    "                       std=(0.229, 0.224, 0.225))\n",
    "        ])\n",
    "    \n",
    "    def __len__(self):\n",
    "        return len(self.df)\n",
    "    \n",
    "    def __getitem__(self, idx):\n",
    "        image = self.df.iloc[idx]['imagefile']\n",
    "        crop_size = min(image.shape[:2])\n",
    "        cropped_image = cv.cvtColor(crop_center(image, crop_size, crop_size), cv.COLOR_GRAY2RGB)\n",
    "#         _, thresholded = cv.threshold(image, 0, 255, cv.THRESH_OTSU)\n",
    "#         x, y, w, h = cv.boundingRect(thresholded)\n",
    "#         cropped_image = cv.cvtColor(image[y:y+h, x:x+w], cv.COLOR_GRAY2RGB)\n",
    "        cropped_image = Image.fromarray(cropped_image)\n",
    "        \n",
    "        target = self.df.iloc[idx]['level']\n",
    "        \n",
    "        if self.data_transform is not None:\n",
    "            cropped_image = self.data_transform(cropped_image)\n",
    "        \n",
    "        return cropped_image, target\n",
    "    \n",
    "    def transform_img(self, img):\n",
    "        return self.transform(img)\n",
    "    \n",
    "    def collate_fn(self, data):\n",
    "        imgs, targets = zip(*data)\n",
    "        targets = torch.tensor(targets)\n",
    "        targets = targets.view(-1, 1).float()\n",
    "#         targets = targets.squeeze().long()\n",
    "        targets = targets.to(device)\n",
    "        imgs = torch.stack(\n",
    "            [self.transform_img(img) for img in imgs], 0\n",
    "        ).to(device)\n",
    "        return imgs, targets"
   ]
  },
  {
   "cell_type": "code",
   "execution_count": 12,
   "id": "aa80e2a8",
   "metadata": {
    "execution": {
     "iopub.execute_input": "2023-11-02T15:00:26.625196Z",
     "iopub.status.busy": "2023-11-02T15:00:26.624456Z",
     "iopub.status.idle": "2023-11-02T15:00:26.630292Z",
     "shell.execute_reply": "2023-11-02T15:00:26.629421Z"
    },
    "papermill": {
     "duration": 0.098931,
     "end_time": "2023-11-02T15:00:26.632281",
     "exception": false,
     "start_time": "2023-11-02T15:00:26.533350",
     "status": "completed"
    },
    "tags": []
   },
   "outputs": [],
   "source": [
    "data_transforms = T.Compose([\n",
    "    T.RandomHorizontalFlip(),\n",
    "    T.RandomRotation(15),\n",
    "    T.ColorJitter(brightness=0.2, contrast=0.2, saturation=0.2, hue=0.1),\n",
    "    T.RandomResizedCrop(224, scale=(0.8, 1.0))\n",
    "])"
   ]
  },
  {
   "cell_type": "code",
   "execution_count": 13,
   "id": "61bbbf44",
   "metadata": {
    "execution": {
     "iopub.execute_input": "2023-11-02T15:00:26.818987Z",
     "iopub.status.busy": "2023-11-02T15:00:26.818609Z",
     "iopub.status.idle": "2023-11-02T15:00:26.824427Z",
     "shell.execute_reply": "2023-11-02T15:00:26.823534Z"
    },
    "papermill": {
     "duration": 0.102092,
     "end_time": "2023-11-02T15:00:26.826293",
     "exception": false,
     "start_time": "2023-11-02T15:00:26.724201",
     "status": "completed"
    },
    "tags": []
   },
   "outputs": [],
   "source": [
    "train_ds = EyeDataset(train_df, data_transform=data_transforms)\n",
    "train_dl = DataLoader(train_ds, batch_size=64, shuffle=True,\n",
    "                      collate_fn=train_ds.collate_fn)\n",
    "\n",
    "valid_ds = EyeDataset(valid_df)\n",
    "valid_dl = DataLoader(valid_ds, batch_size=64,\n",
    "                      collate_fn=valid_ds.collate_fn)"
   ]
  },
  {
   "cell_type": "code",
   "execution_count": 14,
   "id": "eae696f6",
   "metadata": {
    "execution": {
     "iopub.execute_input": "2023-11-02T15:00:27.007432Z",
     "iopub.status.busy": "2023-11-02T15:00:27.007047Z",
     "iopub.status.idle": "2023-11-02T15:00:27.012984Z",
     "shell.execute_reply": "2023-11-02T15:00:27.012124Z"
    },
    "papermill": {
     "duration": 0.099296,
     "end_time": "2023-11-02T15:00:27.014805",
     "exception": false,
     "start_time": "2023-11-02T15:00:26.915509",
     "status": "completed"
    },
    "tags": []
   },
   "outputs": [],
   "source": [
    "# class EyeClassifier(nn.Module):\n",
    "#     def __init__(self, pretrained=True):\n",
    "#         super().__init__()\n",
    "        \n",
    "# #         self.model = models.resnet50(pretrained=pretrained, progress=pretrained)\n",
    "#         self.model = models.vgg19(pretrained=pretrained, progress=pretrained)\n",
    "# #         self.model = models.inception_v3(pretrained=pretrained, progress=pretrained)\n",
    "    \n",
    "#         for param in self.model.parameters():\n",
    "#             param.requires_grad = True\n",
    "        \n",
    "# #         num_features = self.model.fc.in_features\n",
    "#         num_features = self.model.classifier[0].in_features\n",
    "# #         num_features = self.model.fc.in_features\n",
    "\n",
    "#         self.model.fc = nn.Sequential()\n",
    "    \n",
    "# #         self.model.fc = nn.Sequential(\n",
    "# #             nn.Flatten(),\n",
    "# #             nn.BatchNorm1d(num_features),\n",
    "# #             nn.Dropout(0.5),\n",
    "# #             nn.Linear(num_features, 64),\n",
    "# #             nn.BatchNorm1d(64),\n",
    "# #             nn.ReLU(),\n",
    "# #             nn.Dropout(0.5),\n",
    "# #             nn.Linear(64, 128),\n",
    "# #             nn.BatchNorm1d(128),\n",
    "# #             nn.ReLU(),\n",
    "# #             nn.Dropout(0.5),\n",
    "# #             nn.Linear(128, 256),\n",
    "# #             nn.BatchNorm1d(256),\n",
    "# #             nn.ReLU(),\n",
    "# #             nn.Dropout(0.5),\n",
    "# #             nn.Linear(256, 64),\n",
    "# #             nn.BatchNorm1d(64),\n",
    "# #             nn.ReLU(),\n",
    "# #             nn.Dropout(0.5),\n",
    "# #             nn.Linear(64, 32),\n",
    "# #             nn.BatchNorm1d(32),\n",
    "# #             nn.ReLU(),\n",
    "# #             nn.Dropout(0.5),\n",
    "# #             nn.Linear(32, 5),\n",
    "# #             nn.LogSoftmax(dim=1)\n",
    "# #         )\n",
    "\n",
    "# #         self.model.fc = nn.Sequential(\n",
    "# #             nn.Flatten(),\n",
    "# #             nn.BatchNorm1d(num_features),\n",
    "# #             nn.Dropout(0.5),\n",
    "# #             nn.Linear(num_features, 1),\n",
    "# #             nn.Sigmoid()\n",
    "# #         )\n",
    "\n",
    "# #         self.model.fc = nn.Sequential(\n",
    "# #             nn.Linear(num_features, 256),\n",
    "# #             nn.ReLU(),\n",
    "# #             nn.Dropout(0.5), \n",
    "# #             nn.Linear(256, 1),\n",
    "# #             nn.Sigmoid()\n",
    "# #         )\n",
    "        \n",
    "\n",
    "#     def forward(self, x):\n",
    "#         x = self.model(x)\n",
    "#         return x"
   ]
  },
  {
   "cell_type": "code",
   "execution_count": 15,
   "id": "8e14db0c",
   "metadata": {
    "execution": {
     "iopub.execute_input": "2023-11-02T15:00:27.194862Z",
     "iopub.status.busy": "2023-11-02T15:00:27.194494Z",
     "iopub.status.idle": "2023-11-02T15:00:27.205449Z",
     "shell.execute_reply": "2023-11-02T15:00:27.204434Z"
    },
    "papermill": {
     "duration": 0.104138,
     "end_time": "2023-11-02T15:00:27.207737",
     "exception": false,
     "start_time": "2023-11-02T15:00:27.103599",
     "status": "completed"
    },
    "tags": []
   },
   "outputs": [],
   "source": [
    "class EyeClassifier(nn.Module):\n",
    "    def __init__(self, pretrained=True):\n",
    "        super().__init__()\n",
    "        \n",
    "        self.model = models.vgg19(pretrained=pretrained, progress=pretrained)\n",
    "    \n",
    "        for param in self.model.parameters():\n",
    "            param.requires_grad = True\n",
    "        \n",
    "        num_features = self.model.classifier[0].in_features\n",
    "    \n",
    "        self.model.classifier = nn.Sequential(\n",
    "            nn.Flatten(),\n",
    "            nn.BatchNorm1d(num_features),\n",
    "            nn.ReLU(),\n",
    "            nn.Dropout(0.5),\n",
    "            \n",
    "#             nn.Linear(num_features, 32),\n",
    "#             nn.BatchNorm1d(32),\n",
    "#             nn.ReLU(),\n",
    "#             nn.Dropout(0.2),\n",
    "            \n",
    "            nn.Linear(num_features, 64),\n",
    "            nn.BatchNorm1d(64),\n",
    "            nn.ReLU(),\n",
    "            nn.Dropout(0.5),\n",
    "            nn.Linear(64, 128),\n",
    "            nn.BatchNorm1d(128),\n",
    "            nn.ReLU(),\n",
    "            nn.Dropout(0.5),\n",
    "            nn.Linear(128, 256),\n",
    "            nn.BatchNorm1d(256),\n",
    "            nn.ReLU(),\n",
    "            nn.Dropout(0.5),\n",
    "            nn.Linear(256, 64),\n",
    "            nn.BatchNorm1d(64),\n",
    "            nn.ReLU(),\n",
    "            nn.Dropout(0.5),\n",
    "            nn.Linear(64, 32),\n",
    "            nn.BatchNorm1d(32),\n",
    "            nn.ReLU(),\n",
    "            nn.Dropout(0.5),\n",
    "            \n",
    "#             nn.Linear(32, 5),\n",
    "#             nn.LogSoftmax(dim=1)\n",
    "            \n",
    "            nn.Linear(32, 1),\n",
    "            nn.Sigmoid()\n",
    "        )\n",
    "        \n",
    "\n",
    "    def forward(self, x):\n",
    "        x = self.model(x)\n",
    "        return x"
   ]
  },
  {
   "cell_type": "code",
   "execution_count": 16,
   "id": "345fac0d",
   "metadata": {
    "execution": {
     "iopub.execute_input": "2023-11-02T15:00:27.390657Z",
     "iopub.status.busy": "2023-11-02T15:00:27.389983Z",
     "iopub.status.idle": "2023-11-02T15:00:38.774819Z",
     "shell.execute_reply": "2023-11-02T15:00:38.773927Z"
    },
    "papermill": {
     "duration": 11.477338,
     "end_time": "2023-11-02T15:00:38.776971",
     "exception": false,
     "start_time": "2023-11-02T15:00:27.299633",
     "status": "completed"
    },
    "tags": []
   },
   "outputs": [
    {
     "name": "stderr",
     "output_type": "stream",
     "text": [
      "/opt/conda/lib/python3.10/site-packages/torchvision/models/_utils.py:208: UserWarning: The parameter 'pretrained' is deprecated since 0.13 and may be removed in the future, please use 'weights' instead.\n",
      "  warnings.warn(\n",
      "/opt/conda/lib/python3.10/site-packages/torchvision/models/_utils.py:223: UserWarning: Arguments other than a weight enum or `None` for 'weights' are deprecated since 0.13 and may be removed in the future. The current behavior is equivalent to passing `weights=VGG19_Weights.IMAGENET1K_V1`. You can also use `weights=VGG19_Weights.DEFAULT` to get the most up-to-date weights.\n",
      "  warnings.warn(msg)\n",
      "Downloading: \"https://download.pytorch.org/models/vgg19-dcbb9e9d.pth\" to /root/.cache/torch/hub/checkpoints/vgg19-dcbb9e9d.pth\n",
      "100%|██████████| 548M/548M [00:02<00:00, 268MB/s]\n"
     ]
    },
    {
     "name": "stdout",
     "output_type": "stream",
     "text": [
      "==========================================================================================\n",
      "Layer (type:depth-idx)                   Output Shape              Param #\n",
      "==========================================================================================\n",
      "├─VGG: 1-1                               [-1, 1]                   --\n",
      "|    └─Sequential: 2-1                   [-1, 512, 7, 7]           --\n",
      "|    |    └─Conv2d: 3-1                  [-1, 64, 224, 224]        1,792\n",
      "|    |    └─ReLU: 3-2                    [-1, 64, 224, 224]        --\n",
      "|    |    └─Conv2d: 3-3                  [-1, 64, 224, 224]        36,928\n",
      "|    |    └─ReLU: 3-4                    [-1, 64, 224, 224]        --\n",
      "|    |    └─MaxPool2d: 3-5               [-1, 64, 112, 112]        --\n",
      "|    |    └─Conv2d: 3-6                  [-1, 128, 112, 112]       73,856\n",
      "|    |    └─ReLU: 3-7                    [-1, 128, 112, 112]       --\n",
      "|    |    └─Conv2d: 3-8                  [-1, 128, 112, 112]       147,584\n",
      "|    |    └─ReLU: 3-9                    [-1, 128, 112, 112]       --\n",
      "|    |    └─MaxPool2d: 3-10              [-1, 128, 56, 56]         --\n",
      "|    |    └─Conv2d: 3-11                 [-1, 256, 56, 56]         295,168\n",
      "|    |    └─ReLU: 3-12                   [-1, 256, 56, 56]         --\n",
      "|    |    └─Conv2d: 3-13                 [-1, 256, 56, 56]         590,080\n",
      "|    |    └─ReLU: 3-14                   [-1, 256, 56, 56]         --\n",
      "|    |    └─Conv2d: 3-15                 [-1, 256, 56, 56]         590,080\n",
      "|    |    └─ReLU: 3-16                   [-1, 256, 56, 56]         --\n",
      "|    |    └─Conv2d: 3-17                 [-1, 256, 56, 56]         590,080\n",
      "|    |    └─ReLU: 3-18                   [-1, 256, 56, 56]         --\n",
      "|    |    └─MaxPool2d: 3-19              [-1, 256, 28, 28]         --\n",
      "|    |    └─Conv2d: 3-20                 [-1, 512, 28, 28]         1,180,160\n",
      "|    |    └─ReLU: 3-21                   [-1, 512, 28, 28]         --\n",
      "|    |    └─Conv2d: 3-22                 [-1, 512, 28, 28]         2,359,808\n",
      "|    |    └─ReLU: 3-23                   [-1, 512, 28, 28]         --\n",
      "|    |    └─Conv2d: 3-24                 [-1, 512, 28, 28]         2,359,808\n",
      "|    |    └─ReLU: 3-25                   [-1, 512, 28, 28]         --\n",
      "|    |    └─Conv2d: 3-26                 [-1, 512, 28, 28]         2,359,808\n",
      "|    |    └─ReLU: 3-27                   [-1, 512, 28, 28]         --\n",
      "|    |    └─MaxPool2d: 3-28              [-1, 512, 14, 14]         --\n",
      "|    |    └─Conv2d: 3-29                 [-1, 512, 14, 14]         2,359,808\n",
      "|    |    └─ReLU: 3-30                   [-1, 512, 14, 14]         --\n",
      "|    |    └─Conv2d: 3-31                 [-1, 512, 14, 14]         2,359,808\n",
      "|    |    └─ReLU: 3-32                   [-1, 512, 14, 14]         --\n",
      "|    |    └─Conv2d: 3-33                 [-1, 512, 14, 14]         2,359,808\n",
      "|    |    └─ReLU: 3-34                   [-1, 512, 14, 14]         --\n",
      "|    |    └─Conv2d: 3-35                 [-1, 512, 14, 14]         2,359,808\n",
      "|    |    └─ReLU: 3-36                   [-1, 512, 14, 14]         --\n",
      "|    |    └─MaxPool2d: 3-37              [-1, 512, 7, 7]           --\n",
      "|    └─AdaptiveAvgPool2d: 2-2            [-1, 512, 7, 7]           --\n",
      "|    └─Sequential: 2-3                   [-1, 1]                   --\n",
      "|    |    └─Flatten: 3-38                [-1, 25088]               --\n",
      "|    |    └─BatchNorm1d: 3-39            [-1, 25088]               50,176\n",
      "|    |    └─ReLU: 3-40                   [-1, 25088]               --\n",
      "|    |    └─Dropout: 3-41                [-1, 25088]               --\n",
      "|    |    └─Linear: 3-42                 [-1, 64]                  1,605,696\n",
      "|    |    └─BatchNorm1d: 3-43            [-1, 64]                  128\n",
      "|    |    └─ReLU: 3-44                   [-1, 64]                  --\n",
      "|    |    └─Dropout: 3-45                [-1, 64]                  --\n",
      "|    |    └─Linear: 3-46                 [-1, 128]                 8,320\n",
      "|    |    └─BatchNorm1d: 3-47            [-1, 128]                 256\n",
      "|    |    └─ReLU: 3-48                   [-1, 128]                 --\n",
      "|    |    └─Dropout: 3-49                [-1, 128]                 --\n",
      "|    |    └─Linear: 3-50                 [-1, 256]                 33,024\n",
      "|    |    └─BatchNorm1d: 3-51            [-1, 256]                 512\n",
      "|    |    └─ReLU: 3-52                   [-1, 256]                 --\n",
      "|    |    └─Dropout: 3-53                [-1, 256]                 --\n",
      "|    |    └─Linear: 3-54                 [-1, 64]                  16,448\n",
      "|    |    └─BatchNorm1d: 3-55            [-1, 64]                  128\n",
      "|    |    └─ReLU: 3-56                   [-1, 64]                  --\n",
      "|    |    └─Dropout: 3-57                [-1, 64]                  --\n",
      "|    |    └─Linear: 3-58                 [-1, 32]                  2,080\n",
      "|    |    └─BatchNorm1d: 3-59            [-1, 32]                  64\n",
      "|    |    └─ReLU: 3-60                   [-1, 32]                  --\n",
      "|    |    └─Dropout: 3-61                [-1, 32]                  --\n",
      "|    |    └─Linear: 3-62                 [-1, 1]                   33\n",
      "|    |    └─Sigmoid: 3-63                [-1, 1]                   --\n",
      "==========================================================================================\n",
      "Total params: 21,741,249\n",
      "Trainable params: 21,741,249\n",
      "Non-trainable params: 0\n",
      "Total mult-adds (G): 19.55\n",
      "==========================================================================================\n",
      "Input size (MB): 0.57\n",
      "Forward/backward pass size (MB): 113.51\n",
      "Params size (MB): 82.94\n",
      "Estimated Total Size (MB): 197.02\n",
      "==========================================================================================\n"
     ]
    }
   ],
   "source": [
    "classifier = EyeClassifier(pretrained=True)\n",
    "_ = summary(classifier, torch.ones(1,3,224,224))"
   ]
  },
  {
   "cell_type": "code",
   "execution_count": 17,
   "id": "5d1af6c9",
   "metadata": {
    "execution": {
     "iopub.execute_input": "2023-11-02T15:00:38.965150Z",
     "iopub.status.busy": "2023-11-02T15:00:38.964776Z",
     "iopub.status.idle": "2023-11-02T15:00:38.973176Z",
     "shell.execute_reply": "2023-11-02T15:00:38.972339Z"
    },
    "papermill": {
     "duration": 0.104327,
     "end_time": "2023-11-02T15:00:38.975072",
     "exception": false,
     "start_time": "2023-11-02T15:00:38.870745",
     "status": "completed"
    },
    "tags": []
   },
   "outputs": [],
   "source": [
    "# def train(data, classifier, optimizer, loss_fn):\n",
    "#     classifier.train()\n",
    "#     imgs, targets = data\n",
    "#     outputs = classifier(imgs.to(device))\n",
    "#     loss = loss_fn(outputs.to(device), targets.to(device))\n",
    "#     optimizer.zero_grad()\n",
    "#     loss.backward()\n",
    "#     optimizer.step()\n",
    "    \n",
    "#     outputs = torch.tensor(outputs.cpu().detach().tolist())\n",
    "#     targets = targets.cpu().detach().tolist()\n",
    "#     probs = torch.softmax(outputs, dim=1)\n",
    "#     preds = torch.argmax(probs, dim=1).cpu().detach().tolist()\n",
    "#     fake_recall_score = recall_score(targets, preds,\n",
    "#                                zero_division=0,\n",
    "#                                average='macro')\n",
    "    \n",
    "#     return loss.cpu().detach().item(), fake_recall_score\n",
    "\n",
    "def train(data, classifier, optimizer, loss_fn):\n",
    "    classifier.train()\n",
    "    imgs, targets = data\n",
    "    outputs = classifier(imgs.to(device))\n",
    "    loss = loss_fn(outputs.to(device), targets.to(device))\n",
    "    optimizer.zero_grad()\n",
    "    loss.backward()\n",
    "    optimizer.step()\n",
    "    \n",
    "    outputs = outputs.cpu().detach().tolist()\n",
    "    targets = targets.cpu().detach().tolist()\n",
    "    preds = list(map(lambda x: int(x[0] > 0.5), outputs))\n",
    "    fake_recall_score = recall_score(targets, preds, \n",
    "                               pos_label=0,\n",
    "                               zero_division=0)\n",
    "    \n",
    "    return loss.cpu().detach().item(), fake_recall_score"
   ]
  },
  {
   "cell_type": "code",
   "execution_count": 18,
   "id": "482729b2",
   "metadata": {
    "execution": {
     "iopub.execute_input": "2023-11-02T15:00:39.175733Z",
     "iopub.status.busy": "2023-11-02T15:00:39.175372Z",
     "iopub.status.idle": "2023-11-02T15:00:39.183270Z",
     "shell.execute_reply": "2023-11-02T15:00:39.182229Z"
    },
    "papermill": {
     "duration": 0.108649,
     "end_time": "2023-11-02T15:00:39.185265",
     "exception": false,
     "start_time": "2023-11-02T15:00:39.076616",
     "status": "completed"
    },
    "tags": []
   },
   "outputs": [],
   "source": [
    "# @torch.no_grad()\n",
    "# def validate(data, classifier, loss_fn):\n",
    "#     classifier.eval()\n",
    "#     imgs, targets = data\n",
    "#     outputs = classifier(imgs.to(device))\n",
    "#     loss = loss_fn(outputs.to(device), targets.to(device))\n",
    "    \n",
    "#     outputs = torch.tensor(outputs.cpu().detach().tolist())\n",
    "#     targets = targets.cpu().detach().tolist()\n",
    "#     probs = torch.softmax(outputs, dim=1)\n",
    "#     preds = torch.argmax(probs, dim=1).cpu().detach().tolist()\n",
    "#     fake_recall_score = recall_score(targets, preds,\n",
    "#                                zero_division=0,\n",
    "#                                average='macro')\n",
    "    \n",
    "#     return loss.cpu().detach().item(), fake_recall_score\n",
    "\n",
    "@torch.no_grad()\n",
    "def validate(data, classifier, loss_fn):\n",
    "    classifier.eval()\n",
    "    imgs, targets = data\n",
    "    outputs = classifier(imgs.to(device))\n",
    "    loss = loss_fn(outputs.to(device), targets.to(device))\n",
    "    \n",
    "    outputs = outputs.cpu().detach().tolist()\n",
    "    targets = targets.cpu().detach().tolist()\n",
    "    preds = list(map(lambda x: int(x[0] > 0.5), outputs))\n",
    "#     preds = [1, 0, 1, 1, 0, 0, 1, 0, 1, 1, 0, 0, 0, 1, 1, 0, 0, 0, 0, 1, 1, 1, 1, 1, 1, 0, 1, 0, 0, 0, 1, 0, 0, 0, 1, 1, 1, 1, 1, 0, 0, 0, 1, 1, 1, 1, 0, 0, 1, 1, 1, 0, 0, 1, 1, 0, 1, 1, 0, 1, 1, 0, 0, 1]\n",
    "#     print(outputs)\n",
    "#     print(targets)\n",
    "#     print(preds)\n",
    "    fake_recall_score = recall_score(targets, preds, \n",
    "                               pos_label=0,\n",
    "                               zero_division=0)\n",
    "    \n",
    "    return loss.cpu().detach().item(), fake_recall_score"
   ]
  },
  {
   "cell_type": "code",
   "execution_count": 19,
   "id": "52f25da9",
   "metadata": {
    "execution": {
     "iopub.execute_input": "2023-11-02T15:00:39.376404Z",
     "iopub.status.busy": "2023-11-02T15:00:39.375607Z",
     "iopub.status.idle": "2023-11-02T15:00:41.133590Z",
     "shell.execute_reply": "2023-11-02T15:00:41.132499Z"
    },
    "papermill": {
     "duration": 1.854766,
     "end_time": "2023-11-02T15:00:41.135885",
     "exception": false,
     "start_time": "2023-11-02T15:00:39.281119",
     "status": "completed"
    },
    "tags": []
   },
   "outputs": [],
   "source": [
    "classifier = EyeClassifier(pretrained=True).to(device)\n",
    "# loss_fn = nn.CrossEntropyLoss().to(device)\n",
    "loss_fn = nn.BCELoss().to(device)\n",
    "optimizer = optim.Adam(classifier.parameters(), lr=1e-3, weight_decay=1e-3)\n",
    "scheduler = optim.lr_scheduler.StepLR(optimizer, step_size=5,\n",
    "                                      gamma=0.25)\n",
    "best_recall_score = 0\n",
    "n_epochs = 15\n",
    "xticks = list(i+1 for i in range(n_epochs))"
   ]
  },
  {
   "cell_type": "code",
   "execution_count": 20,
   "id": "7ef24b39",
   "metadata": {
    "execution": {
     "iopub.execute_input": "2023-11-02T15:00:41.332593Z",
     "iopub.status.busy": "2023-11-02T15:00:41.332244Z",
     "iopub.status.idle": "2023-11-02T17:19:17.402508Z",
     "shell.execute_reply": "2023-11-02T17:19:17.401450Z"
    },
    "papermill": {
     "duration": 8316.173004,
     "end_time": "2023-11-02T17:19:17.404775",
     "exception": false,
     "start_time": "2023-11-02T15:00:41.231771",
     "status": "completed"
    },
    "tags": []
   },
   "outputs": [
    {
     "data": {
      "application/vnd.jupyter.widget-view+json": {
       "model_id": "d6dbeb5007564de4a23c0d4471161bf7",
       "version_major": 2,
       "version_minor": 0
      },
      "text/plain": [
       "Training:   0%|          | 0/15 [00:00<?, ?it/s]"
      ]
     },
     "metadata": {},
     "output_type": "display_data"
    },
    {
     "name": "stdout",
     "output_type": "stream",
     "text": [
      "epoch: 1 \ttrain loss: 0.721 \ttrain recall score: 0.429 \tvalid loss: 50.000 \tvalid recall score: 0.000\n",
      "epoch: 2 \ttrain loss: 0.712 \ttrain recall score: 0.479 \tvalid loss: 44.570 \tvalid recall score: 0.742\n",
      "epoch: 3 \ttrain loss: 0.704 \ttrain recall score: 0.530 \tvalid loss: 50.000 \tvalid recall score: 0.000\n",
      "epoch: 4 \ttrain loss: 0.709 \ttrain recall score: 0.534 \tvalid loss: 0.694 \tvalid recall score: 0.942\n",
      "epoch: 5 \ttrain loss: 0.702 \ttrain recall score: 0.557 \tvalid loss: 1.797 \tvalid recall score: 0.977\n",
      "epoch: 6 \ttrain loss: 0.705 \ttrain recall score: 0.520 \tvalid loss: 0.692 \tvalid recall score: 0.905\n",
      "epoch: 7 \ttrain loss: 0.699 \ttrain recall score: 0.561 \tvalid loss: 0.692 \tvalid recall score: 0.965\n",
      "epoch: 8 \ttrain loss: 0.705 \ttrain recall score: 0.546 \tvalid loss: 0.692 \tvalid recall score: 0.949\n",
      "epoch: 9 \ttrain loss: 0.700 \ttrain recall score: 0.580 \tvalid loss: 0.691 \tvalid recall score: 0.955\n",
      "epoch: 10 \ttrain loss: 0.702 \ttrain recall score: 0.563 \tvalid loss: 50.000 \tvalid recall score: 0.000\n",
      "epoch: 11 \ttrain loss: 0.703 \ttrain recall score: 0.536 \tvalid loss: 50.000 \tvalid recall score: 0.000\n",
      "epoch: 12 \ttrain loss: 0.705 \ttrain recall score: 0.547 \tvalid loss: 0.691 \tvalid recall score: 0.888\n",
      "epoch: 13 \ttrain loss: 0.700 \ttrain recall score: 0.531 \tvalid loss: 0.692 \tvalid recall score: 0.866\n",
      "epoch: 14 \ttrain loss: 0.696 \ttrain recall score: 0.571 \tvalid loss: 0.691 \tvalid recall score: 0.883\n",
      "epoch: 15 \ttrain loss: 0.697 \ttrain recall score: 0.568 \tvalid loss: 0.691 \tvalid recall score: 0.869\n"
     ]
    }
   ],
   "source": [
    "mem = {\n",
    "    'train_loss': [],\n",
    "    'train_recall_score': [],\n",
    "    'valid_loss': [],\n",
    "    'valid_recall_score': []\n",
    "}\n",
    "\n",
    "for epoch in tqdm(range(n_epochs), desc='Training'):\n",
    "    n_batch = len(train_dl)\n",
    "    train_losses, train_recall_scores = [], []\n",
    "    for i, data in enumerate(train_dl):\n",
    "        train_loss, train_recall_score = train(data, classifier,\n",
    "                                         optimizer, loss_fn)\n",
    "        train_losses.append(train_loss)\n",
    "        train_recall_scores.append(train_recall_score)\n",
    "        pos = epoch + ((i+1)/n_batch)\n",
    "        print(\n",
    "            'epoch:', \"%.3f\" % pos,\n",
    "            '\\ttrain loss:', \"%.3f\" % train_loss,\n",
    "            '\\ttrain recall score:', \"%.3f\" % train_recall_score, \n",
    "            end='\\r'\n",
    "        )\n",
    "        \n",
    "    mem['train_loss'].append(np.mean(train_losses))\n",
    "    mem['train_recall_score'].append(np.mean(train_recall_scores))\n",
    "    \n",
    "    n_batch = len(valid_dl)\n",
    "    valid_losses, valid_recall_scores = [], []\n",
    "    for i, data in enumerate(valid_dl):\n",
    "        valid_loss, valid_recall_score = validate(data, classifier, loss_fn)\n",
    "        valid_losses.append(valid_loss)\n",
    "        valid_recall_scores.append(valid_recall_score)\n",
    "        pos = epoch + ((i+1)/n_batch)\n",
    "        print(\n",
    "            'epoch:', \"%.3f\" % pos,\n",
    "            '\\tvalid loss:', \"%.3f\" % valid_loss,\n",
    "            '\\tvalid recall score:', \"%.3f\" % valid_recall_score, \n",
    "            end='\\r'\n",
    "        )\n",
    "    \n",
    "    cur_recall_score = np.mean(valid_recall_scores)\n",
    "    mem['valid_loss'].append(np.mean(valid_losses))\n",
    "    mem['valid_recall_score'].append(cur_recall_score)\n",
    "    \n",
    "    print(\n",
    "        'epoch:', epoch+1,\n",
    "        '\\ttrain loss:', \"%.3f\" % mem['train_loss'][-1],\n",
    "        '\\ttrain recall score:', \"%.3f\" % mem['train_recall_score'][-1],\n",
    "        '\\tvalid loss:', \"%.3f\" % mem['valid_loss'][-1],\n",
    "        '\\tvalid recall score:', \"%.3f\" % mem['valid_recall_score'][-1],\n",
    "    )\n",
    "    \n",
    "    if best_recall_score < cur_recall_score:\n",
    "        best_recall_score = cur_recall_score\n",
    "        torch.save(classifier.state_dict(), './saved_model/diabetic_state_dict.pth')\n",
    "        torch.save(classifier, './saved_model/diabetic_model.pth')\n",
    "        \n",
    "    scheduler.step()"
   ]
  },
  {
   "cell_type": "code",
   "execution_count": 21,
   "id": "d5049f2d",
   "metadata": {
    "execution": {
     "iopub.execute_input": "2023-11-02T17:19:17.671050Z",
     "iopub.status.busy": "2023-11-02T17:19:17.670681Z",
     "iopub.status.idle": "2023-11-02T17:19:18.076304Z",
     "shell.execute_reply": "2023-11-02T17:19:18.073398Z"
    },
    "papermill": {
     "duration": 0.538934,
     "end_time": "2023-11-02T17:19:18.078321",
     "exception": false,
     "start_time": "2023-11-02T17:19:17.539387",
     "status": "completed"
    },
    "tags": []
   },
   "outputs": [
    {
     "data": {
      "image/png": "[encoded data removed]",
      "text/plain": [
       "<Figure size 640x480 with 1 Axes>"
      ]
     },
     "metadata": {},
     "output_type": "display_data"
    }
   ],
   "source": [
    "plt.plot(xticks, mem['train_loss'])\n",
    "plt.plot(xticks, mem['valid_loss'])\n",
    "plt.legend(['train', 'valid'])\n",
    "plt.xlabel('epoch')\n",
    "plt.title('loss')\n",
    "plt.show()"
   ]
  },
  {
   "cell_type": "code",
   "execution_count": 22,
   "id": "e1c3a3ae",
   "metadata": {
    "execution": {
     "iopub.execute_input": "2023-11-02T17:19:18.342726Z",
     "iopub.status.busy": "2023-11-02T17:19:18.341787Z",
     "iopub.status.idle": "2023-11-02T17:19:18.723143Z",
     "shell.execute_reply": "2023-11-02T17:19:18.722188Z"
    },
    "papermill": {
     "duration": 0.517244,
     "end_time": "2023-11-02T17:19:18.725454",
     "exception": false,
     "start_time": "2023-11-02T17:19:18.208210",
     "status": "completed"
    },
    "tags": []
   },
   "outputs": [
    {
     "data": {
      "image/png": "[encoded data removed]",
      "text/plain": [
       "<Figure size 640x480 with 1 Axes>"
      ]
     },
     "metadata": {},
     "output_type": "display_data"
    }
   ],
   "source": [
    "plt.plot(xticks, mem['train_recall_score'])\n",
    "plt.plot(xticks, mem['valid_recall_score'])\n",
    "plt.legend(['train', 'valid'])\n",
    "plt.xlabel('epoch')\n",
    "plt.title('recall score')\n",
    "plt.show()"
   ]
  },
  {
   "cell_type": "code",
   "execution_count": null,
   "id": "bb04679c",
   "metadata": {
    "papermill": {
     "duration": 0.130479,
     "end_time": "2023-11-02T17:19:18.985555",
     "exception": false,
     "start_time": "2023-11-02T17:19:18.855076",
     "status": "completed"
    },
    "tags": []
   },
   "outputs": [],
   "source": []
  }
 ],
 "metadata": {
  "kernelspec": {
   "display_name": "Python 3",
   "language": "python",
   "name": "python3"
  },
  "language_info": {
   "codemirror_mode": {
    "name": "ipython",
    "version": 3
   },
   "file_extension": ".py",
   "mimetype": "text/x-python",
   "name": "python",
   "nbconvert_exporter": "python",
   "pygments_lexer": "ipython3",
   "version": "3.10.12"
  },
  "papermill": {
   "default_parameters": {},
   "duration": 8849.976916,
   "end_time": "2023-11-02T17:19:22.272020",
   "environment_variables": {},
   "exception": null,
   "input_path": "__notebook__.ipynb",
   "output_path": "__notebook__.ipynb",
   "parameters": {},
   "start_time": "2023-11-02T14:51:52.295104",
   "version": "2.4.0"
  },
  "widgets": {
   "application/vnd.jupyter.widget-state+json": {
    "state": {
     "0aab7cdfd9534139a0d94cbef7b46c12": {
      "model_module": "@jupyter-widgets/controls",
      "model_module_version": "1.5.0",
      "model_name": "DescriptionStyleModel",
      "state": {
       "_model_module": "@jupyter-widgets/controls",
       "_model_module_version": "1.5.0",
       "_model_name": "DescriptionStyleModel",
       "_view_count": null,
       "_view_module": "@jupyter-widgets/base",
       "_view_module_version": "1.2.0",
       "_view_name": "StyleView",
       "description_width": ""
      }
     },
     "22034525aefd4d70a1e3588a395f9513": {
      "model_module": "@jupyter-widgets/controls",
      "model_module_version": "1.5.0",
      "model_name": "ProgressStyleModel",
      "state": {
       "_model_module": "@jupyter-widgets/controls",
       "_model_module_version": "1.5.0",
       "_model_name": "ProgressStyleModel",
       "_view_count": null,
       "_view_module": "@jupyter-widgets/base",
       "_view_module_version": "1.2.0",
       "_view_name": "StyleView",
       "bar_color": null,
       "description_width": ""
      }
     },
     "277bd5b02c6742ecb5042529d70c786b": {
      "model_module": "@jupyter-widgets/controls",
      "model_module_version": "1.5.0",
      "model_name": "FloatProgressModel",
      "state": {
       "_dom_classes": [],
       "_model_module": "@jupyter-widgets/controls",
       "_model_module_version": "1.5.0",
       "_model_name": "FloatProgressModel",
       "_view_count": null,
       "_view_module": "@jupyter-widgets/controls",
       "_view_module_version": "1.5.0",
       "_view_name": "ProgressView",
       "bar_style": "success",
       "description": "",
       "description_tooltip": null,
       "layout": "IPY_MODEL_3503d96cd61a42aeb2f054a7da26a5b0",
       "max": 15.0,
       "min": 0.0,
       "orientation": "horizontal",
       "style": "IPY_MODEL_22034525aefd4d70a1e3588a395f9513",
       "value": 15.0
      }
     },
     "3503d96cd61a42aeb2f054a7da26a5b0": {
      "model_module": "@jupyter-widgets/base",
      "model_module_version": "1.2.0",
      "model_name": "LayoutModel",
      "state": {
       "_model_module": "@jupyter-widgets/base",
       "_model_module_version": "1.2.0",
       "_model_name": "LayoutModel",
       "_view_count": null,
       "_view_module": "@jupyter-widgets/base",
       "_view_module_version": "1.2.0",
       "_view_name": "LayoutView",
       "align_content": null,
       "align_items": null,
       "align_self": null,
       "border": null,
       "bottom": null,
       "display": null,
       "flex": null,
       "flex_flow": null,
       "grid_area": null,
       "grid_auto_columns": null,
       "grid_auto_flow": null,
       "grid_auto_rows": null,
       "grid_column": null,
       "grid_gap": null,
       "grid_row": null,
       "grid_template_areas": null,
       "grid_template_columns": null,
       "grid_template_rows": null,
       "height": null,
       "justify_content": null,
       "justify_items": null,
       "left": null,
       "margin": null,
       "max_height": null,
       "max_width": null,
       "min_height": null,
       "min_width": null,
       "object_fit": null,
       "object_position": null,
       "order": null,
       "overflow": null,
       "overflow_x": null,
       "overflow_y": null,
       "padding": null,
       "right": null,
       "top": null,
       "visibility": null,
       "width": null
      }
     },
     "5d22149de67346c7ba8cf8e0daca5b08": {
      "model_module": "@jupyter-widgets/controls",
      "model_module_version": "1.5.0",
      "model_name": "HTMLModel",
      "state": {
       "_dom_classes": [],
       "_model_module": "@jupyter-widgets/controls",
       "_model_module_version": "1.5.0",
       "_model_name": "HTMLModel",
       "_view_count": null,
       "_view_module": "@jupyter-widgets/controls",
       "_view_module_version": "1.5.0",
       "_view_name": "HTMLView",
       "description": "",
       "description_tooltip": null,
       "layout": "IPY_MODEL_f1c327c3beb94eaf8c4f1251a7e4d5f3",
       "placeholder": "​",
       "style": "IPY_MODEL_0aab7cdfd9534139a0d94cbef7b46c12",
       "value": "Training: 100%"
      }
     },
     "9ba9e112ab9245e6b2d30671e1910467": {
      "model_module": "@jupyter-widgets/controls",
      "model_module_version": "1.5.0",
      "model_name": "DescriptionStyleModel",
      "state": {
       "_model_module": "@jupyter-widgets/controls",
       "_model_module_version": "1.5.0",
       "_model_name": "DescriptionStyleModel",
       "_view_count": null,
       "_view_module": "@jupyter-widgets/base",
       "_view_module_version": "1.2.0",
       "_view_name": "StyleView",
       "description_width": ""
      }
     },
     "d6dbeb5007564de4a23c0d4471161bf7": {
      "model_module": "@jupyter-widgets/controls",
      "model_module_version": "1.5.0",
      "model_name": "HBoxModel",
      "state": {
       "_dom_classes": [],
       "_model_module": "@jupyter-widgets/controls",
       "_model_module_version": "1.5.0",
       "_model_name": "HBoxModel",
       "_view_count": null,
       "_view_module": "@jupyter-widgets/controls",
       "_view_module_version": "1.5.0",
       "_view_name": "HBoxView",
       "box_style": "",
       "children": [
        "IPY_MODEL_5d22149de67346c7ba8cf8e0daca5b08",
        "IPY_MODEL_277bd5b02c6742ecb5042529d70c786b",
        "IPY_MODEL_ec8bb6805ad048eea7a56dfe720da365"
       ],
       "layout": "IPY_MODEL_db5648fd03d144498527dc6d46d90ec6"
      }
     },
     "db5648fd03d144498527dc6d46d90ec6": {
      "model_module": "@jupyter-widgets/base",
      "model_module_version": "1.2.0",
      "model_name": "LayoutModel",
      "state": {
       "_model_module": "@jupyter-widgets/base",
       "_model_module_version": "1.2.0",
       "_model_name": "LayoutModel",
       "_view_count": null,
       "_view_module": "@jupyter-widgets/base",
       "_view_module_version": "1.2.0",
       "_view_name": "LayoutView",
       "align_content": null,
       "align_items": null,
       "align_self": null,
       "border": null,
       "bottom": null,
       "display": null,
       "flex": null,
       "flex_flow": null,
       "grid_area": null,
       "grid_auto_columns": null,
       "grid_auto_flow": null,
       "grid_auto_rows": null,
       "grid_column": null,
       "grid_gap": null,
       "grid_row": null,
       "grid_template_areas": null,
       "grid_template_columns": null,
       "grid_template_rows": null,
       "height": null,
       "justify_content": null,
       "justify_items": null,
       "left": null,
       "margin": null,
       "max_height": null,
       "max_width": null,
       "min_height": null,
       "min_width": null,
       "object_fit": null,
       "object_position": null,
       "order": null,
       "overflow": null,
       "overflow_x": null,
       "overflow_y": null,
       "padding": null,
       "right": null,
       "top": null,
       "visibility": null,
       "width": null
      }
     },
     "ec8bb6805ad048eea7a56dfe720da365": {
      "model_module": "@jupyter-widgets/controls",
      "model_module_version": "1.5.0",
      "model_name": "HTMLModel",
      "state": {
       "_dom_classes": [],
       "_model_module": "@jupyter-widgets/controls",
       "_model_module_version": "1.5.0",
       "_model_name": "HTMLModel",
       "_view_count": null,
       "_view_module": "@jupyter-widgets/controls",
       "_view_module_version": "1.5.0",
       "_view_name": "HTMLView",
       "description": "",
       "description_tooltip": null,
       "layout": "IPY_MODEL_fb90d0eca6fe4da9bddbb123693d7515",
       "placeholder": "​",
       "style": "IPY_MODEL_9ba9e112ab9245e6b2d30671e1910467",
       "value": " 15/15 [2:18:36&lt;00:00, 549.61s/it]"
      }
     },
     "f1c327c3beb94eaf8c4f1251a7e4d5f3": {
      "model_module": "@jupyter-widgets/base",
      "model_module_version": "1.2.0",
      "model_name": "LayoutModel",
      "state": {
       "_model_module": "@jupyter-widgets/base",
       "_model_module_version": "1.2.0",
       "_model_name": "LayoutModel",
       "_view_count": null,
       "_view_module": "@jupyter-widgets/base",
       "_view_module_version": "1.2.0",
       "_view_name": "LayoutView",
       "align_content": null,
       "align_items": null,
       "align_self": null,
       "border": null,
       "bottom": null,
       "display": null,
       "flex": null,
       "flex_flow": null,
       "grid_area": null,
       "grid_auto_columns": null,
       "grid_auto_flow": null,
       "grid_auto_rows": null,
       "grid_column": null,
       "grid_gap": null,
       "grid_row": null,
       "grid_template_areas": null,
       "grid_template_columns": null,
       "grid_template_rows": null,
       "height": null,
       "justify_content": null,
       "justify_items": null,
       "left": null,
       "margin": null,
       "max_height": null,
       "max_width": null,
       "min_height": null,
       "min_width": null,
       "object_fit": null,
       "object_position": null,
       "order": null,
       "overflow": null,
       "overflow_x": null,
       "overflow_y": null,
       "padding": null,
       "right": null,
       "top": null,
       "visibility": null,
       "width": null
      }
     },
     "fb90d0eca6fe4da9bddbb123693d7515": {
      "model_module": "@jupyter-widgets/base",
      "model_module_version": "1.2.0",
      "model_name": "LayoutModel",
      "state": {
       "_model_module": "@jupyter-widgets/base",
       "_model_module_version": "1.2.0",
       "_model_name": "LayoutModel",
       "_view_count": null,
       "_view_module": "@jupyter-widgets/base",
       "_view_module_version": "1.2.0",
       "_view_name": "LayoutView",
       "align_content": null,
       "align_items": null,
       "align_self": null,
       "border": null,
       "bottom": null,
       "display": null,
       "flex": null,
       "flex_flow": null,
       "grid_area": null,
       "grid_auto_columns": null,
       "grid_auto_flow": null,
       "grid_auto_rows": null,
       "grid_column": null,
       "grid_gap": null,
       "grid_row": null,
       "grid_template_areas": null,
       "grid_template_columns": null,
       "grid_template_rows": null,
       "height": null,
       "justify_content": null,
       "justify_items": null,
       "left": null,
       "margin": null,
       "max_height": null,
       "max_width": null,
       "min_height": null,
       "min_width": null,
       "object_fit": null,
       "object_position": null,
       "order": null,
       "overflow": null,
       "overflow_x": null,
       "overflow_y": null,
       "padding": null,
       "right": null,
       "top": null,
       "visibility": null,
       "width": null
      }
     }
    },
    "version_major": 2,
    "version_minor": 0
   }
  }
 },
 "nbformat": 4,
 "nbformat_minor": 5
}
