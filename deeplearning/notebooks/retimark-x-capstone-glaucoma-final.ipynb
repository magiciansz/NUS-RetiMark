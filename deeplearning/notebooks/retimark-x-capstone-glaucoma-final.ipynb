{
 "cells": [
  {
   "cell_type": "markdown",
   "id": "ddb5fa97",
   "metadata": {
    "papermill": {
     "duration": 0.004798,
     "end_time": "2023-10-18T15:49:37.746685",
     "exception": false,
     "start_time": "2023-10-18T15:49:37.741887",
     "status": "completed"
    },
    "tags": []
   },
   "source": [
    "# Install Dependencies"
   ]
  },
  {
   "cell_type": "code",
   "execution_count": 1,
   "id": "ea1e11ef",
   "metadata": {
    "execution": {
     "iopub.execute_input": "2023-10-18T15:49:37.756739Z",
     "iopub.status.busy": "2023-10-18T15:49:37.756456Z",
     "iopub.status.idle": "2023-10-18T15:49:47.329920Z",
     "shell.execute_reply": "2023-10-18T15:49:47.329069Z"
    },
    "papermill": {
     "duration": 9.580762,
     "end_time": "2023-10-18T15:49:47.331827",
     "exception": false,
     "start_time": "2023-10-18T15:49:37.751065",
     "status": "completed"
    },
    "tags": []
   },
   "outputs": [],
   "source": [
    "!pip install torch_summary"
   ]
  },
  {
   "cell_type": "markdown",
   "id": "a3cc3ca9",
   "metadata": {
    "papermill": {
     "duration": 0.004505,
     "end_time": "2023-10-18T15:49:47.341122",
     "exception": false,
     "start_time": "2023-10-18T15:49:47.336617",
     "status": "completed"
    },
    "tags": []
   },
   "source": [
    "# Import Libraries"
   ]
  },
  {
   "cell_type": "code",
   "execution_count": 2,
   "id": "f4021ca6",
   "metadata": {
    "execution": {
     "iopub.execute_input": "2023-10-18T15:49:47.352233Z",
     "iopub.status.busy": "2023-10-18T15:49:47.351468Z",
     "iopub.status.idle": "2023-10-18T15:49:53.118805Z",
     "shell.execute_reply": "2023-10-18T15:49:53.118102Z"
    },
    "papermill": {
     "duration": 5.774746,
     "end_time": "2023-10-18T15:49:53.120527",
     "exception": false,
     "start_time": "2023-10-18T15:49:47.345781",
     "status": "completed"
    },
    "tags": []
   },
   "outputs": [
    {
     "name": "stderr",
     "output_type": "stream",
     "text": [
      "c:\\Users\\Josiah Foo\\anaconda3\\envs\\pytorch_env\\Lib\\site-packages\\torchvision\\io\\image.py:13: UserWarning: Failed to load image Python extension: '[WinError 127] The specified procedure could not be found'If you don't plan on using image functionality from `torchvision.io`, you can ignore this warning. Otherwise, there might be something wrong with your environment. Did you have `libjpeg` or `libpng` installed before building `torchvision` from source?\n",
      "  warn(\n"
     ]
    }
   ],
   "source": [
    "import torch\n",
    "import torch.nn.functional as F\n",
    "from torch import nn, optim\n",
    "from torchvision import transforms as T, models\n",
    "from torch.utils.data import DataLoader, Dataset\n",
    "from torchsummary import summary\n",
    "from tqdm.notebook import tqdm \n",
    "\n",
    "from sklearn.metrics import classification_report, recall_score, accuracy_score, precision_score, f1_score, roc_curve, auc\n",
    "from sklearn.model_selection import train_test_split\n",
    "import seaborn as sns\n",
    "from PIL import Image\n",
    "import matplotlib.pyplot as plt\n",
    "from random import shuffle, randint, choice\n",
    "import numpy as np\n",
    "import cv2 as cv\n",
    "from glob import glob\n",
    "import pandas as pd\n",
    "import os"
   ]
  },
  {
   "cell_type": "code",
   "execution_count": 3,
   "id": "41a60b64",
   "metadata": {
    "execution": {
     "iopub.execute_input": "2023-10-18T15:49:53.132044Z",
     "iopub.status.busy": "2023-10-18T15:49:53.131439Z",
     "iopub.status.idle": "2023-10-18T15:49:54.152058Z",
     "shell.execute_reply": "2023-10-18T15:49:54.151069Z"
    },
    "papermill": {
     "duration": 1.028792,
     "end_time": "2023-10-18T15:49:54.154338",
     "exception": false,
     "start_time": "2023-10-18T15:49:53.125546",
     "status": "completed"
    },
    "tags": []
   },
   "outputs": [],
   "source": [
    "!mkdir saved_model\n",
    "sns.set_theme()\n",
    "device = 'cuda' if torch.cuda.is_available() else 'cpu'\n",
    "with torch.no_grad():\n",
    "    torch.cuda.empty_cache()"
   ]
  },
  {
   "cell_type": "markdown",
   "id": "44f1208d",
   "metadata": {
    "papermill": {
     "duration": 0.004413,
     "end_time": "2023-10-18T15:49:54.163449",
     "exception": false,
     "start_time": "2023-10-18T15:49:54.159036",
     "status": "completed"
    },
    "tags": []
   },
   "source": [
    "# Dataset"
   ]
  },
  {
   "cell_type": "code",
   "execution_count": 4,
   "id": "f242139e",
   "metadata": {
    "execution": {
     "iopub.execute_input": "2023-10-18T15:49:54.173538Z",
     "iopub.status.busy": "2023-10-18T15:49:54.173251Z",
     "iopub.status.idle": "2023-10-18T15:49:54.229969Z",
     "shell.execute_reply": "2023-10-18T15:49:54.228940Z"
    },
    "papermill": {
     "duration": 0.063998,
     "end_time": "2023-10-18T15:49:54.231810",
     "exception": false,
     "start_time": "2023-10-18T15:49:54.167812",
     "status": "completed"
    },
    "tags": []
   },
   "outputs": [
    {
     "data": {
      "text/html": [
       "<div>\n",
       "<style scoped>\n",
       "    .dataframe tbody tr th:only-of-type {\n",
       "        vertical-align: middle;\n",
       "    }\n",
       "\n",
       "    .dataframe tbody tr th {\n",
       "        vertical-align: top;\n",
       "    }\n",
       "\n",
       "    .dataframe thead th {\n",
       "        text-align: right;\n",
       "    }\n",
       "</style>\n",
       "<table border=\"1\" class=\"dataframe\">\n",
       "  <thead>\n",
       "    <tr style=\"text-align: right;\">\n",
       "      <th></th>\n",
       "      <th>imageID</th>\n",
       "      <th>binaryLabels</th>\n",
       "    </tr>\n",
       "  </thead>\n",
       "  <tbody>\n",
       "    <tr>\n",
       "      <th>0</th>\n",
       "      <td>image_0.jpg</td>\n",
       "      <td>0</td>\n",
       "    </tr>\n",
       "    <tr>\n",
       "      <th>1</th>\n",
       "      <td>image_1.jpg</td>\n",
       "      <td>0</td>\n",
       "    </tr>\n",
       "    <tr>\n",
       "      <th>2</th>\n",
       "      <td>image_3.jpg</td>\n",
       "      <td>0</td>\n",
       "    </tr>\n",
       "    <tr>\n",
       "      <th>3</th>\n",
       "      <td>image_4.jpg</td>\n",
       "      <td>0</td>\n",
       "    </tr>\n",
       "    <tr>\n",
       "      <th>4</th>\n",
       "      <td>image_5.jpg</td>\n",
       "      <td>0</td>\n",
       "    </tr>\n",
       "  </tbody>\n",
       "</table>\n",
       "</div>"
      ],
      "text/plain": [
       "       imageID  binaryLabels\n",
       "0  image_0.jpg             0\n",
       "1  image_1.jpg             0\n",
       "2  image_3.jpg             0\n",
       "3  image_4.jpg             0\n",
       "4  image_5.jpg             0"
      ]
     },
     "execution_count": 4,
     "metadata": {},
     "output_type": "execute_result"
    }
   ],
   "source": [
    "G1020 = 'G1020'\n",
    "\n",
    "G1020_df = pd.read_csv(f'{G1020}/G1020.csv', index_col=0).reset_index()\n",
    "\n",
    "G1020_df.head()"
   ]
  },
  {
   "cell_type": "code",
   "execution_count": 5,
   "id": "6c9b8abf",
   "metadata": {
    "execution": {
     "iopub.execute_input": "2023-10-18T15:49:54.242521Z",
     "iopub.status.busy": "2023-10-18T15:49:54.242234Z",
     "iopub.status.idle": "2023-10-18T15:49:54.250582Z",
     "shell.execute_reply": "2023-10-18T15:49:54.249999Z"
    },
    "papermill": {
     "duration": 0.015407,
     "end_time": "2023-10-18T15:49:54.252041",
     "exception": false,
     "start_time": "2023-10-18T15:49:54.236634",
     "status": "completed"
    },
    "tags": []
   },
   "outputs": [
    {
     "data": {
      "text/html": [
       "<div>\n",
       "<style scoped>\n",
       "    .dataframe tbody tr th:only-of-type {\n",
       "        vertical-align: middle;\n",
       "    }\n",
       "\n",
       "    .dataframe tbody tr th {\n",
       "        vertical-align: top;\n",
       "    }\n",
       "\n",
       "    .dataframe thead th {\n",
       "        text-align: right;\n",
       "    }\n",
       "</style>\n",
       "<table border=\"1\" class=\"dataframe\">\n",
       "  <thead>\n",
       "    <tr style=\"text-align: right;\">\n",
       "      <th></th>\n",
       "      <th>imageID</th>\n",
       "      <th>binaryLabels</th>\n",
       "      <th>filepath</th>\n",
       "    </tr>\n",
       "  </thead>\n",
       "  <tbody>\n",
       "    <tr>\n",
       "      <th>0</th>\n",
       "      <td>image_0.jpg</td>\n",
       "      <td>0</td>\n",
       "      <td>Augmented Images/image_0.jpg</td>\n",
       "    </tr>\n",
       "    <tr>\n",
       "      <th>1</th>\n",
       "      <td>image_1.jpg</td>\n",
       "      <td>0</td>\n",
       "      <td>Augmented Images/image_1.jpg</td>\n",
       "    </tr>\n",
       "    <tr>\n",
       "      <th>2</th>\n",
       "      <td>image_3.jpg</td>\n",
       "      <td>0</td>\n",
       "      <td>Augmented Images/image_3.jpg</td>\n",
       "    </tr>\n",
       "    <tr>\n",
       "      <th>3</th>\n",
       "      <td>image_4.jpg</td>\n",
       "      <td>0</td>\n",
       "      <td>Augmented Images/image_4.jpg</td>\n",
       "    </tr>\n",
       "    <tr>\n",
       "      <th>4</th>\n",
       "      <td>image_5.jpg</td>\n",
       "      <td>0</td>\n",
       "      <td>Augmented Images/image_5.jpg</td>\n",
       "    </tr>\n",
       "  </tbody>\n",
       "</table>\n",
       "</div>"
      ],
      "text/plain": [
       "       imageID  binaryLabels                      filepath\n",
       "0  image_0.jpg             0  Augmented Images/image_0.jpg\n",
       "1  image_1.jpg             0  Augmented Images/image_1.jpg\n",
       "2  image_3.jpg             0  Augmented Images/image_3.jpg\n",
       "3  image_4.jpg             0  Augmented Images/image_4.jpg\n",
       "4  image_5.jpg             0  Augmented Images/image_5.jpg"
      ]
     },
     "execution_count": 5,
     "metadata": {},
     "output_type": "execute_result"
    }
   ],
   "source": [
    "G1020_df['filepath'] = G1020_df['imageID'].apply(lambda x: 'Augmented Images/' + x)\n",
    "\n",
    "G1020_df.head()"
   ]
  },
  {
   "cell_type": "code",
   "execution_count": 6,
   "id": "ac74dacf",
   "metadata": {
    "execution": {
     "iopub.execute_input": "2023-10-18T15:49:54.262825Z",
     "iopub.status.busy": "2023-10-18T15:49:54.262338Z",
     "iopub.status.idle": "2023-10-18T15:49:54.296769Z",
     "shell.execute_reply": "2023-10-18T15:49:54.296114Z"
    },
    "papermill": {
     "duration": 0.041374,
     "end_time": "2023-10-18T15:49:54.298284",
     "exception": false,
     "start_time": "2023-10-18T15:49:54.256910",
     "status": "completed"
    },
    "tags": []
   },
   "outputs": [
    {
     "data": {
      "text/html": [
       "<div>\n",
       "<style scoped>\n",
       "    .dataframe tbody tr th:only-of-type {\n",
       "        vertical-align: middle;\n",
       "    }\n",
       "\n",
       "    .dataframe tbody tr th {\n",
       "        vertical-align: top;\n",
       "    }\n",
       "\n",
       "    .dataframe thead th {\n",
       "        text-align: right;\n",
       "    }\n",
       "</style>\n",
       "<table border=\"1\" class=\"dataframe\">\n",
       "  <thead>\n",
       "    <tr style=\"text-align: right;\">\n",
       "      <th></th>\n",
       "      <th>Image</th>\n",
       "      <th>Source</th>\n",
       "      <th>Cropped</th>\n",
       "      <th>CDR</th>\n",
       "      <th>Ecc-Cup</th>\n",
       "      <th>Ecc-Disc</th>\n",
       "      <th>Label</th>\n",
       "    </tr>\n",
       "  </thead>\n",
       "  <tbody>\n",
       "    <tr>\n",
       "      <th>0</th>\n",
       "      <td>/content/drive/My Drive/ForKaggle/Cropped_Data...</td>\n",
       "      <td>Origa</td>\n",
       "      <td>True</td>\n",
       "      <td>0.7097</td>\n",
       "      <td>0.636027</td>\n",
       "      <td>0.580909</td>\n",
       "      <td>0</td>\n",
       "    </tr>\n",
       "    <tr>\n",
       "      <th>1</th>\n",
       "      <td>/content/drive/My Drive/ForKaggle/Cropped_Data...</td>\n",
       "      <td>Origa</td>\n",
       "      <td>True</td>\n",
       "      <td>0.6953</td>\n",
       "      <td>0.575024</td>\n",
       "      <td>0.608413</td>\n",
       "      <td>0</td>\n",
       "    </tr>\n",
       "    <tr>\n",
       "      <th>2</th>\n",
       "      <td>/content/drive/My Drive/ForKaggle/Cropped_Data...</td>\n",
       "      <td>Origa</td>\n",
       "      <td>True</td>\n",
       "      <td>0.9629</td>\n",
       "      <td>0.299303</td>\n",
       "      <td>0.262828</td>\n",
       "      <td>0</td>\n",
       "    </tr>\n",
       "    <tr>\n",
       "      <th>3</th>\n",
       "      <td>/content/drive/My Drive/ForKaggle/Cropped_Data...</td>\n",
       "      <td>Origa</td>\n",
       "      <td>True</td>\n",
       "      <td>0.7246</td>\n",
       "      <td>0.503186</td>\n",
       "      <td>0.483273</td>\n",
       "      <td>0</td>\n",
       "    </tr>\n",
       "    <tr>\n",
       "      <th>4</th>\n",
       "      <td>/content/drive/My Drive/ForKaggle/Cropped_Data...</td>\n",
       "      <td>Origa</td>\n",
       "      <td>True</td>\n",
       "      <td>0.6138</td>\n",
       "      <td>0.500141</td>\n",
       "      <td>0.283467</td>\n",
       "      <td>0</td>\n",
       "    </tr>\n",
       "  </tbody>\n",
       "</table>\n",
       "</div>"
      ],
      "text/plain": [
       "                                               Image Source  Cropped     CDR  \\\n",
       "0  /content/drive/My Drive/ForKaggle/Cropped_Data...  Origa     True  0.7097   \n",
       "1  /content/drive/My Drive/ForKaggle/Cropped_Data...  Origa     True  0.6953   \n",
       "2  /content/drive/My Drive/ForKaggle/Cropped_Data...  Origa     True  0.9629   \n",
       "3  /content/drive/My Drive/ForKaggle/Cropped_Data...  Origa     True  0.7246   \n",
       "4  /content/drive/My Drive/ForKaggle/Cropped_Data...  Origa     True  0.6138   \n",
       "\n",
       "    Ecc-Cup  Ecc-Disc  Label  \n",
       "0  0.636027  0.580909      0  \n",
       "1  0.575024  0.608413      0  \n",
       "2  0.299303  0.262828      0  \n",
       "3  0.503186  0.483273      0  \n",
       "4  0.500141  0.283467      0  "
      ]
     },
     "execution_count": 6,
     "metadata": {},
     "output_type": "execute_result"
    }
   ],
   "source": [
    "ORIGA = 'ORIGA'\n",
    "\n",
    "ORIGA_df = pd.read_csv(f'{ORIGA}/origa_info.csv', index_col=0).reset_index()\n",
    "\n",
    "ORIGA_df.head()"
   ]
  },
  {
   "cell_type": "code",
   "execution_count": 7,
   "id": "9c2d4b12",
   "metadata": {
    "execution": {
     "iopub.execute_input": "2023-10-18T15:49:54.309779Z",
     "iopub.status.busy": "2023-10-18T15:49:54.309344Z",
     "iopub.status.idle": "2023-10-18T15:49:54.320538Z",
     "shell.execute_reply": "2023-10-18T15:49:54.319859Z"
    },
    "papermill": {
     "duration": 0.018084,
     "end_time": "2023-10-18T15:49:54.321888",
     "exception": false,
     "start_time": "2023-10-18T15:49:54.303804",
     "status": "completed"
    },
    "tags": []
   },
   "outputs": [
    {
     "data": {
      "text/html": [
       "<div>\n",
       "<style scoped>\n",
       "    .dataframe tbody tr th:only-of-type {\n",
       "        vertical-align: middle;\n",
       "    }\n",
       "\n",
       "    .dataframe tbody tr th {\n",
       "        vertical-align: top;\n",
       "    }\n",
       "\n",
       "    .dataframe thead th {\n",
       "        text-align: right;\n",
       "    }\n",
       "</style>\n",
       "<table border=\"1\" class=\"dataframe\">\n",
       "  <thead>\n",
       "    <tr style=\"text-align: right;\">\n",
       "      <th></th>\n",
       "      <th>Image</th>\n",
       "      <th>Source</th>\n",
       "      <th>Cropped</th>\n",
       "      <th>CDR</th>\n",
       "      <th>Ecc-Cup</th>\n",
       "      <th>Ecc-Disc</th>\n",
       "      <th>Label</th>\n",
       "      <th>filepath</th>\n",
       "    </tr>\n",
       "  </thead>\n",
       "  <tbody>\n",
       "    <tr>\n",
       "      <th>0</th>\n",
       "      <td>/content/drive/My Drive/ForKaggle/Cropped_Data...</td>\n",
       "      <td>Origa</td>\n",
       "      <td>True</td>\n",
       "      <td>0.7097</td>\n",
       "      <td>0.636027</td>\n",
       "      <td>0.580909</td>\n",
       "      <td>0</td>\n",
       "      <td>Augmented Images/001.jpg</td>\n",
       "    </tr>\n",
       "    <tr>\n",
       "      <th>1</th>\n",
       "      <td>/content/drive/My Drive/ForKaggle/Cropped_Data...</td>\n",
       "      <td>Origa</td>\n",
       "      <td>True</td>\n",
       "      <td>0.6953</td>\n",
       "      <td>0.575024</td>\n",
       "      <td>0.608413</td>\n",
       "      <td>0</td>\n",
       "      <td>Augmented Images/002.jpg</td>\n",
       "    </tr>\n",
       "    <tr>\n",
       "      <th>2</th>\n",
       "      <td>/content/drive/My Drive/ForKaggle/Cropped_Data...</td>\n",
       "      <td>Origa</td>\n",
       "      <td>True</td>\n",
       "      <td>0.9629</td>\n",
       "      <td>0.299303</td>\n",
       "      <td>0.262828</td>\n",
       "      <td>0</td>\n",
       "      <td>Augmented Images/003.jpg</td>\n",
       "    </tr>\n",
       "    <tr>\n",
       "      <th>3</th>\n",
       "      <td>/content/drive/My Drive/ForKaggle/Cropped_Data...</td>\n",
       "      <td>Origa</td>\n",
       "      <td>True</td>\n",
       "      <td>0.7246</td>\n",
       "      <td>0.503186</td>\n",
       "      <td>0.483273</td>\n",
       "      <td>0</td>\n",
       "      <td>Augmented Images/004.jpg</td>\n",
       "    </tr>\n",
       "    <tr>\n",
       "      <th>4</th>\n",
       "      <td>/content/drive/My Drive/ForKaggle/Cropped_Data...</td>\n",
       "      <td>Origa</td>\n",
       "      <td>True</td>\n",
       "      <td>0.6138</td>\n",
       "      <td>0.500141</td>\n",
       "      <td>0.283467</td>\n",
       "      <td>0</td>\n",
       "      <td>Augmented Images/005.jpg</td>\n",
       "    </tr>\n",
       "  </tbody>\n",
       "</table>\n",
       "</div>"
      ],
      "text/plain": [
       "                                               Image Source  Cropped     CDR  \\\n",
       "0  /content/drive/My Drive/ForKaggle/Cropped_Data...  Origa     True  0.7097   \n",
       "1  /content/drive/My Drive/ForKaggle/Cropped_Data...  Origa     True  0.6953   \n",
       "2  /content/drive/My Drive/ForKaggle/Cropped_Data...  Origa     True  0.9629   \n",
       "3  /content/drive/My Drive/ForKaggle/Cropped_Data...  Origa     True  0.7246   \n",
       "4  /content/drive/My Drive/ForKaggle/Cropped_Data...  Origa     True  0.6138   \n",
       "\n",
       "    Ecc-Cup  Ecc-Disc  Label                  filepath  \n",
       "0  0.636027  0.580909      0  Augmented Images/001.jpg  \n",
       "1  0.575024  0.608413      0  Augmented Images/002.jpg  \n",
       "2  0.299303  0.262828      0  Augmented Images/003.jpg  \n",
       "3  0.503186  0.483273      0  Augmented Images/004.jpg  \n",
       "4  0.500141  0.283467      0  Augmented Images/005.jpg  "
      ]
     },
     "execution_count": 7,
     "metadata": {},
     "output_type": "execute_result"
    }
   ],
   "source": [
    "ORIGA_df['filepath'] = ORIGA_df['Image'].apply(lambda x: 'Augmented Images/' + x.split('/')[-1])\n",
    "\n",
    "ORIGA_df.head()"
   ]
  },
  {
   "cell_type": "code",
   "execution_count": 8,
   "id": "ae2e788a",
   "metadata": {},
   "outputs": [
    {
     "name": "stdout",
     "output_type": "stream",
     "text": [
      "     ImgName  Fovea_X  Fovea_Y Size_X Size_Y Label                    filepath\n",
      "0  g0001.jpg  1057.95  1076.52   2124   2056     1  Augmented Images/g0001.jpg\n",
      "1  g0002.jpg  1190.59  1017.09   2124   2056     1  Augmented Images/g0002.jpg\n",
      "2  g0003.jpg  1070.56  1084.85   2124   2056     1  Augmented Images/g0003.jpg\n",
      "3  g0004.jpg   1072.6  1035.48   2124   2056     1  Augmented Images/g0004.jpg\n",
      "4  g0005.jpg  1058.19  1100.33   2124   2056     1  Augmented Images/g0005.jpg\n",
      "(800, 7)\n"
     ]
    }
   ],
   "source": [
    "REFUGE_df_train = pd.read_json('REFUGE/train/index.json')\n",
    "REFUGE_df_train = REFUGE_df_train.T\n",
    "\n",
    "\n",
    "REFUGE_df_train['filepath'] = REFUGE_df_train['ImgName'].apply(lambda x: 'Augmented Images/' + x)\n",
    "\n",
    "REFUGE_df_val = pd.read_json('REFUGE/val/index.json')\n",
    "REFUGE_df_val = REFUGE_df_val.T\n",
    "\n",
    "REFUGE_df_val['filepath'] = REFUGE_df_val['ImgName'].apply(lambda x: 'Augmented Images/' + x)\n",
    "\n",
    "REFUGE_df = pd.concat([REFUGE_df_train, REFUGE_df_val], ignore_index=True)\n",
    "print(REFUGE_df.head())\n",
    "print(REFUGE_df.shape)"
   ]
  },
  {
   "cell_type": "code",
   "execution_count": 9,
   "id": "0260a869",
   "metadata": {
    "execution": {
     "iopub.execute_input": "2023-10-18T15:49:54.333541Z",
     "iopub.status.busy": "2023-10-18T15:49:54.332939Z",
     "iopub.status.idle": "2023-10-18T15:49:54.345550Z",
     "shell.execute_reply": "2023-10-18T15:49:54.344897Z"
    },
    "papermill": {
     "duration": 0.019868,
     "end_time": "2023-10-18T15:49:54.347156",
     "exception": false,
     "start_time": "2023-10-18T15:49:54.327288",
     "status": "completed"
    },
    "tags": []
   },
   "outputs": [
    {
     "name": "stdout",
     "output_type": "stream",
     "text": [
      "                       filepath  label\n",
      "0  Augmented Images/image_0.jpg      0\n",
      "1  Augmented Images/image_1.jpg      0\n",
      "2  Augmented Images/image_3.jpg      0\n",
      "3  Augmented Images/image_4.jpg      0\n",
      "4  Augmented Images/image_5.jpg      0\n",
      "(2470, 2)\n",
      "label\n",
      "0    1926\n",
      "1     544\n",
      "Name: count, dtype: int64\n"
     ]
    }
   ],
   "source": [
    "full_df = pd.DataFrame()\n",
    "full_df['filepath'] = G1020_df['filepath'].tolist() + ORIGA_df['filepath'].tolist() + REFUGE_df['filepath'].tolist()\n",
    "full_df['label'] = G1020_df['binaryLabels'].tolist() + ORIGA_df['Label'].tolist() + REFUGE_df['Label'].tolist()\n",
    "full_df.sample(frac=1)\n",
    "print(full_df.head())\n",
    "print(full_df.shape)\n",
    "\n",
    "print(full_df['label'].value_counts())"
   ]
  },
  {
   "cell_type": "markdown",
   "id": "210f66f2",
   "metadata": {
    "papermill": {
     "duration": 0.00864,
     "end_time": "2023-10-18T15:49:57.027271",
     "exception": false,
     "start_time": "2023-10-18T15:49:57.018631",
     "status": "completed"
    },
    "tags": []
   },
   "source": [
    "# Split Dataset"
   ]
  },
  {
   "cell_type": "code",
   "execution_count": 11,
   "id": "f44c7316",
   "metadata": {
    "execution": {
     "iopub.execute_input": "2023-10-18T15:49:57.046604Z",
     "iopub.status.busy": "2023-10-18T15:49:57.045776Z",
     "iopub.status.idle": "2023-10-18T15:49:57.058823Z",
     "shell.execute_reply": "2023-10-18T15:49:57.058162Z"
    },
    "papermill": {
     "duration": 0.024202,
     "end_time": "2023-10-18T15:49:57.060299",
     "exception": false,
     "start_time": "2023-10-18T15:49:57.036097",
     "status": "completed"
    },
    "tags": []
   },
   "outputs": [
    {
     "name": "stdout",
     "output_type": "stream",
     "text": [
      "label\n",
      "0    1540\n",
      "1     435\n",
      "Name: count, dtype: int64\n",
      "label\n",
      "0    386\n",
      "1    109\n",
      "Name: count, dtype: int64\n"
     ]
    }
   ],
   "source": [
    "label0_df = full_df[full_df['label'] == 0]\n",
    "label1_df = full_df[full_df['label'] == 1]\n",
    "\n",
    "label0_train, label0_valid = train_test_split(label0_df, test_size=0.2, random_state=42)\n",
    "label1_train, label1_valid = train_test_split(label1_df, test_size=0.2, random_state=42)\n",
    "\n",
    "train_df = pd.concat([label0_train, label1_train]).sample(frac=1, random_state=42)\n",
    "valid_df = pd.concat([label0_valid, label1_valid]).sample(frac=1, random_state=42)\n",
    "\n",
    "print(train_df['label'].value_counts())\n",
    "print(valid_df['label'].value_counts())"
   ]
  },
  {
   "cell_type": "markdown",
   "id": "b067d1ae",
   "metadata": {},
   "source": [
    "# Data Augmentation on Train Set Class 1 Entries"
   ]
  },
  {
   "cell_type": "code",
   "execution_count": 12,
   "id": "e98cc2ab",
   "metadata": {},
   "outputs": [
    {
     "name": "stdout",
     "output_type": "stream",
     "text": [
      "(435, 2)\n",
      "(1305, 2)\n",
      "                          filepath  label\n",
      "0       Augmented Images/n0108.jpg      0\n",
      "1  Augmented Images/image_1260.jpg      0\n",
      "2       Augmented Images/V0386.jpg      0\n",
      "3         Augmented Images/099.jpg      0\n",
      "4         Augmented Images/309.jpg      0\n",
      "(2845, 2)\n"
     ]
    }
   ],
   "source": [
    "class_0_train_df = train_df[train_df['label'] == 0]\n",
    "class_1_train_df = train_df[train_df['label'] == 1]\n",
    "\n",
    "class_1_train_df.head()\n",
    "print(class_1_train_df.shape)\n",
    "\n",
    "temp_class_1_train_df = pd.DataFrame()\n",
    "\n",
    "for row in class_1_train_df.iterrows():\n",
    "    image_name = row[1]['filepath'][17:-4]\n",
    "    dict = {'filepath':[], 'label':[] }\n",
    "\n",
    "    for i in range(2, 4):\n",
    "        new_img_name = 'Augmented Images/' + image_name + '_aug_' + str(i) + '.jpg'\n",
    "        dict['filepath'].append(new_img_name)\n",
    "        dict['label'].append(1)\n",
    "\n",
    "    temp_df = pd.DataFrame(dict)\n",
    "    temp_class_1_train_df = pd.concat([temp_class_1_train_df, temp_df], ignore_index = True)\n",
    "\n",
    "class_1_train_df = pd.concat([class_1_train_df, temp_class_1_train_df], ignore_index = True)\n",
    "print(class_1_train_df.shape)\n",
    "\n",
    "train_df = pd.concat([class_0_train_df, class_1_train_df], ignore_index=True)\n",
    "print(train_df.head())\n",
    "print(train_df.shape)\n",
    "\n",
    "\n",
    "    "
   ]
  },
  {
   "cell_type": "code",
   "execution_count": 13,
   "id": "743e9a69",
   "metadata": {},
   "outputs": [
    {
     "name": "stdout",
     "output_type": "stream",
     "text": [
      "(2845, 2)\n",
      "label\n",
      "0    1540\n",
      "1    1305\n",
      "Name: count, dtype: int64\n",
      "                             filepath  label\n",
      "801   Augmented Images/image_2564.jpg      1\n",
      "1434         Augmented Images/415.jpg      0\n",
      "2433       Augmented Images/V0364.jpg      0\n",
      "1208         Augmented Images/189.jpg      0\n",
      "1630         Augmented Images/611.jpg      0\n",
      "...                               ...    ...\n",
      "808   Augmented Images/image_2572.jpg      0\n",
      "842   Augmented Images/image_2688.jpg      0\n",
      "1447         Augmented Images/428.jpg      0\n",
      "1178         Augmented Images/159.jpg      1\n",
      "2262       Augmented Images/V0193.jpg      0\n",
      "\n",
      "[495 rows x 2 columns]\n",
      "label\n",
      "0    386\n",
      "1    109\n",
      "Name: count, dtype: int64\n"
     ]
    }
   ],
   "source": [
    "print(train_df.shape)\n",
    "print(train_df['label'].value_counts())\n",
    "print(valid_df)\n",
    "print(valid_df['label'].value_counts())"
   ]
  },
  {
   "cell_type": "code",
   "execution_count": 14,
   "id": "d71f3b56",
   "metadata": {},
   "outputs": [],
   "source": [
    "for row in train_df.iterrows():\n",
    "    image_name = row[1]['filepath']\n",
    "    image_label = row[1]['label']\n",
    "    filepath = image_name\n",
    "\n",
    "    exists = os.path.exists(filepath)\n",
    "    if not exists:\n",
    "        print(image_name)\n",
    "        print(os.path.exists(filepath))\n",
    "    if image_label not in [0, 1]:\n",
    "        print(image_label)"
   ]
  },
  {
   "cell_type": "markdown",
   "id": "bb83242e",
   "metadata": {
    "papermill": {
     "duration": 0.008683,
     "end_time": "2023-10-18T15:49:57.077759",
     "exception": false,
     "start_time": "2023-10-18T15:49:57.069076",
     "status": "completed"
    },
    "tags": []
   },
   "source": [
    "# Prepare Dataset and Dataloader"
   ]
  },
  {
   "cell_type": "code",
   "execution_count": 15,
   "id": "21ef9a46",
   "metadata": {
    "execution": {
     "iopub.execute_input": "2023-10-18T15:49:57.096281Z",
     "iopub.status.busy": "2023-10-18T15:49:57.096002Z",
     "iopub.status.idle": "2023-10-18T15:49:57.102392Z",
     "shell.execute_reply": "2023-10-18T15:49:57.101705Z"
    },
    "papermill": {
     "duration": 0.017508,
     "end_time": "2023-10-18T15:49:57.103868",
     "exception": false,
     "start_time": "2023-10-18T15:49:57.086360",
     "status": "completed"
    },
    "tags": []
   },
   "outputs": [],
   "source": [
    "class EyeDataset(Dataset):\n",
    "    def __init__(self, df):\n",
    "        self.df = df\n",
    "        self.transform = T.Compose([\n",
    "            T.Resize([224, 224]),\n",
    "            T.ToTensor(),\n",
    "            T.Normalize((0.485, 0.456, 0.406),\n",
    "                       (0.229, 0.224, 0.225))\n",
    "        ])\n",
    "    \n",
    "    def __len__(self):\n",
    "        return len(self.df)\n",
    "    \n",
    "    def __getitem__(self, idx):\n",
    "        filepath = f\"{self.df.iloc[idx]['filepath']}\"\n",
    "        image = cv.imread(filepath)\n",
    "        image = cv.cvtColor(image, cv.COLOR_BGR2GRAY)\n",
    "        image = cv.cvtColor(image, cv.COLOR_GRAY2RGB)\n",
    "        image = Image.fromarray(image)\n",
    "        target = self.df.iloc[idx]['label']\n",
    "        \n",
    "        return image, target\n",
    "    \n",
    "    def transform_img(self, img):\n",
    "        return self.transform(img)\n",
    "    \n",
    "    def collate_fn(self, data):\n",
    "        imgs, targets = zip(*data)\n",
    "        targets = torch.tensor(targets)\n",
    "        targets = targets.view(-1, 1).float()\n",
    "        targets = targets.to(device)\n",
    "        imgs = torch.stack(\n",
    "            [self.transform_img(img) for img in imgs], 0\n",
    "        ).to(device)\n",
    "        return imgs, targets"
   ]
  },
  {
   "cell_type": "code",
   "execution_count": 16,
   "id": "96b3bafd",
   "metadata": {
    "execution": {
     "iopub.execute_input": "2023-10-18T15:49:57.122516Z",
     "iopub.status.busy": "2023-10-18T15:49:57.121921Z",
     "iopub.status.idle": "2023-10-18T15:49:57.126580Z",
     "shell.execute_reply": "2023-10-18T15:49:57.125948Z"
    },
    "papermill": {
     "duration": 0.015542,
     "end_time": "2023-10-18T15:49:57.128001",
     "exception": false,
     "start_time": "2023-10-18T15:49:57.112459",
     "status": "completed"
    },
    "tags": []
   },
   "outputs": [],
   "source": [
    "train_ds = EyeDataset(train_df)\n",
    "train_dl = DataLoader(train_ds, batch_size=64, shuffle=True,\n",
    "                      collate_fn=train_ds.collate_fn, \n",
    "                      drop_last=True)\n",
    "\n",
    "valid_ds = EyeDataset(valid_df)\n",
    "valid_dl = DataLoader(valid_ds, batch_size=64,\n",
    "                      collate_fn=valid_ds.collate_fn)"
   ]
  },
  {
   "cell_type": "code",
   "execution_count": 17,
   "id": "9892d2f1",
   "metadata": {
    "execution": {
     "iopub.execute_input": "2023-10-18T15:49:57.146020Z",
     "iopub.status.busy": "2023-10-18T15:49:57.145800Z",
     "iopub.status.idle": "2023-10-18T15:49:57.149262Z",
     "shell.execute_reply": "2023-10-18T15:49:57.148691Z"
    },
    "papermill": {
     "duration": 0.014293,
     "end_time": "2023-10-18T15:49:57.150822",
     "exception": false,
     "start_time": "2023-10-18T15:49:57.136529",
     "status": "completed"
    },
    "tags": []
   },
   "outputs": [
    {
     "name": "stdout",
     "output_type": "stream",
     "text": [
      "Size of Train: 2845\n",
      "Size of Validation: 495\n"
     ]
    }
   ],
   "source": [
    "print('Size of Train:', len(train_ds))\n",
    "print('Size of Validation:', len(valid_ds))"
   ]
  },
  {
   "cell_type": "markdown",
   "id": "827f193a",
   "metadata": {
    "papermill": {
     "duration": 0.008662,
     "end_time": "2023-10-18T15:49:57.168226",
     "exception": false,
     "start_time": "2023-10-18T15:49:57.159564",
     "status": "completed"
    },
    "tags": []
   },
   "source": [
    "# Model"
   ]
  },
  {
   "cell_type": "code",
   "execution_count": 18,
   "id": "44dc55cb",
   "metadata": {
    "execution": {
     "iopub.execute_input": "2023-10-18T15:49:57.187827Z",
     "iopub.status.busy": "2023-10-18T15:49:57.187082Z",
     "iopub.status.idle": "2023-10-18T15:49:57.192491Z",
     "shell.execute_reply": "2023-10-18T15:49:57.191726Z"
    },
    "papermill": {
     "duration": 0.016813,
     "end_time": "2023-10-18T15:49:57.193966",
     "exception": false,
     "start_time": "2023-10-18T15:49:57.177153",
     "status": "completed"
    },
    "tags": []
   },
   "outputs": [],
   "source": [
    "class EyeClassifier(nn.Module):\n",
    "    def __init__(self, pretrained=True):\n",
    "        super().__init__()\n",
    "        self.model = models.resnet50(pretrained=pretrained, progress=pretrained)\n",
    "        for param in self.model.parameters():\n",
    "            param.requires_grad = True\n",
    "        \n",
    "        num_features = self.model.fc.in_features\n",
    "\n",
    "        self.model.fc = nn.Sequential(\n",
    "            nn.Flatten(),\n",
    "            nn.BatchNorm1d(num_features),\n",
    "            nn.Dropout(0.65),\n",
    "            nn.Linear(num_features, 1),\n",
    "            nn.Sigmoid()\n",
    "        )\n",
    "        \n",
    "    def forward(self, x):\n",
    "        x = self.model(x)\n",
    "        return x"
   ]
  },
  {
   "cell_type": "code",
   "execution_count": 19,
   "id": "e50ec18b",
   "metadata": {
    "execution": {
     "iopub.execute_input": "2023-10-18T15:49:57.212920Z",
     "iopub.status.busy": "2023-10-18T15:49:57.212389Z",
     "iopub.status.idle": "2023-10-18T15:50:06.279697Z",
     "shell.execute_reply": "2023-10-18T15:50:06.278857Z"
    },
    "papermill": {
     "duration": 9.078726,
     "end_time": "2023-10-18T15:50:06.281443",
     "exception": false,
     "start_time": "2023-10-18T15:49:57.202717",
     "status": "completed"
    },
    "tags": []
   },
   "outputs": [
    {
     "name": "stderr",
     "output_type": "stream",
     "text": [
      "c:\\Users\\Josiah Foo\\anaconda3\\envs\\pytorch_env\\Lib\\site-packages\\torchvision\\models\\_utils.py:208: UserWarning: The parameter 'pretrained' is deprecated since 0.13 and may be removed in the future, please use 'weights' instead.\n",
      "  warnings.warn(\n",
      "c:\\Users\\Josiah Foo\\anaconda3\\envs\\pytorch_env\\Lib\\site-packages\\torchvision\\models\\_utils.py:223: UserWarning: Arguments other than a weight enum or `None` for 'weights' are deprecated since 0.13 and may be removed in the future. The current behavior is equivalent to passing `weights=ResNet50_Weights.IMAGENET1K_V1`. You can also use `weights=ResNet50_Weights.DEFAULT` to get the most up-to-date weights.\n",
      "  warnings.warn(msg)\n"
     ]
    },
    {
     "name": "stdout",
     "output_type": "stream",
     "text": [
      "==========================================================================================\n",
      "Layer (type:depth-idx)                   Output Shape              Param #\n",
      "==========================================================================================\n",
      "├─ResNet: 1-1                            [-1, 1]                   --\n",
      "|    └─Conv2d: 2-1                       [-1, 64, 112, 112]        9,408\n",
      "|    └─BatchNorm2d: 2-2                  [-1, 64, 112, 112]        128\n",
      "|    └─ReLU: 2-3                         [-1, 64, 112, 112]        --\n",
      "|    └─MaxPool2d: 2-4                    [-1, 64, 56, 56]          --\n",
      "|    └─Sequential: 2-5                   [-1, 256, 56, 56]         --\n",
      "|    |    └─Bottleneck: 3-1              [-1, 256, 56, 56]         75,008\n",
      "|    |    └─Bottleneck: 3-2              [-1, 256, 56, 56]         70,400\n",
      "|    |    └─Bottleneck: 3-3              [-1, 256, 56, 56]         70,400\n",
      "|    └─Sequential: 2-6                   [-1, 512, 28, 28]         --\n",
      "|    |    └─Bottleneck: 3-4              [-1, 512, 28, 28]         379,392\n",
      "|    |    └─Bottleneck: 3-5              [-1, 512, 28, 28]         280,064\n",
      "|    |    └─Bottleneck: 3-6              [-1, 512, 28, 28]         280,064\n",
      "|    |    └─Bottleneck: 3-7              [-1, 512, 28, 28]         280,064\n",
      "|    └─Sequential: 2-7                   [-1, 1024, 14, 14]        --\n",
      "|    |    └─Bottleneck: 3-8              [-1, 1024, 14, 14]        1,512,448\n",
      "|    |    └─Bottleneck: 3-9              [-1, 1024, 14, 14]        1,117,184\n",
      "|    |    └─Bottleneck: 3-10             [-1, 1024, 14, 14]        1,117,184\n",
      "|    |    └─Bottleneck: 3-11             [-1, 1024, 14, 14]        1,117,184\n",
      "|    |    └─Bottleneck: 3-12             [-1, 1024, 14, 14]        1,117,184\n",
      "|    |    └─Bottleneck: 3-13             [-1, 1024, 14, 14]        1,117,184\n",
      "|    └─Sequential: 2-8                   [-1, 2048, 7, 7]          --\n",
      "|    |    └─Bottleneck: 3-14             [-1, 2048, 7, 7]          6,039,552\n",
      "|    |    └─Bottleneck: 3-15             [-1, 2048, 7, 7]          4,462,592\n",
      "|    |    └─Bottleneck: 3-16             [-1, 2048, 7, 7]          4,462,592\n",
      "|    └─AdaptiveAvgPool2d: 2-9            [-1, 2048, 1, 1]          --\n",
      "|    └─Sequential: 2-10                  [-1, 1]                   --\n",
      "|    |    └─Flatten: 3-17                [-1, 2048]                --\n",
      "|    |    └─BatchNorm1d: 3-18            [-1, 2048]                4,096\n",
      "|    |    └─Dropout: 3-19                [-1, 2048]                --\n",
      "|    |    └─Linear: 3-20                 [-1, 1]                   2,049\n",
      "|    |    └─Sigmoid: 3-21                [-1, 1]                   --\n",
      "==========================================================================================\n",
      "Total params: 23,514,177\n",
      "Trainable params: 23,514,177\n",
      "Non-trainable params: 0\n",
      "Total mult-adds (G): 3.80\n",
      "==========================================================================================\n",
      "Input size (MB): 0.57\n",
      "Forward/backward pass size (MB): 146.63\n",
      "Params size (MB): 89.70\n",
      "Estimated Total Size (MB): 236.91\n",
      "==========================================================================================\n"
     ]
    }
   ],
   "source": [
    "classifier = EyeClassifier(pretrained=True)\n",
    "_ = summary(classifier, torch.ones(1,3,224,224))"
   ]
  },
  {
   "cell_type": "markdown",
   "id": "700911b5",
   "metadata": {
    "papermill": {
     "duration": 0.009597,
     "end_time": "2023-10-18T15:50:06.300943",
     "exception": false,
     "start_time": "2023-10-18T15:50:06.291346",
     "status": "completed"
    },
    "tags": []
   },
   "source": [
    "# Define Train and Validate Functions"
   ]
  },
  {
   "cell_type": "code",
   "execution_count": 21,
   "metadata": {},
   "outputs": [],
   "source": [
    "def train(data, classifier, optimizer, loss_fn):\n",
    "    classifier.train()\n",
    "    imgs, targets = data\n",
    "    outputs = classifier(imgs.to(device))\n",
    "    loss = loss_fn(outputs.to(device), targets.to(device))\n",
    "    optimizer.zero_grad()\n",
    "    loss.backward()\n",
    "    optimizer.step()\n",
    "    \n",
    "    outputs = outputs.cpu().detach().tolist()\n",
    "    targets = targets.cpu().detach().tolist()\n",
    "    preds = list(map(lambda x: int(x[0] > 0.5), outputs))\n",
    "    \n",
    "    fake_recall_score = recall_score(targets, preds, pos_label=0,zero_division=0)\n",
    "    fake_accuracy_score = accuracy_score(targets, preds)\n",
    "    fake_precision_score = precision_score(targets, preds, pos_label=0,zero_division=0)\n",
    "    fake_f1_score = f1_score(targets, preds, pos_label=0,zero_division=0)\n",
    "    fpr, tpr, thresholds = roc_curve(targets, outputs)\n",
    "    roc_auc = auc(fpr, tpr)\n",
    "    \n",
    "    return loss.cpu().detach().item(), fake_recall_score, fake_accuracy_score, fake_precision_score, fake_f1_score, fpr, tpr, roc_auc"
   ]
  },
  {
   "cell_type": "code",
   "execution_count": 23,
   "metadata": {},
   "outputs": [],
   "source": [
    "@torch.no_grad()\n",
    "def validate(data, classifier, loss_fn):\n",
    "    classifier.eval()\n",
    "    imgs, targets = data\n",
    "    outputs = classifier(imgs.to(device))\n",
    "    loss = loss_fn(outputs.to(device), targets.to(device))\n",
    "    \n",
    "    outputs = outputs.cpu().detach().tolist()\n",
    "    targets = targets.cpu().detach().tolist()\n",
    "    preds = list(map(lambda x: int(x[0] > 0.5), outputs))\n",
    "    fake_recall_score = recall_score(targets, preds, pos_label=0, zero_division=0)\n",
    "    fake_accuracy_score = accuracy_score(targets, preds)\n",
    "    fake_precision_score = precision_score(targets, preds, pos_label=0,zero_division=0)\n",
    "    fake_f1_score = f1_score(targets, preds, pos_label=0,zero_division=0)\n",
    "    fpr, tpr, thresholds = roc_curve(targets, outputs)\n",
    "    roc_auc = auc(fpr, tpr)\n",
    "    \n",
    "    return loss.cpu().detach().item(), fake_recall_score, fake_accuracy_score, fake_precision_score, fake_f1_score, fpr, tpr, roc_auc"
   ]
  },
  {
   "cell_type": "code",
   "execution_count": 24,
   "id": "8ec6df3f",
   "metadata": {
    "execution": {
     "iopub.execute_input": "2023-10-18T15:50:06.375525Z",
     "iopub.status.busy": "2023-10-18T15:50:06.374912Z",
     "iopub.status.idle": "2023-10-18T15:50:06.907983Z",
     "shell.execute_reply": "2023-10-18T15:50:06.907254Z"
    },
    "papermill": {
     "duration": 0.545646,
     "end_time": "2023-10-18T15:50:06.909862",
     "exception": false,
     "start_time": "2023-10-18T15:50:06.364216",
     "status": "completed"
    },
    "tags": []
   },
   "outputs": [],
   "source": [
    "classifier = EyeClassifier(pretrained=True).to(device)\n",
    "loss_fn = nn.BCELoss().to(device)\n",
    "optimizer = optim.Adam(classifier.parameters(), lr=1e-5, weight_decay=5e-3)\n",
    "scheduler = optim.lr_scheduler.StepLR(optimizer, step_size=2,\n",
    "                                      gamma=0.25)\n",
    "best_recall_score = 0\n",
    "n_epochs = 15\n",
    "xticks = list(i+1 for i in range(n_epochs))"
   ]
  },
  {
   "cell_type": "code",
   "execution_count": 26,
   "metadata": {},
   "outputs": [
    {
     "data": {
      "application/vnd.jupyter.widget-view+json": {
       "model_id": "e6aaa6b0798a4e1884eaeee158d3aaee",
       "version_major": 2,
       "version_minor": 0
      },
      "text/plain": [
       "Training:   0%|          | 0/15 [00:00<?, ?it/s]"
      ]
     },
     "metadata": {},
     "output_type": "display_data"
    },
    {
     "name": "stdout",
     "output_type": "stream",
     "text": [
      "epoch: 1 \ttrain loss: 0.581 \ttrain recall score: 0.714 \ttrain accuracy score: 0.687 \ttrain precision score: 0.713 \ttrain f1 score: 0.708 \ttrain auc: 0.757 \tvalid loss: 0.684 \tvalid recall score: 0.532 \tvalid accuracy score: 0.575 \tvalid precision score: 0.874 \tvalid f1 score: 0.657 \tvalid auc: 0.672\n",
      "epoch: 2 \ttrain loss: 0.385 \ttrain recall score: 0.905 \ttrain accuracy score: 0.829 \ttrain precision score: 0.808 \ttrain f1 score: 0.850 \ttrain auc: 0.901 \tvalid loss: 0.479 \tvalid recall score: 0.955 \tvalid accuracy score: 0.783 \tvalid precision score: 0.804 \tvalid f1 score: 0.873 \tvalid auc: 0.703\n",
      "epoch: 3 \ttrain loss: 0.305 \ttrain recall score: 0.944 \ttrain accuracy score: 0.870 \ttrain precision score: 0.837 \ttrain f1 score: 0.885 \ttrain auc: 0.943 \tvalid loss: 0.477 \tvalid recall score: 0.950 \tvalid accuracy score: 0.778 \tvalid precision score: 0.802 \tvalid f1 score: 0.869 \tvalid auc: 0.704\n",
      "epoch: 4 \ttrain loss: 0.279 \ttrain recall score: 0.950 \ttrain accuracy score: 0.884 \ttrain precision score: 0.854 \ttrain f1 score: 0.897 \ttrain auc: 0.952 \tvalid loss: 0.474 \tvalid recall score: 0.948 \tvalid accuracy score: 0.779 \tvalid precision score: 0.804 \tvalid f1 score: 0.869 \tvalid auc: 0.711\n",
      "epoch: 5 \ttrain loss: 0.258 \ttrain recall score: 0.951 \ttrain accuracy score: 0.889 \ttrain precision score: 0.860 \ttrain f1 score: 0.901 \ttrain auc: 0.964 \tvalid loss: 0.475 \tvalid recall score: 0.940 \tvalid accuracy score: 0.774 \tvalid precision score: 0.804 \tvalid f1 score: 0.866 \tvalid auc: 0.712\n",
      "epoch: 6 \ttrain loss: 0.258 \ttrain recall score: 0.954 \ttrain accuracy score: 0.889 \ttrain precision score: 0.859 \ttrain f1 score: 0.902 \ttrain auc: 0.960 \tvalid loss: 0.475 \tvalid recall score: 0.951 \tvalid accuracy score: 0.777 \tvalid precision score: 0.801 \tvalid f1 score: 0.869 \tvalid auc: 0.715\n",
      "epoch: 7 \ttrain loss: 0.261 \ttrain recall score: 0.947 \ttrain accuracy score: 0.887 \ttrain precision score: 0.860 \ttrain f1 score: 0.899 \ttrain auc: 0.962 \tvalid loss: 0.475 \tvalid recall score: 0.941 \tvalid accuracy score: 0.775 \tvalid precision score: 0.804 \tvalid f1 score: 0.866 \tvalid auc: 0.713\n",
      "epoch: 8 \ttrain loss: 0.252 \ttrain recall score: 0.949 \ttrain accuracy score: 0.892 \ttrain precision score: 0.867 \ttrain f1 score: 0.904 \ttrain auc: 0.963 \tvalid loss: 0.476 \tvalid recall score: 0.948 \tvalid accuracy score: 0.775 \tvalid precision score: 0.800 \tvalid f1 score: 0.867 \tvalid auc: 0.714\n",
      "epoch: 9 \ttrain loss: 0.248 \ttrain recall score: 0.960 \ttrain accuracy score: 0.896 \ttrain precision score: 0.865 \ttrain f1 score: 0.908 \ttrain auc: 0.967 \tvalid loss: 0.476 \tvalid recall score: 0.946 \tvalid accuracy score: 0.775 \tvalid precision score: 0.802 \tvalid f1 score: 0.867 \tvalid auc: 0.712\n",
      "epoch: 10 \ttrain loss: 0.246 \ttrain recall score: 0.957 \ttrain accuracy score: 0.897 \ttrain precision score: 0.869 \ttrain f1 score: 0.909 \ttrain auc: 0.967 \tvalid loss: 0.477 \tvalid recall score: 0.951 \tvalid accuracy score: 0.777 \tvalid precision score: 0.801 \tvalid f1 score: 0.869 \tvalid auc: 0.714\n",
      "epoch: 11 \ttrain loss: 0.246 \ttrain recall score: 0.953 \ttrain accuracy score: 0.897 \ttrain precision score: 0.870 \ttrain f1 score: 0.908 \ttrain auc: 0.964 \tvalid loss: 0.476 \tvalid recall score: 0.940 \tvalid accuracy score: 0.774 \tvalid precision score: 0.804 \tvalid f1 score: 0.866 \tvalid auc: 0.713\n",
      "epoch: 12 \ttrain loss: 0.241 \ttrain recall score: 0.963 \ttrain accuracy score: 0.907 \ttrain precision score: 0.877 \ttrain f1 score: 0.917 \ttrain auc: 0.966 \tvalid loss: 0.476 \tvalid recall score: 0.943 \tvalid accuracy score: 0.777 \tvalid precision score: 0.805 \tvalid f1 score: 0.868 \tvalid auc: 0.713\n",
      "epoch: 13 \ttrain loss: 0.245 \ttrain recall score: 0.959 \ttrain accuracy score: 0.898 \ttrain precision score: 0.868 \ttrain f1 score: 0.908 \ttrain auc: 0.970 \tvalid loss: 0.476 \tvalid recall score: 0.941 \tvalid accuracy score: 0.773 \tvalid precision score: 0.802 \tvalid f1 score: 0.865 \tvalid auc: 0.713\n",
      "epoch: 14 \ttrain loss: 0.240 \ttrain recall score: 0.958 \ttrain accuracy score: 0.900 \ttrain precision score: 0.871 \ttrain f1 score: 0.910 \ttrain auc: 0.967 \tvalid loss: 0.476 \tvalid recall score: 0.948 \tvalid accuracy score: 0.775 \tvalid precision score: 0.800 \tvalid f1 score: 0.867 \tvalid auc: 0.714\n",
      "epoch: 15 \ttrain loss: 0.249 \ttrain recall score: 0.964 \ttrain accuracy score: 0.901 \ttrain precision score: 0.868 \ttrain f1 score: 0.911 \ttrain auc: 0.967 \tvalid loss: 0.475 \tvalid recall score: 0.946 \tvalid accuracy score: 0.777 \tvalid precision score: 0.803 \tvalid f1 score: 0.868 \tvalid auc: 0.714\n"
     ]
    }
   ],
   "source": [
    "mem = {\n",
    "    'train_loss': [],\n",
    "    'train_recall_score': [],\n",
    "    'train_accuracy_score': [],\n",
    "    'train_precision_score': [],\n",
    "    'train_f1_score': [],\n",
    "    'train_tpr': [],\n",
    "    'train_fpr': [],\n",
    "    'train_auc': [],\n",
    "    'valid_loss': [],\n",
    "    'valid_recall_score': [],\n",
    "    'valid_accuracy_score': [],\n",
    "    'valid_precision_score': [],\n",
    "    'valid_f1_score': [],\n",
    "    'valid_tpr': [],\n",
    "    'valid_fpr': [],\n",
    "    'valid_auc': [],\n",
    "}\n",
    "\n",
    "for epoch in tqdm(range(n_epochs), desc='Training'):\n",
    "    n_batch = len(train_dl)\n",
    "    train_losses, train_recall_scores, train_accuracy_scores, train_precision_scores, train_f1_scores, train_tprs, train_fprs, train_aucs = [], [], [], [], [], [], [], []\n",
    "    for i, data in enumerate(train_dl):\n",
    "        train_loss, train_recall_score, train_accuracy_score, train_precision_score, train_f1_score, train_tpr, train_fpr, train_auc = train(data, classifier, optimizer, loss_fn)\n",
    "        train_losses.append(train_loss)\n",
    "        train_recall_scores.append(train_recall_score)\n",
    "        train_accuracy_scores.append(train_accuracy_score)\n",
    "        train_precision_scores.append(train_precision_score)\n",
    "        train_f1_scores.append(train_f1_score)\n",
    "        train_tprs.append(train_tpr)\n",
    "        train_fprs.append(train_fpr)\n",
    "        train_aucs.append(train_auc)\n",
    "        pos = epoch + ((i+1)/n_batch)\n",
    "        print(\n",
    "            'epoch:', \"%.3f\" % pos,\n",
    "            '\\ttrain loss:', \"%.3f\" % train_loss,\n",
    "            '\\ttrain recall score:', \"%.3f\" % train_recall_score, \n",
    "            '\\ttrain accuracy score:', \"%.3f\" % train_accuracy_score, \n",
    "            '\\ttrain precision score:', \"%.3f\" % train_precision_score, \n",
    "            '\\ttrain f1 score:', \"%.3f\" % train_f1_score, \n",
    "            '\\ttrain auc:', \"%.3f\" % train_auc, \n",
    "            end='\\r'\n",
    "        )\n",
    "        \n",
    "    mem['train_loss'].append(np.mean(train_losses))\n",
    "    mem['train_recall_score'].append(np.mean(train_recall_scores))\n",
    "    mem['train_accuracy_score'].append(np.mean(train_accuracy_scores))\n",
    "    mem['train_precision_score'].append(np.mean(train_precision_scores))\n",
    "    mem['train_f1_score'].append(np.mean(train_f1_scores))\n",
    "    mem['train_tpr'].append(np.concatenate(train_fprs))\n",
    "    mem['train_fpr'].append(np.concatenate(train_tprs))\n",
    "    mem['train_auc'].append(np.mean(train_aucs))\n",
    "    \n",
    "    n_batch = len(valid_dl)\n",
    "    valid_losses, valid_recall_scores, valid_f1_scores, valid_accuracy_scores, valid_precision_scores, valid_tprs, valid_fprs, valid_aucs =  [], [], [], [], [], [], [], []\n",
    "    for i, data in enumerate(valid_dl):\n",
    "        valid_loss, valid_recall_score, valid_accuracy_score, valid_precision_score, valid_f1_score, valid_tpr, valid_fpr, valid_auc = validate(data, classifier, loss_fn)\n",
    "        valid_losses.append(valid_loss)\n",
    "        valid_recall_scores.append(valid_recall_score)\n",
    "        valid_accuracy_scores.append(valid_accuracy_score)\n",
    "        valid_precision_scores.append(valid_precision_score)\n",
    "        valid_f1_scores.append(valid_f1_score)\n",
    "        valid_tprs.append(valid_tpr)\n",
    "        valid_fprs.append(valid_fpr)\n",
    "        valid_aucs.append(valid_auc)\n",
    "        pos = epoch + ((i+1)/n_batch)\n",
    "        print(\n",
    "            'epoch:', \"%.3f\" % pos,\n",
    "            '\\tvalid loss:', \"%.3f\" % valid_loss,\n",
    "            '\\tvalid recall score:', \"%.3f\" % valid_recall_score, \n",
    "            '\\tvalid accuracy score:', \"%.3f\" % valid_accuracy_score, \n",
    "            '\\tvalid precision score:', \"%.3f\" % valid_precision_score, \n",
    "            '\\tvalid f1 score:', \"%.3f\" % valid_f1_score, \n",
    "            '\\tvalid auc:', \"%.3f\" % valid_auc, \n",
    "            end='\\r'\n",
    "        )\n",
    "    \n",
    "    cur_recall_score = np.mean(valid_recall_scores)\n",
    "    mem['valid_loss'].append(np.mean(valid_losses))\n",
    "    mem['valid_recall_score'].append(np.mean(valid_recall_scores))\n",
    "    mem['valid_accuracy_score'].append(np.mean(valid_accuracy_scores))\n",
    "    mem['valid_precision_score'].append(np.mean(valid_precision_scores))\n",
    "    mem['valid_f1_score'].append(np.mean(valid_f1_scores))\n",
    "    mem['valid_tpr'].append(np.concatenate(valid_fprs))\n",
    "    mem['valid_fpr'].append(np.concatenate(valid_tprs))\n",
    "    mem['valid_auc'].append(np.mean(valid_aucs))\n",
    "    \n",
    "    print(\n",
    "        'epoch:', epoch+1,\n",
    "        '\\ttrain loss:', \"%.3f\" % mem['train_loss'][-1],\n",
    "        '\\ttrain recall score:', \"%.3f\" % mem['train_recall_score'][-1],\n",
    "        '\\ttrain accuracy score:', \"%.3f\" % mem['train_accuracy_score'][-1],\n",
    "        '\\ttrain precision score:', \"%.3f\" % mem['train_precision_score'][-1],\n",
    "        '\\ttrain f1 score:', \"%.3f\" % mem['train_f1_score'][-1],\n",
    "        '\\ttrain auc:', \"%.3f\" % mem['train_auc'][-1],\n",
    "        '\\tvalid loss:', \"%.3f\" % mem['valid_loss'][-1],\n",
    "        '\\tvalid recall score:', \"%.3f\" % mem['valid_recall_score'][-1],\n",
    "        '\\tvalid accuracy score:', \"%.3f\" % mem['valid_accuracy_score'][-1],\n",
    "        '\\tvalid precision score:', \"%.3f\" % mem['valid_precision_score'][-1],\n",
    "        '\\tvalid f1 score:', \"%.3f\" % mem['valid_f1_score'][-1],\n",
    "        '\\tvalid auc:', \"%.3f\" % mem['valid_auc'][-1],\n",
    "    )\n",
    "    \n",
    "    if epoch > 5 and best_recall_score < cur_recall_score:\n",
    "        best_recall_score = cur_recall_score\n",
    "        torch.save(classifier.state_dict(), 'glaucoma_state_dict_final.pth')\n",
    "        torch.save(classifier, 'glaucoma_model_final.pth')\n",
    "        \n",
    "    scheduler.step()"
   ]
  },
  {
   "cell_type": "code",
   "execution_count": 27,
   "id": "0517fc14",
   "metadata": {
    "execution": {
     "iopub.execute_input": "2023-10-18T16:21:56.751500Z",
     "iopub.status.busy": "2023-10-18T16:21:56.750860Z",
     "iopub.status.idle": "2023-10-18T16:21:56.968571Z",
     "shell.execute_reply": "2023-10-18T16:21:56.967820Z"
    },
    "papermill": {
     "duration": 0.23998,
     "end_time": "2023-10-18T16:21:56.970232",
     "exception": false,
     "start_time": "2023-10-18T16:21:56.730252",
     "status": "completed"
    },
    "tags": []
   },
   "outputs": [
    {
     "data": {
      "image/png": "[encoded data removed]",
      "text/plain": [
       "<Figure size 640x480 with 1 Axes>"
      ]
     },
     "metadata": {},
     "output_type": "display_data"
    }
   ],
   "source": [
    "plt.plot(xticks, mem['train_loss'])\n",
    "plt.plot(xticks, mem['valid_loss'])\n",
    "plt.legend(['train', 'valid'])\n",
    "plt.xlabel('epoch')\n",
    "plt.title('loss')\n",
    "plt.show()"
   ]
  },
  {
   "cell_type": "code",
   "execution_count": 28,
   "id": "dbe123e5",
   "metadata": {
    "execution": {
     "iopub.execute_input": "2023-10-18T16:21:57.015055Z",
     "iopub.status.busy": "2023-10-18T16:21:57.014387Z",
     "iopub.status.idle": "2023-10-18T16:21:57.236421Z",
     "shell.execute_reply": "2023-10-18T16:21:57.235590Z"
    },
    "papermill": {
     "duration": 0.245972,
     "end_time": "2023-10-18T16:21:57.238072",
     "exception": false,
     "start_time": "2023-10-18T16:21:56.992100",
     "status": "completed"
    },
    "tags": []
   },
   "outputs": [
    {
     "data": {
      "image/png": "[encoded data removed]",
      "text/plain": [
       "<Figure size 640x480 with 1 Axes>"
      ]
     },
     "metadata": {},
     "output_type": "display_data"
    },
    {
     "name": "stdout",
     "output_type": "stream",
     "text": [
      "[0.5315313134766739, 0.9553703525636412, 0.9496888914206436, 0.948304933079138, 0.9396628135660079, 0.9506634236451759, 0.9406827013783485, 0.948304933079138, 0.9457007664124715, 0.9506634236451759, 0.9399638974680553, 0.9433422758464336, 0.9406827013783485, 0.9480592569785091, 0.9457007664124715]\n"
     ]
    }
   ],
   "source": [
    "plt.plot(xticks, mem['train_recall_score'])\n",
    "plt.plot(xticks, mem['valid_recall_score'])\n",
    "plt.legend(['train', 'valid'])\n",
    "plt.xlabel('epoch')\n",
    "plt.title('recall score')\n",
    "plt.show()\n",
    "print(mem['valid_recall_score'])"
   ]
  },
  {
   "cell_type": "code",
   "execution_count": 29,
   "id": "27dbe80b",
   "metadata": {
    "papermill": {
     "duration": 0.024647,
     "end_time": "2023-10-18T16:21:57.284625",
     "exception": false,
     "start_time": "2023-10-18T16:21:57.259978",
     "status": "completed"
    },
    "tags": []
   },
   "outputs": [
    {
     "data": {
      "image/png": "[encoded data removed]",
      "text/plain": [
       "<Figure size 640x480 with 1 Axes>"
      ]
     },
     "metadata": {},
     "output_type": "display_data"
    }
   ],
   "source": [
    "plt.plot(xticks, mem['train_accuracy_score'])\n",
    "plt.plot(xticks, mem['valid_accuracy_score'])\n",
    "plt.legend(['train', 'valid'])\n",
    "plt.xlabel('epoch')\n",
    "plt.title('accuracy score')\n",
    "plt.show()"
   ]
  },
  {
   "cell_type": "code",
   "execution_count": 30,
   "metadata": {},
   "outputs": [
    {
     "data": {
      "image/png": "[encoded data removed]",
      "text/plain": [
       "<Figure size 640x480 with 1 Axes>"
      ]
     },
     "metadata": {},
     "output_type": "display_data"
    }
   ],
   "source": [
    "plt.plot(xticks, mem['train_precision_score'])\n",
    "plt.plot(xticks, mem['valid_precision_score'])\n",
    "plt.legend(['train', 'valid'])\n",
    "plt.xlabel('epoch')\n",
    "plt.title('precision score')\n",
    "plt.show()"
   ]
  },
  {
   "cell_type": "code",
   "execution_count": 31,
   "metadata": {},
   "outputs": [
    {
     "data": {
      "image/png": "[encoded data removed]",
      "text/plain": [
       "<Figure size 640x480 with 1 Axes>"
      ]
     },
     "metadata": {},
     "output_type": "display_data"
    }
   ],
   "source": [
    "plt.plot(xticks, mem['train_f1_score'])\n",
    "plt.plot(xticks, mem['valid_f1_score'])\n",
    "plt.legend(['train', 'valid'])\n",
    "plt.xlabel('epoch')\n",
    "plt.title('f1 score')\n",
    "plt.show()"
   ]
  },
  {
   "cell_type": "code",
   "execution_count": 32,
   "metadata": {},
   "outputs": [
    {
     "data": {
      "image/png": "[encoded data removed]",
      "text/plain": [
       "<Figure size 640x480 with 1 Axes>"
      ]
     },
     "metadata": {},
     "output_type": "display_data"
    }
   ],
   "source": [
    "plt.plot(xticks, mem['train_auc'])\n",
    "plt.plot(xticks, mem['valid_auc'])\n",
    "plt.legend(['train', 'valid'])\n",
    "plt.xlabel('epoch')\n",
    "plt.title('auc score')\n",
    "plt.show()"
   ]
  }
 ],
 "metadata": {
  "kernelspec": {
   "display_name": "Python 3",
   "language": "python",
   "name": "python3"
  },
  "language_info": {
   "codemirror_mode": {
    "name": "ipython",
    "version": 3
   },
   "file_extension": ".py",
   "mimetype": "text/x-python",
   "name": "python",
   "nbconvert_exporter": "python",
   "pygments_lexer": "ipython3",
   "version": "3.11.4"
  },
  "papermill": {
   "default_parameters": {},
   "duration": 1945.165612,
   "end_time": "2023-10-18T16:21:59.969297",
   "environment_variables": {},
   "exception": null,
   "input_path": "__notebook__.ipynb",
   "output_path": "__notebook__.ipynb",
   "parameters": {},
   "start_time": "2023-10-18T15:49:34.803685",
   "version": "2.4.0"
  },
  "widgets": {
   "application/vnd.jupyter.widget-state+json": {
    "state": {
     "07dff4ff198340cc94c81e1159b6215d": {
      "model_module": "@jupyter-widgets/controls",
      "model_module_version": "1.5.0",
      "model_name": "HTMLModel",
      "state": {
       "_dom_classes": [],
       "_model_module": "@jupyter-widgets/controls",
       "_model_module_version": "1.5.0",
       "_model_name": "HTMLModel",
       "_view_count": null,
       "_view_module": "@jupyter-widgets/controls",
       "_view_module_version": "1.5.0",
       "_view_name": "HTMLView",
       "description": "",
       "description_tooltip": null,
       "layout": "IPY_MODEL_508b4d650bbb4eda8e7e41708cbff13d",
       "placeholder": "​",
       "style": "IPY_MODEL_0acad15ee6ff4525b071a103a7c628bb",
       "value": "Training: 100%"
      }
     },
     "09d944b2d9a844eb9cc81edca6cdba43": {
      "model_module": "@jupyter-widgets/base",
      "model_module_version": "1.2.0",
      "model_name": "LayoutModel",
      "state": {
       "_model_module": "@jupyter-widgets/base",
       "_model_module_version": "1.2.0",
       "_model_name": "LayoutModel",
       "_view_count": null,
       "_view_module": "@jupyter-widgets/base",
       "_view_module_version": "1.2.0",
       "_view_name": "LayoutView",
       "align_content": null,
       "align_items": null,
       "align_self": null,
       "border": null,
       "bottom": null,
       "display": null,
       "flex": null,
       "flex_flow": null,
       "grid_area": null,
       "grid_auto_columns": null,
       "grid_auto_flow": null,
       "grid_auto_rows": null,
       "grid_column": null,
       "grid_gap": null,
       "grid_row": null,
       "grid_template_areas": null,
       "grid_template_columns": null,
       "grid_template_rows": null,
       "height": null,
       "justify_content": null,
       "justify_items": null,
       "left": null,
       "margin": null,
       "max_height": null,
       "max_width": null,
       "min_height": null,
       "min_width": null,
       "object_fit": null,
       "object_position": null,
       "order": null,
       "overflow": null,
       "overflow_x": null,
       "overflow_y": null,
       "padding": null,
       "right": null,
       "top": null,
       "visibility": null,
       "width": null
      }
     },
     "0acad15ee6ff4525b071a103a7c628bb": {
      "model_module": "@jupyter-widgets/controls",
      "model_module_version": "1.5.0",
      "model_name": "DescriptionStyleModel",
      "state": {
       "_model_module": "@jupyter-widgets/controls",
       "_model_module_version": "1.5.0",
       "_model_name": "DescriptionStyleModel",
       "_view_count": null,
       "_view_module": "@jupyter-widgets/base",
       "_view_module_version": "1.2.0",
       "_view_name": "StyleView",
       "description_width": ""
      }
     },
     "508b4d650bbb4eda8e7e41708cbff13d": {
      "model_module": "@jupyter-widgets/base",
      "model_module_version": "1.2.0",
      "model_name": "LayoutModel",
      "state": {
       "_model_module": "@jupyter-widgets/base",
       "_model_module_version": "1.2.0",
       "_model_name": "LayoutModel",
       "_view_count": null,
       "_view_module": "@jupyter-widgets/base",
       "_view_module_version": "1.2.0",
       "_view_name": "LayoutView",
       "align_content": null,
       "align_items": null,
       "align_self": null,
       "border": null,
       "bottom": null,
       "display": null,
       "flex": null,
       "flex_flow": null,
       "grid_area": null,
       "grid_auto_columns": null,
       "grid_auto_flow": null,
       "grid_auto_rows": null,
       "grid_column": null,
       "grid_gap": null,
       "grid_row": null,
       "grid_template_areas": null,
       "grid_template_columns": null,
       "grid_template_rows": null,
       "height": null,
       "justify_content": null,
       "justify_items": null,
       "left": null,
       "margin": null,
       "max_height": null,
       "max_width": null,
       "min_height": null,
       "min_width": null,
       "object_fit": null,
       "object_position": null,
       "order": null,
       "overflow": null,
       "overflow_x": null,
       "overflow_y": null,
       "padding": null,
       "right": null,
       "top": null,
       "visibility": null,
       "width": null
      }
     },
     "61b4f0f2eb234de6a45da3291d20f62e": {
      "model_module": "@jupyter-widgets/base",
      "model_module_version": "1.2.0",
      "model_name": "LayoutModel",
      "state": {
       "_model_module": "@jupyter-widgets/base",
       "_model_module_version": "1.2.0",
       "_model_name": "LayoutModel",
       "_view_count": null,
       "_view_module": "@jupyter-widgets/base",
       "_view_module_version": "1.2.0",
       "_view_name": "LayoutView",
       "align_content": null,
       "align_items": null,
       "align_self": null,
       "border": null,
       "bottom": null,
       "display": null,
       "flex": null,
       "flex_flow": null,
       "grid_area": null,
       "grid_auto_columns": null,
       "grid_auto_flow": null,
       "grid_auto_rows": null,
       "grid_column": null,
       "grid_gap": null,
       "grid_row": null,
       "grid_template_areas": null,
       "grid_template_columns": null,
       "grid_template_rows": null,
       "height": null,
       "justify_content": null,
       "justify_items": null,
       "left": null,
       "margin": null,
       "max_height": null,
       "max_width": null,
       "min_height": null,
       "min_width": null,
       "object_fit": null,
       "object_position": null,
       "order": null,
       "overflow": null,
       "overflow_x": null,
       "overflow_y": null,
       "padding": null,
       "right": null,
       "top": null,
       "visibility": null,
       "width": null
      }
     },
     "6977d34c18134969a616f5548adbd956": {
      "model_module": "@jupyter-widgets/controls",
      "model_module_version": "1.5.0",
      "model_name": "DescriptionStyleModel",
      "state": {
       "_model_module": "@jupyter-widgets/controls",
       "_model_module_version": "1.5.0",
       "_model_name": "DescriptionStyleModel",
       "_view_count": null,
       "_view_module": "@jupyter-widgets/base",
       "_view_module_version": "1.2.0",
       "_view_name": "StyleView",
       "description_width": ""
      }
     },
     "92c6411567774589985525e5b015ef33": {
      "model_module": "@jupyter-widgets/controls",
      "model_module_version": "1.5.0",
      "model_name": "FloatProgressModel",
      "state": {
       "_dom_classes": [],
       "_model_module": "@jupyter-widgets/controls",
       "_model_module_version": "1.5.0",
       "_model_name": "FloatProgressModel",
       "_view_count": null,
       "_view_module": "@jupyter-widgets/controls",
       "_view_module_version": "1.5.0",
       "_view_name": "ProgressView",
       "bar_style": "success",
       "description": "",
       "description_tooltip": null,
       "layout": "IPY_MODEL_09d944b2d9a844eb9cc81edca6cdba43",
       "max": 10,
       "min": 0,
       "orientation": "horizontal",
       "style": "IPY_MODEL_b8303ee4059a45a2a6f6b01317994bba",
       "value": 10
      }
     },
     "9d3daa94cf1a40e0b799c7aa2a0f5e13": {
      "model_module": "@jupyter-widgets/base",
      "model_module_version": "1.2.0",
      "model_name": "LayoutModel",
      "state": {
       "_model_module": "@jupyter-widgets/base",
       "_model_module_version": "1.2.0",
       "_model_name": "LayoutModel",
       "_view_count": null,
       "_view_module": "@jupyter-widgets/base",
       "_view_module_version": "1.2.0",
       "_view_name": "LayoutView",
       "align_content": null,
       "align_items": null,
       "align_self": null,
       "border": null,
       "bottom": null,
       "display": null,
       "flex": null,
       "flex_flow": null,
       "grid_area": null,
       "grid_auto_columns": null,
       "grid_auto_flow": null,
       "grid_auto_rows": null,
       "grid_column": null,
       "grid_gap": null,
       "grid_row": null,
       "grid_template_areas": null,
       "grid_template_columns": null,
       "grid_template_rows": null,
       "height": null,
       "justify_content": null,
       "justify_items": null,
       "left": null,
       "margin": null,
       "max_height": null,
       "max_width": null,
       "min_height": null,
       "min_width": null,
       "object_fit": null,
       "object_position": null,
       "order": null,
       "overflow": null,
       "overflow_x": null,
       "overflow_y": null,
       "padding": null,
       "right": null,
       "top": null,
       "visibility": null,
       "width": null
      }
     },
     "b3f6f4d381c744babfacd6bf8f55aa36": {
      "model_module": "@jupyter-widgets/controls",
      "model_module_version": "1.5.0",
      "model_name": "HBoxModel",
      "state": {
       "_dom_classes": [],
       "_model_module": "@jupyter-widgets/controls",
       "_model_module_version": "1.5.0",
       "_model_name": "HBoxModel",
       "_view_count": null,
       "_view_module": "@jupyter-widgets/controls",
       "_view_module_version": "1.5.0",
       "_view_name": "HBoxView",
       "box_style": "",
       "children": [
        "IPY_MODEL_07dff4ff198340cc94c81e1159b6215d",
        "IPY_MODEL_92c6411567774589985525e5b015ef33",
        "IPY_MODEL_dbe296658d864745ba3d72ae188afb20"
       ],
       "layout": "IPY_MODEL_61b4f0f2eb234de6a45da3291d20f62e"
      }
     },
     "b8303ee4059a45a2a6f6b01317994bba": {
      "model_module": "@jupyter-widgets/controls",
      "model_module_version": "1.5.0",
      "model_name": "ProgressStyleModel",
      "state": {
       "_model_module": "@jupyter-widgets/controls",
       "_model_module_version": "1.5.0",
       "_model_name": "ProgressStyleModel",
       "_view_count": null,
       "_view_module": "@jupyter-widgets/base",
       "_view_module_version": "1.2.0",
       "_view_name": "StyleView",
       "bar_color": null,
       "description_width": ""
      }
     },
     "dbe296658d864745ba3d72ae188afb20": {
      "model_module": "@jupyter-widgets/controls",
      "model_module_version": "1.5.0",
      "model_name": "HTMLModel",
      "state": {
       "_dom_classes": [],
       "_model_module": "@jupyter-widgets/controls",
       "_model_module_version": "1.5.0",
       "_model_name": "HTMLModel",
       "_view_count": null,
       "_view_module": "@jupyter-widgets/controls",
       "_view_module_version": "1.5.0",
       "_view_name": "HTMLView",
       "description": "",
       "description_tooltip": null,
       "layout": "IPY_MODEL_9d3daa94cf1a40e0b799c7aa2a0f5e13",
       "placeholder": "​",
       "style": "IPY_MODEL_6977d34c18134969a616f5548adbd956",
       "value": " 10/10 [31:49&lt;00:00, 188.33s/it]"
      }
     }
    },
    "version_major": 2,
    "version_minor": 0
   }
  }
 },
 "nbformat": 4,
 "nbformat_minor": 5
}
