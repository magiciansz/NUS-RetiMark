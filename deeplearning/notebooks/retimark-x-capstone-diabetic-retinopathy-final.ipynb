{
 "cells": [
  {
   "cell_type": "markdown",
   "id": "e7918747",
   "metadata": {
    "papermill": {
     "duration": 0.009202,
     "end_time": "2023-11-10T16:10:42.548692",
     "exception": false,
     "start_time": "2023-11-10T16:10:42.539490",
     "status": "completed"
    },
    "tags": []
   },
   "source": [
    "# Install Dependencies"
   ]
  },
  {
   "cell_type": "code",
   "execution_count": 1,
   "id": "dcc8febc",
   "metadata": {
    "execution": {
     "iopub.execute_input": "2023-11-10T16:10:42.567312Z",
     "iopub.status.busy": "2023-11-10T16:10:42.566911Z",
     "iopub.status.idle": "2023-11-10T16:10:56.100771Z",
     "shell.execute_reply": "2023-11-10T16:10:56.099618Z"
    },
    "papermill": {
     "duration": 13.546136,
     "end_time": "2023-11-10T16:10:56.103372",
     "exception": false,
     "start_time": "2023-11-10T16:10:42.557236",
     "status": "completed"
    },
    "tags": []
   },
   "outputs": [
    {
     "name": "stdout",
     "output_type": "stream",
     "text": [
      "Collecting torch_summary\r\n",
      "  Downloading torch_summary-1.4.5-py3-none-any.whl (16 kB)\r\n",
      "Installing collected packages: torch_summary\r\n",
      "Successfully installed torch_summary-1.4.5\r\n"
     ]
    }
   ],
   "source": [
    "!pip install torch_summary"
   ]
  },
  {
   "cell_type": "markdown",
   "id": "029da33a",
   "metadata": {
    "papermill": {
     "duration": 0.008499,
     "end_time": "2023-11-10T16:10:56.120874",
     "exception": false,
     "start_time": "2023-11-10T16:10:56.112375",
     "status": "completed"
    },
    "tags": []
   },
   "source": [
    "# Import Libraries"
   ]
  },
  {
   "cell_type": "code",
   "execution_count": 2,
   "id": "5a4559aa",
   "metadata": {
    "_cell_guid": "b1076dfc-b9ad-4769-8c92-a6c4dae69d19",
    "_uuid": "8f2839f25d086af736a60e9eeb907d3b93b6e0e5",
    "execution": {
     "iopub.execute_input": "2023-11-10T16:10:56.139520Z",
     "iopub.status.busy": "2023-11-10T16:10:56.139161Z",
     "iopub.status.idle": "2023-11-10T16:11:02.127804Z",
     "shell.execute_reply": "2023-11-10T16:11:02.126897Z"
    },
    "papermill": {
     "duration": 6.001011,
     "end_time": "2023-11-10T16:11:02.130379",
     "exception": false,
     "start_time": "2023-11-10T16:10:56.129368",
     "status": "completed"
    },
    "tags": []
   },
   "outputs": [
    {
     "name": "stderr",
     "output_type": "stream",
     "text": [
      "/opt/conda/lib/python3.10/site-packages/scipy/__init__.py:146: UserWarning: A NumPy version >=1.16.5 and <1.23.0 is required for this version of SciPy (detected version 1.23.5\n",
      "  warnings.warn(f\"A NumPy version >={np_minversion} and <{np_maxversion}\"\n"
     ]
    }
   ],
   "source": [
    "import torch\n",
    "import torch.nn.functional as F\n",
    "from torch import nn, optim\n",
    "from torchvision import transforms as T, models\n",
    "from torch.utils.data import DataLoader, Dataset\n",
    "from torchsummary import summary\n",
    "from tqdm.notebook import tqdm \n",
    "import zipfile\n",
    "\n",
    "from sklearn.metrics import classification_report, recall_score, accuracy_score, f1_score, precision_score, roc_curve, auc\n",
    "from sklearn.model_selection import train_test_split\n",
    "import seaborn as sns\n",
    "from PIL import Image\n",
    "import matplotlib.pyplot as plt\n",
    "from random import shuffle, randint, choice\n",
    "import numpy as np\n",
    "import cv2 as cv\n",
    "from glob import glob\n",
    "import pandas as pd\n",
    "import requests\n",
    "import concurrent.futures"
   ]
  },
  {
   "cell_type": "code",
   "execution_count": 3,
   "id": "fc34f90b",
   "metadata": {
    "execution": {
     "iopub.execute_input": "2023-11-10T16:11:02.149657Z",
     "iopub.status.busy": "2023-11-10T16:11:02.149128Z",
     "iopub.status.idle": "2023-11-10T16:11:03.255055Z",
     "shell.execute_reply": "2023-11-10T16:11:03.253803Z"
    },
    "papermill": {
     "duration": 1.118131,
     "end_time": "2023-11-10T16:11:03.257466",
     "exception": false,
     "start_time": "2023-11-10T16:11:02.139335",
     "status": "completed"
    },
    "tags": []
   },
   "outputs": [],
   "source": [
    "!mkdir saved_model\n",
    "sns.set_theme()\n",
    "device = 'cuda' if torch.cuda.is_available() else 'cpu'"
   ]
  },
  {
   "cell_type": "markdown",
   "id": "ef4cb551",
   "metadata": {
    "papermill": {
     "duration": 0.008098,
     "end_time": "2023-11-10T16:11:03.273982",
     "exception": false,
     "start_time": "2023-11-10T16:11:03.265884",
     "status": "completed"
    },
    "tags": []
   },
   "source": [
    "## Dataset"
   ]
  },
  {
   "cell_type": "code",
   "execution_count": 4,
   "id": "d6c3ff5d",
   "metadata": {
    "execution": {
     "iopub.execute_input": "2023-11-10T16:11:03.291754Z",
     "iopub.status.busy": "2023-11-10T16:11:03.291384Z",
     "iopub.status.idle": "2023-11-10T16:11:03.358506Z",
     "shell.execute_reply": "2023-11-10T16:11:03.357482Z"
    },
    "papermill": {
     "duration": 0.078917,
     "end_time": "2023-11-10T16:11:03.360644",
     "exception": false,
     "start_time": "2023-11-10T16:11:03.281727",
     "status": "completed"
    },
    "tags": []
   },
   "outputs": [
    {
     "data": {
      "text/html": [
       "<div>\n",
       "<style scoped>\n",
       "    .dataframe tbody tr th:only-of-type {\n",
       "        vertical-align: middle;\n",
       "    }\n",
       "\n",
       "    .dataframe tbody tr th {\n",
       "        vertical-align: top;\n",
       "    }\n",
       "\n",
       "    .dataframe thead th {\n",
       "        text-align: right;\n",
       "    }\n",
       "</style>\n",
       "<table border=\"1\" class=\"dataframe\">\n",
       "  <thead>\n",
       "    <tr style=\"text-align: right;\">\n",
       "      <th></th>\n",
       "      <th>image</th>\n",
       "      <th>level</th>\n",
       "    </tr>\n",
       "  </thead>\n",
       "  <tbody>\n",
       "    <tr>\n",
       "      <th>0</th>\n",
       "      <td>10_left</td>\n",
       "      <td>0</td>\n",
       "    </tr>\n",
       "    <tr>\n",
       "      <th>1</th>\n",
       "      <td>10_right</td>\n",
       "      <td>0</td>\n",
       "    </tr>\n",
       "    <tr>\n",
       "      <th>2</th>\n",
       "      <td>13_left</td>\n",
       "      <td>0</td>\n",
       "    </tr>\n",
       "    <tr>\n",
       "      <th>3</th>\n",
       "      <td>13_right</td>\n",
       "      <td>0</td>\n",
       "    </tr>\n",
       "    <tr>\n",
       "      <th>4</th>\n",
       "      <td>15_left</td>\n",
       "      <td>1</td>\n",
       "    </tr>\n",
       "  </tbody>\n",
       "</table>\n",
       "</div>"
      ],
      "text/plain": [
       "      image  level\n",
       "0   10_left      0\n",
       "1  10_right      0\n",
       "2   13_left      0\n",
       "3  13_right      0\n",
       "4   15_left      1"
      ]
     },
     "execution_count": 4,
     "metadata": {},
     "output_type": "execute_result"
    }
   ],
   "source": [
    "DIR = '/kaggle/input/diabetic-retinopathy-detection'\n",
    "\n",
    "with zipfile.ZipFile(f'{DIR}/trainLabels.csv.zip', 'r') as zip_ref:\n",
    "    with zip_ref.open('trainLabels.csv') as csv_file:\n",
    "        trainLabels_df = pd.read_csv(csv_file, index_col=0).reset_index()\n",
    "\n",
    "trainLabels_df.head()"
   ]
  },
  {
   "cell_type": "code",
   "execution_count": 5,
   "id": "5d4c4e4d",
   "metadata": {
    "execution": {
     "iopub.execute_input": "2023-11-10T16:11:03.378812Z",
     "iopub.status.busy": "2023-11-10T16:11:03.378482Z",
     "iopub.status.idle": "2023-11-10T16:11:03.390780Z",
     "shell.execute_reply": "2023-11-10T16:11:03.389559Z"
    },
    "papermill": {
     "duration": 0.023704,
     "end_time": "2023-11-10T16:11:03.392983",
     "exception": false,
     "start_time": "2023-11-10T16:11:03.369279",
     "status": "completed"
    },
    "tags": []
   },
   "outputs": [
    {
     "name": "stdout",
     "output_type": "stream",
     "text": [
      "Total: 35126\n",
      "Stage 0: 25810\n",
      "Stage 1: 2443\n",
      "Stage 2: 5292\n",
      "Stage 3: 873\n",
      "Stage 4: 708\n"
     ]
    }
   ],
   "source": [
    "print(\"Total:\", len(trainLabels_df))\n",
    "print(\"Stage 0:\", len(trainLabels_df[trainLabels_df[\"level\"]==0]))\n",
    "print(\"Stage 1:\", len(trainLabels_df[trainLabels_df[\"level\"]==1]))\n",
    "print(\"Stage 2:\", len(trainLabels_df[trainLabels_df[\"level\"]==2]))\n",
    "print(\"Stage 3:\", len(trainLabels_df[trainLabels_df[\"level\"]==3]))\n",
    "print(\"Stage 4:\", len(trainLabels_df[trainLabels_df[\"level\"]==4]))"
   ]
  },
  {
   "cell_type": "code",
   "execution_count": 6,
   "id": "45774630",
   "metadata": {
    "execution": {
     "iopub.execute_input": "2023-11-10T16:11:03.412631Z",
     "iopub.status.busy": "2023-11-10T16:11:03.412261Z",
     "iopub.status.idle": "2023-11-10T16:11:03.425302Z",
     "shell.execute_reply": "2023-11-10T16:11:03.424184Z"
    },
    "papermill": {
     "duration": 0.025988,
     "end_time": "2023-11-10T16:11:03.427606",
     "exception": false,
     "start_time": "2023-11-10T16:11:03.401618",
     "status": "completed"
    },
    "tags": []
   },
   "outputs": [
    {
     "name": "stdout",
     "output_type": "stream",
     "text": [
      "Diabetic negative: 25810\n",
      "Diabetic positive: 1581\n"
     ]
    }
   ],
   "source": [
    "trainLabels_df = trainLabels_df[trainLabels_df['level'] != 1]\n",
    "trainLabels_df = trainLabels_df[trainLabels_df['level'] != 2]\n",
    "trainLabels_df['level'] = np.where(trainLabels_df['level'] == 0, 0, 1)\n",
    "print(\"Diabetic negative:\", len(trainLabels_df[trainLabels_df[\"level\"]==0]))\n",
    "print(\"Diabetic positive:\", len(trainLabels_df[trainLabels_df[\"level\"]==1]))"
   ]
  },
  {
   "cell_type": "code",
   "execution_count": 7,
   "id": "10dd29b0",
   "metadata": {
    "execution": {
     "iopub.execute_input": "2023-11-10T16:11:03.446560Z",
     "iopub.status.busy": "2023-11-10T16:11:03.446265Z",
     "iopub.status.idle": "2023-11-10T16:11:03.463901Z",
     "shell.execute_reply": "2023-11-10T16:11:03.462520Z"
    },
    "papermill": {
     "duration": 0.029471,
     "end_time": "2023-11-10T16:11:03.466162",
     "exception": false,
     "start_time": "2023-11-10T16:11:03.436691",
     "status": "completed"
    },
    "tags": []
   },
   "outputs": [],
   "source": [
    "negative_df = trainLabels_df[trainLabels_df[\"level\"]==0].sample(1200)\n",
    "positive_df = trainLabels_df[trainLabels_df[\"level\"]==1].sample(1200)\n",
    "\n",
    "negative_train, negative_valid = train_test_split(negative_df, test_size=0.2, random_state=42)\n",
    "positive_train, positive_valid = train_test_split(positive_df, test_size=0.2, random_state=42)\n",
    "\n",
    "train_df = pd.concat([negative_train, positive_train]).sample(frac=1).reset_index()\n",
    "valid_df = pd.concat([negative_valid, positive_valid]).sample(frac=1).reset_index()\n"
   ]
  },
  {
   "cell_type": "code",
   "execution_count": 8,
   "id": "e4d747cb",
   "metadata": {
    "execution": {
     "iopub.execute_input": "2023-11-10T16:11:03.485213Z",
     "iopub.status.busy": "2023-11-10T16:11:03.484932Z",
     "iopub.status.idle": "2023-11-10T16:11:03.491294Z",
     "shell.execute_reply": "2023-11-10T16:11:03.490347Z"
    },
    "papermill": {
     "duration": 0.018176,
     "end_time": "2023-11-10T16:11:03.493294",
     "exception": false,
     "start_time": "2023-11-10T16:11:03.475118",
     "status": "completed"
    },
    "tags": []
   },
   "outputs": [],
   "source": [
    "def download_image(index, image_name, df, count, total):\n",
    "    filepath = f\"https://diabetic-retinopathy-images.s3.ap-southeast-1.amazonaws.com/images/{image_name}.jpeg\" \n",
    "    response = requests.get(filepath)\n",
    "    print(count, \"/\", total, response.reason, image_name, end=\"\\r\")\n",
    "    if response.status_code != 200:\n",
    "        df.drop(index, inplace=True)\n",
    "        return None\n",
    "    image_data = response.content\n",
    "    nparr = np.frombuffer(image_data, np.uint8)\n",
    "    image = cv.imdecode(nparr, cv.IMREAD_COLOR)\n",
    "    image = cv.cvtColor(image, cv.COLOR_BGR2GRAY)\n",
    "    df.at[index, 'imagefile'] = image"
   ]
  },
  {
   "cell_type": "code",
   "execution_count": 9,
   "id": "31b8e727",
   "metadata": {
    "execution": {
     "iopub.execute_input": "2023-11-10T16:11:03.512606Z",
     "iopub.status.busy": "2023-11-10T16:11:03.512295Z",
     "iopub.status.idle": "2023-11-10T16:21:22.116817Z",
     "shell.execute_reply": "2023-11-10T16:21:22.115597Z"
    },
    "papermill": {
     "duration": 618.617532,
     "end_time": "2023-11-10T16:21:22.119566",
     "exception": false,
     "start_time": "2023-11-10T16:11:03.502034",
     "status": "completed"
    },
    "tags": []
   },
   "outputs": [
    {
     "name": "stdout",
     "output_type": "stream",
     "text": [
      "Done!\n"
     ]
    }
   ],
   "source": [
    "train_df['imagefile'] = None\n",
    "total = len(train_df)\n",
    "count = 1\n",
    "\n",
    "for start in range(0, total, 1000):\n",
    "    end = min(start + 1000, total)\n",
    "\n",
    "    with concurrent.futures.ThreadPoolExecutor() as executor:\n",
    "        futures = []\n",
    "        for index, row in train_df[start:end].iterrows():\n",
    "            image_name = row['image']\n",
    "            future = executor.submit(download_image, index, image_name, train_df, count, total)\n",
    "            futures.append(future)\n",
    "            count += 1\n",
    "        concurrent.futures.wait(futures)\n",
    "    \n",
    "print(\"Done!\")"
   ]
  },
  {
   "cell_type": "code",
   "execution_count": 10,
   "id": "8bac3d5a",
   "metadata": {
    "execution": {
     "iopub.execute_input": "2023-11-10T16:21:22.346115Z",
     "iopub.status.busy": "2023-11-10T16:21:22.345725Z",
     "iopub.status.idle": "2023-11-10T16:23:56.936026Z",
     "shell.execute_reply": "2023-11-10T16:23:56.934830Z"
    },
    "papermill": {
     "duration": 154.704399,
     "end_time": "2023-11-10T16:23:56.938411",
     "exception": false,
     "start_time": "2023-11-10T16:21:22.234012",
     "status": "completed"
    },
    "tags": []
   },
   "outputs": [
    {
     "name": "stdout",
     "output_type": "stream",
     "text": [
      "Done!\n"
     ]
    }
   ],
   "source": [
    "valid_df['imagefile'] = None\n",
    "total = len(valid_df)\n",
    "count = 1\n",
    "\n",
    "for start in range(0, total, 1000):\n",
    "    end = min(start + 1000, total)\n",
    "\n",
    "    with concurrent.futures.ThreadPoolExecutor() as executor:\n",
    "        futures = []\n",
    "        for index, row in valid_df[start:end].iterrows():\n",
    "            image_name = row['image']\n",
    "            future = executor.submit(download_image, index, image_name, valid_df, count, total)\n",
    "            futures.append(future)\n",
    "            count += 1\n",
    "        concurrent.futures.wait(futures)\n",
    "\n",
    "print(\"Done!\")"
   ]
  },
  {
   "cell_type": "code",
   "execution_count": 11,
   "id": "2b9c312e",
   "metadata": {
    "execution": {
     "iopub.execute_input": "2023-11-10T16:23:57.207855Z",
     "iopub.status.busy": "2023-11-10T16:23:57.207143Z",
     "iopub.status.idle": "2023-11-10T16:23:57.213695Z",
     "shell.execute_reply": "2023-11-10T16:23:57.212568Z"
    },
    "papermill": {
     "duration": 0.143659,
     "end_time": "2023-11-10T16:23:57.215882",
     "exception": false,
     "start_time": "2023-11-10T16:23:57.072223",
     "status": "completed"
    },
    "tags": []
   },
   "outputs": [],
   "source": [
    "def crop_center(cv2_img, crop_width, crop_height):\n",
    "    img_height, img_width = cv2_img.shape[:2]\n",
    "    left = (img_width - crop_width) // 2\n",
    "    top = (img_height - crop_height) // 2\n",
    "    right = (img_width + crop_width) // 2\n",
    "    bottom = (img_height + crop_height) // 2\n",
    "    return cv2_img[top:bottom, left:right]"
   ]
  },
  {
   "cell_type": "code",
   "execution_count": 12,
   "id": "90de252a",
   "metadata": {
    "execution": {
     "iopub.execute_input": "2023-11-10T16:23:57.478128Z",
     "iopub.status.busy": "2023-11-10T16:23:57.477750Z",
     "iopub.status.idle": "2023-11-10T16:23:57.489596Z",
     "shell.execute_reply": "2023-11-10T16:23:57.488275Z"
    },
    "papermill": {
     "duration": 0.146308,
     "end_time": "2023-11-10T16:23:57.492548",
     "exception": false,
     "start_time": "2023-11-10T16:23:57.346240",
     "status": "completed"
    },
    "tags": []
   },
   "outputs": [],
   "source": [
    "class EyeDataset(Dataset):\n",
    "    def __init__(self, df, data_transform = None):\n",
    "        self.df = df\n",
    "        self.data_transform = data_transform\n",
    "        self.transform = T.Compose([\n",
    "            T.Resize([224, 224]),\n",
    "            T.ToTensor(),\n",
    "            T.Normalize(mean=(0.485, 0.456, 0.406),\n",
    "                       std=(0.229, 0.224, 0.225))\n",
    "        ])\n",
    "    \n",
    "    def __len__(self):\n",
    "        return len(self.df)\n",
    "    \n",
    "    def __getitem__(self, idx):\n",
    "        image = self.df.iloc[idx]['imagefile']\n",
    "        crop_size = min(image.shape[:2])\n",
    "        cropped_image = cv.cvtColor(crop_center(image, crop_size, crop_size), cv.COLOR_GRAY2RGB)\n",
    "        cropped_image = Image.fromarray(cropped_image)\n",
    "        \n",
    "        target = self.df.iloc[idx]['level']\n",
    "        \n",
    "        if self.data_transform is not None:\n",
    "            cropped_image = self.data_transform(cropped_image)\n",
    "        \n",
    "        return cropped_image, target\n",
    "    \n",
    "    def transform_img(self, img):\n",
    "        return self.transform(img)\n",
    "    \n",
    "    def collate_fn(self, data):\n",
    "        imgs, targets = zip(*data)\n",
    "        targets = torch.tensor(targets)\n",
    "        targets = targets.view(-1, 1).float()\n",
    "        targets = targets.to(device)\n",
    "        imgs = torch.stack(\n",
    "            [self.transform_img(img) for img in imgs], 0\n",
    "        ).to(device)\n",
    "        return imgs, targets"
   ]
  },
  {
   "cell_type": "code",
   "execution_count": 13,
   "id": "8a7945b7",
   "metadata": {
    "execution": {
     "iopub.execute_input": "2023-11-10T16:23:57.817172Z",
     "iopub.status.busy": "2023-11-10T16:23:57.816781Z",
     "iopub.status.idle": "2023-11-10T16:23:57.823135Z",
     "shell.execute_reply": "2023-11-10T16:23:57.822096Z"
    },
    "papermill": {
     "duration": 0.146616,
     "end_time": "2023-11-10T16:23:57.825239",
     "exception": false,
     "start_time": "2023-11-10T16:23:57.678623",
     "status": "completed"
    },
    "tags": []
   },
   "outputs": [],
   "source": [
    "data_transforms = T.Compose([\n",
    "    T.RandomHorizontalFlip(),\n",
    "    T.RandomRotation(15),\n",
    "    T.ColorJitter(brightness=0.2, contrast=0.2, saturation=0.2, hue=0.1),\n",
    "    T.RandomResizedCrop(224, scale=(0.8, 1.0))\n",
    "])"
   ]
  },
  {
   "cell_type": "code",
   "execution_count": 14,
   "id": "e187cc5c",
   "metadata": {
    "execution": {
     "iopub.execute_input": "2023-11-10T16:23:58.094551Z",
     "iopub.status.busy": "2023-11-10T16:23:58.094189Z",
     "iopub.status.idle": "2023-11-10T16:23:58.100648Z",
     "shell.execute_reply": "2023-11-10T16:23:58.099566Z"
    },
    "papermill": {
     "duration": 0.141003,
     "end_time": "2023-11-10T16:23:58.102809",
     "exception": false,
     "start_time": "2023-11-10T16:23:57.961806",
     "status": "completed"
    },
    "tags": []
   },
   "outputs": [],
   "source": [
    "train_ds = EyeDataset(train_df, data_transform=data_transforms)\n",
    "train_dl = DataLoader(train_ds, batch_size=64, shuffle=True,\n",
    "                      collate_fn=train_ds.collate_fn)\n",
    "\n",
    "valid_ds = EyeDataset(valid_df)\n",
    "valid_dl = DataLoader(valid_ds, batch_size=64,\n",
    "                      collate_fn=valid_ds.collate_fn)"
   ]
  },
  {
   "cell_type": "code",
   "execution_count": 15,
   "id": "4e6d13f7",
   "metadata": {
    "execution": {
     "iopub.execute_input": "2023-11-10T16:23:58.370128Z",
     "iopub.status.busy": "2023-11-10T16:23:58.369701Z",
     "iopub.status.idle": "2023-11-10T16:23:58.377561Z",
     "shell.execute_reply": "2023-11-10T16:23:58.376550Z"
    },
    "papermill": {
     "duration": 0.144771,
     "end_time": "2023-11-10T16:23:58.379727",
     "exception": false,
     "start_time": "2023-11-10T16:23:58.234956",
     "status": "completed"
    },
    "tags": []
   },
   "outputs": [],
   "source": [
    "class EyeClassifier(nn.Module):\n",
    "    def __init__(self, pretrained=True):\n",
    "        super().__init__()\n",
    "        \n",
    "        self.model = models.resnet50(pretrained=pretrained, progress=pretrained)\n",
    "    \n",
    "        for param in self.model.parameters():\n",
    "            param.requires_grad = True\n",
    "        \n",
    "        num_features = self.model.fc.in_features\n",
    "\n",
    "        self.model.fc = nn.Sequential(\n",
    "            nn.Flatten(),\n",
    "            nn.BatchNorm1d(num_features),\n",
    "            nn.ReLU(),\n",
    "            nn.Dropout(0.5),\n",
    "            nn.Linear(num_features, 1),\n",
    "            nn.Sigmoid()\n",
    "        )\n",
    "\n",
    "    def forward(self, x):\n",
    "        x = self.model(x)\n",
    "        return x"
   ]
  },
  {
   "cell_type": "code",
   "execution_count": 16,
   "id": "1de31142",
   "metadata": {
    "execution": {
     "iopub.execute_input": "2023-11-10T16:23:58.674599Z",
     "iopub.status.busy": "2023-11-10T16:23:58.674205Z",
     "iopub.status.idle": "2023-11-10T16:24:07.976414Z",
     "shell.execute_reply": "2023-11-10T16:24:07.975172Z"
    },
    "papermill": {
     "duration": 9.44343,
     "end_time": "2023-11-10T16:24:07.979547",
     "exception": false,
     "start_time": "2023-11-10T16:23:58.536117",
     "status": "completed"
    },
    "tags": []
   },
   "outputs": [
    {
     "name": "stderr",
     "output_type": "stream",
     "text": [
      "/opt/conda/lib/python3.10/site-packages/torchvision/models/_utils.py:208: UserWarning: The parameter 'pretrained' is deprecated since 0.13 and may be removed in the future, please use 'weights' instead.\n",
      "  warnings.warn(\n",
      "/opt/conda/lib/python3.10/site-packages/torchvision/models/_utils.py:223: UserWarning: Arguments other than a weight enum or `None` for 'weights' are deprecated since 0.13 and may be removed in the future. The current behavior is equivalent to passing `weights=ResNet50_Weights.IMAGENET1K_V1`. You can also use `weights=ResNet50_Weights.DEFAULT` to get the most up-to-date weights.\n",
      "  warnings.warn(msg)\n",
      "Downloading: \"https://download.pytorch.org/models/resnet50-0676ba61.pth\" to /root/.cache/torch/hub/checkpoints/resnet50-0676ba61.pth\n",
      "100%|██████████| 97.8M/97.8M [00:00<00:00, 227MB/s]\n"
     ]
    },
    {
     "name": "stdout",
     "output_type": "stream",
     "text": [
      "==========================================================================================\n",
      "Layer (type:depth-idx)                   Output Shape              Param #\n",
      "==========================================================================================\n",
      "├─ResNet: 1-1                            [-1, 1]                   --\n",
      "|    └─Conv2d: 2-1                       [-1, 64, 112, 112]        9,408\n",
      "|    └─BatchNorm2d: 2-2                  [-1, 64, 112, 112]        128\n",
      "|    └─ReLU: 2-3                         [-1, 64, 112, 112]        --\n",
      "|    └─MaxPool2d: 2-4                    [-1, 64, 56, 56]          --\n",
      "|    └─Sequential: 2-5                   [-1, 256, 56, 56]         --\n",
      "|    |    └─Bottleneck: 3-1              [-1, 256, 56, 56]         75,008\n",
      "|    |    └─Bottleneck: 3-2              [-1, 256, 56, 56]         70,400\n",
      "|    |    └─Bottleneck: 3-3              [-1, 256, 56, 56]         70,400\n",
      "|    └─Sequential: 2-6                   [-1, 512, 28, 28]         --\n",
      "|    |    └─Bottleneck: 3-4              [-1, 512, 28, 28]         379,392\n",
      "|    |    └─Bottleneck: 3-5              [-1, 512, 28, 28]         280,064\n",
      "|    |    └─Bottleneck: 3-6              [-1, 512, 28, 28]         280,064\n",
      "|    |    └─Bottleneck: 3-7              [-1, 512, 28, 28]         280,064\n",
      "|    └─Sequential: 2-7                   [-1, 1024, 14, 14]        --\n",
      "|    |    └─Bottleneck: 3-8              [-1, 1024, 14, 14]        1,512,448\n",
      "|    |    └─Bottleneck: 3-9              [-1, 1024, 14, 14]        1,117,184\n",
      "|    |    └─Bottleneck: 3-10             [-1, 1024, 14, 14]        1,117,184\n",
      "|    |    └─Bottleneck: 3-11             [-1, 1024, 14, 14]        1,117,184\n",
      "|    |    └─Bottleneck: 3-12             [-1, 1024, 14, 14]        1,117,184\n",
      "|    |    └─Bottleneck: 3-13             [-1, 1024, 14, 14]        1,117,184\n",
      "|    └─Sequential: 2-8                   [-1, 2048, 7, 7]          --\n",
      "|    |    └─Bottleneck: 3-14             [-1, 2048, 7, 7]          6,039,552\n",
      "|    |    └─Bottleneck: 3-15             [-1, 2048, 7, 7]          4,462,592\n",
      "|    |    └─Bottleneck: 3-16             [-1, 2048, 7, 7]          4,462,592\n",
      "|    └─AdaptiveAvgPool2d: 2-9            [-1, 2048, 1, 1]          --\n",
      "|    └─Sequential: 2-10                  [-1, 1]                   --\n",
      "|    |    └─Flatten: 3-17                [-1, 2048]                --\n",
      "|    |    └─BatchNorm1d: 3-18            [-1, 2048]                4,096\n",
      "|    |    └─ReLU: 3-19                   [-1, 2048]                --\n",
      "|    |    └─Dropout: 3-20                [-1, 2048]                --\n",
      "|    |    └─Linear: 3-21                 [-1, 1]                   2,049\n",
      "|    |    └─Sigmoid: 3-22                [-1, 1]                   --\n",
      "==========================================================================================\n",
      "Total params: 23,514,177\n",
      "Trainable params: 23,514,177\n",
      "Non-trainable params: 0\n",
      "Total mult-adds (G): 3.80\n",
      "==========================================================================================\n",
      "Input size (MB): 0.57\n",
      "Forward/backward pass size (MB): 146.63\n",
      "Params size (MB): 89.70\n",
      "Estimated Total Size (MB): 236.91\n",
      "==========================================================================================\n"
     ]
    }
   ],
   "source": [
    "classifier = EyeClassifier(pretrained=True)\n",
    "_ = summary(classifier, torch.ones(1,3,224,224))"
   ]
  },
  {
   "cell_type": "code",
   "execution_count": 17,
   "id": "71d324d1",
   "metadata": {
    "execution": {
     "iopub.execute_input": "2023-11-10T16:24:08.256466Z",
     "iopub.status.busy": "2023-11-10T16:24:08.255461Z",
     "iopub.status.idle": "2023-11-10T16:24:08.264899Z",
     "shell.execute_reply": "2023-11-10T16:24:08.263885Z"
    },
    "papermill": {
     "duration": 0.147326,
     "end_time": "2023-11-10T16:24:08.267018",
     "exception": false,
     "start_time": "2023-11-10T16:24:08.119692",
     "status": "completed"
    },
    "tags": []
   },
   "outputs": [],
   "source": [
    "def train(data, classifier, optimizer, loss_fn):\n",
    "    classifier.train()\n",
    "    imgs, targets = data\n",
    "    outputs = classifier(imgs.to(device))\n",
    "    loss = loss_fn(outputs.to(device), targets.to(device))\n",
    "    optimizer.zero_grad()\n",
    "    loss.backward()\n",
    "    optimizer.step()\n",
    "    \n",
    "    outputs = outputs.cpu().detach().tolist()\n",
    "    targets = targets.cpu().detach().tolist()\n",
    "    preds = list(map(lambda x: int(x[0] > 0.5), outputs))\n",
    "    \n",
    "    fake_recall_score = recall_score(targets, preds, pos_label=0,zero_division=0)\n",
    "    fake_accuracy_score = accuracy_score(targets, preds)\n",
    "    fake_precision_score = precision_score(targets, preds, pos_label=0,zero_division=0)\n",
    "    fake_f1_score = f1_score(targets, preds, pos_label=0,zero_division=0)\n",
    "    fpr, tpr, thresholds = roc_curve(targets, outputs)\n",
    "    roc_auc = auc(fpr, tpr)\n",
    "    \n",
    "    return loss.cpu().detach().item(), fake_recall_score, fake_accuracy_score, fake_precision_score, fake_f1_score, fpr, tpr, roc_auc"
   ]
  },
  {
   "cell_type": "code",
   "execution_count": 18,
   "id": "dd4264ca",
   "metadata": {
    "execution": {
     "iopub.execute_input": "2023-11-10T16:24:08.563434Z",
     "iopub.status.busy": "2023-11-10T16:24:08.563082Z",
     "iopub.status.idle": "2023-11-10T16:24:08.572601Z",
     "shell.execute_reply": "2023-11-10T16:24:08.571558Z"
    },
    "papermill": {
     "duration": 0.172108,
     "end_time": "2023-11-10T16:24:08.574845",
     "exception": false,
     "start_time": "2023-11-10T16:24:08.402737",
     "status": "completed"
    },
    "tags": []
   },
   "outputs": [],
   "source": [
    "@torch.no_grad()\n",
    "def validate(data, classifier, loss_fn):\n",
    "    classifier.eval()\n",
    "    imgs, targets = data\n",
    "    outputs = classifier(imgs.to(device))\n",
    "    loss = loss_fn(outputs.to(device), targets.to(device))\n",
    "    \n",
    "    outputs = outputs.cpu().detach().tolist()\n",
    "    targets = targets.cpu().detach().tolist()\n",
    "    preds = list(map(lambda x: int(x[0] > 0.5), outputs))\n",
    "    fake_recall_score = recall_score(targets, preds, pos_label=0, zero_division=0)\n",
    "    fake_accuracy_score = accuracy_score(targets, preds)\n",
    "    fake_precision_score = precision_score(targets, preds, pos_label=0,zero_division=0)\n",
    "    fake_f1_score = f1_score(targets, preds, pos_label=0,zero_division=0)\n",
    "    fpr, tpr, thresholds = roc_curve(targets, outputs)\n",
    "    roc_auc = auc(fpr, tpr)\n",
    "    \n",
    "    return loss.cpu().detach().item(), fake_recall_score, fake_accuracy_score, fake_precision_score, fake_f1_score, fpr, tpr, roc_auc"
   ]
  },
  {
   "cell_type": "code",
   "execution_count": 19,
   "id": "ee9af0f3",
   "metadata": {
    "execution": {
     "iopub.execute_input": "2023-11-10T16:24:08.846213Z",
     "iopub.status.busy": "2023-11-10T16:24:08.845835Z",
     "iopub.status.idle": "2023-11-10T16:24:09.468472Z",
     "shell.execute_reply": "2023-11-10T16:24:09.467214Z"
    },
    "papermill": {
     "duration": 0.763066,
     "end_time": "2023-11-10T16:24:09.471482",
     "exception": false,
     "start_time": "2023-11-10T16:24:08.708416",
     "status": "completed"
    },
    "tags": []
   },
   "outputs": [],
   "source": [
    "classifier = EyeClassifier(pretrained=True).to(device)\n",
    "loss_fn = nn.BCELoss().to(device)\n",
    "optimizer = optim.Adam(classifier.parameters(), lr=1e-3, weight_decay=1e-3)\n",
    "scheduler = optim.lr_scheduler.StepLR(optimizer, step_size=5,\n",
    "                                      gamma=0.25)\n",
    "best_recall_score = 0\n",
    "n_epochs = 15\n",
    "xticks = list(i+1 for i in range(n_epochs))"
   ]
  },
  {
   "cell_type": "code",
   "execution_count": 20,
   "id": "fdff521d",
   "metadata": {
    "execution": {
     "iopub.execute_input": "2023-11-10T16:24:09.746224Z",
     "iopub.status.busy": "2023-11-10T16:24:09.745836Z",
     "iopub.status.idle": "2023-11-10T19:21:11.807238Z",
     "shell.execute_reply": "2023-11-10T19:21:11.806128Z"
    },
    "papermill": {
     "duration": 10622.202361,
     "end_time": "2023-11-10T19:21:11.811558",
     "exception": false,
     "start_time": "2023-11-10T16:24:09.609197",
     "status": "completed"
    },
    "tags": []
   },
   "outputs": [
    {
     "data": {
      "application/vnd.jupyter.widget-view+json": {
       "model_id": "7a96685ff55f43a9af6c60e387d98055",
       "version_major": 2,
       "version_minor": 0
      },
      "text/plain": [
       "Training:   0%|          | 0/15 [00:00<?, ?it/s]"
      ]
     },
     "metadata": {},
     "output_type": "display_data"
    },
    {
     "name": "stdout",
     "output_type": "stream",
     "text": [
      "epoch: 1 \ttrain loss: 0.558 \ttrain recall score: 0.763 \ttrain accuracy score: 0.739 \ttrain precision score: 0.732 \ttrain f1 score: 0.741 \ttrain auc: 0.821 \tvalid loss: 5.751 \tvalid recall score: 0.049 \tvalid accuracy score: 0.531 \tvalid precision score: 0.812 \tvalid f1 score: 0.091 \tvalid auc: 0.808\n",
      "epoch: 2 \ttrain loss: 0.380 \ttrain recall score: 0.842 \ttrain accuracy score: 0.832 \ttrain precision score: 0.828 \ttrain f1 score: 0.831 \ttrain auc: 0.914 \tvalid loss: 3.728 \tvalid recall score: 0.929 \tvalid accuracy score: 0.639 \tvalid precision score: 0.580 \tvalid f1 score: 0.711 \tvalid auc: 0.621\n",
      "epoch: 3 \ttrain loss: 0.346 \ttrain recall score: 0.863 \ttrain accuracy score: 0.852 \ttrain precision score: 0.849 \ttrain f1 score: 0.853 \ttrain auc: 0.929 \tvalid loss: 0.458 \tvalid recall score: 0.787 \tvalid accuracy score: 0.783 \tvalid precision score: 0.762 \tvalid f1 score: 0.771 \tvalid auc: 0.873\n",
      "epoch: 4 \ttrain loss: 0.353 \ttrain recall score: 0.871 \ttrain accuracy score: 0.853 \ttrain precision score: 0.844 \ttrain f1 score: 0.854 \ttrain auc: 0.928 \tvalid loss: 0.454 \tvalid recall score: 0.966 \tvalid accuracy score: 0.809 \tvalid precision score: 0.728 \tvalid f1 score: 0.829 \tvalid auc: 0.921\n",
      "epoch: 5 \ttrain loss: 0.313 \ttrain recall score: 0.867 \ttrain accuracy score: 0.867 \ttrain precision score: 0.873 \ttrain f1 score: 0.866 \ttrain auc: 0.943 \tvalid loss: 0.553 \tvalid recall score: 0.979 \tvalid accuracy score: 0.717 \tvalid precision score: 0.634 \tvalid f1 score: 0.767 \tvalid auc: 0.904\n",
      "epoch: 6 \ttrain loss: 0.279 \ttrain recall score: 0.900 \ttrain accuracy score: 0.884 \ttrain precision score: 0.872 \ttrain f1 score: 0.883 \ttrain auc: 0.956 \tvalid loss: 0.282 \tvalid recall score: 0.900 \tvalid accuracy score: 0.898 \tvalid precision score: 0.889 \tvalid f1 score: 0.894 \tvalid auc: 0.950\n",
      "epoch: 7 \ttrain loss: 0.251 \ttrain recall score: 0.907 \ttrain accuracy score: 0.898 \ttrain precision score: 0.894 \ttrain f1 score: 0.898 \ttrain auc: 0.965 \tvalid loss: 0.328 \tvalid recall score: 0.899 \tvalid accuracy score: 0.873 \tvalid precision score: 0.846 \tvalid f1 score: 0.871 \tvalid auc: 0.939\n",
      "epoch: 8 \ttrain loss: 0.251 \ttrain recall score: 0.913 \ttrain accuracy score: 0.902 \ttrain precision score: 0.896 \ttrain f1 score: 0.902 \ttrain auc: 0.967 \tvalid loss: 0.297 \tvalid recall score: 0.878 \tvalid accuracy score: 0.871 \tvalid precision score: 0.854 \tvalid f1 score: 0.865 \tvalid auc: 0.948\n",
      "epoch: 9 \ttrain loss: 0.213 \ttrain recall score: 0.927 \ttrain accuracy score: 0.915 \ttrain precision score: 0.907 \ttrain f1 score: 0.916 \ttrain auc: 0.974 \tvalid loss: 0.299 \tvalid recall score: 0.890 \tvalid accuracy score: 0.887 \tvalid precision score: 0.881 \tvalid f1 score: 0.885 \tvalid auc: 0.944\n",
      "epoch: 10 \ttrain loss: 0.220 \ttrain recall score: 0.936 \ttrain accuracy score: 0.912 \ttrain precision score: 0.897 \ttrain f1 score: 0.913 \ttrain auc: 0.974 \tvalid loss: 0.324 \tvalid recall score: 0.958 \tvalid accuracy score: 0.889 \tvalid precision score: 0.836 \tvalid f1 score: 0.892 \tvalid auc: 0.947\n",
      "epoch: 11 \ttrain loss: 0.199 \ttrain recall score: 0.931 \ttrain accuracy score: 0.922 \ttrain precision score: 0.915 \ttrain f1 score: 0.922 \ttrain auc: 0.979 \tvalid loss: 0.272 \tvalid recall score: 0.942 \tvalid accuracy score: 0.900 \tvalid precision score: 0.864 \tvalid f1 score: 0.901 \tvalid auc: 0.959\n",
      "epoch: 12 \ttrain loss: 0.179 \ttrain recall score: 0.933 \ttrain accuracy score: 0.931 \ttrain precision score: 0.931 \ttrain f1 score: 0.930 \ttrain auc: 0.982 \tvalid loss: 0.257 \tvalid recall score: 0.911 \tvalid accuracy score: 0.900 \tvalid precision score: 0.885 \tvalid f1 score: 0.897 \tvalid auc: 0.959\n",
      "epoch: 13 \ttrain loss: 0.176 \ttrain recall score: 0.933 \ttrain accuracy score: 0.930 \ttrain precision score: 0.931 \ttrain f1 score: 0.929 \ttrain auc: 0.985 \tvalid loss: 0.251 \tvalid recall score: 0.886 \tvalid accuracy score: 0.902 \tvalid precision score: 0.908 \tvalid f1 score: 0.896 \tvalid auc: 0.960\n",
      "epoch: 14 \ttrain loss: 0.168 \ttrain recall score: 0.935 \ttrain accuracy score: 0.932 \ttrain precision score: 0.930 \ttrain f1 score: 0.931 \ttrain auc: 0.984 \tvalid loss: 0.266 \tvalid recall score: 0.919 \tvalid accuracy score: 0.904 \tvalid precision score: 0.886 \tvalid f1 score: 0.901 \tvalid auc: 0.961\n",
      "epoch: 15 \ttrain loss: 0.178 \ttrain recall score: 0.941 \ttrain accuracy score: 0.929 \ttrain precision score: 0.922 \ttrain f1 score: 0.929 \ttrain auc: 0.986 \tvalid loss: 0.278 \tvalid recall score: 0.940 \tvalid accuracy score: 0.891 \tvalid precision score: 0.847 \tvalid f1 score: 0.890 \tvalid auc: 0.959\n"
     ]
    }
   ],
   "source": [
    "mem = {\n",
    "    'train_loss': [],\n",
    "    'train_recall_score': [],\n",
    "    'train_accuracy_score': [],\n",
    "    'train_precision_score': [],\n",
    "    'train_f1_score': [],\n",
    "    'train_tpr': [],\n",
    "    'train_fpr': [],\n",
    "    'train_auc': [],\n",
    "    'valid_loss': [],\n",
    "    'valid_recall_score': [],\n",
    "    'valid_accuracy_score': [],\n",
    "    'valid_precision_score': [],\n",
    "    'valid_f1_score': [],\n",
    "    'valid_tpr': [],\n",
    "    'valid_fpr': [],\n",
    "    'valid_auc': [],\n",
    "}\n",
    "\n",
    "for epoch in tqdm(range(n_epochs), desc='Training'):\n",
    "    n_batch = len(train_dl)\n",
    "    train_losses, train_recall_scores, train_accuracy_scores, train_precision_scores, train_f1_scores, train_tprs, train_fprs, train_aucs = [], [], [], [], [], [], [], []\n",
    "    for i, data in enumerate(train_dl):\n",
    "        train_loss, train_recall_score, train_accuracy_score, train_precision_score, train_f1_score, train_tpr, train_fpr, train_auc = train(data, classifier, optimizer, loss_fn)\n",
    "        train_losses.append(train_loss)\n",
    "        train_recall_scores.append(train_recall_score)\n",
    "        train_accuracy_scores.append(train_accuracy_score)\n",
    "        train_precision_scores.append(train_precision_score)\n",
    "        train_f1_scores.append(train_f1_score)\n",
    "        train_tprs.append(train_tpr)\n",
    "        train_fprs.append(train_fpr)\n",
    "        train_aucs.append(train_auc)\n",
    "        pos = epoch + ((i+1)/n_batch)\n",
    "        print(\n",
    "            'epoch:', \"%.3f\" % pos,\n",
    "            '\\ttrain loss:', \"%.3f\" % train_loss,\n",
    "            '\\ttrain recall score:', \"%.3f\" % train_recall_score, \n",
    "            '\\ttrain accuracy score:', \"%.3f\" % train_accuracy_score, \n",
    "            '\\ttrain precision score:', \"%.3f\" % train_precision_score, \n",
    "            '\\ttrain f1 score:', \"%.3f\" % train_f1_score, \n",
    "            '\\ttrain auc:', \"%.3f\" % train_auc, \n",
    "            end='\\r'\n",
    "        )\n",
    "        \n",
    "    mem['train_loss'].append(np.mean(train_losses))\n",
    "    mem['train_recall_score'].append(np.mean(train_recall_scores))\n",
    "    mem['train_accuracy_score'].append(np.mean(train_accuracy_scores))\n",
    "    mem['train_precision_score'].append(np.mean(train_precision_scores))\n",
    "    mem['train_f1_score'].append(np.mean(train_f1_scores))\n",
    "    mem['train_tpr'].append(np.concatenate(train_fprs))\n",
    "    mem['train_fpr'].append(np.concatenate(train_tprs))\n",
    "    mem['train_auc'].append(np.mean(train_aucs))\n",
    "    \n",
    "    n_batch = len(valid_dl)\n",
    "    valid_losses, valid_recall_scores, valid_f1_scores, valid_accuracy_scores, valid_precision_scores, valid_tprs, valid_fprs, valid_aucs =  [], [], [], [], [], [], [], []\n",
    "    for i, data in enumerate(valid_dl):\n",
    "        valid_loss, valid_recall_score, valid_accuracy_score, valid_precision_score, valid_f1_score, valid_tpr, valid_fpr, valid_auc = validate(data, classifier, loss_fn)\n",
    "        valid_losses.append(valid_loss)\n",
    "        valid_recall_scores.append(valid_recall_score)\n",
    "        valid_accuracy_scores.append(valid_accuracy_score)\n",
    "        valid_precision_scores.append(valid_precision_score)\n",
    "        valid_f1_scores.append(valid_f1_score)\n",
    "        valid_tprs.append(valid_tpr)\n",
    "        valid_fprs.append(valid_fpr)\n",
    "        valid_aucs.append(valid_auc)\n",
    "        pos = epoch + ((i+1)/n_batch)\n",
    "        print(\n",
    "            'epoch:', \"%.3f\" % pos,\n",
    "            '\\tvalid loss:', \"%.3f\" % valid_loss,\n",
    "            '\\tvalid recall score:', \"%.3f\" % valid_recall_score, \n",
    "            '\\tvalid accuracy score:', \"%.3f\" % valid_accuracy_score, \n",
    "            '\\tvalid precision score:', \"%.3f\" % valid_precision_score, \n",
    "            '\\tvalid f1 score:', \"%.3f\" % valid_f1_score, \n",
    "            '\\tvalid auc:', \"%.3f\" % valid_auc, \n",
    "            end='\\r'\n",
    "        )\n",
    "    \n",
    "    cur_recall_score = np.mean(valid_recall_scores)\n",
    "    mem['valid_loss'].append(np.mean(valid_losses))\n",
    "    mem['valid_recall_score'].append(np.mean(valid_recall_scores))\n",
    "    mem['valid_accuracy_score'].append(np.mean(valid_accuracy_scores))\n",
    "    mem['valid_precision_score'].append(np.mean(valid_precision_scores))\n",
    "    mem['valid_f1_score'].append(np.mean(valid_f1_scores))\n",
    "    mem['valid_tpr'].append(np.concatenate(valid_fprs))\n",
    "    mem['valid_fpr'].append(np.concatenate(valid_tprs))\n",
    "    mem['valid_auc'].append(np.mean(valid_aucs))\n",
    "    \n",
    "    print(\n",
    "        'epoch:', epoch+1,\n",
    "        '\\ttrain loss:', \"%.3f\" % mem['train_loss'][-1],\n",
    "        '\\ttrain recall score:', \"%.3f\" % mem['train_recall_score'][-1],\n",
    "        '\\ttrain accuracy score:', \"%.3f\" % mem['train_accuracy_score'][-1],\n",
    "        '\\ttrain precision score:', \"%.3f\" % mem['train_precision_score'][-1],\n",
    "        '\\ttrain f1 score:', \"%.3f\" % mem['train_f1_score'][-1],\n",
    "        '\\ttrain auc:', \"%.3f\" % mem['train_auc'][-1],\n",
    "        '\\tvalid loss:', \"%.3f\" % mem['valid_loss'][-1],\n",
    "        '\\tvalid recall score:', \"%.3f\" % mem['valid_recall_score'][-1],\n",
    "        '\\tvalid accuracy score:', \"%.3f\" % mem['valid_accuracy_score'][-1],\n",
    "        '\\tvalid precision score:', \"%.3f\" % mem['valid_precision_score'][-1],\n",
    "        '\\tvalid f1 score:', \"%.3f\" % mem['valid_f1_score'][-1],\n",
    "        '\\tvalid auc:', \"%.3f\" % mem['valid_auc'][-1],\n",
    "    )\n",
    "    \n",
    "    if epoch > 5 and best_recall_score < cur_recall_score:\n",
    "        best_recall_score = cur_recall_score\n",
    "        torch.save(classifier.state_dict(), './saved_model/diabetic_state_dict.pth')\n",
    "        torch.save(classifier, './saved_model/diabetic_model.pth')\n",
    "        \n",
    "    scheduler.step()"
   ]
  },
  {
   "cell_type": "code",
   "execution_count": 21,
   "id": "ed82754d",
   "metadata": {
    "execution": {
     "iopub.execute_input": "2023-11-10T19:21:12.200216Z",
     "iopub.status.busy": "2023-11-10T19:21:12.199831Z",
     "iopub.status.idle": "2023-11-10T19:21:12.678051Z",
     "shell.execute_reply": "2023-11-10T19:21:12.676948Z"
    },
    "papermill": {
     "duration": 0.673262,
     "end_time": "2023-11-10T19:21:12.680548",
     "exception": false,
     "start_time": "2023-11-10T19:21:12.007286",
     "status": "completed"
    },
    "tags": []
   },
   "outputs": [
    {
     "data": {
      "image/png": "[encoded data removed]",
      "text/plain": [
       "<Figure size 640x480 with 1 Axes>"
      ]
     },
     "metadata": {},
     "output_type": "display_data"
    }
   ],
   "source": [
    "plt.plot(xticks, mem['train_loss'])\n",
    "plt.plot(xticks, mem['valid_loss'])\n",
    "plt.legend(['train', 'valid'])\n",
    "plt.xlabel('epoch')\n",
    "plt.title('loss')\n",
    "plt.show()"
   ]
  },
  {
   "cell_type": "code",
   "execution_count": 22,
   "id": "6de5e74d",
   "metadata": {
    "execution": {
     "iopub.execute_input": "2023-11-10T19:21:13.042739Z",
     "iopub.status.busy": "2023-11-10T19:21:13.042315Z",
     "iopub.status.idle": "2023-11-10T19:21:13.451332Z",
     "shell.execute_reply": "2023-11-10T19:21:13.450278Z"
    },
    "papermill": {
     "duration": 0.590984,
     "end_time": "2023-11-10T19:21:13.453870",
     "exception": false,
     "start_time": "2023-11-10T19:21:12.862886",
     "status": "completed"
    },
    "tags": []
   },
   "outputs": [
    {
     "data": {
      "image/png": "[encoded data removed]",
      "text/plain": [
       "<Figure size 640x480 with 1 Axes>"
      ]
     },
     "metadata": {},
     "output_type": "display_data"
    }
   ],
   "source": [
    "plt.plot(xticks, mem['train_recall_score'])\n",
    "plt.plot(xticks, mem['valid_recall_score'])\n",
    "plt.legend(['train', 'valid'])\n",
    "plt.xlabel('epoch')\n",
    "plt.title('recall score')\n",
    "plt.show()"
   ]
  },
  {
   "cell_type": "code",
   "execution_count": 23,
   "id": "b79fd037",
   "metadata": {
    "execution": {
     "iopub.execute_input": "2023-11-10T19:21:13.828034Z",
     "iopub.status.busy": "2023-11-10T19:21:13.827619Z",
     "iopub.status.idle": "2023-11-10T19:21:14.267885Z",
     "shell.execute_reply": "2023-11-10T19:21:14.266877Z"
    },
    "papermill": {
     "duration": 0.631056,
     "end_time": "2023-11-10T19:21:14.270167",
     "exception": false,
     "start_time": "2023-11-10T19:21:13.639111",
     "status": "completed"
    },
    "tags": []
   },
   "outputs": [
    {
     "data": {
      "image/png": "[encoded data removed]",
      "text/plain": [
       "<Figure size 640x480 with 1 Axes>"
      ]
     },
     "metadata": {},
     "output_type": "display_data"
    }
   ],
   "source": [
    "plt.plot(xticks, mem['train_accuracy_score'])\n",
    "plt.plot(xticks, mem['valid_accuracy_score'])\n",
    "plt.legend(['train', 'valid'])\n",
    "plt.xlabel('epoch')\n",
    "plt.title('accuracy score')\n",
    "plt.show()"
   ]
  },
  {
   "cell_type": "code",
   "execution_count": 24,
   "id": "7c4bddf7",
   "metadata": {
    "execution": {
     "iopub.execute_input": "2023-11-10T19:21:14.632148Z",
     "iopub.status.busy": "2023-11-10T19:21:14.631765Z",
     "iopub.status.idle": "2023-11-10T19:21:15.046500Z",
     "shell.execute_reply": "2023-11-10T19:21:15.045385Z"
    },
    "papermill": {
     "duration": 0.591247,
     "end_time": "2023-11-10T19:21:15.048818",
     "exception": false,
     "start_time": "2023-11-10T19:21:14.457571",
     "status": "completed"
    },
    "tags": []
   },
   "outputs": [
    {
     "data": {
      "image/png": "[encoded data removed]",
      "text/plain": [
       "<Figure size 640x480 with 1 Axes>"
      ]
     },
     "metadata": {},
     "output_type": "display_data"
    }
   ],
   "source": [
    "plt.plot(xticks, mem['train_precision_score'])\n",
    "plt.plot(xticks, mem['valid_precision_score'])\n",
    "plt.legend(['train', 'valid'])\n",
    "plt.xlabel('epoch')\n",
    "plt.title('precision score')\n",
    "plt.show()"
   ]
  },
  {
   "cell_type": "code",
   "execution_count": 25,
   "id": "2489b2cf",
   "metadata": {
    "execution": {
     "iopub.execute_input": "2023-11-10T19:21:15.407387Z",
     "iopub.status.busy": "2023-11-10T19:21:15.406993Z",
     "iopub.status.idle": "2023-11-10T19:21:15.798514Z",
     "shell.execute_reply": "2023-11-10T19:21:15.797488Z"
    },
    "papermill": {
     "duration": 0.573617,
     "end_time": "2023-11-10T19:21:15.800578",
     "exception": false,
     "start_time": "2023-11-10T19:21:15.226961",
     "status": "completed"
    },
    "tags": []
   },
   "outputs": [
    {
     "data": {
      "image/png": "[encoded data removed]",
      "text/plain": [
       "<Figure size 640x480 with 1 Axes>"
      ]
     },
     "metadata": {},
     "output_type": "display_data"
    }
   ],
   "source": [
    "plt.plot(xticks, mem['train_f1_score'])\n",
    "plt.plot(xticks, mem['valid_f1_score'])\n",
    "plt.legend(['train', 'valid'])\n",
    "plt.xlabel('epoch')\n",
    "plt.title('f1 score')\n",
    "plt.show()"
   ]
  },
  {
   "cell_type": "code",
   "execution_count": 26,
   "id": "24827b92",
   "metadata": {
    "execution": {
     "iopub.execute_input": "2023-11-10T19:21:16.156037Z",
     "iopub.status.busy": "2023-11-10T19:21:16.155348Z",
     "iopub.status.idle": "2023-11-10T19:21:16.595141Z",
     "shell.execute_reply": "2023-11-10T19:21:16.594133Z"
    },
    "papermill": {
     "duration": 0.619871,
     "end_time": "2023-11-10T19:21:16.597357",
     "exception": false,
     "start_time": "2023-11-10T19:21:15.977486",
     "status": "completed"
    },
    "tags": []
   },
   "outputs": [
    {
     "data": {
      "image/png": "[encoded data removed]",
      "text/plain": [
       "<Figure size 640x480 with 1 Axes>"
      ]
     },
     "metadata": {},
     "output_type": "display_data"
    }
   ],
   "source": [
    "plt.plot(xticks, mem['train_auc'])\n",
    "plt.plot(xticks, mem['valid_auc'])\n",
    "plt.legend(['train', 'valid'])\n",
    "plt.xlabel('epoch')\n",
    "plt.title('auc score')\n",
    "plt.show()"
   ]
  }
 ],
 "metadata": {
  "kernelspec": {
   "display_name": "Python 3",
   "language": "python",
   "name": "python3"
  },
  "language_info": {
   "codemirror_mode": {
    "name": "ipython",
    "version": 3
   },
   "file_extension": ".py",
   "mimetype": "text/x-python",
   "name": "python",
   "nbconvert_exporter": "python",
   "pygments_lexer": "ipython3",
   "version": "3.10.12"
  },
  "papermill": {
   "default_parameters": {},
   "duration": 11448.53085,
   "end_time": "2023-11-10T19:21:20.155131",
   "environment_variables": {},
   "exception": null,
   "input_path": "__notebook__.ipynb",
   "output_path": "__notebook__.ipynb",
   "parameters": {},
   "start_time": "2023-11-10T16:10:31.624281",
   "version": "2.4.0"
  },
  "widgets": {
   "application/vnd.jupyter.widget-state+json": {
    "state": {
     "02c927c24fb3479eaed37cddecb03110": {
      "model_module": "@jupyter-widgets/base",
      "model_module_version": "1.2.0",
      "model_name": "LayoutModel",
      "state": {
       "_model_module": "@jupyter-widgets/base",
       "_model_module_version": "1.2.0",
       "_model_name": "LayoutModel",
       "_view_count": null,
       "_view_module": "@jupyter-widgets/base",
       "_view_module_version": "1.2.0",
       "_view_name": "LayoutView",
       "align_content": null,
       "align_items": null,
       "align_self": null,
       "border": null,
       "bottom": null,
       "display": null,
       "flex": null,
       "flex_flow": null,
       "grid_area": null,
       "grid_auto_columns": null,
       "grid_auto_flow": null,
       "grid_auto_rows": null,
       "grid_column": null,
       "grid_gap": null,
       "grid_row": null,
       "grid_template_areas": null,
       "grid_template_columns": null,
       "grid_template_rows": null,
       "height": null,
       "justify_content": null,
       "justify_items": null,
       "left": null,
       "margin": null,
       "max_height": null,
       "max_width": null,
       "min_height": null,
       "min_width": null,
       "object_fit": null,
       "object_position": null,
       "order": null,
       "overflow": null,
       "overflow_x": null,
       "overflow_y": null,
       "padding": null,
       "right": null,
       "top": null,
       "visibility": null,
       "width": null
      }
     },
     "0ed859f541634df2bd0dab60ab15036b": {
      "model_module": "@jupyter-widgets/controls",
      "model_module_version": "1.5.0",
      "model_name": "HTMLModel",
      "state": {
       "_dom_classes": [],
       "_model_module": "@jupyter-widgets/controls",
       "_model_module_version": "1.5.0",
       "_model_name": "HTMLModel",
       "_view_count": null,
       "_view_module": "@jupyter-widgets/controls",
       "_view_module_version": "1.5.0",
       "_view_name": "HTMLView",
       "description": "",
       "description_tooltip": null,
       "layout": "IPY_MODEL_4b661f00d6fe4e2abcb1261bbf7c21c5",
       "placeholder": "​",
       "style": "IPY_MODEL_13621382d292416e885669dde90bd3c8",
       "value": "Training: 100%"
      }
     },
     "0fff09d90ef04977b73ea5c82ce30775": {
      "model_module": "@jupyter-widgets/base",
      "model_module_version": "1.2.0",
      "model_name": "LayoutModel",
      "state": {
       "_model_module": "@jupyter-widgets/base",
       "_model_module_version": "1.2.0",
       "_model_name": "LayoutModel",
       "_view_count": null,
       "_view_module": "@jupyter-widgets/base",
       "_view_module_version": "1.2.0",
       "_view_name": "LayoutView",
       "align_content": null,
       "align_items": null,
       "align_self": null,
       "border": null,
       "bottom": null,
       "display": null,
       "flex": null,
       "flex_flow": null,
       "grid_area": null,
       "grid_auto_columns": null,
       "grid_auto_flow": null,
       "grid_auto_rows": null,
       "grid_column": null,
       "grid_gap": null,
       "grid_row": null,
       "grid_template_areas": null,
       "grid_template_columns": null,
       "grid_template_rows": null,
       "height": null,
       "justify_content": null,
       "justify_items": null,
       "left": null,
       "margin": null,
       "max_height": null,
       "max_width": null,
       "min_height": null,
       "min_width": null,
       "object_fit": null,
       "object_position": null,
       "order": null,
       "overflow": null,
       "overflow_x": null,
       "overflow_y": null,
       "padding": null,
       "right": null,
       "top": null,
       "visibility": null,
       "width": null
      }
     },
     "13621382d292416e885669dde90bd3c8": {
      "model_module": "@jupyter-widgets/controls",
      "model_module_version": "1.5.0",
      "model_name": "DescriptionStyleModel",
      "state": {
       "_model_module": "@jupyter-widgets/controls",
       "_model_module_version": "1.5.0",
       "_model_name": "DescriptionStyleModel",
       "_view_count": null,
       "_view_module": "@jupyter-widgets/base",
       "_view_module_version": "1.2.0",
       "_view_name": "StyleView",
       "description_width": ""
      }
     },
     "4b661f00d6fe4e2abcb1261bbf7c21c5": {
      "model_module": "@jupyter-widgets/base",
      "model_module_version": "1.2.0",
      "model_name": "LayoutModel",
      "state": {
       "_model_module": "@jupyter-widgets/base",
       "_model_module_version": "1.2.0",
       "_model_name": "LayoutModel",
       "_view_count": null,
       "_view_module": "@jupyter-widgets/base",
       "_view_module_version": "1.2.0",
       "_view_name": "LayoutView",
       "align_content": null,
       "align_items": null,
       "align_self": null,
       "border": null,
       "bottom": null,
       "display": null,
       "flex": null,
       "flex_flow": null,
       "grid_area": null,
       "grid_auto_columns": null,
       "grid_auto_flow": null,
       "grid_auto_rows": null,
       "grid_column": null,
       "grid_gap": null,
       "grid_row": null,
       "grid_template_areas": null,
       "grid_template_columns": null,
       "grid_template_rows": null,
       "height": null,
       "justify_content": null,
       "justify_items": null,
       "left": null,
       "margin": null,
       "max_height": null,
       "max_width": null,
       "min_height": null,
       "min_width": null,
       "object_fit": null,
       "object_position": null,
       "order": null,
       "overflow": null,
       "overflow_x": null,
       "overflow_y": null,
       "padding": null,
       "right": null,
       "top": null,
       "visibility": null,
       "width": null
      }
     },
     "52b4686d3bd84cb98a8b9043e339ea50": {
      "model_module": "@jupyter-widgets/controls",
      "model_module_version": "1.5.0",
      "model_name": "HTMLModel",
      "state": {
       "_dom_classes": [],
       "_model_module": "@jupyter-widgets/controls",
       "_model_module_version": "1.5.0",
       "_model_name": "HTMLModel",
       "_view_count": null,
       "_view_module": "@jupyter-widgets/controls",
       "_view_module_version": "1.5.0",
       "_view_name": "HTMLView",
       "description": "",
       "description_tooltip": null,
       "layout": "IPY_MODEL_d140b25ea2864316b46de135b15b7560",
       "placeholder": "​",
       "style": "IPY_MODEL_56c2b1dbf0bc416d8d642bd492e4d936",
       "value": " 15/15 [2:57:02&lt;00:00, 694.94s/it]"
      }
     },
     "56c2b1dbf0bc416d8d642bd492e4d936": {
      "model_module": "@jupyter-widgets/controls",
      "model_module_version": "1.5.0",
      "model_name": "DescriptionStyleModel",
      "state": {
       "_model_module": "@jupyter-widgets/controls",
       "_model_module_version": "1.5.0",
       "_model_name": "DescriptionStyleModel",
       "_view_count": null,
       "_view_module": "@jupyter-widgets/base",
       "_view_module_version": "1.2.0",
       "_view_name": "StyleView",
       "description_width": ""
      }
     },
     "7a96685ff55f43a9af6c60e387d98055": {
      "model_module": "@jupyter-widgets/controls",
      "model_module_version": "1.5.0",
      "model_name": "HBoxModel",
      "state": {
       "_dom_classes": [],
       "_model_module": "@jupyter-widgets/controls",
       "_model_module_version": "1.5.0",
       "_model_name": "HBoxModel",
       "_view_count": null,
       "_view_module": "@jupyter-widgets/controls",
       "_view_module_version": "1.5.0",
       "_view_name": "HBoxView",
       "box_style": "",
       "children": [
        "IPY_MODEL_0ed859f541634df2bd0dab60ab15036b",
        "IPY_MODEL_b15573f80cbf4e2eaf26b5d6e70628a7",
        "IPY_MODEL_52b4686d3bd84cb98a8b9043e339ea50"
       ],
       "layout": "IPY_MODEL_02c927c24fb3479eaed37cddecb03110"
      }
     },
     "b15573f80cbf4e2eaf26b5d6e70628a7": {
      "model_module": "@jupyter-widgets/controls",
      "model_module_version": "1.5.0",
      "model_name": "FloatProgressModel",
      "state": {
       "_dom_classes": [],
       "_model_module": "@jupyter-widgets/controls",
       "_model_module_version": "1.5.0",
       "_model_name": "FloatProgressModel",
       "_view_count": null,
       "_view_module": "@jupyter-widgets/controls",
       "_view_module_version": "1.5.0",
       "_view_name": "ProgressView",
       "bar_style": "success",
       "description": "",
       "description_tooltip": null,
       "layout": "IPY_MODEL_0fff09d90ef04977b73ea5c82ce30775",
       "max": 15.0,
       "min": 0.0,
       "orientation": "horizontal",
       "style": "IPY_MODEL_bb742f5451524690b7e761b7b9debdc0",
       "value": 15.0
      }
     },
     "bb742f5451524690b7e761b7b9debdc0": {
      "model_module": "@jupyter-widgets/controls",
      "model_module_version": "1.5.0",
      "model_name": "ProgressStyleModel",
      "state": {
       "_model_module": "@jupyter-widgets/controls",
       "_model_module_version": "1.5.0",
       "_model_name": "ProgressStyleModel",
       "_view_count": null,
       "_view_module": "@jupyter-widgets/base",
       "_view_module_version": "1.2.0",
       "_view_name": "StyleView",
       "bar_color": null,
       "description_width": ""
      }
     },
     "d140b25ea2864316b46de135b15b7560": {
      "model_module": "@jupyter-widgets/base",
      "model_module_version": "1.2.0",
      "model_name": "LayoutModel",
      "state": {
       "_model_module": "@jupyter-widgets/base",
       "_model_module_version": "1.2.0",
       "_model_name": "LayoutModel",
       "_view_count": null,
       "_view_module": "@jupyter-widgets/base",
       "_view_module_version": "1.2.0",
       "_view_name": "LayoutView",
       "align_content": null,
       "align_items": null,
       "align_self": null,
       "border": null,
       "bottom": null,
       "display": null,
       "flex": null,
       "flex_flow": null,
       "grid_area": null,
       "grid_auto_columns": null,
       "grid_auto_flow": null,
       "grid_auto_rows": null,
       "grid_column": null,
       "grid_gap": null,
       "grid_row": null,
       "grid_template_areas": null,
       "grid_template_columns": null,
       "grid_template_rows": null,
       "height": null,
       "justify_content": null,
       "justify_items": null,
       "left": null,
       "margin": null,
       "max_height": null,
       "max_width": null,
       "min_height": null,
       "min_width": null,
       "object_fit": null,
       "object_position": null,
       "order": null,
       "overflow": null,
       "overflow_x": null,
       "overflow_y": null,
       "padding": null,
       "right": null,
       "top": null,
       "visibility": null,
       "width": null
      }
     }
    },
    "version_major": 2,
    "version_minor": 0
   }
  }
 },
 "nbformat": 4,
 "nbformat_minor": 5
}
